{
 "cells": [
  {
   "cell_type": "markdown",
   "metadata": {},
   "source": [
    "<font color=\"black\"><font size=\"7\"><br>\n",
    "     Projet 5 - Marketing Segmentation - EDA \n",
    "</font>\n",
    "    "
   ]
  },
  {
   "cell_type": "code",
   "execution_count": 1,
   "metadata": {},
   "outputs": [],
   "source": [
    "import pandas as pd\n",
    "import numpy as np\n",
    "import matplotlib.pyplot as plt\n",
    "import seaborn as sns\n",
    "\n",
    "from sklearn.preprocessing import LabelEncoder, OrdinalEncoder, StandardScaler \n",
    "from sklearn.preprocessing import QuantileTransformer, MinMaxScaler, RobustScaler\n",
    "import category_encoders as ce\n",
    "\n",
    "from sklearn.decomposition import PCA\n",
    "\n",
    "from sklearn.impute import SimpleImputer\n",
    "from sklearn.discriminant_analysis import LinearDiscriminantAnalysis\n",
    "\n",
    "\n",
    "%matplotlib inline"
   ]
  },
  {
   "cell_type": "markdown",
   "metadata": {},
   "source": [
    "# Importing data"
   ]
  },
  {
   "cell_type": "markdown",
   "metadata": {},
   "source": [
    "## Customers dataset"
   ]
  },
  {
   "cell_type": "code",
   "execution_count": 2,
   "metadata": {},
   "outputs": [],
   "source": [
    "df_customers = pd.read_csv('data/olist_customers_dataset.csv')"
   ]
  },
  {
   "cell_type": "code",
   "execution_count": 3,
   "metadata": {},
   "outputs": [
    {
     "data": {
      "text/plain": [
       "(99441, 5)"
      ]
     },
     "execution_count": 3,
     "metadata": {},
     "output_type": "execute_result"
    }
   ],
   "source": [
    "df_customers.shape"
   ]
  },
  {
   "cell_type": "code",
   "execution_count": 4,
   "metadata": {},
   "outputs": [
    {
     "data": {
      "text/html": [
       "<div>\n",
       "<style scoped>\n",
       "    .dataframe tbody tr th:only-of-type {\n",
       "        vertical-align: middle;\n",
       "    }\n",
       "\n",
       "    .dataframe tbody tr th {\n",
       "        vertical-align: top;\n",
       "    }\n",
       "\n",
       "    .dataframe thead th {\n",
       "        text-align: right;\n",
       "    }\n",
       "</style>\n",
       "<table border=\"1\" class=\"dataframe\">\n",
       "  <thead>\n",
       "    <tr style=\"text-align: right;\">\n",
       "      <th></th>\n",
       "      <th>customer_id</th>\n",
       "      <th>customer_unique_id</th>\n",
       "      <th>customer_zip_code_prefix</th>\n",
       "      <th>customer_city</th>\n",
       "      <th>customer_state</th>\n",
       "    </tr>\n",
       "  </thead>\n",
       "  <tbody>\n",
       "    <tr>\n",
       "      <th>0</th>\n",
       "      <td>06b8999e2fba1a1fbc88172c00ba8bc7</td>\n",
       "      <td>861eff4711a542e4b93843c6dd7febb0</td>\n",
       "      <td>14409</td>\n",
       "      <td>franca</td>\n",
       "      <td>SP</td>\n",
       "    </tr>\n",
       "    <tr>\n",
       "      <th>1</th>\n",
       "      <td>18955e83d337fd6b2def6b18a428ac77</td>\n",
       "      <td>290c77bc529b7ac935b93aa66c333dc3</td>\n",
       "      <td>9790</td>\n",
       "      <td>sao bernardo do campo</td>\n",
       "      <td>SP</td>\n",
       "    </tr>\n",
       "    <tr>\n",
       "      <th>2</th>\n",
       "      <td>4e7b3e00288586ebd08712fdd0374a03</td>\n",
       "      <td>060e732b5b29e8181a18229c7b0b2b5e</td>\n",
       "      <td>1151</td>\n",
       "      <td>sao paulo</td>\n",
       "      <td>SP</td>\n",
       "    </tr>\n",
       "    <tr>\n",
       "      <th>3</th>\n",
       "      <td>b2b6027bc5c5109e529d4dc6358b12c3</td>\n",
       "      <td>259dac757896d24d7702b9acbbff3f3c</td>\n",
       "      <td>8775</td>\n",
       "      <td>mogi das cruzes</td>\n",
       "      <td>SP</td>\n",
       "    </tr>\n",
       "    <tr>\n",
       "      <th>4</th>\n",
       "      <td>4f2d8ab171c80ec8364f7c12e35b23ad</td>\n",
       "      <td>345ecd01c38d18a9036ed96c73b8d066</td>\n",
       "      <td>13056</td>\n",
       "      <td>campinas</td>\n",
       "      <td>SP</td>\n",
       "    </tr>\n",
       "  </tbody>\n",
       "</table>\n",
       "</div>"
      ],
      "text/plain": [
       "                        customer_id                customer_unique_id  \\\n",
       "0  06b8999e2fba1a1fbc88172c00ba8bc7  861eff4711a542e4b93843c6dd7febb0   \n",
       "1  18955e83d337fd6b2def6b18a428ac77  290c77bc529b7ac935b93aa66c333dc3   \n",
       "2  4e7b3e00288586ebd08712fdd0374a03  060e732b5b29e8181a18229c7b0b2b5e   \n",
       "3  b2b6027bc5c5109e529d4dc6358b12c3  259dac757896d24d7702b9acbbff3f3c   \n",
       "4  4f2d8ab171c80ec8364f7c12e35b23ad  345ecd01c38d18a9036ed96c73b8d066   \n",
       "\n",
       "   customer_zip_code_prefix          customer_city customer_state  \n",
       "0                     14409                 franca             SP  \n",
       "1                      9790  sao bernardo do campo             SP  \n",
       "2                      1151              sao paulo             SP  \n",
       "3                      8775        mogi das cruzes             SP  \n",
       "4                     13056               campinas             SP  "
      ]
     },
     "execution_count": 4,
     "metadata": {},
     "output_type": "execute_result"
    }
   ],
   "source": [
    "df_customers.head()"
   ]
  },
  {
   "cell_type": "markdown",
   "metadata": {},
   "source": [
    "### Missing values"
   ]
  },
  {
   "cell_type": "code",
   "execution_count": 5,
   "metadata": {},
   "outputs": [
    {
     "data": {
      "text/plain": [
       "customer_id                 0\n",
       "customer_unique_id          0\n",
       "customer_zip_code_prefix    0\n",
       "customer_city               0\n",
       "customer_state              0\n",
       "dtype: int64"
      ]
     },
     "execution_count": 5,
     "metadata": {},
     "output_type": "execute_result"
    }
   ],
   "source": [
    "df_customers.isna().sum()"
   ]
  },
  {
   "cell_type": "markdown",
   "metadata": {},
   "source": [
    "### EDA"
   ]
  },
  {
   "cell_type": "code",
   "execution_count": 6,
   "metadata": {},
   "outputs": [
    {
     "data": {
      "image/png": "[encoded data removed]",
      "text/plain": [
       "<Figure size 1008x504 with 1 Axes>"
      ]
     },
     "metadata": {
      "needs_background": "light"
     },
     "output_type": "display_data"
    }
   ],
   "source": [
    "plt.figure(figsize=(14, 7))\n",
    "plt.bar(df_customers['customer_city'].value_counts().head(15).index,\n",
    "        height=df_customers['customer_city'].value_counts().head(15).values)\n",
    "plt.xticks(rotation=45)\n",
    "plt.title('Customer city distribution')\n",
    "plt.show()"
   ]
  },
  {
   "cell_type": "code",
   "execution_count": 7,
   "metadata": {},
   "outputs": [
    {
     "data": {
      "image/png": "[encoded data removed]",
      "text/plain": [
       "<Figure size 1008x504 with 1 Axes>"
      ]
     },
     "metadata": {},
     "output_type": "display_data"
    }
   ],
   "source": [
    "plt.figure(figsize=(14, 7))\n",
    "plt.pie(labels=df_customers['customer_state'].value_counts().index,\n",
    "        x=df_customers['customer_state'].value_counts()/df_customers.shape[0])\n",
    "plt.xticks(rotation=45)\n",
    "plt.title('Customer state percentage')\n",
    "plt.show()"
   ]
  },
  {
   "cell_type": "code",
   "execution_count": 8,
   "metadata": {},
   "outputs": [
    {
     "data": {
      "text/plain": [
       "SP    0.419807\n",
       "RJ    0.549049\n",
       "MG    0.666053\n",
       "RS    0.721021\n",
       "PR    0.771754\n",
       "SC    0.808329\n",
       "BA    0.842319\n",
       "DF    0.863839\n",
       "ES    0.884283\n",
       "GO    0.904597\n",
       "PE    0.921210\n",
       "CE    0.934645\n",
       "PA    0.944449\n",
       "MT    0.953570\n",
       "MA    0.961082\n",
       "MS    0.968273\n",
       "PB    0.973663\n",
       "PI    0.978641\n",
       "RN    0.983518\n",
       "AL    0.987671\n",
       "SE    0.991191\n",
       "TO    0.994006\n",
       "RO    0.996551\n",
       "AM    0.998039\n",
       "AC    0.998854\n",
       "AP    0.999537\n",
       "RR    1.000000\n",
       "Name: customer_state, dtype: float64"
      ]
     },
     "execution_count": 8,
     "metadata": {},
     "output_type": "execute_result"
    }
   ],
   "source": [
    "(df_customers['customer_state'].value_counts()/df_customers.shape[0]).cumsum()"
   ]
  },
  {
   "cell_type": "markdown",
   "metadata": {},
   "source": [
    "## Orders dataset"
   ]
  },
  {
   "cell_type": "code",
   "execution_count": 9,
   "metadata": {},
   "outputs": [],
   "source": [
    "df_orders = pd.read_csv('data/olist_orders_dataset.csv',\n",
    "                        parse_dates=[3, 4, 5, 6, 7])"
   ]
  },
  {
   "cell_type": "code",
   "execution_count": 10,
   "metadata": {},
   "outputs": [
    {
     "data": {
      "text/plain": [
       "(99441, 8)"
      ]
     },
     "execution_count": 10,
     "metadata": {},
     "output_type": "execute_result"
    }
   ],
   "source": [
    "df_orders.shape"
   ]
  },
  {
   "cell_type": "code",
   "execution_count": 11,
   "metadata": {},
   "outputs": [
    {
     "name": "stderr",
     "output_type": "stream",
     "text": [
      "<ipython-input-11-83a2d15399db>:1: FutureWarning: Treating datetime data as categorical rather than numeric in `.describe` is deprecated and will be removed in a future version of pandas. Specify `datetime_is_numeric=True` to silence this warning and adopt the future behavior now.\n",
      "  df_orders['order_purchase_timestamp'].describe()\n"
     ]
    },
    {
     "data": {
      "text/plain": [
       "count                   99441\n",
       "unique                  98875\n",
       "top       2018-03-31 15:08:21\n",
       "freq                        3\n",
       "first     2016-09-04 21:15:19\n",
       "last      2018-10-17 17:30:18\n",
       "Name: order_purchase_timestamp, dtype: object"
      ]
     },
     "execution_count": 11,
     "metadata": {},
     "output_type": "execute_result"
    }
   ],
   "source": [
    "df_orders['order_purchase_timestamp'].describe()"
   ]
  },
  {
   "cell_type": "code",
   "execution_count": 12,
   "metadata": {},
   "outputs": [
    {
     "data": {
      "text/plain": [
       "(99441,)"
      ]
     },
     "execution_count": 12,
     "metadata": {},
     "output_type": "execute_result"
    }
   ],
   "source": [
    "df_orders['customer_id'].unique().shape"
   ]
  },
  {
   "cell_type": "markdown",
   "metadata": {},
   "source": [
    "### Missing values"
   ]
  },
  {
   "cell_type": "code",
   "execution_count": 13,
   "metadata": {},
   "outputs": [
    {
     "data": {
      "text/plain": [
       "order_id                            0\n",
       "customer_id                         0\n",
       "order_status                        0\n",
       "order_purchase_timestamp            0\n",
       "order_approved_at                 160\n",
       "order_delivered_carrier_date     1783\n",
       "order_delivered_customer_date    2965\n",
       "order_estimated_delivery_date       0\n",
       "dtype: int64"
      ]
     },
     "execution_count": 13,
     "metadata": {},
     "output_type": "execute_result"
    }
   ],
   "source": [
    "df_orders.isna().sum()"
   ]
  },
  {
   "cell_type": "markdown",
   "metadata": {},
   "source": [
    "### Feature engineering"
   ]
  },
  {
   "cell_type": "markdown",
   "metadata": {},
   "source": [
    "get Quarters and years"
   ]
  },
  {
   "cell_type": "code",
   "execution_count": 14,
   "metadata": {},
   "outputs": [],
   "source": [
    "df_orders[\"quarter\"] = df_orders[\"order_purchase_timestamp\"].dt.to_period('Q')"
   ]
  },
  {
   "cell_type": "markdown",
   "metadata": {},
   "source": [
    "Get weekdays of purchase"
   ]
  },
  {
   "cell_type": "code",
   "execution_count": 15,
   "metadata": {},
   "outputs": [],
   "source": [
    "df_orders[\"purchase_weekday\"] = df_orders[\"order_purchase_timestamp\"].dt.day_name()"
   ]
  },
  {
   "cell_type": "markdown",
   "metadata": {},
   "source": [
    "Get period of the day of purchase"
   ]
  },
  {
   "cell_type": "code",
   "execution_count": 16,
   "metadata": {},
   "outputs": [],
   "source": [
    "df_orders['purchase_period'] = df_orders['order_purchase_timestamp'].dt.hour//6"
   ]
  },
  {
   "cell_type": "markdown",
   "metadata": {},
   "source": [
    "Difference between etimated delivery and actual delivery"
   ]
  },
  {
   "cell_type": "code",
   "execution_count": 17,
   "metadata": {},
   "outputs": [],
   "source": [
    "df_orders['delivery_difference_time'] = df_orders['order_delivered_customer_date'] - \\\n",
    "    df_orders['order_estimated_delivery_date']"
   ]
  },
  {
   "cell_type": "code",
   "execution_count": 18,
   "metadata": {},
   "outputs": [],
   "source": [
    "df_orders['delivery_difference_time'] = df_orders['delivery_difference_time'].dt.components['days']"
   ]
  },
  {
   "cell_type": "code",
   "execution_count": 19,
   "metadata": {},
   "outputs": [
    {
     "data": {
      "text/plain": [
       "0        -8.0\n",
       "1        -6.0\n",
       "2       -18.0\n",
       "3       -13.0\n",
       "4       -10.0\n",
       "         ... \n",
       "99436   -11.0\n",
       "99437    -2.0\n",
       "99438    -6.0\n",
       "99439   -21.0\n",
       "99440   -18.0\n",
       "Name: delivery_difference_time, Length: 99441, dtype: float64"
      ]
     },
     "execution_count": 19,
     "metadata": {},
     "output_type": "execute_result"
    }
   ],
   "source": [
    "df_orders['delivery_difference_time']"
   ]
  },
  {
   "cell_type": "markdown",
   "metadata": {},
   "source": [
    "get recency"
   ]
  },
  {
   "cell_type": "code",
   "execution_count": 20,
   "metadata": {},
   "outputs": [],
   "source": [
    "last_order = df_orders['order_purchase_timestamp'].max()"
   ]
  },
  {
   "cell_type": "code",
   "execution_count": 21,
   "metadata": {},
   "outputs": [],
   "source": [
    "df_orders['recency'] = last_order - df_orders['order_purchase_timestamp']"
   ]
  },
  {
   "cell_type": "code",
   "execution_count": 22,
   "metadata": {},
   "outputs": [],
   "source": [
    "df_orders['recency'] = df_orders['recency'].dt.total_seconds()//86400"
   ]
  },
  {
   "cell_type": "markdown",
   "metadata": {},
   "source": [
    "### EDA"
   ]
  },
  {
   "cell_type": "code",
   "execution_count": 23,
   "metadata": {},
   "outputs": [
    {
     "data": {
      "image/png": "[encoded data removed]",
      "text/plain": [
       "<Figure size 432x288 with 1 Axes>"
      ]
     },
     "metadata": {
      "needs_background": "light"
     },
     "output_type": "display_data"
    }
   ],
   "source": [
    "plt.hist(df_orders['delivery_difference_time'], bins=50)\n",
    "plt.show()"
   ]
  },
  {
   "cell_type": "code",
   "execution_count": 24,
   "metadata": {},
   "outputs": [
    {
     "data": {
      "text/plain": [
       "188.0"
      ]
     },
     "execution_count": 24,
     "metadata": {},
     "output_type": "execute_result"
    }
   ],
   "source": [
    "df_orders['delivery_difference_time'].max()"
   ]
  },
  {
   "cell_type": "code",
   "execution_count": 25,
   "metadata": {},
   "outputs": [
    {
     "data": {
      "text/plain": [
       "-147.0"
      ]
     },
     "execution_count": 25,
     "metadata": {},
     "output_type": "execute_result"
    }
   ],
   "source": [
    "df_orders['delivery_difference_time'].min()"
   ]
  },
  {
   "cell_type": "code",
   "execution_count": 26,
   "metadata": {},
   "outputs": [
    {
     "data": {
      "image/png": "[encoded data removed]",
      "text/plain": [
       "<Figure size 720x360 with 1 Axes>"
      ]
     },
     "metadata": {
      "needs_background": "light"
     },
     "output_type": "display_data"
    }
   ],
   "source": [
    "plt.figure(figsize=(10, 5))\n",
    "plt.hist(df_orders['purchase_period'])\n",
    "plt.title('period of the day purchase distribution')\n",
    "plt.xticks(ticks=[0, 1, 2, 3], labels=['Night', 'AM', 'PM', 'Evening'])\n",
    "plt.show()"
   ]
  },
  {
   "cell_type": "code",
   "execution_count": 27,
   "metadata": {},
   "outputs": [
    {
     "data": {
      "image/png": "[encoded data removed]",
      "text/plain": [
       "<Figure size 720x360 with 1 Axes>"
      ]
     },
     "metadata": {
      "needs_background": "light"
     },
     "output_type": "display_data"
    }
   ],
   "source": [
    "plt.figure(figsize=(10, 5))\n",
    "plt.bar(df_orders.groupby(['purchase_weekday']).count()['order_id'].sort_values(ascending=False).index,\n",
    "        height=df_orders.groupby(['purchase_weekday']).count()['order_id'].sort_values(ascending=False).values)\n",
    "plt.title('weekday purchase distribution')\n",
    "plt.show()"
   ]
  },
  {
   "cell_type": "code",
   "execution_count": 28,
   "metadata": {},
   "outputs": [],
   "source": [
    "A = df_orders.groupby(['purchase_weekday', 'purchase_period']).count()[\n",
    "    'order_id']"
   ]
  },
  {
   "cell_type": "code",
   "execution_count": 29,
   "metadata": {},
   "outputs": [
    {
     "data": {
      "image/png": "[encoded data removed]",
      "text/plain": [
       "<Figure size 720x288 with 1 Axes>"
      ]
     },
     "metadata": {
      "needs_background": "light"
     },
     "output_type": "display_data"
    }
   ],
   "source": [
    "A.plot.bar(x='count', figsize=(10, 4))\n",
    "plt.title('weekday and time of day purchase')\n",
    "plt.xticks(rotation=45)\n",
    "plt.show()"
   ]
  },
  {
   "cell_type": "code",
   "execution_count": 30,
   "metadata": {},
   "outputs": [
    {
     "data": {
      "text/html": [
       "<div>\n",
       "<style scoped>\n",
       "    .dataframe tbody tr th:only-of-type {\n",
       "        vertical-align: middle;\n",
       "    }\n",
       "\n",
       "    .dataframe tbody tr th {\n",
       "        vertical-align: top;\n",
       "    }\n",
       "\n",
       "    .dataframe thead th {\n",
       "        text-align: right;\n",
       "    }\n",
       "</style>\n",
       "<table border=\"1\" class=\"dataframe\">\n",
       "  <thead>\n",
       "    <tr style=\"text-align: right;\">\n",
       "      <th></th>\n",
       "      <th>purchase_period</th>\n",
       "      <th>delivery_difference_time</th>\n",
       "      <th>recency</th>\n",
       "    </tr>\n",
       "  </thead>\n",
       "  <tbody>\n",
       "    <tr>\n",
       "      <th>count</th>\n",
       "      <td>99441.000000</td>\n",
       "      <td>96476.000000</td>\n",
       "      <td>99441.000000</td>\n",
       "    </tr>\n",
       "    <tr>\n",
       "      <th>mean</th>\n",
       "      <td>2.023934</td>\n",
       "      <td>-11.876881</td>\n",
       "      <td>289.900192</td>\n",
       "    </tr>\n",
       "    <tr>\n",
       "      <th>std</th>\n",
       "      <td>0.869866</td>\n",
       "      <td>10.183854</td>\n",
       "      <td>153.667316</td>\n",
       "    </tr>\n",
       "    <tr>\n",
       "      <th>min</th>\n",
       "      <td>0.000000</td>\n",
       "      <td>-147.000000</td>\n",
       "      <td>0.000000</td>\n",
       "    </tr>\n",
       "    <tr>\n",
       "      <th>25%</th>\n",
       "      <td>1.000000</td>\n",
       "      <td>-17.000000</td>\n",
       "      <td>166.000000</td>\n",
       "    </tr>\n",
       "    <tr>\n",
       "      <th>50%</th>\n",
       "      <td>2.000000</td>\n",
       "      <td>-12.000000</td>\n",
       "      <td>271.000000</td>\n",
       "    </tr>\n",
       "    <tr>\n",
       "      <th>75%</th>\n",
       "      <td>3.000000</td>\n",
       "      <td>-7.000000</td>\n",
       "      <td>400.000000</td>\n",
       "    </tr>\n",
       "    <tr>\n",
       "      <th>max</th>\n",
       "      <td>3.000000</td>\n",
       "      <td>188.000000</td>\n",
       "      <td>772.000000</td>\n",
       "    </tr>\n",
       "  </tbody>\n",
       "</table>\n",
       "</div>"
      ],
      "text/plain": [
       "       purchase_period  delivery_difference_time       recency\n",
       "count     99441.000000              96476.000000  99441.000000\n",
       "mean          2.023934                -11.876881    289.900192\n",
       "std           0.869866                 10.183854    153.667316\n",
       "min           0.000000               -147.000000      0.000000\n",
       "25%           1.000000                -17.000000    166.000000\n",
       "50%           2.000000                -12.000000    271.000000\n",
       "75%           3.000000                 -7.000000    400.000000\n",
       "max           3.000000                188.000000    772.000000"
      ]
     },
     "execution_count": 30,
     "metadata": {},
     "output_type": "execute_result"
    }
   ],
   "source": [
    "df_orders.describe()"
   ]
  },
  {
   "cell_type": "markdown",
   "metadata": {},
   "source": [
    "### Joining datasets"
   ]
  },
  {
   "cell_type": "code",
   "execution_count": 31,
   "metadata": {},
   "outputs": [],
   "source": [
    "master = df_customers.join(\n",
    "    df_orders.set_index('customer_id'), on='customer_id')"
   ]
  },
  {
   "cell_type": "code",
   "execution_count": 32,
   "metadata": {},
   "outputs": [
    {
     "data": {
      "text/plain": [
       "(99441, 17)"
      ]
     },
     "execution_count": 32,
     "metadata": {},
     "output_type": "execute_result"
    }
   ],
   "source": [
    "master.shape"
   ]
  },
  {
   "cell_type": "code",
   "execution_count": 33,
   "metadata": {},
   "outputs": [
    {
     "data": {
      "text/html": [
       "<div>\n",
       "<style scoped>\n",
       "    .dataframe tbody tr th:only-of-type {\n",
       "        vertical-align: middle;\n",
       "    }\n",
       "\n",
       "    .dataframe tbody tr th {\n",
       "        vertical-align: top;\n",
       "    }\n",
       "\n",
       "    .dataframe thead th {\n",
       "        text-align: right;\n",
       "    }\n",
       "</style>\n",
       "<table border=\"1\" class=\"dataframe\">\n",
       "  <thead>\n",
       "    <tr style=\"text-align: right;\">\n",
       "      <th></th>\n",
       "      <th>customer_id</th>\n",
       "      <th>customer_unique_id</th>\n",
       "      <th>customer_zip_code_prefix</th>\n",
       "      <th>customer_city</th>\n",
       "      <th>customer_state</th>\n",
       "      <th>order_id</th>\n",
       "      <th>order_status</th>\n",
       "      <th>order_purchase_timestamp</th>\n",
       "      <th>order_approved_at</th>\n",
       "      <th>order_delivered_carrier_date</th>\n",
       "      <th>order_delivered_customer_date</th>\n",
       "      <th>order_estimated_delivery_date</th>\n",
       "      <th>quarter</th>\n",
       "      <th>purchase_weekday</th>\n",
       "      <th>purchase_period</th>\n",
       "      <th>delivery_difference_time</th>\n",
       "      <th>recency</th>\n",
       "    </tr>\n",
       "  </thead>\n",
       "  <tbody>\n",
       "    <tr>\n",
       "      <th>0</th>\n",
       "      <td>06b8999e2fba1a1fbc88172c00ba8bc7</td>\n",
       "      <td>861eff4711a542e4b93843c6dd7febb0</td>\n",
       "      <td>14409</td>\n",
       "      <td>franca</td>\n",
       "      <td>SP</td>\n",
       "      <td>00e7ee1b050b8499577073aeb2a297a1</td>\n",
       "      <td>delivered</td>\n",
       "      <td>2017-05-16 15:05:35</td>\n",
       "      <td>2017-05-16 15:22:12</td>\n",
       "      <td>2017-05-23 10:47:57</td>\n",
       "      <td>2017-05-25 10:35:35</td>\n",
       "      <td>2017-06-05</td>\n",
       "      <td>2017Q2</td>\n",
       "      <td>Tuesday</td>\n",
       "      <td>2</td>\n",
       "      <td>-11.0</td>\n",
       "      <td>519.0</td>\n",
       "    </tr>\n",
       "    <tr>\n",
       "      <th>1</th>\n",
       "      <td>18955e83d337fd6b2def6b18a428ac77</td>\n",
       "      <td>290c77bc529b7ac935b93aa66c333dc3</td>\n",
       "      <td>9790</td>\n",
       "      <td>sao bernardo do campo</td>\n",
       "      <td>SP</td>\n",
       "      <td>29150127e6685892b6eab3eec79f59c7</td>\n",
       "      <td>delivered</td>\n",
       "      <td>2018-01-12 20:48:24</td>\n",
       "      <td>2018-01-12 20:58:32</td>\n",
       "      <td>2018-01-15 17:14:59</td>\n",
       "      <td>2018-01-29 12:41:19</td>\n",
       "      <td>2018-02-06</td>\n",
       "      <td>2018Q1</td>\n",
       "      <td>Friday</td>\n",
       "      <td>3</td>\n",
       "      <td>-8.0</td>\n",
       "      <td>277.0</td>\n",
       "    </tr>\n",
       "    <tr>\n",
       "      <th>2</th>\n",
       "      <td>4e7b3e00288586ebd08712fdd0374a03</td>\n",
       "      <td>060e732b5b29e8181a18229c7b0b2b5e</td>\n",
       "      <td>1151</td>\n",
       "      <td>sao paulo</td>\n",
       "      <td>SP</td>\n",
       "      <td>b2059ed67ce144a36e2aa97d2c9e9ad2</td>\n",
       "      <td>delivered</td>\n",
       "      <td>2018-05-19 16:07:45</td>\n",
       "      <td>2018-05-20 16:19:10</td>\n",
       "      <td>2018-06-11 14:31:00</td>\n",
       "      <td>2018-06-14 17:58:51</td>\n",
       "      <td>2018-06-13</td>\n",
       "      <td>2018Q2</td>\n",
       "      <td>Saturday</td>\n",
       "      <td>2</td>\n",
       "      <td>1.0</td>\n",
       "      <td>151.0</td>\n",
       "    </tr>\n",
       "    <tr>\n",
       "      <th>3</th>\n",
       "      <td>b2b6027bc5c5109e529d4dc6358b12c3</td>\n",
       "      <td>259dac757896d24d7702b9acbbff3f3c</td>\n",
       "      <td>8775</td>\n",
       "      <td>mogi das cruzes</td>\n",
       "      <td>SP</td>\n",
       "      <td>951670f92359f4fe4a63112aa7306eba</td>\n",
       "      <td>delivered</td>\n",
       "      <td>2018-03-13 16:06:38</td>\n",
       "      <td>2018-03-13 17:29:19</td>\n",
       "      <td>2018-03-27 23:22:42</td>\n",
       "      <td>2018-03-28 16:04:25</td>\n",
       "      <td>2018-04-10</td>\n",
       "      <td>2018Q1</td>\n",
       "      <td>Tuesday</td>\n",
       "      <td>2</td>\n",
       "      <td>-13.0</td>\n",
       "      <td>218.0</td>\n",
       "    </tr>\n",
       "    <tr>\n",
       "      <th>4</th>\n",
       "      <td>4f2d8ab171c80ec8364f7c12e35b23ad</td>\n",
       "      <td>345ecd01c38d18a9036ed96c73b8d066</td>\n",
       "      <td>13056</td>\n",
       "      <td>campinas</td>\n",
       "      <td>SP</td>\n",
       "      <td>6b7d50bd145f6fc7f33cebabd7e49d0f</td>\n",
       "      <td>delivered</td>\n",
       "      <td>2018-07-29 09:51:30</td>\n",
       "      <td>2018-07-29 10:10:09</td>\n",
       "      <td>2018-07-30 15:16:00</td>\n",
       "      <td>2018-08-09 20:55:48</td>\n",
       "      <td>2018-08-15</td>\n",
       "      <td>2018Q3</td>\n",
       "      <td>Sunday</td>\n",
       "      <td>1</td>\n",
       "      <td>-6.0</td>\n",
       "      <td>80.0</td>\n",
       "    </tr>\n",
       "    <tr>\n",
       "      <th>...</th>\n",
       "      <td>...</td>\n",
       "      <td>...</td>\n",
       "      <td>...</td>\n",
       "      <td>...</td>\n",
       "      <td>...</td>\n",
       "      <td>...</td>\n",
       "      <td>...</td>\n",
       "      <td>...</td>\n",
       "      <td>...</td>\n",
       "      <td>...</td>\n",
       "      <td>...</td>\n",
       "      <td>...</td>\n",
       "      <td>...</td>\n",
       "      <td>...</td>\n",
       "      <td>...</td>\n",
       "      <td>...</td>\n",
       "      <td>...</td>\n",
       "    </tr>\n",
       "    <tr>\n",
       "      <th>99436</th>\n",
       "      <td>17ddf5dd5d51696bb3d7c6291687be6f</td>\n",
       "      <td>1a29b476fee25c95fbafc67c5ac95cf8</td>\n",
       "      <td>3937</td>\n",
       "      <td>sao paulo</td>\n",
       "      <td>SP</td>\n",
       "      <td>6760e20addcf0121e9d58f2f1ff14298</td>\n",
       "      <td>delivered</td>\n",
       "      <td>2018-04-07 15:48:17</td>\n",
       "      <td>2018-04-07 16:08:45</td>\n",
       "      <td>2018-04-11 02:08:36</td>\n",
       "      <td>2018-04-13 20:06:37</td>\n",
       "      <td>2018-04-25</td>\n",
       "      <td>2018Q2</td>\n",
       "      <td>Saturday</td>\n",
       "      <td>2</td>\n",
       "      <td>-12.0</td>\n",
       "      <td>193.0</td>\n",
       "    </tr>\n",
       "    <tr>\n",
       "      <th>99437</th>\n",
       "      <td>e7b71a9017aa05c9a7fd292d714858e8</td>\n",
       "      <td>d52a67c98be1cf6a5c84435bd38d095d</td>\n",
       "      <td>6764</td>\n",
       "      <td>taboao da serra</td>\n",
       "      <td>SP</td>\n",
       "      <td>9ec0c8947d973db4f4e8dcf1fbfa8f1b</td>\n",
       "      <td>delivered</td>\n",
       "      <td>2018-04-04 08:20:22</td>\n",
       "      <td>2018-04-04 08:35:12</td>\n",
       "      <td>2018-04-05 18:42:35</td>\n",
       "      <td>2018-04-11 18:54:45</td>\n",
       "      <td>2018-04-20</td>\n",
       "      <td>2018Q2</td>\n",
       "      <td>Wednesday</td>\n",
       "      <td>1</td>\n",
       "      <td>-9.0</td>\n",
       "      <td>196.0</td>\n",
       "    </tr>\n",
       "    <tr>\n",
       "      <th>99438</th>\n",
       "      <td>5e28dfe12db7fb50a4b2f691faecea5e</td>\n",
       "      <td>e9f50caf99f032f0bf3c55141f019d99</td>\n",
       "      <td>60115</td>\n",
       "      <td>fortaleza</td>\n",
       "      <td>CE</td>\n",
       "      <td>fed4434add09a6f332ea398efd656a5c</td>\n",
       "      <td>delivered</td>\n",
       "      <td>2018-04-08 20:11:50</td>\n",
       "      <td>2018-04-08 20:30:03</td>\n",
       "      <td>2018-04-09 17:52:17</td>\n",
       "      <td>2018-05-09 19:03:15</td>\n",
       "      <td>2018-05-02</td>\n",
       "      <td>2018Q2</td>\n",
       "      <td>Sunday</td>\n",
       "      <td>3</td>\n",
       "      <td>7.0</td>\n",
       "      <td>191.0</td>\n",
       "    </tr>\n",
       "    <tr>\n",
       "      <th>99439</th>\n",
       "      <td>56b18e2166679b8a959d72dd06da27f9</td>\n",
       "      <td>73c2643a0a458b49f58cea58833b192e</td>\n",
       "      <td>92120</td>\n",
       "      <td>canoas</td>\n",
       "      <td>RS</td>\n",
       "      <td>e31ec91cea1ecf97797787471f98a8c2</td>\n",
       "      <td>delivered</td>\n",
       "      <td>2017-11-03 21:08:33</td>\n",
       "      <td>2017-11-03 21:31:20</td>\n",
       "      <td>2017-11-06 18:24:41</td>\n",
       "      <td>2017-11-16 19:58:39</td>\n",
       "      <td>2017-12-05</td>\n",
       "      <td>2017Q4</td>\n",
       "      <td>Friday</td>\n",
       "      <td>3</td>\n",
       "      <td>-19.0</td>\n",
       "      <td>347.0</td>\n",
       "    </tr>\n",
       "    <tr>\n",
       "      <th>99440</th>\n",
       "      <td>274fa6071e5e17fe303b9748641082c8</td>\n",
       "      <td>84732c5050c01db9b23e19ba39899398</td>\n",
       "      <td>6703</td>\n",
       "      <td>cotia</td>\n",
       "      <td>SP</td>\n",
       "      <td>28db69209a75e59f20ccbb5c36a20b90</td>\n",
       "      <td>delivered</td>\n",
       "      <td>2017-12-19 14:27:23</td>\n",
       "      <td>2017-12-19 18:50:39</td>\n",
       "      <td>2017-12-21 19:17:21</td>\n",
       "      <td>2017-12-26 18:42:36</td>\n",
       "      <td>2018-01-08</td>\n",
       "      <td>2017Q4</td>\n",
       "      <td>Tuesday</td>\n",
       "      <td>2</td>\n",
       "      <td>-13.0</td>\n",
       "      <td>302.0</td>\n",
       "    </tr>\n",
       "  </tbody>\n",
       "</table>\n",
       "<p>99441 rows × 17 columns</p>\n",
       "</div>"
      ],
      "text/plain": [
       "                            customer_id                customer_unique_id  \\\n",
       "0      06b8999e2fba1a1fbc88172c00ba8bc7  861eff4711a542e4b93843c6dd7febb0   \n",
       "1      18955e83d337fd6b2def6b18a428ac77  290c77bc529b7ac935b93aa66c333dc3   \n",
       "2      4e7b3e00288586ebd08712fdd0374a03  060e732b5b29e8181a18229c7b0b2b5e   \n",
       "3      b2b6027bc5c5109e529d4dc6358b12c3  259dac757896d24d7702b9acbbff3f3c   \n",
       "4      4f2d8ab171c80ec8364f7c12e35b23ad  345ecd01c38d18a9036ed96c73b8d066   \n",
       "...                                 ...                               ...   \n",
       "99436  17ddf5dd5d51696bb3d7c6291687be6f  1a29b476fee25c95fbafc67c5ac95cf8   \n",
       "99437  e7b71a9017aa05c9a7fd292d714858e8  d52a67c98be1cf6a5c84435bd38d095d   \n",
       "99438  5e28dfe12db7fb50a4b2f691faecea5e  e9f50caf99f032f0bf3c55141f019d99   \n",
       "99439  56b18e2166679b8a959d72dd06da27f9  73c2643a0a458b49f58cea58833b192e   \n",
       "99440  274fa6071e5e17fe303b9748641082c8  84732c5050c01db9b23e19ba39899398   \n",
       "\n",
       "       customer_zip_code_prefix          customer_city customer_state  \\\n",
       "0                         14409                 franca             SP   \n",
       "1                          9790  sao bernardo do campo             SP   \n",
       "2                          1151              sao paulo             SP   \n",
       "3                          8775        mogi das cruzes             SP   \n",
       "4                         13056               campinas             SP   \n",
       "...                         ...                    ...            ...   \n",
       "99436                      3937              sao paulo             SP   \n",
       "99437                      6764        taboao da serra             SP   \n",
       "99438                     60115              fortaleza             CE   \n",
       "99439                     92120                 canoas             RS   \n",
       "99440                      6703                  cotia             SP   \n",
       "\n",
       "                               order_id order_status order_purchase_timestamp  \\\n",
       "0      00e7ee1b050b8499577073aeb2a297a1    delivered      2017-05-16 15:05:35   \n",
       "1      29150127e6685892b6eab3eec79f59c7    delivered      2018-01-12 20:48:24   \n",
       "2      b2059ed67ce144a36e2aa97d2c9e9ad2    delivered      2018-05-19 16:07:45   \n",
       "3      951670f92359f4fe4a63112aa7306eba    delivered      2018-03-13 16:06:38   \n",
       "4      6b7d50bd145f6fc7f33cebabd7e49d0f    delivered      2018-07-29 09:51:30   \n",
       "...                                 ...          ...                      ...   \n",
       "99436  6760e20addcf0121e9d58f2f1ff14298    delivered      2018-04-07 15:48:17   \n",
       "99437  9ec0c8947d973db4f4e8dcf1fbfa8f1b    delivered      2018-04-04 08:20:22   \n",
       "99438  fed4434add09a6f332ea398efd656a5c    delivered      2018-04-08 20:11:50   \n",
       "99439  e31ec91cea1ecf97797787471f98a8c2    delivered      2017-11-03 21:08:33   \n",
       "99440  28db69209a75e59f20ccbb5c36a20b90    delivered      2017-12-19 14:27:23   \n",
       "\n",
       "        order_approved_at order_delivered_carrier_date  \\\n",
       "0     2017-05-16 15:22:12          2017-05-23 10:47:57   \n",
       "1     2018-01-12 20:58:32          2018-01-15 17:14:59   \n",
       "2     2018-05-20 16:19:10          2018-06-11 14:31:00   \n",
       "3     2018-03-13 17:29:19          2018-03-27 23:22:42   \n",
       "4     2018-07-29 10:10:09          2018-07-30 15:16:00   \n",
       "...                   ...                          ...   \n",
       "99436 2018-04-07 16:08:45          2018-04-11 02:08:36   \n",
       "99437 2018-04-04 08:35:12          2018-04-05 18:42:35   \n",
       "99438 2018-04-08 20:30:03          2018-04-09 17:52:17   \n",
       "99439 2017-11-03 21:31:20          2017-11-06 18:24:41   \n",
       "99440 2017-12-19 18:50:39          2017-12-21 19:17:21   \n",
       "\n",
       "      order_delivered_customer_date order_estimated_delivery_date quarter  \\\n",
       "0               2017-05-25 10:35:35                    2017-06-05  2017Q2   \n",
       "1               2018-01-29 12:41:19                    2018-02-06  2018Q1   \n",
       "2               2018-06-14 17:58:51                    2018-06-13  2018Q2   \n",
       "3               2018-03-28 16:04:25                    2018-04-10  2018Q1   \n",
       "4               2018-08-09 20:55:48                    2018-08-15  2018Q3   \n",
       "...                             ...                           ...     ...   \n",
       "99436           2018-04-13 20:06:37                    2018-04-25  2018Q2   \n",
       "99437           2018-04-11 18:54:45                    2018-04-20  2018Q2   \n",
       "99438           2018-05-09 19:03:15                    2018-05-02  2018Q2   \n",
       "99439           2017-11-16 19:58:39                    2017-12-05  2017Q4   \n",
       "99440           2017-12-26 18:42:36                    2018-01-08  2017Q4   \n",
       "\n",
       "      purchase_weekday  purchase_period  delivery_difference_time  recency  \n",
       "0              Tuesday                2                     -11.0    519.0  \n",
       "1               Friday                3                      -8.0    277.0  \n",
       "2             Saturday                2                       1.0    151.0  \n",
       "3              Tuesday                2                     -13.0    218.0  \n",
       "4               Sunday                1                      -6.0     80.0  \n",
       "...                ...              ...                       ...      ...  \n",
       "99436         Saturday                2                     -12.0    193.0  \n",
       "99437        Wednesday                1                      -9.0    196.0  \n",
       "99438           Sunday                3                       7.0    191.0  \n",
       "99439           Friday                3                     -19.0    347.0  \n",
       "99440          Tuesday                2                     -13.0    302.0  \n",
       "\n",
       "[99441 rows x 17 columns]"
      ]
     },
     "execution_count": 33,
     "metadata": {},
     "output_type": "execute_result"
    }
   ],
   "source": [
    "master"
   ]
  },
  {
   "cell_type": "markdown",
   "metadata": {},
   "source": [
    "## Payments dataset"
   ]
  },
  {
   "cell_type": "code",
   "execution_count": 34,
   "metadata": {},
   "outputs": [],
   "source": [
    "df_payments = pd.read_csv('data/olist_order_payments_dataset.csv')"
   ]
  },
  {
   "cell_type": "code",
   "execution_count": 35,
   "metadata": {},
   "outputs": [
    {
     "data": {
      "text/plain": [
       "(103886, 5)"
      ]
     },
     "execution_count": 35,
     "metadata": {},
     "output_type": "execute_result"
    }
   ],
   "source": [
    "df_payments.shape"
   ]
  },
  {
   "cell_type": "code",
   "execution_count": 36,
   "metadata": {},
   "outputs": [
    {
     "data": {
      "text/plain": [
       "(99440,)"
      ]
     },
     "execution_count": 36,
     "metadata": {},
     "output_type": "execute_result"
    }
   ],
   "source": [
    "df_payments['order_id'].unique().shape"
   ]
  },
  {
   "cell_type": "code",
   "execution_count": 37,
   "metadata": {},
   "outputs": [
    {
     "data": {
      "text/html": [
       "<div>\n",
       "<style scoped>\n",
       "    .dataframe tbody tr th:only-of-type {\n",
       "        vertical-align: middle;\n",
       "    }\n",
       "\n",
       "    .dataframe tbody tr th {\n",
       "        vertical-align: top;\n",
       "    }\n",
       "\n",
       "    .dataframe thead th {\n",
       "        text-align: right;\n",
       "    }\n",
       "</style>\n",
       "<table border=\"1\" class=\"dataframe\">\n",
       "  <thead>\n",
       "    <tr style=\"text-align: right;\">\n",
       "      <th></th>\n",
       "      <th>order_id</th>\n",
       "      <th>payment_sequential</th>\n",
       "      <th>payment_type</th>\n",
       "      <th>payment_installments</th>\n",
       "      <th>payment_value</th>\n",
       "    </tr>\n",
       "  </thead>\n",
       "  <tbody>\n",
       "    <tr>\n",
       "      <th>0</th>\n",
       "      <td>b81ef226f3fe1789b1e8b2acac839d17</td>\n",
       "      <td>1</td>\n",
       "      <td>credit_card</td>\n",
       "      <td>8</td>\n",
       "      <td>99.33</td>\n",
       "    </tr>\n",
       "    <tr>\n",
       "      <th>1</th>\n",
       "      <td>a9810da82917af2d9aefd1278f1dcfa0</td>\n",
       "      <td>1</td>\n",
       "      <td>credit_card</td>\n",
       "      <td>1</td>\n",
       "      <td>24.39</td>\n",
       "    </tr>\n",
       "    <tr>\n",
       "      <th>2</th>\n",
       "      <td>25e8ea4e93396b6fa0d3dd708e76c1bd</td>\n",
       "      <td>1</td>\n",
       "      <td>credit_card</td>\n",
       "      <td>1</td>\n",
       "      <td>65.71</td>\n",
       "    </tr>\n",
       "    <tr>\n",
       "      <th>3</th>\n",
       "      <td>ba78997921bbcdc1373bb41e913ab953</td>\n",
       "      <td>1</td>\n",
       "      <td>credit_card</td>\n",
       "      <td>8</td>\n",
       "      <td>107.78</td>\n",
       "    </tr>\n",
       "    <tr>\n",
       "      <th>4</th>\n",
       "      <td>42fdf880ba16b47b59251dd489d4441a</td>\n",
       "      <td>1</td>\n",
       "      <td>credit_card</td>\n",
       "      <td>2</td>\n",
       "      <td>128.45</td>\n",
       "    </tr>\n",
       "  </tbody>\n",
       "</table>\n",
       "</div>"
      ],
      "text/plain": [
       "                           order_id  payment_sequential payment_type  \\\n",
       "0  b81ef226f3fe1789b1e8b2acac839d17                   1  credit_card   \n",
       "1  a9810da82917af2d9aefd1278f1dcfa0                   1  credit_card   \n",
       "2  25e8ea4e93396b6fa0d3dd708e76c1bd                   1  credit_card   \n",
       "3  ba78997921bbcdc1373bb41e913ab953                   1  credit_card   \n",
       "4  42fdf880ba16b47b59251dd489d4441a                   1  credit_card   \n",
       "\n",
       "   payment_installments  payment_value  \n",
       "0                     8          99.33  \n",
       "1                     1          24.39  \n",
       "2                     1          65.71  \n",
       "3                     8         107.78  \n",
       "4                     2         128.45  "
      ]
     },
     "execution_count": 37,
     "metadata": {},
     "output_type": "execute_result"
    }
   ],
   "source": [
    "df_payments.head()"
   ]
  },
  {
   "cell_type": "code",
   "execution_count": 38,
   "metadata": {},
   "outputs": [
    {
     "data": {
      "text/plain": [
       "16008872.12"
      ]
     },
     "execution_count": 38,
     "metadata": {},
     "output_type": "execute_result"
    }
   ],
   "source": [
    "df_payments['payment_value'].sum()"
   ]
  },
  {
   "cell_type": "code",
   "execution_count": 39,
   "metadata": {},
   "outputs": [
    {
     "data": {
      "text/plain": [
       "order_id                 object\n",
       "payment_sequential        int64\n",
       "payment_type             object\n",
       "payment_installments      int64\n",
       "payment_value           float64\n",
       "dtype: object"
      ]
     },
     "execution_count": 39,
     "metadata": {},
     "output_type": "execute_result"
    }
   ],
   "source": [
    "df_payments.dtypes"
   ]
  },
  {
   "cell_type": "markdown",
   "metadata": {},
   "source": [
    "### Missing values"
   ]
  },
  {
   "cell_type": "code",
   "execution_count": 40,
   "metadata": {},
   "outputs": [
    {
     "data": {
      "text/plain": [
       "order_id                0\n",
       "payment_sequential      0\n",
       "payment_type            0\n",
       "payment_installments    0\n",
       "payment_value           0\n",
       "dtype: int64"
      ]
     },
     "execution_count": 40,
     "metadata": {},
     "output_type": "execute_result"
    }
   ],
   "source": [
    "df_payments.isna().sum()"
   ]
  },
  {
   "cell_type": "markdown",
   "metadata": {},
   "source": [
    "### EDA"
   ]
  },
  {
   "cell_type": "code",
   "execution_count": 41,
   "metadata": {},
   "outputs": [
    {
     "data": {
      "text/plain": [
       "credit_card    76795\n",
       "boleto         19784\n",
       "voucher         5775\n",
       "debit_card      1529\n",
       "not_defined        3\n",
       "Name: payment_type, dtype: int64"
      ]
     },
     "execution_count": 41,
     "metadata": {},
     "output_type": "execute_result"
    }
   ],
   "source": [
    "df_payments['payment_type'].value_counts()"
   ]
  },
  {
   "cell_type": "code",
   "execution_count": 42,
   "metadata": {},
   "outputs": [
    {
     "data": {
      "text/html": [
       "<div>\n",
       "<style scoped>\n",
       "    .dataframe tbody tr th:only-of-type {\n",
       "        vertical-align: middle;\n",
       "    }\n",
       "\n",
       "    .dataframe tbody tr th {\n",
       "        vertical-align: top;\n",
       "    }\n",
       "\n",
       "    .dataframe thead th {\n",
       "        text-align: right;\n",
       "    }\n",
       "</style>\n",
       "<table border=\"1\" class=\"dataframe\">\n",
       "  <thead>\n",
       "    <tr style=\"text-align: right;\">\n",
       "      <th></th>\n",
       "      <th>payment_sequential</th>\n",
       "      <th>payment_installments</th>\n",
       "      <th>payment_value</th>\n",
       "    </tr>\n",
       "  </thead>\n",
       "  <tbody>\n",
       "    <tr>\n",
       "      <th>count</th>\n",
       "      <td>103886.000000</td>\n",
       "      <td>103886.000000</td>\n",
       "      <td>103886.000000</td>\n",
       "    </tr>\n",
       "    <tr>\n",
       "      <th>mean</th>\n",
       "      <td>1.092679</td>\n",
       "      <td>2.853349</td>\n",
       "      <td>154.100380</td>\n",
       "    </tr>\n",
       "    <tr>\n",
       "      <th>std</th>\n",
       "      <td>0.706584</td>\n",
       "      <td>2.687051</td>\n",
       "      <td>217.494064</td>\n",
       "    </tr>\n",
       "    <tr>\n",
       "      <th>min</th>\n",
       "      <td>1.000000</td>\n",
       "      <td>0.000000</td>\n",
       "      <td>0.000000</td>\n",
       "    </tr>\n",
       "    <tr>\n",
       "      <th>25%</th>\n",
       "      <td>1.000000</td>\n",
       "      <td>1.000000</td>\n",
       "      <td>56.790000</td>\n",
       "    </tr>\n",
       "    <tr>\n",
       "      <th>50%</th>\n",
       "      <td>1.000000</td>\n",
       "      <td>1.000000</td>\n",
       "      <td>100.000000</td>\n",
       "    </tr>\n",
       "    <tr>\n",
       "      <th>75%</th>\n",
       "      <td>1.000000</td>\n",
       "      <td>4.000000</td>\n",
       "      <td>171.837500</td>\n",
       "    </tr>\n",
       "    <tr>\n",
       "      <th>max</th>\n",
       "      <td>29.000000</td>\n",
       "      <td>24.000000</td>\n",
       "      <td>13664.080000</td>\n",
       "    </tr>\n",
       "  </tbody>\n",
       "</table>\n",
       "</div>"
      ],
      "text/plain": [
       "       payment_sequential  payment_installments  payment_value\n",
       "count       103886.000000         103886.000000  103886.000000\n",
       "mean             1.092679              2.853349     154.100380\n",
       "std              0.706584              2.687051     217.494064\n",
       "min              1.000000              0.000000       0.000000\n",
       "25%              1.000000              1.000000      56.790000\n",
       "50%              1.000000              1.000000     100.000000\n",
       "75%              1.000000              4.000000     171.837500\n",
       "max             29.000000             24.000000   13664.080000"
      ]
     },
     "execution_count": 42,
     "metadata": {},
     "output_type": "execute_result"
    }
   ],
   "source": [
    "df_payments.describe()"
   ]
  },
  {
   "cell_type": "code",
   "execution_count": 43,
   "metadata": {},
   "outputs": [
    {
     "data": {
      "text/plain": [
       "(0.0, 750.0)"
      ]
     },
     "execution_count": 43,
     "metadata": {},
     "output_type": "execute_result"
    },
    {
     "data": {
      "image/png": "[encoded data removed]",
      "text/plain": [
       "<Figure size 432x288 with 1 Axes>"
      ]
     },
     "metadata": {
      "needs_background": "light"
     },
     "output_type": "display_data"
    }
   ],
   "source": [
    "sns.histplot(x=df_payments['payment_value'])\n",
    "plt.xlim(0, 750)"
   ]
  },
  {
   "cell_type": "code",
   "execution_count": 44,
   "metadata": {},
   "outputs": [
    {
     "data": {
      "text/plain": [
       "count    99440.000000\n",
       "mean       160.990267\n",
       "std        221.951257\n",
       "min          0.000000\n",
       "25%         62.010000\n",
       "50%        105.290000\n",
       "75%        176.970000\n",
       "max      13664.080000\n",
       "Name: payment_value, dtype: float64"
      ]
     },
     "execution_count": 44,
     "metadata": {},
     "output_type": "execute_result"
    }
   ],
   "source": [
    "df_payments.groupby(['order_id']).sum()['payment_value'].describe()"
   ]
  },
  {
   "cell_type": "code",
   "execution_count": 45,
   "metadata": {},
   "outputs": [
    {
     "data": {
      "image/png": "[encoded data removed]",
      "text/plain": [
       "<Figure size 432x288 with 1 Axes>"
      ]
     },
     "metadata": {
      "needs_background": "light"
     },
     "output_type": "display_data"
    }
   ],
   "source": [
    "plt.boxplot(df_payments.groupby(['order_id']).sum()[\n",
    "            'payment_value'].describe())\n",
    "plt.show()"
   ]
  },
  {
   "cell_type": "markdown",
   "metadata": {},
   "source": [
    "### Feature engineering"
   ]
  },
  {
   "cell_type": "markdown",
   "metadata": {},
   "source": [
    "Total payment amount"
   ]
  },
  {
   "cell_type": "code",
   "execution_count": 46,
   "metadata": {},
   "outputs": [],
   "source": [
    "A = pd.DataFrame(df_payments.groupby(['order_id']).sum())"
   ]
  },
  {
   "cell_type": "code",
   "execution_count": 47,
   "metadata": {},
   "outputs": [],
   "source": [
    "A['total_order_payment_amount'] = A['payment_value']"
   ]
  },
  {
   "cell_type": "code",
   "execution_count": 48,
   "metadata": {},
   "outputs": [],
   "source": [
    "A.drop(columns=['payment_sequential', 'payment_installments',\n",
    "                'payment_value'], inplace=True)"
   ]
  },
  {
   "cell_type": "code",
   "execution_count": 49,
   "metadata": {},
   "outputs": [],
   "source": [
    "df_payments = df_payments.join(A, on='order_id')"
   ]
  },
  {
   "cell_type": "markdown",
   "metadata": {},
   "source": [
    "### Joining dataset"
   ]
  },
  {
   "cell_type": "code",
   "execution_count": 50,
   "metadata": {},
   "outputs": [
    {
     "data": {
      "text/plain": [
       "(103886, 6)"
      ]
     },
     "execution_count": 50,
     "metadata": {},
     "output_type": "execute_result"
    }
   ],
   "source": [
    "df_payments.shape"
   ]
  },
  {
   "cell_type": "code",
   "execution_count": 51,
   "metadata": {},
   "outputs": [],
   "source": [
    "master = df_payments.join(master.set_index(\n",
    "    'order_id'), on='order_id', how='outer')"
   ]
  },
  {
   "cell_type": "code",
   "execution_count": 52,
   "metadata": {},
   "outputs": [
    {
     "data": {
      "text/plain": [
       "(103887, 22)"
      ]
     },
     "execution_count": 52,
     "metadata": {},
     "output_type": "execute_result"
    }
   ],
   "source": [
    "master.shape"
   ]
  },
  {
   "cell_type": "code",
   "execution_count": 53,
   "metadata": {},
   "outputs": [],
   "source": [
    "master.index = pd.RangeIndex(start=0, stop=master.shape[0], step=1)"
   ]
  },
  {
   "cell_type": "code",
   "execution_count": 54,
   "metadata": {},
   "outputs": [
    {
     "data": {
      "text/html": [
       "<div>\n",
       "<style scoped>\n",
       "    .dataframe tbody tr th:only-of-type {\n",
       "        vertical-align: middle;\n",
       "    }\n",
       "\n",
       "    .dataframe tbody tr th {\n",
       "        vertical-align: top;\n",
       "    }\n",
       "\n",
       "    .dataframe thead th {\n",
       "        text-align: right;\n",
       "    }\n",
       "</style>\n",
       "<table border=\"1\" class=\"dataframe\">\n",
       "  <thead>\n",
       "    <tr style=\"text-align: right;\">\n",
       "      <th></th>\n",
       "      <th>order_id</th>\n",
       "      <th>payment_sequential</th>\n",
       "      <th>payment_type</th>\n",
       "      <th>payment_installments</th>\n",
       "      <th>payment_value</th>\n",
       "      <th>total_order_payment_amount</th>\n",
       "      <th>customer_id</th>\n",
       "      <th>customer_unique_id</th>\n",
       "      <th>customer_zip_code_prefix</th>\n",
       "      <th>customer_city</th>\n",
       "      <th>...</th>\n",
       "      <th>order_purchase_timestamp</th>\n",
       "      <th>order_approved_at</th>\n",
       "      <th>order_delivered_carrier_date</th>\n",
       "      <th>order_delivered_customer_date</th>\n",
       "      <th>order_estimated_delivery_date</th>\n",
       "      <th>quarter</th>\n",
       "      <th>purchase_weekday</th>\n",
       "      <th>purchase_period</th>\n",
       "      <th>delivery_difference_time</th>\n",
       "      <th>recency</th>\n",
       "    </tr>\n",
       "  </thead>\n",
       "  <tbody>\n",
       "    <tr>\n",
       "      <th>0</th>\n",
       "      <td>b81ef226f3fe1789b1e8b2acac839d17</td>\n",
       "      <td>1.0</td>\n",
       "      <td>credit_card</td>\n",
       "      <td>8.0</td>\n",
       "      <td>99.33</td>\n",
       "      <td>99.33</td>\n",
       "      <td>0a8556ac6be836b46b3e89920d59291c</td>\n",
       "      <td>708ab75d2a007f0564aedd11139c7708</td>\n",
       "      <td>39801</td>\n",
       "      <td>teofilo otoni</td>\n",
       "      <td>...</td>\n",
       "      <td>2018-04-25 22:01:49</td>\n",
       "      <td>2018-04-25 22:15:09</td>\n",
       "      <td>2018-05-02 15:20:00</td>\n",
       "      <td>2018-05-09 17:36:51</td>\n",
       "      <td>2018-05-22</td>\n",
       "      <td>2018Q2</td>\n",
       "      <td>Wednesday</td>\n",
       "      <td>3</td>\n",
       "      <td>-13.0</td>\n",
       "      <td>174.0</td>\n",
       "    </tr>\n",
       "    <tr>\n",
       "      <th>1</th>\n",
       "      <td>a9810da82917af2d9aefd1278f1dcfa0</td>\n",
       "      <td>1.0</td>\n",
       "      <td>credit_card</td>\n",
       "      <td>1.0</td>\n",
       "      <td>24.39</td>\n",
       "      <td>24.39</td>\n",
       "      <td>f2c7fc58a9de810828715166c672f10a</td>\n",
       "      <td>a8b9d3a27068454b1c98cc67d4e31e6f</td>\n",
       "      <td>2422</td>\n",
       "      <td>sao paulo</td>\n",
       "      <td>...</td>\n",
       "      <td>2018-06-26 11:01:38</td>\n",
       "      <td>2018-06-26 11:18:58</td>\n",
       "      <td>2018-06-28 14:18:00</td>\n",
       "      <td>2018-06-29 20:32:09</td>\n",
       "      <td>2018-07-16</td>\n",
       "      <td>2018Q2</td>\n",
       "      <td>Tuesday</td>\n",
       "      <td>1</td>\n",
       "      <td>-17.0</td>\n",
       "      <td>113.0</td>\n",
       "    </tr>\n",
       "    <tr>\n",
       "      <th>2</th>\n",
       "      <td>25e8ea4e93396b6fa0d3dd708e76c1bd</td>\n",
       "      <td>1.0</td>\n",
       "      <td>credit_card</td>\n",
       "      <td>1.0</td>\n",
       "      <td>65.71</td>\n",
       "      <td>65.71</td>\n",
       "      <td>25b14b69de0b6e184ae6fe2755e478f9</td>\n",
       "      <td>6f70c0b2f7552832ba46eb57b1c5651e</td>\n",
       "      <td>2652</td>\n",
       "      <td>sao paulo</td>\n",
       "      <td>...</td>\n",
       "      <td>2017-12-12 11:19:55</td>\n",
       "      <td>2017-12-14 09:52:34</td>\n",
       "      <td>2017-12-15 20:13:22</td>\n",
       "      <td>2017-12-18 17:24:41</td>\n",
       "      <td>2018-01-04</td>\n",
       "      <td>2017Q4</td>\n",
       "      <td>Tuesday</td>\n",
       "      <td>1</td>\n",
       "      <td>-17.0</td>\n",
       "      <td>309.0</td>\n",
       "    </tr>\n",
       "    <tr>\n",
       "      <th>3</th>\n",
       "      <td>ba78997921bbcdc1373bb41e913ab953</td>\n",
       "      <td>1.0</td>\n",
       "      <td>credit_card</td>\n",
       "      <td>8.0</td>\n",
       "      <td>107.78</td>\n",
       "      <td>107.78</td>\n",
       "      <td>7a5d8efaaa1081f800628c30d2b0728f</td>\n",
       "      <td>87695ed086ebd36f20404c82d20fca87</td>\n",
       "      <td>36060</td>\n",
       "      <td>juiz de fora</td>\n",
       "      <td>...</td>\n",
       "      <td>2017-12-06 12:04:06</td>\n",
       "      <td>2017-12-06 12:13:20</td>\n",
       "      <td>2017-12-07 20:28:28</td>\n",
       "      <td>2017-12-21 01:35:51</td>\n",
       "      <td>2018-01-04</td>\n",
       "      <td>2017Q4</td>\n",
       "      <td>Wednesday</td>\n",
       "      <td>2</td>\n",
       "      <td>-14.0</td>\n",
       "      <td>315.0</td>\n",
       "    </tr>\n",
       "    <tr>\n",
       "      <th>4</th>\n",
       "      <td>42fdf880ba16b47b59251dd489d4441a</td>\n",
       "      <td>1.0</td>\n",
       "      <td>credit_card</td>\n",
       "      <td>2.0</td>\n",
       "      <td>128.45</td>\n",
       "      <td>128.45</td>\n",
       "      <td>15fd6fb8f8312dbb4674e4518d6fa3b3</td>\n",
       "      <td>4291db0da71914754618cd789aebcd56</td>\n",
       "      <td>18570</td>\n",
       "      <td>conchas</td>\n",
       "      <td>...</td>\n",
       "      <td>2018-05-21 13:59:17</td>\n",
       "      <td>2018-05-21 16:14:41</td>\n",
       "      <td>2018-05-22 11:46:00</td>\n",
       "      <td>2018-06-01 21:44:53</td>\n",
       "      <td>2018-06-13</td>\n",
       "      <td>2018Q2</td>\n",
       "      <td>Monday</td>\n",
       "      <td>2</td>\n",
       "      <td>-12.0</td>\n",
       "      <td>149.0</td>\n",
       "    </tr>\n",
       "    <tr>\n",
       "      <th>...</th>\n",
       "      <td>...</td>\n",
       "      <td>...</td>\n",
       "      <td>...</td>\n",
       "      <td>...</td>\n",
       "      <td>...</td>\n",
       "      <td>...</td>\n",
       "      <td>...</td>\n",
       "      <td>...</td>\n",
       "      <td>...</td>\n",
       "      <td>...</td>\n",
       "      <td>...</td>\n",
       "      <td>...</td>\n",
       "      <td>...</td>\n",
       "      <td>...</td>\n",
       "      <td>...</td>\n",
       "      <td>...</td>\n",
       "      <td>...</td>\n",
       "      <td>...</td>\n",
       "      <td>...</td>\n",
       "      <td>...</td>\n",
       "      <td>...</td>\n",
       "    </tr>\n",
       "    <tr>\n",
       "      <th>103882</th>\n",
       "      <td>7b905861d7c825891d6347454ea7863f</td>\n",
       "      <td>1.0</td>\n",
       "      <td>credit_card</td>\n",
       "      <td>2.0</td>\n",
       "      <td>96.80</td>\n",
       "      <td>96.80</td>\n",
       "      <td>2079230c765a88530822a34a4cec2aa0</td>\n",
       "      <td>53b30ca78efb2b7efcd3f9e461587eb2</td>\n",
       "      <td>30210</td>\n",
       "      <td>belo horizonte</td>\n",
       "      <td>...</td>\n",
       "      <td>2017-08-18 09:45:35</td>\n",
       "      <td>2017-08-18 10:04:56</td>\n",
       "      <td>2017-08-18 18:04:24</td>\n",
       "      <td>2017-08-23 22:25:56</td>\n",
       "      <td>2017-09-12</td>\n",
       "      <td>2017Q3</td>\n",
       "      <td>Friday</td>\n",
       "      <td>1</td>\n",
       "      <td>-20.0</td>\n",
       "      <td>425.0</td>\n",
       "    </tr>\n",
       "    <tr>\n",
       "      <th>103883</th>\n",
       "      <td>32609bbb3dd69b3c066a6860554a77bf</td>\n",
       "      <td>1.0</td>\n",
       "      <td>credit_card</td>\n",
       "      <td>1.0</td>\n",
       "      <td>47.77</td>\n",
       "      <td>47.77</td>\n",
       "      <td>e4abb5057ec8cfda9759c0dc415a8188</td>\n",
       "      <td>d3c7da954a324253814096bcaf240e4e</td>\n",
       "      <td>1519</td>\n",
       "      <td>sao paulo</td>\n",
       "      <td>...</td>\n",
       "      <td>2017-11-18 17:27:14</td>\n",
       "      <td>2017-11-18 17:46:05</td>\n",
       "      <td>NaT</td>\n",
       "      <td>NaT</td>\n",
       "      <td>2017-12-05</td>\n",
       "      <td>2017Q4</td>\n",
       "      <td>Saturday</td>\n",
       "      <td>2</td>\n",
       "      <td>NaN</td>\n",
       "      <td>333.0</td>\n",
       "    </tr>\n",
       "    <tr>\n",
       "      <th>103884</th>\n",
       "      <td>b8b61059626efa996a60be9bb9320e10</td>\n",
       "      <td>1.0</td>\n",
       "      <td>credit_card</td>\n",
       "      <td>5.0</td>\n",
       "      <td>369.54</td>\n",
       "      <td>369.54</td>\n",
       "      <td>5d719b0d300663188169c6560e243f27</td>\n",
       "      <td>b84dc68f02f122a88d7e7bbd37b06204</td>\n",
       "      <td>22733</td>\n",
       "      <td>rio de janeiro</td>\n",
       "      <td>...</td>\n",
       "      <td>2018-08-07 23:26:13</td>\n",
       "      <td>2018-08-07 23:45:00</td>\n",
       "      <td>2018-08-09 11:46:00</td>\n",
       "      <td>2018-08-21 22:41:46</td>\n",
       "      <td>2018-08-24</td>\n",
       "      <td>2018Q3</td>\n",
       "      <td>Tuesday</td>\n",
       "      <td>3</td>\n",
       "      <td>-3.0</td>\n",
       "      <td>70.0</td>\n",
       "    </tr>\n",
       "    <tr>\n",
       "      <th>103885</th>\n",
       "      <td>28bbae6599b09d39ca406b747b6632b1</td>\n",
       "      <td>1.0</td>\n",
       "      <td>boleto</td>\n",
       "      <td>1.0</td>\n",
       "      <td>191.58</td>\n",
       "      <td>191.58</td>\n",
       "      <td>4c7f868f43b5cff577b0becb8c8b7860</td>\n",
       "      <td>b1f51a4e19da3338e51fbcfabefad1bf</td>\n",
       "      <td>23059</td>\n",
       "      <td>rio de janeiro</td>\n",
       "      <td>...</td>\n",
       "      <td>2017-12-05 08:18:35</td>\n",
       "      <td>2017-12-06 02:50:09</td>\n",
       "      <td>2017-12-08 00:51:47</td>\n",
       "      <td>2018-02-05 14:59:09</td>\n",
       "      <td>2017-12-29</td>\n",
       "      <td>2017Q4</td>\n",
       "      <td>Tuesday</td>\n",
       "      <td>1</td>\n",
       "      <td>38.0</td>\n",
       "      <td>316.0</td>\n",
       "    </tr>\n",
       "    <tr>\n",
       "      <th>103886</th>\n",
       "      <td>bfbd0f9bdef84302105ad712db648a6c</td>\n",
       "      <td>NaN</td>\n",
       "      <td>NaN</td>\n",
       "      <td>NaN</td>\n",
       "      <td>NaN</td>\n",
       "      <td>NaN</td>\n",
       "      <td>86dc2ffce2dfff336de2f386a786e574</td>\n",
       "      <td>830d5b7aaa3b6f1e9ad63703bec97d23</td>\n",
       "      <td>14600</td>\n",
       "      <td>sao joaquim da barra</td>\n",
       "      <td>...</td>\n",
       "      <td>2016-09-15 12:16:38</td>\n",
       "      <td>2016-09-15 12:16:38</td>\n",
       "      <td>2016-11-07 17:11:53</td>\n",
       "      <td>2016-11-09 07:47:38</td>\n",
       "      <td>2016-10-04</td>\n",
       "      <td>2016Q3</td>\n",
       "      <td>Thursday</td>\n",
       "      <td>2</td>\n",
       "      <td>36.0</td>\n",
       "      <td>762.0</td>\n",
       "    </tr>\n",
       "  </tbody>\n",
       "</table>\n",
       "<p>103887 rows × 22 columns</p>\n",
       "</div>"
      ],
      "text/plain": [
       "                                order_id  payment_sequential payment_type  \\\n",
       "0       b81ef226f3fe1789b1e8b2acac839d17                 1.0  credit_card   \n",
       "1       a9810da82917af2d9aefd1278f1dcfa0                 1.0  credit_card   \n",
       "2       25e8ea4e93396b6fa0d3dd708e76c1bd                 1.0  credit_card   \n",
       "3       ba78997921bbcdc1373bb41e913ab953                 1.0  credit_card   \n",
       "4       42fdf880ba16b47b59251dd489d4441a                 1.0  credit_card   \n",
       "...                                  ...                 ...          ...   \n",
       "103882  7b905861d7c825891d6347454ea7863f                 1.0  credit_card   \n",
       "103883  32609bbb3dd69b3c066a6860554a77bf                 1.0  credit_card   \n",
       "103884  b8b61059626efa996a60be9bb9320e10                 1.0  credit_card   \n",
       "103885  28bbae6599b09d39ca406b747b6632b1                 1.0       boleto   \n",
       "103886  bfbd0f9bdef84302105ad712db648a6c                 NaN          NaN   \n",
       "\n",
       "        payment_installments  payment_value  total_order_payment_amount  \\\n",
       "0                        8.0          99.33                       99.33   \n",
       "1                        1.0          24.39                       24.39   \n",
       "2                        1.0          65.71                       65.71   \n",
       "3                        8.0         107.78                      107.78   \n",
       "4                        2.0         128.45                      128.45   \n",
       "...                      ...            ...                         ...   \n",
       "103882                   2.0          96.80                       96.80   \n",
       "103883                   1.0          47.77                       47.77   \n",
       "103884                   5.0         369.54                      369.54   \n",
       "103885                   1.0         191.58                      191.58   \n",
       "103886                   NaN            NaN                         NaN   \n",
       "\n",
       "                             customer_id                customer_unique_id  \\\n",
       "0       0a8556ac6be836b46b3e89920d59291c  708ab75d2a007f0564aedd11139c7708   \n",
       "1       f2c7fc58a9de810828715166c672f10a  a8b9d3a27068454b1c98cc67d4e31e6f   \n",
       "2       25b14b69de0b6e184ae6fe2755e478f9  6f70c0b2f7552832ba46eb57b1c5651e   \n",
       "3       7a5d8efaaa1081f800628c30d2b0728f  87695ed086ebd36f20404c82d20fca87   \n",
       "4       15fd6fb8f8312dbb4674e4518d6fa3b3  4291db0da71914754618cd789aebcd56   \n",
       "...                                  ...                               ...   \n",
       "103882  2079230c765a88530822a34a4cec2aa0  53b30ca78efb2b7efcd3f9e461587eb2   \n",
       "103883  e4abb5057ec8cfda9759c0dc415a8188  d3c7da954a324253814096bcaf240e4e   \n",
       "103884  5d719b0d300663188169c6560e243f27  b84dc68f02f122a88d7e7bbd37b06204   \n",
       "103885  4c7f868f43b5cff577b0becb8c8b7860  b1f51a4e19da3338e51fbcfabefad1bf   \n",
       "103886  86dc2ffce2dfff336de2f386a786e574  830d5b7aaa3b6f1e9ad63703bec97d23   \n",
       "\n",
       "        customer_zip_code_prefix         customer_city  ...  \\\n",
       "0                          39801         teofilo otoni  ...   \n",
       "1                           2422             sao paulo  ...   \n",
       "2                           2652             sao paulo  ...   \n",
       "3                          36060          juiz de fora  ...   \n",
       "4                          18570               conchas  ...   \n",
       "...                          ...                   ...  ...   \n",
       "103882                     30210        belo horizonte  ...   \n",
       "103883                      1519             sao paulo  ...   \n",
       "103884                     22733        rio de janeiro  ...   \n",
       "103885                     23059        rio de janeiro  ...   \n",
       "103886                     14600  sao joaquim da barra  ...   \n",
       "\n",
       "       order_purchase_timestamp   order_approved_at  \\\n",
       "0           2018-04-25 22:01:49 2018-04-25 22:15:09   \n",
       "1           2018-06-26 11:01:38 2018-06-26 11:18:58   \n",
       "2           2017-12-12 11:19:55 2017-12-14 09:52:34   \n",
       "3           2017-12-06 12:04:06 2017-12-06 12:13:20   \n",
       "4           2018-05-21 13:59:17 2018-05-21 16:14:41   \n",
       "...                         ...                 ...   \n",
       "103882      2017-08-18 09:45:35 2017-08-18 10:04:56   \n",
       "103883      2017-11-18 17:27:14 2017-11-18 17:46:05   \n",
       "103884      2018-08-07 23:26:13 2018-08-07 23:45:00   \n",
       "103885      2017-12-05 08:18:35 2017-12-06 02:50:09   \n",
       "103886      2016-09-15 12:16:38 2016-09-15 12:16:38   \n",
       "\n",
       "       order_delivered_carrier_date order_delivered_customer_date  \\\n",
       "0               2018-05-02 15:20:00           2018-05-09 17:36:51   \n",
       "1               2018-06-28 14:18:00           2018-06-29 20:32:09   \n",
       "2               2017-12-15 20:13:22           2017-12-18 17:24:41   \n",
       "3               2017-12-07 20:28:28           2017-12-21 01:35:51   \n",
       "4               2018-05-22 11:46:00           2018-06-01 21:44:53   \n",
       "...                             ...                           ...   \n",
       "103882          2017-08-18 18:04:24           2017-08-23 22:25:56   \n",
       "103883                          NaT                           NaT   \n",
       "103884          2018-08-09 11:46:00           2018-08-21 22:41:46   \n",
       "103885          2017-12-08 00:51:47           2018-02-05 14:59:09   \n",
       "103886          2016-11-07 17:11:53           2016-11-09 07:47:38   \n",
       "\n",
       "       order_estimated_delivery_date quarter purchase_weekday purchase_period  \\\n",
       "0                         2018-05-22  2018Q2        Wednesday               3   \n",
       "1                         2018-07-16  2018Q2          Tuesday               1   \n",
       "2                         2018-01-04  2017Q4          Tuesday               1   \n",
       "3                         2018-01-04  2017Q4        Wednesday               2   \n",
       "4                         2018-06-13  2018Q2           Monday               2   \n",
       "...                              ...     ...              ...             ...   \n",
       "103882                    2017-09-12  2017Q3           Friday               1   \n",
       "103883                    2017-12-05  2017Q4         Saturday               2   \n",
       "103884                    2018-08-24  2018Q3          Tuesday               3   \n",
       "103885                    2017-12-29  2017Q4          Tuesday               1   \n",
       "103886                    2016-10-04  2016Q3         Thursday               2   \n",
       "\n",
       "       delivery_difference_time  recency  \n",
       "0                         -13.0    174.0  \n",
       "1                         -17.0    113.0  \n",
       "2                         -17.0    309.0  \n",
       "3                         -14.0    315.0  \n",
       "4                         -12.0    149.0  \n",
       "...                         ...      ...  \n",
       "103882                    -20.0    425.0  \n",
       "103883                      NaN    333.0  \n",
       "103884                     -3.0     70.0  \n",
       "103885                     38.0    316.0  \n",
       "103886                     36.0    762.0  \n",
       "\n",
       "[103887 rows x 22 columns]"
      ]
     },
     "execution_count": 54,
     "metadata": {},
     "output_type": "execute_result"
    }
   ],
   "source": [
    "master"
   ]
  },
  {
   "cell_type": "markdown",
   "metadata": {},
   "source": [
    "## Reviews dataset"
   ]
  },
  {
   "cell_type": "code",
   "execution_count": 55,
   "metadata": {},
   "outputs": [],
   "source": [
    "df_reviews = pd.read_csv('data/olist_order_reviews_dataset.csv')"
   ]
  },
  {
   "cell_type": "code",
   "execution_count": 56,
   "metadata": {},
   "outputs": [
    {
     "data": {
      "text/plain": [
       "{'whiskers': [<matplotlib.lines.Line2D at 0x1df0ce1cb50>,\n",
       "  <matplotlib.lines.Line2D at 0x1df0ce1ceb0>],\n",
       " 'caps': [<matplotlib.lines.Line2D at 0x1df0883d250>,\n",
       "  <matplotlib.lines.Line2D at 0x1df0883d5b0>],\n",
       " 'boxes': [<matplotlib.lines.Line2D at 0x1df0ce1c7f0>],\n",
       " 'medians': [<matplotlib.lines.Line2D at 0x1df0883d910>],\n",
       " 'fliers': [<matplotlib.lines.Line2D at 0x1df0883dc70>],\n",
       " 'means': []}"
      ]
     },
     "execution_count": 56,
     "metadata": {},
     "output_type": "execute_result"
    },
    {
     "data": {
      "image/png": "[encoded data removed]",
      "text/plain": [
       "<Figure size 432x288 with 1 Axes>"
      ]
     },
     "metadata": {
      "needs_background": "light"
     },
     "output_type": "display_data"
    }
   ],
   "source": [
    "plt.boxplot(df_reviews['review_score'])"
   ]
  },
  {
   "cell_type": "code",
   "execution_count": 58,
   "metadata": {},
   "outputs": [
    {
     "data": {
      "text/plain": [
       "<AxesSubplot:xlabel='review_score', ylabel='Count'>"
      ]
     },
     "execution_count": 58,
     "metadata": {},
     "output_type": "execute_result"
    },
    {
     "data": {
      "image/png": "[encoded data removed]",
      "text/plain": [
       "<Figure size 432x288 with 1 Axes>"
      ]
     },
     "metadata": {
      "needs_background": "light"
     },
     "output_type": "display_data"
    }
   ],
   "source": [
    "sns.histplot(df_reviews.groupby('order_id').mean()['review_score'])"
   ]
  },
  {
   "cell_type": "code",
   "execution_count": 59,
   "metadata": {},
   "outputs": [
    {
     "data": {
      "text/plain": [
       "count    100000.000000\n",
       "mean          4.070890\n",
       "std           1.359663\n",
       "min           1.000000\n",
       "25%           4.000000\n",
       "50%           5.000000\n",
       "75%           5.000000\n",
       "max           5.000000\n",
       "Name: review_score, dtype: float64"
      ]
     },
     "execution_count": 59,
     "metadata": {},
     "output_type": "execute_result"
    }
   ],
   "source": [
    "df_reviews['review_score'].describe()"
   ]
  },
  {
   "cell_type": "markdown",
   "metadata": {},
   "source": [
    "### Joining dataset"
   ]
  },
  {
   "cell_type": "code",
   "execution_count": 60,
   "metadata": {},
   "outputs": [],
   "source": [
    "master = master.join(df_reviews.groupby('order_id').mean(), on='order_id')"
   ]
  },
  {
   "cell_type": "markdown",
   "metadata": {},
   "source": [
    "## Order items dataset"
   ]
  },
  {
   "cell_type": "code",
   "execution_count": 61,
   "metadata": {},
   "outputs": [],
   "source": [
    "df_items = pd.read_csv('data/olist_order_items_dataset.csv')"
   ]
  },
  {
   "cell_type": "code",
   "execution_count": 62,
   "metadata": {},
   "outputs": [
    {
     "data": {
      "text/html": [
       "<div>\n",
       "<style scoped>\n",
       "    .dataframe tbody tr th:only-of-type {\n",
       "        vertical-align: middle;\n",
       "    }\n",
       "\n",
       "    .dataframe tbody tr th {\n",
       "        vertical-align: top;\n",
       "    }\n",
       "\n",
       "    .dataframe thead th {\n",
       "        text-align: right;\n",
       "    }\n",
       "</style>\n",
       "<table border=\"1\" class=\"dataframe\">\n",
       "  <thead>\n",
       "    <tr style=\"text-align: right;\">\n",
       "      <th></th>\n",
       "      <th>order_item_id</th>\n",
       "      <th>price</th>\n",
       "      <th>freight_value</th>\n",
       "    </tr>\n",
       "  </thead>\n",
       "  <tbody>\n",
       "    <tr>\n",
       "      <th>count</th>\n",
       "      <td>112650.000000</td>\n",
       "      <td>112650.000000</td>\n",
       "      <td>112650.000000</td>\n",
       "    </tr>\n",
       "    <tr>\n",
       "      <th>mean</th>\n",
       "      <td>1.197834</td>\n",
       "      <td>120.653739</td>\n",
       "      <td>19.990320</td>\n",
       "    </tr>\n",
       "    <tr>\n",
       "      <th>std</th>\n",
       "      <td>0.705124</td>\n",
       "      <td>183.633928</td>\n",
       "      <td>15.806405</td>\n",
       "    </tr>\n",
       "    <tr>\n",
       "      <th>min</th>\n",
       "      <td>1.000000</td>\n",
       "      <td>0.850000</td>\n",
       "      <td>0.000000</td>\n",
       "    </tr>\n",
       "    <tr>\n",
       "      <th>25%</th>\n",
       "      <td>1.000000</td>\n",
       "      <td>39.900000</td>\n",
       "      <td>13.080000</td>\n",
       "    </tr>\n",
       "    <tr>\n",
       "      <th>50%</th>\n",
       "      <td>1.000000</td>\n",
       "      <td>74.990000</td>\n",
       "      <td>16.260000</td>\n",
       "    </tr>\n",
       "    <tr>\n",
       "      <th>75%</th>\n",
       "      <td>1.000000</td>\n",
       "      <td>134.900000</td>\n",
       "      <td>21.150000</td>\n",
       "    </tr>\n",
       "    <tr>\n",
       "      <th>max</th>\n",
       "      <td>21.000000</td>\n",
       "      <td>6735.000000</td>\n",
       "      <td>409.680000</td>\n",
       "    </tr>\n",
       "  </tbody>\n",
       "</table>\n",
       "</div>"
      ],
      "text/plain": [
       "       order_item_id          price  freight_value\n",
       "count  112650.000000  112650.000000  112650.000000\n",
       "mean        1.197834     120.653739      19.990320\n",
       "std         0.705124     183.633928      15.806405\n",
       "min         1.000000       0.850000       0.000000\n",
       "25%         1.000000      39.900000      13.080000\n",
       "50%         1.000000      74.990000      16.260000\n",
       "75%         1.000000     134.900000      21.150000\n",
       "max        21.000000    6735.000000     409.680000"
      ]
     },
     "execution_count": 62,
     "metadata": {},
     "output_type": "execute_result"
    }
   ],
   "source": [
    "df_items.describe()"
   ]
  },
  {
   "cell_type": "code",
   "execution_count": 63,
   "metadata": {},
   "outputs": [
    {
     "data": {
      "text/html": [
       "<div>\n",
       "<style scoped>\n",
       "    .dataframe tbody tr th:only-of-type {\n",
       "        vertical-align: middle;\n",
       "    }\n",
       "\n",
       "    .dataframe tbody tr th {\n",
       "        vertical-align: top;\n",
       "    }\n",
       "\n",
       "    .dataframe thead th {\n",
       "        text-align: right;\n",
       "    }\n",
       "</style>\n",
       "<table border=\"1\" class=\"dataframe\">\n",
       "  <thead>\n",
       "    <tr style=\"text-align: right;\">\n",
       "      <th></th>\n",
       "      <th>order_id</th>\n",
       "      <th>order_item_id</th>\n",
       "      <th>product_id</th>\n",
       "      <th>seller_id</th>\n",
       "      <th>shipping_limit_date</th>\n",
       "      <th>price</th>\n",
       "      <th>freight_value</th>\n",
       "    </tr>\n",
       "  </thead>\n",
       "  <tbody>\n",
       "    <tr>\n",
       "      <th>0</th>\n",
       "      <td>00010242fe8c5a6d1ba2dd792cb16214</td>\n",
       "      <td>1</td>\n",
       "      <td>4244733e06e7ecb4970a6e2683c13e61</td>\n",
       "      <td>48436dade18ac8b2bce089ec2a041202</td>\n",
       "      <td>2017-09-19 09:45:35</td>\n",
       "      <td>58.90</td>\n",
       "      <td>13.29</td>\n",
       "    </tr>\n",
       "    <tr>\n",
       "      <th>1</th>\n",
       "      <td>00018f77f2f0320c557190d7a144bdd3</td>\n",
       "      <td>1</td>\n",
       "      <td>e5f2d52b802189ee658865ca93d83a8f</td>\n",
       "      <td>dd7ddc04e1b6c2c614352b383efe2d36</td>\n",
       "      <td>2017-05-03 11:05:13</td>\n",
       "      <td>239.90</td>\n",
       "      <td>19.93</td>\n",
       "    </tr>\n",
       "    <tr>\n",
       "      <th>2</th>\n",
       "      <td>000229ec398224ef6ca0657da4fc703e</td>\n",
       "      <td>1</td>\n",
       "      <td>c777355d18b72b67abbeef9df44fd0fd</td>\n",
       "      <td>5b51032eddd242adc84c38acab88f23d</td>\n",
       "      <td>2018-01-18 14:48:30</td>\n",
       "      <td>199.00</td>\n",
       "      <td>17.87</td>\n",
       "    </tr>\n",
       "    <tr>\n",
       "      <th>3</th>\n",
       "      <td>00024acbcdf0a6daa1e931b038114c75</td>\n",
       "      <td>1</td>\n",
       "      <td>7634da152a4610f1595efa32f14722fc</td>\n",
       "      <td>9d7a1d34a5052409006425275ba1c2b4</td>\n",
       "      <td>2018-08-15 10:10:18</td>\n",
       "      <td>12.99</td>\n",
       "      <td>12.79</td>\n",
       "    </tr>\n",
       "    <tr>\n",
       "      <th>4</th>\n",
       "      <td>00042b26cf59d7ce69dfabb4e55b4fd9</td>\n",
       "      <td>1</td>\n",
       "      <td>ac6c3623068f30de03045865e4e10089</td>\n",
       "      <td>df560393f3a51e74553ab94004ba5c87</td>\n",
       "      <td>2017-02-13 13:57:51</td>\n",
       "      <td>199.90</td>\n",
       "      <td>18.14</td>\n",
       "    </tr>\n",
       "  </tbody>\n",
       "</table>\n",
       "</div>"
      ],
      "text/plain": [
       "                           order_id  order_item_id  \\\n",
       "0  00010242fe8c5a6d1ba2dd792cb16214              1   \n",
       "1  00018f77f2f0320c557190d7a144bdd3              1   \n",
       "2  000229ec398224ef6ca0657da4fc703e              1   \n",
       "3  00024acbcdf0a6daa1e931b038114c75              1   \n",
       "4  00042b26cf59d7ce69dfabb4e55b4fd9              1   \n",
       "\n",
       "                         product_id                         seller_id  \\\n",
       "0  4244733e06e7ecb4970a6e2683c13e61  48436dade18ac8b2bce089ec2a041202   \n",
       "1  e5f2d52b802189ee658865ca93d83a8f  dd7ddc04e1b6c2c614352b383efe2d36   \n",
       "2  c777355d18b72b67abbeef9df44fd0fd  5b51032eddd242adc84c38acab88f23d   \n",
       "3  7634da152a4610f1595efa32f14722fc  9d7a1d34a5052409006425275ba1c2b4   \n",
       "4  ac6c3623068f30de03045865e4e10089  df560393f3a51e74553ab94004ba5c87   \n",
       "\n",
       "   shipping_limit_date   price  freight_value  \n",
       "0  2017-09-19 09:45:35   58.90          13.29  \n",
       "1  2017-05-03 11:05:13  239.90          19.93  \n",
       "2  2018-01-18 14:48:30  199.00          17.87  \n",
       "3  2018-08-15 10:10:18   12.99          12.79  \n",
       "4  2017-02-13 13:57:51  199.90          18.14  "
      ]
     },
     "execution_count": 63,
     "metadata": {},
     "output_type": "execute_result"
    }
   ],
   "source": [
    "df_items.head()"
   ]
  },
  {
   "cell_type": "code",
   "execution_count": 64,
   "metadata": {},
   "outputs": [
    {
     "data": {
      "text/plain": [
       "{'whiskers': [<matplotlib.lines.Line2D at 0x1df112edd00>,\n",
       "  <matplotlib.lines.Line2D at 0x1df0b36b0a0>],\n",
       " 'caps': [<matplotlib.lines.Line2D at 0x1df0b36b400>,\n",
       "  <matplotlib.lines.Line2D at 0x1df0b36b760>],\n",
       " 'boxes': [<matplotlib.lines.Line2D at 0x1df112ed9a0>],\n",
       " 'medians': [<matplotlib.lines.Line2D at 0x1df0b36ba90>],\n",
       " 'fliers': [<matplotlib.lines.Line2D at 0x1df0b36bdc0>],\n",
       " 'means': []}"
      ]
     },
     "execution_count": 64,
     "metadata": {},
     "output_type": "execute_result"
    },
    {
     "data": {
      "image/png": "[encoded data removed]",
      "text/plain": [
       "<Figure size 432x288 with 1 Axes>"
      ]
     },
     "metadata": {
      "needs_background": "light"
     },
     "output_type": "display_data"
    }
   ],
   "source": [
    "plt.boxplot(df_items['price'])"
   ]
  },
  {
   "cell_type": "code",
   "execution_count": 65,
   "metadata": {},
   "outputs": [
    {
     "data": {
      "text/plain": [
       "1     98666\n",
       "2      9803\n",
       "3      2287\n",
       "4       965\n",
       "5       460\n",
       "6       256\n",
       "7        58\n",
       "8        36\n",
       "9        28\n",
       "10       25\n",
       "11       17\n",
       "12       13\n",
       "13        8\n",
       "14        7\n",
       "15        5\n",
       "20        3\n",
       "16        3\n",
       "17        3\n",
       "18        3\n",
       "19        3\n",
       "21        1\n",
       "Name: order_item_id, dtype: int64"
      ]
     },
     "execution_count": 65,
     "metadata": {},
     "output_type": "execute_result"
    }
   ],
   "source": [
    "df_items['order_item_id'].value_counts()"
   ]
  },
  {
   "cell_type": "code",
   "execution_count": 66,
   "metadata": {},
   "outputs": [],
   "source": [
    "master.to_pickle('data/master')"
   ]
  },
  {
   "cell_type": "code",
   "execution_count": 67,
   "metadata": {},
   "outputs": [],
   "source": [
    "master = pd.read_pickle('data/master')"
   ]
  },
  {
   "cell_type": "markdown",
   "metadata": {},
   "source": [
    "## Building final dataset"
   ]
  },
  {
   "cell_type": "code",
   "execution_count": 68,
   "metadata": {},
   "outputs": [],
   "source": [
    "df_customer_unique = pd.DataFrame(\n",
    "    df_customers['customer_unique_id'].unique(), columns=['customer_unique_id'])"
   ]
  },
  {
   "cell_type": "code",
   "execution_count": 69,
   "metadata": {},
   "outputs": [],
   "source": [
    "def create_master_quarter(master, Q_begin, Q_end):\n",
    "    '''Returns merged dataframe corresponding to the period between the two specified quarter included. Q must be string 2017Q1'''\n",
    "    Q_begin = pd.Period(Q_begin)\n",
    "    Q_end = pd.Period(Q_end)\n",
    "    df = master[((Q_begin <= master['quarter'])\n",
    "                 & (master['quarter'] <= Q_end))]\n",
    "    return df"
   ]
  },
  {
   "cell_type": "markdown",
   "metadata": {},
   "source": [
    "### Features"
   ]
  },
  {
   "cell_type": "code",
   "execution_count": 70,
   "metadata": {},
   "outputs": [],
   "source": [
    "def compute_features(master, customer):\n",
    "\n",
    "    # Frequency\n",
    "    df = customer.join(master.groupby('customer_unique_id').count()['order_id'],\n",
    "                       on='customer_unique_id',\n",
    "                       how='inner')\n",
    "    df.rename(columns={'order_id': 'frequency'}, inplace=True)\n",
    "\n",
    "    # recency\n",
    "    df = df.join(master[['recency', 'customer_unique_id']].groupby('customer_unique_id').min(),\n",
    "                 on='customer_unique_id')\n",
    "    df['recency'] = df['recency'] - df['recency'].min()\n",
    "\n",
    "    # monetary\n",
    "    df = df.join(master[['customer_unique_id', 'payment_value']].groupby('customer_unique_id').sum(),\n",
    "                 on='customer_unique_id')\n",
    "    df.rename(columns={'payment_value': 'monetary'}, inplace=True)\n",
    "\n",
    "    # monetary_log\n",
    "    df['monetary'] = df['monetary'].replace(0, 1)\n",
    "    df['monetary_log'] = np.log(df['monetary'])\n",
    "\n",
    "    # review score count and mean\n",
    "    df = df.join(master[['customer_unique_id', 'review_score']].groupby('customer_unique_id').count(),\n",
    "                 on='customer_unique_id')\n",
    "    df.rename(columns={'review_score': 'review_counts'}, inplace=True)\n",
    "\n",
    "    df = df.join(master[['customer_unique_id', 'review_score']].groupby('customer_unique_id').mean(),\n",
    "                 on='customer_unique_id')\n",
    "\n",
    "    # delivery time\n",
    "    df = df.join(master[['customer_unique_id', 'delivery_difference_time']].groupby('customer_unique_id').mean(),\n",
    "                 on='customer_unique_id')\n",
    "\n",
    "    # log delivery time\n",
    "    df['delivery_difference_time'] = df['delivery_difference_time'].replace(\n",
    "        0, 1)\n",
    "\n",
    "    pos_index = df[df['delivery_difference_time'] > 0].index\n",
    "    neg_index = df[df['delivery_difference_time'] < 0].index\n",
    "\n",
    "    df['delivery_difference_time_log'] = df['delivery_difference_time']\n",
    "\n",
    "    df.loc[pos_index, 'delivery_difference_time_log'] = np.log(\n",
    "        df.loc[pos_index, 'delivery_difference_time'])\n",
    "    df.loc[neg_index, 'delivery_difference_time_log'] = - \\\n",
    "        np.log(np.abs(df.loc[neg_index, 'delivery_difference_time']))\n",
    "\n",
    "    # Mean installment\n",
    "    df = df.join(master[['customer_unique_id', 'payment_installments']].groupby('customer_unique_id').mean(),\n",
    "                 on='customer_unique_id')\n",
    "\n",
    "    return df"
   ]
  },
  {
   "cell_type": "code",
   "execution_count": 71,
   "metadata": {},
   "outputs": [],
   "source": [
    "def display_distribution(df, cols, title):\n",
    "    size = len(cols)\n",
    "    nb_row = size//3\n",
    "    fig, axs = plt.subplots(nb_row, 3, figsize=(12, 12))\n",
    "    i = 0\n",
    "    for col in cols:\n",
    "        sns.boxplot(x=df[col], ax=axs[i//3, i % 3])\n",
    "        # axs[i//3,i%3].boxplot(df[col])\n",
    "        axs[i//3, i % 3].set_title(col)\n",
    "        i += 1\n",
    "    plt.suptitle(title)\n",
    "    plt.tight_layout()"
   ]
  },
  {
   "cell_type": "markdown",
   "metadata": {},
   "source": [
    "## Creating Quarterly datasets"
   ]
  },
  {
   "cell_type": "code",
   "execution_count": 73,
   "metadata": {
    "scrolled": false
   },
   "outputs": [
    {
     "data": {
      "text/html": [
       "<div>\n",
       "<style scoped>\n",
       "    .dataframe tbody tr th:only-of-type {\n",
       "        vertical-align: middle;\n",
       "    }\n",
       "\n",
       "    .dataframe tbody tr th {\n",
       "        vertical-align: top;\n",
       "    }\n",
       "\n",
       "    .dataframe thead th {\n",
       "        text-align: right;\n",
       "    }\n",
       "</style>\n",
       "<table border=\"1\" class=\"dataframe\">\n",
       "  <thead>\n",
       "    <tr style=\"text-align: right;\">\n",
       "      <th></th>\n",
       "      <th>order_id</th>\n",
       "      <th>payment_sequential</th>\n",
       "      <th>payment_type</th>\n",
       "      <th>payment_installments</th>\n",
       "      <th>payment_value</th>\n",
       "      <th>total_order_payment_amount</th>\n",
       "      <th>customer_id</th>\n",
       "      <th>customer_unique_id</th>\n",
       "      <th>customer_zip_code_prefix</th>\n",
       "      <th>customer_city</th>\n",
       "      <th>...</th>\n",
       "      <th>order_purchase_timestamp</th>\n",
       "      <th>order_approved_at</th>\n",
       "      <th>order_delivered_carrier_date</th>\n",
       "      <th>order_delivered_customer_date</th>\n",
       "      <th>order_estimated_delivery_date</th>\n",
       "      <th>purchase_weekday</th>\n",
       "      <th>purchase_period</th>\n",
       "      <th>delivery_difference_time</th>\n",
       "      <th>recency</th>\n",
       "      <th>review_score</th>\n",
       "    </tr>\n",
       "    <tr>\n",
       "      <th>quarter</th>\n",
       "      <th></th>\n",
       "      <th></th>\n",
       "      <th></th>\n",
       "      <th></th>\n",
       "      <th></th>\n",
       "      <th></th>\n",
       "      <th></th>\n",
       "      <th></th>\n",
       "      <th></th>\n",
       "      <th></th>\n",
       "      <th></th>\n",
       "      <th></th>\n",
       "      <th></th>\n",
       "      <th></th>\n",
       "      <th></th>\n",
       "      <th></th>\n",
       "      <th></th>\n",
       "      <th></th>\n",
       "      <th></th>\n",
       "      <th></th>\n",
       "      <th></th>\n",
       "    </tr>\n",
       "  </thead>\n",
       "  <tbody>\n",
       "    <tr>\n",
       "      <th>2016Q3</th>\n",
       "      <td>4</td>\n",
       "      <td>3</td>\n",
       "      <td>3</td>\n",
       "      <td>3</td>\n",
       "      <td>3</td>\n",
       "      <td>3</td>\n",
       "      <td>4</td>\n",
       "      <td>4</td>\n",
       "      <td>4</td>\n",
       "      <td>4</td>\n",
       "      <td>...</td>\n",
       "      <td>4</td>\n",
       "      <td>4</td>\n",
       "      <td>2</td>\n",
       "      <td>1</td>\n",
       "      <td>4</td>\n",
       "      <td>4</td>\n",
       "      <td>4</td>\n",
       "      <td>1</td>\n",
       "      <td>4</td>\n",
       "      <td>4</td>\n",
       "    </tr>\n",
       "    <tr>\n",
       "      <th>2016Q4</th>\n",
       "      <td>343</td>\n",
       "      <td>343</td>\n",
       "      <td>343</td>\n",
       "      <td>343</td>\n",
       "      <td>343</td>\n",
       "      <td>343</td>\n",
       "      <td>343</td>\n",
       "      <td>343</td>\n",
       "      <td>343</td>\n",
       "      <td>343</td>\n",
       "      <td>...</td>\n",
       "      <td>343</td>\n",
       "      <td>337</td>\n",
       "      <td>297</td>\n",
       "      <td>288</td>\n",
       "      <td>343</td>\n",
       "      <td>343</td>\n",
       "      <td>343</td>\n",
       "      <td>288</td>\n",
       "      <td>343</td>\n",
       "      <td>343</td>\n",
       "    </tr>\n",
       "    <tr>\n",
       "      <th>2017Q1</th>\n",
       "      <td>5573</td>\n",
       "      <td>5573</td>\n",
       "      <td>5573</td>\n",
       "      <td>5573</td>\n",
       "      <td>5573</td>\n",
       "      <td>5573</td>\n",
       "      <td>5573</td>\n",
       "      <td>5573</td>\n",
       "      <td>5573</td>\n",
       "      <td>5573</td>\n",
       "      <td>...</td>\n",
       "      <td>5573</td>\n",
       "      <td>5554</td>\n",
       "      <td>5333</td>\n",
       "      <td>5248</td>\n",
       "      <td>5573</td>\n",
       "      <td>5573</td>\n",
       "      <td>5573</td>\n",
       "      <td>5248</td>\n",
       "      <td>5573</td>\n",
       "      <td>5573</td>\n",
       "    </tr>\n",
       "    <tr>\n",
       "      <th>2017Q2</th>\n",
       "      <td>9951</td>\n",
       "      <td>9951</td>\n",
       "      <td>9951</td>\n",
       "      <td>9951</td>\n",
       "      <td>9951</td>\n",
       "      <td>9951</td>\n",
       "      <td>9951</td>\n",
       "      <td>9951</td>\n",
       "      <td>9951</td>\n",
       "      <td>9951</td>\n",
       "      <td>...</td>\n",
       "      <td>9951</td>\n",
       "      <td>9931</td>\n",
       "      <td>9728</td>\n",
       "      <td>9545</td>\n",
       "      <td>9951</td>\n",
       "      <td>9951</td>\n",
       "      <td>9951</td>\n",
       "      <td>9545</td>\n",
       "      <td>9951</td>\n",
       "      <td>9951</td>\n",
       "    </tr>\n",
       "    <tr>\n",
       "      <th>2017Q3</th>\n",
       "      <td>13383</td>\n",
       "      <td>13383</td>\n",
       "      <td>13383</td>\n",
       "      <td>13383</td>\n",
       "      <td>13383</td>\n",
       "      <td>13383</td>\n",
       "      <td>13383</td>\n",
       "      <td>13383</td>\n",
       "      <td>13383</td>\n",
       "      <td>13383</td>\n",
       "      <td>...</td>\n",
       "      <td>13383</td>\n",
       "      <td>13363</td>\n",
       "      <td>13049</td>\n",
       "      <td>12911</td>\n",
       "      <td>13383</td>\n",
       "      <td>13383</td>\n",
       "      <td>13383</td>\n",
       "      <td>12911</td>\n",
       "      <td>13383</td>\n",
       "      <td>13383</td>\n",
       "    </tr>\n",
       "    <tr>\n",
       "      <th>2017Q4</th>\n",
       "      <td>18618</td>\n",
       "      <td>18618</td>\n",
       "      <td>18618</td>\n",
       "      <td>18618</td>\n",
       "      <td>18618</td>\n",
       "      <td>18618</td>\n",
       "      <td>18618</td>\n",
       "      <td>18618</td>\n",
       "      <td>18618</td>\n",
       "      <td>18618</td>\n",
       "      <td>...</td>\n",
       "      <td>18618</td>\n",
       "      <td>18597</td>\n",
       "      <td>18187</td>\n",
       "      <td>18019</td>\n",
       "      <td>18618</td>\n",
       "      <td>18618</td>\n",
       "      <td>18618</td>\n",
       "      <td>18019</td>\n",
       "      <td>18618</td>\n",
       "      <td>18618</td>\n",
       "    </tr>\n",
       "    <tr>\n",
       "      <th>2018Q1</th>\n",
       "      <td>22027</td>\n",
       "      <td>22027</td>\n",
       "      <td>22027</td>\n",
       "      <td>22027</td>\n",
       "      <td>22027</td>\n",
       "      <td>22027</td>\n",
       "      <td>22027</td>\n",
       "      <td>22027</td>\n",
       "      <td>22027</td>\n",
       "      <td>22027</td>\n",
       "      <td>...</td>\n",
       "      <td>22027</td>\n",
       "      <td>22019</td>\n",
       "      <td>21770</td>\n",
       "      <td>21425</td>\n",
       "      <td>22027</td>\n",
       "      <td>22027</td>\n",
       "      <td>22027</td>\n",
       "      <td>21425</td>\n",
       "      <td>22027</td>\n",
       "      <td>22027</td>\n",
       "    </tr>\n",
       "    <tr>\n",
       "      <th>2018Q2</th>\n",
       "      <td>20763</td>\n",
       "      <td>20763</td>\n",
       "      <td>20763</td>\n",
       "      <td>20763</td>\n",
       "      <td>20763</td>\n",
       "      <td>20763</td>\n",
       "      <td>20763</td>\n",
       "      <td>20763</td>\n",
       "      <td>20763</td>\n",
       "      <td>20763</td>\n",
       "      <td>...</td>\n",
       "      <td>20763</td>\n",
       "      <td>20755</td>\n",
       "      <td>20617</td>\n",
       "      <td>20416</td>\n",
       "      <td>20763</td>\n",
       "      <td>20763</td>\n",
       "      <td>20763</td>\n",
       "      <td>20416</td>\n",
       "      <td>20763</td>\n",
       "      <td>20763</td>\n",
       "    </tr>\n",
       "    <tr>\n",
       "      <th>2018Q3</th>\n",
       "      <td>13221</td>\n",
       "      <td>13221</td>\n",
       "      <td>13221</td>\n",
       "      <td>13221</td>\n",
       "      <td>13221</td>\n",
       "      <td>13221</td>\n",
       "      <td>13221</td>\n",
       "      <td>13221</td>\n",
       "      <td>13221</td>\n",
       "      <td>13221</td>\n",
       "      <td>...</td>\n",
       "      <td>13221</td>\n",
       "      <td>13152</td>\n",
       "      <td>13016</td>\n",
       "      <td>12902</td>\n",
       "      <td>13221</td>\n",
       "      <td>13221</td>\n",
       "      <td>13221</td>\n",
       "      <td>12902</td>\n",
       "      <td>13221</td>\n",
       "      <td>13221</td>\n",
       "    </tr>\n",
       "    <tr>\n",
       "      <th>2018Q4</th>\n",
       "      <td>4</td>\n",
       "      <td>4</td>\n",
       "      <td>4</td>\n",
       "      <td>4</td>\n",
       "      <td>4</td>\n",
       "      <td>4</td>\n",
       "      <td>4</td>\n",
       "      <td>4</td>\n",
       "      <td>4</td>\n",
       "      <td>4</td>\n",
       "      <td>...</td>\n",
       "      <td>4</td>\n",
       "      <td>0</td>\n",
       "      <td>0</td>\n",
       "      <td>0</td>\n",
       "      <td>4</td>\n",
       "      <td>4</td>\n",
       "      <td>4</td>\n",
       "      <td>0</td>\n",
       "      <td>4</td>\n",
       "      <td>4</td>\n",
       "    </tr>\n",
       "  </tbody>\n",
       "</table>\n",
       "<p>10 rows × 22 columns</p>\n",
       "</div>"
      ],
      "text/plain": [
       "         order_id  payment_sequential  payment_type  payment_installments  \\\n",
       "quarter                                                                     \n",
       "2016Q3          4                   3             3                     3   \n",
       "2016Q4        343                 343           343                   343   \n",
       "2017Q1       5573                5573          5573                  5573   \n",
       "2017Q2       9951                9951          9951                  9951   \n",
       "2017Q3      13383               13383         13383                 13383   \n",
       "2017Q4      18618               18618         18618                 18618   \n",
       "2018Q1      22027               22027         22027                 22027   \n",
       "2018Q2      20763               20763         20763                 20763   \n",
       "2018Q3      13221               13221         13221                 13221   \n",
       "2018Q4          4                   4             4                     4   \n",
       "\n",
       "         payment_value  total_order_payment_amount  customer_id  \\\n",
       "quarter                                                           \n",
       "2016Q3               3                           3            4   \n",
       "2016Q4             343                         343          343   \n",
       "2017Q1            5573                        5573         5573   \n",
       "2017Q2            9951                        9951         9951   \n",
       "2017Q3           13383                       13383        13383   \n",
       "2017Q4           18618                       18618        18618   \n",
       "2018Q1           22027                       22027        22027   \n",
       "2018Q2           20763                       20763        20763   \n",
       "2018Q3           13221                       13221        13221   \n",
       "2018Q4               4                           4            4   \n",
       "\n",
       "         customer_unique_id  customer_zip_code_prefix  customer_city  ...  \\\n",
       "quarter                                                               ...   \n",
       "2016Q3                    4                         4              4  ...   \n",
       "2016Q4                  343                       343            343  ...   \n",
       "2017Q1                 5573                      5573           5573  ...   \n",
       "2017Q2                 9951                      9951           9951  ...   \n",
       "2017Q3                13383                     13383          13383  ...   \n",
       "2017Q4                18618                     18618          18618  ...   \n",
       "2018Q1                22027                     22027          22027  ...   \n",
       "2018Q2                20763                     20763          20763  ...   \n",
       "2018Q3                13221                     13221          13221  ...   \n",
       "2018Q4                    4                         4              4  ...   \n",
       "\n",
       "         order_purchase_timestamp  order_approved_at  \\\n",
       "quarter                                                \n",
       "2016Q3                          4                  4   \n",
       "2016Q4                        343                337   \n",
       "2017Q1                       5573               5554   \n",
       "2017Q2                       9951               9931   \n",
       "2017Q3                      13383              13363   \n",
       "2017Q4                      18618              18597   \n",
       "2018Q1                      22027              22019   \n",
       "2018Q2                      20763              20755   \n",
       "2018Q3                      13221              13152   \n",
       "2018Q4                          4                  0   \n",
       "\n",
       "         order_delivered_carrier_date  order_delivered_customer_date  \\\n",
       "quarter                                                                \n",
       "2016Q3                              2                              1   \n",
       "2016Q4                            297                            288   \n",
       "2017Q1                           5333                           5248   \n",
       "2017Q2                           9728                           9545   \n",
       "2017Q3                          13049                          12911   \n",
       "2017Q4                          18187                          18019   \n",
       "2018Q1                          21770                          21425   \n",
       "2018Q2                          20617                          20416   \n",
       "2018Q3                          13016                          12902   \n",
       "2018Q4                              0                              0   \n",
       "\n",
       "         order_estimated_delivery_date  purchase_weekday  purchase_period  \\\n",
       "quarter                                                                     \n",
       "2016Q3                               4                 4                4   \n",
       "2016Q4                             343               343              343   \n",
       "2017Q1                            5573              5573             5573   \n",
       "2017Q2                            9951              9951             9951   \n",
       "2017Q3                           13383             13383            13383   \n",
       "2017Q4                           18618             18618            18618   \n",
       "2018Q1                           22027             22027            22027   \n",
       "2018Q2                           20763             20763            20763   \n",
       "2018Q3                           13221             13221            13221   \n",
       "2018Q4                               4                 4                4   \n",
       "\n",
       "         delivery_difference_time  recency  review_score  \n",
       "quarter                                                   \n",
       "2016Q3                          1        4             4  \n",
       "2016Q4                        288      343           343  \n",
       "2017Q1                       5248     5573          5573  \n",
       "2017Q2                       9545     9951          9951  \n",
       "2017Q3                      12911    13383         13383  \n",
       "2017Q4                      18019    18618         18618  \n",
       "2018Q1                      21425    22027         22027  \n",
       "2018Q2                      20416    20763         20763  \n",
       "2018Q3                      12902    13221         13221  \n",
       "2018Q4                          0        4             4  \n",
       "\n",
       "[10 rows x 22 columns]"
      ]
     },
     "execution_count": 73,
     "metadata": {},
     "output_type": "execute_result"
    }
   ],
   "source": [
    "master.groupby('quarter').count()"
   ]
  },
  {
   "cell_type": "code",
   "execution_count": 74,
   "metadata": {},
   "outputs": [],
   "source": [
    "quarters = master.groupby('quarter').count().index[3:-1]"
   ]
  },
  {
   "cell_type": "code",
   "execution_count": 75,
   "metadata": {},
   "outputs": [],
   "source": [
    "quarters_df = []"
   ]
  },
  {
   "cell_type": "code",
   "execution_count": 76,
   "metadata": {},
   "outputs": [],
   "source": [
    "for i in range(len(quarters)):\n",
    "    quarters_df.append(\n",
    "        compute_features(create_master_quarter(\n",
    "            master, quarters[0], quarters[i]), df_customer_unique)\n",
    "    )"
   ]
  },
  {
   "cell_type": "code",
   "execution_count": 77,
   "metadata": {},
   "outputs": [],
   "source": [
    "full_df = compute_features(create_master_quarter(\n",
    "    master, quarters[0], quarters[-1]), df_customer_unique)"
   ]
  },
  {
   "cell_type": "code",
   "execution_count": 78,
   "metadata": {},
   "outputs": [
    {
     "data": {
      "text/plain": [
       "13482"
      ]
     },
     "execution_count": 78,
     "metadata": {},
     "output_type": "execute_result"
    }
   ],
   "source": [
    "full_df[full_df['review_score'] <= 2]['review_score'].count()"
   ]
  },
  {
   "cell_type": "code",
   "execution_count": 79,
   "metadata": {},
   "outputs": [
    {
     "data": {
      "text/plain": [
       "90794"
      ]
     },
     "execution_count": 79,
     "metadata": {},
     "output_type": "execute_result"
    }
   ],
   "source": [
    "full_df.shape[0]"
   ]
  },
  {
   "cell_type": "code",
   "execution_count": 80,
   "metadata": {},
   "outputs": [
    {
     "data": {
      "image/png": "[encoded data removed]",
      "text/plain": [
       "<Figure size 864x864 with 9 Axes>"
      ]
     },
     "metadata": {
      "needs_background": "light"
     },
     "output_type": "display_data"
    }
   ],
   "source": [
    "display_distribution(full_df, ['frequency', 'recency', 'monetary_log', 'monetary', 'review_counts', 'review_score',\n",
    "                               'delivery_difference_time', 'delivery_difference_time_log', 'payment_installments'], 'full dataset')"
   ]
  },
  {
   "cell_type": "markdown",
   "metadata": {},
   "source": [
    "## Quantile transformer"
   ]
  },
  {
   "cell_type": "code",
   "execution_count": 81,
   "metadata": {},
   "outputs": [],
   "source": [
    "def compute_QT_features(df, columns):\n",
    "    QT = QuantileTransformer()\n",
    "    QT_df = pd.DataFrame(index=df.index)\n",
    "    for col in cols:\n",
    "        QT_df[col] = QT.fit_transform(np.array(df[col].values).reshape(-1, 1))\n",
    "    df = df.join(QT_df, lsuffix='', rsuffix='_QT')\n",
    "\n",
    "    return df"
   ]
  },
  {
   "cell_type": "code",
   "execution_count": 82,
   "metadata": {},
   "outputs": [
    {
     "data": {
      "text/plain": [
       "Index(['customer_unique_id', 'frequency', 'recency', 'monetary',\n",
       "       'monetary_log', 'review_counts', 'review_score',\n",
       "       'delivery_difference_time', 'delivery_difference_time_log',\n",
       "       'payment_installments'],\n",
       "      dtype='object')"
      ]
     },
     "execution_count": 82,
     "metadata": {},
     "output_type": "execute_result"
    }
   ],
   "source": [
    "full_df.columns"
   ]
  },
  {
   "cell_type": "code",
   "execution_count": 83,
   "metadata": {},
   "outputs": [],
   "source": [
    "cols = ['frequency', 'recency', 'monetary_log', 'monetary', 'review_counts', 'review_score',\n",
    "        'delivery_difference_time', 'delivery_difference_time_log', 'payment_installments']"
   ]
  },
  {
   "cell_type": "code",
   "execution_count": 84,
   "metadata": {},
   "outputs": [],
   "source": [
    "full_df = compute_QT_features(full_df, cols)"
   ]
  },
  {
   "cell_type": "code",
   "execution_count": 85,
   "metadata": {},
   "outputs": [],
   "source": [
    "for i in range(len(quarters)):\n",
    "    quarters_df[i] = compute_QT_features(quarters_df[i], cols)"
   ]
  },
  {
   "cell_type": "code",
   "execution_count": 86,
   "metadata": {},
   "outputs": [
    {
     "data": {
      "text/html": [
       "<div>\n",
       "<style scoped>\n",
       "    .dataframe tbody tr th:only-of-type {\n",
       "        vertical-align: middle;\n",
       "    }\n",
       "\n",
       "    .dataframe tbody tr th {\n",
       "        vertical-align: top;\n",
       "    }\n",
       "\n",
       "    .dataframe thead th {\n",
       "        text-align: right;\n",
       "    }\n",
       "</style>\n",
       "<table border=\"1\" class=\"dataframe\">\n",
       "  <thead>\n",
       "    <tr style=\"text-align: right;\">\n",
       "      <th></th>\n",
       "      <th>customer_unique_id</th>\n",
       "      <th>frequency</th>\n",
       "      <th>recency</th>\n",
       "      <th>monetary</th>\n",
       "      <th>monetary_log</th>\n",
       "      <th>review_counts</th>\n",
       "      <th>review_score</th>\n",
       "      <th>delivery_difference_time</th>\n",
       "      <th>delivery_difference_time_log</th>\n",
       "      <th>payment_installments</th>\n",
       "      <th>frequency_QT</th>\n",
       "      <th>recency_QT</th>\n",
       "      <th>monetary_log_QT</th>\n",
       "      <th>monetary_QT</th>\n",
       "      <th>review_counts_QT</th>\n",
       "      <th>review_score_QT</th>\n",
       "      <th>delivery_difference_time_QT</th>\n",
       "      <th>delivery_difference_time_log_QT</th>\n",
       "      <th>payment_installments_QT</th>\n",
       "    </tr>\n",
       "  </thead>\n",
       "  <tbody>\n",
       "    <tr>\n",
       "      <th>0</th>\n",
       "      <td>861eff4711a542e4b93843c6dd7febb0</td>\n",
       "      <td>1</td>\n",
       "      <td>501.0</td>\n",
       "      <td>146.87</td>\n",
       "      <td>4.989548</td>\n",
       "      <td>1</td>\n",
       "      <td>4.0</td>\n",
       "      <td>-11.0</td>\n",
       "      <td>-2.397895</td>\n",
       "      <td>2.0</td>\n",
       "      <td>0.0</td>\n",
       "      <td>0.956456</td>\n",
       "      <td>0.649541</td>\n",
       "      <td>0.649541</td>\n",
       "      <td>0.0</td>\n",
       "      <td>0.33033</td>\n",
       "      <td>0.556056</td>\n",
       "      <td>0.556056</td>\n",
       "      <td>0.549049</td>\n",
       "    </tr>\n",
       "    <tr>\n",
       "      <th>1</th>\n",
       "      <td>290c77bc529b7ac935b93aa66c333dc3</td>\n",
       "      <td>1</td>\n",
       "      <td>259.0</td>\n",
       "      <td>335.48</td>\n",
       "      <td>5.815562</td>\n",
       "      <td>1</td>\n",
       "      <td>5.0</td>\n",
       "      <td>-8.0</td>\n",
       "      <td>-2.079442</td>\n",
       "      <td>8.0</td>\n",
       "      <td>0.0</td>\n",
       "      <td>0.551552</td>\n",
       "      <td>0.908653</td>\n",
       "      <td>0.908652</td>\n",
       "      <td>0.0</td>\n",
       "      <td>1.00000</td>\n",
       "      <td>0.704705</td>\n",
       "      <td>0.704705</td>\n",
       "      <td>0.919920</td>\n",
       "    </tr>\n",
       "    <tr>\n",
       "      <th>2</th>\n",
       "      <td>060e732b5b29e8181a18229c7b0b2b5e</td>\n",
       "      <td>1</td>\n",
       "      <td>133.0</td>\n",
       "      <td>157.73</td>\n",
       "      <td>5.060885</td>\n",
       "      <td>1</td>\n",
       "      <td>5.0</td>\n",
       "      <td>1.0</td>\n",
       "      <td>0.000000</td>\n",
       "      <td>7.0</td>\n",
       "      <td>0.0</td>\n",
       "      <td>0.225726</td>\n",
       "      <td>0.683172</td>\n",
       "      <td>0.683172</td>\n",
       "      <td>0.0</td>\n",
       "      <td>1.00000</td>\n",
       "      <td>0.928428</td>\n",
       "      <td>0.920420</td>\n",
       "      <td>0.890390</td>\n",
       "    </tr>\n",
       "    <tr>\n",
       "      <th>3</th>\n",
       "      <td>259dac757896d24d7702b9acbbff3f3c</td>\n",
       "      <td>1</td>\n",
       "      <td>200.0</td>\n",
       "      <td>173.30</td>\n",
       "      <td>5.155024</td>\n",
       "      <td>1</td>\n",
       "      <td>5.0</td>\n",
       "      <td>-13.0</td>\n",
       "      <td>-2.564949</td>\n",
       "      <td>1.0</td>\n",
       "      <td>0.0</td>\n",
       "      <td>0.401401</td>\n",
       "      <td>0.727803</td>\n",
       "      <td>0.727803</td>\n",
       "      <td>0.0</td>\n",
       "      <td>1.00000</td>\n",
       "      <td>0.451451</td>\n",
       "      <td>0.421421</td>\n",
       "      <td>0.241742</td>\n",
       "    </tr>\n",
       "    <tr>\n",
       "      <th>4</th>\n",
       "      <td>345ecd01c38d18a9036ed96c73b8d066</td>\n",
       "      <td>1</td>\n",
       "      <td>62.0</td>\n",
       "      <td>252.25</td>\n",
       "      <td>5.530421</td>\n",
       "      <td>1</td>\n",
       "      <td>5.0</td>\n",
       "      <td>-6.0</td>\n",
       "      <td>-1.791759</td>\n",
       "      <td>8.0</td>\n",
       "      <td>0.0</td>\n",
       "      <td>0.079580</td>\n",
       "      <td>0.854813</td>\n",
       "      <td>0.854813</td>\n",
       "      <td>0.0</td>\n",
       "      <td>1.00000</td>\n",
       "      <td>0.801802</td>\n",
       "      <td>0.801802</td>\n",
       "      <td>0.919920</td>\n",
       "    </tr>\n",
       "    <tr>\n",
       "      <th>...</th>\n",
       "      <td>...</td>\n",
       "      <td>...</td>\n",
       "      <td>...</td>\n",
       "      <td>...</td>\n",
       "      <td>...</td>\n",
       "      <td>...</td>\n",
       "      <td>...</td>\n",
       "      <td>...</td>\n",
       "      <td>...</td>\n",
       "      <td>...</td>\n",
       "      <td>...</td>\n",
       "      <td>...</td>\n",
       "      <td>...</td>\n",
       "      <td>...</td>\n",
       "      <td>...</td>\n",
       "      <td>...</td>\n",
       "      <td>...</td>\n",
       "      <td>...</td>\n",
       "      <td>...</td>\n",
       "    </tr>\n",
       "    <tr>\n",
       "      <th>96091</th>\n",
       "      <td>1a29b476fee25c95fbafc67c5ac95cf8</td>\n",
       "      <td>1</td>\n",
       "      <td>175.0</td>\n",
       "      <td>88.78</td>\n",
       "      <td>4.486161</td>\n",
       "      <td>1</td>\n",
       "      <td>4.0</td>\n",
       "      <td>-12.0</td>\n",
       "      <td>-2.484907</td>\n",
       "      <td>6.0</td>\n",
       "      <td>0.0</td>\n",
       "      <td>0.339339</td>\n",
       "      <td>0.407630</td>\n",
       "      <td>0.407630</td>\n",
       "      <td>0.0</td>\n",
       "      <td>0.33033</td>\n",
       "      <td>0.507007</td>\n",
       "      <td>0.483984</td>\n",
       "      <td>0.863363</td>\n",
       "    </tr>\n",
       "    <tr>\n",
       "      <th>96092</th>\n",
       "      <td>d52a67c98be1cf6a5c84435bd38d095d</td>\n",
       "      <td>1</td>\n",
       "      <td>178.0</td>\n",
       "      <td>129.06</td>\n",
       "      <td>4.860277</td>\n",
       "      <td>1</td>\n",
       "      <td>5.0</td>\n",
       "      <td>-9.0</td>\n",
       "      <td>-2.197225</td>\n",
       "      <td>3.0</td>\n",
       "      <td>0.0</td>\n",
       "      <td>0.346847</td>\n",
       "      <td>0.586973</td>\n",
       "      <td>0.586973</td>\n",
       "      <td>0.0</td>\n",
       "      <td>1.00000</td>\n",
       "      <td>0.654154</td>\n",
       "      <td>0.654154</td>\n",
       "      <td>0.665666</td>\n",
       "    </tr>\n",
       "    <tr>\n",
       "      <th>96093</th>\n",
       "      <td>e9f50caf99f032f0bf3c55141f019d99</td>\n",
       "      <td>1</td>\n",
       "      <td>173.0</td>\n",
       "      <td>56.04</td>\n",
       "      <td>4.026066</td>\n",
       "      <td>1</td>\n",
       "      <td>1.0</td>\n",
       "      <td>7.0</td>\n",
       "      <td>1.945910</td>\n",
       "      <td>5.0</td>\n",
       "      <td>0.0</td>\n",
       "      <td>0.335335</td>\n",
       "      <td>0.202243</td>\n",
       "      <td>0.202243</td>\n",
       "      <td>0.0</td>\n",
       "      <td>0.00000</td>\n",
       "      <td>0.967968</td>\n",
       "      <td>0.965966</td>\n",
       "      <td>0.815816</td>\n",
       "    </tr>\n",
       "    <tr>\n",
       "      <th>96094</th>\n",
       "      <td>73c2643a0a458b49f58cea58833b192e</td>\n",
       "      <td>1</td>\n",
       "      <td>329.0</td>\n",
       "      <td>711.07</td>\n",
       "      <td>6.566771</td>\n",
       "      <td>1</td>\n",
       "      <td>5.0</td>\n",
       "      <td>-19.0</td>\n",
       "      <td>-2.944439</td>\n",
       "      <td>2.0</td>\n",
       "      <td>0.0</td>\n",
       "      <td>0.717718</td>\n",
       "      <td>0.975189</td>\n",
       "      <td>0.975187</td>\n",
       "      <td>0.0</td>\n",
       "      <td>1.00000</td>\n",
       "      <td>0.169169</td>\n",
       "      <td>0.169169</td>\n",
       "      <td>0.549049</td>\n",
       "    </tr>\n",
       "    <tr>\n",
       "      <th>96095</th>\n",
       "      <td>84732c5050c01db9b23e19ba39899398</td>\n",
       "      <td>1</td>\n",
       "      <td>284.0</td>\n",
       "      <td>21.77</td>\n",
       "      <td>3.080533</td>\n",
       "      <td>1</td>\n",
       "      <td>5.0</td>\n",
       "      <td>-13.0</td>\n",
       "      <td>-2.564949</td>\n",
       "      <td>1.0</td>\n",
       "      <td>0.0</td>\n",
       "      <td>0.598098</td>\n",
       "      <td>0.007275</td>\n",
       "      <td>0.007274</td>\n",
       "      <td>0.0</td>\n",
       "      <td>1.00000</td>\n",
       "      <td>0.451451</td>\n",
       "      <td>0.421421</td>\n",
       "      <td>0.241742</td>\n",
       "    </tr>\n",
       "  </tbody>\n",
       "</table>\n",
       "<p>90794 rows × 19 columns</p>\n",
       "</div>"
      ],
      "text/plain": [
       "                     customer_unique_id  frequency  recency  monetary  \\\n",
       "0      861eff4711a542e4b93843c6dd7febb0          1    501.0    146.87   \n",
       "1      290c77bc529b7ac935b93aa66c333dc3          1    259.0    335.48   \n",
       "2      060e732b5b29e8181a18229c7b0b2b5e          1    133.0    157.73   \n",
       "3      259dac757896d24d7702b9acbbff3f3c          1    200.0    173.30   \n",
       "4      345ecd01c38d18a9036ed96c73b8d066          1     62.0    252.25   \n",
       "...                                 ...        ...      ...       ...   \n",
       "96091  1a29b476fee25c95fbafc67c5ac95cf8          1    175.0     88.78   \n",
       "96092  d52a67c98be1cf6a5c84435bd38d095d          1    178.0    129.06   \n",
       "96093  e9f50caf99f032f0bf3c55141f019d99          1    173.0     56.04   \n",
       "96094  73c2643a0a458b49f58cea58833b192e          1    329.0    711.07   \n",
       "96095  84732c5050c01db9b23e19ba39899398          1    284.0     21.77   \n",
       "\n",
       "       monetary_log  review_counts  review_score  delivery_difference_time  \\\n",
       "0          4.989548              1           4.0                     -11.0   \n",
       "1          5.815562              1           5.0                      -8.0   \n",
       "2          5.060885              1           5.0                       1.0   \n",
       "3          5.155024              1           5.0                     -13.0   \n",
       "4          5.530421              1           5.0                      -6.0   \n",
       "...             ...            ...           ...                       ...   \n",
       "96091      4.486161              1           4.0                     -12.0   \n",
       "96092      4.860277              1           5.0                      -9.0   \n",
       "96093      4.026066              1           1.0                       7.0   \n",
       "96094      6.566771              1           5.0                     -19.0   \n",
       "96095      3.080533              1           5.0                     -13.0   \n",
       "\n",
       "       delivery_difference_time_log  payment_installments  frequency_QT  \\\n",
       "0                         -2.397895                   2.0           0.0   \n",
       "1                         -2.079442                   8.0           0.0   \n",
       "2                          0.000000                   7.0           0.0   \n",
       "3                         -2.564949                   1.0           0.0   \n",
       "4                         -1.791759                   8.0           0.0   \n",
       "...                             ...                   ...           ...   \n",
       "96091                     -2.484907                   6.0           0.0   \n",
       "96092                     -2.197225                   3.0           0.0   \n",
       "96093                      1.945910                   5.0           0.0   \n",
       "96094                     -2.944439                   2.0           0.0   \n",
       "96095                     -2.564949                   1.0           0.0   \n",
       "\n",
       "       recency_QT  monetary_log_QT  monetary_QT  review_counts_QT  \\\n",
       "0        0.956456         0.649541     0.649541               0.0   \n",
       "1        0.551552         0.908653     0.908652               0.0   \n",
       "2        0.225726         0.683172     0.683172               0.0   \n",
       "3        0.401401         0.727803     0.727803               0.0   \n",
       "4        0.079580         0.854813     0.854813               0.0   \n",
       "...           ...              ...          ...               ...   \n",
       "96091    0.339339         0.407630     0.407630               0.0   \n",
       "96092    0.346847         0.586973     0.586973               0.0   \n",
       "96093    0.335335         0.202243     0.202243               0.0   \n",
       "96094    0.717718         0.975189     0.975187               0.0   \n",
       "96095    0.598098         0.007275     0.007274               0.0   \n",
       "\n",
       "       review_score_QT  delivery_difference_time_QT  \\\n",
       "0              0.33033                     0.556056   \n",
       "1              1.00000                     0.704705   \n",
       "2              1.00000                     0.928428   \n",
       "3              1.00000                     0.451451   \n",
       "4              1.00000                     0.801802   \n",
       "...                ...                          ...   \n",
       "96091          0.33033                     0.507007   \n",
       "96092          1.00000                     0.654154   \n",
       "96093          0.00000                     0.967968   \n",
       "96094          1.00000                     0.169169   \n",
       "96095          1.00000                     0.451451   \n",
       "\n",
       "       delivery_difference_time_log_QT  payment_installments_QT  \n",
       "0                             0.556056                 0.549049  \n",
       "1                             0.704705                 0.919920  \n",
       "2                             0.920420                 0.890390  \n",
       "3                             0.421421                 0.241742  \n",
       "4                             0.801802                 0.919920  \n",
       "...                                ...                      ...  \n",
       "96091                         0.483984                 0.863363  \n",
       "96092                         0.654154                 0.665666  \n",
       "96093                         0.965966                 0.815816  \n",
       "96094                         0.169169                 0.549049  \n",
       "96095                         0.421421                 0.241742  \n",
       "\n",
       "[90794 rows x 19 columns]"
      ]
     },
     "execution_count": 86,
     "metadata": {},
     "output_type": "execute_result"
    }
   ],
   "source": [
    "full_df"
   ]
  },
  {
   "cell_type": "code",
   "execution_count": 87,
   "metadata": {},
   "outputs": [
    {
     "data": {
      "image/png": "[encoded data removed]",
      "text/plain": [
       "<Figure size 864x864 with 9 Axes>"
      ]
     },
     "metadata": {
      "needs_background": "light"
     },
     "output_type": "display_data"
    }
   ],
   "source": [
    "display_distribution(full_df, ['frequency',\n",
    "                               'recency',\n",
    "                               'monetary',\n",
    "                               'monetary_log',\n",
    "                               'review_counts',\n",
    "                               'review_score',\n",
    "                               'delivery_difference_time',\n",
    "                               'delivery_difference_time_log',\n",
    "                               'payment_installments'], 'full dataset')"
   ]
  },
  {
   "cell_type": "code",
   "execution_count": 88,
   "metadata": {},
   "outputs": [
    {
     "data": {
      "image/png": "[encoded data removed]",
      "text/plain": [
       "<Figure size 864x864 with 9 Axes>"
      ]
     },
     "metadata": {
      "needs_background": "light"
     },
     "output_type": "display_data"
    }
   ],
   "source": [
    "display_distribution(full_df, ['frequency_QT',\n",
    "                               'recency_QT',\n",
    "                               'monetary_QT',\n",
    "                               'monetary_log_QT',\n",
    "                               'review_counts_QT',\n",
    "                               'review_score_QT',\n",
    "                               'delivery_difference_time_QT',\n",
    "                               'delivery_difference_time_log_QT',\n",
    "                               'payment_installments_QT'], 'full dataset')"
   ]
  },
  {
   "cell_type": "code",
   "execution_count": 89,
   "metadata": {},
   "outputs": [
    {
     "data": {
      "image/png": "[encoded data removed]",
      "text/plain": [
       "<Figure size 864x864 with 18 Axes>"
      ]
     },
     "metadata": {
      "needs_background": "light"
     },
     "output_type": "display_data"
    }
   ],
   "source": [
    "display_distribution(full_df, ['frequency',\n",
    "                               'frequency_QT',\n",
    "                               'recency',\n",
    "                               'recency_QT',\n",
    "                               'monetary',\n",
    "                               'monetary_QT',\n",
    "                               'monetary_log',\n",
    "                               'monetary_log_QT',\n",
    "                               'review_counts',\n",
    "                               'review_counts_QT',\n",
    "                               'review_score',\n",
    "                               'review_score_QT',\n",
    "                               'delivery_difference_time',\n",
    "                               'delivery_difference_time_QT',\n",
    "                               'delivery_difference_time_log',\n",
    "                               'delivery_difference_time_log_QT',\n",
    "                               'payment_installments',\n",
    "                               'payment_installments_QT'], 'full dataset QT')"
   ]
  },
  {
   "cell_type": "markdown",
   "metadata": {},
   "source": [
    "## Missing values"
   ]
  },
  {
   "cell_type": "code",
   "execution_count": 90,
   "metadata": {},
   "outputs": [
    {
     "data": {
      "text/plain": [
       "customer_unique_id                    0\n",
       "frequency                             0\n",
       "recency                               0\n",
       "monetary                              0\n",
       "monetary_log                          0\n",
       "review_counts                         0\n",
       "review_score                          0\n",
       "delivery_difference_time           1822\n",
       "delivery_difference_time_log       1822\n",
       "payment_installments                  0\n",
       "frequency_QT                          0\n",
       "recency_QT                            0\n",
       "monetary_log_QT                       0\n",
       "monetary_QT                           0\n",
       "review_counts_QT                      0\n",
       "review_score_QT                       0\n",
       "delivery_difference_time_QT        1822\n",
       "delivery_difference_time_log_QT    1822\n",
       "payment_installments_QT               0\n",
       "dtype: int64"
      ]
     },
     "execution_count": 90,
     "metadata": {},
     "output_type": "execute_result"
    }
   ],
   "source": [
    "quarters_df[3].isna().sum()"
   ]
  },
  {
   "cell_type": "code",
   "execution_count": 91,
   "metadata": {},
   "outputs": [],
   "source": [
    "imputer = SimpleImputer(strategy='mean')"
   ]
  },
  {
   "cell_type": "code",
   "execution_count": 92,
   "metadata": {},
   "outputs": [],
   "source": [
    "full_df['delivery_difference_time'] = imputer.fit_transform(\n",
    "    np.array(full_df['delivery_difference_time'].values).reshape(-1, 1))"
   ]
  },
  {
   "cell_type": "code",
   "execution_count": 93,
   "metadata": {},
   "outputs": [],
   "source": [
    "def imputer(df, cols):\n",
    "    imputer = SimpleImputer(strategy='mean')\n",
    "    for col in cols:\n",
    "        df[col] = imputer.fit_transform(\n",
    "            np.array(df[col].values.reshape(-1, 1)))\n",
    "    return df"
   ]
  },
  {
   "cell_type": "code",
   "execution_count": 94,
   "metadata": {},
   "outputs": [],
   "source": [
    "full_df = imputer(full_df, ['delivery_difference_time', 'delivery_difference_time_log',\n",
    "                            'delivery_difference_time_QT', 'delivery_difference_time_log_QT'])"
   ]
  },
  {
   "cell_type": "code",
   "execution_count": 95,
   "metadata": {},
   "outputs": [],
   "source": [
    "for i in range(len(quarters)):\n",
    "    quarters_df[i] = imputer(quarters_df[i], ['delivery_difference_time', 'delivery_difference_time_log',\n",
    "                                              'delivery_difference_time_QT', 'delivery_difference_time_log_QT'])"
   ]
  },
  {
   "cell_type": "code",
   "execution_count": 96,
   "metadata": {
    "scrolled": true
   },
   "outputs": [
    {
     "name": "stderr",
     "output_type": "stream",
     "text": [
      "C:\\Users\\Soyann\\Code\\Install\\anaconda3\\lib\\site-packages\\numpy\\core\\_asarray.py:136: VisibleDeprecationWarning: Creating an ndarray from ragged nested sequences (which is a list-or-tuple of lists-or-tuples-or ndarrays with different lengths or shapes) is deprecated. If you meant to do this, you must specify 'dtype=object' when creating the ndarray\n",
      "  return array(a, dtype, copy=False, order=order, subok=True)\n"
     ]
    }
   ],
   "source": [
    "np.save('data/quarters_df', quarters_df, allow_pickle=True)"
   ]
  },
  {
   "cell_type": "code",
   "execution_count": 97,
   "metadata": {},
   "outputs": [],
   "source": [
    "full_df.to_pickle('data/full_df')"
   ]
  },
  {
   "cell_type": "markdown",
   "metadata": {},
   "source": [
    "## PCA"
   ]
  },
  {
   "cell_type": "code",
   "execution_count": 98,
   "metadata": {},
   "outputs": [],
   "source": [
    "full_df = pd.read_pickle('data/full_df')\n",
    "quarters_df = np.load('data/quarters_df.npy', allow_pickle=True)"
   ]
  },
  {
   "cell_type": "code",
   "execution_count": 99,
   "metadata": {},
   "outputs": [
    {
     "data": {
      "text/plain": [
       "Index(['customer_unique_id', 'frequency', 'recency', 'monetary',\n",
       "       'monetary_log', 'review_counts', 'review_score',\n",
       "       'delivery_difference_time', 'delivery_difference_time_log',\n",
       "       'payment_installments', 'frequency_QT', 'recency_QT', 'monetary_log_QT',\n",
       "       'monetary_QT', 'review_counts_QT', 'review_score_QT',\n",
       "       'delivery_difference_time_QT', 'delivery_difference_time_log_QT',\n",
       "       'payment_installments_QT'],\n",
       "      dtype='object')"
      ]
     },
     "execution_count": 99,
     "metadata": {},
     "output_type": "execute_result"
    }
   ],
   "source": [
    "full_df.columns"
   ]
  },
  {
   "cell_type": "code",
   "execution_count": 100,
   "metadata": {},
   "outputs": [],
   "source": [
    "X = full_df.drop(columns=['customer_unique_id', 'frequency', 'recency', 'monetary',\n",
    "                          'monetary_log', 'review_counts', 'review_score',\n",
    "                          'delivery_difference_time', 'delivery_difference_time_log',\n",
    "                          'payment_installments', 'monetary_log_QT', 'delivery_difference_time_log_QT'])"
   ]
  },
  {
   "cell_type": "code",
   "execution_count": 101,
   "metadata": {},
   "outputs": [],
   "source": [
    "features = X.columns"
   ]
  },
  {
   "cell_type": "code",
   "execution_count": 102,
   "metadata": {},
   "outputs": [
    {
     "data": {
      "text/plain": [
       "Index(['frequency_QT', 'recency_QT', 'monetary_QT', 'review_counts_QT',\n",
       "       'review_score_QT', 'delivery_difference_time_QT',\n",
       "       'payment_installments_QT'],\n",
       "      dtype='object')"
      ]
     },
     "execution_count": 102,
     "metadata": {},
     "output_type": "execute_result"
    }
   ],
   "source": [
    "features"
   ]
  },
  {
   "cell_type": "code",
   "execution_count": 103,
   "metadata": {},
   "outputs": [],
   "source": [
    "imputer = SimpleImputer(strategy=\"mean\")"
   ]
  },
  {
   "cell_type": "code",
   "execution_count": 104,
   "metadata": {},
   "outputs": [],
   "source": [
    "X_impute = imputer.fit_transform(X)"
   ]
  },
  {
   "cell_type": "code",
   "execution_count": 105,
   "metadata": {},
   "outputs": [],
   "source": [
    "pca = PCA()"
   ]
  },
  {
   "cell_type": "code",
   "execution_count": 106,
   "metadata": {},
   "outputs": [
    {
     "data": {
      "text/plain": [
       "PCA()"
      ]
     },
     "execution_count": 106,
     "metadata": {},
     "output_type": "execute_result"
    }
   ],
   "source": [
    "pca.fit(X_impute)"
   ]
  },
  {
   "cell_type": "code",
   "execution_count": 107,
   "metadata": {},
   "outputs": [
    {
     "data": {
      "text/plain": [
       "array([2.88728027e-01, 1.94269889e-01, 1.71209441e-01, 1.44846922e-01,\n",
       "       1.22851178e-01, 7.80945429e-02, 1.82037676e-33])"
      ]
     },
     "execution_count": 107,
     "metadata": {},
     "output_type": "execute_result"
    }
   ],
   "source": [
    "pca.explained_variance_ratio_"
   ]
  },
  {
   "cell_type": "code",
   "execution_count": 108,
   "metadata": {},
   "outputs": [
    {
     "data": {
      "text/plain": [
       "array([0.28872803, 0.48299792, 0.65420736, 0.79905428, 0.92190546,\n",
       "       1.        , 1.        ])"
      ]
     },
     "execution_count": 108,
     "metadata": {},
     "output_type": "execute_result"
    }
   ],
   "source": [
    "pca.explained_variance_ratio_.cumsum()"
   ]
  },
  {
   "cell_type": "code",
   "execution_count": 109,
   "metadata": {},
   "outputs": [],
   "source": [
    "def display_circles(pcs, n_comp, pca, axis_ranks, labels=None, label_rotation=0, lims=None):\n",
    "    for d1, d2 in axis_ranks:  # On affiche les 3 premiers plans factoriels, donc les 6 premières composantes\n",
    "        if d2 < n_comp:\n",
    "\n",
    "            # initialisation de la figure\n",
    "            fig, ax = plt.subplots(figsize=(8, 8))\n",
    "\n",
    "            # détermination des limites du graphique\n",
    "            if lims is not None:\n",
    "                xmin, xmax, ymin, ymax = lims\n",
    "            elif pcs.shape[1] < 30:\n",
    "                xmin, xmax, ymin, ymax = -1, 1, -1, 1\n",
    "            else:\n",
    "                xmin, xmax, ymin, ymax = min(pcs[d1, :]), max(\n",
    "                    pcs[d1, :]), min(pcs[d2, :]), max(pcs[d2, :])\n",
    "\n",
    "            # affichage des flèches\n",
    "            # s'il y a plus de 30 flèches, on n'affiche pas le triangle à leur extrémité\n",
    "            if pcs.shape[1] < 30:\n",
    "                plt.quiver(np.zeros(pcs.shape[1]), np.zeros(pcs.shape[1]),\n",
    "                           pcs[d1, :], pcs[d2, :],\n",
    "                           angles='xy', scale_units='xy', scale=1, color=\"grey\")\n",
    "                # (voir la doc : https://matplotlib.org/api/_as_gen/matplotlib.pyplot.quiver.html)\n",
    "            else:\n",
    "                lines = [[[0, 0], [x, y]] for x, y in pcs[[d1, d2]].T]\n",
    "                ax.add_collection(LineCollection(\n",
    "                    lines, axes=ax, alpha=.1, color='black'))\n",
    "\n",
    "            # affichage des noms des variables\n",
    "            if labels is not None:\n",
    "                for i, (x, y) in enumerate(pcs[[d1, d2]].T):\n",
    "                    if x >= xmin and x <= xmax and y >= ymin and y <= ymax:\n",
    "                        plt.text(x, y, labels[i], fontsize='14', ha='center',\n",
    "                                 va='center', rotation=label_rotation, color=\"blue\", alpha=0.5)\n",
    "\n",
    "            # affichage du cercle\n",
    "            circle = plt.Circle((0, 0), 1, facecolor='none', edgecolor='b')\n",
    "            plt.gca().add_artist(circle)\n",
    "\n",
    "            # définition des limites du graphique\n",
    "            plt.xlim(xmin, xmax)\n",
    "            plt.ylim(ymin, ymax)\n",
    "\n",
    "            # affichage des lignes horizontales et verticales\n",
    "            plt.plot([-1, 1], [0, 0], color='grey', ls='--')\n",
    "            plt.plot([0, 0], [-1, 1], color='grey', ls='--')\n",
    "\n",
    "            # nom des axes, avec le pourcentage d'inertie expliqué\n",
    "            plt.xlabel('F{} ({}%)'.format(\n",
    "                d1+1, round(100*pca.explained_variance_ratio_[d1], 1)))\n",
    "            plt.ylabel('F{} ({}%)'.format(\n",
    "                d2+1, round(100*pca.explained_variance_ratio_[d2], 1)))\n",
    "\n",
    "            plt.title(\"Cercle des corrélations (F{} et F{})\".format(d1+1, d2+1))\n",
    "            plt.show(block=False)"
   ]
  },
  {
   "cell_type": "code",
   "execution_count": 110,
   "metadata": {},
   "outputs": [
    {
     "data": {
      "image/png": "[encoded data removed]",
      "text/plain": [
       "<Figure size 576x576 with 1 Axes>"
      ]
     },
     "metadata": {
      "needs_background": "light"
     },
     "output_type": "display_data"
    },
    {
     "data": {
      "image/png": "[encoded data removed]",
      "text/plain": [
       "<Figure size 576x576 with 1 Axes>"
      ]
     },
     "metadata": {
      "needs_background": "light"
     },
     "output_type": "display_data"
    }
   ],
   "source": [
    "pcs = pca.components_\n",
    "display_circles(pcs, 4, pca, [(0, 1), (2, 3), (4, 5)],\n",
    "                labels=np.array(features), label_rotation=0)"
   ]
  },
  {
   "cell_type": "code",
   "execution_count": null,
   "metadata": {},
   "outputs": [],
   "source": []
  }
 ],
 "metadata": {
  "kernelspec": {
   "display_name": "Python 3",
   "language": "python",
   "name": "python3"
  },
  "language_info": {
   "codemirror_mode": {
    "name": "ipython",
    "version": 3
   },
   "file_extension": ".py",
   "mimetype": "text/x-python",
   "name": "python",
   "nbconvert_exporter": "python",
   "pygments_lexer": "ipython3",
   "version": "3.8.5"
  },
  "toc": {
   "base_numbering": 1,
   "nav_menu": {},
   "number_sections": true,
   "sideBar": true,
   "skip_h1_title": false,
   "title_cell": "Table of Contents",
   "title_sidebar": "Contents",
   "toc_cell": false,
   "toc_position": {
    "height": "calc(100% - 180px)",
    "left": "10px",
    "top": "150px",
    "width": "384px"
   },
   "toc_section_display": true,
   "toc_window_display": true
  },
  "varInspector": {
   "cols": {
    "lenName": 16,
    "lenType": 16,
    "lenVar": 40
   },
   "kernels_config": {
    "python": {
     "delete_cmd_postfix": "",
     "delete_cmd_prefix": "del ",
     "library": "var_list.py",
     "varRefreshCmd": "print(var_dic_list())"
    },
    "r": {
     "delete_cmd_postfix": ") ",
     "delete_cmd_prefix": "rm(",
     "library": "var_list.r",
     "varRefreshCmd": "cat(var_dic_list()) "
    }
   },
   "types_to_exclude": [
    "module",
    "function",
    "builtin_function_or_method",
    "instance",
    "_Feature"
   ],
   "window_display": false
  }
 },
 "nbformat": 4,
 "nbformat_minor": 4
}
