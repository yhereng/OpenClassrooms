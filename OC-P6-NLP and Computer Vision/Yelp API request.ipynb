{
 "cells": [
  {
   "cell_type": "code",
   "execution_count": 49,
   "id": "eight-traveler",
   "metadata": {},
   "outputs": [],
   "source": [
    "import requests\n",
    "import json\n",
    "import pandas as pd\n",
    "import os\n",
    "from dotenv import load_dotenv"
   ]
  },
  {
   "cell_type": "markdown",
   "id": "weighted-singles",
   "metadata": {},
   "source": [
    "# Loading API key from local .env file"
   ]
  },
  {
   "cell_type": "code",
   "execution_count": 50,
   "id": "persistent-thesis",
   "metadata": {},
   "outputs": [],
   "source": [
    "load_dotenv() # load Variable from .env file to local environment\n",
    "\n",
    "# Check if the environment variables exist\n",
    "key_var_name = \"YELP_API_KEY\"\n",
    "if not key_var_name in os.environ:\n",
    "  raise Exception('Could not find your API key in the .env file')\n",
    "api_key=os.getenv(key_var_name)"
   ]
  },
  {
   "cell_type": "code",
   "execution_count": 44,
   "id": "fossil-architecture",
   "metadata": {},
   "outputs": [],
   "source": [
    "# api-endpoint \n",
    "URL = \"https://api.yelp.com/v3/businesses/search\"\n",
    "\n",
    "# headers\n",
    "headers = {'Authorization': 'Bearer %s' % api_key}"
   ]
  },
  {
   "cell_type": "markdown",
   "id": "revolutionary-collect",
   "metadata": {},
   "source": [
    "# Getting business IDs"
   ]
  },
  {
   "cell_type": "code",
   "execution_count": 4,
   "id": "express-walker",
   "metadata": {},
   "outputs": [],
   "source": [
    "ids=[]\n",
    "for i in range(4):\n",
    "    # defining a params dict for the parameters to be sent to the API \n",
    "    PARAMS = {'location': 'lyon',\n",
    "              'limit':50,\n",
    "              'offset':i*50} \n",
    "    \n",
    "    # sending get request and saving the response as response object \n",
    "    r = requests.request('GET',url = URL,headers=headers, params = PARAMS)\n",
    "    \n",
    "    #saving business ids and adding with previous\n",
    "    ids+=[business['id'] for business in r.json()['businesses']]"
   ]
  },
  {
   "cell_type": "markdown",
   "id": "instant-ancient",
   "metadata": {},
   "source": [
    "# Getting business reviews"
   ]
  },
  {
   "cell_type": "code",
   "execution_count": 52,
   "id": "nasty-script",
   "metadata": {},
   "outputs": [],
   "source": [
    "url_review = \"https://api.yelp.com/v3/businesses/\"\n",
    "\n",
    "#Create the dataframe which will receive the data\n",
    "data = pd.DataFrame(columns=['review_id',\n",
    "                             'business_id',\n",
    "                             'rating',\n",
    "                             'text'])\n",
    "#Retrieve the data\n",
    "i=0\n",
    "for id in ids:\n",
    "    URL = url_review+str(id)+\"/reviews\"\n",
    "    r = requests.request('GET',url = URL,headers=headers)\n",
    "    for review in r.json()['reviews']:\n",
    "        data.loc[i]=[review['id'],id,review['rating'],review['text']]\n",
    "        i+=1"
   ]
  },
  {
   "cell_type": "markdown",
   "id": "maritime-genome",
   "metadata": {},
   "source": [
    "# Saving as CSV file"
   ]
  },
  {
   "cell_type": "code",
   "execution_count": 53,
   "id": "synthetic-improvement",
   "metadata": {},
   "outputs": [],
   "source": [
    "# Save data as UTF-8 csv file\n",
    "data.to_csv(\"reviews_yelp.csv\",encoding='utf-8')"
   ]
  }
 ],
 "metadata": {
  "kernelspec": {
   "display_name": "Python 3",
   "language": "python",
   "name": "python3"
  },
  "language_info": {
   "codemirror_mode": {
    "name": "ipython",
    "version": 3
   },
   "file_extension": ".py",
   "mimetype": "text/x-python",
   "name": "python",
   "nbconvert_exporter": "python",
   "pygments_lexer": "ipython3",
   "version": "3.8.8"
  },
  "toc": {
   "base_numbering": 1,
   "nav_menu": {},
   "number_sections": true,
   "sideBar": true,
   "skip_h1_title": false,
   "title_cell": "Table of Contents",
   "title_sidebar": "Contents",
   "toc_cell": false,
   "toc_position": {},
   "toc_section_display": true,
   "toc_window_display": false
  }
 },
 "nbformat": 4,
 "nbformat_minor": 5
}
