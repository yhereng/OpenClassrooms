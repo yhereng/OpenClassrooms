{
 "cells": [
  {
   "cell_type": "code",
   "execution_count": 300,
   "id": "034a06f2",
   "metadata": {},
   "outputs": [],
   "source": [
    "import pandas as pd\n",
    "from azure.cognitiveservices.language.luis.authoring import LUISAuthoringClient\n",
    "from azure.cognitiveservices.language.luis.authoring.models import ApplicationCreateObject\n",
    "from azure.cognitiveservices.language.luis.runtime import LUISRuntimeClient\n",
    "from msrest.authentication import CognitiveServicesCredentials\n",
    "from functools import reduce\n",
    "import re\n",
    "\n",
    "import json, time, uuid, random"
   ]
  },
  {
   "cell_type": "code",
   "execution_count": 2,
   "id": "e6cedbf8",
   "metadata": {},
   "outputs": [],
   "source": [
    "dataset = pd.read_json(\"D:/Data OC/P10/frames/frames.json\")"
   ]
  },
  {
   "cell_type": "markdown",
   "id": "bf6e6f9d",
   "metadata": {},
   "source": [
    "# Discovering the structure"
   ]
  },
  {
   "cell_type": "code",
   "execution_count": 8,
   "id": "6046668b",
   "metadata": {},
   "outputs": [
    {
     "data": {
      "text/plain": [
       "\"I'd like to book a trip to Atlantis from Caprica on Saturday, August 13, 2016 for 8 adults. I have a tight budget of 1700.\""
      ]
     },
     "execution_count": 8,
     "metadata": {},
     "output_type": "execute_result"
    }
   ],
   "source": [
    "dataset['turns'][0][0]['text']"
   ]
  },
  {
   "cell_type": "code",
   "execution_count": 9,
   "id": "12e4e9f2",
   "metadata": {},
   "outputs": [
    {
     "data": {
      "text/plain": [
       "[{'info': {'intent': [{'val': 'book', 'negated': False}],\n",
       "   'budget': [{'val': '1700.0', 'negated': False}],\n",
       "   'dst_city': [{'val': 'Atlantis', 'negated': False}],\n",
       "   'or_city': [{'val': 'Caprica', 'negated': False}],\n",
       "   'str_date': [{'val': 'august 13', 'negated': False}],\n",
       "   'n_adults': [{'val': '8', 'negated': False}]},\n",
       "  'frame_id': 1,\n",
       "  'requests': [],\n",
       "  'frame_parent_id': None,\n",
       "  'binary_questions': [],\n",
       "  'compare_requests': []}]"
      ]
     },
     "execution_count": 9,
     "metadata": {},
     "output_type": "execute_result"
    }
   ],
   "source": [
    "dataset['turns'][0][0]['labels']['frames']"
   ]
  },
  {
   "cell_type": "markdown",
   "id": "67bda57e",
   "metadata": {},
   "source": [
    "## Part of interest"
   ]
  },
  {
   "cell_type": "markdown",
   "id": "6f3902a9",
   "metadata": {},
   "source": [
    "### Frame"
   ]
  },
  {
   "cell_type": "code",
   "execution_count": 11,
   "id": "39af6255",
   "metadata": {},
   "outputs": [],
   "source": [
    "frame=dataset['turns'][4][0]"
   ]
  },
  {
   "cell_type": "markdown",
   "id": "659cac84",
   "metadata": {},
   "source": [
    "### Text part"
   ]
  },
  {
   "cell_type": "code",
   "execution_count": 12,
   "id": "c0f9685b",
   "metadata": {},
   "outputs": [
    {
     "data": {
      "text/plain": [
       "'Hello, I am looking to book a trip for 2 adults and 6 children for $21,300 or less. We are departing from Kochi for Denver.'"
      ]
     },
     "execution_count": 12,
     "metadata": {},
     "output_type": "execute_result"
    }
   ],
   "source": [
    "frame['text']"
   ]
  },
  {
   "cell_type": "code",
   "execution_count": 13,
   "id": "24524394",
   "metadata": {},
   "outputs": [],
   "source": [
    "txt=frame['text']"
   ]
  },
  {
   "cell_type": "markdown",
   "id": "3cc6e251",
   "metadata": {},
   "source": [
    "### Entity part"
   ]
  },
  {
   "cell_type": "code",
   "execution_count": 14,
   "id": "068be5d8",
   "metadata": {},
   "outputs": [
    {
     "data": {
      "text/plain": [
       "{'intent': [{'val': 'book', 'negated': False}],\n",
       " 'budget': [{'val': '21.3', 'negated': False}],\n",
       " 'dst_city': [{'val': 'Denver', 'negated': False}],\n",
       " 'n_children': [{'val': '6', 'negated': False}],\n",
       " 'or_city': [{'val': 'Kochi', 'negated': False}],\n",
       " 'n_adults': [{'val': '2', 'negated': False}]}"
      ]
     },
     "execution_count": 14,
     "metadata": {},
     "output_type": "execute_result"
    }
   ],
   "source": [
    "frame['labels']['frames'][0]['info']"
   ]
  },
  {
   "cell_type": "code",
   "execution_count": 15,
   "id": "2588853b",
   "metadata": {},
   "outputs": [],
   "source": [
    "entities=frame['labels']['frames'][0]['info']"
   ]
  },
  {
   "cell_type": "code",
   "execution_count": 16,
   "id": "f6b87770",
   "metadata": {},
   "outputs": [
    {
     "data": {
      "text/plain": [
       "dict_keys(['intent', 'budget', 'dst_city', 'n_children', 'or_city', 'n_adults'])"
      ]
     },
     "execution_count": 16,
     "metadata": {},
     "output_type": "execute_result"
    }
   ],
   "source": [
    "entities.keys()"
   ]
  },
  {
   "cell_type": "code",
   "execution_count": 17,
   "id": "b3212521",
   "metadata": {},
   "outputs": [],
   "source": [
    "### Entites we are interested in"
   ]
  },
  {
   "cell_type": "code",
   "execution_count": 18,
   "id": "59c02a10",
   "metadata": {},
   "outputs": [],
   "source": [
    "pf_entities=['or_city','dst_city','str_date','end_date','budget']"
   ]
  },
  {
   "cell_type": "markdown",
   "id": "f0fbc4cb",
   "metadata": {},
   "source": [
    "# Functions for buildng the JSON"
   ]
  },
  {
   "cell_type": "markdown",
   "id": "4c83865f",
   "metadata": {},
   "source": [
    "## Functions and tests"
   ]
  },
  {
   "cell_type": "code",
   "execution_count": 19,
   "id": "89a432b7",
   "metadata": {},
   "outputs": [],
   "source": [
    "pf_entities=['or_city','dst_city','str_date','end_date','budget']"
   ]
  },
  {
   "cell_type": "code",
   "execution_count": 20,
   "id": "6fc2df23",
   "metadata": {},
   "outputs": [],
   "source": [
    "text=dataset['turns'][0][0]['text']"
   ]
  },
  {
   "cell_type": "code",
   "execution_count": 21,
   "id": "9047f2e8",
   "metadata": {},
   "outputs": [],
   "source": [
    "startIndex=text.find('book')\n",
    "endCharIndex=text.find('book')+len('book')-1"
   ]
  },
  {
   "cell_type": "code",
   "execution_count": 69,
   "id": "0467927e",
   "metadata": {},
   "outputs": [],
   "source": [
    "def entityChar(entity_name,frame):\n",
    "    #load entity part of the frame\n",
    "    entities=frame['labels']['frames'][0]['info']\n",
    "    str_entire=frame['labels']['frames'][0]['info'][entity_name][0]['val'].lower()\n",
    "    return str_entire.split('.')[0]\n",
    "\n",
    "def entityData(entity_char,text,entity_name):\n",
    "    startIndex=max(text.find(entity_char),0)\n",
    "    endCharIndex=max(text.find(entity_char)+len(entity_char)-1,0)\n",
    "    return {'startCharIndex':startIndex,'endCharIndex':endCharIndex,'entityName':entity_name}\n",
    "\n",
    "def entityDataDict(frame,pf_entities,intentName):\n",
    "    text=frame['text'].lower()\n",
    "    entities=frame['labels']['frames'][0]['info']    \n",
    "    entity_list=[]\n",
    "    for entity_name in pf_entities:\n",
    "        #check if entities exist\n",
    "        if entity_name in entities.keys():\n",
    "            #check if value is not -1\n",
    "            if entityChar(entity_name,frame)!='-1':\n",
    "                entity_list.append(entityData(entityChar(entity_name,frame),text,entity_name))\n",
    "    entityLabels_list=[\n",
    "                    {'startCharIndex':0,\n",
    "                     'endCharIndex':len(text),\n",
    "                     'entityName':'flight',\n",
    "                     'children':entity_list}\n",
    "                    ]\n",
    "    dict_output={\n",
    "        \"text\":text,\n",
    "        \"intentName\":intentName,\n",
    "        \"entityLabels\":entity_list}\n",
    "    \n",
    "    \n",
    "    \n",
    "    \n",
    "    return dict_output"
   ]
  },
  {
   "cell_type": "code",
   "execution_count": 177,
   "id": "b5fb519f",
   "metadata": {},
   "outputs": [
    {
     "data": {
      "text/plain": [
       "{'text': \"i'd like to book a trip to atlantis from caprica on saturday, august 13, 2016 for 8 adults. i have a tight budget of 1700.\",\n",
       " 'intentName': 'BookFlightIntent',\n",
       " 'entityLabels': [{'startCharIndex': 41,\n",
       "   'endCharIndex': 47,\n",
       "   'entityName': 'or_city'},\n",
       "  {'startCharIndex': 27, 'endCharIndex': 34, 'entityName': 'dst_city'},\n",
       "  {'startCharIndex': 62, 'endCharIndex': 70, 'entityName': 'str_date'},\n",
       "  {'startCharIndex': 117, 'endCharIndex': 120, 'entityName': 'budget'}]}"
      ]
     },
     "execution_count": 177,
     "metadata": {},
     "output_type": "execute_result"
    }
   ],
   "source": [
    "entityDataDict(frame,pf_entities,\"BookFlightIntent\")"
   ]
  },
  {
   "cell_type": "code",
   "execution_count": 71,
   "id": "375b13e1",
   "metadata": {},
   "outputs": [
    {
     "data": {
      "text/plain": [
       "{'text': \"i'd like to book a trip to atlantis from caprica on saturday, august 13, 2016 for 8 adults. i have a tight budget of 1700.\",\n",
       " 'intentName': 'BookFlightIntent',\n",
       " 'entityLabels': [{'startCharIndex': 41,\n",
       "   'endCharIndex': 47,\n",
       "   'entityName': 'or_city'},\n",
       "  {'startCharIndex': 27, 'endCharIndex': 34, 'entityName': 'dst_city'},\n",
       "  {'startCharIndex': 62, 'endCharIndex': 70, 'entityName': 'str_date'},\n",
       "  {'startCharIndex': 117, 'endCharIndex': 120, 'entityName': 'budget'}]}"
      ]
     },
     "execution_count": 71,
     "metadata": {},
     "output_type": "execute_result"
    }
   ],
   "source": [
    "utterances[0]"
   ]
  },
  {
   "cell_type": "code",
   "execution_count": 68,
   "id": "b39ee804",
   "metadata": {},
   "outputs": [
    {
     "data": {
      "text/plain": [
       "{'text': \"i'd like to book a trip to atlantis from caprica on saturday, august 13, 2016 for 8 adults. i have a tight budget of 1700.\",\n",
       " 'intentName': 'BookFlightIntent',\n",
       " 'entityLabels': [{'startCharIndex': 0,\n",
       "   'endCharIndex': 122,\n",
       "   'entityName': 'flight',\n",
       "   'children': [{'startCharIndex': 41,\n",
       "     'endCharIndex': 47,\n",
       "     'entityName': 'or_city'},\n",
       "    {'startCharIndex': 27, 'endCharIndex': 34, 'entityName': 'dst_city'},\n",
       "    {'startCharIndex': 62, 'endCharIndex': 70, 'entityName': 'str_date'},\n",
       "    {'startCharIndex': 117, 'endCharIndex': 120, 'entityName': 'budget'}]}]}"
      ]
     },
     "execution_count": 68,
     "metadata": {},
     "output_type": "execute_result"
    }
   ],
   "source": [
    "utterances[0]"
   ]
  },
  {
   "cell_type": "markdown",
   "id": "5bcf0385",
   "metadata": {},
   "source": [
    "## Create utterances"
   ]
  },
  {
   "cell_type": "code",
   "execution_count": 70,
   "id": "94565418",
   "metadata": {},
   "outputs": [],
   "source": [
    "utterances=[entityDataDict(dataset['turns'][x][0],pf_entities,\"BookFlightIntent\") for x in range(0,len(dataset['turns']))]"
   ]
  },
  {
   "cell_type": "markdown",
   "id": "8bd983f7",
   "metadata": {},
   "source": [
    "## train and test split"
   ]
  },
  {
   "cell_type": "code",
   "execution_count": 437,
   "id": "da6d5f19",
   "metadata": {},
   "outputs": [
    {
     "data": {
      "text/plain": [
       "107.7"
      ]
     },
     "execution_count": 437,
     "metadata": {},
     "output_type": "execute_result"
    }
   ],
   "source": [
    "len(utterancesV2)*0.10"
   ]
  },
  {
   "cell_type": "code",
   "execution_count": 443,
   "id": "1677caaf",
   "metadata": {},
   "outputs": [],
   "source": [
    "utterances_trainV2=utterancesV2[:-107]"
   ]
  },
  {
   "cell_type": "code",
   "execution_count": 444,
   "id": "a6ed0743",
   "metadata": {},
   "outputs": [],
   "source": [
    "utterances_testV2=utterancesV2[-107:]"
   ]
  },
  {
   "cell_type": "code",
   "execution_count": 445,
   "id": "d410d2ad",
   "metadata": {},
   "outputs": [
    {
     "data": {
      "text/plain": [
       "107"
      ]
     },
     "execution_count": 445,
     "metadata": {},
     "output_type": "execute_result"
    }
   ],
   "source": [
    "len(utterances_testV2)"
   ]
  },
  {
   "cell_type": "code",
   "execution_count": 82,
   "id": "12e2d06f",
   "metadata": {},
   "outputs": [],
   "source": [
    "jsonString=json.dumps(utterances_test)"
   ]
  },
  {
   "cell_type": "code",
   "execution_count": 83,
   "id": "b87e9adb",
   "metadata": {},
   "outputs": [],
   "source": [
    "with open('C:/Users/Soyann/Code/Notebooks/OpenClassrooms/OC-P10-Chatbot/utterances_test.json', 'w') as outfile:\n",
    "    for msg in utterances_test:        \n",
    "        outfile.write(json.dumps(msg)+\",\\n\")"
   ]
  },
  {
   "cell_type": "code",
   "execution_count": 446,
   "id": "40ddfb91",
   "metadata": {},
   "outputs": [
    {
     "data": {
      "text/plain": [
       "970"
      ]
     },
     "execution_count": 446,
     "metadata": {},
     "output_type": "execute_result"
    }
   ],
   "source": [
    "len(utterances_trainV2)"
   ]
  },
  {
   "cell_type": "markdown",
   "id": "7ef215c3",
   "metadata": {},
   "source": [
    "# Create and train LUIS ressource"
   ]
  },
  {
   "cell_type": "markdown",
   "id": "f68e5814",
   "metadata": {},
   "source": [
    "## Create variables"
   ]
  },
  {
   "cell_type": "code",
   "execution_count": 431,
   "id": "c161a422",
   "metadata": {},
   "outputs": [],
   "source": [
    "authoringKey = '1d1eab987e154e1f96503b0172d855d5'\n",
    "authoringEndpoint = 'https://p10-authoring.cognitiveservices.azure.com/'\n",
    "predictionKey = '384ea5f7c50c4c08a3212250b7cd1db4'\n",
    "predictionEndpoint = 'https://p10.cognitiveservices.azure.com/'\n",
    "appName = \"P10 chatbot \" + str(uuid.uuid4())\n",
    "version_id = \"0.1\"\n",
    "intentName = \"BookFlightIntent\""
   ]
  },
  {
   "cell_type": "code",
   "execution_count": 432,
   "id": "35e32d1b",
   "metadata": {},
   "outputs": [
    {
     "data": {
      "text/plain": [
       "'P10 chatbot d7a5132a-4823-4968-99cf-f1de252eedda'"
      ]
     },
     "execution_count": 432,
     "metadata": {},
     "output_type": "execute_result"
    }
   ],
   "source": [
    "appName"
   ]
  },
  {
   "cell_type": "markdown",
   "id": "3e7d9290",
   "metadata": {},
   "source": [
    "## Create the app"
   ]
  },
  {
   "cell_type": "code",
   "execution_count": 433,
   "id": "33e10381",
   "metadata": {},
   "outputs": [],
   "source": [
    "client = LUISAuthoringClient(authoringEndpoint, CognitiveServicesCredentials(authoringKey))"
   ]
  },
  {
   "cell_type": "code",
   "execution_count": 434,
   "id": "d377f7fa",
   "metadata": {},
   "outputs": [
    {
     "name": "stdout",
     "output_type": "stream",
     "text": [
      "Created LUIS app with ID a53e07f8-c3b6-4a8f-a387-12dc5f0d631b\n"
     ]
    }
   ],
   "source": [
    "# define app basics\n",
    "appDefinition = ApplicationCreateObject (name=appName, initial_version_id=version_id, culture='en-us')\n",
    "\n",
    "# create app\n",
    "app_id = client.apps.add(appDefinition)\n",
    "\n",
    "# get app id - necessary for all other changes\n",
    "print(\"Created LUIS app with ID {}\".format(app_id))"
   ]
  },
  {
   "cell_type": "code",
   "execution_count": 435,
   "id": "437f0c43",
   "metadata": {},
   "outputs": [
    {
     "data": {
      "text/plain": [
       "'919382da-891b-48fd-8cbc-145f089153d3'"
      ]
     },
     "execution_count": 435,
     "metadata": {},
     "output_type": "execute_result"
    }
   ],
   "source": [
    "# add new intention\n",
    "client.model.add_intent(app_id, version_id, intentName)"
   ]
  },
  {
   "cell_type": "code",
   "execution_count": 436,
   "id": "c1dd28a7",
   "metadata": {},
   "outputs": [],
   "source": [
    "# add Entities\n",
    "modelId = client.model.add_entity(app_id, version_id, name=\"or_city\")\n",
    "modelId = client.model.add_entity(app_id, version_id, name=\"dst_city\")\n",
    "modelId = client.model.add_entity(app_id, version_id, name=\"end_date\")\n",
    "modelId = client.model.add_entity(app_id, version_id, name=\"str_date\")\n",
    "modelId = client.model.add_entity(app_id, version_id, name=\"budget\")"
   ]
  },
  {
   "cell_type": "code",
   "execution_count": 448,
   "id": "7b812d6f",
   "metadata": {
    "scrolled": true
   },
   "outputs": [
    {
     "name": "stdout",
     "output_type": "stream",
     "text": [
      "0123456789101112131415161718192021222324252627282930313233343536373839404142434445464748495051525354555657585960616263646566676869707172737475767778798081828384858687888990919293949596979899100101102103104105106107108109110111112113114115116117118119120121122123124125126127128129130131132133134135136137138139140141142143144145146147148149150151152153154155156157158159160161162163164165166167168169170171172173174175176177178179180181182183184185186187188189190191192193194195196197198199200201202203204205206207208209210211212213214215216217218219220221222223224225226227228229230231232233234235236237238239240241242243244245246247248249250251252253254255256257258unconformity 1 indice 258\n",
      "259260261262263264265266267268269270271272273274275276277278279280281282283284285286287288289290291292293294295296297298299300301302303304305306307308309310311312313314315316317318319320321322323324325326327328329330331332333334335336337338339340341342343344345346347348349350351352353354355356357358359360361362363364365366367368369370371372373374375376377378379380381382383384385386387388389390391392393394395396397398399400401402403404405406407408409410411412413414415416417418419420421422423424425426427428429430431432433434435436437438439440441442443444445446447448449450451452453454455456457458459460461462463464465466467468469470471472473474475476477478479480481482483484485486487488489490491492493494495496497498499500501502503504505506507508509510511512513514515516517518519520521522523524525526527528529530531532533534535536537538539540541542543544545546547548549550551552553554555556557558559560561562563564565566567568569570571572573574575576577578579580581582583584585586587588589590591592593594595596597598599600601602603604605606607608609610611612613614615616617618619620621622623624625626627628629630631632633634635636637638639640641642643644645646647648649650651652unconformity 2 indice 652\n",
      "653654655656657658659660661662663664665666667668669670671672673674675676677678679680681682683684685686687688689690691692693694695696697698699700701702703704705706707708709710711712713714715716717718719720721722723724725726727728729730731732733734735736737738739740741742743744745746747748749750751752753754755756757758759unconformity 3 indice 759\n",
      "760761762763764765766767768769770771772773774775776777778779780781782783784785786787788789790791792793794795796797798799800801802803804805806807808809810811812813814815816817818819820821822823824825826827828829830831832833834835836837838839840841842843844845846847848849850851852853854855856857858859860861862863864865866867868869870871872873874875876877878879880881882883884885886887888889890891892893894895896897898899900901902903904905906907908909910911912913914915916917918919920921922923924925926927928929930931932933934935936937938939940941942943944945946947948949950951952953954955956957958959960961962963964965966967968969"
     ]
    }
   ],
   "source": [
    "# Add examples and identify non conformity\n",
    "unconformity=0\n",
    "for x in range(0,len(utterances_trainV2)):\n",
    "    print(x,end='')\n",
    "    try:\n",
    "        client.examples.add(app_id, version_id, utterances_trainV2[x])\n",
    "    except Exception as e:\n",
    "        unconformity+=1\n",
    "        print(f'unconformity {unconformity} indice {x}')"
   ]
  },
  {
   "cell_type": "code",
   "execution_count": 197,
   "id": "ba49c922",
   "metadata": {},
   "outputs": [],
   "source": [
    "with open('C:/Users/Soyann/Code/Notebooks/OpenClassrooms/OC-P10-Chatbot/utterances_train_filtered.json', 'w') as outfile:\n",
    "    outfile.write(json.dumps(utterances_train))"
   ]
  },
  {
   "cell_type": "code",
   "execution_count": 24,
   "id": "f67ff1d9",
   "metadata": {},
   "outputs": [],
   "source": [
    "# Read the file previousy created\n",
    "with open('C:/Users/Soyann/Code/Notebooks/OpenClassrooms/OC-P10-Chatbot/utterances_train_filtered.json') as f:\n",
    "    utterances_train = json.load(f)"
   ]
  },
  {
   "cell_type": "markdown",
   "id": "085964fa",
   "metadata": {},
   "source": [
    "## Train the app"
   ]
  },
  {
   "cell_type": "code",
   "execution_count": 449,
   "id": "566fefd5",
   "metadata": {},
   "outputs": [
    {
     "name": "stdout",
     "output_type": "stream",
     "text": [
      "\n",
      "We'll start training your app...\n"
     ]
    }
   ],
   "source": [
    "print(\"\\nWe'll start training your app...\")\n",
    "\n",
    "async_training = client.train.train_version(app_id, version_id)\n",
    "is_trained = async_training.status == \"UpToDate\"\n",
    "\n",
    "trained_status = [\"UpToDate\", \"Success\"]\n",
    "while not is_trained:\n",
    "        time.sleep(1)\n",
    "        status = client.train.get_status(app_id, version_id)\n",
    "        is_trained = all(\n",
    "        m.details.status in trained_status for m in status)"
   ]
  },
  {
   "cell_type": "markdown",
   "id": "029cbe57",
   "metadata": {},
   "source": [
    "## Publish the app"
   ]
  },
  {
   "cell_type": "code",
   "execution_count": 450,
   "id": "f79aeec5",
   "metadata": {},
   "outputs": [
    {
     "name": "stdout",
     "output_type": "stream",
     "text": [
      "\n",
      "We'll start publishing your app...\n"
     ]
    }
   ],
   "source": [
    "print(\"\\nWe'll start publishing your app...\")\n",
    "client.apps.update_settings(app_id, is_public=True)\n",
    "publish_result = client.apps.publish(app_id,version_id,is_staging=False)\n"
   ]
  },
  {
   "cell_type": "code",
   "execution_count": 451,
   "id": "a2a2473e",
   "metadata": {},
   "outputs": [
    {
     "data": {
      "text/plain": [
       "{'version_id': '0.1',\n",
       " 'is_staging': False,\n",
       " 'endpoint_url': 'https://westeurope.api.cognitive.microsoft.com/luis/v2.0/apps/a53e07f8-c3b6-4a8f-a387-12dc5f0d631b',\n",
       " 'region': 'westeurope, northeurope, uksouth, ukwest, francecentral, francesouth, norwayeast, norwaywest',\n",
       " 'endpoint_region': 'westeurope',\n",
       " 'failed_regions': '',\n",
       " 'published_date_time': '2021-12-22T17:15:02Z'}"
      ]
     },
     "execution_count": 451,
     "metadata": {},
     "output_type": "execute_result"
    }
   ],
   "source": [
    "publish_result.as_dict()"
   ]
  },
  {
   "cell_type": "code",
   "execution_count": 452,
   "id": "4a87333c",
   "metadata": {},
   "outputs": [
    {
     "name": "stdout",
     "output_type": "stream",
     "text": [
      "Your app is published. You can now go to test it on\n",
      "https://westeurope.api.cognitive.microsoft.com/luis/v2.0/apps/a53e07f8-c3b6-4a8f-a387-12dc5f0d631b?subscription-key=1d1eab987e154e1f96503b0172d855d5&q=\n"
     ]
    }
   ],
   "source": [
    "endpoint = publish_result.endpoint_url + \\\n",
    "\"?subscription-key=\" + authoringKey + \"&q=\"\n",
    "print(\"Your app is published. You can now go to test it on\\n{}\".format(endpoint))"
   ]
  },
  {
   "cell_type": "markdown",
   "id": "9a2983e7",
   "metadata": {},
   "source": [
    "# Authenticate the prediction runtime client"
   ]
  },
  {
   "cell_type": "code",
   "execution_count": 453,
   "id": "c1f023fe",
   "metadata": {},
   "outputs": [],
   "source": [
    "runtimeCredentials = CognitiveServicesCredentials(predictionKey)\n",
    "clientRuntime = LUISRuntimeClient(endpoint=predictionEndpoint, credentials=runtimeCredentials)"
   ]
  },
  {
   "cell_type": "code",
   "execution_count": 455,
   "id": "742c83a5",
   "metadata": {},
   "outputs": [
    {
     "name": "stdout",
     "output_type": "stream",
     "text": [
      "Detected entities:\n",
      "\t-> Entity 'la' (type: or_city, score:92%)\n"
     ]
    }
   ],
   "source": [
    "#test with one utterance\n",
    "query = utterances_testV2[1]['text']\n",
    "\n",
    "result = clientRuntime.prediction.resolve(app_id,query,verbose=False)\n",
    "\n",
    "print(\"Detected entities:\")\n",
    "for entity in result.entities:\n",
    "            print(\"\\t-> Entity '{}' (type: {}, score:{:d}%)\".format(\n",
    "                entity.entity,\n",
    "                entity.type,\n",
    "                int(entity.additional_properties['score']*100)\n",
    "            ))"
   ]
  },
  {
   "cell_type": "markdown",
   "id": "0fe5aa82",
   "metadata": {},
   "source": [
    "## create a file for batch testing"
   ]
  },
  {
   "cell_type": "code",
   "execution_count": 419,
   "id": "365a288f",
   "metadata": {},
   "outputs": [],
   "source": [
    "def entityCharV2(entity_name,frame):\n",
    "    #load entity part of the frame\n",
    "    entities=frame['labels']['acts'][1]['args']\n",
    "    for entity in entities:\n",
    "        if entity['key']==entity_name:\n",
    "            char=entity['val'].lower()\n",
    "            if re.search(r\"\\b\"+char+\"\\w+\",frame['text'].lower()):\n",
    "                print('catch')\n",
    "                result=re.search(r\"\\b\"+char+\"\\w+\",frame['text'].lower()).group()\n",
    "            else :\n",
    "                result=char\n",
    "    return result.split('.')[0]\n",
    "\n",
    "def entityDataV2(entity_char,text,entity_name):\n",
    "    startIndex=max(text.find(entity_char),0)\n",
    "    endCharIndex=max(text.find(entity_char)+len(entity_char)-1,0)\n",
    "    return {'startCharIndex':startIndex,'endCharIndex':endCharIndex,'entityName':entity_name}\n",
    "\n",
    "def entityDataDictV2(frame,pf_entities,intentName):\n",
    "    text=frame['text'].lower()\n",
    "    entities=frame['labels']['acts'][1]['args']\n",
    "    entities_keys=[entity['key'] for entity in entities]\n",
    "    entity_list=[]\n",
    "    for entity_name in pf_entities:\n",
    "        #check if entities exist\n",
    "        if entity_name in entities_keys:\n",
    "            #check if value is not -1\n",
    "            if entityCharV2(entity_name,frame)!='-1':\n",
    "                entity_list.append(entityDataV2(entityCharV2(entity_name,frame),text,entity_name))\n",
    "                    \n",
    "    dict_output={\n",
    "        \"text\":text,\n",
    "        \"intentName\":intentName,\n",
    "        \"entityLabels\":entity_list}\n",
    "    \n",
    "    return dict_output"
   ]
  },
  {
   "cell_type": "code",
   "execution_count": 458,
   "id": "775fb52d",
   "metadata": {},
   "outputs": [],
   "source": [
    "A=[{'text':utterance['text'],\n",
    "  'intent':utterance['intentName'],\n",
    "  'entities':[{'entity':entity['entityName'],\n",
    "               'startPos':entity['startCharIndex'],\n",
    "               'endPos':entity['endCharIndex']\n",
    "              } for entity in utterance['entityLabels']]\n",
    "} for utterance in utterances_testV2]"
   ]
  },
  {
   "cell_type": "code",
   "execution_count": 459,
   "id": "b6219ea8",
   "metadata": {},
   "outputs": [
    {
     "data": {
      "text/plain": [
       "107"
      ]
     },
     "execution_count": 459,
     "metadata": {},
     "output_type": "execute_result"
    }
   ],
   "source": [
    "len(A)"
   ]
  },
  {
   "cell_type": "code",
   "execution_count": null,
   "id": "2bd80d8f",
   "metadata": {},
   "outputs": [],
   "source": []
  },
  {
   "cell_type": "code",
   "execution_count": 460,
   "id": "8e40fe02",
   "metadata": {},
   "outputs": [],
   "source": [
    "with open('C:/Users/Soyann/Code/Notebooks/OpenClassrooms/OC-P10-Chatbot/utterances_test_full.json', 'w') as outfile:\n",
    "    outfile.write(json.dumps(A))"
   ]
  },
  {
   "cell_type": "code",
   "execution_count": null,
   "id": "38a55426",
   "metadata": {},
   "outputs": [],
   "source": []
  }
 ],
 "metadata": {
  "kernelspec": {
   "display_name": "Python 3 (ipykernel)",
   "language": "python",
   "name": "python3"
  },
  "language_info": {
   "codemirror_mode": {
    "name": "ipython",
    "version": 3
   },
   "file_extension": ".py",
   "mimetype": "text/x-python",
   "name": "python",
   "nbconvert_exporter": "python",
   "pygments_lexer": "ipython3",
   "version": "3.8.12"
  },
  "toc": {
   "base_numbering": 1,
   "nav_menu": {},
   "number_sections": true,
   "sideBar": true,
   "skip_h1_title": false,
   "title_cell": "Table of Contents",
   "title_sidebar": "Contents",
   "toc_cell": false,
   "toc_position": {},
   "toc_section_display": true,
   "toc_window_display": true
  }
 },
 "nbformat": 4,
 "nbformat_minor": 5
}
