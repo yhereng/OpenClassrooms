{
 "cells": [
  {
   "cell_type": "code",
   "execution_count": 2,
   "id": "f7df3275",
   "metadata": {
    "init_cell": true
   },
   "outputs": [
    {
     "ename": "ModuleNotFoundError",
     "evalue": "No module named 'tensorflow'",
     "output_type": "error",
     "traceback": [
      "\u001b[1;31m---------------------------------------------------------------------------\u001b[0m",
      "\u001b[1;31mModuleNotFoundError\u001b[0m                       Traceback (most recent call last)",
      "\u001b[1;32m~\\AppData\\Local\\Temp/ipykernel_10136/543146110.py\u001b[0m in \u001b[0;36m<module>\u001b[1;34m\u001b[0m\n\u001b[0;32m      2\u001b[0m \u001b[1;32mimport\u001b[0m \u001b[0mnumpy\u001b[0m \u001b[1;32mas\u001b[0m \u001b[0mnp\u001b[0m\u001b[1;33m\u001b[0m\u001b[1;33m\u001b[0m\u001b[0m\n\u001b[0;32m      3\u001b[0m \u001b[1;32mimport\u001b[0m \u001b[0mpandas\u001b[0m \u001b[1;32mas\u001b[0m \u001b[0mpd\u001b[0m\u001b[1;33m\u001b[0m\u001b[1;33m\u001b[0m\u001b[0m\n\u001b[1;32m----> 4\u001b[1;33m \u001b[1;32mimport\u001b[0m \u001b[0mtensorflow\u001b[0m \u001b[1;32mas\u001b[0m \u001b[0mtf\u001b[0m\u001b[1;33m\u001b[0m\u001b[1;33m\u001b[0m\u001b[0m\n\u001b[0m\u001b[0;32m      5\u001b[0m \u001b[1;32mimport\u001b[0m \u001b[0mos\u001b[0m\u001b[1;33m\u001b[0m\u001b[1;33m\u001b[0m\u001b[0m\n\u001b[0;32m      6\u001b[0m \u001b[1;32mimport\u001b[0m \u001b[0mshutil\u001b[0m\u001b[1;33m\u001b[0m\u001b[1;33m\u001b[0m\u001b[0m\n",
      "\u001b[1;31mModuleNotFoundError\u001b[0m: No module named 'tensorflow'"
     ]
    }
   ],
   "source": [
    "from PIL import Image\n",
    "import numpy as np\n",
    "import pandas as pd\n",
    "import tensorflow as tf\n",
    "import os\n",
    "import shutil"
   ]
  },
  {
   "cell_type": "markdown",
   "id": "fbf651a7",
   "metadata": {},
   "source": [
    "# Restructure directories for images and masks"
   ]
  },
  {
   "cell_type": "markdown",
   "id": "cd9c0aa4",
   "metadata": {},
   "source": [
    "Apply thgis snipset to whichever directory you'll want to change"
   ]
  },
  {
   "cell_type": "code",
   "execution_count": 3,
   "id": "7b344404",
   "metadata": {},
   "outputs": [],
   "source": [
    "#  image_path='D:/Data OC/P8/Images/test'\n",
    "#  image_dir=os.listdir(image_path)\n",
    "\n",
    "\n",
    "#  for directory in image_dir[1:]:    \n",
    "#      all_mask = os.listdir(image_path+'/'+directory)\n",
    "#      for file in all_mask:\n",
    "#          original = image_path+'/'+directory+'/'+file\n",
    "#          target = image_path+'/'+'#all''/'+file\n",
    "#          shutil.copyfile(original,target)"
   ]
  },
  {
   "cell_type": "markdown",
   "id": "e744af47",
   "metadata": {},
   "source": [
    "# Utilities"
   ]
  },
  {
   "cell_type": "markdown",
   "id": "e615ac81",
   "metadata": {},
   "source": [
    "## Create mask from grey scale image"
   ]
  },
  {
   "cell_type": "code",
   "execution_count": null,
   "id": "3e0bc9f7",
   "metadata": {
    "init_cell": true
   },
   "outputs": [],
   "source": [
    "def create_mask(img,cats):\n",
    "    '''creates an mask from image and segmentation categories\n",
    "    \n",
    "    Args:\n",
    "      img - PIL image\n",
    "      cats - dict {'cat1':[value1,value2,value3,etc...],'cat2':[value1,value2,value3,etc...]}\n",
    "    \n",
    "    Returns:\n",
    "      A mask of type np.array of dimension (shape(img),len(cats)) '''\n",
    "    \n",
    "    \n",
    "    img =tf.keras.preprocessing.image.img_to_array(img,dtype=np.int32) # convert img to np.array\n",
    "    img=np.squeeze(img) #remove 1 dimension\n",
    "    mask = np.zeros((img.shape[0], img.shape[1], len(cats)),dtype=int) # create a mask with zeros\n",
    "    flat_cat = [val for cat in list(cats.values()) for val in cat] # create a list of all values associated with categories\n",
    "    ca_min=min(flat_cat)\n",
    "    ca_max=max(flat_cat)\n",
    "    cats_names=list(cats.keys())\n",
    "    \n",
    "    #for each values associated with a category, fill in the mask with the corresponding category number\n",
    "    for i in range(ca_min,ca_max):\n",
    "            for idx,name in enumerate(cats_names):\n",
    "                if i in cats[name]:\n",
    "                    mask[:,:,idx] = np.logical_or(mask[:,:,idx],(img==i))\n",
    "    return mask"
   ]
  },
  {
   "cell_type": "markdown",
   "id": "9759cc9e",
   "metadata": {},
   "source": [
    "## Construct colored image from mask"
   ]
  },
  {
   "cell_type": "code",
   "execution_count": null,
   "id": "f860b1a4",
   "metadata": {
    "init_cell": true
   },
   "outputs": [],
   "source": [
    "import seaborn as sns\n",
    "import matplotlib.pyplot as plt\n",
    "from matplotlib import colors"
   ]
  },
  {
   "cell_type": "code",
   "execution_count": null,
   "id": "acba8f59",
   "metadata": {
    "init_cell": true
   },
   "outputs": [],
   "source": [
    "colors_palette=['black','purple','grey','yellow','forestgreen','skyblue','red','mediumblue']"
   ]
  },
  {
   "cell_type": "code",
   "execution_count": null,
   "id": "b9a82904",
   "metadata": {
    "init_cell": true
   },
   "outputs": [],
   "source": [
    "cats = {'void': [0, 1, 2, 3, 4, 5, 6],\n",
    " 'flat': [7, 8, 9, 10],\n",
    " 'construction': [11, 12, 13, 14, 15, 16],\n",
    " 'object': [17, 18, 19, 20],\n",
    " 'nature': [21, 22],\n",
    " 'sky': [23],\n",
    " 'human': [24, 25],\n",
    " 'vehicle': [26, 27, 28, 29, 30, 31, 32, 33, -1]}"
   ]
  },
  {
   "cell_type": "code",
   "execution_count": null,
   "id": "681ec68b",
   "metadata": {
    "init_cell": true
   },
   "outputs": [],
   "source": [
    "def generate_img_from_mask(mask,cats,colors_palette=['b','g','r','c','m','y','k','w']):\n",
    "    \n",
    "    '''Generate a PIL image from a segmented mask and categorie cats with specified color palette for each cateorie\n",
    "    \n",
    "    Args:\n",
    "      mask - numpy array of dimension (shape(img),len(cats))\n",
    "      cats - dict {'cat1':[value1,value2,value3],'cat2':[value1,value2,value3]}\n",
    "    \n",
    "    Returns\n",
    "      PIL image'''\n",
    "    img_seg = np.zeros((mask.shape[0],mask.shape[1],3),dtype='float')\n",
    "    for cat in range(len(cats)):\n",
    "        img_seg[:,:,0] += mask[:,:,cat]*colors.to_rgb(colors_palette[cat])[0]\n",
    "        img_seg[:,:,1] += mask[:,:,cat]*colors.to_rgb(colors_palette[cat])[1]\n",
    "        img_seg[:,:,2] += mask[:,:,cat]*colors.to_rgb(colors_palette[cat])[2]\n",
    "        \n",
    "    return tf.keras.preprocessing.image.array_to_img(img_seg)         "
   ]
  },
  {
   "cell_type": "markdown",
   "id": "58cad177",
   "metadata": {},
   "source": [
    "## Display image, mask and prediction"
   ]
  },
  {
   "cell_type": "code",
   "execution_count": null,
   "id": "469ed099",
   "metadata": {},
   "outputs": [],
   "source": [
    "from PIL import ImageDraw\n",
    "\n",
    "def get_concat_h(im1, im2):\n",
    "    \n",
    "    '''concatenate two PIL images horizontaly'''\n",
    "    dst = Image.new('RGB', (im1.width + im2.width, im1.height))\n",
    "    dst.paste(im1, (0, 0))\n",
    "    dst.paste(im2, (im1.width, 0))\n",
    "    return dst\n",
    "\n",
    "\n",
    "def show_results(img,mask,model):\n",
    "    \n",
    "    '''concatenates the img, the reference mask and the predicted mask'''\n",
    "\n",
    "    img_norm = np.array(normalize_input_img(img))\n",
    "    \n",
    "    img_pred = model.predict(img_norm.reshape(1,128,256,3))[0]\n",
    "    \n",
    "    res = get_concat_h(get_concat_h(img,generate_img_from_mask(create_mask(mask,cats),cats)),generate_img_from_mask(img_pred,cats))\n",
    "    \n",
    "    return res"
   ]
  },
  {
   "cell_type": "markdown",
   "id": "49f4850b",
   "metadata": {},
   "source": [
    "## Normalize input image"
   ]
  },
  {
   "cell_type": "code",
   "execution_count": null,
   "id": "f22ef9ba",
   "metadata": {
    "init_cell": true
   },
   "outputs": [],
   "source": [
    "def normalize_input_img(img):\n",
    "    '''Normalize PIL image to fall in [-1,1] range, returns 3D numpy array'''\n",
    "    img =tf.keras.preprocessing.image.img_to_array(img,dtype=np.int32)\n",
    "    img = img/127.5\n",
    "    img -= 1\n",
    "    return img"
   ]
  },
  {
   "cell_type": "markdown",
   "id": "ce0e9e8d",
   "metadata": {},
   "source": [
    "# Datasets"
   ]
  },
  {
   "cell_type": "code",
   "execution_count": null,
   "id": "21cfa8aa",
   "metadata": {
    "init_cell": true
   },
   "outputs": [],
   "source": [
    "image_train_path=\"D:/Data OC/P8/Full_def/images/train\"\n",
    "mask_train_path=\"D:/Data OC/P8/Full_def/masks/train\"\n",
    "\n",
    "image_test_path=\"D:/Data OC/P8/Full_def/images/test\"\n",
    "mask_test_path=\"D:/Data OC/P8/Full_def/masks/test\""
   ]
  },
  {
   "cell_type": "code",
   "execution_count": null,
   "id": "7174bb72",
   "metadata": {
    "init_cell": true
   },
   "outputs": [],
   "source": [
    "image_train_filename = os.listdir(image_train_path)\n",
    "mask_train_filename = os.listdir(mask_train_path)\n",
    "\n",
    "image_test_filename = os.listdir(image_test_path)\n",
    "mask_test_filename = os.listdir(mask_test_path)"
   ]
  },
  {
   "cell_type": "markdown",
   "id": "74afe8c2",
   "metadata": {},
   "source": [
    "## EDA"
   ]
  },
  {
   "cell_type": "markdown",
   "id": "e465a8cb",
   "metadata": {},
   "source": [
    "### Number of images"
   ]
  },
  {
   "cell_type": "code",
   "execution_count": 15,
   "id": "85e8f702",
   "metadata": {},
   "outputs": [
    {
     "data": {
      "text/plain": [
       "2975"
      ]
     },
     "execution_count": 15,
     "metadata": {},
     "output_type": "execute_result"
    }
   ],
   "source": [
    "len(image_train_filename)"
   ]
  },
  {
   "cell_type": "code",
   "execution_count": 16,
   "id": "a4a15479",
   "metadata": {},
   "outputs": [
    {
     "data": {
      "text/plain": [
       "1525"
      ]
     },
     "execution_count": 16,
     "metadata": {},
     "output_type": "execute_result"
    }
   ],
   "source": [
    "len(image_test_filename)"
   ]
  },
  {
   "cell_type": "code",
   "execution_count": null,
   "id": "adaad5b8",
   "metadata": {
    "init_cell": true
   },
   "outputs": [],
   "source": [
    "test_img_file=\"D:/Data OC/P8/Full_def/images/train/cologne_000100_000019_leftImg8bit.png\"\n",
    "test_mask_file=\"D:/Data OC/P8/Full_def/masks/train/cologne_000100_000019_gtFine_labelIds.png\"\n",
    "img = tf.keras.preprocessing.image.load_img(test_img_file,target_size=(128,256))\n",
    "mask = tf.keras.preprocessing.image.load_img(test_mask_file,target_size=(128,256),color_mode=\"grayscale\")"
   ]
  },
  {
   "cell_type": "markdown",
   "id": "c36e5a16",
   "metadata": {},
   "source": [
    "### Class repartition"
   ]
  },
  {
   "cell_type": "code",
   "execution_count": 18,
   "id": "0f3c3707",
   "metadata": {},
   "outputs": [],
   "source": [
    "sums=[]\n",
    "for file in mask_train_filename:\n",
    "    mask_file=mask_train_path+'/'+file\n",
    "    mask = tf.keras.preprocessing.image.load_img(mask_file,target_size=(128,256),color_mode=\"grayscale\")\n",
    "    mask_tensor = create_mask(mask,cats)\n",
    "    sum=[]\n",
    "    for i in range(8):\n",
    "        sum.append(mask_tensor[:,:,i].sum())\n",
    "    sums.append(sum)"
   ]
  },
  {
   "cell_type": "code",
   "execution_count": 19,
   "id": "843967ff",
   "metadata": {},
   "outputs": [],
   "source": [
    "sums=np.array(sums)"
   ]
  },
  {
   "cell_type": "code",
   "execution_count": 20,
   "id": "cb038984",
   "metadata": {},
   "outputs": [
    {
     "data": {
      "text/plain": [
       "array([10476029, 37744963, 21198078,  1714486, 14632973,  3406053,\n",
       "        1166331,  6789915])"
      ]
     },
     "execution_count": 20,
     "metadata": {},
     "output_type": "execute_result"
    }
   ],
   "source": [
    "sums.sum(axis=0)"
   ]
  },
  {
   "cell_type": "code",
   "execution_count": 21,
   "id": "2d381bf4",
   "metadata": {},
   "outputs": [
    {
     "data": {
      "text/plain": [
       "Text(0.5, 1.0, 'class repartition')"
      ]
     },
     "execution_count": 21,
     "metadata": {},
     "output_type": "execute_result"
    },
    {
     "data": {
      "image/png": "[encoded data removed]",
      "text/plain": [
       "<Figure size 432x288 with 1 Axes>"
      ]
     },
     "metadata": {
      "needs_background": "light"
     },
     "output_type": "display_data"
    }
   ],
   "source": [
    "plt.bar(x=cats.keys(),height = sums.sum(axis=0),tick_label=list(cats.keys()))\n",
    "plt.xticks(rotation=45)\n",
    "plt.title('class repartition')"
   ]
  },
  {
   "cell_type": "markdown",
   "id": "e161226d",
   "metadata": {},
   "source": [
    "## Toy dataset"
   ]
  },
  {
   "cell_type": "markdown",
   "id": "103f5ffd",
   "metadata": {},
   "source": [
    "let's use 100 training samples and 20 test sample randomly selected in the dataset"
   ]
  },
  {
   "cell_type": "code",
   "execution_count": null,
   "id": "281f6e89",
   "metadata": {
    "init_cell": true
   },
   "outputs": [],
   "source": [
    "import random"
   ]
  },
  {
   "cell_type": "code",
   "execution_count": null,
   "id": "04edb9a7",
   "metadata": {
    "init_cell": true
   },
   "outputs": [],
   "source": [
    "rand_index_train=random.sample(range(0,len(image_train_filename)-1),100)\n",
    "rand_index_test=random.sample(range(0,len(image_test_filename)-1),20)"
   ]
  },
  {
   "cell_type": "code",
   "execution_count": null,
   "id": "136375e2",
   "metadata": {
    "init_cell": true
   },
   "outputs": [],
   "source": [
    "image_train_filename=[image_train_filename[i] for i in rand_index_train]\n",
    "mask_train_filename=[mask_train_filename[i] for i in rand_index_train]\n",
    "\n",
    "image_test_filename=[image_test_filename[i] for i in rand_index_test]\n",
    "mask_test_filename=[mask_test_filename[i] for i in rand_index_test]"
   ]
  },
  {
   "cell_type": "markdown",
   "id": "989b431e",
   "metadata": {},
   "source": [
    "create datasets"
   ]
  },
  {
   "cell_type": "code",
   "execution_count": null,
   "id": "12c49c85",
   "metadata": {
    "init_cell": true
   },
   "outputs": [],
   "source": [
    "X_train_toy=[]\n",
    "for file in image_train_filename:\n",
    "    img_file=image_train_path+'/'+file\n",
    "    img = tf.keras.preprocessing.image.load_img(img_file,target_size=(128,256))    \n",
    "    X_train_toy.append(normalize_input_img(img))\n",
    "X_train_toy = np.array(X_train_toy)"
   ]
  },
  {
   "cell_type": "code",
   "execution_count": 26,
   "id": "76a0a260",
   "metadata": {},
   "outputs": [
    {
     "data": {
      "text/plain": [
       "(100, 128, 256, 3)"
      ]
     },
     "execution_count": 26,
     "metadata": {},
     "output_type": "execute_result"
    }
   ],
   "source": [
    "X_train_toy.shape"
   ]
  },
  {
   "cell_type": "code",
   "execution_count": null,
   "id": "7098c8b1",
   "metadata": {
    "init_cell": true
   },
   "outputs": [],
   "source": [
    "y_train_toy=[]\n",
    "for file in mask_train_filename:\n",
    "    img_file=mask_train_path+'/'+file\n",
    "    img = tf.keras.preprocessing.image.load_img(img_file,target_size=(128,256),color_mode=\"grayscale\")\n",
    "    y_train_toy.append(create_mask(img,cats))\n",
    "y_train_toy = np.array(y_train_toy)"
   ]
  },
  {
   "cell_type": "code",
   "execution_count": 28,
   "id": "4009d6f0",
   "metadata": {},
   "outputs": [
    {
     "data": {
      "text/plain": [
       "(100, 128, 256, 3)"
      ]
     },
     "execution_count": 28,
     "metadata": {},
     "output_type": "execute_result"
    }
   ],
   "source": [
    "X_train_toy.shape"
   ]
  },
  {
   "cell_type": "code",
   "execution_count": null,
   "id": "e82b29c0",
   "metadata": {
    "init_cell": true
   },
   "outputs": [],
   "source": [
    "X_test_toy=[]\n",
    "for file in image_test_filename:\n",
    "    img_file=image_test_path+'/'+file\n",
    "    img = tf.keras.preprocessing.image.load_img(img_file,target_size=(128,256))\n",
    "    X_test_toy.append(normalize_input_img(img))\n",
    "X_test_toy = np.array(X_test_toy)"
   ]
  },
  {
   "cell_type": "code",
   "execution_count": 30,
   "id": "25215460",
   "metadata": {},
   "outputs": [
    {
     "data": {
      "text/plain": [
       "(20, 128, 256, 3)"
      ]
     },
     "execution_count": 30,
     "metadata": {},
     "output_type": "execute_result"
    }
   ],
   "source": [
    "X_test_toy.shape"
   ]
  },
  {
   "cell_type": "code",
   "execution_count": null,
   "id": "45e5631a",
   "metadata": {
    "init_cell": true
   },
   "outputs": [],
   "source": [
    "y_test_toy=[]\n",
    "for file in mask_test_filename:\n",
    "    img_file=mask_test_path+'/'+file\n",
    "    img = tf.keras.preprocessing.image.load_img(img_file,target_size=(128,256),color_mode=\"grayscale\")\n",
    "    y_test_toy.append(create_mask(img,cats))\n",
    "y_test_toy = np.array(y_test_toy)"
   ]
  },
  {
   "cell_type": "code",
   "execution_count": 32,
   "id": "8fcb2899",
   "metadata": {},
   "outputs": [
    {
     "data": {
      "text/plain": [
       "(20, 128, 256, 8)"
      ]
     },
     "execution_count": 32,
     "metadata": {},
     "output_type": "execute_result"
    }
   ],
   "source": [
    "y_test_toy.shape"
   ]
  },
  {
   "cell_type": "markdown",
   "id": "6af4c083",
   "metadata": {},
   "source": [
    "# Data Augmentation\n"
   ]
  },
  {
   "cell_type": "code",
   "execution_count": 3,
   "id": "69759398",
   "metadata": {
    "init_cell": true
   },
   "outputs": [
    {
     "ename": "ModuleNotFoundError",
     "evalue": "No module named 'imgaug'",
     "output_type": "error",
     "traceback": [
      "\u001b[1;31m---------------------------------------------------------------------------\u001b[0m",
      "\u001b[1;31mModuleNotFoundError\u001b[0m                       Traceback (most recent call last)",
      "\u001b[1;32m~\\AppData\\Local\\Temp/ipykernel_10136/1567224691.py\u001b[0m in \u001b[0;36m<module>\u001b[1;34m\u001b[0m\n\u001b[1;32m----> 1\u001b[1;33m \u001b[1;32mimport\u001b[0m \u001b[0mimgaug\u001b[0m\u001b[1;33m.\u001b[0m\u001b[0maugmenters\u001b[0m \u001b[1;32mas\u001b[0m \u001b[0miaa\u001b[0m\u001b[1;33m\u001b[0m\u001b[1;33m\u001b[0m\u001b[0m\n\u001b[0m",
      "\u001b[1;31mModuleNotFoundError\u001b[0m: No module named 'imgaug'"
     ]
    }
   ],
   "source": [
    "import imgaug.augmenters as iaa"
   ]
  },
  {
   "cell_type": "markdown",
   "id": "1b34f9c0",
   "metadata": {},
   "source": [
    "## Gaussian Blur"
   ]
  },
  {
   "cell_type": "code",
   "execution_count": null,
   "id": "ac318f9a",
   "metadata": {
    "init_cell": true
   },
   "outputs": [],
   "source": [
    "def blur_img(img):\n",
    "    '''Add random blur to image, returns PIL image'''\n",
    "    n = random.uniform(0,2.0) # Generating random value for sigma\n",
    "    blur_transform = iaa.Sequential([iaa.GaussianBlur(sigma=n)])\n",
    "    img_blur = blur_transform(image=tf.keras.preprocessing.image.img_to_array(img))\n",
    "\n",
    "    return tf.keras.preprocessing.image.array_to_img(img_blur)"
   ]
  },
  {
   "cell_type": "markdown",
   "id": "34f2e028",
   "metadata": {},
   "source": [
    "## Random zoom"
   ]
  },
  {
   "cell_type": "code",
   "execution_count": null,
   "id": "b61abb7a",
   "metadata": {
    "init_cell": true
   },
   "outputs": [],
   "source": [
    "def zoom_img(img,mask):\n",
    "    '''Add random zoom to image and mask, returns transformed PIL image and corresponding mask'''\n",
    "    n = random.uniform(1,5) # Generating random value for sigma\n",
    "    zoom_transform = iaa.Sequential([iaa.Affine(scale=n,order=0)]) # uses order=0 to avoid artifacts in mask\n",
    "    img_zoom = zoom_transform(image=tf.keras.preprocessing.image.img_to_array(img))\n",
    "    mask_zoom = zoom_transform(image=tf.keras.preprocessing.image.img_to_array(mask))\n",
    "\n",
    "    return tf.keras.preprocessing.image.array_to_img(img_zoom), tf.keras.preprocessing.image.array_to_img(mask_zoom,scale=False)"
   ]
  },
  {
   "cell_type": "markdown",
   "id": "d39f042b",
   "metadata": {},
   "source": [
    "## Random brightness"
   ]
  },
  {
   "cell_type": "code",
   "execution_count": null,
   "id": "94288db5",
   "metadata": {
    "init_cell": true
   },
   "outputs": [],
   "source": [
    "def brightness_img(img):\n",
    "    '''Add random brightness to image, returns PIL image'''\n",
    "    br_transform = iaa.Sequential([iaa.MultiplyBrightness((0.1,2))])\n",
    "    img_br = br_transform(image=tf.keras.preprocessing.image.img_to_array(img).astype(np.uint8))\n",
    "    \n",
    "    return tf.keras.preprocessing.image.array_to_img(img_br,scale=False)"
   ]
  },
  {
   "cell_type": "markdown",
   "id": "0b4e4a68",
   "metadata": {},
   "source": [
    "## Horizontal Flip"
   ]
  },
  {
   "cell_type": "code",
   "execution_count": null,
   "id": "eabce93a",
   "metadata": {
    "init_cell": true
   },
   "outputs": [],
   "source": [
    "def flip_img(img,mask):\n",
    "    '''Flips verticaly image, returns transformed PIL image and corresponding mask'''\n",
    "    flip_transform = iaa.Sequential([iaa.Fliplr()])\n",
    "    img_flip = flip_transform(image=tf.keras.preprocessing.image.img_to_array(img))\n",
    "    mask_flip = flip_transform(image=tf.keras.preprocessing.image.img_to_array(mask))\n",
    "\n",
    "    return tf.keras.preprocessing.image.array_to_img(img_flip), tf.keras.preprocessing.image.array_to_img(mask_flip,scale=False)"
   ]
  },
  {
   "cell_type": "markdown",
   "id": "d29ea9da",
   "metadata": {},
   "source": [
    "## Tests"
   ]
  },
  {
   "cell_type": "code",
   "execution_count": null,
   "id": "dbe95395",
   "metadata": {
    "init_cell": true
   },
   "outputs": [],
   "source": [
    "img = tf.keras.preprocessing.image.load_img(test_img_file,target_size=(128,256))\n",
    "mask = tf.keras.preprocessing.image.load_img(test_mask_file,target_size=(128,256),color_mode=\"grayscale\")"
   ]
  },
  {
   "cell_type": "code",
   "execution_count": null,
   "id": "218f687a",
   "metadata": {
    "init_cell": true
   },
   "outputs": [],
   "source": [
    "img"
   ]
  },
  {
   "cell_type": "code",
   "execution_count": null,
   "id": "ef6c3172",
   "metadata": {
    "init_cell": true
   },
   "outputs": [],
   "source": [
    "blur_img(img)"
   ]
  },
  {
   "cell_type": "code",
   "execution_count": null,
   "id": "98d5898a",
   "metadata": {
    "init_cell": true
   },
   "outputs": [],
   "source": [
    "zooms = zoom_img(img,mask)"
   ]
  },
  {
   "cell_type": "code",
   "execution_count": null,
   "id": "6dc59bdb",
   "metadata": {
    "init_cell": true
   },
   "outputs": [],
   "source": [
    "zooms[0]"
   ]
  },
  {
   "cell_type": "code",
   "execution_count": null,
   "id": "5934f988",
   "metadata": {
    "init_cell": true
   },
   "outputs": [],
   "source": [
    "generate_img_from_mask(create_mask(zooms[1],cats),cats)"
   ]
  },
  {
   "cell_type": "code",
   "execution_count": null,
   "id": "a777fab9",
   "metadata": {
    "init_cell": true
   },
   "outputs": [],
   "source": [
    "brightness_img(img)"
   ]
  },
  {
   "cell_type": "code",
   "execution_count": null,
   "id": "ef6e1ecb",
   "metadata": {
    "init_cell": true
   },
   "outputs": [],
   "source": [
    "flips = flip_img(img,mask)"
   ]
  },
  {
   "cell_type": "code",
   "execution_count": null,
   "id": "dc449a96",
   "metadata": {
    "init_cell": true
   },
   "outputs": [],
   "source": [
    "flips[0]"
   ]
  },
  {
   "cell_type": "code",
   "execution_count": null,
   "id": "c2c8f205",
   "metadata": {
    "init_cell": true
   },
   "outputs": [],
   "source": [
    "generate_img_from_mask(create_mask(flips[1],cats),cats)"
   ]
  },
  {
   "cell_type": "markdown",
   "id": "fc7bfd4d",
   "metadata": {},
   "source": [
    "# Data generator"
   ]
  },
  {
   "cell_type": "code",
   "execution_count": null,
   "id": "ffb6f759",
   "metadata": {
    "init_cell": true
   },
   "outputs": [],
   "source": [
    "from tensorflow.keras.utils import Sequence"
   ]
  },
  {
   "cell_type": "code",
   "execution_count": null,
   "id": "b87c4cc8",
   "metadata": {
    "init_cell": true
   },
   "outputs": [],
   "source": [
    "class seg_gen(Sequence):\n",
    "    \n",
    "    def __init__(self, image_dir,\n",
    "                 mask_dir,\n",
    "                 batch_size,\n",
    "                 img_height,\n",
    "                 img_width,\n",
    "                 cats,\n",
    "                 sample_perc=100,\n",
    "                 aug_blur=False,\n",
    "                 aug_zoom=False,\n",
    "                 aug_brightness=False,\n",
    "                 aug_flip=False):\n",
    "        \n",
    "        self.image_dir = image_dir\n",
    "        self.mask_dir =  mask_dir\n",
    "        self.image_filename =  os.listdir(image_dir)\n",
    "        self.image_filename.sort()\n",
    "        self.mask_filename =  os.listdir(mask_dir)\n",
    "        self.mask_filename.sort()\n",
    "        self.sample_perc = sample_perc\n",
    "        # Generate a sample\n",
    "        rdm_index = random.sample(range(0,len(self.image_filename)),int(len(self.image_filename)*self.sample_perc/100))\n",
    "        image_filename_sample = []\n",
    "        for i in rdm_index:\n",
    "            image_filename_sample.append(self.image_filename[i])\n",
    "            \n",
    "        mask_filename_sample = [] \n",
    "        for i in rdm_index:\n",
    "            mask_filename_sample.append(self.mask_filename[i])\n",
    "                \n",
    "        self.image_filename = image_filename_sample\n",
    "        self.mask_filename = mask_filename_sample\n",
    "        \n",
    "        self.batch_size = batch_size\n",
    "        self.img_height = img_height\n",
    "        self.img_width = img_width\n",
    "        self.cats = cats\n",
    "        self.sample_perc = sample_perc\n",
    "        self.aug_blur = aug_blur\n",
    "        self.aug_zoom = aug_zoom\n",
    "        self.aug_brightness = aug_brightness\n",
    "        self.aug_flip = aug_flip\n",
    "\n",
    "    def __len__(self):\n",
    "        return int(np.ceil(len(self.image_filename) / float(self.batch_size)))\n",
    "\n",
    "    def __getitem__(self, idx):\n",
    "        'generate one batch with random index'\n",
    "        \n",
    "        idx = np.random.randint(0,len(self.image_filename)-1, self.batch_size) #generate random index for the batch\n",
    "        batch_img, batch_mask = [], []\n",
    "        \n",
    "        for i in idx:\n",
    "            \n",
    "            #filename\n",
    "            img_file = self.image_dir+'/'+self.image_filename[i] \n",
    "            mask_file = self.mask_dir+'/'+self.mask_filename[i]\n",
    "            \n",
    "            #Load as PIL image and resize\n",
    "            img = tf.keras.preprocessing.image.load_img(img_file,target_size=(self.img_height,self.img_width))\n",
    "            mask = tf.keras.preprocessing.image.load_img(mask_file,target_size=(128,256),color_mode=\"grayscale\")\n",
    "                        \n",
    "            #Normalize image and create mask from greyscale image\n",
    "            img_norm = normalize_input_img(img)\n",
    "            mask_tensor = create_mask(mask,self.cats)            \n",
    "          \n",
    "            #Add to the batch\n",
    "            batch_img.append(img_norm)\n",
    "            batch_mask.append(mask_tensor)\n",
    "            \n",
    "            #Image augmentation\n",
    "            if self.aug_blur:\n",
    "                batch_img.append(normalize_input_img(blur_img(img)))\n",
    "                batch_mask.append(mask_tensor) # When using blur augmentation,the mask is not changed\n",
    "            \n",
    "            if self.aug_zoom:\n",
    "                zooms = zoom_img(img,mask)\n",
    "                batch_img.append(normalize_input_img(zooms[0]))\n",
    "                batch_mask.append(create_mask(zooms[1],self.cats))\n",
    "             \n",
    "            if self.aug_brightness:\n",
    "                batch_img.append(normalize_input_img(brightness_img(img)))\n",
    "                batch_mask.append(mask_tensor) # When using brightness augmentation,the mask is not changed\n",
    "            \n",
    "            if self.aug_flip:\n",
    "                flips = flip_img(img,mask)\n",
    "                batch_img.append(normalize_input_img(flips[0]))\n",
    "                batch_mask.append(create_mask(flips[1],self.cats))            \n",
    "              \n",
    "            \n",
    "        return np.array(batch_img), np.array(batch_mask)"
   ]
  },
  {
   "cell_type": "code",
   "execution_count": null,
   "id": "fcf4d4a0",
   "metadata": {
    "init_cell": true
   },
   "outputs": [],
   "source": [
    "train_gen = seg_gen(image_train_path,mask_train_path,10,128,256,cats,sample_perc=10,aug_blur=False,aug_zoom=False,aug_brightness=False,aug_flip=False)"
   ]
  },
  {
   "cell_type": "code",
   "execution_count": 117,
   "id": "c51bb1be",
   "metadata": {},
   "outputs": [
    {
     "data": {
      "text/plain": [
       "3"
      ]
     },
     "execution_count": 117,
     "metadata": {},
     "output_type": "execute_result"
    }
   ],
   "source": [
    "len(train_gen)"
   ]
  },
  {
   "cell_type": "code",
   "execution_count": null,
   "id": "314b4dc0",
   "metadata": {
    "init_cell": true
   },
   "outputs": [],
   "source": [
    "test_gen = seg_gen(image_test_path,mask_test_path,10,128,256,cats)"
   ]
  },
  {
   "cell_type": "code",
   "execution_count": null,
   "id": "ad495a49",
   "metadata": {
    "init_cell": true
   },
   "outputs": [],
   "source": [
    "batch_img,batch_mask = train_gen.__getitem__(1)"
   ]
  },
  {
   "cell_type": "code",
   "execution_count": null,
   "id": "3cd53a5f",
   "metadata": {
    "init_cell": true
   },
   "outputs": [],
   "source": [
    "tf.keras.preprocessing.image.array_to_img(batch_img[9])"
   ]
  },
  {
   "cell_type": "code",
   "execution_count": 4,
   "id": "0be6c3db",
   "metadata": {
    "init_cell": true
   },
   "outputs": [
    {
     "ename": "NameError",
     "evalue": "name 'tf' is not defined",
     "output_type": "error",
     "traceback": [
      "\u001b[1;31m---------------------------------------------------------------------------\u001b[0m",
      "\u001b[1;31mNameError\u001b[0m                                 Traceback (most recent call last)",
      "\u001b[1;32m~\\AppData\\Local\\Temp/ipykernel_10136/3979492970.py\u001b[0m in \u001b[0;36m<module>\u001b[1;34m\u001b[0m\n\u001b[1;32m----> 1\u001b[1;33m \u001b[0mtf\u001b[0m\u001b[1;33m.\u001b[0m\u001b[0mkeras\u001b[0m\u001b[1;33m.\u001b[0m\u001b[0mpreprocessing\u001b[0m\u001b[1;33m.\u001b[0m\u001b[0mimage\u001b[0m\u001b[1;33m.\u001b[0m\u001b[0marray_to_img\u001b[0m\u001b[1;33m(\u001b[0m\u001b[0mgenerate_img_from_mask\u001b[0m\u001b[1;33m(\u001b[0m\u001b[0mbatch_mask\u001b[0m\u001b[1;33m[\u001b[0m\u001b[1;36m9\u001b[0m\u001b[1;33m]\u001b[0m\u001b[1;33m,\u001b[0m\u001b[0mcats\u001b[0m\u001b[1;33m)\u001b[0m\u001b[1;33m)\u001b[0m\u001b[1;33m\u001b[0m\u001b[1;33m\u001b[0m\u001b[0m\n\u001b[0m",
      "\u001b[1;31mNameError\u001b[0m: name 'tf' is not defined"
     ]
    }
   ],
   "source": [
    "tf.keras.preprocessing.image.array_to_img(generate_img_from_mask(batch_mask[9],cats))"
   ]
  },
  {
   "cell_type": "markdown",
   "id": "0ca52e2e",
   "metadata": {},
   "source": [
    "# Building VGG-16 + FCN-8 Model"
   ]
  },
  {
   "cell_type": "markdown",
   "id": "e5df1a5e",
   "metadata": {},
   "source": [
    "## Define Pooling Block of VGG"
   ]
  },
  {
   "cell_type": "code",
   "execution_count": null,
   "id": "5c60f5e8",
   "metadata": {
    "init_cell": true
   },
   "outputs": [],
   "source": [
    "def block(x, n_convs, filters, kernel_size, activation, pool_size, pool_stride, block_name):\n",
    "  '''\n",
    "  Defines a block in the VGG network.\n",
    "\n",
    "  Args:\n",
    "    x (tensor) -- input image\n",
    "    n_convs (int) -- number of convolution layers to append\n",
    "    filters (int) -- number of filters for the convolution layers\n",
    "    activation (string or object) -- activation to use in the convolution\n",
    "    pool_size (int) -- size of the pooling layer\n",
    "    pool_stried (int) -- stride of the pooling layer\n",
    "    block_name (string) -- name of the block\n",
    "\n",
    "  Returns:\n",
    "    tensor containing the max-pooled output of the convolutions\n",
    "  '''\n",
    "\n",
    "  for i in range(n_convs):\n",
    "      x = tf.keras.layers.Conv2D(filters=filters, kernel_size=kernel_size,\n",
    "                                 activation=activation, padding='same', name=\"{}_conv{}\".format(block_name, i + 1))(x)\n",
    "    \n",
    "  x = tf.keras.layers.MaxPooling2D(pool_size=pool_size, \n",
    "                                   strides=pool_stride, name=\"{}_pool{}\".format(block_name, i+1 ))(x)\n",
    "\n",
    "  return x"
   ]
  },
  {
   "cell_type": "markdown",
   "id": "3e7094aa",
   "metadata": {},
   "source": [
    "## Pretrained VGG weights"
   ]
  },
  {
   "cell_type": "code",
   "execution_count": null,
   "id": "d74c8d11",
   "metadata": {
    "init_cell": true
   },
   "outputs": [],
   "source": [
    "https://github.com/fchollet/deep-learning-models/releases/download/v0.1/vgg16_weights_tf_dim_ordering_tf_kernels_notop.h5\n",
    "# assign to a variable\n",
    "vgg_weights_path = \"vgg16_weights_tf_dim_ordering_tf_kernels_notop.h5\""
   ]
  },
  {
   "cell_type": "markdown",
   "id": "0148cccc",
   "metadata": {},
   "source": [
    "## Define VGG-16"
   ]
  },
  {
   "cell_type": "code",
   "execution_count": null,
   "id": "f155f986",
   "metadata": {
    "init_cell": true
   },
   "outputs": [],
   "source": [
    "def VGG_16(image_input):\n",
    "  '''\n",
    "  This function defines the VGG encoder.\n",
    "\n",
    "  Args:\n",
    "    image_input (tensor) - batch of images\n",
    "\n",
    "  Returns:\n",
    "    tuple of tensors - output of all encoder blocks plus the final convolution layer\n",
    "  '''\n",
    "\n",
    "  # create 5 blocks with increasing filters at each stage. \n",
    "  # you will save the output of each block (i.e. p1, p2, p3, p4, p5). \"p\" stands for the pooling layer.\n",
    "  x = block(image_input,n_convs=2, filters=64, kernel_size=(3,3), \n",
    "            activation='relu',pool_size=(2,2), pool_stride=(2,2), block_name='block1')\n",
    "  p1= x\n",
    "\n",
    "  x = block(x,n_convs=2, filters=128, kernel_size=(3,3),\n",
    "            activation='relu',pool_size=(2,2), pool_stride=(2,2), block_name='block2')\n",
    "  p2 = x\n",
    "\n",
    "  x = block(x,n_convs=3, filters=256, kernel_size=(3,3), \n",
    "            activation='relu',pool_size=(2,2), pool_stride=(2,2), block_name='block3')\n",
    "  p3 = x\n",
    "\n",
    "  x = block(x,n_convs=3, filters=512, kernel_size=(3,3), \n",
    "            activation='relu',pool_size=(2,2), pool_stride=(2,2), block_name='block4')\n",
    "  p4 = x\n",
    "\n",
    "  x = block(x,n_convs=3, filters=512, kernel_size=(3,3), \n",
    "            activation='relu',pool_size=(2,2), pool_stride=(2,2), block_name='block5')\n",
    "  p5 = x\n",
    "\n",
    "  # create the vgg model\n",
    "  vgg  = tf.keras.Model(image_input , p5)\n",
    "\n",
    "  # load the pretrained weights you downloaded earlier\n",
    "  vgg.load_weights(vgg_weights_path) \n",
    "\n",
    "  # number of filters for the output convolutional layers\n",
    "  n = 4096\n",
    "\n",
    "  # our input images are 224x224 pixels so they will be downsampled to 7x7 after the pooling layers above.\n",
    "  # we can extract more features by chaining two more convolution layers.\n",
    "  c6 = tf.keras.layers.Conv2D( n , ( 7 , 7 ) , activation='relu' , padding='same', name=\"conv6\")(p5)\n",
    "  c7 = tf.keras.layers.Conv2D( n , ( 1 , 1 ) , activation='relu' , padding='same', name=\"conv7\")(c6)\n",
    "\n",
    "  # return the outputs at each stage. you will only need two of these in this particular exercise \n",
    "  # but we included it all in case you want to experiment with other types of decoders.\n",
    "  return (p1, p2, p3, p4, c7)"
   ]
  },
  {
   "cell_type": "markdown",
   "id": "fe325d29",
   "metadata": {},
   "source": [
    "## Define FCN 8 Decoder"
   ]
  },
  {
   "cell_type": "code",
   "execution_count": null,
   "id": "c44c35a3",
   "metadata": {
    "init_cell": true
   },
   "outputs": [],
   "source": [
    "def fcn8_decoder(convs, n_classes):\n",
    "  '''\n",
    "  Defines the FCN 8 decoder.\n",
    "\n",
    "  Args:\n",
    "    convs (tuple of tensors) - output of the encoder network\n",
    "    n_classes (int) - number of classes\n",
    "\n",
    "  Returns:\n",
    "    tensor with shape (height, width, n_classes) containing class probabilities\n",
    "  '''\n",
    "\n",
    "  # unpack the output of the encoder\n",
    "  f1, f2, f3, f4, f5 = convs\n",
    "  \n",
    "  # upsample the output of the encoder then crop extra pixels that were introduced\n",
    "  o = tf.keras.layers.Conv2DTranspose(n_classes , kernel_size=(4,4) ,  strides=(2,2) , use_bias=False )(f5)\n",
    "  o = tf.keras.layers.Cropping2D(cropping=(1,1))(o)\n",
    "\n",
    "  # load the pool 4 prediction and do a 1x1 convolution to reshape it to the same shape of `o` above\n",
    "  o2 = f4\n",
    "  o2 = ( tf.keras.layers.Conv2D(n_classes , ( 1 , 1 ) , activation='relu' , padding='same'))(o2)\n",
    "\n",
    "  # add the results of the upsampling and pool 4 prediction\n",
    "  o = tf.keras.layers.Add()([o, o2])\n",
    "\n",
    "  # upsample the resulting tensor of the operation you just did\n",
    "  o = (tf.keras.layers.Conv2DTranspose( n_classes , kernel_size=(4,4) ,  strides=(2,2) , use_bias=False ))(o)\n",
    "  o = tf.keras.layers.Cropping2D(cropping=(1, 1))(o)\n",
    "\n",
    "  # load the pool 3 prediction and do a 1x1 convolution to reshape it to the same shape of `o` above\n",
    "  o2 = f3\n",
    "  o2 = ( tf.keras.layers.Conv2D(n_classes , ( 1 , 1 ) , activation='relu' , padding='same'))(o2)\n",
    "\n",
    "  # add the results of the upsampling and pool 3 prediction\n",
    "  o = tf.keras.layers.Add()([o, o2])\n",
    "  \n",
    "  # upsample up to the size of the original image\n",
    "  o = tf.keras.layers.Conv2DTranspose(n_classes , kernel_size=(8,8) ,  strides=(8,8) , use_bias=False )(o)\n",
    "\n",
    "  # append a softmax to get the class probabilities\n",
    "  o = (tf.keras.layers.Activation('softmax'))(o)\n",
    "\n",
    "  return o"
   ]
  },
  {
   "cell_type": "markdown",
   "id": "8a37a18e",
   "metadata": {},
   "source": [
    "## Define final model"
   ]
  },
  {
   "cell_type": "code",
   "execution_count": null,
   "id": "c943b151",
   "metadata": {
    "init_cell": true
   },
   "outputs": [],
   "source": [
    "def segmentation_model():\n",
    "  '''\n",
    "  Defines the final segmentation model by chaining together the encoder and decoder.\n",
    "\n",
    "  Returns:\n",
    "    keras Model that connects the encoder and decoder networks of the segmentation model\n",
    "  '''\n",
    "  \n",
    "  inputs = tf.keras.layers.Input(shape=(128,256,3))\n",
    "  convs = VGG_16(image_input=inputs)\n",
    "  outputs = fcn8_decoder(convs, 8)\n",
    "  model = tf.keras.Model(inputs=inputs, outputs=outputs)\n",
    "\n",
    "  \n",
    "  return model"
   ]
  },
  {
   "cell_type": "code",
   "execution_count": null,
   "id": "5f944412",
   "metadata": {
    "init_cell": true
   },
   "outputs": [],
   "source": [
    "# instantiate the model and see how it looks\n",
    "model_fcn8 = segmentation_model()\n",
    "model_fcn8.summary()"
   ]
  },
  {
   "cell_type": "markdown",
   "id": "c2d79003",
   "metadata": {},
   "source": [
    "# Buiding U-net model"
   ]
  },
  {
   "cell_type": "markdown",
   "id": "740f07fe",
   "metadata": {},
   "source": [
    "## Encoder"
   ]
  },
  {
   "cell_type": "code",
   "execution_count": 57,
   "id": "74902ed7",
   "metadata": {},
   "outputs": [],
   "source": [
    "def conv2d_block(input_tensor, n_filters, kernel_size = 3):\n",
    "  '''\n",
    "  Adds 2 convolutional layers with the parameters passed to it\n",
    "\n",
    "  Args:\n",
    "    input_tensor (tensor) -- the input tensor\n",
    "    n_filters (int) -- number of filters\n",
    "    kernel_size (int) -- kernel size for the convolution\n",
    "\n",
    "  Returns:\n",
    "    tensor of output features\n",
    "  '''\n",
    "  # first layer\n",
    "  x = input_tensor\n",
    "  for i in range(2):\n",
    "    x = tf.keras.layers.Conv2D(filters = n_filters, kernel_size = (kernel_size, kernel_size),\\\n",
    "            kernel_initializer = 'he_normal', padding = 'same')(x)\n",
    "    x = tf.keras.layers.Activation('relu')(x)\n",
    "  \n",
    "  return x\n",
    "\n",
    "\n",
    "def encoder_block(inputs, n_filters=64, pool_size=(2,2), dropout=0.3):\n",
    "  '''\n",
    "  Adds two convolutional blocks and then perform down sampling on output of convolutions.\n",
    "\n",
    "  Args:\n",
    "    input_tensor (tensor) -- the input tensor\n",
    "    n_filters (int) -- number of filters\n",
    "    kernel_size (int) -- kernel size for the convolution\n",
    "\n",
    "  Returns:\n",
    "    f - the output features of the convolution block \n",
    "    p - the maxpooled features with dropout\n",
    "  '''\n",
    "\n",
    "  f = conv2d_block(inputs, n_filters=n_filters)\n",
    "  p = tf.keras.layers.MaxPooling2D(pool_size=(2,2))(f)\n",
    "  p = tf.keras.layers.Dropout(0.3)(p)\n",
    "\n",
    "  return f, p\n",
    "\n",
    "\n",
    "def encoder(inputs):\n",
    "  '''\n",
    "  This function defines the encoder or downsampling path.\n",
    "\n",
    "  Args:\n",
    "    inputs (tensor) -- batch of input images\n",
    "\n",
    "  Returns:\n",
    "    p4 - the output maxpooled features of the last encoder block\n",
    "    (f1, f2, f3, f4) - the output features of all the encoder blocks\n",
    "  '''\n",
    "  f1, p1 = encoder_block(inputs, n_filters=64, pool_size=(2,2), dropout=0.3)\n",
    "  f2, p2 = encoder_block(p1, n_filters=128, pool_size=(2,2), dropout=0.3)\n",
    "  f3, p3 = encoder_block(p2, n_filters=256, pool_size=(2,2), dropout=0.3)\n",
    "  f4, p4 = encoder_block(p3, n_filters=512, pool_size=(2,2), dropout=0.3)\n",
    "\n",
    "  return p4, (f1, f2, f3, f4)"
   ]
  },
  {
   "cell_type": "markdown",
   "id": "74b173cc",
   "metadata": {},
   "source": [
    "## Bottleneck"
   ]
  },
  {
   "cell_type": "code",
   "execution_count": 62,
   "id": "c96e5161",
   "metadata": {},
   "outputs": [],
   "source": [
    "def bottleneck(inputs):\n",
    "  '''\n",
    "  This function defines the bottleneck convolutions to extract more features before the upsampling layers.\n",
    "  '''\n",
    "  \n",
    "  bottle_neck = conv2d_block(inputs, n_filters=1024)\n",
    "\n",
    "  return bottle_neck"
   ]
  },
  {
   "cell_type": "markdown",
   "id": "9a4547d7",
   "metadata": {},
   "source": [
    "## Decoder"
   ]
  },
  {
   "cell_type": "code",
   "execution_count": 60,
   "id": "e20e15a7",
   "metadata": {},
   "outputs": [],
   "source": [
    "def decoder_block(inputs, conv_output, n_filters=64, kernel_size=3, strides=3, dropout=0.3):\n",
    "  '''\n",
    "  defines the one decoder block of the UNet\n",
    "\n",
    "  Args:\n",
    "    inputs (tensor) -- batch of input features\n",
    "    conv_output (tensor) -- features from an encoder block\n",
    "    n_filters (int) -- number of filters\n",
    "    kernel_size (int) -- kernel size\n",
    "    strides (int) -- strides for the deconvolution/upsampling\n",
    "    padding (string) -- \"same\" or \"valid\", tells if shape will be preserved by zero padding\n",
    "\n",
    "  Returns:\n",
    "    c (tensor) -- output features of the decoder block\n",
    "  '''\n",
    "  u = tf.keras.layers.Conv2DTranspose(n_filters, kernel_size, strides = strides, padding = 'same')(inputs)\n",
    "  c = tf.keras.layers.concatenate([u, conv_output])\n",
    "  c = tf.keras.layers.Dropout(dropout)(c)\n",
    "  c = conv2d_block(c, n_filters, kernel_size=3)\n",
    "\n",
    "  return c\n",
    "\n",
    "\n",
    "def decoder(inputs, convs, output_channels):\n",
    "  '''\n",
    "  Defines the decoder of the UNet chaining together 4 decoder blocks. \n",
    "  \n",
    "  Args:\n",
    "    inputs (tensor) -- batch of input features\n",
    "    convs (tuple) -- features from the encoder blocks\n",
    "    output_channels (int) -- number of classes in the label map\n",
    "\n",
    "  Returns:\n",
    "    outputs (tensor) -- the pixel wise label map of the image\n",
    "  '''\n",
    "  \n",
    "  f1, f2, f3, f4 = convs\n",
    "\n",
    "  c6 = decoder_block(inputs, f4, n_filters=512, kernel_size=(3,3), strides=(2,2), dropout=0.3)\n",
    "  c7 = decoder_block(c6, f3, n_filters=256, kernel_size=(3,3), strides=(2,2), dropout=0.3)\n",
    "  c8 = decoder_block(c7, f2, n_filters=128, kernel_size=(3,3), strides=(2,2), dropout=0.3)\n",
    "  c9 = decoder_block(c8, f1, n_filters=64, kernel_size=(3,3), strides=(2,2), dropout=0.3)\n",
    "\n",
    "  outputs = tf.keras.layers.Conv2D(output_channels, (1, 1), activation='softmax')(c9)\n",
    "\n",
    "  return outputs"
   ]
  },
  {
   "cell_type": "markdown",
   "id": "c36bb3b9",
   "metadata": {},
   "source": [
    "## Final U-net model"
   ]
  },
  {
   "cell_type": "code",
   "execution_count": 63,
   "id": "b874995a",
   "metadata": {},
   "outputs": [
    {
     "name": "stdout",
     "output_type": "stream",
     "text": [
      "Model: \"functional_9\"\n",
      "__________________________________________________________________________________________________\n",
      "Layer (type)                    Output Shape         Param #     Connected to                     \n",
      "==================================================================================================\n",
      "input_4 (InputLayer)            [(None, 128, 256, 3) 0                                            \n",
      "__________________________________________________________________________________________________\n",
      "conv2d_12 (Conv2D)              (None, 128, 256, 64) 1792        input_4[0][0]                    \n",
      "__________________________________________________________________________________________________\n",
      "activation_10 (Activation)      (None, 128, 256, 64) 0           conv2d_12[0][0]                  \n",
      "__________________________________________________________________________________________________\n",
      "conv2d_13 (Conv2D)              (None, 128, 256, 64) 36928       activation_10[0][0]              \n",
      "__________________________________________________________________________________________________\n",
      "activation_11 (Activation)      (None, 128, 256, 64) 0           conv2d_13[0][0]                  \n",
      "__________________________________________________________________________________________________\n",
      "max_pooling2d_4 (MaxPooling2D)  (None, 64, 128, 64)  0           activation_11[0][0]              \n",
      "__________________________________________________________________________________________________\n",
      "dropout_4 (Dropout)             (None, 64, 128, 64)  0           max_pooling2d_4[0][0]            \n",
      "__________________________________________________________________________________________________\n",
      "conv2d_14 (Conv2D)              (None, 64, 128, 128) 73856       dropout_4[0][0]                  \n",
      "__________________________________________________________________________________________________\n",
      "activation_12 (Activation)      (None, 64, 128, 128) 0           conv2d_14[0][0]                  \n",
      "__________________________________________________________________________________________________\n",
      "conv2d_15 (Conv2D)              (None, 64, 128, 128) 147584      activation_12[0][0]              \n",
      "__________________________________________________________________________________________________\n",
      "activation_13 (Activation)      (None, 64, 128, 128) 0           conv2d_15[0][0]                  \n",
      "__________________________________________________________________________________________________\n",
      "max_pooling2d_5 (MaxPooling2D)  (None, 32, 64, 128)  0           activation_13[0][0]              \n",
      "__________________________________________________________________________________________________\n",
      "dropout_5 (Dropout)             (None, 32, 64, 128)  0           max_pooling2d_5[0][0]            \n",
      "__________________________________________________________________________________________________\n",
      "conv2d_16 (Conv2D)              (None, 32, 64, 256)  295168      dropout_5[0][0]                  \n",
      "__________________________________________________________________________________________________\n",
      "activation_14 (Activation)      (None, 32, 64, 256)  0           conv2d_16[0][0]                  \n",
      "__________________________________________________________________________________________________\n",
      "conv2d_17 (Conv2D)              (None, 32, 64, 256)  590080      activation_14[0][0]              \n",
      "__________________________________________________________________________________________________\n",
      "activation_15 (Activation)      (None, 32, 64, 256)  0           conv2d_17[0][0]                  \n",
      "__________________________________________________________________________________________________\n",
      "max_pooling2d_6 (MaxPooling2D)  (None, 16, 32, 256)  0           activation_15[0][0]              \n",
      "__________________________________________________________________________________________________\n",
      "dropout_6 (Dropout)             (None, 16, 32, 256)  0           max_pooling2d_6[0][0]            \n",
      "__________________________________________________________________________________________________\n",
      "conv2d_18 (Conv2D)              (None, 16, 32, 512)  1180160     dropout_6[0][0]                  \n",
      "__________________________________________________________________________________________________\n",
      "activation_16 (Activation)      (None, 16, 32, 512)  0           conv2d_18[0][0]                  \n",
      "__________________________________________________________________________________________________\n",
      "conv2d_19 (Conv2D)              (None, 16, 32, 512)  2359808     activation_16[0][0]              \n",
      "__________________________________________________________________________________________________\n",
      "activation_17 (Activation)      (None, 16, 32, 512)  0           conv2d_19[0][0]                  \n",
      "__________________________________________________________________________________________________\n",
      "max_pooling2d_7 (MaxPooling2D)  (None, 8, 16, 512)   0           activation_17[0][0]              \n",
      "__________________________________________________________________________________________________\n",
      "dropout_7 (Dropout)             (None, 8, 16, 512)   0           max_pooling2d_7[0][0]            \n",
      "__________________________________________________________________________________________________\n",
      "conv2d_20 (Conv2D)              (None, 8, 16, 1024)  4719616     dropout_7[0][0]                  \n",
      "__________________________________________________________________________________________________\n",
      "activation_18 (Activation)      (None, 8, 16, 1024)  0           conv2d_20[0][0]                  \n",
      "__________________________________________________________________________________________________\n",
      "conv2d_21 (Conv2D)              (None, 8, 16, 1024)  9438208     activation_18[0][0]              \n",
      "__________________________________________________________________________________________________\n",
      "activation_19 (Activation)      (None, 8, 16, 1024)  0           conv2d_21[0][0]                  \n",
      "__________________________________________________________________________________________________\n",
      "conv2d_transpose_6 (Conv2DTrans (None, 16, 32, 512)  4719104     activation_19[0][0]              \n",
      "__________________________________________________________________________________________________\n",
      "concatenate (Concatenate)       (None, 16, 32, 1024) 0           conv2d_transpose_6[0][0]         \n",
      "                                                                 activation_17[0][0]              \n",
      "__________________________________________________________________________________________________\n",
      "dropout_8 (Dropout)             (None, 16, 32, 1024) 0           concatenate[0][0]                \n",
      "__________________________________________________________________________________________________\n",
      "conv2d_22 (Conv2D)              (None, 16, 32, 512)  4719104     dropout_8[0][0]                  \n",
      "__________________________________________________________________________________________________\n",
      "activation_20 (Activation)      (None, 16, 32, 512)  0           conv2d_22[0][0]                  \n",
      "__________________________________________________________________________________________________\n",
      "conv2d_23 (Conv2D)              (None, 16, 32, 512)  2359808     activation_20[0][0]              \n",
      "__________________________________________________________________________________________________\n",
      "activation_21 (Activation)      (None, 16, 32, 512)  0           conv2d_23[0][0]                  \n",
      "__________________________________________________________________________________________________\n",
      "conv2d_transpose_7 (Conv2DTrans (None, 32, 64, 256)  1179904     activation_21[0][0]              \n",
      "__________________________________________________________________________________________________\n",
      "concatenate_1 (Concatenate)     (None, 32, 64, 512)  0           conv2d_transpose_7[0][0]         \n",
      "                                                                 activation_15[0][0]              \n",
      "__________________________________________________________________________________________________\n",
      "dropout_9 (Dropout)             (None, 32, 64, 512)  0           concatenate_1[0][0]              \n",
      "__________________________________________________________________________________________________\n",
      "conv2d_24 (Conv2D)              (None, 32, 64, 256)  1179904     dropout_9[0][0]                  \n",
      "__________________________________________________________________________________________________\n",
      "activation_22 (Activation)      (None, 32, 64, 256)  0           conv2d_24[0][0]                  \n",
      "__________________________________________________________________________________________________\n",
      "conv2d_25 (Conv2D)              (None, 32, 64, 256)  590080      activation_22[0][0]              \n",
      "__________________________________________________________________________________________________\n",
      "activation_23 (Activation)      (None, 32, 64, 256)  0           conv2d_25[0][0]                  \n",
      "__________________________________________________________________________________________________\n",
      "conv2d_transpose_8 (Conv2DTrans (None, 64, 128, 128) 295040      activation_23[0][0]              \n",
      "__________________________________________________________________________________________________\n",
      "concatenate_2 (Concatenate)     (None, 64, 128, 256) 0           conv2d_transpose_8[0][0]         \n",
      "                                                                 activation_13[0][0]              \n",
      "__________________________________________________________________________________________________\n",
      "dropout_10 (Dropout)            (None, 64, 128, 256) 0           concatenate_2[0][0]              \n",
      "__________________________________________________________________________________________________\n",
      "conv2d_26 (Conv2D)              (None, 64, 128, 128) 295040      dropout_10[0][0]                 \n",
      "__________________________________________________________________________________________________\n",
      "activation_24 (Activation)      (None, 64, 128, 128) 0           conv2d_26[0][0]                  \n",
      "__________________________________________________________________________________________________\n",
      "conv2d_27 (Conv2D)              (None, 64, 128, 128) 147584      activation_24[0][0]              \n",
      "__________________________________________________________________________________________________\n",
      "activation_25 (Activation)      (None, 64, 128, 128) 0           conv2d_27[0][0]                  \n",
      "__________________________________________________________________________________________________\n",
      "conv2d_transpose_9 (Conv2DTrans (None, 128, 256, 64) 73792       activation_25[0][0]              \n",
      "__________________________________________________________________________________________________\n",
      "concatenate_3 (Concatenate)     (None, 128, 256, 128 0           conv2d_transpose_9[0][0]         \n",
      "                                                                 activation_11[0][0]              \n",
      "__________________________________________________________________________________________________\n",
      "dropout_11 (Dropout)            (None, 128, 256, 128 0           concatenate_3[0][0]              \n",
      "__________________________________________________________________________________________________\n",
      "conv2d_28 (Conv2D)              (None, 128, 256, 64) 73792       dropout_11[0][0]                 \n",
      "__________________________________________________________________________________________________\n",
      "activation_26 (Activation)      (None, 128, 256, 64) 0           conv2d_28[0][0]                  \n",
      "__________________________________________________________________________________________________\n",
      "conv2d_29 (Conv2D)              (None, 128, 256, 64) 36928       activation_26[0][0]              \n",
      "__________________________________________________________________________________________________\n",
      "activation_27 (Activation)      (None, 128, 256, 64) 0           conv2d_29[0][0]                  \n",
      "__________________________________________________________________________________________________\n",
      "conv2d_30 (Conv2D)              (None, 128, 256, 8)  520         activation_27[0][0]              \n",
      "==================================================================================================\n",
      "Total params: 34,513,800\n",
      "Trainable params: 34,513,800\n",
      "Non-trainable params: 0\n",
      "__________________________________________________________________________________________________\n"
     ]
    }
   ],
   "source": [
    "OUTPUT_CHANNELS = 8\n",
    "\n",
    "def unet():\n",
    "  '''\n",
    "  Defines the UNet by connecting the encoder, bottleneck and decoder.\n",
    "  '''\n",
    "\n",
    "  # specify the input shape\n",
    "  inputs = tf.keras.layers.Input(shape=(128, 256,3,))\n",
    "\n",
    "  # feed the inputs to the encoder\n",
    "  encoder_output, convs = encoder(inputs)\n",
    "\n",
    "  # feed the encoder output to the bottleneck\n",
    "  bottle_neck = bottleneck(encoder_output)\n",
    "\n",
    "  # feed the bottleneck and encoder block outputs to the decoder\n",
    "  # specify the number of classes via the `output_channels` argument\n",
    "  outputs = decoder(bottle_neck, convs, output_channels=OUTPUT_CHANNELS)\n",
    "  \n",
    "  # create the model\n",
    "  model = tf.keras.Model(inputs=inputs, outputs=outputs)\n",
    "\n",
    "  return model\n",
    "\n",
    "# instantiate the model\n",
    "model_unet = unet()\n",
    "\n",
    "# see the resulting model architecture\n",
    "model_unet.summary()\n"
   ]
  },
  {
   "cell_type": "markdown",
   "id": "23901eb1",
   "metadata": {},
   "source": [
    "# Metrics and Loss functions"
   ]
  },
  {
   "cell_type": "code",
   "execution_count": null,
   "id": "7600ff5d",
   "metadata": {
    "init_cell": true
   },
   "outputs": [],
   "source": [
    "from tensorflow.python.keras import backend as K\n",
    "from tensorflow.python.keras.losses import CategoricalCrossentropy"
   ]
  },
  {
   "cell_type": "markdown",
   "id": "a354b27c",
   "metadata": {},
   "source": [
    "Here, we want to compare predition and ground truth as far as class prediction is concerned"
   ]
  },
  {
   "cell_type": "markdown",
   "id": "c10d95ad",
   "metadata": {},
   "source": [
    "## IoU"
   ]
  },
  {
   "cell_type": "code",
   "execution_count": null,
   "id": "abe42de4",
   "metadata": {
    "init_cell": true
   },
   "outputs": [],
   "source": [
    "def class_wise_IoU(y_true,y_pred):\n",
    "    \n",
    "    nb_class = y_true.shape[3]\n",
    "    \n",
    "    # for each pixel, get the slice number which has the highest probability\n",
    "    y_true = K.argmax(y_true, axis=3)\n",
    "    y_pred = K.argmax(y_pred,axis=3)\n",
    "    \n",
    "    class_wise_iou = []\n",
    "  \n",
    "    smoothening_factor = 0.00001 # to avoid eventual division by 0\n",
    "    \n",
    "    for i in range(nb_class):\n",
    "        pred = tf.cast((y_pred == i),tf.float32)\n",
    "        truth = tf.cast((y_true == i),tf.float32)\n",
    "        intersection = K.sum(pred * truth)\n",
    "        y_true_area = K.sum(truth)\n",
    "        y_pred_area = K.sum(pred)\n",
    "        combined_area = y_true_area + y_pred_area\n",
    "    \n",
    "        iou = (intersection + smoothening_factor) / (combined_area - intersection + smoothening_factor)\n",
    "        class_wise_iou.append(iou)  \n",
    "    \n",
    "    return tf.convert_to_tensor(class_wise_iou)"
   ]
  },
  {
   "cell_type": "code",
   "execution_count": null,
   "id": "77d50b85",
   "metadata": {
    "init_cell": true
   },
   "outputs": [],
   "source": [
    "def mean_IoU(y_true,y_pred):   \n",
    "    y_true = tf.cast(y_true, tf.float32)   \n",
    "    smooth = 1.\n",
    "    y_true_f = K.flatten(y_true)\n",
    "    y_pred_f = K.flatten(y_pred)\n",
    "    intersection = K.sum(y_true_f * y_pred_f)\n",
    "    score = (intersection + smooth) / (K.sum(y_true_f) + K.sum(y_pred_f) - intersection + smooth)\n",
    "    return score"
   ]
  },
  {
   "cell_type": "markdown",
   "id": "93046755",
   "metadata": {},
   "source": [
    "## Dice coef"
   ]
  },
  {
   "cell_type": "code",
   "execution_count": null,
   "id": "f54cde74",
   "metadata": {
    "init_cell": true
   },
   "outputs": [],
   "source": [
    "def class_wise_dice(y_true,y_pred):\n",
    "    \n",
    "    nb_class = y_true.shape[3]\n",
    "    \n",
    "    # for each pixel, get the slice number which has the highest probability\n",
    "    y_true = K.argmax(y_true, axis=3)\n",
    "    y_pred = K.argmax(y_pred,axis=3)\n",
    "    \n",
    "    class_wise_dice = []\n",
    "  \n",
    "    smoothening_factor = 0.00001 # to avoid eventual division by 0\n",
    "    \n",
    "    for i in range(nb_class):\n",
    "        \n",
    "        pred = tf.cast((y_pred == i),tf.float32)\n",
    "        truth = tf.cast((y_true == i),tf.float32)\n",
    "        intersection = K.sum(pred * truth)\n",
    "        y_true_area = K.sum(truth)\n",
    "        y_pred_area = K.sum(pred)\n",
    "        combined_area = y_true_area + y_pred_area\n",
    "    \n",
    "        dice = 2 * ((intersection + smoothening_factor) / (combined_area + smoothening_factor))\n",
    "        class_wise_dice.append(dice)  \n",
    "    \n",
    "    return tf.convert_to_tensor(class_wise_dice)    "
   ]
  },
  {
   "cell_type": "code",
   "execution_count": null,
   "id": "ca53364b",
   "metadata": {
    "init_cell": true
   },
   "outputs": [],
   "source": [
    "def mean_dice(y_true,y_pred):\n",
    "    y_true = tf.cast(y_true, tf.float32)\n",
    "    smooth = 1.\n",
    "    y_true_f = K.flatten(y_true)\n",
    "    y_pred_f = K.flatten(y_pred)\n",
    "    intersection = K.sum(y_true_f * y_pred_f)\n",
    "    score = (2. * intersection + smooth) / (K.sum(y_true_f) + K.sum(y_pred_f) + smooth)\n",
    "    return score"
   ]
  },
  {
   "cell_type": "markdown",
   "id": "3a2cd945",
   "metadata": {},
   "source": [
    "## Dice loss"
   ]
  },
  {
   "cell_type": "code",
   "execution_count": null,
   "id": "af0f1683",
   "metadata": {
    "init_cell": true
   },
   "outputs": [],
   "source": [
    "#Loss must be decreasing fonction\n",
    "def dice_loss(y_true, y_pred):\n",
    "\n",
    "    return (1 - mean_dice(y_true,y_pred))"
   ]
  },
  {
   "cell_type": "markdown",
   "id": "ec967f9a",
   "metadata": {},
   "source": [
    "## Total Loss : combination of cross entropy and dice"
   ]
  },
  {
   "cell_type": "code",
   "execution_count": null,
   "id": "626c9198",
   "metadata": {
    "init_cell": true
   },
   "outputs": [],
   "source": [
    "cce = tf.keras.losses.CategoricalCrossentropy()\n",
    "\n",
    "def total_loss(y_true, y_pred):\n",
    "    y_true = tf.cast(y_true, tf.float32)\n",
    "    loss = cce(y_true, y_pred).numpy() + (3*dice_loss(y_true, y_pred))\n",
    "    return loss"
   ]
  },
  {
   "cell_type": "markdown",
   "id": "b9f7126a",
   "metadata": {},
   "source": [
    "# Callbacks"
   ]
  },
  {
   "cell_type": "markdown",
   "id": "a8aabdce",
   "metadata": {},
   "source": [
    "## Early stopping"
   ]
  },
  {
   "cell_type": "code",
   "execution_count": 93,
   "id": "a32deb44",
   "metadata": {},
   "outputs": [],
   "source": [
    "es = tf.keras.callbacks.EarlyStopping(mode='min', monitor='val_loss', patience=6, verbose=1)"
   ]
  },
  {
   "cell_type": "markdown",
   "id": "b5457906",
   "metadata": {},
   "source": [
    "# Toy training"
   ]
  },
  {
   "cell_type": "markdown",
   "id": "0bee6106",
   "metadata": {},
   "source": [
    "## With categorical crossentropy"
   ]
  },
  {
   "cell_type": "code",
   "execution_count": 66,
   "id": "0fc5d883",
   "metadata": {},
   "outputs": [],
   "source": [
    "sgd = tf.keras.optimizers.SGD(lr=1E-2, momentum=0.9, nesterov=True)\n"
   ]
  },
  {
   "cell_type": "code",
   "execution_count": 118,
   "id": "7b777037",
   "metadata": {},
   "outputs": [],
   "source": [
    "model_unet.compile(loss='categorical_crossentropy',\n",
    "              #optimizer=sgd,\n",
    "              metrics=['accuracy','categorical_crossentropy',mean_dice,mean_IoU],\n",
    "              run_eagerly=True\n",
    "              )"
   ]
  },
  {
   "cell_type": "code",
   "execution_count": 119,
   "id": "c030df50",
   "metadata": {},
   "outputs": [
    {
     "name": "stdout",
     "output_type": "stream",
     "text": [
      "Epoch 1/100\n",
      "30/30 [==============================] - 562s 19s/step - loss: 2.8678 - accuracy: 0.3570 - categorical_crossentropy: 2.8678 - mean_dice: 0.2489 - mean_IoU: 0.1439\n",
      "Epoch 2/100\n",
      "30/30 [==============================] - 576s 19s/step - loss: 1.7936 - accuracy: 0.4304 - categorical_crossentropy: 1.7936 - mean_dice: 0.2745 - mean_IoU: 0.1596\n",
      "Epoch 3/100\n",
      "30/30 [==============================] - 585s 20s/step - loss: 1.8247 - accuracy: 0.4563 - categorical_crossentropy: 1.8247 - mean_dice: 0.3113 - mean_IoU: 0.1857\n",
      "Epoch 4/100\n",
      "30/30 [==============================] - 619s 21s/step - loss: 1.4564 - accuracy: 0.4867 - categorical_crossentropy: 1.4564 - mean_dice: 0.3475 - mean_IoU: 0.2115\n",
      "Epoch 5/100\n",
      "30/30 [==============================] - 599s 20s/step - loss: 1.9801 - accuracy: 0.5056 - categorical_crossentropy: 1.9801 - mean_dice: 0.3704 - mean_IoU: 0.2304\n",
      "Epoch 6/100\n",
      "30/30 [==============================] - 596s 20s/step - loss: 1.2251 - accuracy: 0.5554 - categorical_crossentropy: 1.2251 - mean_dice: 0.4226 - mean_IoU: 0.2698\n",
      "Epoch 7/100\n",
      "30/30 [==============================] - 621s 21s/step - loss: 1.5746 - accuracy: 0.5776 - categorical_crossentropy: 1.5746 - mean_dice: 0.4434 - mean_IoU: 0.2872\n",
      "Epoch 8/100\n",
      "30/30 [==============================] - 635s 21s/step - loss: 1.0909 - accuracy: 0.6049 - categorical_crossentropy: 1.0909 - mean_dice: 0.4776 - mean_IoU: 0.3162\n",
      "Epoch 9/100\n",
      "30/30 [==============================] - 644s 21s/step - loss: 1.3062 - accuracy: 0.6149 - categorical_crossentropy: 1.3062 - mean_dice: 0.4881 - mean_IoU: 0.3271\n",
      "Epoch 10/100\n",
      "24/30 [=======================>......] - ETA: 2:01 - loss: 1.0904 - accuracy: 0.6156 - categorical_crossentropy: 1.0904 - mean_dice: 0.5077 - mean_IoU: 0.3423"
     ]
    },
    {
     "ename": "KeyboardInterrupt",
     "evalue": "",
     "output_type": "error",
     "traceback": [
      "\u001b[1;31m---------------------------------------------------------------------------\u001b[0m",
      "\u001b[1;31mKeyboardInterrupt\u001b[0m                         Traceback (most recent call last)",
      "\u001b[1;32m<ipython-input-119-2c52b9a907b1>\u001b[0m in \u001b[0;36m<module>\u001b[1;34m\u001b[0m\n\u001b[1;32m----> 1\u001b[1;33m \u001b[0mmodel_unet\u001b[0m\u001b[1;33m.\u001b[0m\u001b[0mfit\u001b[0m\u001b[1;33m(\u001b[0m\u001b[0mtrain_gen\u001b[0m\u001b[1;33m,\u001b[0m\u001b[0mepochs\u001b[0m\u001b[1;33m=\u001b[0m\u001b[1;36m100\u001b[0m\u001b[1;33m)\u001b[0m\u001b[1;33m\u001b[0m\u001b[1;33m\u001b[0m\u001b[0m\n\u001b[0m",
      "\u001b[1;32m~\\Code\\Anaconda\\lib\\site-packages\\tensorflow\\python\\keras\\engine\\training.py\u001b[0m in \u001b[0;36m_method_wrapper\u001b[1;34m(self, *args, **kwargs)\u001b[0m\n\u001b[0;32m    106\u001b[0m   \u001b[1;32mdef\u001b[0m \u001b[0m_method_wrapper\u001b[0m\u001b[1;33m(\u001b[0m\u001b[0mself\u001b[0m\u001b[1;33m,\u001b[0m \u001b[1;33m*\u001b[0m\u001b[0margs\u001b[0m\u001b[1;33m,\u001b[0m \u001b[1;33m**\u001b[0m\u001b[0mkwargs\u001b[0m\u001b[1;33m)\u001b[0m\u001b[1;33m:\u001b[0m\u001b[1;33m\u001b[0m\u001b[1;33m\u001b[0m\u001b[0m\n\u001b[0;32m    107\u001b[0m     \u001b[1;32mif\u001b[0m \u001b[1;32mnot\u001b[0m \u001b[0mself\u001b[0m\u001b[1;33m.\u001b[0m\u001b[0m_in_multi_worker_mode\u001b[0m\u001b[1;33m(\u001b[0m\u001b[1;33m)\u001b[0m\u001b[1;33m:\u001b[0m  \u001b[1;31m# pylint: disable=protected-access\u001b[0m\u001b[1;33m\u001b[0m\u001b[1;33m\u001b[0m\u001b[0m\n\u001b[1;32m--> 108\u001b[1;33m       \u001b[1;32mreturn\u001b[0m \u001b[0mmethod\u001b[0m\u001b[1;33m(\u001b[0m\u001b[0mself\u001b[0m\u001b[1;33m,\u001b[0m \u001b[1;33m*\u001b[0m\u001b[0margs\u001b[0m\u001b[1;33m,\u001b[0m \u001b[1;33m**\u001b[0m\u001b[0mkwargs\u001b[0m\u001b[1;33m)\u001b[0m\u001b[1;33m\u001b[0m\u001b[1;33m\u001b[0m\u001b[0m\n\u001b[0m\u001b[0;32m    109\u001b[0m \u001b[1;33m\u001b[0m\u001b[0m\n\u001b[0;32m    110\u001b[0m     \u001b[1;31m# Running inside `run_distribute_coordinator` already.\u001b[0m\u001b[1;33m\u001b[0m\u001b[1;33m\u001b[0m\u001b[1;33m\u001b[0m\u001b[0m\n",
      "\u001b[1;32m~\\Code\\Anaconda\\lib\\site-packages\\tensorflow\\python\\keras\\engine\\training.py\u001b[0m in \u001b[0;36mfit\u001b[1;34m(self, x, y, batch_size, epochs, verbose, callbacks, validation_split, validation_data, shuffle, class_weight, sample_weight, initial_epoch, steps_per_epoch, validation_steps, validation_batch_size, validation_freq, max_queue_size, workers, use_multiprocessing)\u001b[0m\n\u001b[0;32m   1096\u001b[0m                 batch_size=batch_size):\n\u001b[0;32m   1097\u001b[0m               \u001b[0mcallbacks\u001b[0m\u001b[1;33m.\u001b[0m\u001b[0mon_train_batch_begin\u001b[0m\u001b[1;33m(\u001b[0m\u001b[0mstep\u001b[0m\u001b[1;33m)\u001b[0m\u001b[1;33m\u001b[0m\u001b[1;33m\u001b[0m\u001b[0m\n\u001b[1;32m-> 1098\u001b[1;33m               \u001b[0mtmp_logs\u001b[0m \u001b[1;33m=\u001b[0m \u001b[0mtrain_function\u001b[0m\u001b[1;33m(\u001b[0m\u001b[0miterator\u001b[0m\u001b[1;33m)\u001b[0m\u001b[1;33m\u001b[0m\u001b[1;33m\u001b[0m\u001b[0m\n\u001b[0m\u001b[0;32m   1099\u001b[0m               \u001b[1;32mif\u001b[0m \u001b[0mdata_handler\u001b[0m\u001b[1;33m.\u001b[0m\u001b[0mshould_sync\u001b[0m\u001b[1;33m:\u001b[0m\u001b[1;33m\u001b[0m\u001b[1;33m\u001b[0m\u001b[0m\n\u001b[0;32m   1100\u001b[0m                 \u001b[0mcontext\u001b[0m\u001b[1;33m.\u001b[0m\u001b[0masync_wait\u001b[0m\u001b[1;33m(\u001b[0m\u001b[1;33m)\u001b[0m\u001b[1;33m\u001b[0m\u001b[1;33m\u001b[0m\u001b[0m\n",
      "\u001b[1;32m~\\Code\\Anaconda\\lib\\site-packages\\tensorflow\\python\\keras\\engine\\training.py\u001b[0m in \u001b[0;36mtrain_function\u001b[1;34m(iterator)\u001b[0m\n\u001b[0;32m    804\u001b[0m       \u001b[1;32mdef\u001b[0m \u001b[0mtrain_function\u001b[0m\u001b[1;33m(\u001b[0m\u001b[0miterator\u001b[0m\u001b[1;33m)\u001b[0m\u001b[1;33m:\u001b[0m\u001b[1;33m\u001b[0m\u001b[1;33m\u001b[0m\u001b[0m\n\u001b[0;32m    805\u001b[0m         \u001b[1;34m\"\"\"Runs a training execution with one step.\"\"\"\u001b[0m\u001b[1;33m\u001b[0m\u001b[1;33m\u001b[0m\u001b[0m\n\u001b[1;32m--> 806\u001b[1;33m         \u001b[1;32mreturn\u001b[0m \u001b[0mstep_function\u001b[0m\u001b[1;33m(\u001b[0m\u001b[0mself\u001b[0m\u001b[1;33m,\u001b[0m \u001b[0miterator\u001b[0m\u001b[1;33m)\u001b[0m\u001b[1;33m\u001b[0m\u001b[1;33m\u001b[0m\u001b[0m\n\u001b[0m\u001b[0;32m    807\u001b[0m \u001b[1;33m\u001b[0m\u001b[0m\n\u001b[0;32m    808\u001b[0m     \u001b[1;32melse\u001b[0m\u001b[1;33m:\u001b[0m\u001b[1;33m\u001b[0m\u001b[1;33m\u001b[0m\u001b[0m\n",
      "\u001b[1;32m~\\Code\\Anaconda\\lib\\site-packages\\tensorflow\\python\\keras\\engine\\training.py\u001b[0m in \u001b[0;36mstep_function\u001b[1;34m(model, iterator)\u001b[0m\n\u001b[0;32m    794\u001b[0m \u001b[1;33m\u001b[0m\u001b[0m\n\u001b[0;32m    795\u001b[0m       \u001b[0mdata\u001b[0m \u001b[1;33m=\u001b[0m \u001b[0mnext\u001b[0m\u001b[1;33m(\u001b[0m\u001b[0miterator\u001b[0m\u001b[1;33m)\u001b[0m\u001b[1;33m\u001b[0m\u001b[1;33m\u001b[0m\u001b[0m\n\u001b[1;32m--> 796\u001b[1;33m       \u001b[0moutputs\u001b[0m \u001b[1;33m=\u001b[0m \u001b[0mmodel\u001b[0m\u001b[1;33m.\u001b[0m\u001b[0mdistribute_strategy\u001b[0m\u001b[1;33m.\u001b[0m\u001b[0mrun\u001b[0m\u001b[1;33m(\u001b[0m\u001b[0mrun_step\u001b[0m\u001b[1;33m,\u001b[0m \u001b[0margs\u001b[0m\u001b[1;33m=\u001b[0m\u001b[1;33m(\u001b[0m\u001b[0mdata\u001b[0m\u001b[1;33m,\u001b[0m\u001b[1;33m)\u001b[0m\u001b[1;33m)\u001b[0m\u001b[1;33m\u001b[0m\u001b[1;33m\u001b[0m\u001b[0m\n\u001b[0m\u001b[0;32m    797\u001b[0m       outputs = reduce_per_replica(\n\u001b[0;32m    798\u001b[0m           outputs, self.distribute_strategy, reduction='first')\n",
      "\u001b[1;32m~\\Code\\Anaconda\\lib\\site-packages\\tensorflow\\python\\distribute\\distribute_lib.py\u001b[0m in \u001b[0;36mrun\u001b[1;34m(***failed resolving arguments***)\u001b[0m\n\u001b[0;32m   1209\u001b[0m       fn = autograph.tf_convert(\n\u001b[0;32m   1210\u001b[0m           fn, autograph_ctx.control_status_ctx(), convert_by_default=False)\n\u001b[1;32m-> 1211\u001b[1;33m       \u001b[1;32mreturn\u001b[0m \u001b[0mself\u001b[0m\u001b[1;33m.\u001b[0m\u001b[0m_extended\u001b[0m\u001b[1;33m.\u001b[0m\u001b[0mcall_for_each_replica\u001b[0m\u001b[1;33m(\u001b[0m\u001b[0mfn\u001b[0m\u001b[1;33m,\u001b[0m \u001b[0margs\u001b[0m\u001b[1;33m=\u001b[0m\u001b[0margs\u001b[0m\u001b[1;33m,\u001b[0m \u001b[0mkwargs\u001b[0m\u001b[1;33m=\u001b[0m\u001b[0mkwargs\u001b[0m\u001b[1;33m)\u001b[0m\u001b[1;33m\u001b[0m\u001b[1;33m\u001b[0m\u001b[0m\n\u001b[0m\u001b[0;32m   1212\u001b[0m \u001b[1;33m\u001b[0m\u001b[0m\n\u001b[0;32m   1213\u001b[0m   \u001b[1;31m# TODO(b/151224785): Remove deprecated alias.\u001b[0m\u001b[1;33m\u001b[0m\u001b[1;33m\u001b[0m\u001b[1;33m\u001b[0m\u001b[0m\n",
      "\u001b[1;32m~\\Code\\Anaconda\\lib\\site-packages\\tensorflow\\python\\distribute\\distribute_lib.py\u001b[0m in \u001b[0;36mcall_for_each_replica\u001b[1;34m(self, fn, args, kwargs)\u001b[0m\n\u001b[0;32m   2583\u001b[0m       \u001b[0mkwargs\u001b[0m \u001b[1;33m=\u001b[0m \u001b[1;33m{\u001b[0m\u001b[1;33m}\u001b[0m\u001b[1;33m\u001b[0m\u001b[1;33m\u001b[0m\u001b[0m\n\u001b[0;32m   2584\u001b[0m     \u001b[1;32mwith\u001b[0m \u001b[0mself\u001b[0m\u001b[1;33m.\u001b[0m\u001b[0m_container_strategy\u001b[0m\u001b[1;33m(\u001b[0m\u001b[1;33m)\u001b[0m\u001b[1;33m.\u001b[0m\u001b[0mscope\u001b[0m\u001b[1;33m(\u001b[0m\u001b[1;33m)\u001b[0m\u001b[1;33m:\u001b[0m\u001b[1;33m\u001b[0m\u001b[1;33m\u001b[0m\u001b[0m\n\u001b[1;32m-> 2585\u001b[1;33m       \u001b[1;32mreturn\u001b[0m \u001b[0mself\u001b[0m\u001b[1;33m.\u001b[0m\u001b[0m_call_for_each_replica\u001b[0m\u001b[1;33m(\u001b[0m\u001b[0mfn\u001b[0m\u001b[1;33m,\u001b[0m \u001b[0margs\u001b[0m\u001b[1;33m,\u001b[0m \u001b[0mkwargs\u001b[0m\u001b[1;33m)\u001b[0m\u001b[1;33m\u001b[0m\u001b[1;33m\u001b[0m\u001b[0m\n\u001b[0m\u001b[0;32m   2586\u001b[0m \u001b[1;33m\u001b[0m\u001b[0m\n\u001b[0;32m   2587\u001b[0m   \u001b[1;32mdef\u001b[0m \u001b[0m_call_for_each_replica\u001b[0m\u001b[1;33m(\u001b[0m\u001b[0mself\u001b[0m\u001b[1;33m,\u001b[0m \u001b[0mfn\u001b[0m\u001b[1;33m,\u001b[0m \u001b[0margs\u001b[0m\u001b[1;33m,\u001b[0m \u001b[0mkwargs\u001b[0m\u001b[1;33m)\u001b[0m\u001b[1;33m:\u001b[0m\u001b[1;33m\u001b[0m\u001b[1;33m\u001b[0m\u001b[0m\n",
      "\u001b[1;32m~\\Code\\Anaconda\\lib\\site-packages\\tensorflow\\python\\distribute\\distribute_lib.py\u001b[0m in \u001b[0;36m_call_for_each_replica\u001b[1;34m(self, fn, args, kwargs)\u001b[0m\n\u001b[0;32m   2943\u001b[0m         \u001b[0mself\u001b[0m\u001b[1;33m.\u001b[0m\u001b[0m_container_strategy\u001b[0m\u001b[1;33m(\u001b[0m\u001b[1;33m)\u001b[0m\u001b[1;33m,\u001b[0m\u001b[1;33m\u001b[0m\u001b[1;33m\u001b[0m\u001b[0m\n\u001b[0;32m   2944\u001b[0m         replica_id_in_sync_group=constant_op.constant(0, dtypes.int32)):\n\u001b[1;32m-> 2945\u001b[1;33m       \u001b[1;32mreturn\u001b[0m \u001b[0mfn\u001b[0m\u001b[1;33m(\u001b[0m\u001b[1;33m*\u001b[0m\u001b[0margs\u001b[0m\u001b[1;33m,\u001b[0m \u001b[1;33m**\u001b[0m\u001b[0mkwargs\u001b[0m\u001b[1;33m)\u001b[0m\u001b[1;33m\u001b[0m\u001b[1;33m\u001b[0m\u001b[0m\n\u001b[0m\u001b[0;32m   2946\u001b[0m \u001b[1;33m\u001b[0m\u001b[0m\n\u001b[0;32m   2947\u001b[0m   \u001b[1;32mdef\u001b[0m \u001b[0m_reduce_to\u001b[0m\u001b[1;33m(\u001b[0m\u001b[0mself\u001b[0m\u001b[1;33m,\u001b[0m \u001b[0mreduce_op\u001b[0m\u001b[1;33m,\u001b[0m \u001b[0mvalue\u001b[0m\u001b[1;33m,\u001b[0m \u001b[0mdestinations\u001b[0m\u001b[1;33m,\u001b[0m \u001b[0mexperimental_hints\u001b[0m\u001b[1;33m)\u001b[0m\u001b[1;33m:\u001b[0m\u001b[1;33m\u001b[0m\u001b[1;33m\u001b[0m\u001b[0m\n",
      "\u001b[1;32m~\\Code\\Anaconda\\lib\\site-packages\\tensorflow\\python\\autograph\\impl\\api.py\u001b[0m in \u001b[0;36mwrapper\u001b[1;34m(*args, **kwargs)\u001b[0m\n\u001b[0;32m    273\u001b[0m   \u001b[1;32mdef\u001b[0m \u001b[0mwrapper\u001b[0m\u001b[1;33m(\u001b[0m\u001b[1;33m*\u001b[0m\u001b[0margs\u001b[0m\u001b[1;33m,\u001b[0m \u001b[1;33m**\u001b[0m\u001b[0mkwargs\u001b[0m\u001b[1;33m)\u001b[0m\u001b[1;33m:\u001b[0m\u001b[1;33m\u001b[0m\u001b[1;33m\u001b[0m\u001b[0m\n\u001b[0;32m    274\u001b[0m     \u001b[1;32mwith\u001b[0m \u001b[0mag_ctx\u001b[0m\u001b[1;33m.\u001b[0m\u001b[0mControlStatusCtx\u001b[0m\u001b[1;33m(\u001b[0m\u001b[0mstatus\u001b[0m\u001b[1;33m=\u001b[0m\u001b[0mag_ctx\u001b[0m\u001b[1;33m.\u001b[0m\u001b[0mStatus\u001b[0m\u001b[1;33m.\u001b[0m\u001b[0mUNSPECIFIED\u001b[0m\u001b[1;33m)\u001b[0m\u001b[1;33m:\u001b[0m\u001b[1;33m\u001b[0m\u001b[1;33m\u001b[0m\u001b[0m\n\u001b[1;32m--> 275\u001b[1;33m       \u001b[1;32mreturn\u001b[0m \u001b[0mfunc\u001b[0m\u001b[1;33m(\u001b[0m\u001b[1;33m*\u001b[0m\u001b[0margs\u001b[0m\u001b[1;33m,\u001b[0m \u001b[1;33m**\u001b[0m\u001b[0mkwargs\u001b[0m\u001b[1;33m)\u001b[0m\u001b[1;33m\u001b[0m\u001b[1;33m\u001b[0m\u001b[0m\n\u001b[0m\u001b[0;32m    276\u001b[0m \u001b[1;33m\u001b[0m\u001b[0m\n\u001b[0;32m    277\u001b[0m   \u001b[1;32mif\u001b[0m \u001b[0minspect\u001b[0m\u001b[1;33m.\u001b[0m\u001b[0misfunction\u001b[0m\u001b[1;33m(\u001b[0m\u001b[0mfunc\u001b[0m\u001b[1;33m)\u001b[0m \u001b[1;32mor\u001b[0m \u001b[0minspect\u001b[0m\u001b[1;33m.\u001b[0m\u001b[0mismethod\u001b[0m\u001b[1;33m(\u001b[0m\u001b[0mfunc\u001b[0m\u001b[1;33m)\u001b[0m\u001b[1;33m:\u001b[0m\u001b[1;33m\u001b[0m\u001b[1;33m\u001b[0m\u001b[0m\n",
      "\u001b[1;32m~\\Code\\Anaconda\\lib\\site-packages\\tensorflow\\python\\keras\\engine\\training.py\u001b[0m in \u001b[0;36mrun_step\u001b[1;34m(data)\u001b[0m\n\u001b[0;32m    787\u001b[0m \u001b[1;33m\u001b[0m\u001b[0m\n\u001b[0;32m    788\u001b[0m       \u001b[1;32mdef\u001b[0m \u001b[0mrun_step\u001b[0m\u001b[1;33m(\u001b[0m\u001b[0mdata\u001b[0m\u001b[1;33m)\u001b[0m\u001b[1;33m:\u001b[0m\u001b[1;33m\u001b[0m\u001b[1;33m\u001b[0m\u001b[0m\n\u001b[1;32m--> 789\u001b[1;33m         \u001b[0moutputs\u001b[0m \u001b[1;33m=\u001b[0m \u001b[0mmodel\u001b[0m\u001b[1;33m.\u001b[0m\u001b[0mtrain_step\u001b[0m\u001b[1;33m(\u001b[0m\u001b[0mdata\u001b[0m\u001b[1;33m)\u001b[0m\u001b[1;33m\u001b[0m\u001b[1;33m\u001b[0m\u001b[0m\n\u001b[0m\u001b[0;32m    790\u001b[0m         \u001b[1;31m# Ensure counter is updated only if `train_step` succeeds.\u001b[0m\u001b[1;33m\u001b[0m\u001b[1;33m\u001b[0m\u001b[1;33m\u001b[0m\u001b[0m\n\u001b[0;32m    791\u001b[0m         \u001b[1;32mwith\u001b[0m \u001b[0mops\u001b[0m\u001b[1;33m.\u001b[0m\u001b[0mcontrol_dependencies\u001b[0m\u001b[1;33m(\u001b[0m\u001b[0m_minimum_control_deps\u001b[0m\u001b[1;33m(\u001b[0m\u001b[0moutputs\u001b[0m\u001b[1;33m)\u001b[0m\u001b[1;33m)\u001b[0m\u001b[1;33m:\u001b[0m\u001b[1;33m\u001b[0m\u001b[1;33m\u001b[0m\u001b[0m\n",
      "\u001b[1;32m~\\Code\\Anaconda\\lib\\site-packages\\tensorflow\\python\\keras\\engine\\training.py\u001b[0m in \u001b[0;36mtrain_step\u001b[1;34m(self, data)\u001b[0m\n\u001b[0;32m    754\u001b[0m     \u001b[1;31m# The _minimize call does a few extra steps unnecessary in most cases,\u001b[0m\u001b[1;33m\u001b[0m\u001b[1;33m\u001b[0m\u001b[1;33m\u001b[0m\u001b[0m\n\u001b[0;32m    755\u001b[0m     \u001b[1;31m# such as loss scaling and gradient clipping.\u001b[0m\u001b[1;33m\u001b[0m\u001b[1;33m\u001b[0m\u001b[1;33m\u001b[0m\u001b[0m\n\u001b[1;32m--> 756\u001b[1;33m     _minimize(self.distribute_strategy, tape, self.optimizer, loss,\n\u001b[0m\u001b[0;32m    757\u001b[0m               self.trainable_variables)\n\u001b[0;32m    758\u001b[0m \u001b[1;33m\u001b[0m\u001b[0m\n",
      "\u001b[1;32m~\\Code\\Anaconda\\lib\\site-packages\\tensorflow\\python\\keras\\engine\\training.py\u001b[0m in \u001b[0;36m_minimize\u001b[1;34m(strategy, tape, optimizer, loss, trainable_variables)\u001b[0m\n\u001b[0;32m   2720\u001b[0m       \u001b[0mloss\u001b[0m \u001b[1;33m=\u001b[0m \u001b[0moptimizer\u001b[0m\u001b[1;33m.\u001b[0m\u001b[0mget_scaled_loss\u001b[0m\u001b[1;33m(\u001b[0m\u001b[0mloss\u001b[0m\u001b[1;33m)\u001b[0m\u001b[1;33m\u001b[0m\u001b[1;33m\u001b[0m\u001b[0m\n\u001b[0;32m   2721\u001b[0m \u001b[1;33m\u001b[0m\u001b[0m\n\u001b[1;32m-> 2722\u001b[1;33m   \u001b[0mgradients\u001b[0m \u001b[1;33m=\u001b[0m \u001b[0mtape\u001b[0m\u001b[1;33m.\u001b[0m\u001b[0mgradient\u001b[0m\u001b[1;33m(\u001b[0m\u001b[0mloss\u001b[0m\u001b[1;33m,\u001b[0m \u001b[0mtrainable_variables\u001b[0m\u001b[1;33m)\u001b[0m\u001b[1;33m\u001b[0m\u001b[1;33m\u001b[0m\u001b[0m\n\u001b[0m\u001b[0;32m   2723\u001b[0m \u001b[1;33m\u001b[0m\u001b[0m\n\u001b[0;32m   2724\u001b[0m   \u001b[1;31m# Whether to aggregate gradients outside of optimizer. This requires support\u001b[0m\u001b[1;33m\u001b[0m\u001b[1;33m\u001b[0m\u001b[1;33m\u001b[0m\u001b[0m\n",
      "\u001b[1;32m~\\Code\\Anaconda\\lib\\site-packages\\tensorflow\\python\\eager\\backprop.py\u001b[0m in \u001b[0;36mgradient\u001b[1;34m(self, target, sources, output_gradients, unconnected_gradients)\u001b[0m\n\u001b[0;32m   1065\u001b[0m                           for x in nest.flatten(output_gradients)]\n\u001b[0;32m   1066\u001b[0m \u001b[1;33m\u001b[0m\u001b[0m\n\u001b[1;32m-> 1067\u001b[1;33m     flat_grad = imperative_grad.imperative_grad(\n\u001b[0m\u001b[0;32m   1068\u001b[0m         \u001b[0mself\u001b[0m\u001b[1;33m.\u001b[0m\u001b[0m_tape\u001b[0m\u001b[1;33m,\u001b[0m\u001b[1;33m\u001b[0m\u001b[1;33m\u001b[0m\u001b[0m\n\u001b[0;32m   1069\u001b[0m         \u001b[0mflat_targets\u001b[0m\u001b[1;33m,\u001b[0m\u001b[1;33m\u001b[0m\u001b[1;33m\u001b[0m\u001b[0m\n",
      "\u001b[1;32m~\\Code\\Anaconda\\lib\\site-packages\\tensorflow\\python\\eager\\imperative_grad.py\u001b[0m in \u001b[0;36mimperative_grad\u001b[1;34m(tape, target, sources, output_gradients, sources_raw, unconnected_gradients)\u001b[0m\n\u001b[0;32m     69\u001b[0m         \"Unknown value for unconnected_gradients: %r\" % unconnected_gradients)\n\u001b[0;32m     70\u001b[0m \u001b[1;33m\u001b[0m\u001b[0m\n\u001b[1;32m---> 71\u001b[1;33m   return pywrap_tfe.TFE_Py_TapeGradient(\n\u001b[0m\u001b[0;32m     72\u001b[0m       \u001b[0mtape\u001b[0m\u001b[1;33m.\u001b[0m\u001b[0m_tape\u001b[0m\u001b[1;33m,\u001b[0m  \u001b[1;31m# pylint: disable=protected-access\u001b[0m\u001b[1;33m\u001b[0m\u001b[1;33m\u001b[0m\u001b[0m\n\u001b[0;32m     73\u001b[0m       \u001b[0mtarget\u001b[0m\u001b[1;33m,\u001b[0m\u001b[1;33m\u001b[0m\u001b[1;33m\u001b[0m\u001b[0m\n",
      "\u001b[1;32m~\\Code\\Anaconda\\lib\\site-packages\\tensorflow\\python\\eager\\backprop.py\u001b[0m in \u001b[0;36m_gradient_function\u001b[1;34m(op_name, attr_tuple, num_inputs, inputs, outputs, out_grads, skip_input_indices, forward_pass_name_scope)\u001b[0m\n\u001b[0;32m    160\u001b[0m       \u001b[0mgradient_name_scope\u001b[0m \u001b[1;33m+=\u001b[0m \u001b[0mforward_pass_name_scope\u001b[0m \u001b[1;33m+\u001b[0m \u001b[1;34m\"/\"\u001b[0m\u001b[1;33m\u001b[0m\u001b[1;33m\u001b[0m\u001b[0m\n\u001b[0;32m    161\u001b[0m     \u001b[1;32mwith\u001b[0m \u001b[0mops\u001b[0m\u001b[1;33m.\u001b[0m\u001b[0mname_scope\u001b[0m\u001b[1;33m(\u001b[0m\u001b[0mgradient_name_scope\u001b[0m\u001b[1;33m)\u001b[0m\u001b[1;33m:\u001b[0m\u001b[1;33m\u001b[0m\u001b[1;33m\u001b[0m\u001b[0m\n\u001b[1;32m--> 162\u001b[1;33m       \u001b[1;32mreturn\u001b[0m \u001b[0mgrad_fn\u001b[0m\u001b[1;33m(\u001b[0m\u001b[0mmock_op\u001b[0m\u001b[1;33m,\u001b[0m \u001b[1;33m*\u001b[0m\u001b[0mout_grads\u001b[0m\u001b[1;33m)\u001b[0m\u001b[1;33m\u001b[0m\u001b[1;33m\u001b[0m\u001b[0m\n\u001b[0m\u001b[0;32m    163\u001b[0m   \u001b[1;32melse\u001b[0m\u001b[1;33m:\u001b[0m\u001b[1;33m\u001b[0m\u001b[1;33m\u001b[0m\u001b[0m\n\u001b[0;32m    164\u001b[0m     \u001b[1;32mreturn\u001b[0m \u001b[0mgrad_fn\u001b[0m\u001b[1;33m(\u001b[0m\u001b[0mmock_op\u001b[0m\u001b[1;33m,\u001b[0m \u001b[1;33m*\u001b[0m\u001b[0mout_grads\u001b[0m\u001b[1;33m)\u001b[0m\u001b[1;33m\u001b[0m\u001b[1;33m\u001b[0m\u001b[0m\n",
      "\u001b[1;32m~\\Code\\Anaconda\\lib\\site-packages\\tensorflow\\python\\ops\\nn_grad.py\u001b[0m in \u001b[0;36m_Conv2DGrad\u001b[1;34m(op, grad)\u001b[0m\n\u001b[0;32m    585\u001b[0m   \u001b[1;31m# in Eager mode.\u001b[0m\u001b[1;33m\u001b[0m\u001b[1;33m\u001b[0m\u001b[1;33m\u001b[0m\u001b[0m\n\u001b[0;32m    586\u001b[0m   return [\n\u001b[1;32m--> 587\u001b[1;33m       gen_nn_ops.conv2d_backprop_input(\n\u001b[0m\u001b[0;32m    588\u001b[0m           \u001b[0mshape_0\u001b[0m\u001b[1;33m,\u001b[0m\u001b[1;33m\u001b[0m\u001b[1;33m\u001b[0m\u001b[0m\n\u001b[0;32m    589\u001b[0m           \u001b[0mop\u001b[0m\u001b[1;33m.\u001b[0m\u001b[0minputs\u001b[0m\u001b[1;33m[\u001b[0m\u001b[1;36m1\u001b[0m\u001b[1;33m]\u001b[0m\u001b[1;33m,\u001b[0m\u001b[1;33m\u001b[0m\u001b[1;33m\u001b[0m\u001b[0m\n",
      "\u001b[1;32m~\\Code\\Anaconda\\lib\\site-packages\\tensorflow\\python\\ops\\gen_nn_ops.py\u001b[0m in \u001b[0;36mconv2d_backprop_input\u001b[1;34m(input_sizes, filter, out_backprop, strides, padding, use_cudnn_on_gpu, explicit_paddings, data_format, dilations, name)\u001b[0m\n\u001b[0;32m   1244\u001b[0m   \u001b[1;32mif\u001b[0m \u001b[0mtld\u001b[0m\u001b[1;33m.\u001b[0m\u001b[0mis_eager\u001b[0m\u001b[1;33m:\u001b[0m\u001b[1;33m\u001b[0m\u001b[1;33m\u001b[0m\u001b[0m\n\u001b[0;32m   1245\u001b[0m     \u001b[1;32mtry\u001b[0m\u001b[1;33m:\u001b[0m\u001b[1;33m\u001b[0m\u001b[1;33m\u001b[0m\u001b[0m\n\u001b[1;32m-> 1246\u001b[1;33m       _result = pywrap_tfe.TFE_Py_FastPathExecute(\n\u001b[0m\u001b[0;32m   1247\u001b[0m         \u001b[0m_ctx\u001b[0m\u001b[1;33m.\u001b[0m\u001b[0m_context_handle\u001b[0m\u001b[1;33m,\u001b[0m \u001b[0mtld\u001b[0m\u001b[1;33m.\u001b[0m\u001b[0mdevice_name\u001b[0m\u001b[1;33m,\u001b[0m \u001b[1;34m\"Conv2DBackpropInput\"\u001b[0m\u001b[1;33m,\u001b[0m \u001b[0mname\u001b[0m\u001b[1;33m,\u001b[0m\u001b[1;33m\u001b[0m\u001b[1;33m\u001b[0m\u001b[0m\n\u001b[0;32m   1248\u001b[0m         \u001b[0mtld\u001b[0m\u001b[1;33m.\u001b[0m\u001b[0mop_callbacks\u001b[0m\u001b[1;33m,\u001b[0m \u001b[0minput_sizes\u001b[0m\u001b[1;33m,\u001b[0m \u001b[0mfilter\u001b[0m\u001b[1;33m,\u001b[0m \u001b[0mout_backprop\u001b[0m\u001b[1;33m,\u001b[0m \u001b[1;34m\"strides\"\u001b[0m\u001b[1;33m,\u001b[0m\u001b[1;33m\u001b[0m\u001b[1;33m\u001b[0m\u001b[0m\n",
      "\u001b[1;31mKeyboardInterrupt\u001b[0m: "
     ]
    }
   ],
   "source": [
    "model_unet.fit(train_gen,epochs=100)"
   ]
  },
  {
   "cell_type": "code",
   "execution_count": 96,
   "id": "cff65449",
   "metadata": {},
   "outputs": [
    {
     "name": "stdout",
     "output_type": "stream",
     "text": [
      "Epoch 1/3\n",
      "10/10 [==============================] - 114s 11s/step - loss: 0.8667 - accuracy: 0.1450 - mean_dice: 0.1082 - mean_IoU: 0.0587 - val_loss: 0.8703 - val_accuracy: 0.1157 - val_mean_dice: 0.0259 - val_mean_IoU: 0.0145\n",
      "Epoch 2/3\n",
      "10/10 [==============================] - 108s 11s/step - loss: 0.8531 - accuracy: 0.1547 - mean_dice: 0.1113 - mean_IoU: 0.0607 - val_loss: 0.8842 - val_accuracy: 0.1088 - val_mean_dice: 0.0245 - val_mean_IoU: 0.0136\n",
      "Epoch 3/3\n",
      "10/10 [==============================] - 110s 11s/step - loss: 0.8133 - accuracy: 0.1935 - mean_dice: 0.1219 - mean_IoU: 0.0680 - val_loss: 0.9103 - val_accuracy: 0.0853 - val_mean_dice: 0.0197 - val_mean_IoU: 0.0107\n"
     ]
    }
   ],
   "source": [
    "hist = model.fit(X_train_toy,y_train_toy,validation_data=(X_test_toy,y_test_toy),batch_size=10,epochs=3,callbacks=[es])"
   ]
  },
  {
   "cell_type": "code",
   "execution_count": 266,
   "id": "9b43a20f",
   "metadata": {
    "scrolled": true
   },
   "outputs": [
    {
     "data": {
      "text/plain": [
       "{'loss': [0.4987359941005707],\n",
       " 'accuracy': [0.8378078937530518],\n",
       " 'mean_dice': [0.6114801168441772],\n",
       " 'mean_IoU': [0.5210873484611511],\n",
       " 'class_wise_IoU': [0.5210873484611511],\n",
       " 'val_loss': [3.2043380737304688],\n",
       " 'val_accuracy': [0.10031738132238388],\n",
       " 'val_mean_dice': [0.022788025438785553],\n",
       " 'val_mean_IoU': [0.012539705261588097],\n",
       " 'val_class_wise_IoU': [0.012539705261588097]}"
      ]
     },
     "execution_count": 266,
     "metadata": {},
     "output_type": "execute_result"
    }
   ],
   "source": [
    "hist.history"
   ]
  },
  {
   "cell_type": "markdown",
   "id": "f60f8f50",
   "metadata": {},
   "source": [
    "# Building smaller image dataset for Uploading"
   ]
  },
  {
   "cell_type": "markdown",
   "id": "85d081de",
   "metadata": {},
   "source": [
    "To save ressource, we'll resize all images (train,test,validation) to 128x256"
   ]
  },
  {
   "cell_type": "code",
   "execution_count": 105,
   "id": "ea2a7864",
   "metadata": {},
   "outputs": [],
   "source": [
    "def reduce_size_folder(origin_path,dest_path,height,width):\n",
    "    filenames = os.listdir(origin_path)\n",
    "    for file in filenames:\n",
    "        origin_file=origin_path+'/'+file\n",
    "        img = tf.keras.preprocessing.image.load_img(origin_file,target_size=(height,width))\n",
    "        img.save(dest_path+'/'+file) "
   ]
  },
  {
   "cell_type": "code",
   "execution_count": 106,
   "id": "789fddff",
   "metadata": {},
   "outputs": [],
   "source": [
    "reduce_size_folder('D:/Data OC/P8/Images/val/#all',\n",
    "                   'D:/Data OC/P8/Images/val/#all_red',\n",
    "                   128,256)"
   ]
  },
  {
   "cell_type": "code",
   "execution_count": 107,
   "id": "5f5ee7da",
   "metadata": {},
   "outputs": [],
   "source": [
    "reduce_size_folder('D:/Data OC/P8/Images/test/#all',\n",
    "                   'D:/Data OC/P8/Images/test/#all_red',\n",
    "                   128,256)"
   ]
  },
  {
   "cell_type": "code",
   "execution_count": 108,
   "id": "b0aa8715",
   "metadata": {},
   "outputs": [],
   "source": [
    "reduce_size_folder('D:/Data OC/P8/Images/train/#all',\n",
    "                   'D:/Data OC/P8/Images/train/#all_red',\n",
    "                   128,256)"
   ]
  },
  {
   "cell_type": "code",
   "execution_count": 109,
   "id": "ad1fe805",
   "metadata": {},
   "outputs": [],
   "source": [
    "reduce_size_folder('D:/Data OC/P8/Masks/train/#all',\n",
    "                   'D:/Data OC/P8/Masks/train/#all_red',\n",
    "                   128,256)"
   ]
  },
  {
   "cell_type": "code",
   "execution_count": 110,
   "id": "afa8623d",
   "metadata": {},
   "outputs": [],
   "source": [
    "reduce_size_folder('D:/Data OC/P8/Masks/test/#all',\n",
    "                   'D:/Data OC/P8/Masks/test/#all_red',\n",
    "                   128,256)"
   ]
  },
  {
   "cell_type": "code",
   "execution_count": 111,
   "id": "af44429b",
   "metadata": {},
   "outputs": [],
   "source": [
    "reduce_size_folder('D:/Data OC/P8/Masks/val/#all',\n",
    "                   'D:/Data OC/P8/Masks/val/#all_red',\n",
    "                   128,256)"
   ]
  },
  {
   "cell_type": "markdown",
   "id": "fc9939e7",
   "metadata": {},
   "source": [
    "# Test Bench"
   ]
  },
  {
   "cell_type": "code",
   "execution_count": 220,
   "id": "1a228ae2",
   "metadata": {},
   "outputs": [],
   "source": [
    "# Load a pretrained model\n",
    "model = tf.keras.models.load_model('fcn_full_train')"
   ]
  },
  {
   "cell_type": "code",
   "execution_count": 196,
   "id": "d7c3ab4b",
   "metadata": {},
   "outputs": [],
   "source": [
    "test_img_file=\"D:/Data OC/P8/Full_def/images/val/frankfurt_000000_005543_leftImg8bit.png\"\n",
    "test_mask_file=\"D:/Data OC/P8/Full_def/masks/val/frankfurt_000000_005543_gtFine_labelIds.png\"\n",
    "img = tf.keras.preprocessing.image.load_img(test_img_file,target_size=(128,256))\n",
    "img_norm = np.array(normalize_input_img(img))\n",
    "mask = tf.keras.preprocessing.image.load_img(test_mask_file,target_size=(128,256),color_mode=\"grayscale\")"
   ]
  },
  {
   "cell_type": "code",
   "execution_count": 223,
   "id": "edae35ab",
   "metadata": {},
   "outputs": [
    {
     "data": {
      "image/png": "[encoded data removed]",
      "text/plain": [
       "<PIL.Image.Image image mode=RGB size=768x128 at 0x2DEAA2E1280>"
      ]
     },
     "execution_count": 223,
     "metadata": {},
     "output_type": "execute_result"
    }
   ],
   "source": [
    "show_results(img,mask,model_unet)"
   ]
  },
  {
   "cell_type": "code",
   "execution_count": null,
   "id": "b4b1d21d",
   "metadata": {},
   "outputs": [],
   "source": []
  },
  {
   "cell_type": "code",
   "execution_count": 108,
   "id": "99d08acb",
   "metadata": {},
   "outputs": [
    {
     "data": {
      "image/png": "[encoded data removed]",
      "text/plain": [
       "<PIL.Image.Image image mode=RGB size=256x128 at 0x23EB2F9CEE0>"
      ]
     },
     "execution_count": 108,
     "metadata": {},
     "output_type": "execute_result"
    }
   ],
   "source": [
    "generate_img_from_mask(model.predict(img_norm.reshape(1,128,256,3))[0],cats,colors_palette=colors_palette)"
   ]
  },
  {
   "cell_type": "code",
   "execution_count": 109,
   "id": "2de319dd",
   "metadata": {},
   "outputs": [
    {
     "data": {
      "image/png": "[encoded data removed]",
      "text/plain": [
       "<PIL.Image.Image image mode=RGB size=256x128 at 0x23EB00E2370>"
      ]
     },
     "execution_count": 109,
     "metadata": {},
     "output_type": "execute_result"
    }
   ],
   "source": [
    "generate_img_from_mask(model.predict(img_norm.reshape(1,128,256,3))[0],cats,colors_palette=colors_palette)"
   ]
  }
 ],
 "metadata": {
  "celltoolbar": "Initialization Cell",
  "kernelspec": {
   "display_name": "Python 3 (ipykernel)",
   "language": "python",
   "name": "python3"
  },
  "language_info": {
   "codemirror_mode": {
    "name": "ipython",
    "version": 3
   },
   "file_extension": ".py",
   "mimetype": "text/x-python",
   "name": "python",
   "nbconvert_exporter": "python",
   "pygments_lexer": "ipython3",
   "version": "3.8.11"
  },
  "notify_time": "10",
  "toc": {
   "base_numbering": 1,
   "nav_menu": {
    "height": "72px",
    "width": "160px"
   },
   "number_sections": true,
   "sideBar": true,
   "skip_h1_title": false,
   "title_cell": "Table of Contents",
   "title_sidebar": "Contents",
   "toc_cell": false,
   "toc_position": {
    "height": "calc(100% - 180px)",
    "left": "10px",
    "top": "150px",
    "width": "384px"
   },
   "toc_section_display": true,
   "toc_window_display": true
  }
 },
 "nbformat": 4,
 "nbformat_minor": 5
}
