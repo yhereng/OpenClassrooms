{
  "cells": [
    {
      "cell_type": "code",
      "source": [
        "import os\r\n",
        "import pandas as pd\r\n",
        "import json\r\n",
        "import tensorflow as tf\r\n",
        "import numpy as np\r\n",
        "import io\r\n",
        "from matplotlib import colors\r\n",
        "from tensorflow import keras\r\n",
        "\r\n",
        "from azureml.core import Workspace, Dataset\r\n",
        "from azureml.core.model import Model"
      ],
      "outputs": [
        {
          "output_type": "stream",
          "name": "stderr",
          "text": [
            "2021-08-13 08:25:20.861725: I tensorflow/stream_executor/platform/default/dso_loader.cc:49] Successfully opened dynamic library libcudart.so.11.0\n"
          ]
        }
      ],
      "execution_count": 1,
      "metadata": {
        "collapsed": true,
        "jupyter": {
          "source_hidden": false,
          "outputs_hidden": false
        },
        "nteract": {
          "transient": {
            "deleting": false
          }
        },
        "gather": {
          "logged": 1628843141626
        }
      }
    },
    {
      "cell_type": "code",
      "source": [
        "def create_mask(img,cats):\r\n",
        "    '''creates an mask from image and segmentation categories\r\n",
        "    \r\n",
        "    Args:\r\n",
        "      img - PIL image\r\n",
        "      cats - dict {'cat1':[value1,value2,value3,etc...],'cat2':[value1,value2,value3,etc...]}\r\n",
        "    \r\n",
        "    Returns:\r\n",
        "      A mask of type np.array of dimension (shape(img),len(cats)) '''\r\n",
        "    \r\n",
        "    \r\n",
        "    img =tf.keras.preprocessing.image.img_to_array(img,dtype=np.int32) # convert img to np.array\r\n",
        "    img=np.squeeze(img) #remove 1 dimension\r\n",
        "    mask = np.zeros((img.shape[0], img.shape[1], len(cats)),dtype=int) # create a mask with zeros\r\n",
        "    flat_cat = [val for cat in list(cats.values()) for val in cat] # create a list of all values associated with categories\r\n",
        "    ca_min=min(flat_cat)\r\n",
        "    ca_max=max(flat_cat)\r\n",
        "    cats_names=list(cats.keys())\r\n",
        "    \r\n",
        "    #for each values associated with a category, fill in the mask with the corresponding category number\r\n",
        "    for i in range(ca_min,ca_max):\r\n",
        "            for idx,name in enumerate(cats_names):\r\n",
        "                if i in cats[name]:\r\n",
        "                    mask[:,:,idx] = np.logical_or(mask[:,:,idx],(img==i))\r\n",
        "    return mask\r\n",
        "\r\n",
        "\r\n",
        "def generate_img_from_mask(mask,cats,colors_palette=['b','g','r','c','m','y','k','w']):\r\n",
        "    \r\n",
        "    '''Generate a PIL image from a segmented mask and categorie cats with specified color palette for each cateorie\r\n",
        "    \r\n",
        "    Args:\r\n",
        "      mask - numpy array of dimension (shape(img),len(cats))\r\n",
        "      cats - dict {'cat1':[value1,value2,value3],'cat2':[value1,value2,value3]}\r\n",
        "    \r\n",
        "    Returns\r\n",
        "      PIL image'''\r\n",
        "    img_seg = np.zeros((mask.shape[0],mask.shape[1],3),dtype='float')\r\n",
        "    for cat in range(len(cats)):\r\n",
        "        img_seg[:,:,0] += mask[:,:,cat]*colors.to_rgb(colors_palette[cat])[0]\r\n",
        "        img_seg[:,:,1] += mask[:,:,cat]*colors.to_rgb(colors_palette[cat])[1]\r\n",
        "        img_seg[:,:,2] += mask[:,:,cat]*colors.to_rgb(colors_palette[cat])[2]\r\n",
        "        \r\n",
        "    return tf.keras.preprocessing.image.array_to_img(img_seg)  \r\n",
        "\r\n",
        "def normalize_input_img(img):\r\n",
        "    '''Normalize PIL image to fall in [-1,1] range, returns 3D numpy array'''\r\n",
        "    img =tf.keras.preprocessing.image.img_to_array(img,dtype=np.int32)\r\n",
        "    img = img/127.5\r\n",
        "    img -= 1\r\n",
        "    return img\r\n",
        "\r\n",
        "def get_concat_h(im1, im2):\r\n",
        "    \r\n",
        "    '''concatenate two PIL images horizontaly'''\r\n",
        "    dst = Image.new('RGB', (im1.width + im2.width, im1.height))\r\n",
        "    dst.paste(im1, (0, 0))\r\n",
        "    dst.paste(im2, (im1.width, 0))\r\n",
        "    return dst\r\n",
        "\r\n",
        "\r\n",
        "def show_results(img,mask,model):\r\n",
        "    \r\n",
        "    '''concatenates the img, the reference mask and the predicted mask'''\r\n",
        "\r\n",
        "    img_norm = np.array(normalize_input_img(img))\r\n",
        "    \r\n",
        "    img_pred = model.predict(img_norm.reshape(1,128,256,3))[0]\r\n",
        "    \r\n",
        "    res = get_concat_h(get_concat_h(img,generate_img_from_mask(create_mask(mask,cats),cats)),generate_img_from_mask(img_pred,cats))\r\n",
        "    \r\n",
        "    return res"
      ],
      "outputs": [],
      "execution_count": 2,
      "metadata": {
        "collapsed": true,
        "jupyter": {
          "source_hidden": false,
          "outputs_hidden": false
        },
        "nteract": {
          "transient": {
            "deleting": false
          }
        },
        "gather": {
          "logged": 1628843145707
        }
      }
    },
    {
      "cell_type": "code",
      "source": [
        "# load workspace configuration from the config.json file in the current folder.\r\n",
        "ws = Workspace.from_config()\r\n",
        "print(ws.name, ws.location, ws.resource_group, sep='\\t')"
      ],
      "outputs": [
        {
          "output_type": "stream",
          "name": "stdout",
          "text": [
            "oc-p8\twesteurope\toc-p8-ressource-group\n"
          ]
        }
      ],
      "execution_count": 3,
      "metadata": {
        "collapsed": true,
        "jupyter": {
          "source_hidden": false,
          "outputs_hidden": false
        },
        "nteract": {
          "transient": {
            "deleting": false
          }
        },
        "gather": {
          "logged": 1628843149817
        }
      }
    },
    {
      "cell_type": "code",
      "source": [
        "%%writefile script_folder/echo_score.py\r\n",
        "\r\n",
        "import json\r\n",
        "\r\n",
        "def init():\r\n",
        "    print('This is init')\r\n",
        "\r\n",
        "def run(data):\r\n",
        "    test = json.loads(data)\r\n",
        "    print(f'received data {test}')\r\n",
        "    return(f'test is {test}')"
      ],
      "outputs": [
        {
          "output_type": "stream",
          "name": "stdout",
          "text": [
            "Overwriting script_folder/echo_score.py\n"
          ]
        }
      ],
      "execution_count": 4,
      "metadata": {
        "collapsed": true,
        "jupyter": {
          "source_hidden": false,
          "outputs_hidden": false
        },
        "nteract": {
          "transient": {
            "deleting": false
          }
        }
      }
    },
    {
      "cell_type": "markdown",
      "source": [
        "# Local deployment for test and debug"
      ],
      "metadata": {
        "nteract": {
          "transient": {
            "deleting": false
          }
        }
      }
    },
    {
      "cell_type": "markdown",
      "source": [
        "## Inference config"
      ],
      "metadata": {
        "nteract": {
          "transient": {
            "deleting": false
          }
        }
      }
    },
    {
      "cell_type": "code",
      "source": [
        "from azureml.core import Environment\r\n",
        "from azureml.core.model import InferenceConfig\r\n",
        "\r\n",
        "env = Environment(name='project_environment')\r\n",
        "inf_config = InferenceConfig(environment=env, source_directory='script_folder', entry_script='./echo_score.py')"
      ],
      "outputs": [],
      "execution_count": 5,
      "metadata": {
        "collapsed": true,
        "jupyter": {
          "source_hidden": false,
          "outputs_hidden": false
        },
        "nteract": {
          "transient": {
            "deleting": false
          }
        },
        "gather": {
          "logged": 1628843152878
        }
      }
    },
    {
      "cell_type": "markdown",
      "source": [
        "## Deployment configuration"
      ],
      "metadata": {
        "nteract": {
          "transient": {
            "deleting": false
          }
        }
      }
    },
    {
      "cell_type": "code",
      "source": [
        "from azureml.core.webservice import LocalWebservice\r\n",
        "\r\n",
        "deploy_config = LocalWebservice.deploy_configuration(port=6789)"
      ],
      "outputs": [],
      "execution_count": 6,
      "metadata": {
        "collapsed": true,
        "jupyter": {
          "source_hidden": false,
          "outputs_hidden": false
        },
        "nteract": {
          "transient": {
            "deleting": false
          }
        },
        "gather": {
          "logged": 1628843154199
        }
      }
    },
    {
      "cell_type": "markdown",
      "source": [
        "## Local deployment"
      ],
      "metadata": {
        "nteract": {
          "transient": {
            "deleting": false
          }
        }
      }
    },
    {
      "cell_type": "code",
      "source": [
        "model = Model(workspace=ws,name='FCN8_final')"
      ],
      "outputs": [],
      "execution_count": 7,
      "metadata": {
        "collapsed": true,
        "jupyter": {
          "source_hidden": false,
          "outputs_hidden": false
        },
        "nteract": {
          "transient": {
            "deleting": false
          }
        },
        "gather": {
          "logged": 1628843156234
        }
      }
    },
    {
      "cell_type": "code",
      "source": [
        "from azureml.core.model import Model\r\n",
        "\r\n",
        "service = Model.deploy(ws, \"myservice\", [model] , inf_config, deploy_config)\r\n",
        "service.wait_for_deployment(show_output=True)\r\n",
        "print(service.get_logs())"
      ],
      "outputs": [
        {
          "output_type": "stream",
          "name": "stdout",
          "text": [
            "Downloading model FCN8_final:1 to /tmp/azureml_kmr8u_mg/FCN8_final/1\n",
            "Generating Docker build context.\n",
            "Package creation Succeeded\n",
            "Logging into Docker registry 86fbece3485341c6a3c756a0ad684952.azurecr.io\n",
            "Logging into Docker registry 86fbece3485341c6a3c756a0ad684952.azurecr.io\n",
            "Building Docker image from Dockerfile...\n",
            "Step 1/5 : FROM 86fbece3485341c6a3c756a0ad684952.azurecr.io/azureml/azureml_6dcbe4a6bf560bccfd802db7c65448ba\n",
            " ---> 30a18654dec9\n",
            "Step 2/5 : COPY azureml-app /var/azureml-app\n",
            " ---> aaa8276a5e51\n",
            "Step 3/5 : RUN mkdir -p '/var/azureml-app' && echo eyJhY2NvdW50Q29udGV4dCI6eyJzdWJzY3JpcHRpb25JZCI6Ijg3ODE3NTFjLTcwZGQtNDQxYS04YzQ1LTIyNzQyMDg4NTFjMCIsInJlc291cmNlR3JvdXBOYW1lIjoib2MtcDgtcmVzc291cmNlLWdyb3VwIiwiYWNjb3VudE5hbWUiOiJvYy1wOCIsIndvcmtzcGFjZUlkIjoiODZmYmVjZTMtNDg1My00MWM2LWEzYzctNTZhMGFkNjg0OTUyIn0sIm1vZGVscyI6e30sIm1vZGVsc0luZm8iOnt9fQ== | base64 --decode > /var/azureml-app/model_config_map.json\n",
            " ---> Running in 95f1e97a4178\n",
            " ---> 6d20f23ba83e\n",
            "Step 4/5 : RUN mv '/var/azureml-app/tmp1ohhdg18.py' /var/azureml-app/main.py\n",
            " ---> Running in 69af551504b9\n",
            " ---> 5f359daccfdb\n",
            "Step 5/5 : CMD [\"runsvdir\",\"/var/runit\"]\n",
            " ---> Running in 74b8dfd3659a\n",
            " ---> ffc3cdf574bc\n",
            "Successfully built ffc3cdf574bc\n",
            "Successfully tagged myservice:latest\n",
            "Container (name:admiring_volhard, id:4971e7d3a12567a7323d016cbcdc0d2ed49bfc1a3d87ad56584a6b530ceede49) cannot be killed.\n",
            "Container has been successfully cleaned up.\n",
            "Image sha256:ff42430f6cf411ea3b2b762b183a4504bb03a360999908ded053a74fa9e58477 successfully removed.\n",
            "Starting Docker container...\n",
            "Docker container running.\n",
            "Checking container health...\n",
            "\n",
            "Container Logs:\n",
            "2021-08-13T08:26:44,494812311+00:00 - rsyslog/run \n",
            "2021-08-13T08:26:44,495067515+00:00 - gunicorn/run \n",
            "File not found: /var/azureml-app/.\n",
            "Starting HTTP server\n",
            "2021-08-13T08:26:44,500489391+00:00 - iot-server/run \n",
            "2021-08-13T08:26:44,501392703+00:00 - nginx/run \n",
            "EdgeHubConnectionString and IOTEDGE_IOTHUBHOSTNAME are not set. Exiting...\n",
            "2021-08-13T08:26:44,572939502+00:00 - iot-server/finish 1 0\n",
            "2021-08-13T08:26:44,574064318+00:00 - Exit code 1 is normal. Not restarting iot-server.\n",
            "Starting gunicorn 20.1.0\n",
            "Listening at: http://127.0.0.1:31311 (15)\n",
            "Using worker: sync\n",
            "worker timeout is set to 300\n",
            "Booting worker with pid: 42\n",
            "SPARK_HOME not set. Skipping PySpark Initialization.\n",
            "Exception in worker process\n",
            "Traceback (most recent call last):\n",
            "  File \"/var/azureml-server/routes_common.py\", line 37, in <module>\n",
            "    from azureml.api.exceptions.ClientSideException import ClientSideException\n",
            "ModuleNotFoundError: No module named 'azureml.api'\n",
            "\n",
            "During handling of the above exception, another exception occurred:\n",
            "\n",
            "Traceback (most recent call last):\n",
            "  File \"/azureml-envs/azureml_da3e97fcb51801118b8e80207f3e01ad/lib/python3.6/site-packages/gunicorn/arbiter.py\", line 589, in spawn_worker\n",
            "    worker.init_process()\n",
            "  File \"/azureml-envs/azureml_da3e97fcb51801118b8e80207f3e01ad/lib/python3.6/site-packages/gunicorn/workers/base.py\", line 134, in init_process\n",
            "    self.load_wsgi()\n",
            "  File \"/azureml-envs/azureml_da3e97fcb51801118b8e80207f3e01ad/lib/python3.6/site-packages/gunicorn/workers/base.py\", line 146, in load_wsgi\n",
            "    self.wsgi = self.app.wsgi()\n",
            "  File \"/azureml-envs/azureml_da3e97fcb51801118b8e80207f3e01ad/lib/python3.6/site-packages/gunicorn/app/base.py\", line 67, in wsgi\n",
            "    self.callable = self.load()\n",
            "  File \"/azureml-envs/azureml_da3e97fcb51801118b8e80207f3e01ad/lib/python3.6/site-packages/gunicorn/app/wsgiapp.py\", line 58, in load\n",
            "    return self.load_wsgiapp()\n",
            "  File \"/azureml-envs/azureml_da3e97fcb51801118b8e80207f3e01ad/lib/python3.6/site-packages/gunicorn/app/wsgiapp.py\", line 48, in load_wsgiapp\n",
            "    return util.import_app(self.app_uri)\n",
            "  File \"/azureml-envs/azureml_da3e97fcb51801118b8e80207f3e01ad/lib/python3.6/site-packages/gunicorn/util.py\", line 359, in import_app\n",
            "    mod = importlib.import_module(module)\n",
            "  File \"/azureml-envs/azureml_da3e97fcb51801118b8e80207f3e01ad/lib/python3.6/importlib/__init__.py\", line 126, in import_module\n",
            "    return _bootstrap._gcd_import(name[level:], package, level)\n",
            "  File \"<frozen importlib._bootstrap>\", line 978, in _gcd_import\n",
            "  File \"<frozen importlib._bootstrap>\", line 961, in _find_and_load\n",
            "  File \"<frozen importlib._bootstrap>\", line 950, in _find_and_load_unlocked\n",
            "  File \"<frozen importlib._bootstrap>\", line 655, in _load_unlocked\n",
            "  File \"<frozen importlib._bootstrap_external>\", line 678, in exec_module\n",
            "  File \"<frozen importlib._bootstrap>\", line 205, in _call_with_frames_removed\n",
            "  File \"/var/azureml-server/entry.py\", line 1, in <module>\n",
            "    import create_app\n",
            "  File \"/var/azureml-server/create_app.py\", line 4, in <module>\n",
            "    from routes_common import main\n",
            "  File \"/var/azureml-server/routes_common.py\", line 39, in <module>\n",
            "    from azure.ml.api.exceptions.ClientSideException import ClientSideException\n",
            "ModuleNotFoundError: No module named 'azure.ml'\n",
            "Worker exiting (pid: 42)\n",
            "Shutting down: Master\n",
            "Reason: Worker failed to boot.\n",
            "2021-08-13T08:26:44,921295967+00:00 - gunicorn/finish 3 0\n",
            "2021-08-13T08:26:44,922617285+00:00 - Exit code 3 is not normal. Killing image.\n",
            "\n"
          ]
        },
        {
          "output_type": "stream",
          "name": "stderr",
          "text": [
            "Error: Container has crashed. Did your init method fail?\n",
            "\n"
          ]
        },
        {
          "output_type": "error",
          "ename": "WebserviceException",
          "evalue": "WebserviceException:\n\tMessage: Error: Container has crashed. Did your init method fail?\n\tInnerException None\n\tErrorResponse \n{\n    \"error\": {\n        \"message\": \"Error: Container has crashed. Did your init method fail?\"\n    }\n}",
          "traceback": [
            "\u001b[0;31m---------------------------------------------------------------------------\u001b[0m",
            "\u001b[0;31mWebserviceException\u001b[0m                       Traceback (most recent call last)",
            "\u001b[0;32m/tmp/ipykernel_5290/592896274.py\u001b[0m in \u001b[0;36m<module>\u001b[0;34m\u001b[0m\n\u001b[1;32m      2\u001b[0m \u001b[0;34m\u001b[0m\u001b[0m\n\u001b[1;32m      3\u001b[0m \u001b[0mservice\u001b[0m \u001b[0;34m=\u001b[0m \u001b[0mModel\u001b[0m\u001b[0;34m.\u001b[0m\u001b[0mdeploy\u001b[0m\u001b[0;34m(\u001b[0m\u001b[0mws\u001b[0m\u001b[0;34m,\u001b[0m \u001b[0;34m\"myservice\"\u001b[0m\u001b[0;34m,\u001b[0m \u001b[0;34m[\u001b[0m\u001b[0mmodel\u001b[0m\u001b[0;34m]\u001b[0m \u001b[0;34m,\u001b[0m \u001b[0minf_config\u001b[0m\u001b[0;34m,\u001b[0m \u001b[0mdeploy_config\u001b[0m\u001b[0;34m)\u001b[0m\u001b[0;34m\u001b[0m\u001b[0;34m\u001b[0m\u001b[0m\n\u001b[0;32m----> 4\u001b[0;31m \u001b[0mservice\u001b[0m\u001b[0;34m.\u001b[0m\u001b[0mwait_for_deployment\u001b[0m\u001b[0;34m(\u001b[0m\u001b[0mshow_output\u001b[0m\u001b[0;34m=\u001b[0m\u001b[0;32mTrue\u001b[0m\u001b[0;34m)\u001b[0m\u001b[0;34m\u001b[0m\u001b[0;34m\u001b[0m\u001b[0m\n\u001b[0m\u001b[1;32m      5\u001b[0m \u001b[0mprint\u001b[0m\u001b[0;34m(\u001b[0m\u001b[0mservice\u001b[0m\u001b[0;34m.\u001b[0m\u001b[0mget_logs\u001b[0m\u001b[0;34m(\u001b[0m\u001b[0;34m)\u001b[0m\u001b[0;34m)\u001b[0m\u001b[0;34m\u001b[0m\u001b[0;34m\u001b[0m\u001b[0m\n",
            "\u001b[0;32m/anaconda/envs/azureml_py38/lib/python3.8/site-packages/azureml/core/webservice/local.py\u001b[0m in \u001b[0;36mdecorated\u001b[0;34m(self, *args, **kwargs)\u001b[0m\n\u001b[1;32m     70\u001b[0m                 raise WebserviceException('Cannot call {}() when service is {}.'.format(func.__name__, self.state),\n\u001b[1;32m     71\u001b[0m                                           logger=module_logger)\n\u001b[0;32m---> 72\u001b[0;31m             \u001b[0;32mreturn\u001b[0m \u001b[0mfunc\u001b[0m\u001b[0;34m(\u001b[0m\u001b[0mself\u001b[0m\u001b[0;34m,\u001b[0m \u001b[0;34m*\u001b[0m\u001b[0margs\u001b[0m\u001b[0;34m,\u001b[0m \u001b[0;34m**\u001b[0m\u001b[0mkwargs\u001b[0m\u001b[0;34m)\u001b[0m\u001b[0;34m\u001b[0m\u001b[0;34m\u001b[0m\u001b[0m\n\u001b[0m\u001b[1;32m     73\u001b[0m         \u001b[0;32mreturn\u001b[0m \u001b[0mdecorated\u001b[0m\u001b[0;34m\u001b[0m\u001b[0;34m\u001b[0m\u001b[0m\n\u001b[1;32m     74\u001b[0m     \u001b[0;32mreturn\u001b[0m \u001b[0mdecorator\u001b[0m\u001b[0;34m\u001b[0m\u001b[0;34m\u001b[0m\u001b[0m\n",
            "\u001b[0;32m/anaconda/envs/azureml_py38/lib/python3.8/site-packages/azureml/core/webservice/local.py\u001b[0m in \u001b[0;36mwait_for_deployment\u001b[0;34m(self, show_output)\u001b[0m\n\u001b[1;32m    609\u001b[0m         \"\"\"\n\u001b[1;32m    610\u001b[0m         \u001b[0;32mtry\u001b[0m\u001b[0;34m:\u001b[0m\u001b[0;34m\u001b[0m\u001b[0;34m\u001b[0m\u001b[0m\n\u001b[0;32m--> 611\u001b[0;31m             container_health_check(self._port,\n\u001b[0m\u001b[1;32m    612\u001b[0m                                    \u001b[0mself\u001b[0m\u001b[0;34m.\u001b[0m\u001b[0m_container\u001b[0m\u001b[0;34m,\u001b[0m\u001b[0;34m\u001b[0m\u001b[0;34m\u001b[0m\u001b[0m\n\u001b[1;32m    613\u001b[0m                                    \u001b[0mhealth_url\u001b[0m\u001b[0;34m=\u001b[0m\u001b[0mself\u001b[0m\u001b[0;34m.\u001b[0m\u001b[0m_get_health_url\u001b[0m\u001b[0;34m(\u001b[0m\u001b[0;34m)\u001b[0m\u001b[0;34m,\u001b[0m\u001b[0;34m\u001b[0m\u001b[0;34m\u001b[0m\u001b[0m\n",
            "\u001b[0;32m/anaconda/envs/azureml_py38/lib/python3.8/site-packages/azureml/_model_management/_util.py\u001b[0m in \u001b[0;36mcontainer_health_check\u001b[0;34m(docker_port, container, health_url, cleanup_if_failed)\u001b[0m\n\u001b[1;32m    749\u001b[0m         \u001b[0;32melif\u001b[0m \u001b[0mcontainer\u001b[0m\u001b[0;34m.\u001b[0m\u001b[0mstatus\u001b[0m \u001b[0;34m==\u001b[0m \u001b[0;34m'exited'\u001b[0m\u001b[0;34m:\u001b[0m\u001b[0;34m\u001b[0m\u001b[0;34m\u001b[0m\u001b[0m\n\u001b[1;32m    750\u001b[0m             \u001b[0;31m# The container has started and crashed.\u001b[0m\u001b[0;34m\u001b[0m\u001b[0;34m\u001b[0m\u001b[0;34m\u001b[0m\u001b[0m\n\u001b[0;32m--> 751\u001b[0;31m             _raise_for_container_failure(container, cleanup_if_failed,\n\u001b[0m\u001b[1;32m    752\u001b[0m                                          'Error: Container has crashed. Did your init method fail?')\n\u001b[1;32m    753\u001b[0m \u001b[0;34m\u001b[0m\u001b[0m\n",
            "\u001b[0;32m/anaconda/envs/azureml_py38/lib/python3.8/site-packages/azureml/_model_management/_util.py\u001b[0m in \u001b[0;36m_raise_for_container_failure\u001b[0;34m(container, cleanup, message)\u001b[0m\n\u001b[1;32m   1268\u001b[0m         \u001b[0mcleanup_container\u001b[0m\u001b[0;34m(\u001b[0m\u001b[0mcontainer\u001b[0m\u001b[0;34m)\u001b[0m\u001b[0;34m\u001b[0m\u001b[0;34m\u001b[0m\u001b[0m\n\u001b[1;32m   1269\u001b[0m \u001b[0;34m\u001b[0m\u001b[0m\n\u001b[0;32m-> 1270\u001b[0;31m     \u001b[0;32mraise\u001b[0m \u001b[0mWebserviceException\u001b[0m\u001b[0;34m(\u001b[0m\u001b[0mmessage\u001b[0m\u001b[0;34m,\u001b[0m \u001b[0mlogger\u001b[0m\u001b[0;34m=\u001b[0m\u001b[0mmodule_logger\u001b[0m\u001b[0;34m)\u001b[0m\u001b[0;34m\u001b[0m\u001b[0;34m\u001b[0m\u001b[0m\n\u001b[0m\u001b[1;32m   1271\u001b[0m \u001b[0;34m\u001b[0m\u001b[0m\n\u001b[1;32m   1272\u001b[0m \u001b[0;34m\u001b[0m\u001b[0m\n",
            "\u001b[0;31mWebserviceException\u001b[0m: WebserviceException:\n\tMessage: Error: Container has crashed. Did your init method fail?\n\tInnerException None\n\tErrorResponse \n{\n    \"error\": {\n        \"message\": \"Error: Container has crashed. Did your init method fail?\"\n    }\n}"
          ]
        }
      ],
      "execution_count": 8,
      "metadata": {
        "collapsed": true,
        "jupyter": {
          "source_hidden": false,
          "outputs_hidden": false
        },
        "nteract": {
          "transient": {
            "deleting": false
          }
        },
        "gather": {
          "logged": 1627030958968
        }
      }
    },
    {
      "cell_type": "markdown",
      "source": [
        "## Test with dummy query"
      ],
      "metadata": {
        "nteract": {
          "transient": {
            "deleting": false
          }
        }
      }
    },
    {
      "cell_type": "code",
      "source": [
        "import requests\r\n",
        "import json\r\n",
        "\r\n",
        "uri = service.scoring_uri\r\n",
        "requests.get('http://localhost:6789')\r\n",
        "headers = {'Content-Type': 'application/json'}\r\n",
        "data = {\"query\": \"What color is the fox\", \"context\": \"The quick brown fox jumped over the lazy dog.\"}\r\n",
        "data = json.dumps(data)\r\n",
        "response = requests.post(uri, data=data, headers=headers)\r\n",
        "print(response.json())"
      ],
      "outputs": [
        {
          "output_type": "error",
          "ename": "JSONDecodeError",
          "evalue": "Expecting value: line 1 column 1 (char 0)",
          "traceback": [
            "\u001b[0;31m---------------------------------------------------------------------------\u001b[0m",
            "\u001b[0;31mJSONDecodeError\u001b[0m                           Traceback (most recent call last)",
            "\u001b[0;32m/tmp/ipykernel_5290/3463415935.py\u001b[0m in \u001b[0;36m<module>\u001b[0;34m\u001b[0m\n\u001b[1;32m      8\u001b[0m \u001b[0mdata\u001b[0m \u001b[0;34m=\u001b[0m \u001b[0mjson\u001b[0m\u001b[0;34m.\u001b[0m\u001b[0mdumps\u001b[0m\u001b[0;34m(\u001b[0m\u001b[0mdata\u001b[0m\u001b[0;34m)\u001b[0m\u001b[0;34m\u001b[0m\u001b[0;34m\u001b[0m\u001b[0m\n\u001b[1;32m      9\u001b[0m \u001b[0mresponse\u001b[0m \u001b[0;34m=\u001b[0m \u001b[0mrequests\u001b[0m\u001b[0;34m.\u001b[0m\u001b[0mpost\u001b[0m\u001b[0;34m(\u001b[0m\u001b[0muri\u001b[0m\u001b[0;34m,\u001b[0m \u001b[0mdata\u001b[0m\u001b[0;34m=\u001b[0m\u001b[0mdata\u001b[0m\u001b[0;34m,\u001b[0m \u001b[0mheaders\u001b[0m\u001b[0;34m=\u001b[0m\u001b[0mheaders\u001b[0m\u001b[0;34m)\u001b[0m\u001b[0;34m\u001b[0m\u001b[0;34m\u001b[0m\u001b[0m\n\u001b[0;32m---> 10\u001b[0;31m \u001b[0mprint\u001b[0m\u001b[0;34m(\u001b[0m\u001b[0mresponse\u001b[0m\u001b[0;34m.\u001b[0m\u001b[0mjson\u001b[0m\u001b[0;34m(\u001b[0m\u001b[0;34m)\u001b[0m\u001b[0;34m)\u001b[0m\u001b[0;34m\u001b[0m\u001b[0;34m\u001b[0m\u001b[0m\n\u001b[0m",
            "\u001b[0;32m/anaconda/envs/azureml_py38/lib/python3.8/site-packages/requests/models.py\u001b[0m in \u001b[0;36mjson\u001b[0;34m(self, **kwargs)\u001b[0m\n\u001b[1;32m    898\u001b[0m                     \u001b[0;31m# used.\u001b[0m\u001b[0;34m\u001b[0m\u001b[0;34m\u001b[0m\u001b[0;34m\u001b[0m\u001b[0m\n\u001b[1;32m    899\u001b[0m                     \u001b[0;32mpass\u001b[0m\u001b[0;34m\u001b[0m\u001b[0;34m\u001b[0m\u001b[0m\n\u001b[0;32m--> 900\u001b[0;31m         \u001b[0;32mreturn\u001b[0m \u001b[0mcomplexjson\u001b[0m\u001b[0;34m.\u001b[0m\u001b[0mloads\u001b[0m\u001b[0;34m(\u001b[0m\u001b[0mself\u001b[0m\u001b[0;34m.\u001b[0m\u001b[0mtext\u001b[0m\u001b[0;34m,\u001b[0m \u001b[0;34m**\u001b[0m\u001b[0mkwargs\u001b[0m\u001b[0;34m)\u001b[0m\u001b[0;34m\u001b[0m\u001b[0;34m\u001b[0m\u001b[0m\n\u001b[0m\u001b[1;32m    901\u001b[0m \u001b[0;34m\u001b[0m\u001b[0m\n\u001b[1;32m    902\u001b[0m     \u001b[0;34m@\u001b[0m\u001b[0mproperty\u001b[0m\u001b[0;34m\u001b[0m\u001b[0;34m\u001b[0m\u001b[0m\n",
            "\u001b[0;32m/anaconda/envs/azureml_py38/lib/python3.8/json/__init__.py\u001b[0m in \u001b[0;36mloads\u001b[0;34m(s, cls, object_hook, parse_float, parse_int, parse_constant, object_pairs_hook, **kw)\u001b[0m\n\u001b[1;32m    355\u001b[0m             \u001b[0mparse_int\u001b[0m \u001b[0;32mis\u001b[0m \u001b[0;32mNone\u001b[0m \u001b[0;32mand\u001b[0m \u001b[0mparse_float\u001b[0m \u001b[0;32mis\u001b[0m \u001b[0;32mNone\u001b[0m \u001b[0;32mand\u001b[0m\u001b[0;34m\u001b[0m\u001b[0;34m\u001b[0m\u001b[0m\n\u001b[1;32m    356\u001b[0m             parse_constant is None and object_pairs_hook is None and not kw):\n\u001b[0;32m--> 357\u001b[0;31m         \u001b[0;32mreturn\u001b[0m \u001b[0m_default_decoder\u001b[0m\u001b[0;34m.\u001b[0m\u001b[0mdecode\u001b[0m\u001b[0;34m(\u001b[0m\u001b[0ms\u001b[0m\u001b[0;34m)\u001b[0m\u001b[0;34m\u001b[0m\u001b[0;34m\u001b[0m\u001b[0m\n\u001b[0m\u001b[1;32m    358\u001b[0m     \u001b[0;32mif\u001b[0m \u001b[0mcls\u001b[0m \u001b[0;32mis\u001b[0m \u001b[0;32mNone\u001b[0m\u001b[0;34m:\u001b[0m\u001b[0;34m\u001b[0m\u001b[0;34m\u001b[0m\u001b[0m\n\u001b[1;32m    359\u001b[0m         \u001b[0mcls\u001b[0m \u001b[0;34m=\u001b[0m \u001b[0mJSONDecoder\u001b[0m\u001b[0;34m\u001b[0m\u001b[0;34m\u001b[0m\u001b[0m\n",
            "\u001b[0;32m/anaconda/envs/azureml_py38/lib/python3.8/json/decoder.py\u001b[0m in \u001b[0;36mdecode\u001b[0;34m(self, s, _w)\u001b[0m\n\u001b[1;32m    335\u001b[0m \u001b[0;34m\u001b[0m\u001b[0m\n\u001b[1;32m    336\u001b[0m         \"\"\"\n\u001b[0;32m--> 337\u001b[0;31m         \u001b[0mobj\u001b[0m\u001b[0;34m,\u001b[0m \u001b[0mend\u001b[0m \u001b[0;34m=\u001b[0m \u001b[0mself\u001b[0m\u001b[0;34m.\u001b[0m\u001b[0mraw_decode\u001b[0m\u001b[0;34m(\u001b[0m\u001b[0ms\u001b[0m\u001b[0;34m,\u001b[0m \u001b[0midx\u001b[0m\u001b[0;34m=\u001b[0m\u001b[0m_w\u001b[0m\u001b[0;34m(\u001b[0m\u001b[0ms\u001b[0m\u001b[0;34m,\u001b[0m \u001b[0;36m0\u001b[0m\u001b[0;34m)\u001b[0m\u001b[0;34m.\u001b[0m\u001b[0mend\u001b[0m\u001b[0;34m(\u001b[0m\u001b[0;34m)\u001b[0m\u001b[0;34m)\u001b[0m\u001b[0;34m\u001b[0m\u001b[0;34m\u001b[0m\u001b[0m\n\u001b[0m\u001b[1;32m    338\u001b[0m         \u001b[0mend\u001b[0m \u001b[0;34m=\u001b[0m \u001b[0m_w\u001b[0m\u001b[0;34m(\u001b[0m\u001b[0ms\u001b[0m\u001b[0;34m,\u001b[0m \u001b[0mend\u001b[0m\u001b[0;34m)\u001b[0m\u001b[0;34m.\u001b[0m\u001b[0mend\u001b[0m\u001b[0;34m(\u001b[0m\u001b[0;34m)\u001b[0m\u001b[0;34m\u001b[0m\u001b[0;34m\u001b[0m\u001b[0m\n\u001b[1;32m    339\u001b[0m         \u001b[0;32mif\u001b[0m \u001b[0mend\u001b[0m \u001b[0;34m!=\u001b[0m \u001b[0mlen\u001b[0m\u001b[0;34m(\u001b[0m\u001b[0ms\u001b[0m\u001b[0;34m)\u001b[0m\u001b[0;34m:\u001b[0m\u001b[0;34m\u001b[0m\u001b[0;34m\u001b[0m\u001b[0m\n",
            "\u001b[0;32m/anaconda/envs/azureml_py38/lib/python3.8/json/decoder.py\u001b[0m in \u001b[0;36mraw_decode\u001b[0;34m(self, s, idx)\u001b[0m\n\u001b[1;32m    353\u001b[0m             \u001b[0mobj\u001b[0m\u001b[0;34m,\u001b[0m \u001b[0mend\u001b[0m \u001b[0;34m=\u001b[0m \u001b[0mself\u001b[0m\u001b[0;34m.\u001b[0m\u001b[0mscan_once\u001b[0m\u001b[0;34m(\u001b[0m\u001b[0ms\u001b[0m\u001b[0;34m,\u001b[0m \u001b[0midx\u001b[0m\u001b[0;34m)\u001b[0m\u001b[0;34m\u001b[0m\u001b[0;34m\u001b[0m\u001b[0m\n\u001b[1;32m    354\u001b[0m         \u001b[0;32mexcept\u001b[0m \u001b[0mStopIteration\u001b[0m \u001b[0;32mas\u001b[0m \u001b[0merr\u001b[0m\u001b[0;34m:\u001b[0m\u001b[0;34m\u001b[0m\u001b[0;34m\u001b[0m\u001b[0m\n\u001b[0;32m--> 355\u001b[0;31m             \u001b[0;32mraise\u001b[0m \u001b[0mJSONDecodeError\u001b[0m\u001b[0;34m(\u001b[0m\u001b[0;34m\"Expecting value\"\u001b[0m\u001b[0;34m,\u001b[0m \u001b[0ms\u001b[0m\u001b[0;34m,\u001b[0m \u001b[0merr\u001b[0m\u001b[0;34m.\u001b[0m\u001b[0mvalue\u001b[0m\u001b[0;34m)\u001b[0m \u001b[0;32mfrom\u001b[0m \u001b[0;32mNone\u001b[0m\u001b[0;34m\u001b[0m\u001b[0;34m\u001b[0m\u001b[0m\n\u001b[0m\u001b[1;32m    356\u001b[0m         \u001b[0;32mreturn\u001b[0m \u001b[0mobj\u001b[0m\u001b[0;34m,\u001b[0m \u001b[0mend\u001b[0m\u001b[0;34m\u001b[0m\u001b[0;34m\u001b[0m\u001b[0m\n",
            "\u001b[0;31mJSONDecodeError\u001b[0m: Expecting value: line 1 column 1 (char 0)"
          ]
        }
      ],
      "execution_count": 32,
      "metadata": {
        "collapsed": true,
        "jupyter": {
          "source_hidden": false,
          "outputs_hidden": false
        },
        "nteract": {
          "transient": {
            "deleting": false
          }
        },
        "gather": {
          "logged": 1627030972698
        }
      }
    },
    {
      "cell_type": "markdown",
      "source": [
        "## Final entry script"
      ],
      "metadata": {
        "nteract": {
          "transient": {
            "deleting": false
          }
        }
      }
    },
    {
      "cell_type": "code",
      "source": [
        "%%writefile script_folder/score.py\r\n",
        "\r\n",
        "import os\r\n",
        "import pandas as pd\r\n",
        "import numpy as np\r\n",
        "import json\r\n",
        "import io\r\n",
        "\r\n",
        "from tensorflow import keras\r\n",
        "\r\n",
        "\r\n",
        "\r\n",
        "\r\n",
        "from azureml.core.model import Model\r\n",
        "\r\n",
        "\r\n",
        "import json\r\n",
        "\r\n",
        "def init():\r\n",
        "    print('***************This is init************************************')\r\n",
        "    global model # variable needs to be global to be used in run()\r\n",
        "    model = keras.models.load_model(Model.get_model_path('FCN8_final'))\r\n",
        "    print('***************Model loaded************************************')\r\n",
        "\r\n",
        "def run(request):\r\n",
        "    #Load data\r\n",
        "    print(\"loading request\")\r\n",
        "\r\n",
        "    #deserialized image\r\n",
        "    memfile = io.BytesIO()\r\n",
        "    memfile.write(json.loads(request).encode('latin-1'))\r\n",
        "    memfile.seek(0)\r\n",
        "    X = np.load(memfile).reshape(1,128,256,3)\r\n",
        "    print(f\" the shape of X is {np.shape(X)}\")      \r\n",
        "    \r\n",
        "\r\n",
        "    #Run inference\r\n",
        "    y_pred = model.predict(X)\r\n",
        "    #serialize results\r\n",
        "    memfile = io.BytesIO()\r\n",
        "    np.save(memfile, y_pred)\r\n",
        "    memfile.seek(0)\r\n",
        "    prediction = json.dumps(memfile.read().decode('latin-1'))\r\n",
        "    \r\n",
        "    return (prediction)\r\n"
      ],
      "outputs": [
        {
          "output_type": "stream",
          "name": "stdout",
          "text": [
            "Overwriting script_folder/score.py\n"
          ]
        }
      ],
      "execution_count": 9,
      "metadata": {
        "collapsed": true,
        "jupyter": {
          "source_hidden": false,
          "outputs_hidden": false
        },
        "nteract": {
          "transient": {
            "deleting": false
          }
        }
      }
    },
    {
      "cell_type": "markdown",
      "source": [
        "## Custom environment"
      ],
      "metadata": {
        "nteract": {
          "transient": {
            "deleting": false
          }
        }
      }
    },
    {
      "cell_type": "code",
      "source": [
        "env = Environment.get(workspace=ws, name='AzureML-TensorFlow-2.2-CPU')\r\n",
        "#env = Environment.get(workspace=ws, name='AzureML-tensorflow-2.4-ubuntu18.04-py37-cpu-inference')\r\n",
        "curated_clone = env.clone(\"customize_curated\") # clone the environment to customize it\r\n"
      ],
      "outputs": [],
      "execution_count": 13,
      "metadata": {
        "collapsed": true,
        "jupyter": {
          "source_hidden": false,
          "outputs_hidden": false
        },
        "nteract": {
          "transient": {
            "deleting": false
          }
        },
        "gather": {
          "logged": 1628843560776
        }
      }
    },
    {
      "cell_type": "code",
      "source": [
        "# Install nedded packages (can read from requirements.txt )\r\n",
        "python_packages=['Keras==2.4.3','tensorflow==2.3.0','pandas==1.1.5']\r\n",
        "for package in python_packages:\r\n",
        "    curated_clone.python.conda_dependencies.add_pip_package(package)"
      ],
      "outputs": [],
      "execution_count": 25,
      "metadata": {
        "collapsed": true,
        "jupyter": {
          "source_hidden": false,
          "outputs_hidden": false
        },
        "nteract": {
          "transient": {
            "deleting": false
          }
        },
        "gather": {
          "logged": 1628845075511
        }
      }
    },
    {
      "cell_type": "markdown",
      "source": [
        "## new inference config"
      ],
      "metadata": {
        "nteract": {
          "transient": {
            "deleting": false
          }
        }
      }
    },
    {
      "cell_type": "code",
      "source": [
        "inf_config = InferenceConfig(environment=curated_clone, source_directory='./script_folder', entry_script='./score.py')"
      ],
      "outputs": [],
      "execution_count": 26,
      "metadata": {
        "collapsed": true,
        "jupyter": {
          "source_hidden": false,
          "outputs_hidden": false
        },
        "nteract": {
          "transient": {
            "deleting": false
          }
        },
        "gather": {
          "logged": 1628845079157
        }
      }
    },
    {
      "cell_type": "markdown",
      "source": [
        "## deploy Localy"
      ],
      "metadata": {
        "nteract": {
          "transient": {
            "deleting": false
          }
        }
      }
    },
    {
      "cell_type": "code",
      "source": [
        "pd.__version__"
      ],
      "outputs": [
        {
          "output_type": "execute_result",
          "execution_count": 21,
          "data": {
            "text/plain": "'1.3.0'"
          },
          "metadata": {}
        }
      ],
      "execution_count": 21,
      "metadata": {
        "collapsed": true,
        "jupyter": {
          "source_hidden": false,
          "outputs_hidden": false
        },
        "nteract": {
          "transient": {
            "deleting": false
          }
        },
        "gather": {
          "logged": 1628844484055
        }
      }
    },
    {
      "cell_type": "code",
      "source": [
        "service = Model.deploy(ws, \"myservice\", [model], inf_config, deploy_config)\r\n",
        "service.wait_for_deployment(show_output=True)\r\n",
        "print(service.get_logs())"
      ],
      "outputs": [
        {
          "output_type": "stream",
          "name": "stdout",
          "text": [
            "Downloading model FCN8_final:1 to /tmp/azureml_gq5s440i/FCN8_final/1\n",
            "Generating Docker build context.\n",
            "2021/08/13 08:58:19 Downloading source code...\n",
            "2021/08/13 08:58:20 Finished downloading source code\n",
            "2021/08/13 08:58:21 Creating Docker network: acb_default_network, driver: 'bridge'\n",
            "2021/08/13 08:58:21 Successfully set up Docker network: acb_default_network\n",
            "2021/08/13 08:58:21 Setting up Docker configuration...\n",
            "2021/08/13 08:58:22 Successfully set up Docker configuration\n",
            "2021/08/13 08:58:22 Logging in to registry: 86fbece3485341c6a3c756a0ad684952.azurecr.io\n",
            "2021/08/13 08:58:23 Successfully logged into 86fbece3485341c6a3c756a0ad684952.azurecr.io\n",
            "2021/08/13 08:58:23 Executing step ID: acb_step_0. Timeout(sec): 5400, Working directory: '', Network: 'acb_default_network'\n",
            "2021/08/13 08:58:23 Scanning for dependencies...\n",
            "2021/08/13 08:58:24 Successfully scanned dependencies\n",
            "2021/08/13 08:58:24 Launching container with name: acb_step_0\n",
            "Sending build context to Docker daemon  66.56kB\n",
            "Step 1/18 : FROM mcr.microsoft.com/azureml/openmpi3.1.2-ubuntu18.04:20210806.v1@sha256:bb94557d668c1cebffb04d0a77aa461776f697753fb9ddf2784f8e65f47ff47c\n",
            "mcr.microsoft.com/azureml/openmpi3.1.2-ubuntu18.04:20210806.v1@sha256:bb94557d668c1cebffb04d0a77aa461776f697753fb9ddf2784f8e65f47ff47c: Pulling from azureml/openmpi3.1.2-ubuntu18.04\n",
            "feac53061382: Pulling fs layer\n",
            "7dce5c8175d6: Pulling fs layer\n",
            "0a1b9502ed8f: Pulling fs layer\n",
            "d187f505e8b8: Pulling fs layer\n",
            "c7a3c00b133d: Pulling fs layer\n",
            "31b816123763: Pulling fs layer\n",
            "37b899c2505c: Pulling fs layer\n",
            "abda0175e0e2: Pulling fs layer\n",
            "19d6148ce542: Pulling fs layer\n",
            "d187f505e8b8: Waiting\n",
            "c7a3c00b133d: Waiting\n",
            "31b816123763: Waiting\n",
            "37b899c2505c: Waiting\n",
            "abda0175e0e2: Waiting\n",
            "19d6148ce542: Waiting\n",
            "feac53061382: Verifying Checksum\n",
            "feac53061382: Download complete\n",
            "0a1b9502ed8f: Verifying Checksum\n",
            "0a1b9502ed8f: Download complete\n",
            "d187f505e8b8: Verifying Checksum\n",
            "d187f505e8b8: Download complete\n",
            "31b816123763: Verifying Checksum\n",
            "31b816123763: Download complete\n",
            "c7a3c00b133d: Verifying Checksum\n",
            "c7a3c00b133d: Download complete\n",
            "7dce5c8175d6: Verifying Checksum\n",
            "7dce5c8175d6: Download complete\n",
            "abda0175e0e2: Verifying Checksum\n",
            "abda0175e0e2: Download complete\n",
            "19d6148ce542: Verifying Checksum\n",
            "19d6148ce542: Download complete\n",
            "37b899c2505c: Verifying Checksum\n",
            "37b899c2505c: Download complete\n",
            "feac53061382: Pull complete\n",
            "7dce5c8175d6: Pull complete\n",
            "0a1b9502ed8f: Pull complete\n",
            "d187f505e8b8: Pull complete\n",
            "c7a3c00b133d: Pull complete\n",
            "31b816123763: Pull complete\n",
            "37b899c2505c: Pull complete\n",
            "abda0175e0e2: Pull complete\n",
            "19d6148ce542: Pull complete\n",
            "Digest: sha256:bb94557d668c1cebffb04d0a77aa461776f697753fb9ddf2784f8e65f47ff47c\n",
            "Status: Downloaded newer image for mcr.microsoft.com/azureml/openmpi3.1.2-ubuntu18.04:20210806.v1@sha256:bb94557d668c1cebffb04d0a77aa461776f697753fb9ddf2784f8e65f47ff47c\n",
            " ---> 82e13edbc8db\n",
            "Step 2/18 : USER root\n",
            " ---> Running in df2200dca7b6\n",
            "Removing intermediate container df2200dca7b6\n",
            " ---> d15ecc553985\n",
            "Step 3/18 : RUN mkdir -p $HOME/.cache\n",
            " ---> Running in c994b5239f42\n",
            "Removing intermediate container c994b5239f42\n",
            " ---> bf3f6007722f\n",
            "Step 4/18 : WORKDIR /\n",
            " ---> Running in 8c977b93a13f\n",
            "Removing intermediate container 8c977b93a13f\n",
            " ---> 9194ac5aaa19\n",
            "Step 5/18 : COPY azureml-environment-setup/99brokenproxy /etc/apt/apt.conf.d/\n",
            " ---> f61349f24ca0\n",
            "Step 6/18 : RUN if dpkg --compare-versions `conda --version | grep -oE '[^ ]+$'` lt 4.4.11; then conda install conda==4.4.11; fi\n",
            " ---> Running in 3afd787a1860\n",
            "Removing intermediate container 3afd787a1860\n",
            " ---> bb3e7d1f67b3\n",
            "Step 7/18 : COPY azureml-environment-setup/mutated_conda_dependencies.yml azureml-environment-setup/mutated_conda_dependencies.yml\n",
            " ---> f6bf7b6e8fb5\n",
            "Step 8/18 : RUN ldconfig /usr/local/cuda/lib64/stubs && conda env create -p /azureml-envs/azureml_19dd65bcd86dcb810b8fda779ddd07f8 -f azureml-environment-setup/mutated_conda_dependencies.yml && rm -rf \"$HOME/.cache/pip\" && conda clean -aqy && CONDA_ROOT_DIR=$(conda info --root) && rm -rf \"$CONDA_ROOT_DIR/pkgs\" && find \"$CONDA_ROOT_DIR\" -type d -name __pycache__ -exec rm -rf {} + && ldconfig\n",
            " ---> Running in a23e08b8fdae\n",
            "Warning: you have pip-installed dependencies in your environment file, but you do not list pip itself as one of your conda dependencies.  Conda may not use the correct pip to install your packages, and they may end up in the wrong place.  Please add an explicit pip dependency.  I'm adding one for you, but still nagging you.\n",
            "Collecting package metadata (repodata.json): ...working... \n",
            "done\n",
            "Solving environment: ...working... done\n",
            "\n",
            "Downloading and Extracting Packages\n",
            "libgcc-ng-11.1.0     | 908 KB    | ########## | 100% \n",
            "setuptools-49.6.0    | 936 KB    | ########## | 100% \n",
            "ncurses-5.9          | 1.1 MB    | ########## | 100% \n",
            "readline-6.2         | 713 KB    | ########## | 100% \n",
            "ca-certificates-2021 | 136 KB    | ########## | 100% \n",
            "libgomp-11.1.0       | 427 KB    | ########## | 100% \n",
            "openssl-1.0.2u       | 3.2 MB    | ########## | 100% \n",
            "wheel-0.37.0         | 31 KB     | ########## | 100% \n",
            "certifi-2021.5.30    | 141 KB    | ########## | 100% \n",
            "pip-21.2.4           | 1.1 MB    | ########## | 100% \n",
            "_openmp_mutex-4.5    | 22 KB     | ########## | 100% \n",
            "sqlite-3.13.0        | 4.9 MB    | ########## | 100% \n",
            "xz-5.2.5             | 343 KB    | ########## | 100% \n",
            "zlib-1.2.11          | 106 KB    | ########## | 100% \n",
            "python-3.6.2         | 19.0 MB   | ########## | 100% \n",
            "python_abi-3.6       | 4 KB      | ########## | 100% \n",
            "_libgcc_mutex-0.1    | 3 KB      | ########## | 100% \n",
            "tk-8.5.19            | 1.9 MB    | ########## | 100% \n",
            "Preparing transaction: ...working... done\n",
            "Verifying transaction: ...working... done\n",
            "Executing transaction: ...working... done\n",
            "Installing pip dependencies: ...working... \n",
            "Ran pip subprocess with arguments:\n",
            "['/azureml-envs/azureml_19dd65bcd86dcb810b8fda779ddd07f8/bin/python', '-m', 'pip', 'install', '-U', '-r', '/azureml-environment-setup/condaenv.ml_eo174.requirements.txt']\n",
            "Pip subprocess output:\n",
            "Collecting azureml-core==1.33.0\n",
            "  Downloading azureml_core-1.33.0-py3-none-any.whl (2.2 MB)\n",
            "Collecting azureml-defaults==1.33.0\n",
            "  Downloading azureml_defaults-1.33.0-py3-none-any.whl (3.1 kB)\n",
            "Collecting azureml-telemetry==1.33.0\n",
            "  Downloading azureml_telemetry-1.33.0-py3-none-any.whl (30 kB)\n",
            "Collecting azureml-train-restclients-hyperdrive==1.33.0\n",
            "  Downloading azureml_train_restclients_hyperdrive-1.33.0-py3-none-any.whl (19 kB)\n",
            "Collecting azureml-train-core==1.33.0\n",
            "  Downloading azureml_train_core-1.33.0-py3-none-any.whl (8.6 MB)\n",
            "Collecting horovod==0.19.5\n",
            "  Downloading horovod-0.19.5.tar.gz (2.9 MB)\n",
            "Collecting Keras==2.4.3\n",
            "  Downloading Keras-2.4.3-py2.py3-none-any.whl (36 kB)\n",
            "Collecting tensorflow==2.3.0\n",
            "  Downloading tensorflow-2.3.0-cp36-cp36m-manylinux2010_x86_64.whl (320.4 MB)\n",
            "Collecting pandas==1.1.5\n",
            "  Downloading pandas-1.1.5-cp36-cp36m-manylinux1_x86_64.whl (9.5 MB)\n",
            "Collecting azure-mgmt-keyvault<10.0.0,>=0.40.0\n",
            "  Downloading azure_mgmt_keyvault-9.0.0-py2.py3-none-any.whl (312 kB)\n",
            "Collecting pathspec<1.0.0\n",
            "  Downloading pathspec-0.9.0-py2.py3-none-any.whl (31 kB)\n",
            "Collecting azure-graphrbac<1.0.0,>=0.40.0\n",
            "  Downloading azure_graphrbac-0.61.1-py2.py3-none-any.whl (141 kB)\n",
            "Collecting msrestazure<=0.6.4,>=0.4.33\n",
            "  Downloading msrestazure-0.6.4-py2.py3-none-any.whl (40 kB)\n",
            "Collecting azure-mgmt-containerregistry>=2.0.0\n",
            "  Downloading azure_mgmt_containerregistry-8.1.0-py2.py3-none-any.whl (796 kB)\n",
            "Collecting contextlib2<1.0.0\n",
            "  Downloading contextlib2-0.6.0.post1-py2.py3-none-any.whl (9.8 kB)\n",
            "Collecting urllib3<=1.26.5,>=1.23\n",
            "  Downloading urllib3-1.26.5-py2.py3-none-any.whl (138 kB)\n",
            "Collecting pytz\n",
            "  Downloading pytz-2021.1-py2.py3-none-any.whl (510 kB)\n",
            "Collecting cryptography!=1.9,!=2.0.*,!=2.1.*,!=2.2.*,<4.0.0\n",
            "  Downloading cryptography-3.4.7-cp36-abi3-manylinux2014_x86_64.whl (3.2 MB)\n",
            "Collecting python-dateutil<3.0.0,>=2.7.3\n",
            "  Downloading python_dateutil-2.8.2-py2.py3-none-any.whl (247 kB)\n",
            "Collecting azure-common<2.0.0,>=1.1.12\n",
            "  Downloading azure_common-1.1.27-py2.py3-none-any.whl (12 kB)\n",
            "Collecting azure-mgmt-resource<15.0.0,>=1.2.1\n",
            "  Downloading azure_mgmt_resource-13.0.0-py2.py3-none-any.whl (1.3 MB)\n",
            "Collecting ndg-httpsclient<=0.5.1\n",
            "  Downloading ndg_httpsclient-0.5.1-py3-none-any.whl (34 kB)\n",
            "Collecting SecretStorage<4.0.0\n",
            "  Downloading SecretStorage-3.3.1-py3-none-any.whl (15 kB)\n",
            "Collecting docker<5.0.0\n",
            "  Downloading docker-4.4.4-py2.py3-none-any.whl (147 kB)\n",
            "Collecting requests<3.0.0,>=2.19.1\n",
            "  Downloading requests-2.26.0-py2.py3-none-any.whl (62 kB)\n",
            "Collecting PyJWT<3.0.0\n",
            "  Downloading PyJWT-2.1.0-py3-none-any.whl (16 kB)\n",
            "Collecting pyopenssl<21.0.0\n",
            "  Downloading pyOpenSSL-20.0.1-py2.py3-none-any.whl (54 kB)\n",
            "Collecting msrest<1.0.0,>=0.5.1\n",
            "  Downloading msrest-0.6.21-py2.py3-none-any.whl (85 kB)\n",
            "Collecting ruamel.yaml<0.17.5,>=0.15.35\n",
            "  Downloading ruamel.yaml-0.17.4-py3-none-any.whl (101 kB)\n",
            "Collecting adal<=1.2.7,>=1.2.0\n",
            "  Downloading adal-1.2.7-py2.py3-none-any.whl (55 kB)\n",
            "Collecting azure-mgmt-storage<16.0.0,>=1.5.0\n",
            "  Downloading azure_mgmt_storage-11.2.0-py2.py3-none-any.whl (547 kB)\n",
            "Collecting jmespath<1.0.0\n",
            "  Downloading jmespath-0.10.0-py2.py3-none-any.whl (24 kB)\n",
            "Collecting jsonpickle<3.0.0\n",
            "  Downloading jsonpickle-2.0.0-py2.py3-none-any.whl (37 kB)\n",
            "Collecting backports.tempfile\n",
            "  Downloading backports.tempfile-1.0-py2.py3-none-any.whl (4.4 kB)\n",
            "Collecting azure-mgmt-authorization<1.0.0,>=0.40.0\n",
            "  Downloading azure_mgmt_authorization-0.61.0-py2.py3-none-any.whl (94 kB)\n",
            "Collecting gunicorn==20.1.0\n",
            "  Downloading gunicorn-20.1.0-py3-none-any.whl (79 kB)\n",
            "Collecting applicationinsights>=0.11.7\n",
            "  Downloading applicationinsights-0.11.10-py2.py3-none-any.whl (55 kB)\n",
            "Collecting werkzeug<=1.0.1,>=0.16.1\n",
            "  Downloading Werkzeug-1.0.1-py2.py3-none-any.whl (298 kB)\n",
            "Collecting json-logging-py==0.2\n",
            "  Downloading json-logging-py-0.2.tar.gz (3.6 kB)\n",
            "Collecting configparser==3.7.4\n",
            "  Downloading configparser-3.7.4-py2.py3-none-any.whl (22 kB)\n",
            "Collecting azureml-dataset-runtime[fuse]~=1.33.0\n",
            "  Downloading azureml_dataset_runtime-1.33.0-py3-none-any.whl (3.5 kB)\n",
            "Collecting opencensus-ext-azure==1.0.8\n",
            "  Downloading opencensus_ext_azure-1.0.8-py2.py3-none-any.whl (35 kB)\n",
            "Collecting flask==1.0.3\n",
            "  Downloading Flask-1.0.3-py2.py3-none-any.whl (92 kB)\n",
            "Collecting cloudpickle\n",
            "  Downloading cloudpickle-1.6.0-py3-none-any.whl (23 kB)\n",
            "Collecting psutil\n",
            "  Downloading psutil-5.8.0-cp36-cp36m-manylinux2010_x86_64.whl (291 kB)\n",
            "Collecting pyyaml\n",
            "  Downloading PyYAML-5.4.1-cp36-cp36m-manylinux1_x86_64.whl (640 kB)\n",
            "Collecting six\n",
            "  Downloading six-1.16.0-py2.py3-none-any.whl (11 kB)\n",
            "Collecting cffi>=1.4.0\n",
            "  Downloading cffi-1.14.6-cp36-cp36m-manylinux1_x86_64.whl (401 kB)\n",
            "Collecting numpy>=1.9.1\n",
            "  Downloading numpy-1.19.5-cp36-cp36m-manylinux2010_x86_64.whl (14.8 MB)\n",
            "Collecting h5py\n",
            "  Downloading h5py-3.1.0-cp36-cp36m-manylinux1_x86_64.whl (4.0 MB)\n",
            "Collecting scipy>=0.14\n",
            "  Downloading scipy-1.5.4-cp36-cp36m-manylinux1_x86_64.whl (25.9 MB)\n",
            "Collecting opt-einsum>=2.3.2\n",
            "  Downloading opt_einsum-3.3.0-py3-none-any.whl (65 kB)\n",
            "Collecting scipy>=0.14\n",
            "  Downloading scipy-1.4.1-cp36-cp36m-manylinux1_x86_64.whl (26.1 MB)\n",
            "Collecting astunparse==1.6.3\n",
            "  Downloading astunparse-1.6.3-py2.py3-none-any.whl (12 kB)\n",
            "Requirement already satisfied: wheel>=0.26 in /azureml-envs/azureml_19dd65bcd86dcb810b8fda779ddd07f8/lib/python3.6/site-packages (from tensorflow==2.3.0->-r /azureml-environment-setup/condaenv.ml_eo174.requirements.txt (line 8)) (0.37.0)\n",
            "Collecting grpcio>=1.8.6\n",
            "  Downloading grpcio-1.39.0-cp36-cp36m-manylinux2014_x86_64.whl (4.3 MB)\n",
            "Collecting tensorboard<3,>=2.3.0\n",
            "  Downloading tensorboard-2.6.0-py3-none-any.whl (5.6 MB)\n",
            "Collecting google-pasta>=0.1.8\n",
            "  Downloading google_pasta-0.2.0-py3-none-any.whl (57 kB)\n",
            "Collecting wrapt>=1.11.1\n",
            "  Downloading wrapt-1.12.1.tar.gz (27 kB)\n",
            "Collecting absl-py>=0.7.0\n",
            "  Downloading absl_py-0.13.0-py3-none-any.whl (132 kB)\n",
            "Collecting tensorflow-estimator<2.4.0,>=2.3.0\n",
            "  Downloading tensorflow_estimator-2.3.0-py2.py3-none-any.whl (459 kB)\n",
            "Collecting termcolor>=1.1.0\n",
            "  Downloading termcolor-1.1.0.tar.gz (3.9 kB)\n",
            "Collecting protobuf>=3.9.2\n",
            "  Downloading protobuf-3.17.3-cp36-cp36m-manylinux_2_5_x86_64.manylinux1_x86_64.whl (1.0 MB)\n",
            "Collecting gast==0.3.3\n",
            "  Downloading gast-0.3.3-py2.py3-none-any.whl (9.7 kB)\n",
            "Collecting numpy>=1.9.1\n",
            "  Downloading numpy-1.18.5-cp36-cp36m-manylinux1_x86_64.whl (20.1 MB)\n",
            "Collecting keras-preprocessing<1.2,>=1.1.1\n",
            "  Downloading Keras_Preprocessing-1.1.2-py2.py3-none-any.whl (42 kB)\n",
            "Collecting h5py\n",
            "  Downloading h5py-2.10.0-cp36-cp36m-manylinux1_x86_64.whl (2.9 MB)\n",
            "Collecting click>=5.1\n",
            "  Downloading click-8.0.1-py3-none-any.whl (97 kB)\n",
            "Collecting itsdangerous>=0.24\n",
            "  Downloading itsdangerous-2.0.1-py3-none-any.whl (18 kB)\n",
            "Collecting Jinja2>=2.10\n",
            "  Downloading Jinja2-3.0.1-py3-none-any.whl (133 kB)\n",
            "Requirement already satisfied: setuptools>=3.0 in /azureml-envs/azureml_19dd65bcd86dcb810b8fda779ddd07f8/lib/python3.6/site-packages (from gunicorn==20.1.0->azureml-defaults==1.33.0->-r /azureml-environment-setup/condaenv.ml_eo174.requirements.txt (line 2)) (49.6.0.post20210108)\n",
            "Collecting opencensus<1.0.0,>=0.7.13\n",
            "  Downloading opencensus-0.7.13-py2.py3-none-any.whl (127 kB)\n",
            "Collecting azure-mgmt-core<2.0.0,>=1.2.0\n",
            "  Downloading azure_mgmt_core-1.3.0-py2.py3-none-any.whl (25 kB)\n",
            "Collecting azure-core<2.0.0,>=1.15.0\n",
            "  Downloading azure_core-1.17.0-py2.py3-none-any.whl (165 kB)\n",
            "Collecting pyarrow<4.0.0,>=0.17.0\n",
            "  Downloading pyarrow-3.0.0-cp36-cp36m-manylinux2014_x86_64.whl (20.7 MB)\n",
            "Collecting azureml-dataprep<2.21.0a,>=2.20.0a\n",
            "  Downloading azureml_dataprep-2.20.1-py3-none-any.whl (39.4 MB)\n",
            "Collecting fusepy<4.0.0,>=3.0.1\n",
            "  Downloading fusepy-3.0.1.tar.gz (11 kB)\n",
            "Collecting azureml-dataprep-rslex<1.19.0a,>=1.18.0dev0\n",
            "  Downloading azureml_dataprep_rslex-1.18.1-cp36-cp36m-manylinux1_x86_64.whl (10.4 MB)\n",
            "Collecting azure-identity<1.5.0,>=1.2.0\n",
            "  Downloading azure_identity-1.4.1-py2.py3-none-any.whl (86 kB)\n",
            "Collecting azureml-dataprep-native<39.0.0,>=38.0.0\n",
            "  Downloading azureml_dataprep_native-38.0.0-cp36-cp36m-manylinux1_x86_64.whl (1.3 MB)\n",
            "Collecting dotnetcore2<3.0.0,>=2.1.14\n",
            "  Downloading dotnetcore2-2.1.21-py3-none-manylinux1_x86_64.whl (28.7 MB)\n",
            "Collecting msal-extensions~=0.2.2\n",
            "  Downloading msal_extensions-0.2.2-py2.py3-none-any.whl (15 kB)\n",
            "Collecting msal<2.0.0,>=1.3.0\n",
            "  Downloading msal-1.13.0-py2.py3-none-any.whl (67 kB)\n",
            "Collecting pycparser\n",
            "  Downloading pycparser-2.20-py2.py3-none-any.whl (112 kB)\n",
            "Collecting importlib-metadata\n",
            "  Downloading importlib_metadata-4.6.3-py3-none-any.whl (17 kB)\n",
            "Collecting websocket-client>=0.32.0\n",
            "  Downloading websocket_client-1.2.1-py2.py3-none-any.whl (52 kB)\n",
            "Collecting distro>=1.2.0\n",
            "  Downloading distro-1.6.0-py2.py3-none-any.whl (19 kB)\n",
            "Collecting MarkupSafe>=2.0\n",
            "  Downloading MarkupSafe-2.0.1-cp36-cp36m-manylinux_2_5_x86_64.manylinux1_x86_64.manylinux_2_12_x86_64.manylinux2010_x86_64.whl (30 kB)\n",
            "Collecting portalocker~=1.0\n",
            "  Downloading portalocker-1.7.1-py2.py3-none-any.whl (10 kB)\n",
            "Collecting requests-oauthlib>=0.5.0\n",
            "  Downloading requests_oauthlib-1.3.0-py2.py3-none-any.whl (23 kB)\n",
            "Requirement already satisfied: certifi>=2017.4.17 in /azureml-envs/azureml_19dd65bcd86dcb810b8fda779ddd07f8/lib/python3.6/site-packages (from msrest<1.0.0,>=0.5.1->azureml-core==1.33.0->-r /azureml-environment-setup/condaenv.ml_eo174.requirements.txt (line 1)) (2021.5.30)\n",
            "Collecting isodate>=0.6.0\n",
            "  Downloading isodate-0.6.0-py2.py3-none-any.whl (45 kB)\n",
            "Collecting pyasn1>=0.1.1\n",
            "  Downloading pyasn1-0.4.8-py2.py3-none-any.whl (77 kB)\n",
            "Collecting opencensus-context==0.1.2\n",
            "  Downloading opencensus_context-0.1.2-py2.py3-none-any.whl (4.4 kB)\n",
            "Collecting google-api-core<2.0.0,>=1.0.0\n",
            "  Downloading google_api_core-1.31.1-py2.py3-none-any.whl (93 kB)\n",
            "Collecting contextvars\n",
            "  Downloading contextvars-2.4.tar.gz (9.6 kB)\n",
            "Collecting google-auth<2.0dev,>=1.25.0\n",
            "  Downloading google_auth-1.34.0-py2.py3-none-any.whl (152 kB)\n",
            "Collecting packaging>=14.3\n",
            "  Downloading packaging-21.0-py3-none-any.whl (40 kB)\n",
            "Collecting googleapis-common-protos<2.0dev,>=1.6.0\n",
            "  Downloading googleapis_common_protos-1.53.0-py2.py3-none-any.whl (198 kB)\n",
            "Collecting pyasn1-modules>=0.2.1\n",
            "  Downloading pyasn1_modules-0.2.8-py2.py3-none-any.whl (155 kB)\n",
            "Collecting cachetools<5.0,>=2.0.0\n",
            "  Downloading cachetools-4.2.2-py3-none-any.whl (11 kB)\n",
            "Collecting rsa<5,>=3.1.4\n",
            "  Downloading rsa-4.7.2-py3-none-any.whl (34 kB)\n",
            "Collecting pyparsing>=2.0.2\n",
            "  Downloading pyparsing-2.4.7-py2.py3-none-any.whl (67 kB)\n",
            "Collecting charset-normalizer~=2.0.0\n",
            "  Downloading charset_normalizer-2.0.4-py3-none-any.whl (36 kB)\n",
            "Collecting idna<4,>=2.5\n",
            "  Downloading idna-3.2-py3-none-any.whl (59 kB)\n",
            "Collecting oauthlib>=3.0.0\n",
            "  Downloading oauthlib-3.1.1-py2.py3-none-any.whl (146 kB)\n",
            "Collecting ruamel.yaml.clib>=0.1.2\n",
            "  Downloading ruamel.yaml.clib-0.2.6-cp36-cp36m-manylinux1_x86_64.whl (552 kB)\n",
            "Collecting jeepney>=0.6\n",
            "  Downloading jeepney-0.7.1-py3-none-any.whl (54 kB)\n",
            "Collecting tensorboard-plugin-wit>=1.6.0\n",
            "  Downloading tensorboard_plugin_wit-1.8.0-py3-none-any.whl (781 kB)\n",
            "Collecting markdown>=2.6.8\n",
            "  Downloading Markdown-3.3.4-py3-none-any.whl (97 kB)\n",
            "Collecting tensorboard-data-server<0.7.0,>=0.6.0\n",
            "  Downloading tensorboard_data_server-0.6.1-py3-none-manylinux2010_x86_64.whl (4.9 MB)\n",
            "Collecting google-auth-oauthlib<0.5,>=0.4.1\n",
            "  Downloading google_auth_oauthlib-0.4.5-py2.py3-none-any.whl (18 kB)\n",
            "Collecting backports.weakref\n",
            "  Downloading backports.weakref-1.0.post1-py2.py3-none-any.whl (5.2 kB)\n",
            "Collecting immutables>=0.9\n",
            "  Downloading immutables-0.16-cp36-cp36m-manylinux_2_5_x86_64.manylinux1_x86_64.whl (103 kB)\n",
            "Collecting typing-extensions>=3.7.4.3\n",
            "  Downloading typing_extensions-3.10.0.0-py3-none-any.whl (26 kB)\n",
            "Collecting zipp>=0.5\n",
            "  Downloading zipp-3.5.0-py3-none-any.whl (5.7 kB)\n",
            "Building wheels for collected packages: horovod, json-logging-py, fusepy, termcolor, wrapt, contextvars\n",
            "  Building wheel for horovod (setup.py): started\n",
            "  Building wheel for horovod (setup.py): finished with status 'error'\n",
            "  Running setup.py clean for horovod\n",
            "  Building wheel for json-logging-py (setup.py): started\n",
            "  Building wheel for json-logging-py (setup.py): finished with status 'done'\n",
            "  Created wheel for json-logging-py: filename=json_logging_py-0.2-py3-none-any.whl size=3925 sha256=396f91a3484c306386d241d1330a726f7cb24ef772aea70b6f572a097ead08ea\n",
            "  Stored in directory: /root/.cache/pip/wheels/e2/1d/52/535a274b9c2ce7d4064838f2bdb62013801281ef7d7f21e2ee\n",
            "  Building wheel for fusepy (setup.py): started\n",
            "  Building wheel for fusepy (setup.py): finished with status 'done'\n",
            "  Created wheel for fusepy: filename=fusepy-3.0.1-py3-none-any.whl size=10502 sha256=1762691845dca6facb1c12bbfb6e43e37ff6aaa1f4d7c55f5805fe52cded0c6a\n",
            "  Stored in directory: /root/.cache/pip/wheels/21/5c/83/1dd7e8a232d12227e5410120f4374b33adeb4037473105b079\n",
            "  Building wheel for termcolor (setup.py): started\n",
            "  Building wheel for termcolor (setup.py): finished with status 'done'\n",
            "  Created wheel for termcolor: filename=termcolor-1.1.0-py3-none-any.whl size=4829 sha256=c73e99e201e1ba4296c10dfb97fdaaeb41a4231553c98748023587c67e28dae5\n",
            "  Stored in directory: /root/.cache/pip/wheels/93/2a/eb/e58dbcbc963549ee4f065ff80a59f274cc7210b6eab962acdc\n",
            "  Building wheel for wrapt (setup.py): started\n",
            "  Building wheel for wrapt (setup.py): finished with status 'done'\n",
            "  Created wheel for wrapt: filename=wrapt-1.12.1-cp36-cp36m-linux_x86_64.whl size=69918 sha256=b1f83f7aa6280b6b25633c02b8f57a8af75232fed548bc563a69672286f3c85a\n",
            "  Stored in directory: /root/.cache/pip/wheels/32/42/7f/23cae9ff6ef66798d00dc5d659088e57dbba01566f6c60db63\n",
            "  Building wheel for contextvars (setup.py): started\n",
            "  Building wheel for contextvars (setup.py): finished with status 'done'\n",
            "  Created wheel for contextvars: filename=contextvars-2.4-py3-none-any.whl size=7665 sha256=d5533cc11861169b01a41a8776c96dcb95bdb61e1fdfb32535f0f0b0df13244b\n",
            "  Stored in directory: /root/.cache/pip/wheels/41/11/53/911724983aa48deb94792432e14e518447212dd6c5477d49d3\n",
            "Successfully built json-logging-py fusepy termcolor wrapt contextvars\n",
            "Failed to build horovod\n",
            "Installing collected packages: pycparser, cffi, urllib3, PyJWT, idna, cryptography, charset-normalizer, six, requests, oauthlib, typing-extensions, requests-oauthlib, python-dateutil, pyasn1, portalocker, msal, isodate, zipp, rsa, pyparsing, pyasn1-modules, protobuf, msrest, msal-extensions, immutables, distro, cachetools, azure-core, adal, websocket-client, ruamel.yaml.clib, pytz, pyopenssl, packaging, numpy, msrestazure, jeepney, importlib-metadata, googleapis-common-protos, google-auth, dotnetcore2, contextvars, cloudpickle, backports.weakref, azureml-dataprep-rslex, azureml-dataprep-native, azure-mgmt-core, azure-identity, azure-common, SecretStorage, ruamel.yaml, pyarrow, pathspec, opencensus-context, ndg-httpsclient, MarkupSafe, jsonpickle, jmespath, google-api-core, docker, contextlib2, backports.tempfile, azureml-dataprep, azure-mgmt-storage, azure-mgmt-resource, azure-mgmt-keyvault, azure-mgmt-containerregistry, azure-mgmt-authorization, azure-graphrbac, werkzeug, tensorboard-plugin-wit, tensorboard-data-server, psutil, opencensus, markdown, Jinja2, itsdangerous, grpcio, google-auth-oauthlib, fusepy, click, azureml-dataset-runtime, azureml-core, applicationinsights, absl-py, wrapt, termcolor, tensorflow-estimator, tensorboard, scipy, pyyaml, opt-einsum, opencensus-ext-azure, keras-preprocessing, json-logging-py, h5py, gunicorn, google-pasta, gast, flask, configparser, azureml-train-restclients-hyperdrive, azureml-telemetry, astunparse, tensorflow, pandas, Keras, horovod, azureml-train-core, azureml-defaults\n",
            "    Running setup.py install for horovod: started\n",
            "    Running setup.py install for horovod: still running...\n",
            "    Running setup.py install for horovod: finished with status 'done'\n",
            "Successfully installed Jinja2-3.0.1 Keras-2.4.3 MarkupSafe-2.0.1 PyJWT-2.1.0 SecretStorage-3.3.1 absl-py-0.13.0 adal-1.2.7 applicationinsights-0.11.10 astunparse-1.6.3 azure-common-1.1.27 azure-core-1.17.0 azure-graphrbac-0.61.1 azure-identity-1.4.1 azure-mgmt-authorization-0.61.0 azure-mgmt-containerregistry-8.1.0 azure-mgmt-core-1.3.0 azure-mgmt-keyvault-9.0.0 azure-mgmt-resource-13.0.0 azure-mgmt-storage-11.2.0 azureml-core-1.33.0 azureml-dataprep-2.20.1 azureml-dataprep-native-38.0.0 azureml-dataprep-rslex-1.18.1 azureml-dataset-runtime-1.33.0 azureml-defaults-1.33.0 azureml-telemetry-1.33.0 azureml-train-core-1.33.0 azureml-train-restclients-hyperdrive-1.33.0 backports.tempfile-1.0 backports.weakref-1.0.post1 cachetools-4.2.2 cffi-1.14.6 charset-normalizer-2.0.4 click-8.0.1 cloudpickle-1.6.0 configparser-3.7.4 contextlib2-0.6.0.post1 contextvars-2.4 cryptography-3.4.7 distro-1.6.0 docker-4.4.4 dotnetcore2-2.1.21 flask-1.0.3 fusepy-3.0.1 gast-0.3.3 google-api-core-1.31.1 google-auth-1.34.0 google-auth-oauthlib-0.4.5 google-pasta-0.2.0 googleapis-common-protos-1.53.0 grpcio-1.39.0 gunicorn-20.1.0 h5py-2.10.0 horovod-0.19.5 idna-3.2 immutables-0.16 importlib-metadata-4.6.3 isodate-0.6.0 itsdangerous-2.0.1 jeepney-0.7.1 jmespath-0.10.0 json-logging-py-0.2 jsonpickle-2.0.0 keras-preprocessing-1.1.2 markdown-3.3.4 msal-1.13.0 msal-extensions-0.2.2 msrest-0.6.21 msrestazure-0.6.4 ndg-httpsclient-0.5.1 numpy-1.18.5 oauthlib-3.1.1 opencensus-0.7.13 opencensus-context-0.1.2 opencensus-ext-azure-1.0.8 opt-einsum-3.3.0 packaging-21.0 pandas-1.1.5 pathspec-0.9.0 portalocker-1.7.1 protobuf-3.17.3 psutil-5.8.0 pyarrow-3.0.0 pyasn1-0.4.8 pyasn1-modules-0.2.8 pycparser-2.20 pyopenssl-20.0.1 pyparsing-2.4.7 python-dateutil-2.8.2 pytz-2021.1 pyyaml-5.4.1 requests-2.26.0 requests-oauthlib-1.3.0 rsa-4.7.2 ruamel.yaml-0.17.4 ruamel.yaml.clib-0.2.6 scipy-1.4.1 six-1.16.0 tensorboard-2.6.0 tensorboard-data-server-0.6.1 tensorboard-plugin-wit-1.8.0 tensorflow-2.3.0 tensorflow-estimator-2.3.0 termcolor-1.1.0 typing-extensions-3.10.0.0 urllib3-1.26.5 websocket-client-1.2.1 werkzeug-1.0.1 wrapt-1.12.1 zipp-3.5.0\n",
            "\n",
            "done\n",
            "\u001b[91m\n",
            "\n",
            "==> WARNING: A newer version of conda exists. <==\n",
            "  current version: 4.9.2\n",
            "  latest version: 4.10.3\n",
            "\n",
            "Please update conda by running\n",
            "\n",
            "    $ conda update -n base -c defaults conda\n",
            "\n",
            "\n",
            "\u001b[0m#\n",
            "# To activate this environment, use\n",
            "#\n",
            "#     $ conda activate /azureml-envs/azureml_19dd65bcd86dcb810b8fda779ddd07f8\n",
            "#\n",
            "# To deactivate an active environment, use\n",
            "#\n",
            "#     $ conda deactivate\n",
            "\n",
            "WARNING: /root/.conda/pkgs does not exist\n",
            "Removing intermediate container a23e08b8fdae\n",
            " ---> e49b306ee60c\n",
            "Step 9/18 : ENV PATH /azureml-envs/azureml_19dd65bcd86dcb810b8fda779ddd07f8/bin:$PATH\n",
            " ---> Running in e680dccaa1d9\n",
            "Removing intermediate container e680dccaa1d9\n",
            " ---> 3e70d10b2ed1\n",
            "Step 10/18 : COPY azureml-environment-setup/send_conda_dependencies.py azureml-environment-setup/send_conda_dependencies.py\n",
            " ---> 39fb15fcf4ea\n",
            "Step 11/18 : COPY azureml-environment-setup/environment_context.json azureml-environment-setup/environment_context.json\n",
            " ---> 4f4f70499be0\n",
            "Step 12/18 : RUN python /azureml-environment-setup/send_conda_dependencies.py -p /azureml-envs/azureml_19dd65bcd86dcb810b8fda779ddd07f8\n",
            " ---> Running in e9698919e5b7\n",
            "Report materialized dependencies for the environment\n",
            "Reading environment context\n",
            "Exporting conda environment\n",
            "Sending request with materialized conda environment details\n",
            "Successfully sent materialized environment details\n",
            "Removing intermediate container e9698919e5b7\n",
            " ---> d15acf815d9c\n",
            "Step 13/18 : ENV AZUREML_CONDA_ENVIRONMENT_PATH /azureml-envs/azureml_19dd65bcd86dcb810b8fda779ddd07f8\n",
            " ---> Running in 5b490703101f\n",
            "Removing intermediate container 5b490703101f\n",
            " ---> 16825ecfa72a\n",
            "Step 14/18 : ENV LD_LIBRARY_PATH /azureml-envs/azureml_19dd65bcd86dcb810b8fda779ddd07f8/lib:$LD_LIBRARY_PATH\n",
            " ---> Running in bb5b771d9f64\n",
            "Removing intermediate container bb5b771d9f64\n",
            " ---> 2a9051e30197\n",
            "Step 15/18 : COPY azureml-environment-setup/spark_cache.py azureml-environment-setup/log4j.properties /azureml-environment-setup/\n",
            " ---> e81fa5c37fcf\n",
            "Step 16/18 : RUN if [ $SPARK_HOME ]; then /bin/bash -c '$SPARK_HOME/bin/spark-submit  /azureml-environment-setup/spark_cache.py'; fi\n",
            " ---> Running in fbd0336e17af\n",
            "Removing intermediate container fbd0336e17af\n",
            " ---> a2d80e0cc9e8\n",
            "Step 17/18 : ENV AZUREML_ENVIRONMENT_IMAGE True\n",
            " ---> Running in 2051a0c3c57b\n",
            "Removing intermediate container 2051a0c3c57b\n",
            " ---> 8bd93de95788\n",
            "Step 18/18 : CMD [\"bash\"]\n",
            " ---> Running in 527b7bc4c051\n",
            "Removing intermediate container 527b7bc4c051\n",
            " ---> 33b4c899af94\n",
            "Successfully built 33b4c899af94\n",
            "Successfully tagged 86fbece3485341c6a3c756a0ad684952.azurecr.io/azureml/azureml_8d99aecdc038949bc014e08ade5e661f:latest\n",
            "Successfully tagged 86fbece3485341c6a3c756a0ad684952.azurecr.io/azureml/azureml_8d99aecdc038949bc014e08ade5e661f:1\n",
            "2021/08/13 09:04:35 Successfully executed container: acb_step_0\n",
            "2021/08/13 09:04:35 Executing step ID: acb_step_1. Timeout(sec): 5400, Working directory: '', Network: 'acb_default_network'\n",
            "2021/08/13 09:04:35 Pushing image: 86fbece3485341c6a3c756a0ad684952.azurecr.io/azureml/azureml_8d99aecdc038949bc014e08ade5e661f:1, attempt 1\n",
            "The push refers to repository [86fbece3485341c6a3c756a0ad684952.azurecr.io/azureml/azureml_8d99aecdc038949bc014e08ade5e661f]\n",
            "1bc1d286e09e: Preparing\n",
            "383b9bdf64af: Preparing\n",
            "13316054d004: Preparing\n",
            "25ca307b53a1: Preparing\n",
            "a3f6cbdd0683: Preparing\n",
            "988042a00d21: Preparing\n",
            "df836e702328: Preparing\n",
            "1cedf9b841b6: Preparing\n",
            "1fae1b9536c2: Preparing\n",
            "9398792c8299: Preparing\n",
            "93c9ec44fed0: Preparing\n",
            "e0ae5bb40eae: Preparing\n",
            "5e9c7e64af11: Preparing\n",
            "20e11b7f408c: Preparing\n",
            "94c0f7816c07: Preparing\n",
            "accea658c5be: Preparing\n",
            "c96f19f3c075: Preparing\n",
            "21639b09744f: Preparing\n",
            "988042a00d21: Waiting\n",
            "5e9c7e64af11: Waiting\n",
            "20e11b7f408c: Waiting\n",
            "df836e702328: Waiting\n",
            "1cedf9b841b6: Waiting\n",
            "94c0f7816c07: Waiting\n",
            "1fae1b9536c2: Waiting\n",
            "9398792c8299: Waiting\n",
            "93c9ec44fed0: Waiting\n",
            "accea658c5be: Waiting\n",
            "e0ae5bb40eae: Waiting\n",
            "21639b09744f: Waiting\n",
            "c96f19f3c075: Waiting\n",
            "1bc1d286e09e: Pushed\n",
            "25ca307b53a1: Pushed\n",
            "13316054d004: Pushed\n",
            "383b9bdf64af: Pushed\n",
            "988042a00d21: Pushed\n",
            "1cedf9b841b6: Pushed\n",
            "df836e702328: Pushed\n",
            "1fae1b9536c2: Pushed\n",
            "9398792c8299: Pushed\n",
            "93c9ec44fed0: Pushed\n",
            "e0ae5bb40eae: Pushed\n",
            "5e9c7e64af11: Pushed\n",
            "94c0f7816c07: Pushed\n",
            "accea658c5be: Pushed\n",
            "21639b09744f: Pushed\n",
            "20e11b7f408c: Pushed\n",
            "c96f19f3c075: Pushed\n",
            "a3f6cbdd0683: Pushed\n",
            "1: digest: sha256:52fda9587762457f515e556e97052de5b8c16b688ed831ee8a393c0dfc00f8f1 size: 4099\n",
            "2021/08/13 09:07:04 Successfully pushed image: 86fbece3485341c6a3c756a0ad684952.azurecr.io/azureml/azureml_8d99aecdc038949bc014e08ade5e661f:1\n",
            "2021/08/13 09:07:04 Executing step ID: acb_step_2. Timeout(sec): 5400, Working directory: '', Network: 'acb_default_network'\n",
            "2021/08/13 09:07:04 Pushing image: 86fbece3485341c6a3c756a0ad684952.azurecr.io/azureml/azureml_8d99aecdc038949bc014e08ade5e661f:latest, attempt 1\n",
            "The push refers to repository [86fbece3485341c6a3c756a0ad684952.azurecr.io/azureml/azureml_8d99aecdc038949bc014e08ade5e661f]\n",
            "1bc1d286e09e: Preparing\n",
            "383b9bdf64af: Preparing\n",
            "13316054d004: Preparing\n",
            "25ca307b53a1: Preparing\n",
            "a3f6cbdd0683: Preparing\n",
            "988042a00d21: Preparing\n",
            "df836e702328: Preparing\n",
            "1cedf9b841b6: Preparing\n",
            "1fae1b9536c2: Preparing\n",
            "9398792c8299: Preparing\n",
            "93c9ec44fed0: Preparing\n",
            "e0ae5bb40eae: Preparing\n",
            "5e9c7e64af11: Preparing\n",
            "20e11b7f408c: Preparing\n",
            "94c0f7816c07: Preparing\n",
            "accea658c5be: Preparing\n",
            "c96f19f3c075: Preparing\n",
            "21639b09744f: Preparing\n",
            "988042a00d21: Waiting\n",
            "df836e702328: Waiting\n",
            "1cedf9b841b6: Waiting\n",
            "1fae1b9536c2: Waiting\n",
            "9398792c8299: Waiting\n",
            "93c9ec44fed0: Waiting\n",
            "e0ae5bb40eae: Waiting\n",
            "5e9c7e64af11: Waiting\n",
            "94c0f7816c07: Waiting\n",
            "accea658c5be: Waiting\n",
            "c96f19f3c075: Waiting\n",
            "21639b09744f: Waiting\n",
            "20e11b7f408c: Waiting\n",
            "25ca307b53a1: Layer already exists\n",
            "1bc1d286e09e: Layer already exists\n",
            "a3f6cbdd0683: Layer already exists\n",
            "13316054d004: Layer already exists\n",
            "383b9bdf64af: Layer already exists\n",
            "1cedf9b841b6: Layer already exists\n",
            "df836e702328: Layer already exists\n",
            "988042a00d21: Layer already exists\n",
            "9398792c8299: Layer already exists\n",
            "e0ae5bb40eae: Layer already exists\n",
            "93c9ec44fed0: Layer already exists\n",
            "5e9c7e64af11: Layer already exists\n",
            "20e11b7f408c: Layer already exists\n",
            "accea658c5be: Layer already exists\n",
            "94c0f7816c07: Layer already exists\n",
            "c96f19f3c075: Layer already exists\n",
            "21639b09744f: Layer already exists\n",
            "1fae1b9536c2: Layer already exists\n",
            "latest: digest: sha256:52fda9587762457f515e556e97052de5b8c16b688ed831ee8a393c0dfc00f8f1 size: 4099\n",
            "2021/08/13 09:07:11 Successfully pushed image: 86fbece3485341c6a3c756a0ad684952.azurecr.io/azureml/azureml_8d99aecdc038949bc014e08ade5e661f:latest\n",
            "2021/08/13 09:07:11 Step ID: acb_step_0 marked as successful (elapsed time in seconds: 372.207331)\n",
            "2021/08/13 09:07:11 Populating digests for step ID: acb_step_0...\n",
            "2021/08/13 09:07:13 Successfully populated digests for step ID: acb_step_0\n",
            "2021/08/13 09:07:13 Step ID: acb_step_1 marked as successful (elapsed time in seconds: 149.176819)\n",
            "2021/08/13 09:07:13 Step ID: acb_step_2 marked as successful (elapsed time in seconds: 6.197881)\n",
            "2021/08/13 09:07:13 The following dependencies were found:\n",
            "2021/08/13 09:07:13 \n",
            "- image:\n",
            "    registry: 86fbece3485341c6a3c756a0ad684952.azurecr.io\n",
            "    repository: azureml/azureml_8d99aecdc038949bc014e08ade5e661f\n",
            "    tag: latest\n",
            "    digest: sha256:52fda9587762457f515e556e97052de5b8c16b688ed831ee8a393c0dfc00f8f1\n",
            "  runtime-dependency:\n",
            "    registry: mcr.microsoft.com\n",
            "    repository: azureml/openmpi3.1.2-ubuntu18.04\n",
            "    tag: 20210806.v1\n",
            "    digest: sha256:bb94557d668c1cebffb04d0a77aa461776f697753fb9ddf2784f8e65f47ff47c\n",
            "  git: {}\n",
            "- image:\n",
            "    registry: 86fbece3485341c6a3c756a0ad684952.azurecr.io\n",
            "    repository: azureml/azureml_8d99aecdc038949bc014e08ade5e661f\n",
            "    tag: \"1\"\n",
            "    digest: sha256:52fda9587762457f515e556e97052de5b8c16b688ed831ee8a393c0dfc00f8f1\n",
            "  runtime-dependency:\n",
            "    registry: mcr.microsoft.com\n",
            "    repository: azureml/openmpi3.1.2-ubuntu18.04\n",
            "    tag: 20210806.v1\n",
            "    digest: sha256:bb94557d668c1cebffb04d0a77aa461776f697753fb9ddf2784f8e65f47ff47c\n",
            "  git: {}\n",
            "\n",
            "Run ID: cb8 was successful after 9m0s\n",
            "Package creation Succeeded\n",
            "Logging into Docker registry 86fbece3485341c6a3c756a0ad684952.azurecr.io\n",
            "Logging into Docker registry 86fbece3485341c6a3c756a0ad684952.azurecr.io\n",
            "Building Docker image from Dockerfile...\n",
            "Step 1/5 : FROM 86fbece3485341c6a3c756a0ad684952.azurecr.io/azureml/azureml_8d99aecdc038949bc014e08ade5e661f\n",
            " ---> 33b4c899af94\n",
            "Step 2/5 : COPY azureml-app /var/azureml-app\n",
            " ---> 74f9d97a9868\n",
            "Step 3/5 : RUN mkdir -p '/var/azureml-app' && echo eyJhY2NvdW50Q29udGV4dCI6eyJzdWJzY3JpcHRpb25JZCI6Ijg3ODE3NTFjLTcwZGQtNDQxYS04YzQ1LTIyNzQyMDg4NTFjMCIsInJlc291cmNlR3JvdXBOYW1lIjoib2MtcDgtcmVzc291cmNlLWdyb3VwIiwiYWNjb3VudE5hbWUiOiJvYy1wOCIsIndvcmtzcGFjZUlkIjoiODZmYmVjZTMtNDg1My00MWM2LWEzYzctNTZhMGFkNjg0OTUyIn0sIm1vZGVscyI6e30sIm1vZGVsc0luZm8iOnt9fQ== | base64 --decode > /var/azureml-app/model_config_map.json\n",
            " ---> Running in 9c763c0a8aa7\n",
            " ---> 456679005f39\n",
            "Step 4/5 : RUN mv '/var/azureml-app/tmpdiw72kj6.py' /var/azureml-app/main.py\n",
            " ---> Running in 220aea02beea\n",
            " ---> 2c0f9cfce510\n",
            "Step 5/5 : CMD [\"runsvdir\",\"/var/runit\"]\n",
            " ---> Running in 8d8f932cc84f\n",
            " ---> e01e06c8a6b8\n",
            "Successfully built e01e06c8a6b8\n",
            "Successfully tagged myservice:latest\n",
            "Container (name:cranky_dijkstra, id:7429b2462336e0ed761100f7f5f80c4f334dbcf4d85c8afad9fd44e9eb92c56b) cannot be killed.\n",
            "Container has been successfully cleaned up.\n",
            "Image sha256:0e2dd3aeb9b858b8f92043c2ef29b46f2f679183c6b2b9186b6ad1614f8adc3c successfully removed.\n",
            "Starting Docker container...\n",
            "Docker container running.\n",
            "Checking container health...\n",
            "Local webservice is running at http://localhost:6789\n",
            "/bin/bash: /azureml-envs/azureml_19dd65bcd86dcb810b8fda779ddd07f8/lib/libtinfo.so.5: no version information available (required by /bin/bash)\n",
            "/bin/bash: /azureml-envs/azureml_19dd65bcd86dcb810b8fda779ddd07f8/lib/libtinfo.so.5: no version information available (required by /bin/bash)\n",
            "/bin/bash: /azureml-envs/azureml_19dd65bcd86dcb810b8fda779ddd07f8/lib/libtinfo.so.5: no version information available (required by /bin/bash)\n",
            "/bin/bash: /azureml-envs/azureml_19dd65bcd86dcb810b8fda779ddd07f8/lib/libtinfo.so.5: no version information available (required by /bin/bash)\n",
            "2021-08-13T09:09:43,164323287+00:00 - rsyslog/run \n",
            "bash: /azureml-envs/azureml_19dd65bcd86dcb810b8fda779ddd07f8/lib/libtinfo.so.5: no version information available (required by bash)\n",
            "2021-08-13T09:09:43,166319140+00:00 - gunicorn/run \n",
            "2021-08-13T09:09:43,165668223+00:00 - iot-server/run \n",
            "2021-08-13T09:09:43,167372468+00:00 - nginx/run \n",
            "Dynamic Python package installation is disabled.\n",
            "Starting HTTP server\n",
            "EdgeHubConnectionString and IOTEDGE_IOTHUBHOSTNAME are not set. Exiting...\n",
            "/bin/bash: /azureml-envs/azureml_19dd65bcd86dcb810b8fda779ddd07f8/lib/libtinfo.so.5: no version information available (required by /bin/bash)\n",
            "2021-08-13T09:09:43,244088311+00:00 - iot-server/finish 1 0\n",
            "2021-08-13T09:09:43,245098938+00:00 - Exit code 1 is normal. Not restarting iot-server.\n",
            "Starting gunicorn 20.1.0\n",
            "Listening at: http://127.0.0.1:31311 (15)\n",
            "Using worker: sync\n",
            "worker timeout is set to 300\n",
            "Booting worker with pid: 42\n",
            "2021-08-13 09:09:44.052957: W tensorflow/stream_executor/platform/default/dso_loader.cc:59] Could not load dynamic library 'libcudart.so.10.1'; dlerror: libcudart.so.10.1: cannot open shared object file: No such file or directory; LD_LIBRARY_PATH: /azureml-envs/azureml_19dd65bcd86dcb810b8fda779ddd07f8/lib:/azureml-envs/azureml_19dd65bcd86dcb810b8fda779ddd07f8/lib:\n",
            "2021-08-13 09:09:44.052992: I tensorflow/stream_executor/cuda/cudart_stub.cc:29] Ignore above cudart dlerror if you do not have a GPU set up on your machine.\n",
            "SPARK_HOME not set. Skipping PySpark Initialization.\n",
            "Initializing logger\n",
            "2021-08-13 09:09:45,980 | root | INFO | Starting up app insights client\n",
            "logging socket was found. logging is available.\n",
            "logging socket was found. logging is available.\n",
            "2021-08-13 09:09:45,980 | root | INFO | Starting up request id generator\n",
            "2021-08-13 09:09:45,980 | root | INFO | Starting up app insight hooks\n",
            "2021-08-13 09:09:45,981 | root | INFO | Invoking user's init function\n",
            "***************This is init************************************\n",
            "no request id,***************This is init************************************\n",
            "\n",
            "2021-08-13 09:09:46.043609: W tensorflow/stream_executor/platform/default/dso_loader.cc:59] Could not load dynamic library 'libcuda.so.1'; dlerror: libcuda.so.1: cannot open shared object file: No such file or directory; LD_LIBRARY_PATH: /azureml-envs/azureml_19dd65bcd86dcb810b8fda779ddd07f8/lib:/azureml-envs/azureml_19dd65bcd86dcb810b8fda779ddd07f8/lib:\n",
            "2021-08-13 09:09:46.043640: W tensorflow/stream_executor/cuda/cuda_driver.cc:312] failed call to cuInit: UNKNOWN ERROR (303)\n",
            "2021-08-13 09:09:46.043659: I tensorflow/stream_executor/cuda/cuda_diagnostics.cc:156] kernel driver does not appear to be running on this host (090cbbf80a08): /proc/driver/nvidia/version does not exist\n",
            "2021-08-13 09:09:46.043866: I tensorflow/core/platform/cpu_feature_guard.cc:142] This TensorFlow binary is optimized with oneAPI Deep Neural Network Library (oneDNN)to use the following CPU instructions in performance-critical operations:  AVX2 AVX512F FMA\n",
            "To enable them in other operations, rebuild TensorFlow with the appropriate compiler flags.\n",
            "2021-08-13 09:09:46.051142: I tensorflow/core/platform/profile_utils/cpu_utils.cc:104] CPU Frequency: 2593905000 Hz\n",
            "2021-08-13 09:09:46.051470: I tensorflow/compiler/xla/service/service.cc:168] XLA service 0x479cd00 initialized for platform Host (this does not guarantee that XLA will be used). Devices:\n",
            "2021-08-13 09:09:46.051495: I tensorflow/compiler/xla/service/service.cc:176]   StreamExecutor device (0): Host, Default Version\n",
            "2021-08-13 09:09:46.703647: W tensorflow/core/framework/cpu_allocator_impl.cc:81] Allocation of 411041792 exceeds 10% of free system memory.\n",
            "2021-08-13 09:09:46.958505: W tensorflow/core/framework/cpu_allocator_impl.cc:81] Allocation of 411041792 exceeds 10% of free system memory.\n",
            "2021-08-13 09:09:47.039820: W tensorflow/core/framework/cpu_allocator_impl.cc:81] Allocation of 411041792 exceeds 10% of free system memory.\n",
            "2021-08-13 09:09:47.797561: W tensorflow/core/framework/cpu_allocator_impl.cc:81] Allocation of 411041792 exceeds 10% of free system memory.\n",
            "2021-08-13 09:09:48.188008: W tensorflow/core/framework/cpu_allocator_impl.cc:81] Allocation of 411041792 exceeds 10% of free system memory.\n",
            "***************Model loaded************************************\n",
            "no request id,***************Model loaded************************************\n",
            "\n",
            "2021-08-13 09:09:48,581 | root | INFO | Users's init has completed successfully\n",
            "2021-08-13 09:09:48,583 | root | INFO | Skipping middleware: dbg_model_info as it's not enabled.\n",
            "2021-08-13 09:09:48,583 | root | INFO | Skipping middleware: dbg_resource_usage as it's not enabled.\n",
            "2021-08-13 09:09:48,584 | root | INFO | Scoring timeout setting is not found. Use default timeout: 3600000 ms\n",
            "\n"
          ]
        }
      ],
      "execution_count": 28,
      "metadata": {
        "collapsed": true,
        "jupyter": {
          "source_hidden": false,
          "outputs_hidden": false
        },
        "nteract": {
          "transient": {
            "deleting": false
          }
        },
        "gather": {
          "logged": 1628845788713
        }
      }
    },
    {
      "cell_type": "code",
      "source": [
        "service.reload()"
      ],
      "outputs": [
        {
          "output_type": "stream",
          "name": "stdout",
          "text": [
            "Container has been successfully cleaned up.\n",
            "Starting Docker container...\n",
            "Docker container running.\n"
          ]
        }
      ],
      "execution_count": 99,
      "metadata": {
        "collapsed": true,
        "jupyter": {
          "source_hidden": false,
          "outputs_hidden": false
        },
        "nteract": {
          "transient": {
            "deleting": false
          }
        },
        "gather": {
          "logged": 1625838365553
        }
      }
    },
    {
      "cell_type": "markdown",
      "source": [
        "## Testing (will be part of the FLask app)"
      ],
      "metadata": {
        "nteract": {
          "transient": {
            "deleting": false
          }
        }
      }
    },
    {
      "cell_type": "code",
      "source": [
        "test_img_file='frankfurt_000001_013016_leftImg8bit.png'\r\n",
        "img = tf.keras.preprocessing.image.load_img(test_img_file,target_size=(128,256))\r\n",
        "img_norm = np.array(normalize_input_img(img))"
      ],
      "outputs": [],
      "execution_count": 29,
      "metadata": {
        "collapsed": true,
        "jupyter": {
          "source_hidden": false,
          "outputs_hidden": false
        },
        "nteract": {
          "transient": {
            "deleting": false
          }
        },
        "gather": {
          "logged": 1628846025555
        }
      }
    },
    {
      "cell_type": "code",
      "source": [
        "# Serialize the input\r\n",
        "memfile = io.BytesIO()\r\n",
        "np.save(memfile, img_norm)\r\n",
        "memfile.seek(0)\r\n",
        "request = json.dumps(memfile.read().decode('latin-1'))\r\n",
        "# latin-1 maps byte n to unicode code point n"
      ],
      "outputs": [],
      "execution_count": 30,
      "metadata": {
        "collapsed": true,
        "jupyter": {
          "source_hidden": false,
          "outputs_hidden": false
        },
        "nteract": {
          "transient": {
            "deleting": false
          }
        },
        "gather": {
          "logged": 1628846027962
        }
      }
    },
    {
      "cell_type": "markdown",
      "source": [
        "## Query the ACI"
      ],
      "metadata": {
        "nteract": {
          "transient": {
            "deleting": false
          }
        }
      }
    },
    {
      "cell_type": "code",
      "source": [
        "uri = service.scoring_uri\r\n",
        "headers = {'Content-Type': 'application/json'}\r\n",
        "response = requests.post(uri, data=request,headers=headers)\r\n",
        "response"
      ],
      "outputs": [
        {
          "output_type": "execute_result",
          "execution_count": 33,
          "data": {
            "text/plain": "<Response [200]>"
          },
          "metadata": {}
        }
      ],
      "execution_count": 33,
      "metadata": {
        "collapsed": true,
        "jupyter": {
          "source_hidden": false,
          "outputs_hidden": false
        },
        "nteract": {
          "transient": {
            "deleting": false
          }
        },
        "gather": {
          "logged": 1628846052643
        }
      }
    },
    {
      "cell_type": "code",
      "source": [
        "# Deserialize the response\r\n",
        "memfile = io.BytesIO()\r\n",
        "memfile.write(json.loads(response.json()).encode('latin-1'))\r\n",
        "memfile.seek(0)\r\n",
        "response = np.load(memfile)"
      ],
      "outputs": [],
      "execution_count": 34,
      "metadata": {
        "collapsed": true,
        "jupyter": {
          "source_hidden": false,
          "outputs_hidden": false
        },
        "nteract": {
          "transient": {
            "deleting": false
          }
        },
        "gather": {
          "logged": 1628846055534
        }
      }
    },
    {
      "cell_type": "code",
      "source": [
        "cats = {'void': [0, 1, 2, 3, 4, 5, 6],\r\n",
        " 'flat': [7, 8, 9, 10],\r\n",
        " 'construction': [11, 12, 13, 14, 15, 16],\r\n",
        " 'object': [17, 18, 19, 20],\r\n",
        " 'nature': [21, 22],\r\n",
        " 'sky': [23],\r\n",
        " 'human': [24, 25],\r\n",
        " 'vehicle': [26, 27, 28, 29, 30, 31, 32, 33, -1]}"
      ],
      "outputs": [],
      "execution_count": 35,
      "metadata": {
        "collapsed": true,
        "jupyter": {
          "source_hidden": false,
          "outputs_hidden": false
        },
        "nteract": {
          "transient": {
            "deleting": false
          }
        },
        "gather": {
          "logged": 1628846058163
        }
      }
    },
    {
      "cell_type": "code",
      "source": [
        "generate_img_from_mask(response[0],cats)"
      ],
      "outputs": [
        {
          "output_type": "execute_result",
          "execution_count": 36,
          "data": {
            "text/plain": "<PIL.Image.Image image mode=RGB size=256x128 at 0x7F40CBDFB1C0>",
            "image/png": "[encoded data removed]"
          },
          "metadata": {}
        }
      ],
      "execution_count": 36,
      "metadata": {
        "collapsed": true,
        "jupyter": {
          "source_hidden": false,
          "outputs_hidden": false
        },
        "nteract": {
          "transient": {
            "deleting": false
          }
        },
        "gather": {
          "logged": 1628846059750
        }
      }
    },
    {
      "cell_type": "code",
      "source": [
        "print(service.get_logs())"
      ],
      "outputs": [
        {
          "output_type": "stream",
          "name": "stdout",
          "text": [
            "/bin/bash: /azureml-envs/azureml_19dd65bcd86dcb810b8fda779ddd07f8/lib/libtinfo.so.5: no version information available (required by /bin/bash)\n",
            "/bin/bash: /azureml-envs/azureml_19dd65bcd86dcb810b8fda779ddd07f8/lib/libtinfo.so.5: no version information available (required by /bin/bash)\n",
            "/bin/bash: /azureml-envs/azureml_19dd65bcd86dcb810b8fda779ddd07f8/lib/libtinfo.so.5: no version information available (required by /bin/bash)\n",
            "/bin/bash: /azureml-envs/azureml_19dd65bcd86dcb810b8fda779ddd07f8/lib/libtinfo.so.5: no version information available (required by /bin/bash)\n",
            "2021-08-13T09:09:43,164323287+00:00 - rsyslog/run \n",
            "bash: /azureml-envs/azureml_19dd65bcd86dcb810b8fda779ddd07f8/lib/libtinfo.so.5: no version information available (required by bash)\n",
            "2021-08-13T09:09:43,166319140+00:00 - gunicorn/run \n",
            "2021-08-13T09:09:43,165668223+00:00 - iot-server/run \n",
            "2021-08-13T09:09:43,167372468+00:00 - nginx/run \n",
            "Dynamic Python package installation is disabled.\n",
            "Starting HTTP server\n",
            "EdgeHubConnectionString and IOTEDGE_IOTHUBHOSTNAME are not set. Exiting...\n",
            "/bin/bash: /azureml-envs/azureml_19dd65bcd86dcb810b8fda779ddd07f8/lib/libtinfo.so.5: no version information available (required by /bin/bash)\n",
            "2021-08-13T09:09:43,244088311+00:00 - iot-server/finish 1 0\n",
            "2021-08-13T09:09:43,245098938+00:00 - Exit code 1 is normal. Not restarting iot-server.\n",
            "Starting gunicorn 20.1.0\n",
            "Listening at: http://127.0.0.1:31311 (15)\n",
            "Using worker: sync\n",
            "worker timeout is set to 300\n",
            "Booting worker with pid: 42\n",
            "2021-08-13 09:09:44.052957: W tensorflow/stream_executor/platform/default/dso_loader.cc:59] Could not load dynamic library 'libcudart.so.10.1'; dlerror: libcudart.so.10.1: cannot open shared object file: No such file or directory; LD_LIBRARY_PATH: /azureml-envs/azureml_19dd65bcd86dcb810b8fda779ddd07f8/lib:/azureml-envs/azureml_19dd65bcd86dcb810b8fda779ddd07f8/lib:\n",
            "2021-08-13 09:09:44.052992: I tensorflow/stream_executor/cuda/cudart_stub.cc:29] Ignore above cudart dlerror if you do not have a GPU set up on your machine.\n",
            "SPARK_HOME not set. Skipping PySpark Initialization.\n",
            "Initializing logger\n",
            "2021-08-13 09:09:45,980 | root | INFO | Starting up app insights client\n",
            "logging socket was found. logging is available.\n",
            "logging socket was found. logging is available.\n",
            "2021-08-13 09:09:45,980 | root | INFO | Starting up request id generator\n",
            "2021-08-13 09:09:45,980 | root | INFO | Starting up app insight hooks\n",
            "2021-08-13 09:09:45,981 | root | INFO | Invoking user's init function\n",
            "***************This is init************************************\n",
            "no request id,***************This is init************************************\n",
            "\n",
            "2021-08-13 09:09:46.043609: W tensorflow/stream_executor/platform/default/dso_loader.cc:59] Could not load dynamic library 'libcuda.so.1'; dlerror: libcuda.so.1: cannot open shared object file: No such file or directory; LD_LIBRARY_PATH: /azureml-envs/azureml_19dd65bcd86dcb810b8fda779ddd07f8/lib:/azureml-envs/azureml_19dd65bcd86dcb810b8fda779ddd07f8/lib:\n",
            "2021-08-13 09:09:46.043640: W tensorflow/stream_executor/cuda/cuda_driver.cc:312] failed call to cuInit: UNKNOWN ERROR (303)\n",
            "2021-08-13 09:09:46.043659: I tensorflow/stream_executor/cuda/cuda_diagnostics.cc:156] kernel driver does not appear to be running on this host (090cbbf80a08): /proc/driver/nvidia/version does not exist\n",
            "2021-08-13 09:09:46.043866: I tensorflow/core/platform/cpu_feature_guard.cc:142] This TensorFlow binary is optimized with oneAPI Deep Neural Network Library (oneDNN)to use the following CPU instructions in performance-critical operations:  AVX2 AVX512F FMA\n",
            "To enable them in other operations, rebuild TensorFlow with the appropriate compiler flags.\n",
            "2021-08-13 09:09:46.051142: I tensorflow/core/platform/profile_utils/cpu_utils.cc:104] CPU Frequency: 2593905000 Hz\n",
            "2021-08-13 09:09:46.051470: I tensorflow/compiler/xla/service/service.cc:168] XLA service 0x479cd00 initialized for platform Host (this does not guarantee that XLA will be used). Devices:\n",
            "2021-08-13 09:09:46.051495: I tensorflow/compiler/xla/service/service.cc:176]   StreamExecutor device (0): Host, Default Version\n",
            "2021-08-13 09:09:46.703647: W tensorflow/core/framework/cpu_allocator_impl.cc:81] Allocation of 411041792 exceeds 10% of free system memory.\n",
            "2021-08-13 09:09:46.958505: W tensorflow/core/framework/cpu_allocator_impl.cc:81] Allocation of 411041792 exceeds 10% of free system memory.\n",
            "2021-08-13 09:09:47.039820: W tensorflow/core/framework/cpu_allocator_impl.cc:81] Allocation of 411041792 exceeds 10% of free system memory.\n",
            "2021-08-13 09:09:47.797561: W tensorflow/core/framework/cpu_allocator_impl.cc:81] Allocation of 411041792 exceeds 10% of free system memory.\n",
            "2021-08-13 09:09:48.188008: W tensorflow/core/framework/cpu_allocator_impl.cc:81] Allocation of 411041792 exceeds 10% of free system memory.\n",
            "***************Model loaded************************************\n",
            "no request id,***************Model loaded************************************\n",
            "\n",
            "2021-08-13 09:09:48,581 | root | INFO | Users's init has completed successfully\n",
            "2021-08-13 09:09:48,583 | root | INFO | Skipping middleware: dbg_model_info as it's not enabled.\n",
            "2021-08-13 09:09:48,583 | root | INFO | Skipping middleware: dbg_resource_usage as it's not enabled.\n",
            "2021-08-13 09:09:48,584 | root | INFO | Scoring timeout setting is not found. Use default timeout: 3600000 ms\n",
            "2021-08-13 09:14:06,313 | root | INFO | Scoring Timer is set to 3600.0 seconds\n",
            "loading request\n",
            "ef0ed69f-d82b-4707-91f0-d7d273c0dbb8,loading request\n",
            "\n",
            "2021-08-13 09:14:06,314 | root | ERROR | Encountered Exception: Traceback (most recent call last):\n",
            "  File \"/var/azureml-server/synchronous/routes.py\", line 65, in run_scoring\n",
            "    response, time_taken_ms = invoke_user_with_timer(service_input, request_headers)\n",
            "  File \"/var/azureml-server/synchronous/routes.py\", line 110, in invoke_user_with_timer\n",
            "    result, time_taken_ms = capture_time_taken(user_main.run)(**params)\n",
            "  File \"/var/azureml-server/synchronous/routes.py\", line 92, in timer\n",
            "    result = func(*args, **kwargs)\n",
            "  File \"/var/azureml-app/script_folder/./score.py\", line 30, in run\n",
            "    memfile.write(json.loads(request).encode('latin-1'))\n",
            "AttributeError: 'dict' object has no attribute 'encode'\n",
            "\n",
            "During handling of the above exception, another exception occurred:\n",
            "\n",
            "Traceback (most recent call last):\n",
            "  File \"/azureml-envs/azureml_19dd65bcd86dcb810b8fda779ddd07f8/lib/python3.6/site-packages/flask/app.py\", line 1832, in full_dispatch_request\n",
            "    rv = self.dispatch_request()\n",
            "  File \"/azureml-envs/azureml_19dd65bcd86dcb810b8fda779ddd07f8/lib/python3.6/site-packages/flask/app.py\", line 1818, in dispatch_request\n",
            "    return self.view_functions[rule.endpoint](**req.view_args)\n",
            "  File \"/var/azureml-server/synchronous/routes.py\", line 44, in score_realtime\n",
            "    return run_scoring(service_input, request.headers, request.environ.get('REQUEST_ID', '00000000-0000-0000-0000-000000000000'))\n",
            "  File \"/var/azureml-server/synchronous/routes.py\", line 74, in run_scoring\n",
            "    raise RunFunctionException(str(exc))\n",
            "run_function_exception.RunFunctionException\n",
            "\n",
            "2021-08-13 09:14:06,315 | root | INFO | 500\n",
            "127.0.0.1 - - [13/Aug/2021:09:14:06 +0000] \"POST /score HTTP/1.0\" 500 39 \"-\" \"python-requests/2.25.1\"\n",
            "2021-08-13 09:14:11,873 | root | INFO | Scoring Timer is set to 3600.0 seconds\n",
            "loading request\n",
            "c2db4ee7-a4e8-4b22-987c-16e74be6945c,loading request\n",
            "\n",
            " the shape of X is (1, 128, 256, 3)\n",
            "c2db4ee7-a4e8-4b22-987c-16e74be6945c, the shape of X is (1, 128, 256, 3)\n",
            "\n",
            "2021-08-13 09:14:12,436 | root | INFO | 200\n",
            "127.0.0.1 - - [13/Aug/2021:09:14:12 +0000] \"POST /score HTTP/1.0\" 200 3942417 \"-\" \"python-requests/2.25.1\"\n",
            "\n"
          ]
        }
      ],
      "execution_count": 37,
      "metadata": {
        "collapsed": true,
        "jupyter": {
          "source_hidden": false,
          "outputs_hidden": false
        },
        "nteract": {
          "transient": {
            "deleting": false
          }
        },
        "gather": {
          "logged": 1628846062128
        }
      }
    },
    {
      "cell_type": "markdown",
      "source": [
        "# Deploy in the cloud"
      ],
      "metadata": {
        "nteract": {
          "transient": {
            "deleting": false
          }
        }
      }
    },
    {
      "cell_type": "code",
      "source": [
        "from azureml.core.webservice import AciWebservice\r\n",
        "\r\n",
        "deployment_config = AciWebservice.deploy_configuration(cpu_cores = 0.5, memory_gb = 2)"
      ],
      "outputs": [],
      "execution_count": 38,
      "metadata": {
        "collapsed": true,
        "jupyter": {
          "source_hidden": false,
          "outputs_hidden": false
        },
        "nteract": {
          "transient": {
            "deleting": false
          }
        },
        "gather": {
          "logged": 1628846078955
        }
      }
    },
    {
      "cell_type": "code",
      "source": [
        "service = Model.deploy(ws, \"mywebservice\",[model], inference_config=inf_config, deployment_config=deployment_config )\r\n",
        "service.wait_for_deployment(show_output=True)\r\n",
        "print(service.get_logs())"
      ],
      "outputs": [
        {
          "output_type": "stream",
          "name": "stdout",
          "text": [
            "Tips: You can try get_logs(): https://aka.ms/debugimage#dockerlog or local deployment: https://aka.ms/debugimage#debug-locally to debug if deployment takes longer than 10 minutes.\n",
            "Running\n",
            "2021-08-13 09:14:46+00:00 Creating Container Registry if not exists.\n",
            "2021-08-13 09:14:46+00:00 Registering the environment.\n",
            "2021-08-13 09:14:48+00:00 Use the existing image.\n",
            "2021-08-13 09:14:48+00:00 Generating deployment configuration.\n",
            "2021-08-13 09:14:50+00:00 Submitting deployment to compute..\n",
            "2021-08-13 09:15:23+00:00 Checking the status of deployment mywebservice..\n",
            "2021-08-13 09:17:50+00:00 Checking the status of inference endpoint mywebservice.\n",
            "Succeeded\n",
            "ACI service creation operation finished, operation \"Succeeded\"\n",
            "/bin/bash: /azureml-envs/azureml_19dd65bcd86dcb810b8fda779ddd07f8/lib/libtinfo.so.5: no version information available (required by /bin/bash)\n",
            "/bin/bash: /azureml-envs/azureml_19dd65bcd86dcb810b8fda779ddd07f8/lib/libtinfo.so.5: no version information available (required by /bin/bash)\n",
            "/bin/bash: /azureml-envs/azureml_19dd65bcd86dcb810b8fda779ddd07f8/lib/libtinfo.so.5: no version information available (required by /bin/bash)\n",
            "/bin/bash: /azureml-envs/azureml_19dd65bcd86dcb810b8fda779ddd07f8/lib/libtinfo.so.5: no version information available (required by /bin/bash)\n",
            "2021-08-13T09:17:43,523715210+00:00 - rsyslog/run \n",
            "2021-08-13T09:17:43,524481206+00:00 - gunicorn/run \n",
            "Dynamic Python package installation is disabled.\n",
            "Starting HTTP server\n",
            "2021-08-13T09:17:43,525069102+00:00 - iot-server/run \n",
            "bash: /azureml-envs/azureml_19dd65bcd86dcb810b8fda779ddd07f8/lib/libtinfo.so.5: no version information available (required by bash)\n",
            "2021-08-13T09:17:43,540062508+00:00 - nginx/run \n",
            "/bin/bash: /azureml-envs/azureml_19dd65bcd86dcb810b8fda779ddd07f8/lib/libtinfo.so.5: no version information available (required by /bin/bash)\n",
            "EdgeHubConnectionString and IOTEDGE_IOTHUBHOSTNAME are not set. Exiting...\n",
            "2021-08-13T09:17:43,927710192+00:00 - iot-server/finish 1 0\n",
            "2021-08-13T09:17:43,928945385+00:00 - Exit code 1 is normal. Not restarting iot-server.\n",
            "Starting gunicorn 20.1.0\n",
            "Listening at: http://127.0.0.1:31311 (11)\n",
            "Using worker: sync\n",
            "worker timeout is set to 300\n",
            "Booting worker with pid: 37\n",
            "2021-08-13 09:17:46.000723: W tensorflow/stream_executor/platform/default/dso_loader.cc:59] Could not load dynamic library 'libcudart.so.10.1'; dlerror: libcudart.so.10.1: cannot open shared object file: No such file or directory; LD_LIBRARY_PATH: /azureml-envs/azureml_19dd65bcd86dcb810b8fda779ddd07f8/lib:/azureml-envs/azureml_19dd65bcd86dcb810b8fda779ddd07f8/lib:\n",
            "2021-08-13 09:17:46.000780: I tensorflow/stream_executor/cuda/cudart_stub.cc:29] Ignore above cudart dlerror if you do not have a GPU set up on your machine.\n",
            "SPARK_HOME not set. Skipping PySpark Initialization.\n",
            "Initializing logger\n",
            "2021-08-13 09:17:50,721 | root | INFO | Starting up app insights client\n",
            "logging socket was found. logging is available.\n",
            "logging socket was found. logging is available.\n",
            "2021-08-13 09:17:50,721 | root | INFO | Starting up request id generator\n",
            "2021-08-13 09:17:50,722 | root | INFO | Starting up app insight hooks\n",
            "2021-08-13 09:17:50,722 | root | INFO | Invoking user's init function\n",
            "***************This is init************************************\n",
            "no request id,***************This is init************************************\n",
            "\n",
            "2021-08-13 09:17:50.846461: W tensorflow/stream_executor/platform/default/dso_loader.cc:59] Could not load dynamic library 'libcuda.so.1'; dlerror: libcuda.so.1: cannot open shared object file: No such file or directory; LD_LIBRARY_PATH: /azureml-envs/azureml_19dd65bcd86dcb810b8fda779ddd07f8/lib:/azureml-envs/azureml_19dd65bcd86dcb810b8fda779ddd07f8/lib:\n",
            "2021-08-13 09:17:50.846492: W tensorflow/stream_executor/cuda/cuda_driver.cc:312] failed call to cuInit: UNKNOWN ERROR (303)\n",
            "2021-08-13 09:17:50.846553: I tensorflow/stream_executor/cuda/cuda_diagnostics.cc:156] kernel driver does not appear to be running on this host (wk-caas-3f009ab3cf8e49d9b0748ed6dec873d1-258f3d8f29d2ffb85f6144): /proc/driver/nvidia/version does not exist\n",
            "2021-08-13 09:17:50.846946: I tensorflow/core/platform/cpu_feature_guard.cc:142] This TensorFlow binary is optimized with oneAPI Deep Neural Network Library (oneDNN)to use the following CPU instructions in performance-critical operations:  AVX2 FMA\n",
            "To enable them in other operations, rebuild TensorFlow with the appropriate compiler flags.\n",
            "2021-08-13 09:17:50.903710: I tensorflow/core/platform/profile_utils/cpu_utils.cc:104] CPU Frequency: 2294680000 Hz\n",
            "2021-08-13 09:17:50.904496: I tensorflow/compiler/xla/service/service.cc:168] XLA service 0x4512f70 initialized for platform Host (this does not guarantee that XLA will be used). Devices:\n",
            "2021-08-13 09:17:50.904590: I tensorflow/compiler/xla/service/service.cc:176]   StreamExecutor device (0): Host, Default Version\n",
            "2021-08-13 09:17:52.815200: W tensorflow/core/framework/cpu_allocator_impl.cc:81] Allocation of 411041792 exceeds 10% of free system memory.\n",
            "2021-08-13 09:17:54.414051: W tensorflow/core/framework/cpu_allocator_impl.cc:81] Allocation of 411041792 exceeds 10% of free system memory.\n",
            "2021-08-13 09:17:55.034001: W tensorflow/core/framework/cpu_allocator_impl.cc:81] Allocation of 411041792 exceeds 10% of free system memory.\n",
            "2021-08-13 09:17:57.250504: W tensorflow/core/framework/cpu_allocator_impl.cc:81] Allocation of 411041792 exceeds 10% of free system memory.\n",
            "2021-08-13 09:18:00.147882: W tensorflow/core/framework/cpu_allocator_impl.cc:81] Allocation of 411041792 exceeds 10% of free system memory.\n",
            "***************Model loaded************************************\n",
            "no request id,***************Model loaded************************************\n",
            "\n",
            "2021-08-13 09:18:00,933 | root | INFO | Users's init has completed successfully\n",
            "2021-08-13 09:18:00,936 | root | INFO | Skipping middleware: dbg_model_info as it's not enabled.\n",
            "2021-08-13 09:18:00,936 | root | INFO | Skipping middleware: dbg_resource_usage as it's not enabled.\n",
            "2021-08-13 09:18:00,937 | root | INFO | Scoring timeout is found from os.environ: 60000 ms\n",
            "2021-08-13 09:18:12,388 | root | INFO | Swagger file not present\n",
            "2021-08-13 09:18:12,388 | root | INFO | 404\n",
            "127.0.0.1 - - [13/Aug/2021:09:18:12 +0000] \"GET /swagger.json HTTP/1.0\" 404 19 \"-\" \"Go-http-client/1.1\"\n",
            "2021-08-13 09:18:18,008 | root | INFO | Swagger file not present\n",
            "2021-08-13 09:18:18,008 | root | INFO | 404\n",
            "127.0.0.1 - - [13/Aug/2021:09:18:18 +0000] \"GET /swagger.json HTTP/1.0\" 404 19 \"-\" \"Go-http-client/1.1\"\n",
            "\n"
          ]
        }
      ],
      "execution_count": 39,
      "metadata": {
        "collapsed": true,
        "jupyter": {
          "source_hidden": false,
          "outputs_hidden": false
        },
        "nteract": {
          "transient": {
            "deleting": false
          }
        },
        "gather": {
          "logged": 1628846298754
        }
      }
    },
    {
      "cell_type": "code",
      "source": [
        "from azureml.core import Webservice\r\n",
        "\r\n",
        "service = Webservice(workspace=ws, name='mywebservice')\r\n",
        "scoring_uri = service.scoring_uri"
      ],
      "outputs": [],
      "execution_count": 41,
      "metadata": {
        "collapsed": true,
        "jupyter": {
          "source_hidden": false,
          "outputs_hidden": false
        },
        "nteract": {
          "transient": {
            "deleting": false
          }
        },
        "gather": {
          "logged": 1628846314127
        }
      }
    },
    {
      "cell_type": "code",
      "source": [
        "scoring_uri"
      ],
      "outputs": [
        {
          "output_type": "execute_result",
          "execution_count": 42,
          "data": {
            "text/plain": "'http://3141efa0-9e82-4d55-bd1f-07f9e7da3d4d.westeurope.azurecontainer.io/score'"
          },
          "metadata": {}
        }
      ],
      "execution_count": 42,
      "metadata": {
        "collapsed": true,
        "jupyter": {
          "source_hidden": false,
          "outputs_hidden": false
        },
        "nteract": {
          "transient": {
            "deleting": false
          }
        },
        "gather": {
          "logged": 1628846316153
        }
      }
    },
    {
      "cell_type": "code",
      "source": [
        "service.get_logs()"
      ],
      "outputs": [
        {
          "output_type": "execute_result",
          "execution_count": 43,
          "data": {
            "text/plain": "'/bin/bash: /azureml-envs/azureml_19dd65bcd86dcb810b8fda779ddd07f8/lib/libtinfo.so.5: no version information available (required by /bin/bash)\\n/bin/bash: /azureml-envs/azureml_19dd65bcd86dcb810b8fda779ddd07f8/lib/libtinfo.so.5: no version information available (required by /bin/bash)\\n/bin/bash: /azureml-envs/azureml_19dd65bcd86dcb810b8fda779ddd07f8/lib/libtinfo.so.5: no version information available (required by /bin/bash)\\n/bin/bash: /azureml-envs/azureml_19dd65bcd86dcb810b8fda779ddd07f8/lib/libtinfo.so.5: no version information available (required by /bin/bash)\\n2021-08-13T09:17:43,523715210+00:00 - rsyslog/run \\n2021-08-13T09:17:43,524481206+00:00 - gunicorn/run \\nDynamic Python package installation is disabled.\\nStarting HTTP server\\n2021-08-13T09:17:43,525069102+00:00 - iot-server/run \\nbash: /azureml-envs/azureml_19dd65bcd86dcb810b8fda779ddd07f8/lib/libtinfo.so.5: no version information available (required by bash)\\n2021-08-13T09:17:43,540062508+00:00 - nginx/run \\n/bin/bash: /azureml-envs/azureml_19dd65bcd86dcb810b8fda779ddd07f8/lib/libtinfo.so.5: no version information available (required by /bin/bash)\\nEdgeHubConnectionString and IOTEDGE_IOTHUBHOSTNAME are not set. Exiting...\\n2021-08-13T09:17:43,927710192+00:00 - iot-server/finish 1 0\\n2021-08-13T09:17:43,928945385+00:00 - Exit code 1 is normal. Not restarting iot-server.\\nStarting gunicorn 20.1.0\\nListening at: http://127.0.0.1:31311 (11)\\nUsing worker: sync\\nworker timeout is set to 300\\nBooting worker with pid: 37\\n2021-08-13 09:17:46.000723: W tensorflow/stream_executor/platform/default/dso_loader.cc:59] Could not load dynamic library \\'libcudart.so.10.1\\'; dlerror: libcudart.so.10.1: cannot open shared object file: No such file or directory; LD_LIBRARY_PATH: /azureml-envs/azureml_19dd65bcd86dcb810b8fda779ddd07f8/lib:/azureml-envs/azureml_19dd65bcd86dcb810b8fda779ddd07f8/lib:\\n2021-08-13 09:17:46.000780: I tensorflow/stream_executor/cuda/cudart_stub.cc:29] Ignore above cudart dlerror if you do not have a GPU set up on your machine.\\nSPARK_HOME not set. Skipping PySpark Initialization.\\nInitializing logger\\n2021-08-13 09:17:50,721 | root | INFO | Starting up app insights client\\nlogging socket was found. logging is available.\\nlogging socket was found. logging is available.\\n2021-08-13 09:17:50,721 | root | INFO | Starting up request id generator\\n2021-08-13 09:17:50,722 | root | INFO | Starting up app insight hooks\\n2021-08-13 09:17:50,722 | root | INFO | Invoking user\\'s init function\\n***************This is init************************************\\nno request id,***************This is init************************************\\n\\n2021-08-13 09:17:50.846461: W tensorflow/stream_executor/platform/default/dso_loader.cc:59] Could not load dynamic library \\'libcuda.so.1\\'; dlerror: libcuda.so.1: cannot open shared object file: No such file or directory; LD_LIBRARY_PATH: /azureml-envs/azureml_19dd65bcd86dcb810b8fda779ddd07f8/lib:/azureml-envs/azureml_19dd65bcd86dcb810b8fda779ddd07f8/lib:\\n2021-08-13 09:17:50.846492: W tensorflow/stream_executor/cuda/cuda_driver.cc:312] failed call to cuInit: UNKNOWN ERROR (303)\\n2021-08-13 09:17:50.846553: I tensorflow/stream_executor/cuda/cuda_diagnostics.cc:156] kernel driver does not appear to be running on this host (wk-caas-3f009ab3cf8e49d9b0748ed6dec873d1-258f3d8f29d2ffb85f6144): /proc/driver/nvidia/version does not exist\\n2021-08-13 09:17:50.846946: I tensorflow/core/platform/cpu_feature_guard.cc:142] This TensorFlow binary is optimized with oneAPI Deep Neural Network Library (oneDNN)to use the following CPU instructions in performance-critical operations:  AVX2 FMA\\nTo enable them in other operations, rebuild TensorFlow with the appropriate compiler flags.\\n2021-08-13 09:17:50.903710: I tensorflow/core/platform/profile_utils/cpu_utils.cc:104] CPU Frequency: 2294680000 Hz\\n2021-08-13 09:17:50.904496: I tensorflow/compiler/xla/service/service.cc:168] XLA service 0x4512f70 initialized for platform Host (this does not guarantee that XLA will be used). Devices:\\n2021-08-13 09:17:50.904590: I tensorflow/compiler/xla/service/service.cc:176]   StreamExecutor device (0): Host, Default Version\\n2021-08-13 09:17:52.815200: W tensorflow/core/framework/cpu_allocator_impl.cc:81] Allocation of 411041792 exceeds 10% of free system memory.\\n2021-08-13 09:17:54.414051: W tensorflow/core/framework/cpu_allocator_impl.cc:81] Allocation of 411041792 exceeds 10% of free system memory.\\n2021-08-13 09:17:55.034001: W tensorflow/core/framework/cpu_allocator_impl.cc:81] Allocation of 411041792 exceeds 10% of free system memory.\\n2021-08-13 09:17:57.250504: W tensorflow/core/framework/cpu_allocator_impl.cc:81] Allocation of 411041792 exceeds 10% of free system memory.\\n2021-08-13 09:18:00.147882: W tensorflow/core/framework/cpu_allocator_impl.cc:81] Allocation of 411041792 exceeds 10% of free system memory.\\n***************Model loaded************************************\\nno request id,***************Model loaded************************************\\n\\n2021-08-13 09:18:00,933 | root | INFO | Users\\'s init has completed successfully\\n2021-08-13 09:18:00,936 | root | INFO | Skipping middleware: dbg_model_info as it\\'s not enabled.\\n2021-08-13 09:18:00,936 | root | INFO | Skipping middleware: dbg_resource_usage as it\\'s not enabled.\\n2021-08-13 09:18:00,937 | root | INFO | Scoring timeout is found from os.environ: 60000 ms\\n2021-08-13 09:18:12,388 | root | INFO | Swagger file not present\\n2021-08-13 09:18:12,388 | root | INFO | 404\\n127.0.0.1 - - [13/Aug/2021:09:18:12 +0000] \"GET /swagger.json HTTP/1.0\" 404 19 \"-\" \"Go-http-client/1.1\"\\n2021-08-13 09:18:18,008 | root | INFO | Swagger file not present\\n2021-08-13 09:18:18,008 | root | INFO | 404\\n127.0.0.1 - - [13/Aug/2021:09:18:18 +0000] \"GET /swagger.json HTTP/1.0\" 404 19 \"-\" \"Go-http-client/1.1\"\\n2021-08-13 09:18:18,997 | root | INFO | Swagger file not present\\n2021-08-13 09:18:18,997 | root | INFO | 404\\n127.0.0.1 - - [13/Aug/2021:09:18:18 +0000] \"GET /swagger.json HTTP/1.0\" 404 19 \"-\" \"Go-http-client/1.1\"\\n2021-08-13 09:18:34,036 | root | INFO | Swagger file not present\\n2021-08-13 09:18:34,036 | root | INFO | 404\\n127.0.0.1 - - [13/Aug/2021:09:18:34 +0000] \"GET /swagger.json HTTP/1.0\" 404 19 \"-\" \"Go-http-client/1.1\"\\n'"
          },
          "metadata": {}
        }
      ],
      "execution_count": 43,
      "metadata": {
        "collapsed": true,
        "jupyter": {
          "source_hidden": false,
          "outputs_hidden": false
        },
        "nteract": {
          "transient": {
            "deleting": false
          }
        },
        "gather": {
          "logged": 1628846318936
        }
      }
    },
    {
      "cell_type": "code",
      "source": [
        "import requests\r\n",
        "import json\r\n",
        "\r\n",
        "headers = {'Content-Type': 'application/json'}\r\n",
        "resp = requests.post(scoring_uri, data=request, headers=headers)"
      ],
      "outputs": [],
      "execution_count": 44,
      "metadata": {
        "collapsed": true,
        "jupyter": {
          "source_hidden": false,
          "outputs_hidden": false
        },
        "nteract": {
          "transient": {
            "deleting": false
          }
        },
        "gather": {
          "logged": 1628846324918
        }
      }
    },
    {
      "cell_type": "code",
      "source": [
        "# Deserialize the response\r\n",
        "memfile = io.BytesIO()\r\n",
        "memfile.write(json.loads(resp.json()).encode('latin-1'))\r\n",
        "memfile.seek(0)\r\n",
        "resp = np.load(memfile)"
      ],
      "outputs": [],
      "execution_count": 45,
      "metadata": {
        "collapsed": true,
        "jupyter": {
          "source_hidden": false,
          "outputs_hidden": false
        },
        "nteract": {
          "transient": {
            "deleting": false
          }
        },
        "gather": {
          "logged": 1628846326244
        }
      }
    },
    {
      "cell_type": "code",
      "source": [
        "generate_img_from_mask(resp[0],cats)"
      ],
      "outputs": [
        {
          "output_type": "execute_result",
          "execution_count": 46,
          "data": {
            "text/plain": "<PIL.Image.Image image mode=RGB size=256x128 at 0x7F40EAF6A790>",
            "image/png": "[encoded data removed]"
          },
          "metadata": {}
        }
      ],
      "execution_count": 46,
      "metadata": {
        "collapsed": true,
        "jupyter": {
          "source_hidden": false,
          "outputs_hidden": false
        },
        "nteract": {
          "transient": {
            "deleting": false
          }
        },
        "gather": {
          "logged": 1628846327719
        }
      }
    }
  ],
  "metadata": {
    "kernelspec": {
      "name": "python38-azureml",
      "language": "python",
      "display_name": "Python 3.8 - AzureML"
    },
    "language_info": {
      "name": "python",
      "version": "3.8.1",
      "mimetype": "text/x-python",
      "codemirror_mode": {
        "name": "ipython",
        "version": 3
      },
      "pygments_lexer": "ipython3",
      "nbconvert_exporter": "python",
      "file_extension": ".py"
    },
    "kernel_info": {
      "name": "python38-azureml"
    },
    "microsoft": {
      "host": {
        "AzureML": {
          "notebookHasBeenCompleted": true
        }
      }
    },
    "nteract": {
      "version": "nteract-front-end@1.0.0"
    }
  },
  "nbformat": 4,
  "nbformat_minor": 2
}