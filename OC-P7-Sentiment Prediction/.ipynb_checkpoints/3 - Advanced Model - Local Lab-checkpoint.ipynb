{
 "cells": [
  {
   "cell_type": "markdown",
   "metadata": {},
   "source": [
    "<font color=\"black\"><font size=\"7\"><br>\n",
    "     Project 7 - Advanced Model\n",
    "</font>"
   ]
  },
  {
   "cell_type": "code",
   "execution_count": 1,
   "metadata": {},
   "outputs": [],
   "source": [
    "import pandas as pd\n",
    "import numpy as np\n",
    "import matplotlib.pyplot as plt\n",
    "import seaborn as sns\n",
    "\n",
    "from sklearn.feature_extraction.text import CountVectorizer\n",
    "\n",
    "from nltk.corpus import wordnet\n",
    "\n",
    "import nltk\n",
    "\n",
    "from nltk.stem.snowball import SnowballStemmer\n",
    "from nltk.stem.porter import PorterStemmer\n",
    "from nltk.stem import WordNetLemmatizer\n",
    "\n",
    "from gensim.models import doc2vec\n",
    "\n",
    "from collections import defaultdict"
   ]
  },
  {
   "cell_type": "markdown",
   "metadata": {},
   "source": [
    "# Loading data"
   ]
  },
  {
   "cell_type": "code",
   "execution_count": 2,
   "metadata": {},
   "outputs": [],
   "source": [
    "data=pd.read_csv(\"D:/Data OC/P7/sentiment140/training.1600000.processed.noemoticon.csv\",header=None,names=['target','text'],usecols=[0,5])"
   ]
  },
  {
   "cell_type": "markdown",
   "metadata": {},
   "source": [
    "We need to noramlize the target, reformat and save for futur use"
   ]
  },
  {
   "cell_type": "code",
   "execution_count": 3,
   "metadata": {},
   "outputs": [],
   "source": [
    "data['target'] = data['target']/4"
   ]
  },
  {
   "cell_type": "code",
   "execution_count": 4,
   "metadata": {},
   "outputs": [],
   "source": [
    "data = data.astype({'target':'int32'},copy=False)"
   ]
  },
  {
   "cell_type": "code",
   "execution_count": 5,
   "metadata": {},
   "outputs": [],
   "source": [
    "data.to_csv('data/data_full.csv')"
   ]
  },
  {
   "cell_type": "code",
   "execution_count": 6,
   "metadata": {},
   "outputs": [],
   "source": [
    "data = pd.read_pickle('data/data_full')"
   ]
  },
  {
   "cell_type": "code",
   "execution_count": 7,
   "metadata": {},
   "outputs": [
    {
     "data": {
      "text/plain": [
       "(1600000, 2)"
      ]
     },
     "execution_count": 7,
     "metadata": {},
     "output_type": "execute_result"
    }
   ],
   "source": [
    "data.shape"
   ]
  },
  {
   "cell_type": "markdown",
   "metadata": {},
   "source": [
    "## Creating a common datasets for comapring performances across the three approachs"
   ]
  },
  {
   "cell_type": "code",
   "execution_count": 8,
   "metadata": {},
   "outputs": [],
   "source": [
    "data_common = data.sample(n=1600,random_state=8)"
   ]
  },
  {
   "cell_type": "code",
   "execution_count": 9,
   "metadata": {},
   "outputs": [],
   "source": [
    "data_common.to_csv('data/data_common.csv')"
   ]
  },
  {
   "cell_type": "code",
   "execution_count": 10,
   "metadata": {},
   "outputs": [
    {
     "data": {
      "text/plain": [
       "(1600, 2)"
      ]
     },
     "execution_count": 10,
     "metadata": {},
     "output_type": "execute_result"
    }
   ],
   "source": [
    "data_common.shape"
   ]
  },
  {
   "cell_type": "code",
   "execution_count": 11,
   "metadata": {},
   "outputs": [
    {
     "data": {
      "text/html": [
       "<div>\n",
       "<style scoped>\n",
       "    .dataframe tbody tr th:only-of-type {\n",
       "        vertical-align: middle;\n",
       "    }\n",
       "\n",
       "    .dataframe tbody tr th {\n",
       "        vertical-align: top;\n",
       "    }\n",
       "\n",
       "    .dataframe thead th {\n",
       "        text-align: right;\n",
       "    }\n",
       "</style>\n",
       "<table border=\"1\" class=\"dataframe\">\n",
       "  <thead>\n",
       "    <tr style=\"text-align: right;\">\n",
       "      <th></th>\n",
       "      <th>target</th>\n",
       "      <th>text</th>\n",
       "    </tr>\n",
       "  </thead>\n",
       "  <tbody>\n",
       "    <tr>\n",
       "      <th>1516037</th>\n",
       "      <td>1</td>\n",
       "      <td>Wow, its later than I feel, better wrap up ano...</td>\n",
       "    </tr>\n",
       "    <tr>\n",
       "      <th>589923</th>\n",
       "      <td>0</td>\n",
       "      <td>@lemonissimo I think the reason I twitted so m...</td>\n",
       "    </tr>\n",
       "    <tr>\n",
       "      <th>213819</th>\n",
       "      <td>0</td>\n",
       "      <td>@GericaQuinn ahhhhh! dude u suck! lmao. jk! bu...</td>\n",
       "    </tr>\n",
       "    <tr>\n",
       "      <th>10047</th>\n",
       "      <td>0</td>\n",
       "      <td>...aaaand there goes that great day  RIP Mrs W...</td>\n",
       "    </tr>\n",
       "    <tr>\n",
       "      <th>1330460</th>\n",
       "      <td>1</td>\n",
       "      <td>another morning joe free morning ahhhh ... sun...</td>\n",
       "    </tr>\n",
       "    <tr>\n",
       "      <th>...</th>\n",
       "      <td>...</td>\n",
       "      <td>...</td>\n",
       "    </tr>\n",
       "    <tr>\n",
       "      <th>622620</th>\n",
       "      <td>0</td>\n",
       "      <td>Damn packing trumps Xsport</td>\n",
       "    </tr>\n",
       "    <tr>\n",
       "      <th>232219</th>\n",
       "      <td>0</td>\n",
       "      <td>bout 2 call it a NIGHT... madd TIRED..gotta he...</td>\n",
       "    </tr>\n",
       "    <tr>\n",
       "      <th>1368574</th>\n",
       "      <td>1</td>\n",
       "      <td>@IneffableNothin I love Pandora, but I am real...</td>\n",
       "    </tr>\n",
       "    <tr>\n",
       "      <th>441029</th>\n",
       "      <td>0</td>\n",
       "      <td>@simoncurtis wish i could</td>\n",
       "    </tr>\n",
       "    <tr>\n",
       "      <th>1393237</th>\n",
       "      <td>1</td>\n",
       "      <td>@GulcinG Hala  in arabic.</td>\n",
       "    </tr>\n",
       "  </tbody>\n",
       "</table>\n",
       "<p>1600 rows × 2 columns</p>\n",
       "</div>"
      ],
      "text/plain": [
       "         target                                               text\n",
       "1516037       1  Wow, its later than I feel, better wrap up ano...\n",
       "589923        0  @lemonissimo I think the reason I twitted so m...\n",
       "213819        0  @GericaQuinn ahhhhh! dude u suck! lmao. jk! bu...\n",
       "10047         0  ...aaaand there goes that great day  RIP Mrs W...\n",
       "1330460       1  another morning joe free morning ahhhh ... sun...\n",
       "...         ...                                                ...\n",
       "622620        0                        Damn packing trumps Xsport \n",
       "232219        0  bout 2 call it a NIGHT... madd TIRED..gotta he...\n",
       "1368574       1  @IneffableNothin I love Pandora, but I am real...\n",
       "441029        0                         @simoncurtis wish i could \n",
       "1393237       1                          @GulcinG Hala  in arabic.\n",
       "\n",
       "[1600 rows x 2 columns]"
      ]
     },
     "execution_count": 11,
     "metadata": {},
     "output_type": "execute_result"
    }
   ],
   "source": [
    "data_common"
   ]
  },
  {
   "cell_type": "markdown",
   "metadata": {},
   "source": [
    "### creating Json file for Azure deployment"
   ]
  },
  {
   "cell_type": "code",
   "execution_count": 12,
   "metadata": {},
   "outputs": [],
   "source": [
    "data_common.to_json('data/data_common.json')"
   ]
  },
  {
   "cell_type": "code",
   "execution_count": 13,
   "metadata": {},
   "outputs": [],
   "source": [
    "import json"
   ]
  },
  {
   "cell_type": "code",
   "execution_count": 14,
   "metadata": {},
   "outputs": [],
   "source": [
    "data_json = pd.read_json('data/data_common.json')"
   ]
  },
  {
   "cell_type": "code",
   "execution_count": 15,
   "metadata": {},
   "outputs": [
    {
     "data": {
      "text/html": [
       "<div>\n",
       "<style scoped>\n",
       "    .dataframe tbody tr th:only-of-type {\n",
       "        vertical-align: middle;\n",
       "    }\n",
       "\n",
       "    .dataframe tbody tr th {\n",
       "        vertical-align: top;\n",
       "    }\n",
       "\n",
       "    .dataframe thead th {\n",
       "        text-align: right;\n",
       "    }\n",
       "</style>\n",
       "<table border=\"1\" class=\"dataframe\">\n",
       "  <thead>\n",
       "    <tr style=\"text-align: right;\">\n",
       "      <th></th>\n",
       "      <th>target</th>\n",
       "      <th>text</th>\n",
       "    </tr>\n",
       "  </thead>\n",
       "  <tbody>\n",
       "    <tr>\n",
       "      <th>1516037</th>\n",
       "      <td>1</td>\n",
       "      <td>Wow, its later than I feel, better wrap up ano...</td>\n",
       "    </tr>\n",
       "    <tr>\n",
       "      <th>589923</th>\n",
       "      <td>0</td>\n",
       "      <td>@lemonissimo I think the reason I twitted so m...</td>\n",
       "    </tr>\n",
       "    <tr>\n",
       "      <th>213819</th>\n",
       "      <td>0</td>\n",
       "      <td>@GericaQuinn ahhhhh! dude u suck! lmao. jk! bu...</td>\n",
       "    </tr>\n",
       "    <tr>\n",
       "      <th>10047</th>\n",
       "      <td>0</td>\n",
       "      <td>...aaaand there goes that great day  RIP Mrs W...</td>\n",
       "    </tr>\n",
       "    <tr>\n",
       "      <th>1330460</th>\n",
       "      <td>1</td>\n",
       "      <td>another morning joe free morning ahhhh ... sun...</td>\n",
       "    </tr>\n",
       "    <tr>\n",
       "      <th>...</th>\n",
       "      <td>...</td>\n",
       "      <td>...</td>\n",
       "    </tr>\n",
       "    <tr>\n",
       "      <th>622620</th>\n",
       "      <td>0</td>\n",
       "      <td>Damn packing trumps Xsport</td>\n",
       "    </tr>\n",
       "    <tr>\n",
       "      <th>232219</th>\n",
       "      <td>0</td>\n",
       "      <td>bout 2 call it a NIGHT... madd TIRED..gotta he...</td>\n",
       "    </tr>\n",
       "    <tr>\n",
       "      <th>1368574</th>\n",
       "      <td>1</td>\n",
       "      <td>@IneffableNothin I love Pandora, but I am real...</td>\n",
       "    </tr>\n",
       "    <tr>\n",
       "      <th>441029</th>\n",
       "      <td>0</td>\n",
       "      <td>@simoncurtis wish i could</td>\n",
       "    </tr>\n",
       "    <tr>\n",
       "      <th>1393237</th>\n",
       "      <td>1</td>\n",
       "      <td>@GulcinG Hala  in arabic.</td>\n",
       "    </tr>\n",
       "  </tbody>\n",
       "</table>\n",
       "<p>1600 rows × 2 columns</p>\n",
       "</div>"
      ],
      "text/plain": [
       "         target                                               text\n",
       "1516037       1  Wow, its later than I feel, better wrap up ano...\n",
       "589923        0  @lemonissimo I think the reason I twitted so m...\n",
       "213819        0  @GericaQuinn ahhhhh! dude u suck! lmao. jk! bu...\n",
       "10047         0  ...aaaand there goes that great day  RIP Mrs W...\n",
       "1330460       1  another morning joe free morning ahhhh ... sun...\n",
       "...         ...                                                ...\n",
       "622620        0                        Damn packing trumps Xsport \n",
       "232219        0  bout 2 call it a NIGHT... madd TIRED..gotta he...\n",
       "1368574       1  @IneffableNothin I love Pandora, but I am real...\n",
       "441029        0                         @simoncurtis wish i could \n",
       "1393237       1                          @GulcinG Hala  in arabic.\n",
       "\n",
       "[1600 rows x 2 columns]"
      ]
     },
     "execution_count": 15,
     "metadata": {},
     "output_type": "execute_result"
    }
   ],
   "source": [
    "data_json"
   ]
  },
  {
   "cell_type": "markdown",
   "metadata": {},
   "source": [
    "## Removing common dataset from data"
   ]
  },
  {
   "cell_type": "code",
   "execution_count": 16,
   "metadata": {},
   "outputs": [],
   "source": [
    "data = data.drop(index=data_common.index)"
   ]
  },
  {
   "cell_type": "code",
   "execution_count": 17,
   "metadata": {},
   "outputs": [
    {
     "data": {
      "text/plain": [
       "(1598400, 2)"
      ]
     },
     "execution_count": 17,
     "metadata": {},
     "output_type": "execute_result"
    }
   ],
   "source": [
    "data.shape"
   ]
  },
  {
   "cell_type": "code",
   "execution_count": 18,
   "metadata": {},
   "outputs": [],
   "source": [
    "data.to_csv('data/data_training.csv')"
   ]
  },
  {
   "cell_type": "markdown",
   "metadata": {},
   "source": [
    "# Exploratory analysis"
   ]
  },
  {
   "cell_type": "markdown",
   "metadata": {},
   "source": [
    "## Target distribution"
   ]
  },
  {
   "cell_type": "code",
   "execution_count": 19,
   "metadata": {},
   "outputs": [
    {
     "data": {
      "image/png": "[encoded data removed]",
      "text/plain": [
       "<Figure size 432x288 with 1 Axes>"
      ]
     },
     "metadata": {
      "needs_background": "light"
     },
     "output_type": "display_data"
    }
   ],
   "source": [
    "sns.histplot(data['target'])\n",
    "plt.title('target distribution')\n",
    "plt.show()"
   ]
  },
  {
   "cell_type": "markdown",
   "metadata": {},
   "source": [
    "Acuuracy is a good metric for measuring a balanced classification"
   ]
  },
  {
   "cell_type": "markdown",
   "metadata": {},
   "source": [
    "## Number of words per tweet"
   ]
  },
  {
   "cell_type": "code",
   "execution_count": 20,
   "metadata": {},
   "outputs": [],
   "source": [
    "splitted_text = data.text.str.split()"
   ]
  },
  {
   "cell_type": "code",
   "execution_count": 21,
   "metadata": {},
   "outputs": [],
   "source": [
    "nb_words =[len(text) for text in splitted_text.values]"
   ]
  },
  {
   "cell_type": "code",
   "execution_count": 22,
   "metadata": {},
   "outputs": [
    {
     "data": {
      "image/png": "[encoded data removed]",
      "text/plain": [
       "<Figure size 432x288 with 1 Axes>"
      ]
     },
     "metadata": {
      "needs_background": "light"
     },
     "output_type": "display_data"
    }
   ],
   "source": [
    "plt.title('Number of words per tweet')\n",
    "sns.histplot(nb_words)\n",
    "plt.show()"
   ]
  },
  {
   "cell_type": "markdown",
   "metadata": {},
   "source": [
    "## Word frequency"
   ]
  },
  {
   "cell_type": "code",
   "execution_count": 23,
   "metadata": {},
   "outputs": [],
   "source": [
    "dictionnary = {}\n",
    "for sentence in splitted_text:\n",
    "    for word in sentence:\n",
    "        if word in dictionnary.keys():\n",
    "            dictionnary[word]+=1\n",
    "        else:\n",
    "            dictionnary[word]=1\n",
    "        "
   ]
  },
  {
   "cell_type": "code",
   "execution_count": 24,
   "metadata": {},
   "outputs": [],
   "source": [
    "vocab = pd.DataFrame.from_dict(dictionnary,orient='index',columns=['nb_occur'])"
   ]
  },
  {
   "cell_type": "code",
   "execution_count": 25,
   "metadata": {},
   "outputs": [
    {
     "data": {
      "text/plain": [
       "(1349319, 1)"
      ]
     },
     "execution_count": 25,
     "metadata": {},
     "output_type": "execute_result"
    }
   ],
   "source": [
    "vocab.shape"
   ]
  },
  {
   "cell_type": "code",
   "execution_count": 26,
   "metadata": {},
   "outputs": [
    {
     "data": {
      "text/plain": [
       "(20193, 1)"
      ]
     },
     "execution_count": 26,
     "metadata": {},
     "output_type": "execute_result"
    }
   ],
   "source": [
    "vocab[vocab['nb_occur']>46].shape"
   ]
  },
  {
   "cell_type": "code",
   "execution_count": 27,
   "metadata": {},
   "outputs": [
    {
     "data": {
      "text/plain": [
       "(65637, 1)"
      ]
     },
     "execution_count": 27,
     "metadata": {},
     "output_type": "execute_result"
    }
   ],
   "source": [
    "vocab[vocab['nb_occur']>10].shape"
   ]
  },
  {
   "cell_type": "markdown",
   "metadata": {},
   "source": [
    "# Preprocessing"
   ]
  },
  {
   "cell_type": "markdown",
   "metadata": {},
   "source": [
    "## Tokenizer"
   ]
  },
  {
   "cell_type": "code",
   "execution_count": 28,
   "metadata": {},
   "outputs": [],
   "source": [
    "def tokenizer(data, y = None):\n",
    "    '''tokenizes input dataframe considering words of 2 and more characters\n",
    "       and lowercase text and remove numbers\n",
    "    \n",
    "       Parameters\n",
    "       ----------\n",
    "       data : Pandas series to tokenize\n",
    "       \n",
    "       Returns\n",
    "       --------\n",
    "       Pandas series list of tokens'''\n",
    "              \n",
    "        \n",
    "    tokenizer = nltk.RegexpTokenizer(r'\\w{2,}')\n",
    "    sentences = data.str.lower()\n",
    "    sentences = sentences.str.replace('\\d+', '',regex=True)\n",
    "    results = sentences.apply(tokenizer.tokenize)\n",
    "  \n",
    "    return results"
   ]
  },
  {
   "cell_type": "markdown",
   "metadata": {},
   "source": [
    "Create a transformer for pipeline integration"
   ]
  },
  {
   "cell_type": "code",
   "execution_count": 29,
   "metadata": {},
   "outputs": [],
   "source": [
    "from sklearn.preprocessing import FunctionTransformer"
   ]
  },
  {
   "cell_type": "code",
   "execution_count": 30,
   "metadata": {},
   "outputs": [],
   "source": [
    "tokenizer_transformer = FunctionTransformer(func=tokenizer)"
   ]
  },
  {
   "cell_type": "markdown",
   "metadata": {},
   "source": [
    "## Stemming"
   ]
  },
  {
   "cell_type": "code",
   "execution_count": 31,
   "metadata": {},
   "outputs": [],
   "source": [
    "from nltk.stem.porter import PorterStemmer"
   ]
  },
  {
   "cell_type": "code",
   "execution_count": 32,
   "metadata": {},
   "outputs": [],
   "source": [
    "def stemmer(data, y = None, stemmer = PorterStemmer()):\n",
    "    ''' Stems data using stemmer returns stems as a list of strings'''\n",
    "\n",
    "\n",
    "    def stem_sentence(tokenized_sentence):\n",
    "        stems = [stemmer.stem(i) for i in tokenized_sentence]\n",
    "        return stems\n",
    "    \n",
    "    return data.apply(stem_sentence)\n"
   ]
  },
  {
   "cell_type": "markdown",
   "metadata": {},
   "source": [
    "Create a transformer for pipeline integration"
   ]
  },
  {
   "cell_type": "code",
   "execution_count": 33,
   "metadata": {},
   "outputs": [],
   "source": [
    "stemmer_transformer = FunctionTransformer(func=stemmer)"
   ]
  },
  {
   "cell_type": "markdown",
   "metadata": {},
   "source": [
    "## Lemmatization"
   ]
  },
  {
   "cell_type": "code",
   "execution_count": 34,
   "metadata": {},
   "outputs": [],
   "source": [
    "def lemmatizer(data, y = None, lemmatizer = WordNetLemmatizer()):\n",
    "    \n",
    "    def get_wordnet_pos(word):\n",
    "    #Map POS tag to first character lemmatize() accepts\n",
    "        tag = nltk.pos_tag([word])[0][1][0].upper()\n",
    "        tag_dict = {\"J\": wordnet.ADJ,\n",
    "                    \"N\": wordnet.NOUN,\n",
    "                    \"V\": wordnet.VERB,\n",
    "                    \"R\": wordnet.ADV}\n",
    "        return tag_dict.get(tag, wordnet.NOUN)\n",
    "\n",
    "\n",
    "    def lem_sentence(tokenized_sentence):\n",
    "        lems = [lemmatizer.lemmatize(i,pos=get_wordnet_pos(i)) for i in tokenized_sentence]\n",
    "        return lems \n",
    "\n",
    "    \n",
    "    return data.apply(lem_sentence)"
   ]
  },
  {
   "cell_type": "markdown",
   "metadata": {},
   "source": [
    "Create a transformer for pipeline integration"
   ]
  },
  {
   "cell_type": "code",
   "execution_count": 35,
   "metadata": {},
   "outputs": [],
   "source": [
    "lemmatizer_transformer = FunctionTransformer(func=lemmatizer)"
   ]
  },
  {
   "cell_type": "markdown",
   "metadata": {},
   "source": [
    "## removing stop words"
   ]
  },
  {
   "cell_type": "code",
   "execution_count": 36,
   "metadata": {},
   "outputs": [],
   "source": [
    "def remove_stopwords(data, stopwords = nltk.corpus.stopwords.words('english')):\n",
    "    '''Remove stopwords from data'''\n",
    "\n",
    "    # remove stopwords from stems and create a new column\n",
    "    results = [[stem for stem in stems if (\n",
    "        not(stem in stopwords))] for stems in data]\n",
    "    \n",
    "    return results"
   ]
  },
  {
   "cell_type": "markdown",
   "metadata": {},
   "source": [
    "Create a transformer for pipeline integration"
   ]
  },
  {
   "cell_type": "code",
   "execution_count": 37,
   "metadata": {},
   "outputs": [],
   "source": [
    "remove_stopwords_transformer = FunctionTransformer(remove_stopwords)"
   ]
  },
  {
   "cell_type": "markdown",
   "metadata": {},
   "source": [
    "# Preprocessing Pipeline"
   ]
  },
  {
   "cell_type": "markdown",
   "metadata": {},
   "source": [
    "## With stemming"
   ]
  },
  {
   "cell_type": "code",
   "execution_count": 38,
   "metadata": {},
   "outputs": [],
   "source": [
    "from sklearn.pipeline import Pipeline"
   ]
  },
  {
   "cell_type": "code",
   "execution_count": 39,
   "metadata": {},
   "outputs": [],
   "source": [
    "pipe_stem = Pipeline([('Tokenizer',tokenizer_transformer),\n",
    "                      ('Stemmer',stemmer_transformer),\n",
    "                      ])"
   ]
  },
  {
   "cell_type": "markdown",
   "metadata": {},
   "source": [
    "## With lemmatization"
   ]
  },
  {
   "cell_type": "code",
   "execution_count": 40,
   "metadata": {},
   "outputs": [],
   "source": [
    "pipe_lem = Pipeline([('Tokenizer',tokenizer_transformer),\n",
    "                      ('lemmatizer',lemmatizer_transformer),\n",
    "                      ])"
   ]
  },
  {
   "cell_type": "markdown",
   "metadata": {},
   "source": [
    "# Word Embedding"
   ]
  },
  {
   "cell_type": "markdown",
   "metadata": {},
   "source": [
    "## Fasttext Transformer"
   ]
  },
  {
   "cell_type": "code",
   "execution_count": 41,
   "metadata": {},
   "outputs": [],
   "source": [
    "from gensim.models.fasttext import FastText as FT_gensim\n",
    "from sklearn.base import BaseEstimator, TransformerMixin\n",
    "import gensim"
   ]
  },
  {
   "cell_type": "code",
   "execution_count": 42,
   "metadata": {},
   "outputs": [],
   "source": [
    "class Fastext_Transformer(BaseEstimator, TransformerMixin):\n",
    "    \n",
    "    def __init__(self):\n",
    "        self.model = FT_gensim(size=50,min_count=10,)     \n",
    "        \n",
    "        \n",
    "    def build_doc2vec_corpus(self,texts):\n",
    "        '''Returns a training corpus in the appropriate gensim Taggeddocument format'''\n",
    "        results = []\n",
    "        for tag,text in enumerate(texts):\n",
    "            results.append(gensim.models.doc2vec.TaggedDocument(text,[tag]))\n",
    "        return results\n",
    "\n",
    "    def fit(self, X, y = None):\n",
    "        self.train_corpus = list(self.build_doc2vec_corpus(X))\n",
    "        self.model.build_vocab(sentences=X.values)\n",
    "        self.model.train(X.values,\n",
    "                         epochs=self.model.epochs,\n",
    "                         total_examples=self.model.corpus_count,\n",
    "                         total_words=self.model.corpus_total_words\n",
    "                        )\n",
    "\n",
    "        return self\n",
    "    \n",
    "    def vectorized_sentence(self,sentence):\n",
    "        wordvecs_sent = [self.model.wv[word] for word in sentence]\n",
    "        meanvec_sent = np.array(wordvecs_sent).mean(axis=0)\n",
    "        return meanvec_sent\n",
    "        \n",
    "    \n",
    "    \n",
    "    def transform(self, X):\n",
    "        return [self.vectorized_sentence(text) for text in X]\n",
    "        "
   ]
  },
  {
   "cell_type": "markdown",
   "metadata": {},
   "source": [
    "## Pre trained Glove Transformer"
   ]
  },
  {
   "cell_type": "code",
   "execution_count": 43,
   "metadata": {},
   "outputs": [],
   "source": [
    "import gensim.downloader"
   ]
  },
  {
   "cell_type": "markdown",
   "metadata": {},
   "source": [
    "we'll use the glove pretrained vector with a dimension of 100"
   ]
  },
  {
   "cell_type": "code",
   "execution_count": 44,
   "metadata": {},
   "outputs": [],
   "source": [
    "glove_vectors = gensim.downloader.load('glove-twitter-100')"
   ]
  },
  {
   "cell_type": "code",
   "execution_count": 45,
   "metadata": {},
   "outputs": [],
   "source": [
    "def vectorize_sentence_pretrained(sentence,Keyedvectors= glove_vectors):\n",
    "    wordvecs_sent = [Keyedvectors[word] for word in sentence if word in Keyedvectors]\n",
    "    if len(wordvecs_sent)>0:\n",
    "        meanvec_sent = np.array(wordvecs_sent).mean(axis=0)\n",
    "    else:\n",
    "        meanvec_sent = np.zeros(Keyedvectors.vector_size)\n",
    "    return meanvec_sent\n",
    "\n",
    "def vectorize_corpus_glove(data):\n",
    "    return [vectorize_sentence_pretrained(text) for text in data]"
   ]
  },
  {
   "cell_type": "code",
   "execution_count": 46,
   "metadata": {},
   "outputs": [],
   "source": [
    "Glove_transformer = FunctionTransformer(func=vectorize_corpus_glove)"
   ]
  },
  {
   "cell_type": "markdown",
   "metadata": {},
   "source": [
    "## Doc2vec transformer"
   ]
  },
  {
   "cell_type": "code",
   "execution_count": 47,
   "metadata": {},
   "outputs": [],
   "source": [
    "class Doc2vec_Transformer(BaseEstimator, TransformerMixin):\n",
    "    \n",
    "    def __init__(self):\n",
    "        self.model = gensim.models.doc2vec.Doc2Vec(vector_size=100, min_count=10, epochs=60)        \n",
    "        self.train_corpus=[]\n",
    "        \n",
    "    def build_doc2vec_corpus(self,texts):\n",
    "        '''Returns a training corpus in the appropriate gensim Taggeddocument format'''\n",
    "        results = []\n",
    "        for tag,text in enumerate(texts):\n",
    "            results.append(gensim.models.doc2vec.TaggedDocument(text,[tag]))\n",
    "        return results\n",
    "\n",
    "    def fit(self, X, y = None):\n",
    "        self.train_corpus = list(self.build_doc2vec_corpus(X))\n",
    "        self.model.build_vocab(self.train_corpus)\n",
    "        self.model.train(self.train_corpus, total_examples=self.model.corpus_count, epochs=self.model.epochs)\n",
    "        return self\n",
    "    \n",
    "    def transform(self, X):\n",
    "        return [self.model.infer_vector(text) for text in X]\n",
    "        \n",
    "        "
   ]
  },
  {
   "cell_type": "markdown",
   "metadata": {},
   "source": [
    "# Comparing preprocessings with Logistic regression"
   ]
  },
  {
   "cell_type": "code",
   "execution_count": 48,
   "metadata": {},
   "outputs": [],
   "source": [
    "import time\n",
    "from sklearn.metrics import accuracy_score,auc"
   ]
  },
  {
   "cell_type": "markdown",
   "metadata": {},
   "source": [
    "## Downsampling dataset for reducing training time"
   ]
  },
  {
   "cell_type": "code",
   "execution_count": 49,
   "metadata": {},
   "outputs": [],
   "source": [
    "#create a sample dataset for testing\n",
    "data_sample = data.sample(n=10000,random_state=10)"
   ]
  },
  {
   "cell_type": "code",
   "execution_count": 50,
   "metadata": {},
   "outputs": [],
   "source": [
    "from sklearn.model_selection import train_test_split\n",
    "X = data_sample['text']\n",
    "y = data_sample['target']\n",
    "X_train, X_test, y_train, y_test = train_test_split(X,y,test_size=0.2,random_state=33,stratify=y)"
   ]
  },
  {
   "cell_type": "code",
   "execution_count": 51,
   "metadata": {},
   "outputs": [
    {
     "data": {
      "text/plain": [
       "(8000,)"
      ]
     },
     "execution_count": 51,
     "metadata": {},
     "output_type": "execute_result"
    }
   ],
   "source": [
    "X_train.shape"
   ]
  },
  {
   "cell_type": "code",
   "execution_count": 52,
   "metadata": {},
   "outputs": [],
   "source": [
    "from sklearn.preprocessing import StandardScaler"
   ]
  },
  {
   "cell_type": "code",
   "execution_count": 53,
   "metadata": {},
   "outputs": [],
   "source": [
    "from sklearn.linear_model import LogisticRegression"
   ]
  },
  {
   "cell_type": "markdown",
   "metadata": {},
   "source": [
    "## Dataframe for storing results"
   ]
  },
  {
   "cell_type": "code",
   "execution_count": 54,
   "metadata": {},
   "outputs": [],
   "source": [
    "preprocessing_performances=pd.DataFrame(columns=['training_time (s)','Accuracy'])"
   ]
  },
  {
   "cell_type": "markdown",
   "metadata": {},
   "source": [
    "## Fastext"
   ]
  },
  {
   "cell_type": "markdown",
   "metadata": {},
   "source": [
    "### No preprocess"
   ]
  },
  {
   "cell_type": "code",
   "execution_count": 55,
   "metadata": {},
   "outputs": [],
   "source": [
    "model_name='Fasttext - No preprocess'\n",
    "\n",
    "pipe_fastext = Pipeline([    ('preprocessing',tokenizer_transformer),\n",
    "                             ('embedding',Fastext_Transformer()),\n",
    "                             ('scaler',StandardScaler()),\n",
    "                             ('classifier', LogisticRegression(C=1e-2))])\n",
    "\n",
    "start = time.time()\n",
    "pipe_fastext.fit(X_train,y_train)\n",
    "stop = time.time()\n",
    "\n",
    "y_pred = pipe_fastext.predict(X_test)\n",
    "preprocessing_performances = preprocessing_performances.append(\n",
    "    pd.Series(data={'training_time (s)': stop-start,\n",
    "              'Accuracy': accuracy_score(y_pred,y_test)},\n",
    "              name=model_name)\n",
    ")"
   ]
  },
  {
   "cell_type": "code",
   "execution_count": 56,
   "metadata": {},
   "outputs": [
    {
     "data": {
      "text/html": [
       "<div>\n",
       "<style scoped>\n",
       "    .dataframe tbody tr th:only-of-type {\n",
       "        vertical-align: middle;\n",
       "    }\n",
       "\n",
       "    .dataframe tbody tr th {\n",
       "        vertical-align: top;\n",
       "    }\n",
       "\n",
       "    .dataframe thead th {\n",
       "        text-align: right;\n",
       "    }\n",
       "</style>\n",
       "<table border=\"1\" class=\"dataframe\">\n",
       "  <thead>\n",
       "    <tr style=\"text-align: right;\">\n",
       "      <th></th>\n",
       "      <th>training_time (s)</th>\n",
       "      <th>Accuracy</th>\n",
       "    </tr>\n",
       "  </thead>\n",
       "  <tbody>\n",
       "    <tr>\n",
       "      <th>Fasttext - No preprocess</th>\n",
       "      <td>29.219006</td>\n",
       "      <td>0.6105</td>\n",
       "    </tr>\n",
       "  </tbody>\n",
       "</table>\n",
       "</div>"
      ],
      "text/plain": [
       "                          training_time (s)  Accuracy\n",
       "Fasttext - No preprocess          29.219006    0.6105"
      ]
     },
     "execution_count": 56,
     "metadata": {},
     "output_type": "execute_result"
    }
   ],
   "source": [
    "preprocessing_performances"
   ]
  },
  {
   "cell_type": "markdown",
   "metadata": {},
   "source": [
    "### With lemmatization"
   ]
  },
  {
   "cell_type": "code",
   "execution_count": 57,
   "metadata": {},
   "outputs": [],
   "source": [
    "model_name='Fasttext - Lemmatization'\n",
    "\n",
    "pipe_lem_fastext = Pipeline([('preprocessing',pipe_lem),\n",
    "                             ('embedding',Fastext_Transformer()),\n",
    "                             ('scaler',StandardScaler()),\n",
    "                             ('classifier', LogisticRegression(C=1e-2))])"
   ]
  },
  {
   "cell_type": "code",
   "execution_count": 58,
   "metadata": {},
   "outputs": [],
   "source": [
    "start = time.time()\n",
    "pipe_lem_fastext.fit(X_train,y_train)\n",
    "stop = time.time()"
   ]
  },
  {
   "cell_type": "code",
   "execution_count": 59,
   "metadata": {},
   "outputs": [],
   "source": [
    "y_pred = pipe_lem_fastext.predict(X_test)\n",
    "preprocessing_performances = preprocessing_performances.append(\n",
    "    pd.Series(data={'training_time (s)': stop-start,\n",
    "              'Accuracy': accuracy_score(y_pred,y_test)},\n",
    "              name=model_name)\n",
    ")"
   ]
  },
  {
   "cell_type": "markdown",
   "metadata": {},
   "source": [
    "### With stemming"
   ]
  },
  {
   "cell_type": "code",
   "execution_count": 37,
   "metadata": {},
   "outputs": [],
   "source": [
    "model_name = 'Fasttext - stemming'\n",
    "\n",
    "pipe_stem_fastext = Pipeline([('preprocessing',pipe_stem),\n",
    "                             ('embedding',Fastext_Transformer()),\n",
    "                             ('scaler',StandardScaler()),\n",
    "                             ('classifier', LogisticRegression(C=1e-2))])"
   ]
  },
  {
   "cell_type": "code",
   "execution_count": 38,
   "metadata": {},
   "outputs": [],
   "source": [
    "start = time.time()\n",
    "pipe_stem_fastext.fit(X_train,y_train)\n",
    "stop = time.time()"
   ]
  },
  {
   "cell_type": "code",
   "execution_count": 39,
   "metadata": {},
   "outputs": [],
   "source": [
    "y_pred = pipe_stem_fastext.predict(X_test)\n",
    "preprocessing_performances = preprocessing_performances.append(\n",
    "    pd.Series(data={'training_time (s)': stop-start,\n",
    "              'Accuracy': accuracy_score(y_pred,y_test)},\n",
    "              name=model_name)\n",
    ")"
   ]
  },
  {
   "cell_type": "code",
   "execution_count": 40,
   "metadata": {},
   "outputs": [
    {
     "data": {
      "text/html": [
       "<div>\n",
       "<style scoped>\n",
       "    .dataframe tbody tr th:only-of-type {\n",
       "        vertical-align: middle;\n",
       "    }\n",
       "\n",
       "    .dataframe tbody tr th {\n",
       "        vertical-align: top;\n",
       "    }\n",
       "\n",
       "    .dataframe thead th {\n",
       "        text-align: right;\n",
       "    }\n",
       "</style>\n",
       "<table border=\"1\" class=\"dataframe\">\n",
       "  <thead>\n",
       "    <tr style=\"text-align: right;\">\n",
       "      <th></th>\n",
       "      <th>training_time (s)</th>\n",
       "      <th>Accuracy</th>\n",
       "    </tr>\n",
       "  </thead>\n",
       "  <tbody>\n",
       "    <tr>\n",
       "      <th>Fasttext - No preprocess</th>\n",
       "      <td>23.022785</td>\n",
       "      <td>0.510</td>\n",
       "    </tr>\n",
       "    <tr>\n",
       "      <th>Fasttext - stemming</th>\n",
       "      <td>7.574217</td>\n",
       "      <td>0.515</td>\n",
       "    </tr>\n",
       "  </tbody>\n",
       "</table>\n",
       "</div>"
      ],
      "text/plain": [
       "                          training_time (s)  Accuracy\n",
       "Fasttext - No preprocess          23.022785     0.510\n",
       "Fasttext - stemming                7.574217     0.515"
      ]
     },
     "execution_count": 40,
     "metadata": {},
     "output_type": "execute_result"
    }
   ],
   "source": [
    "preprocessing_performances"
   ]
  },
  {
   "cell_type": "markdown",
   "metadata": {},
   "source": [
    "## Pre trained Glove"
   ]
  },
  {
   "cell_type": "markdown",
   "metadata": {},
   "source": [
    "### No preprocessing"
   ]
  },
  {
   "cell_type": "code",
   "execution_count": 60,
   "metadata": {},
   "outputs": [],
   "source": [
    "model_name='Glove - No preprocess'\n",
    "\n",
    "pipe_glove = Pipeline([      ('preprocessing',tokenizer_transformer),\n",
    "                             ('embedding',Glove_transformer),\n",
    "                             ('scaler',StandardScaler()),\n",
    "                             ('classifier', LogisticRegression(C=1e-2))])\n",
    "\n",
    "start = time.time()\n",
    "pipe_glove.fit(X_train,y_train)\n",
    "stop = time.time()\n",
    "\n",
    "y_pred = pipe_glove.predict(X_test)\n",
    "preprocessing_performances = preprocessing_performances.append(\n",
    "    pd.Series(data={'training_time (s)': stop-start,\n",
    "              'Accuracy': accuracy_score(y_pred,y_test)},\n",
    "              name=model_name)\n",
    ")"
   ]
  },
  {
   "cell_type": "markdown",
   "metadata": {},
   "source": [
    "### Wtih lemmatization"
   ]
  },
  {
   "cell_type": "code",
   "execution_count": 61,
   "metadata": {},
   "outputs": [],
   "source": [
    "model_name = 'Glove - lemmatization'\n",
    "\n",
    "pipe_lem_glove = Pipeline([('preprocessing',pipe_lem),\n",
    "                             ('embedding',Glove_transformer),\n",
    "                             ('scaler',StandardScaler()),\n",
    "                             ('classifier', LogisticRegression(C=1e-2))])"
   ]
  },
  {
   "cell_type": "code",
   "execution_count": 62,
   "metadata": {},
   "outputs": [],
   "source": [
    "start = time.time()\n",
    "pipe_lem_glove.fit(X_train,y_train)\n",
    "stop = time.time()"
   ]
  },
  {
   "cell_type": "code",
   "execution_count": 63,
   "metadata": {},
   "outputs": [],
   "source": [
    "y_pred = pipe_lem_glove.predict(X_test)\n",
    "preprocessing_performances = preprocessing_performances.append(\n",
    "    pd.Series(data={'training_time (s)': stop-start,\n",
    "              'Accuracy': accuracy_score(y_pred,y_test)},\n",
    "              name=model_name)\n",
    ")"
   ]
  },
  {
   "cell_type": "markdown",
   "metadata": {},
   "source": [
    "### Wtih stemming"
   ]
  },
  {
   "cell_type": "code",
   "execution_count": 64,
   "metadata": {},
   "outputs": [],
   "source": [
    "model_name = 'Glove - stemming'\n",
    "\n",
    "pipe_stem_glove = Pipeline([('preprocessing',pipe_stem),\n",
    "                             ('embedding',Glove_transformer),\n",
    "                             ('scaler',StandardScaler()),\n",
    "                             ('classifier', LogisticRegression(C=1e-2))])"
   ]
  },
  {
   "cell_type": "code",
   "execution_count": 65,
   "metadata": {},
   "outputs": [],
   "source": [
    "start = time.time()\n",
    "pipe_stem_glove.fit(X_train,y_train)\n",
    "stop = time.time()"
   ]
  },
  {
   "cell_type": "code",
   "execution_count": 66,
   "metadata": {},
   "outputs": [],
   "source": [
    "y_pred = pipe_stem_glove.predict(X_test)\n",
    "preprocessing_performances = preprocessing_performances.append(\n",
    "    pd.Series(data={'training_time (s)': stop-start,\n",
    "              'Accuracy': accuracy_score(y_pred,y_test)},\n",
    "              name=model_name)\n",
    ")"
   ]
  },
  {
   "cell_type": "markdown",
   "metadata": {},
   "source": [
    "## Doc2vec"
   ]
  },
  {
   "cell_type": "markdown",
   "metadata": {},
   "source": [
    "## No preprocessing"
   ]
  },
  {
   "cell_type": "code",
   "execution_count": 67,
   "metadata": {},
   "outputs": [],
   "source": [
    "model_name='Doc2vec - No preprocess'\n",
    "\n",
    "pipe_doc2vec = Pipeline([    ('preprocessing',tokenizer_transformer),\n",
    "                             ('embedding',Doc2vec_Transformer()),\n",
    "                             ('scaler',StandardScaler()),\n",
    "                             ('classifier', LogisticRegression(C=1e-2))])\n",
    "\n",
    "start = time.time()\n",
    "pipe_doc2vec.fit(X_train,y_train)\n",
    "stop = time.time()\n",
    "\n",
    "y_pred = pipe_doc2vec.predict(X_test)\n",
    "preprocessing_performances = preprocessing_performances.append(\n",
    "    pd.Series(data={'training_time (s)': stop-start,\n",
    "              'Accuracy': accuracy_score(y_pred,y_test)},\n",
    "              name=model_name)\n",
    ")"
   ]
  },
  {
   "cell_type": "markdown",
   "metadata": {},
   "source": [
    "### Wtih lemmatization"
   ]
  },
  {
   "cell_type": "code",
   "execution_count": 68,
   "metadata": {},
   "outputs": [],
   "source": [
    "model_name = 'Doc2vec - lemmatization'\n",
    "\n",
    "pipe_lem_doc2vec = Pipeline([('preprocessing',pipe_lem),\n",
    "                             ('embedding',Doc2vec_Transformer()),\n",
    "                             ('scaler',StandardScaler()),\n",
    "                             ('classifier', LogisticRegression(C=1e-2))])"
   ]
  },
  {
   "cell_type": "code",
   "execution_count": 69,
   "metadata": {},
   "outputs": [],
   "source": [
    "start = time.time()\n",
    "pipe_lem_doc2vec.fit(X_train,y_train)\n",
    "stop = time.time()"
   ]
  },
  {
   "cell_type": "code",
   "execution_count": 70,
   "metadata": {},
   "outputs": [],
   "source": [
    "y_pred = pipe_lem_doc2vec.predict(X_test)\n",
    "preprocessing_performances = preprocessing_performances.append(\n",
    "    pd.Series(data={'training_time (s)': stop-start,\n",
    "              'Accuracy': accuracy_score(y_pred,y_test)},\n",
    "              name=model_name)\n",
    ")"
   ]
  },
  {
   "cell_type": "markdown",
   "metadata": {},
   "source": [
    "### Wtih stemming"
   ]
  },
  {
   "cell_type": "code",
   "execution_count": 71,
   "metadata": {},
   "outputs": [],
   "source": [
    "model_name = 'Doc2vec - stemming'\n",
    "\n",
    "pipe_stem_doc2vec = Pipeline([('preprocessing',pipe_stem),\n",
    "                             ('embedding',Doc2vec_Transformer()),\n",
    "                             ('scaler',StandardScaler()),\n",
    "                             ('classifier', LogisticRegression(C=1e-2))])"
   ]
  },
  {
   "cell_type": "code",
   "execution_count": 72,
   "metadata": {},
   "outputs": [],
   "source": [
    "start = time.time()\n",
    "pipe_stem_doc2vec.fit(X_train,y_train)\n",
    "stop = time.time()"
   ]
  },
  {
   "cell_type": "code",
   "execution_count": 73,
   "metadata": {},
   "outputs": [],
   "source": [
    "y_pred = pipe_stem_doc2vec.predict(X_test)\n",
    "preprocessing_performances = preprocessing_performances.append(\n",
    "    pd.Series(data={'training_time (s)': stop-start,\n",
    "              'Accuracy': accuracy_score(y_pred,y_test)},\n",
    "              name=model_name)\n",
    ")"
   ]
  },
  {
   "cell_type": "markdown",
   "metadata": {},
   "source": [
    "## Results"
   ]
  },
  {
   "cell_type": "code",
   "execution_count": 74,
   "metadata": {},
   "outputs": [
    {
     "data": {
      "text/html": [
       "<div>\n",
       "<style scoped>\n",
       "    .dataframe tbody tr th:only-of-type {\n",
       "        vertical-align: middle;\n",
       "    }\n",
       "\n",
       "    .dataframe tbody tr th {\n",
       "        vertical-align: top;\n",
       "    }\n",
       "\n",
       "    .dataframe thead th {\n",
       "        text-align: right;\n",
       "    }\n",
       "</style>\n",
       "<table border=\"1\" class=\"dataframe\">\n",
       "  <thead>\n",
       "    <tr style=\"text-align: right;\">\n",
       "      <th></th>\n",
       "      <th>training_time (s)</th>\n",
       "      <th>Accuracy</th>\n",
       "    </tr>\n",
       "  </thead>\n",
       "  <tbody>\n",
       "    <tr>\n",
       "      <th>Fasttext - No preprocess</th>\n",
       "      <td>29.219006</td>\n",
       "      <td>0.6105</td>\n",
       "    </tr>\n",
       "    <tr>\n",
       "      <th>Fasttext - Lemmatization</th>\n",
       "      <td>68.166595</td>\n",
       "      <td>0.6055</td>\n",
       "    </tr>\n",
       "    <tr>\n",
       "      <th>Glove - No preprocess</th>\n",
       "      <td>34.748743</td>\n",
       "      <td>0.7485</td>\n",
       "    </tr>\n",
       "    <tr>\n",
       "      <th>Glove - lemmatization</th>\n",
       "      <td>55.533927</td>\n",
       "      <td>0.7550</td>\n",
       "    </tr>\n",
       "    <tr>\n",
       "      <th>Glove - stemming</th>\n",
       "      <td>21.035625</td>\n",
       "      <td>0.7230</td>\n",
       "    </tr>\n",
       "    <tr>\n",
       "      <th>Doc2vec - No preprocess</th>\n",
       "      <td>48.887063</td>\n",
       "      <td>0.6955</td>\n",
       "    </tr>\n",
       "    <tr>\n",
       "      <th>Doc2vec - lemmatization</th>\n",
       "      <td>104.267337</td>\n",
       "      <td>0.6920</td>\n",
       "    </tr>\n",
       "    <tr>\n",
       "      <th>Doc2vec - stemming</th>\n",
       "      <td>52.889242</td>\n",
       "      <td>0.7185</td>\n",
       "    </tr>\n",
       "  </tbody>\n",
       "</table>\n",
       "</div>"
      ],
      "text/plain": [
       "                          training_time (s)  Accuracy\n",
       "Fasttext - No preprocess          29.219006    0.6105\n",
       "Fasttext - Lemmatization          68.166595    0.6055\n",
       "Glove - No preprocess             34.748743    0.7485\n",
       "Glove - lemmatization             55.533927    0.7550\n",
       "Glove - stemming                  21.035625    0.7230\n",
       "Doc2vec - No preprocess           48.887063    0.6955\n",
       "Doc2vec - lemmatization          104.267337    0.6920\n",
       "Doc2vec - stemming                52.889242    0.7185"
      ]
     },
     "execution_count": 74,
     "metadata": {},
     "output_type": "execute_result"
    }
   ],
   "source": [
    "preprocessing_performances"
   ]
  },
  {
   "cell_type": "markdown",
   "metadata": {},
   "source": [
    "# Neural Network"
   ]
  },
  {
   "cell_type": "markdown",
   "metadata": {},
   "source": [
    "## Preparing text data to fit Keras requirement"
   ]
  },
  {
   "cell_type": "markdown",
   "metadata": {},
   "source": [
    "the NN needs an input matrix with documents represented as an interger list, each interger is a word. we'll choose sequence length to be tweet_length(based on EDA it makes sense, if less than tweet_length use 0 padding) and vocabulary size max_token (based on preliminary EDA). We'll use Keras' vectorizer"
   ]
  },
  {
   "cell_type": "code",
   "execution_count": 75,
   "metadata": {},
   "outputs": [],
   "source": [
    "tweet_length = 30\n",
    "max_tokens = 60000"
   ]
  },
  {
   "cell_type": "code",
   "execution_count": 76,
   "metadata": {},
   "outputs": [],
   "source": [
    "from tensorflow.keras.layers.experimental.preprocessing import TextVectorization"
   ]
  },
  {
   "cell_type": "markdown",
   "metadata": {},
   "source": [
    "## Creating test and train sets"
   ]
  },
  {
   "cell_type": "code",
   "execution_count": 77,
   "metadata": {},
   "outputs": [],
   "source": [
    "#create a sample dataset for testing\n",
    "data_sample = data.sample(n=15000,random_state=10)"
   ]
  },
  {
   "cell_type": "code",
   "execution_count": 78,
   "metadata": {},
   "outputs": [],
   "source": [
    "from sklearn.model_selection import train_test_split\n",
    "X = data_sample['text']\n",
    "y = data_sample['target']\n",
    "X_train, X_test, y_train, y_test = train_test_split(X,y,test_size=0.2,random_state=33,stratify=y)"
   ]
  },
  {
   "cell_type": "code",
   "execution_count": 79,
   "metadata": {},
   "outputs": [],
   "source": [
    "def vectorize_sets(X_train,X_test,vocab_length=20000,tweet_length=30):\n",
    "    '''Compute and return the vectors of the documents in X_train and X_test with a fixed length'''\n",
    "    vectorizer = TextVectorization(max_tokens=vocab_length,output_sequence_length=tweet_length)\n",
    "    vectorizer.adapt(X_train.values)\n",
    "    voc = vectorizer.get_vocabulary() # vocabulary for futur use\n",
    "    word_index = dict(zip(voc, range(len(voc)))) # word index for futur use\n",
    "    return (vectorizer(X_train.values),vectorizer(X_test.values),voc,word_index)"
   ]
  },
  {
   "cell_type": "markdown",
   "metadata": {},
   "source": [
    "### Raw tweets"
   ]
  },
  {
   "cell_type": "code",
   "execution_count": 80,
   "metadata": {},
   "outputs": [],
   "source": [
    "X_train_raw, X_test_raw, voc_raw, word_index_raw = vectorize_sets(\n",
    "    X_train,\n",
    "    X_test,\n",
    "    vocab_length=max_tokens,\n",
    "    tweet_length=30)"
   ]
  },
  {
   "cell_type": "markdown",
   "metadata": {},
   "source": [
    "### basic preprocessing"
   ]
  },
  {
   "cell_type": "code",
   "execution_count": 81,
   "metadata": {},
   "outputs": [],
   "source": [
    "X_train_vect, X_test_vect, voc, word_index = vectorize_sets(\n",
    "    tokenizer_transformer.transform(X_train).str.join(sep=' '),\n",
    "    tokenizer_transformer.transform(X_test).str.join(sep=' '),\n",
    "    vocab_length=max_tokens,\n",
    "    tweet_length=30)"
   ]
  },
  {
   "cell_type": "markdown",
   "metadata": {},
   "source": [
    "### Stemming"
   ]
  },
  {
   "cell_type": "code",
   "execution_count": 82,
   "metadata": {},
   "outputs": [],
   "source": [
    "X_train_vect_stem, X_test_vect_stem, voc_stem, word_index_stem = vectorize_sets(\n",
    "    stemmer_transformer.transform(tokenizer_transformer.transform(X_train)).str.join(sep=' '),\n",
    "    stemmer_transformer.transform(tokenizer_transformer.transform(X_test)).str.join(sep=' '),\n",
    "    vocab_length=max_tokens,\n",
    "    tweet_length=30)"
   ]
  },
  {
   "cell_type": "markdown",
   "metadata": {},
   "source": [
    "### Lemmatization"
   ]
  },
  {
   "cell_type": "code",
   "execution_count": 83,
   "metadata": {},
   "outputs": [],
   "source": [
    "X_train_vect_lem, X_test_vect_lem, voc_lem, word_index_lem = vectorize_sets(\n",
    "    lemmatizer_transformer.transform(tokenizer_transformer.transform(X_train)).str.join(sep=' '),\n",
    "    lemmatizer_transformer.transform(tokenizer_transformer.transform(X_test)).str.join(sep=' '),\n",
    "    vocab_length=max_tokens,\n",
    "    tweet_length=30)"
   ]
  },
  {
   "cell_type": "code",
   "execution_count": 84,
   "metadata": {},
   "outputs": [
    {
     "name": "stdout",
     "output_type": "stream",
     "text": [
      " raw vocab length 22953 \n",
      " no processing vocab length 20564 \n",
      " stem vocab length 17599 \n",
      " lem vocab length 18460\n"
     ]
    }
   ],
   "source": [
    "print(f' raw vocab length {len(voc_raw)} \\n no processing vocab length {len(voc)} \\n stem vocab length {len(voc_stem)} \\n lem vocab length {len(voc_lem)}')"
   ]
  },
  {
   "cell_type": "markdown",
   "metadata": {},
   "source": [
    "## Testing preprocessing on a simple Neural Network"
   ]
  },
  {
   "cell_type": "code",
   "execution_count": 95,
   "metadata": {},
   "outputs": [],
   "source": [
    "import time"
   ]
  },
  {
   "cell_type": "code",
   "execution_count": 96,
   "metadata": {},
   "outputs": [],
   "source": [
    "models_performances=pd.DataFrame(columns=['AUC','Accuracy','Epoch max reach'])"
   ]
  },
  {
   "cell_type": "code",
   "execution_count": 97,
   "metadata": {},
   "outputs": [],
   "source": [
    "from keras.models import Sequential\n",
    "from keras.layers import Dense\n",
    "from keras.layers import Flatten\n",
    "from keras.layers import Embedding"
   ]
  },
  {
   "cell_type": "markdown",
   "metadata": {},
   "source": [
    "### Raw texts"
   ]
  },
  {
   "cell_type": "code",
   "execution_count": 98,
   "metadata": {},
   "outputs": [
    {
     "name": "stdout",
     "output_type": "stream",
     "text": [
      "Model: \"sequential_1\"\n",
      "_________________________________________________________________\n",
      "Layer (type)                 Output Shape              Param #   \n",
      "=================================================================\n",
      "embedding_1 (Embedding)      (None, 30, 100)           2295300   \n",
      "_________________________________________________________________\n",
      "flatten_1 (Flatten)          (None, 3000)              0         \n",
      "_________________________________________________________________\n",
      "dense_2 (Dense)              (None, 8)                 24008     \n",
      "_________________________________________________________________\n",
      "dense_3 (Dense)              (None, 1)                 9         \n",
      "=================================================================\n",
      "Total params: 2,319,317\n",
      "Trainable params: 2,319,317\n",
      "Non-trainable params: 0\n",
      "_________________________________________________________________\n",
      "None\n"
     ]
    }
   ],
   "source": [
    "model_name = 'simple NN - raw text'\n",
    "\n",
    "model = Sequential()\n",
    "\n",
    "model.add(Embedding(len(voc_raw),100 ,input_length = tweet_length))\n",
    "model.add(Flatten())\n",
    "model.add(Dense(8,activation='relu'))\n",
    "model.add(Dense(1,activation='sigmoid'))\n",
    "model.compile(loss = 'binary_crossentropy', optimizer='adam',metrics = ['accuracy','AUC'])\n",
    "print(model.summary())"
   ]
  },
  {
   "cell_type": "code",
   "execution_count": 99,
   "metadata": {},
   "outputs": [
    {
     "name": "stdout",
     "output_type": "stream",
     "text": [
      "Epoch 1/15\n",
      "12/12 [==============================] - 1s 84ms/step - loss: 0.6917 - accuracy: 0.5300 - auc: 0.5400 - val_loss: 0.6884 - val_accuracy: 0.5550 - val_auc: 0.5970\n",
      "Epoch 2/15\n",
      "12/12 [==============================] - 1s 56ms/step - loss: 0.6723 - accuracy: 0.6783 - auc: 0.7552 - val_loss: 0.6779 - val_accuracy: 0.5847 - val_auc: 0.6608\n",
      "Epoch 3/15\n",
      "12/12 [==============================] - 1s 59ms/step - loss: 0.6335 - accuracy: 0.7729 - auc: 0.8596 - val_loss: 0.6536 - val_accuracy: 0.6737 - val_auc: 0.7418\n",
      "Epoch 4/15\n",
      "12/12 [==============================] - 1s 61ms/step - loss: 0.5618 - accuracy: 0.8538 - auc: 0.9300 - val_loss: 0.6185 - val_accuracy: 0.6947 - val_auc: 0.7690\n",
      "Epoch 5/15\n",
      "12/12 [==============================] - 1s 65ms/step - loss: 0.4623 - accuracy: 0.8898 - auc: 0.9540 - val_loss: 0.5817 - val_accuracy: 0.7150 - val_auc: 0.7841\n",
      "Epoch 6/15\n",
      "12/12 [==============================] - 1s 64ms/step - loss: 0.3554 - accuracy: 0.9202 - auc: 0.9728 - val_loss: 0.5545 - val_accuracy: 0.7277 - val_auc: 0.7983\n",
      "Epoch 7/15\n",
      "12/12 [==============================] - 1s 57ms/step - loss: 0.2621 - accuracy: 0.9469 - auc: 0.9863 - val_loss: 0.5397 - val_accuracy: 0.7333 - val_auc: 0.8083\n",
      "Epoch 8/15\n",
      "12/12 [==============================] - 1s 58ms/step - loss: 0.1883 - accuracy: 0.9679 - auc: 0.9941 - val_loss: 0.5298 - val_accuracy: 0.7463 - val_auc: 0.8136\n",
      "Epoch 9/15\n",
      "12/12 [==============================] - 1s 64ms/step - loss: 0.1343 - accuracy: 0.9795 - auc: 0.9977 - val_loss: 0.5310 - val_accuracy: 0.7493 - val_auc: 0.8144\n",
      "Epoch 10/15\n",
      "12/12 [==============================] - 1s 62ms/step - loss: 0.0974 - accuracy: 0.9876 - auc: 0.9991 - val_loss: 0.5360 - val_accuracy: 0.7467 - val_auc: 0.8136\n",
      "Epoch 11/15\n",
      "12/12 [==============================] - 1s 54ms/step - loss: 0.0727 - accuracy: 0.9914 - auc: 0.9996 - val_loss: 0.5431 - val_accuracy: 0.7407 - val_auc: 0.8119\n",
      "Epoch 12/15\n",
      "12/12 [==============================] - 1s 55ms/step - loss: 0.0556 - accuracy: 0.9948 - auc: 0.9998 - val_loss: 0.5542 - val_accuracy: 0.7403 - val_auc: 0.8102\n",
      "Epoch 13/15\n",
      "12/12 [==============================] - 1s 57ms/step - loss: 0.0429 - accuracy: 0.9958 - auc: 0.9999 - val_loss: 0.5637 - val_accuracy: 0.7407 - val_auc: 0.8089\n",
      "Epoch 14/15\n",
      "12/12 [==============================] - 1s 54ms/step - loss: 0.0345 - accuracy: 0.9968 - auc: 0.9999 - val_loss: 0.5780 - val_accuracy: 0.7387 - val_auc: 0.8070\n",
      "Epoch 15/15\n",
      "12/12 [==============================] - 1s 56ms/step - loss: 0.0283 - accuracy: 0.9974 - auc: 1.0000 - val_loss: 0.5878 - val_accuracy: 0.7350 - val_auc: 0.8058\n"
     ]
    }
   ],
   "source": [
    "start = time.time()\n",
    "hist = model.fit(X_train_raw, y_train, batch_size=1024, epochs=15, validation_data=(X_test_raw, y_test))\n",
    "stop = time.time()"
   ]
  },
  {
   "cell_type": "code",
   "execution_count": 100,
   "metadata": {},
   "outputs": [],
   "source": [
    "models_performances = models_performances.append(\n",
    "    pd.Series(data={'total training time': stop-start,\n",
    "              'AUC': max(hist.history['val_auc']),\n",
    "              'Accuracy': max(hist.history['val_accuracy']),\n",
    "              'Epoch max reach': hist.history['val_accuracy'].index(max(hist.history['val_accuracy'])),\n",
    "              'training time to opt' : (stop-start)*hist.history['val_accuracy'].index(max(hist.history['val_accuracy']))/len(hist.history['val_accuracy'])},\n",
    "              name=model_name)\n",
    ")"
   ]
  },
  {
   "cell_type": "code",
   "execution_count": 101,
   "metadata": {},
   "outputs": [
    {
     "data": {
      "text/html": [
       "<div>\n",
       "<style scoped>\n",
       "    .dataframe tbody tr th:only-of-type {\n",
       "        vertical-align: middle;\n",
       "    }\n",
       "\n",
       "    .dataframe tbody tr th {\n",
       "        vertical-align: top;\n",
       "    }\n",
       "\n",
       "    .dataframe thead th {\n",
       "        text-align: right;\n",
       "    }\n",
       "</style>\n",
       "<table border=\"1\" class=\"dataframe\">\n",
       "  <thead>\n",
       "    <tr style=\"text-align: right;\">\n",
       "      <th></th>\n",
       "      <th>AUC</th>\n",
       "      <th>Accuracy</th>\n",
       "      <th>Epoch max reach</th>\n",
       "      <th>total training time</th>\n",
       "      <th>training time to opt</th>\n",
       "    </tr>\n",
       "  </thead>\n",
       "  <tbody>\n",
       "    <tr>\n",
       "      <th>simple NN - raw text</th>\n",
       "      <td>0.814432</td>\n",
       "      <td>0.749333</td>\n",
       "      <td>8.0</td>\n",
       "      <td>12.445643</td>\n",
       "      <td>6.637676</td>\n",
       "    </tr>\n",
       "  </tbody>\n",
       "</table>\n",
       "</div>"
      ],
      "text/plain": [
       "                           AUC  Accuracy  Epoch max reach  \\\n",
       "simple NN - raw text  0.814432  0.749333              8.0   \n",
       "\n",
       "                      total training time  training time to opt  \n",
       "simple NN - raw text            12.445643              6.637676  "
      ]
     },
     "execution_count": 101,
     "metadata": {},
     "output_type": "execute_result"
    }
   ],
   "source": [
    "models_performances"
   ]
  },
  {
   "cell_type": "markdown",
   "metadata": {},
   "source": [
    "### Basic preprocessing"
   ]
  },
  {
   "cell_type": "code",
   "execution_count": 102,
   "metadata": {},
   "outputs": [
    {
     "name": "stdout",
     "output_type": "stream",
     "text": [
      "Model: \"sequential_2\"\n",
      "_________________________________________________________________\n",
      "Layer (type)                 Output Shape              Param #   \n",
      "=================================================================\n",
      "embedding_2 (Embedding)      (None, 30, 100)           2056400   \n",
      "_________________________________________________________________\n",
      "flatten_2 (Flatten)          (None, 3000)              0         \n",
      "_________________________________________________________________\n",
      "dense_4 (Dense)              (None, 8)                 24008     \n",
      "_________________________________________________________________\n",
      "dense_5 (Dense)              (None, 1)                 9         \n",
      "=================================================================\n",
      "Total params: 2,080,417\n",
      "Trainable params: 2,080,417\n",
      "Non-trainable params: 0\n",
      "_________________________________________________________________\n",
      "None\n"
     ]
    }
   ],
   "source": [
    "model_name = 'simple NN - Basic preprocessing'\n",
    "\n",
    "model = Sequential()\n",
    "\n",
    "model.add(Embedding(len(voc),100 ,input_length = tweet_length))\n",
    "model.add(Flatten())\n",
    "model.add(Dense(8,activation='relu'))\n",
    "model.add(Dense(1,activation='sigmoid'))\n",
    "model.compile(loss = 'binary_crossentropy', optimizer='adam',metrics = ['accuracy','AUC'])\n",
    "print(model.summary())"
   ]
  },
  {
   "cell_type": "code",
   "execution_count": 103,
   "metadata": {},
   "outputs": [
    {
     "name": "stdout",
     "output_type": "stream",
     "text": [
      "Epoch 1/15\n",
      "12/12 [==============================] - 1s 72ms/step - loss: 0.6922 - accuracy: 0.5347 - auc: 0.5360 - val_loss: 0.6893 - val_accuracy: 0.5690 - val_auc: 0.6001\n",
      "Epoch 2/15\n",
      "12/12 [==============================] - 1s 50ms/step - loss: 0.6763 - accuracy: 0.6695 - auc: 0.7381 - val_loss: 0.6799 - val_accuracy: 0.6153 - val_auc: 0.6823\n",
      "Epoch 3/15\n",
      "12/12 [==============================] - 1s 53ms/step - loss: 0.6371 - accuracy: 0.7940 - auc: 0.8793 - val_loss: 0.6518 - val_accuracy: 0.7013 - val_auc: 0.7605\n",
      "Epoch 4/15\n",
      "12/12 [==============================] - 1s 50ms/step - loss: 0.5522 - accuracy: 0.8660 - auc: 0.9362 - val_loss: 0.6030 - val_accuracy: 0.7180 - val_auc: 0.7835\n",
      "Epoch 5/15\n",
      "12/12 [==============================] - 1s 52ms/step - loss: 0.4298 - accuracy: 0.8908 - auc: 0.9570 - val_loss: 0.5602 - val_accuracy: 0.7200 - val_auc: 0.8001\n",
      "Epoch 6/15\n",
      "12/12 [==============================] - 1s 51ms/step - loss: 0.3106 - accuracy: 0.9242 - auc: 0.9776 - val_loss: 0.5354 - val_accuracy: 0.7303 - val_auc: 0.8106\n",
      "Epoch 7/15\n",
      "12/12 [==============================] - 1s 51ms/step - loss: 0.2173 - accuracy: 0.9547 - auc: 0.9905 - val_loss: 0.5339 - val_accuracy: 0.7270 - val_auc: 0.8153\n",
      "Epoch 8/15\n",
      "12/12 [==============================] - 1s 54ms/step - loss: 0.1520 - accuracy: 0.9727 - auc: 0.9963 - val_loss: 0.5256 - val_accuracy: 0.7317 - val_auc: 0.8170\n",
      "Epoch 9/15\n",
      "12/12 [==============================] - 1s 55ms/step - loss: 0.1068 - accuracy: 0.9845 - auc: 0.9986 - val_loss: 0.5328 - val_accuracy: 0.7260 - val_auc: 0.8151\n",
      "Epoch 10/15\n",
      "12/12 [==============================] - 1s 56ms/step - loss: 0.0777 - accuracy: 0.9895 - auc: 0.9994 - val_loss: 0.5434 - val_accuracy: 0.7273 - val_auc: 0.8125\n",
      "Epoch 11/15\n",
      "12/12 [==============================] - 1s 57ms/step - loss: 0.0585 - accuracy: 0.9927 - auc: 0.9997 - val_loss: 0.5556 - val_accuracy: 0.7273 - val_auc: 0.8106\n",
      "Epoch 12/15\n",
      "12/12 [==============================] - 1s 57ms/step - loss: 0.0441 - accuracy: 0.9948 - auc: 0.9998 - val_loss: 0.5714 - val_accuracy: 0.7263 - val_auc: 0.8083\n",
      "Epoch 13/15\n",
      "12/12 [==============================] - 1s 55ms/step - loss: 0.0336 - accuracy: 0.9962 - auc: 0.9999 - val_loss: 0.5888 - val_accuracy: 0.7250 - val_auc: 0.8061\n",
      "Epoch 14/15\n",
      "12/12 [==============================] - 1s 52ms/step - loss: 0.0271 - accuracy: 0.9971 - auc: 1.0000 - val_loss: 0.6060 - val_accuracy: 0.7290 - val_auc: 0.8042\n",
      "Epoch 15/15\n",
      "12/12 [==============================] - 1s 57ms/step - loss: 0.0215 - accuracy: 0.9983 - auc: 1.0000 - val_loss: 0.6220 - val_accuracy: 0.7273 - val_auc: 0.8023\n"
     ]
    }
   ],
   "source": [
    "start = time.time()\n",
    "hist = model.fit(X_train_vect, y_train, batch_size=1024, epochs=15, validation_data=(X_test_vect, y_test))\n",
    "stop = time.time()"
   ]
  },
  {
   "cell_type": "code",
   "execution_count": 104,
   "metadata": {},
   "outputs": [],
   "source": [
    "models_performances = models_performances.append(\n",
    "    pd.Series(data={'total training time': stop-start,\n",
    "              'AUC': max(hist.history['val_auc']),\n",
    "              'Accuracy': max(hist.history['val_accuracy']),\n",
    "              'Epoch max reach': hist.history['val_accuracy'].index(max(hist.history['val_accuracy'])),\n",
    "              'training time to opt' : (stop-start)*hist.history['val_accuracy'].index(max(hist.history['val_accuracy']))/len(hist.history['val_accuracy'])},\n",
    "              name=model_name)\n",
    ")"
   ]
  },
  {
   "cell_type": "code",
   "execution_count": 105,
   "metadata": {},
   "outputs": [
    {
     "data": {
      "text/html": [
       "<div>\n",
       "<style scoped>\n",
       "    .dataframe tbody tr th:only-of-type {\n",
       "        vertical-align: middle;\n",
       "    }\n",
       "\n",
       "    .dataframe tbody tr th {\n",
       "        vertical-align: top;\n",
       "    }\n",
       "\n",
       "    .dataframe thead th {\n",
       "        text-align: right;\n",
       "    }\n",
       "</style>\n",
       "<table border=\"1\" class=\"dataframe\">\n",
       "  <thead>\n",
       "    <tr style=\"text-align: right;\">\n",
       "      <th></th>\n",
       "      <th>AUC</th>\n",
       "      <th>Accuracy</th>\n",
       "      <th>Epoch max reach</th>\n",
       "      <th>total training time</th>\n",
       "      <th>training time to opt</th>\n",
       "    </tr>\n",
       "  </thead>\n",
       "  <tbody>\n",
       "    <tr>\n",
       "      <th>simple NN - raw text</th>\n",
       "      <td>0.814432</td>\n",
       "      <td>0.749333</td>\n",
       "      <td>8.0</td>\n",
       "      <td>12.445643</td>\n",
       "      <td>6.637676</td>\n",
       "    </tr>\n",
       "    <tr>\n",
       "      <th>simple NN - Basic preprocessing</th>\n",
       "      <td>0.817025</td>\n",
       "      <td>0.731667</td>\n",
       "      <td>7.0</td>\n",
       "      <td>11.445507</td>\n",
       "      <td>5.341237</td>\n",
       "    </tr>\n",
       "  </tbody>\n",
       "</table>\n",
       "</div>"
      ],
      "text/plain": [
       "                                      AUC  Accuracy  Epoch max reach  \\\n",
       "simple NN - raw text             0.814432  0.749333              8.0   \n",
       "simple NN - Basic preprocessing  0.817025  0.731667              7.0   \n",
       "\n",
       "                                 total training time  training time to opt  \n",
       "simple NN - raw text                       12.445643              6.637676  \n",
       "simple NN - Basic preprocessing            11.445507              5.341237  "
      ]
     },
     "execution_count": 105,
     "metadata": {},
     "output_type": "execute_result"
    }
   ],
   "source": [
    "models_performances"
   ]
  },
  {
   "cell_type": "markdown",
   "metadata": {},
   "source": [
    "### Stemming"
   ]
  },
  {
   "cell_type": "code",
   "execution_count": 106,
   "metadata": {},
   "outputs": [
    {
     "name": "stdout",
     "output_type": "stream",
     "text": [
      "Model: \"sequential_3\"\n",
      "_________________________________________________________________\n",
      "Layer (type)                 Output Shape              Param #   \n",
      "=================================================================\n",
      "embedding_3 (Embedding)      (None, 30, 100)           1759900   \n",
      "_________________________________________________________________\n",
      "flatten_3 (Flatten)          (None, 3000)              0         \n",
      "_________________________________________________________________\n",
      "dense_6 (Dense)              (None, 8)                 24008     \n",
      "_________________________________________________________________\n",
      "dense_7 (Dense)              (None, 1)                 9         \n",
      "=================================================================\n",
      "Total params: 1,783,917\n",
      "Trainable params: 1,783,917\n",
      "Non-trainable params: 0\n",
      "_________________________________________________________________\n",
      "None\n"
     ]
    }
   ],
   "source": [
    "model_name = 'simple NN - Stemming'\n",
    "\n",
    "model = Sequential()\n",
    "\n",
    "model.add(Embedding(len(voc_stem),100 ,input_length = tweet_length))\n",
    "model.add(Flatten())\n",
    "model.add(Dense(8,activation='relu'))\n",
    "model.add(Dense(1,activation='sigmoid'))\n",
    "model.compile(loss = 'binary_crossentropy', optimizer='adam',metrics = ['accuracy','AUC'])\n",
    "print(model.summary())"
   ]
  },
  {
   "cell_type": "code",
   "execution_count": 107,
   "metadata": {},
   "outputs": [
    {
     "name": "stdout",
     "output_type": "stream",
     "text": [
      "Epoch 1/15\n",
      "12/12 [==============================] - 1s 67ms/step - loss: 0.6920 - accuracy: 0.5178 - auc: 0.5325 - val_loss: 0.6879 - val_accuracy: 0.5663 - val_auc: 0.6230\n",
      "Epoch 2/15\n",
      "12/12 [==============================] - 1s 47ms/step - loss: 0.6714 - accuracy: 0.6823 - auc: 0.7615 - val_loss: 0.6747 - val_accuracy: 0.5823 - val_auc: 0.7126\n",
      "Epoch 3/15\n",
      "12/12 [==============================] - 1s 46ms/step - loss: 0.6258 - accuracy: 0.8077 - auc: 0.8939 - val_loss: 0.6404 - val_accuracy: 0.7093 - val_auc: 0.7755\n",
      "Epoch 4/15\n",
      "12/12 [==============================] - 1s 47ms/step - loss: 0.5434 - accuracy: 0.8570 - auc: 0.9296 - val_loss: 0.5928 - val_accuracy: 0.7263 - val_auc: 0.7972\n",
      "Epoch 5/15\n",
      "12/12 [==============================] - 1s 52ms/step - loss: 0.4375 - accuracy: 0.8826 - auc: 0.9503 - val_loss: 0.5510 - val_accuracy: 0.7370 - val_auc: 0.8092\n",
      "Epoch 6/15\n",
      "12/12 [==============================] - 1s 49ms/step - loss: 0.3353 - accuracy: 0.9125 - auc: 0.9697 - val_loss: 0.5283 - val_accuracy: 0.7377 - val_auc: 0.8185\n",
      "Epoch 7/15\n",
      "12/12 [==============================] - 1s 48ms/step - loss: 0.2510 - accuracy: 0.9387 - auc: 0.9843 - val_loss: 0.5188 - val_accuracy: 0.7437 - val_auc: 0.8228\n",
      "Epoch 8/15\n",
      "12/12 [==============================] - 1s 48ms/step - loss: 0.1858 - accuracy: 0.9607 - auc: 0.9927 - val_loss: 0.5166 - val_accuracy: 0.7433 - val_auc: 0.8231\n",
      "Epoch 9/15\n",
      "12/12 [==============================] - 1s 46ms/step - loss: 0.1386 - accuracy: 0.9726 - auc: 0.9965 - val_loss: 0.5254 - val_accuracy: 0.7420 - val_auc: 0.8209\n",
      "Epoch 10/15\n",
      "12/12 [==============================] - 1s 47ms/step - loss: 0.1047 - accuracy: 0.9825 - auc: 0.9984 - val_loss: 0.5408 - val_accuracy: 0.7363 - val_auc: 0.8172\n",
      "Epoch 11/15\n",
      "12/12 [==============================] - 1s 50ms/step - loss: 0.0806 - accuracy: 0.9876 - auc: 0.9992 - val_loss: 0.5498 - val_accuracy: 0.7340 - val_auc: 0.8152\n",
      "Epoch 12/15\n",
      "12/12 [==============================] - 1s 47ms/step - loss: 0.0631 - accuracy: 0.9912 - auc: 0.9996 - val_loss: 0.5604 - val_accuracy: 0.7310 - val_auc: 0.8125\n",
      "Epoch 13/15\n",
      "12/12 [==============================] - 1s 58ms/step - loss: 0.0508 - accuracy: 0.9937 - auc: 0.9998 - val_loss: 0.5703 - val_accuracy: 0.7320 - val_auc: 0.8106\n",
      "Epoch 14/15\n",
      "12/12 [==============================] - 1s 48ms/step - loss: 0.0418 - accuracy: 0.9947 - auc: 0.9998 - val_loss: 0.5884 - val_accuracy: 0.7260 - val_auc: 0.8085\n",
      "Epoch 15/15\n",
      "12/12 [==============================] - 1s 49ms/step - loss: 0.0349 - accuracy: 0.9962 - auc: 0.9999 - val_loss: 0.6027 - val_accuracy: 0.7253 - val_auc: 0.8062\n"
     ]
    }
   ],
   "source": [
    "start = time.time()\n",
    "hist = model.fit(X_train_vect_stem, y_train, batch_size=1024, epochs=15, validation_data=(X_test_vect_stem, y_test))\n",
    "stop = time.time()"
   ]
  },
  {
   "cell_type": "code",
   "execution_count": 108,
   "metadata": {},
   "outputs": [],
   "source": [
    "models_performances = models_performances.append(\n",
    "    pd.Series(data={'total training time': stop-start,\n",
    "              'AUC': max(hist.history['val_auc']),\n",
    "              'Accuracy': max(hist.history['val_accuracy']),\n",
    "              'Epoch max reach': hist.history['val_accuracy'].index(max(hist.history['val_accuracy'])),\n",
    "              'training time to opt' : (stop-start)*hist.history['val_accuracy'].index(max(hist.history['val_accuracy']))/len(hist.history['val_accuracy'])},\n",
    "              name=model_name)\n",
    ")"
   ]
  },
  {
   "cell_type": "markdown",
   "metadata": {},
   "source": [
    "### Lemmatization"
   ]
  },
  {
   "cell_type": "code",
   "execution_count": 109,
   "metadata": {},
   "outputs": [
    {
     "name": "stdout",
     "output_type": "stream",
     "text": [
      "Model: \"sequential_4\"\n",
      "_________________________________________________________________\n",
      "Layer (type)                 Output Shape              Param #   \n",
      "=================================================================\n",
      "embedding_4 (Embedding)      (None, 30, 100)           1846000   \n",
      "_________________________________________________________________\n",
      "flatten_4 (Flatten)          (None, 3000)              0         \n",
      "_________________________________________________________________\n",
      "dense_8 (Dense)              (None, 8)                 24008     \n",
      "_________________________________________________________________\n",
      "dense_9 (Dense)              (None, 1)                 9         \n",
      "=================================================================\n",
      "Total params: 1,870,017\n",
      "Trainable params: 1,870,017\n",
      "Non-trainable params: 0\n",
      "_________________________________________________________________\n",
      "None\n"
     ]
    }
   ],
   "source": [
    "model_name = 'simple NN - Lemmatization'\n",
    "\n",
    "model = Sequential()\n",
    "\n",
    "model.add(Embedding(len(voc_lem),100 ,input_length = tweet_length))\n",
    "model.add(Flatten())\n",
    "model.add(Dense(8,activation='relu'))\n",
    "model.add(Dense(1,activation='sigmoid'))\n",
    "model.compile(loss = 'binary_crossentropy', optimizer='adam',metrics = ['accuracy','AUC'])\n",
    "print(model.summary())"
   ]
  },
  {
   "cell_type": "code",
   "execution_count": 110,
   "metadata": {},
   "outputs": [
    {
     "name": "stdout",
     "output_type": "stream",
     "text": [
      "Epoch 1/15\n",
      "12/12 [==============================] - 1s 71ms/step - loss: 0.6924 - accuracy: 0.5162 - auc: 0.5299 - val_loss: 0.6903 - val_accuracy: 0.5253 - val_auc: 0.6114\n",
      "Epoch 2/15\n",
      "12/12 [==============================] - 1s 50ms/step - loss: 0.6801 - accuracy: 0.6773 - auc: 0.7484 - val_loss: 0.6802 - val_accuracy: 0.6460 - val_auc: 0.6969\n",
      "Epoch 3/15\n",
      "12/12 [==============================] - 1s 54ms/step - loss: 0.6480 - accuracy: 0.7847 - auc: 0.8710 - val_loss: 0.6534 - val_accuracy: 0.7040 - val_auc: 0.7701\n",
      "Epoch 4/15\n",
      "12/12 [==============================] - 1s 61ms/step - loss: 0.5770 - accuracy: 0.8388 - auc: 0.9150 - val_loss: 0.6038 - val_accuracy: 0.7170 - val_auc: 0.7928\n",
      "Epoch 5/15\n",
      "12/12 [==============================] - 1s 60ms/step - loss: 0.4671 - accuracy: 0.8683 - auc: 0.9411 - val_loss: 0.5563 - val_accuracy: 0.7377 - val_auc: 0.8072\n",
      "Epoch 6/15\n",
      "12/12 [==============================] - 1s 58ms/step - loss: 0.3560 - accuracy: 0.8983 - auc: 0.9639 - val_loss: 0.5290 - val_accuracy: 0.7383 - val_auc: 0.8184\n",
      "Epoch 7/15\n",
      "12/12 [==============================] - 1s 52ms/step - loss: 0.2625 - accuracy: 0.9342 - auc: 0.9819 - val_loss: 0.5163 - val_accuracy: 0.7473 - val_auc: 0.8239\n",
      "Epoch 8/15\n",
      "12/12 [==============================] - 1s 56ms/step - loss: 0.1912 - accuracy: 0.9572 - auc: 0.9920 - val_loss: 0.5166 - val_accuracy: 0.7463 - val_auc: 0.8239\n",
      "Epoch 9/15\n",
      "12/12 [==============================] - 1s 56ms/step - loss: 0.1398 - accuracy: 0.9743 - auc: 0.9964 - val_loss: 0.5254 - val_accuracy: 0.7423 - val_auc: 0.8210\n",
      "Epoch 10/15\n",
      "12/12 [==============================] - 1s 58ms/step - loss: 0.1036 - accuracy: 0.9831 - auc: 0.9984 - val_loss: 0.5330 - val_accuracy: 0.7393 - val_auc: 0.8190\n",
      "Epoch 11/15\n",
      "12/12 [==============================] - 1s 55ms/step - loss: 0.0786 - accuracy: 0.9887 - auc: 0.9992 - val_loss: 0.5464 - val_accuracy: 0.7387 - val_auc: 0.8158\n",
      "Epoch 12/15\n",
      "12/12 [==============================] - 1s 57ms/step - loss: 0.0614 - accuracy: 0.9917 - auc: 0.9996 - val_loss: 0.5589 - val_accuracy: 0.7387 - val_auc: 0.8141\n",
      "Epoch 13/15\n",
      "12/12 [==============================] - 1s 68ms/step - loss: 0.0492 - accuracy: 0.9934 - auc: 0.9998 - val_loss: 0.5743 - val_accuracy: 0.7327 - val_auc: 0.8110\n",
      "Epoch 14/15\n",
      "12/12 [==============================] - 1s 56ms/step - loss: 0.0400 - accuracy: 0.9959 - auc: 0.9999 - val_loss: 0.5870 - val_accuracy: 0.7323 - val_auc: 0.8095\n",
      "Epoch 15/15\n",
      "12/12 [==============================] - 1s 55ms/step - loss: 0.0336 - accuracy: 0.9962 - auc: 0.9999 - val_loss: 0.6006 - val_accuracy: 0.7267 - val_auc: 0.8080\n"
     ]
    }
   ],
   "source": [
    "start = time.time()\n",
    "hist = model.fit(X_train_vect_lem, y_train, batch_size=1024, epochs=15, validation_data=(X_test_vect_lem, y_test))\n",
    "stop = time.time()"
   ]
  },
  {
   "cell_type": "code",
   "execution_count": 111,
   "metadata": {},
   "outputs": [],
   "source": [
    "models_performances = models_performances.append(\n",
    "    pd.Series(data={'total training time': stop-start,\n",
    "              'AUC': max(hist.history['val_auc']),\n",
    "              'Accuracy': max(hist.history['val_accuracy']),\n",
    "              'Epoch max reach': hist.history['val_accuracy'].index(max(hist.history['val_accuracy'])),\n",
    "              'training time to opt' : (stop-start)*hist.history['val_accuracy'].index(max(hist.history['val_accuracy']))/len(hist.history['val_accuracy'])},\n",
    "              name=model_name)\n",
    ")"
   ]
  },
  {
   "cell_type": "markdown",
   "metadata": {},
   "source": [
    "## Summary of Preprocessing performances"
   ]
  },
  {
   "cell_type": "code",
   "execution_count": 112,
   "metadata": {},
   "outputs": [
    {
     "data": {
      "text/html": [
       "<div>\n",
       "<style scoped>\n",
       "    .dataframe tbody tr th:only-of-type {\n",
       "        vertical-align: middle;\n",
       "    }\n",
       "\n",
       "    .dataframe tbody tr th {\n",
       "        vertical-align: top;\n",
       "    }\n",
       "\n",
       "    .dataframe thead th {\n",
       "        text-align: right;\n",
       "    }\n",
       "</style>\n",
       "<table border=\"1\" class=\"dataframe\">\n",
       "  <thead>\n",
       "    <tr style=\"text-align: right;\">\n",
       "      <th></th>\n",
       "      <th>AUC</th>\n",
       "      <th>Accuracy</th>\n",
       "      <th>Epoch max reach</th>\n",
       "      <th>total training time</th>\n",
       "      <th>training time to opt</th>\n",
       "    </tr>\n",
       "  </thead>\n",
       "  <tbody>\n",
       "    <tr>\n",
       "      <th>simple NN - raw text</th>\n",
       "      <td>0.814432</td>\n",
       "      <td>0.749333</td>\n",
       "      <td>8.0</td>\n",
       "      <td>12.445643</td>\n",
       "      <td>6.637676</td>\n",
       "    </tr>\n",
       "    <tr>\n",
       "      <th>simple NN - Basic preprocessing</th>\n",
       "      <td>0.817025</td>\n",
       "      <td>0.731667</td>\n",
       "      <td>7.0</td>\n",
       "      <td>11.445507</td>\n",
       "      <td>5.341237</td>\n",
       "    </tr>\n",
       "    <tr>\n",
       "      <th>simple NN - Stemming</th>\n",
       "      <td>0.823142</td>\n",
       "      <td>0.743667</td>\n",
       "      <td>6.0</td>\n",
       "      <td>10.423989</td>\n",
       "      <td>4.169596</td>\n",
       "    </tr>\n",
       "    <tr>\n",
       "      <th>simple NN - Lemmatization</th>\n",
       "      <td>0.823922</td>\n",
       "      <td>0.747333</td>\n",
       "      <td>6.0</td>\n",
       "      <td>11.959692</td>\n",
       "      <td>4.783877</td>\n",
       "    </tr>\n",
       "  </tbody>\n",
       "</table>\n",
       "</div>"
      ],
      "text/plain": [
       "                                      AUC  Accuracy  Epoch max reach  \\\n",
       "simple NN - raw text             0.814432  0.749333              8.0   \n",
       "simple NN - Basic preprocessing  0.817025  0.731667              7.0   \n",
       "simple NN - Stemming             0.823142  0.743667              6.0   \n",
       "simple NN - Lemmatization        0.823922  0.747333              6.0   \n",
       "\n",
       "                                 total training time  training time to opt  \n",
       "simple NN - raw text                       12.445643              6.637676  \n",
       "simple NN - Basic preprocessing            11.445507              5.341237  \n",
       "simple NN - Stemming                       10.423989              4.169596  \n",
       "simple NN - Lemmatization                  11.959692              4.783877  "
      ]
     },
     "execution_count": 112,
     "metadata": {},
     "output_type": "execute_result"
    }
   ],
   "source": [
    "models_performances"
   ]
  },
  {
   "cell_type": "code",
   "execution_count": 436,
   "metadata": {},
   "outputs": [],
   "source": [
    "models_performances.to_pickle('data/models_performances')"
   ]
  },
  {
   "cell_type": "code",
   "execution_count": 437,
   "metadata": {},
   "outputs": [],
   "source": [
    "models_performances = pd.read_pickle('data/models_performances')"
   ]
  },
  {
   "cell_type": "markdown",
   "metadata": {},
   "source": [
    "## Building the embedding matrix ( word / coeff matrix)"
   ]
  },
  {
   "cell_type": "markdown",
   "metadata": {},
   "source": [
    "### Glove embedding"
   ]
  },
  {
   "cell_type": "markdown",
   "metadata": {},
   "source": [
    "Since Glove embedding shows better results, we'll use it from now on"
   ]
  },
  {
   "cell_type": "code",
   "execution_count": 113,
   "metadata": {},
   "outputs": [
    {
     "name": "stdout",
     "output_type": "stream",
     "text": [
      "Found 1193514 word vectors.\n"
     ]
    }
   ],
   "source": [
    "embeddings_index = {}\n",
    "with open(\"D:/Data OC/P7/glove.twitter.27B.100d.txt\",encoding='utf-8') as f:\n",
    "    for line in f:\n",
    "        word, coefs = line.split(maxsplit=1)\n",
    "        coefs = np.fromstring(coefs, \"f\", sep=\" \")\n",
    "        embeddings_index[word] = coefs\n",
    "\n",
    "print(\"Found %s word vectors.\" % len(embeddings_index))"
   ]
  },
  {
   "cell_type": "markdown",
   "metadata": {},
   "source": [
    "Compute the embedding matrix which can be used in a Keras Embedding layer."
   ]
  },
  {
   "cell_type": "code",
   "execution_count": 114,
   "metadata": {},
   "outputs": [
    {
     "name": "stdout",
     "output_type": "stream",
     "text": [
      "Converted 13745 words (6819 misses)\n"
     ]
    }
   ],
   "source": [
    "num_tokens = len(voc) + 2\n",
    "embedding_dim = 100\n",
    "hits = 0\n",
    "misses = 0\n",
    "misses_word=[]\n",
    "\n",
    "# Prepare embedding matrix\n",
    "embedding_matrix = np.zeros((num_tokens, embedding_dim))\n",
    "for word, i in word_index.items():\n",
    "    embedding_vector = embeddings_index.get(word)\n",
    "    if embedding_vector is not None:\n",
    "        # Words not found in embedding index will be all-zeros.\n",
    "        # This includes the representation for \"padding\" and \"OOV\"\n",
    "        embedding_matrix[i] = embedding_vector\n",
    "        hits += 1\n",
    "    else:\n",
    "        misses += 1\n",
    "        misses_word.append(word)\n",
    "print(\"Converted %d words (%d misses)\" % (hits, misses))"
   ]
  },
  {
   "cell_type": "code",
   "execution_count": 115,
   "metadata": {
    "scrolled": true
   },
   "outputs": [
    {
     "data": {
      "text/plain": [
       "['trvsbrkr',\n",
       " 'trekkerguy',\n",
       " 'tplayer',\n",
       " 'toooooo',\n",
       " 'tittch',\n",
       " 'thxy',\n",
       " 'threeter',\n",
       " 'thodae',\n",
       " 'thisgoeshere',\n",
       " 'therealjordin',\n",
       " 'thepistol',\n",
       " 'thenikster',\n",
       " 'thedebbyryan',\n",
       " 'thebrandicyrus',\n",
       " 'theapostate',\n",
       " 'teemwilliams',\n",
       " 'tdlq',\n",
       " 'tamizh',\n",
       " 'synwpn',\n",
       " 'symphnysldr',\n",
       " 'sweetlilmzmia',\n",
       " 'statisticsio',\n",
       " 'soooooooooooo',\n",
       " 'solangeknowles',\n",
       " 'skibumbrian',\n",
       " 'silverlines',\n",
       " 'shushhh',\n",
       " 'shlokas',\n",
       " 'sheshines',\n",
       " 'shaunjumpnow',\n",
       " 'sharontweet',\n",
       " 'serenebalance',\n",
       " 'scientistno',\n",
       " 'sashactlc',\n",
       " 'saramorgan',\n",
       " 'saramooney',\n",
       " 'samjmoody',\n",
       " 'sadannyfan',\n",
       " 'rubyrose',\n",
       " 'rissaya',\n",
       " 'riskybusinessmb',\n",
       " 'riandawson',\n",
       " 'retrorewind',\n",
       " 'realhughjackman',\n",
       " 'qqwyd',\n",
       " 'pseudosophical',\n",
       " 'pinkbunny',\n",
       " 'pieshopgirl',\n",
       " 'pickoo',\n",
       " 'photoshopltd',\n",
       " 'phoneee',\n",
       " 'peterfacinelli',\n",
       " 'patriciaco',\n",
       " 'partyyy',\n",
       " 'owwww',\n",
       " 'otherijustine',\n",
       " 'otalia',\n",
       " 'orxq',\n",
       " 'nkairplay',\n",
       " 'nicolerichie',\n",
       " 'neverrr',\n",
       " 'neosolrkstr',\n",
       " 'nemonemesis',\n",
       " 'nathanfillion',\n",
       " 'nahhh',\n",
       " 'musicmuch',\n",
       " 'mrskutcher',\n",
       " 'mrscrob',\n",
       " 'moonsinger',\n",
       " 'moonfrye',\n",
       " 'monkeysnuggles',\n",
       " 'misswiz',\n",
       " 'misssarcastic',\n",
       " 'missnina',\n",
       " 'mishacollins',\n",
       " 'micstand',\n",
       " 'meeeee',\n",
       " 'mcpamy',\n",
       " 'mattpro',\n",
       " 'markmizuno',\n",
       " 'marcocali',\n",
       " 'mandacrow',\n",
       " 'majornelson',\n",
       " 'mailiw',\n",
       " 'loveeee',\n",
       " 'lostininaka',\n",
       " 'longggg',\n",
       " 'lkhamilton',\n",
       " 'littleren',\n",
       " 'linnetwoods',\n",
       " 'lghocq',\n",
       " 'langfordperry',\n",
       " 'lalavazquez',\n",
       " 'kriscolvin',\n",
       " 'krisallenmusic',\n",
       " 'knkartha',\n",
       " 'kimsherrell',\n",
       " 'khushiall',\n",
       " 'kalebnation',\n",
       " 'justdemi']"
      ]
     },
     "execution_count": 115,
     "metadata": {},
     "output_type": "execute_result"
    }
   ],
   "source": [
    "misses_word[100:200]"
   ]
  },
  {
   "cell_type": "code",
   "execution_count": 116,
   "metadata": {},
   "outputs": [],
   "source": [
    "from keras.layers.embeddings import Embedding\n",
    "import keras\n",
    "\n",
    "embedding_layer = Embedding(\n",
    "    num_tokens,\n",
    "    embedding_dim,\n",
    "    embeddings_initializer=keras.initializers.Constant(embedding_matrix),\n",
    "    input_length=tweet_length,\n",
    "    trainable=False,\n",
    ")"
   ]
  },
  {
   "cell_type": "code",
   "execution_count": 117,
   "metadata": {},
   "outputs": [
    {
     "name": "stdout",
     "output_type": "stream",
     "text": [
      "Model: \"sequential_5\"\n",
      "_________________________________________________________________\n",
      "Layer (type)                 Output Shape              Param #   \n",
      "=================================================================\n",
      "embedding_5 (Embedding)      (None, 30, 100)           2056600   \n",
      "_________________________________________________________________\n",
      "flatten_5 (Flatten)          (None, 3000)              0         \n",
      "_________________________________________________________________\n",
      "dense_10 (Dense)             (None, 8)                 24008     \n",
      "_________________________________________________________________\n",
      "dense_11 (Dense)             (None, 1)                 9         \n",
      "=================================================================\n",
      "Total params: 2,080,617\n",
      "Trainable params: 24,017\n",
      "Non-trainable params: 2,056,600\n",
      "_________________________________________________________________\n",
      "None\n"
     ]
    }
   ],
   "source": [
    "model_name = 'simple NN - GLoVe embedding'\n",
    "\n",
    "model = Sequential()\n",
    "\n",
    "model.add(embedding_layer)\n",
    "model.add(Flatten())\n",
    "model.add(Dense(8,activation='relu'))\n",
    "model.add(Dense(1,activation='sigmoid'))\n",
    "model.compile(loss = 'binary_crossentropy', optimizer='adam',metrics = ['accuracy','AUC'])\n",
    "print(model.summary())"
   ]
  },
  {
   "cell_type": "code",
   "execution_count": 118,
   "metadata": {},
   "outputs": [
    {
     "name": "stdout",
     "output_type": "stream",
     "text": [
      "Epoch 1/30\n",
      "12/12 [==============================] - 1s 43ms/step - loss: 0.6894 - accuracy: 0.5556 - auc: 0.5688 - val_loss: 0.6645 - val_accuracy: 0.6253 - val_auc: 0.6681\n",
      "Epoch 2/30\n",
      "12/12 [==============================] - 0s 14ms/step - loss: 0.6383 - accuracy: 0.6531 - auc: 0.7138 - val_loss: 0.6238 - val_accuracy: 0.6767 - val_auc: 0.7395\n",
      "Epoch 3/30\n",
      "12/12 [==============================] - 0s 14ms/step - loss: 0.5920 - accuracy: 0.6982 - auc: 0.7706 - val_loss: 0.5960 - val_accuracy: 0.6970 - val_auc: 0.7565\n",
      "Epoch 4/30\n",
      "12/12 [==============================] - 0s 13ms/step - loss: 0.5566 - accuracy: 0.7234 - auc: 0.7978 - val_loss: 0.5798 - val_accuracy: 0.7050 - val_auc: 0.7689\n",
      "Epoch 5/30\n",
      "12/12 [==============================] - 0s 17ms/step - loss: 0.5288 - accuracy: 0.7462 - auc: 0.8216 - val_loss: 0.5696 - val_accuracy: 0.7097 - val_auc: 0.7770\n",
      "Epoch 6/30\n",
      "12/12 [==============================] - 0s 20ms/step - loss: 0.5073 - accuracy: 0.7605 - auc: 0.8388 - val_loss: 0.5643 - val_accuracy: 0.7120 - val_auc: 0.7812\n",
      "Epoch 7/30\n",
      "12/12 [==============================] - 0s 19ms/step - loss: 0.4891 - accuracy: 0.7761 - auc: 0.8534 - val_loss: 0.5616 - val_accuracy: 0.7107 - val_auc: 0.7844\n",
      "Epoch 8/30\n",
      "12/12 [==============================] - 0s 16ms/step - loss: 0.4735 - accuracy: 0.7862 - auc: 0.8645 - val_loss: 0.5593 - val_accuracy: 0.7143 - val_auc: 0.7870\n",
      "Epoch 9/30\n",
      "12/12 [==============================] - 0s 15ms/step - loss: 0.4611 - accuracy: 0.7947 - auc: 0.8732 - val_loss: 0.5600 - val_accuracy: 0.7160 - val_auc: 0.7876\n",
      "Epoch 10/30\n",
      "12/12 [==============================] - 0s 13ms/step - loss: 0.4482 - accuracy: 0.8008 - auc: 0.8817 - val_loss: 0.5606 - val_accuracy: 0.7197 - val_auc: 0.7886\n",
      "Epoch 11/30\n",
      "12/12 [==============================] - 0s 13ms/step - loss: 0.4373 - accuracy: 0.8084 - auc: 0.8883 - val_loss: 0.5608 - val_accuracy: 0.7180 - val_auc: 0.7880\n",
      "Epoch 12/30\n",
      "12/12 [==============================] - 0s 14ms/step - loss: 0.4277 - accuracy: 0.8151 - auc: 0.8936 - val_loss: 0.5627 - val_accuracy: 0.7200 - val_auc: 0.7880\n",
      "Epoch 13/30\n",
      "12/12 [==============================] - 0s 14ms/step - loss: 0.4184 - accuracy: 0.8207 - auc: 0.8997 - val_loss: 0.5665 - val_accuracy: 0.7197 - val_auc: 0.7878\n",
      "Epoch 14/30\n",
      "12/12 [==============================] - 0s 14ms/step - loss: 0.4110 - accuracy: 0.8236 - auc: 0.9031 - val_loss: 0.5660 - val_accuracy: 0.7173 - val_auc: 0.7875\n",
      "Epoch 15/30\n",
      "12/12 [==============================] - 0s 14ms/step - loss: 0.4027 - accuracy: 0.8281 - auc: 0.9081 - val_loss: 0.5687 - val_accuracy: 0.7143 - val_auc: 0.7872\n",
      "Epoch 16/30\n",
      "12/12 [==============================] - 0s 14ms/step - loss: 0.3944 - accuracy: 0.8352 - auc: 0.9123 - val_loss: 0.5715 - val_accuracy: 0.7153 - val_auc: 0.7864\n",
      "Epoch 17/30\n",
      "12/12 [==============================] - 0s 13ms/step - loss: 0.3874 - accuracy: 0.8367 - auc: 0.9158 - val_loss: 0.5759 - val_accuracy: 0.7143 - val_auc: 0.7861\n",
      "Epoch 18/30\n",
      "12/12 [==============================] - 0s 13ms/step - loss: 0.3802 - accuracy: 0.8416 - auc: 0.9198 - val_loss: 0.5773 - val_accuracy: 0.7113 - val_auc: 0.7855\n",
      "Epoch 19/30\n",
      "12/12 [==============================] - 0s 16ms/step - loss: 0.3739 - accuracy: 0.8448 - auc: 0.9228 - val_loss: 0.5819 - val_accuracy: 0.7163 - val_auc: 0.7844\n",
      "Epoch 20/30\n",
      "12/12 [==============================] - 0s 15ms/step - loss: 0.3668 - accuracy: 0.8486 - auc: 0.9262 - val_loss: 0.5824 - val_accuracy: 0.7153 - val_auc: 0.7838\n",
      "Epoch 21/30\n",
      "12/12 [==============================] - 0s 14ms/step - loss: 0.3609 - accuracy: 0.8518 - auc: 0.9289 - val_loss: 0.5863 - val_accuracy: 0.7167 - val_auc: 0.7833\n",
      "Epoch 22/30\n",
      "12/12 [==============================] - 0s 14ms/step - loss: 0.3544 - accuracy: 0.8562 - auc: 0.9320 - val_loss: 0.5885 - val_accuracy: 0.7157 - val_auc: 0.7828\n",
      "Epoch 23/30\n",
      "12/12 [==============================] - 0s 14ms/step - loss: 0.3487 - accuracy: 0.8589 - auc: 0.9347 - val_loss: 0.5959 - val_accuracy: 0.7150 - val_auc: 0.7817\n",
      "Epoch 24/30\n",
      "12/12 [==============================] - 0s 15ms/step - loss: 0.3432 - accuracy: 0.8622 - auc: 0.9372 - val_loss: 0.5972 - val_accuracy: 0.7173 - val_auc: 0.7815\n",
      "Epoch 25/30\n",
      "12/12 [==============================] - 0s 15ms/step - loss: 0.3375 - accuracy: 0.8670 - auc: 0.9395 - val_loss: 0.6066 - val_accuracy: 0.7130 - val_auc: 0.7805\n",
      "Epoch 26/30\n",
      "12/12 [==============================] - 0s 15ms/step - loss: 0.3317 - accuracy: 0.8689 - auc: 0.9421 - val_loss: 0.6074 - val_accuracy: 0.7133 - val_auc: 0.7797\n",
      "Epoch 27/30\n",
      "12/12 [==============================] - 0s 15ms/step - loss: 0.3258 - accuracy: 0.8727 - auc: 0.9447 - val_loss: 0.6084 - val_accuracy: 0.7133 - val_auc: 0.7783\n",
      "Epoch 28/30\n",
      "12/12 [==============================] - 0s 14ms/step - loss: 0.3206 - accuracy: 0.8759 - auc: 0.9466 - val_loss: 0.6113 - val_accuracy: 0.7113 - val_auc: 0.7778\n",
      "Epoch 29/30\n",
      "12/12 [==============================] - 0s 15ms/step - loss: 0.3154 - accuracy: 0.8788 - auc: 0.9488 - val_loss: 0.6167 - val_accuracy: 0.7120 - val_auc: 0.7768\n",
      "Epoch 30/30\n",
      "12/12 [==============================] - 0s 15ms/step - loss: 0.3102 - accuracy: 0.8821 - auc: 0.9506 - val_loss: 0.6223 - val_accuracy: 0.7120 - val_auc: 0.7767\n"
     ]
    }
   ],
   "source": [
    "start = time.time()\n",
    "hist = model.fit(X_train_vect, y_train, batch_size=1024, epochs=30, validation_data=(X_test_vect, y_test))\n",
    "stop = time.time()"
   ]
  },
  {
   "cell_type": "code",
   "execution_count": 119,
   "metadata": {},
   "outputs": [],
   "source": [
    "models_performances = models_performances.append(\n",
    "    pd.Series(data={'total training time': stop-start,\n",
    "              'AUC': max(hist.history['val_auc']),\n",
    "              'Accuracy': max(hist.history['val_accuracy']),\n",
    "              'Epoch max reach': hist.history['val_accuracy'].index(max(hist.history['val_accuracy'])),\n",
    "              'training time to opt' : (stop-start)*hist.history['val_accuracy'].index(max(hist.history['val_accuracy']))/len(hist.history['val_accuracy'])},\n",
    "              name=model_name)\n",
    ")"
   ]
  },
  {
   "cell_type": "code",
   "execution_count": 120,
   "metadata": {},
   "outputs": [
    {
     "data": {
      "text/html": [
       "<div>\n",
       "<style scoped>\n",
       "    .dataframe tbody tr th:only-of-type {\n",
       "        vertical-align: middle;\n",
       "    }\n",
       "\n",
       "    .dataframe tbody tr th {\n",
       "        vertical-align: top;\n",
       "    }\n",
       "\n",
       "    .dataframe thead th {\n",
       "        text-align: right;\n",
       "    }\n",
       "</style>\n",
       "<table border=\"1\" class=\"dataframe\">\n",
       "  <thead>\n",
       "    <tr style=\"text-align: right;\">\n",
       "      <th></th>\n",
       "      <th>AUC</th>\n",
       "      <th>Accuracy</th>\n",
       "      <th>Epoch max reach</th>\n",
       "      <th>total training time</th>\n",
       "      <th>training time to opt</th>\n",
       "    </tr>\n",
       "  </thead>\n",
       "  <tbody>\n",
       "    <tr>\n",
       "      <th>simple NN - raw text</th>\n",
       "      <td>0.814432</td>\n",
       "      <td>0.749333</td>\n",
       "      <td>8.0</td>\n",
       "      <td>12.445643</td>\n",
       "      <td>6.637676</td>\n",
       "    </tr>\n",
       "    <tr>\n",
       "      <th>simple NN - Basic preprocessing</th>\n",
       "      <td>0.817025</td>\n",
       "      <td>0.731667</td>\n",
       "      <td>7.0</td>\n",
       "      <td>11.445507</td>\n",
       "      <td>5.341237</td>\n",
       "    </tr>\n",
       "    <tr>\n",
       "      <th>simple NN - Stemming</th>\n",
       "      <td>0.823142</td>\n",
       "      <td>0.743667</td>\n",
       "      <td>6.0</td>\n",
       "      <td>10.423989</td>\n",
       "      <td>4.169596</td>\n",
       "    </tr>\n",
       "    <tr>\n",
       "      <th>simple NN - Lemmatization</th>\n",
       "      <td>0.823922</td>\n",
       "      <td>0.747333</td>\n",
       "      <td>6.0</td>\n",
       "      <td>11.959692</td>\n",
       "      <td>4.783877</td>\n",
       "    </tr>\n",
       "    <tr>\n",
       "      <th>simple NN - GLoVe embedding</th>\n",
       "      <td>0.788596</td>\n",
       "      <td>0.720000</td>\n",
       "      <td>11.0</td>\n",
       "      <td>7.094175</td>\n",
       "      <td>2.601198</td>\n",
       "    </tr>\n",
       "  </tbody>\n",
       "</table>\n",
       "</div>"
      ],
      "text/plain": [
       "                                      AUC  Accuracy  Epoch max reach  \\\n",
       "simple NN - raw text             0.814432  0.749333              8.0   \n",
       "simple NN - Basic preprocessing  0.817025  0.731667              7.0   \n",
       "simple NN - Stemming             0.823142  0.743667              6.0   \n",
       "simple NN - Lemmatization        0.823922  0.747333              6.0   \n",
       "simple NN - GLoVe embedding      0.788596  0.720000             11.0   \n",
       "\n",
       "                                 total training time  training time to opt  \n",
       "simple NN - raw text                       12.445643              6.637676  \n",
       "simple NN - Basic preprocessing            11.445507              5.341237  \n",
       "simple NN - Stemming                       10.423989              4.169596  \n",
       "simple NN - Lemmatization                  11.959692              4.783877  \n",
       "simple NN - GLoVe embedding                 7.094175              2.601198  "
      ]
     },
     "execution_count": 120,
     "metadata": {},
     "output_type": "execute_result"
    }
   ],
   "source": [
    "models_performances"
   ]
  },
  {
   "cell_type": "markdown",
   "metadata": {},
   "source": [
    "## Recurrent Neural Network"
   ]
  },
  {
   "cell_type": "code",
   "execution_count": 121,
   "metadata": {},
   "outputs": [],
   "source": [
    "from keras.layers import LSTM"
   ]
  },
  {
   "cell_type": "code",
   "execution_count": 122,
   "metadata": {},
   "outputs": [
    {
     "name": "stdout",
     "output_type": "stream",
     "text": [
      "Model: \"sequential_6\"\n",
      "_________________________________________________________________\n",
      "Layer (type)                 Output Shape              Param #   \n",
      "=================================================================\n",
      "embedding_6 (Embedding)      (None, 30, 100)           2056400   \n",
      "_________________________________________________________________\n",
      "lstm (LSTM)                  (None, 64)                42240     \n",
      "_________________________________________________________________\n",
      "dense_12 (Dense)             (None, 1)                 65        \n",
      "=================================================================\n",
      "Total params: 2,098,705\n",
      "Trainable params: 2,098,705\n",
      "Non-trainable params: 0\n",
      "_________________________________________________________________\n",
      "None\n"
     ]
    }
   ],
   "source": [
    "model_name = 'LSTM - Own embedding '\n",
    "\n",
    "lstm_out=64\n",
    "\n",
    "model = Sequential()\n",
    "model.add(Embedding(len(voc),100 ,input_length = tweet_length))\n",
    "model.add(LSTM(lstm_out,dropout=0.4))\n",
    "#model.add(Dense(8,activation='relu'))\n",
    "model.add(Dense(1,activation='sigmoid'))\n",
    "model.compile(loss = 'binary_crossentropy', optimizer='adam',metrics = ['accuracy','AUC'])\n",
    "print(model.summary())"
   ]
  },
  {
   "cell_type": "code",
   "execution_count": 123,
   "metadata": {},
   "outputs": [
    {
     "name": "stdout",
     "output_type": "stream",
     "text": [
      "Epoch 1/30\n",
      "12/12 [==============================] - 4s 299ms/step - loss: 0.6935 - accuracy: 0.5008 - auc: 0.5000 - val_loss: 0.6931 - val_accuracy: 0.5027 - val_auc: 0.5362\n",
      "Epoch 2/30\n",
      "12/12 [==============================] - 3s 261ms/step - loss: 0.6926 - accuracy: 0.5077 - auc: 0.5303 - val_loss: 0.6914 - val_accuracy: 0.5383 - val_auc: 0.5682\n",
      "Epoch 3/30\n",
      "12/12 [==============================] - 3s 264ms/step - loss: 0.6705 - accuracy: 0.5973 - auc: 0.6439 - val_loss: 0.6039 - val_accuracy: 0.6797 - val_auc: 0.7438\n",
      "Epoch 4/30\n",
      "12/12 [==============================] - 3s 257ms/step - loss: 0.5270 - accuracy: 0.7512 - auc: 0.8180 - val_loss: 0.5339 - val_accuracy: 0.7290 - val_auc: 0.8170\n",
      "Epoch 5/30\n",
      "12/12 [==============================] - 3s 263ms/step - loss: 0.3967 - accuracy: 0.8363 - auc: 0.9017 - val_loss: 0.5285 - val_accuracy: 0.7443 - val_auc: 0.8279\n",
      "Epoch 6/30\n",
      "12/12 [==============================] - 3s 267ms/step - loss: 0.2826 - accuracy: 0.8921 - auc: 0.9497 - val_loss: 0.5824 - val_accuracy: 0.7377 - val_auc: 0.8240\n",
      "Epoch 7/30\n",
      "12/12 [==============================] - 3s 255ms/step - loss: 0.2062 - accuracy: 0.9265 - auc: 0.9719 - val_loss: 0.6616 - val_accuracy: 0.7223 - val_auc: 0.8121\n",
      "Epoch 8/30\n",
      "12/12 [==============================] - 4s 293ms/step - loss: 0.1506 - accuracy: 0.9498 - auc: 0.9839 - val_loss: 0.7022 - val_accuracy: 0.7167 - val_auc: 0.7954\n",
      "Epoch 9/30\n",
      "12/12 [==============================] - 3s 287ms/step - loss: 0.1215 - accuracy: 0.9604 - auc: 0.9884 - val_loss: 0.8243 - val_accuracy: 0.7087 - val_auc: 0.7849\n",
      "Epoch 10/30\n",
      "12/12 [==============================] - 4s 299ms/step - loss: 0.1001 - accuracy: 0.9679 - auc: 0.9914 - val_loss: 0.9267 - val_accuracy: 0.7000 - val_auc: 0.7790\n",
      "Epoch 11/30\n",
      "12/12 [==============================] - 3s 290ms/step - loss: 0.0806 - accuracy: 0.9738 - auc: 0.9942 - val_loss: 0.9165 - val_accuracy: 0.7070 - val_auc: 0.7778\n",
      "Epoch 12/30\n",
      "12/12 [==============================] - 3s 279ms/step - loss: 0.0671 - accuracy: 0.9786 - auc: 0.9957 - val_loss: 1.0056 - val_accuracy: 0.6933 - val_auc: 0.7669\n",
      "Epoch 13/30\n",
      "12/12 [==============================] - 3s 291ms/step - loss: 0.0613 - accuracy: 0.9812 - auc: 0.9959 - val_loss: 1.0036 - val_accuracy: 0.6963 - val_auc: 0.7710\n",
      "Epoch 14/30\n",
      "12/12 [==============================] - 4s 328ms/step - loss: 0.0531 - accuracy: 0.9845 - auc: 0.9959 - val_loss: 1.1520 - val_accuracy: 0.7020 - val_auc: 0.7632\n",
      "Epoch 15/30\n",
      "12/12 [==============================] - 4s 304ms/step - loss: 0.0510 - accuracy: 0.9848 - auc: 0.9970 - val_loss: 1.1835 - val_accuracy: 0.6927 - val_auc: 0.7584\n",
      "Epoch 16/30\n",
      "12/12 [==============================] - 4s 301ms/step - loss: 0.0517 - accuracy: 0.9830 - auc: 0.9966 - val_loss: 1.0910 - val_accuracy: 0.6850 - val_auc: 0.7591\n",
      "Epoch 17/30\n",
      "12/12 [==============================] - 4s 308ms/step - loss: 0.0464 - accuracy: 0.9851 - auc: 0.9971 - val_loss: 1.1595 - val_accuracy: 0.7003 - val_auc: 0.7603\n",
      "Epoch 18/30\n",
      "12/12 [==============================] - 3s 276ms/step - loss: 0.0482 - accuracy: 0.9849 - auc: 0.9968 - val_loss: 1.1664 - val_accuracy: 0.7017 - val_auc: 0.7578\n",
      "Epoch 19/30\n",
      "12/12 [==============================] - 4s 307ms/step - loss: 0.0452 - accuracy: 0.9859 - auc: 0.9972 - val_loss: 1.1009 - val_accuracy: 0.6897 - val_auc: 0.7578\n",
      "Epoch 20/30\n",
      "12/12 [==============================] - 4s 294ms/step - loss: 0.0398 - accuracy: 0.9886 - auc: 0.9974 - val_loss: 1.2157 - val_accuracy: 0.6880 - val_auc: 0.7523\n",
      "Epoch 21/30\n",
      "12/12 [==============================] - 4s 302ms/step - loss: 0.0356 - accuracy: 0.9902 - auc: 0.9976 - val_loss: 1.1774 - val_accuracy: 0.6967 - val_auc: 0.7522\n",
      "Epoch 22/30\n",
      "12/12 [==============================] - 4s 309ms/step - loss: 0.0329 - accuracy: 0.9903 - auc: 0.9980 - val_loss: 1.3417 - val_accuracy: 0.6923 - val_auc: 0.7422\n",
      "Epoch 23/30\n",
      "12/12 [==============================] - 4s 305ms/step - loss: 0.0318 - accuracy: 0.9905 - auc: 0.9982 - val_loss: 1.2879 - val_accuracy: 0.6847 - val_auc: 0.7440\n",
      "Epoch 24/30\n",
      "12/12 [==============================] - 4s 338ms/step - loss: 0.0313 - accuracy: 0.9916 - auc: 0.9981 - val_loss: 1.3380 - val_accuracy: 0.6837 - val_auc: 0.7409\n",
      "Epoch 25/30\n",
      "12/12 [==============================] - 4s 317ms/step - loss: 0.0297 - accuracy: 0.9913 - auc: 0.9983 - val_loss: 1.3668 - val_accuracy: 0.6897 - val_auc: 0.7417\n",
      "Epoch 26/30\n",
      "12/12 [==============================] - 3s 269ms/step - loss: 0.0324 - accuracy: 0.9912 - auc: 0.9979 - val_loss: 1.4158 - val_accuracy: 0.6820 - val_auc: 0.7351\n",
      "Epoch 27/30\n",
      "12/12 [==============================] - 3s 281ms/step - loss: 0.0311 - accuracy: 0.9918 - auc: 0.9983 - val_loss: 1.5064 - val_accuracy: 0.6840 - val_auc: 0.7316\n",
      "Epoch 28/30\n",
      "12/12 [==============================] - 3s 286ms/step - loss: 0.0331 - accuracy: 0.9895 - auc: 0.9979 - val_loss: 1.4353 - val_accuracy: 0.6753 - val_auc: 0.7299\n",
      "Epoch 29/30\n",
      "12/12 [==============================] - 3s 284ms/step - loss: 0.0301 - accuracy: 0.9907 - auc: 0.9983 - val_loss: 1.4228 - val_accuracy: 0.6813 - val_auc: 0.7328\n",
      "Epoch 30/30\n",
      "12/12 [==============================] - 4s 293ms/step - loss: 0.0277 - accuracy: 0.9911 - auc: 0.9984 - val_loss: 1.5097 - val_accuracy: 0.6863 - val_auc: 0.7295\n"
     ]
    }
   ],
   "source": [
    "start = time.time()\n",
    "hist = model.fit(X_train_vect, y_train, batch_size=1024, epochs=30, validation_data=(X_test_vect, y_test))\n",
    "stop = time.time()"
   ]
  },
  {
   "cell_type": "code",
   "execution_count": 124,
   "metadata": {},
   "outputs": [],
   "source": [
    "models_performances = models_performances.append(\n",
    "    pd.Series(data={'total training time': stop-start,\n",
    "              'AUC': max(hist.history['val_auc']),\n",
    "              'Accuracy': max(hist.history['val_accuracy']),\n",
    "              'Epoch max reach': hist.history['val_accuracy'].index(max(hist.history['val_accuracy'])),\n",
    "              'training time to opt' : (stop-start)*hist.history['val_accuracy'].index(max(hist.history['val_accuracy']))/len(hist.history['val_accuracy'])},\n",
    "              name=model_name)\n",
    ")"
   ]
  },
  {
   "cell_type": "code",
   "execution_count": 125,
   "metadata": {},
   "outputs": [
    {
     "data": {
      "text/html": [
       "<div>\n",
       "<style scoped>\n",
       "    .dataframe tbody tr th:only-of-type {\n",
       "        vertical-align: middle;\n",
       "    }\n",
       "\n",
       "    .dataframe tbody tr th {\n",
       "        vertical-align: top;\n",
       "    }\n",
       "\n",
       "    .dataframe thead th {\n",
       "        text-align: right;\n",
       "    }\n",
       "</style>\n",
       "<table border=\"1\" class=\"dataframe\">\n",
       "  <thead>\n",
       "    <tr style=\"text-align: right;\">\n",
       "      <th></th>\n",
       "      <th>AUC</th>\n",
       "      <th>Accuracy</th>\n",
       "      <th>Epoch max reach</th>\n",
       "      <th>total training time</th>\n",
       "      <th>training time to opt</th>\n",
       "    </tr>\n",
       "  </thead>\n",
       "  <tbody>\n",
       "    <tr>\n",
       "      <th>simple NN - raw text</th>\n",
       "      <td>0.814432</td>\n",
       "      <td>0.749333</td>\n",
       "      <td>8.0</td>\n",
       "      <td>12.445643</td>\n",
       "      <td>6.637676</td>\n",
       "    </tr>\n",
       "    <tr>\n",
       "      <th>simple NN - Basic preprocessing</th>\n",
       "      <td>0.817025</td>\n",
       "      <td>0.731667</td>\n",
       "      <td>7.0</td>\n",
       "      <td>11.445507</td>\n",
       "      <td>5.341237</td>\n",
       "    </tr>\n",
       "    <tr>\n",
       "      <th>simple NN - Stemming</th>\n",
       "      <td>0.823142</td>\n",
       "      <td>0.743667</td>\n",
       "      <td>6.0</td>\n",
       "      <td>10.423989</td>\n",
       "      <td>4.169596</td>\n",
       "    </tr>\n",
       "    <tr>\n",
       "      <th>simple NN - Lemmatization</th>\n",
       "      <td>0.823922</td>\n",
       "      <td>0.747333</td>\n",
       "      <td>6.0</td>\n",
       "      <td>11.959692</td>\n",
       "      <td>4.783877</td>\n",
       "    </tr>\n",
       "    <tr>\n",
       "      <th>simple NN - GLoVe embedding</th>\n",
       "      <td>0.788596</td>\n",
       "      <td>0.720000</td>\n",
       "      <td>11.0</td>\n",
       "      <td>7.094175</td>\n",
       "      <td>2.601198</td>\n",
       "    </tr>\n",
       "    <tr>\n",
       "      <th>LSTM - Own embedding</th>\n",
       "      <td>0.827899</td>\n",
       "      <td>0.744333</td>\n",
       "      <td>4.0</td>\n",
       "      <td>116.729051</td>\n",
       "      <td>15.563873</td>\n",
       "    </tr>\n",
       "  </tbody>\n",
       "</table>\n",
       "</div>"
      ],
      "text/plain": [
       "                                      AUC  Accuracy  Epoch max reach  \\\n",
       "simple NN - raw text             0.814432  0.749333              8.0   \n",
       "simple NN - Basic preprocessing  0.817025  0.731667              7.0   \n",
       "simple NN - Stemming             0.823142  0.743667              6.0   \n",
       "simple NN - Lemmatization        0.823922  0.747333              6.0   \n",
       "simple NN - GLoVe embedding      0.788596  0.720000             11.0   \n",
       "LSTM - Own embedding             0.827899  0.744333              4.0   \n",
       "\n",
       "                                 total training time  training time to opt  \n",
       "simple NN - raw text                       12.445643              6.637676  \n",
       "simple NN - Basic preprocessing            11.445507              5.341237  \n",
       "simple NN - Stemming                       10.423989              4.169596  \n",
       "simple NN - Lemmatization                  11.959692              4.783877  \n",
       "simple NN - GLoVe embedding                 7.094175              2.601198  \n",
       "LSTM - Own embedding                      116.729051             15.563873  "
      ]
     },
     "execution_count": 125,
     "metadata": {},
     "output_type": "execute_result"
    }
   ],
   "source": [
    "models_performances"
   ]
  },
  {
   "cell_type": "markdown",
   "metadata": {},
   "source": [
    "### With GLoVe embedding"
   ]
  },
  {
   "cell_type": "code",
   "execution_count": 126,
   "metadata": {},
   "outputs": [
    {
     "name": "stdout",
     "output_type": "stream",
     "text": [
      "Model: \"sequential_7\"\n",
      "_________________________________________________________________\n",
      "Layer (type)                 Output Shape              Param #   \n",
      "=================================================================\n",
      "embedding_5 (Embedding)      (None, 30, 100)           2056600   \n",
      "_________________________________________________________________\n",
      "lstm_1 (LSTM)                (None, 64)                42240     \n",
      "_________________________________________________________________\n",
      "dense_13 (Dense)             (None, 1)                 65        \n",
      "=================================================================\n",
      "Total params: 2,098,905\n",
      "Trainable params: 42,305\n",
      "Non-trainable params: 2,056,600\n",
      "_________________________________________________________________\n",
      "None\n"
     ]
    }
   ],
   "source": [
    "model_name = 'LSTM - GLoVe embedding'\n",
    "\n",
    "lstm_out=64\n",
    "\n",
    "model = Sequential()\n",
    "#model.add(Embedding(len(voc),100 ,input_length = tweet_length))\n",
    "model.add(embedding_layer)\n",
    "model.add(LSTM(lstm_out,dropout=0.2))\n",
    "#model.add(Dense(8,activation='relu'))\n",
    "model.add(Dense(1,activation='sigmoid'))\n",
    "model.compile(loss = 'binary_crossentropy', optimizer='adam',metrics = ['accuracy','AUC'])\n",
    "print(model.summary())"
   ]
  },
  {
   "cell_type": "code",
   "execution_count": 127,
   "metadata": {},
   "outputs": [
    {
     "name": "stdout",
     "output_type": "stream",
     "text": [
      "Epoch 1/30\n",
      "12/12 [==============================] - 3s 286ms/step - loss: 0.6901 - accuracy: 0.5266 - auc: 0.5452 - val_loss: 0.6837 - val_accuracy: 0.5343 - val_auc: 0.6937\n",
      "Epoch 2/30\n",
      "12/12 [==============================] - 3s 250ms/step - loss: 0.6417 - accuracy: 0.6422 - auc: 0.7118 - val_loss: 0.5901 - val_accuracy: 0.7023 - val_auc: 0.7640\n",
      "Epoch 3/30\n",
      "12/12 [==============================] - 3s 228ms/step - loss: 0.5763 - accuracy: 0.7069 - auc: 0.7704 - val_loss: 0.5536 - val_accuracy: 0.7217 - val_auc: 0.7974\n",
      "Epoch 4/30\n",
      "12/12 [==============================] - 3s 230ms/step - loss: 0.5468 - accuracy: 0.7274 - auc: 0.7980 - val_loss: 0.5310 - val_accuracy: 0.7353 - val_auc: 0.8142\n",
      "Epoch 5/30\n",
      "12/12 [==============================] - 3s 225ms/step - loss: 0.5303 - accuracy: 0.7334 - auc: 0.8139 - val_loss: 0.5243 - val_accuracy: 0.7387 - val_auc: 0.8213\n",
      "Epoch 6/30\n",
      "12/12 [==============================] - 3s 229ms/step - loss: 0.5233 - accuracy: 0.7387 - auc: 0.8192 - val_loss: 0.5168 - val_accuracy: 0.7453 - val_auc: 0.8248\n",
      "Epoch 7/30\n",
      "12/12 [==============================] - 3s 235ms/step - loss: 0.5160 - accuracy: 0.7473 - auc: 0.8243 - val_loss: 0.5125 - val_accuracy: 0.7473 - val_auc: 0.8275\n",
      "Epoch 8/30\n",
      "12/12 [==============================] - 3s 233ms/step - loss: 0.5110 - accuracy: 0.7486 - auc: 0.8277 - val_loss: 0.5089 - val_accuracy: 0.7530 - val_auc: 0.8304\n",
      "Epoch 9/30\n",
      "12/12 [==============================] - 3s 236ms/step - loss: 0.5062 - accuracy: 0.7513 - auc: 0.8314 - val_loss: 0.5084 - val_accuracy: 0.7470 - val_auc: 0.8336\n",
      "Epoch 10/30\n",
      "12/12 [==============================] - 3s 248ms/step - loss: 0.5049 - accuracy: 0.7508 - auc: 0.8314 - val_loss: 0.5207 - val_accuracy: 0.7407 - val_auc: 0.8332\n",
      "Epoch 11/30\n",
      "12/12 [==============================] - 3s 262ms/step - loss: 0.4971 - accuracy: 0.7539 - auc: 0.8373 - val_loss: 0.4993 - val_accuracy: 0.7577 - val_auc: 0.8378\n",
      "Epoch 12/30\n",
      "12/12 [==============================] - 4s 310ms/step - loss: 0.4895 - accuracy: 0.7614 - auc: 0.8425 - val_loss: 0.4937 - val_accuracy: 0.7587 - val_auc: 0.8415\n",
      "Epoch 13/30\n",
      "12/12 [==============================] - 3s 230ms/step - loss: 0.4792 - accuracy: 0.7700 - auc: 0.8504 - val_loss: 0.5006 - val_accuracy: 0.7570 - val_auc: 0.8404\n",
      "Epoch 14/30\n",
      "12/12 [==============================] - 3s 221ms/step - loss: 0.4758 - accuracy: 0.7702 - auc: 0.8526 - val_loss: 0.4950 - val_accuracy: 0.7557 - val_auc: 0.8432\n",
      "Epoch 15/30\n",
      "12/12 [==============================] - 3s 219ms/step - loss: 0.4730 - accuracy: 0.7734 - auc: 0.8545 - val_loss: 0.4924 - val_accuracy: 0.7640 - val_auc: 0.8453\n",
      "Epoch 16/30\n",
      "12/12 [==============================] - 3s 234ms/step - loss: 0.4677 - accuracy: 0.7779 - auc: 0.8578 - val_loss: 0.4919 - val_accuracy: 0.7647 - val_auc: 0.8454\n",
      "Epoch 17/30\n",
      "12/12 [==============================] - 3s 230ms/step - loss: 0.4610 - accuracy: 0.7807 - auc: 0.8631 - val_loss: 0.4834 - val_accuracy: 0.7683 - val_auc: 0.8485\n",
      "Epoch 18/30\n",
      "12/12 [==============================] - 3s 245ms/step - loss: 0.4591 - accuracy: 0.7788 - auc: 0.8642 - val_loss: 0.4842 - val_accuracy: 0.7693 - val_auc: 0.8478\n",
      "Epoch 19/30\n",
      "12/12 [==============================] - 3s 249ms/step - loss: 0.4576 - accuracy: 0.7824 - auc: 0.8654 - val_loss: 0.4982 - val_accuracy: 0.7637 - val_auc: 0.8490\n",
      "Epoch 20/30\n",
      "12/12 [==============================] - 3s 230ms/step - loss: 0.4470 - accuracy: 0.7924 - auc: 0.8723 - val_loss: 0.4877 - val_accuracy: 0.7673 - val_auc: 0.8487\n",
      "Epoch 21/30\n",
      "12/12 [==============================] - 3s 252ms/step - loss: 0.4410 - accuracy: 0.7945 - auc: 0.8755 - val_loss: 0.4845 - val_accuracy: 0.7667 - val_auc: 0.8480\n",
      "Epoch 22/30\n",
      "12/12 [==============================] - 3s 236ms/step - loss: 0.4374 - accuracy: 0.7949 - auc: 0.8779 - val_loss: 0.4936 - val_accuracy: 0.7653 - val_auc: 0.8481\n",
      "Epoch 23/30\n",
      "12/12 [==============================] - 3s 276ms/step - loss: 0.4329 - accuracy: 0.7981 - auc: 0.8811 - val_loss: 0.4880 - val_accuracy: 0.7700 - val_auc: 0.8483\n",
      "Epoch 24/30\n",
      "12/12 [==============================] - 3s 263ms/step - loss: 0.4260 - accuracy: 0.8034 - auc: 0.8852 - val_loss: 0.4894 - val_accuracy: 0.7643 - val_auc: 0.8464\n",
      "Epoch 25/30\n",
      "12/12 [==============================] - 3s 247ms/step - loss: 0.4256 - accuracy: 0.8050 - auc: 0.8854 - val_loss: 0.4965 - val_accuracy: 0.7650 - val_auc: 0.8467\n",
      "Epoch 26/30\n",
      "12/12 [==============================] - 3s 239ms/step - loss: 0.4185 - accuracy: 0.8092 - auc: 0.8892 - val_loss: 0.4908 - val_accuracy: 0.7653 - val_auc: 0.8486\n",
      "Epoch 27/30\n",
      "12/12 [==============================] - 3s 226ms/step - loss: 0.4180 - accuracy: 0.8053 - auc: 0.8894 - val_loss: 0.4966 - val_accuracy: 0.7637 - val_auc: 0.8472\n",
      "Epoch 28/30\n",
      "12/12 [==============================] - 3s 223ms/step - loss: 0.4128 - accuracy: 0.8076 - auc: 0.8926 - val_loss: 0.5064 - val_accuracy: 0.7660 - val_auc: 0.8499\n",
      "Epoch 29/30\n",
      "12/12 [==============================] - 3s 234ms/step - loss: 0.4082 - accuracy: 0.8152 - auc: 0.8952 - val_loss: 0.5096 - val_accuracy: 0.7670 - val_auc: 0.8476\n",
      "Epoch 30/30\n",
      "12/12 [==============================] - 3s 225ms/step - loss: 0.4120 - accuracy: 0.8133 - auc: 0.8929 - val_loss: 0.5007 - val_accuracy: 0.7687 - val_auc: 0.8478\n"
     ]
    }
   ],
   "source": [
    "start = time.time()\n",
    "hist = model.fit(X_train_vect, y_train, batch_size=1024, epochs=30, validation_data=(X_test_vect, y_test))\n",
    "stop = time.time()"
   ]
  },
  {
   "cell_type": "code",
   "execution_count": 128,
   "metadata": {},
   "outputs": [
    {
     "data": {
      "text/plain": [
       "[]"
      ]
     },
     "execution_count": 128,
     "metadata": {},
     "output_type": "execute_result"
    },
    {
     "data": {
      "image/png": "[encoded data removed]",
      "text/plain": [
       "<Figure size 432x288 with 1 Axes>"
      ]
     },
     "metadata": {},
     "output_type": "display_data"
    }
   ],
   "source": [
    "import seaborn as sns\n",
    "import matplotlib.pyplot as plt\n",
    "%matplotlib inline\n",
    "\n",
    "sns.set()\n",
    "acc = hist.history['accuracy']\n",
    "val = hist.history['val_accuracy']\n",
    "epochs = range(1, len(acc) + 1)\n",
    "\n",
    "plt.plot(epochs, acc, '-', label='Training accuracy')\n",
    "plt.plot(epochs, val, ':', label='Validation accuracy')\n",
    "plt.title('Training and Validation Accuracy')\n",
    "plt.xlabel('Epoch')\n",
    "plt.ylabel('Accuracy')\n",
    "plt.legend(loc='upper left')\n",
    "plt.plot()"
   ]
  },
  {
   "cell_type": "code",
   "execution_count": 129,
   "metadata": {},
   "outputs": [],
   "source": [
    "models_performances = models_performances.append(\n",
    "    pd.Series(data={'total training time': stop-start,\n",
    "              'AUC': max(hist.history['val_auc']),\n",
    "              'Accuracy': max(hist.history['val_accuracy']),\n",
    "              'Epoch max reach': hist.history['val_accuracy'].index(max(hist.history['val_accuracy'])),\n",
    "              'training time to opt' : (stop-start)*hist.history['val_accuracy'].index(max(hist.history['val_accuracy']))/len(hist.history['val_accuracy'])},\n",
    "              name=model_name)\n",
    ")"
   ]
  },
  {
   "cell_type": "code",
   "execution_count": 130,
   "metadata": {},
   "outputs": [
    {
     "data": {
      "text/html": [
       "<div>\n",
       "<style scoped>\n",
       "    .dataframe tbody tr th:only-of-type {\n",
       "        vertical-align: middle;\n",
       "    }\n",
       "\n",
       "    .dataframe tbody tr th {\n",
       "        vertical-align: top;\n",
       "    }\n",
       "\n",
       "    .dataframe thead th {\n",
       "        text-align: right;\n",
       "    }\n",
       "</style>\n",
       "<table border=\"1\" class=\"dataframe\">\n",
       "  <thead>\n",
       "    <tr style=\"text-align: right;\">\n",
       "      <th></th>\n",
       "      <th>AUC</th>\n",
       "      <th>Accuracy</th>\n",
       "      <th>Epoch max reach</th>\n",
       "      <th>total training time</th>\n",
       "      <th>training time to opt</th>\n",
       "    </tr>\n",
       "  </thead>\n",
       "  <tbody>\n",
       "    <tr>\n",
       "      <th>simple NN - raw text</th>\n",
       "      <td>0.814432</td>\n",
       "      <td>0.749333</td>\n",
       "      <td>8.0</td>\n",
       "      <td>12.445643</td>\n",
       "      <td>6.637676</td>\n",
       "    </tr>\n",
       "    <tr>\n",
       "      <th>simple NN - Basic preprocessing</th>\n",
       "      <td>0.817025</td>\n",
       "      <td>0.731667</td>\n",
       "      <td>7.0</td>\n",
       "      <td>11.445507</td>\n",
       "      <td>5.341237</td>\n",
       "    </tr>\n",
       "    <tr>\n",
       "      <th>simple NN - Stemming</th>\n",
       "      <td>0.823142</td>\n",
       "      <td>0.743667</td>\n",
       "      <td>6.0</td>\n",
       "      <td>10.423989</td>\n",
       "      <td>4.169596</td>\n",
       "    </tr>\n",
       "    <tr>\n",
       "      <th>simple NN - Lemmatization</th>\n",
       "      <td>0.823922</td>\n",
       "      <td>0.747333</td>\n",
       "      <td>6.0</td>\n",
       "      <td>11.959692</td>\n",
       "      <td>4.783877</td>\n",
       "    </tr>\n",
       "    <tr>\n",
       "      <th>simple NN - GLoVe embedding</th>\n",
       "      <td>0.788596</td>\n",
       "      <td>0.720000</td>\n",
       "      <td>11.0</td>\n",
       "      <td>7.094175</td>\n",
       "      <td>2.601198</td>\n",
       "    </tr>\n",
       "    <tr>\n",
       "      <th>LSTM - Own embedding</th>\n",
       "      <td>0.827899</td>\n",
       "      <td>0.744333</td>\n",
       "      <td>4.0</td>\n",
       "      <td>116.729051</td>\n",
       "      <td>15.563873</td>\n",
       "    </tr>\n",
       "    <tr>\n",
       "      <th>LSTM - GLoVe embedding</th>\n",
       "      <td>0.849900</td>\n",
       "      <td>0.770000</td>\n",
       "      <td>22.0</td>\n",
       "      <td>96.783377</td>\n",
       "      <td>70.974476</td>\n",
       "    </tr>\n",
       "  </tbody>\n",
       "</table>\n",
       "</div>"
      ],
      "text/plain": [
       "                                      AUC  Accuracy  Epoch max reach  \\\n",
       "simple NN - raw text             0.814432  0.749333              8.0   \n",
       "simple NN - Basic preprocessing  0.817025  0.731667              7.0   \n",
       "simple NN - Stemming             0.823142  0.743667              6.0   \n",
       "simple NN - Lemmatization        0.823922  0.747333              6.0   \n",
       "simple NN - GLoVe embedding      0.788596  0.720000             11.0   \n",
       "LSTM - Own embedding             0.827899  0.744333              4.0   \n",
       "LSTM - GLoVe embedding           0.849900  0.770000             22.0   \n",
       "\n",
       "                                 total training time  training time to opt  \n",
       "simple NN - raw text                       12.445643              6.637676  \n",
       "simple NN - Basic preprocessing            11.445507              5.341237  \n",
       "simple NN - Stemming                       10.423989              4.169596  \n",
       "simple NN - Lemmatization                  11.959692              4.783877  \n",
       "simple NN - GLoVe embedding                 7.094175              2.601198  \n",
       "LSTM - Own embedding                      116.729051             15.563873  \n",
       "LSTM - GLoVe embedding                     96.783377             70.974476  "
      ]
     },
     "execution_count": 130,
     "metadata": {},
     "output_type": "execute_result"
    }
   ],
   "source": [
    "models_performances"
   ]
  },
  {
   "cell_type": "markdown",
   "metadata": {},
   "source": [
    "## Bi directional LSTM"
   ]
  },
  {
   "cell_type": "code",
   "execution_count": 131,
   "metadata": {},
   "outputs": [],
   "source": [
    "from keras.layers import Bidirectional"
   ]
  },
  {
   "cell_type": "code",
   "execution_count": 132,
   "metadata": {},
   "outputs": [
    {
     "name": "stdout",
     "output_type": "stream",
     "text": [
      "Model: \"sequential_8\"\n",
      "_________________________________________________________________\n",
      "Layer (type)                 Output Shape              Param #   \n",
      "=================================================================\n",
      "embedding_5 (Embedding)      (None, 30, 100)           2056600   \n",
      "_________________________________________________________________\n",
      "bidirectional (Bidirectional (None, 128)               84480     \n",
      "_________________________________________________________________\n",
      "dense_14 (Dense)             (None, 1)                 129       \n",
      "=================================================================\n",
      "Total params: 2,141,209\n",
      "Trainable params: 84,609\n",
      "Non-trainable params: 2,056,600\n",
      "_________________________________________________________________\n",
      "None\n"
     ]
    }
   ],
   "source": [
    "model_name = 'biLSTM - GLoVe embedding'\n",
    "\n",
    "lstm_out=64\n",
    "\n",
    "model = Sequential()\n",
    "#model.add(Embedding(len(voc),100 ,input_length = tweet_length))\n",
    "model.add(embedding_layer)\n",
    "model.add(Bidirectional(LSTM(lstm_out,dropout=0.2)))\n",
    "#model.add(Dense(8,activation='relu'))\n",
    "model.add(Dense(1,activation='sigmoid'))\n",
    "model.compile(loss = 'binary_crossentropy', optimizer='adam',metrics = ['accuracy','AUC'])\n",
    "print(model.summary())"
   ]
  },
  {
   "cell_type": "code",
   "execution_count": 133,
   "metadata": {},
   "outputs": [
    {
     "name": "stdout",
     "output_type": "stream",
     "text": [
      "Epoch 1/30\n",
      "12/12 [==============================] - 6s 537ms/step - loss: 0.6701 - accuracy: 0.5965 - auc: 0.6507 - val_loss: 0.6352 - val_accuracy: 0.6737 - val_auc: 0.7465\n",
      "Epoch 2/30\n",
      "12/12 [==============================] - 5s 400ms/step - loss: 0.6066 - accuracy: 0.6827 - auc: 0.7446 - val_loss: 0.5706 - val_accuracy: 0.7123 - val_auc: 0.7773\n",
      "Epoch 3/30\n",
      "12/12 [==============================] - 6s 469ms/step - loss: 0.5521 - accuracy: 0.7179 - auc: 0.7909 - val_loss: 0.5389 - val_accuracy: 0.7293 - val_auc: 0.8035\n",
      "Epoch 4/30\n",
      "12/12 [==============================] - 5s 448ms/step - loss: 0.5323 - accuracy: 0.7298 - auc: 0.8089 - val_loss: 0.5258 - val_accuracy: 0.7343 - val_auc: 0.8179\n",
      "Epoch 5/30\n",
      "12/12 [==============================] - 5s 426ms/step - loss: 0.5159 - accuracy: 0.7436 - auc: 0.8234 - val_loss: 0.5238 - val_accuracy: 0.7420 - val_auc: 0.8219\n",
      "Epoch 6/30\n",
      "12/12 [==============================] - 6s 468ms/step - loss: 0.5098 - accuracy: 0.7473 - auc: 0.8277 - val_loss: 0.5167 - val_accuracy: 0.7430 - val_auc: 0.8266\n",
      "Epoch 7/30\n",
      "12/12 [==============================] - 5s 457ms/step - loss: 0.5000 - accuracy: 0.7521 - auc: 0.8352 - val_loss: 0.5082 - val_accuracy: 0.7503 - val_auc: 0.8299\n",
      "Epoch 8/30\n",
      "12/12 [==============================] - 6s 462ms/step - loss: 0.4975 - accuracy: 0.7567 - auc: 0.8371 - val_loss: 0.5043 - val_accuracy: 0.7470 - val_auc: 0.8336\n",
      "Epoch 9/30\n",
      "12/12 [==============================] - 5s 456ms/step - loss: 0.4893 - accuracy: 0.7618 - auc: 0.8431 - val_loss: 0.5020 - val_accuracy: 0.7603 - val_auc: 0.8362\n",
      "Epoch 10/30\n",
      "12/12 [==============================] - 5s 430ms/step - loss: 0.4856 - accuracy: 0.7653 - auc: 0.8461 - val_loss: 0.5005 - val_accuracy: 0.7563 - val_auc: 0.8379\n",
      "Epoch 11/30\n",
      "12/12 [==============================] - 5s 437ms/step - loss: 0.4835 - accuracy: 0.7643 - auc: 0.8471 - val_loss: 0.4974 - val_accuracy: 0.7570 - val_auc: 0.8399\n",
      "Epoch 12/30\n",
      "12/12 [==============================] - 5s 449ms/step - loss: 0.4749 - accuracy: 0.7698 - auc: 0.8531 - val_loss: 0.5032 - val_accuracy: 0.7547 - val_auc: 0.8415\n",
      "Epoch 13/30\n",
      "12/12 [==============================] - 5s 399ms/step - loss: 0.4738 - accuracy: 0.7754 - auc: 0.8540 - val_loss: 0.4913 - val_accuracy: 0.7617 - val_auc: 0.8428\n",
      "Epoch 14/30\n",
      "12/12 [==============================] - 5s 417ms/step - loss: 0.4613 - accuracy: 0.7803 - auc: 0.8630 - val_loss: 0.4937 - val_accuracy: 0.7643 - val_auc: 0.8452\n",
      "Epoch 15/30\n",
      "12/12 [==============================] - 5s 431ms/step - loss: 0.4575 - accuracy: 0.7801 - auc: 0.8653 - val_loss: 0.4889 - val_accuracy: 0.7667 - val_auc: 0.8465\n",
      "Epoch 16/30\n",
      "12/12 [==============================] - 5s 426ms/step - loss: 0.4492 - accuracy: 0.7861 - auc: 0.8704 - val_loss: 0.4849 - val_accuracy: 0.7643 - val_auc: 0.8476\n",
      "Epoch 17/30\n",
      "12/12 [==============================] - 5s 437ms/step - loss: 0.4443 - accuracy: 0.7890 - auc: 0.8732 - val_loss: 0.5136 - val_accuracy: 0.7533 - val_auc: 0.8450\n",
      "Epoch 18/30\n",
      "12/12 [==============================] - 5s 439ms/step - loss: 0.4409 - accuracy: 0.7889 - auc: 0.8754 - val_loss: 0.4863 - val_accuracy: 0.7723 - val_auc: 0.8494\n",
      "Epoch 19/30\n",
      "12/12 [==============================] - 5s 425ms/step - loss: 0.4357 - accuracy: 0.7923 - auc: 0.8786 - val_loss: 0.4948 - val_accuracy: 0.7663 - val_auc: 0.8488\n",
      "Epoch 20/30\n",
      "12/12 [==============================] - 6s 472ms/step - loss: 0.4265 - accuracy: 0.8030 - auc: 0.8845 - val_loss: 0.4873 - val_accuracy: 0.7703 - val_auc: 0.8498\n",
      "Epoch 21/30\n",
      "12/12 [==============================] - 5s 432ms/step - loss: 0.4277 - accuracy: 0.8005 - auc: 0.8838 - val_loss: 0.4927 - val_accuracy: 0.7647 - val_auc: 0.8497\n",
      "Epoch 22/30\n",
      "12/12 [==============================] - 5s 441ms/step - loss: 0.4180 - accuracy: 0.8084 - auc: 0.8891 - val_loss: 0.4861 - val_accuracy: 0.7697 - val_auc: 0.8501\n",
      "Epoch 23/30\n",
      "12/12 [==============================] - 5s 453ms/step - loss: 0.4092 - accuracy: 0.8119 - auc: 0.8945 - val_loss: 0.4924 - val_accuracy: 0.7743 - val_auc: 0.8503\n",
      "Epoch 24/30\n",
      "12/12 [==============================] - 5s 433ms/step - loss: 0.4088 - accuracy: 0.8102 - auc: 0.8943 - val_loss: 0.4908 - val_accuracy: 0.7723 - val_auc: 0.8489\n",
      "Epoch 25/30\n",
      "12/12 [==============================] - 5s 455ms/step - loss: 0.4044 - accuracy: 0.8160 - auc: 0.8976 - val_loss: 0.5033 - val_accuracy: 0.7627 - val_auc: 0.8488\n",
      "Epoch 26/30\n",
      "12/12 [==============================] - 5s 452ms/step - loss: 0.3997 - accuracy: 0.8180 - auc: 0.8998 - val_loss: 0.4966 - val_accuracy: 0.7700 - val_auc: 0.8487\n",
      "Epoch 27/30\n",
      "12/12 [==============================] - 5s 443ms/step - loss: 0.3949 - accuracy: 0.8174 - auc: 0.9020 - val_loss: 0.4974 - val_accuracy: 0.7710 - val_auc: 0.8481\n",
      "Epoch 28/30\n",
      "12/12 [==============================] - 5s 458ms/step - loss: 0.3933 - accuracy: 0.8202 - auc: 0.9029 - val_loss: 0.5121 - val_accuracy: 0.7610 - val_auc: 0.8509\n",
      "Epoch 29/30\n",
      "12/12 [==============================] - 6s 474ms/step - loss: 0.3867 - accuracy: 0.8235 - auc: 0.9066 - val_loss: 0.4968 - val_accuracy: 0.7703 - val_auc: 0.8502\n",
      "Epoch 30/30\n",
      "12/12 [==============================] - 5s 427ms/step - loss: 0.3776 - accuracy: 0.8311 - auc: 0.9113 - val_loss: 0.4974 - val_accuracy: 0.7693 - val_auc: 0.8496\n"
     ]
    }
   ],
   "source": [
    "start = time.time()\n",
    "hist = model.fit(X_train_vect, y_train, batch_size=1024, epochs=30, validation_data=(X_test_vect, y_test))\n",
    "stop = time.time()"
   ]
  },
  {
   "cell_type": "code",
   "execution_count": 134,
   "metadata": {},
   "outputs": [],
   "source": [
    "models_performances = models_performances.append(\n",
    "    pd.Series(data={'total training time': stop-start,\n",
    "              'AUC': max(hist.history['val_auc']),\n",
    "              'Accuracy': max(hist.history['val_accuracy']),\n",
    "              'Epoch max reach': hist.history['val_accuracy'].index(max(hist.history['val_accuracy'])),\n",
    "              'training time to opt' : (stop-start)*hist.history['val_accuracy'].index(max(hist.history['val_accuracy']))/len(hist.history['val_accuracy'])},\n",
    "              name=model_name)\n",
    ")"
   ]
  },
  {
   "cell_type": "code",
   "execution_count": 135,
   "metadata": {},
   "outputs": [],
   "source": [
    "models_performances.to_excel('data/perf_1K.xlsx')"
   ]
  },
  {
   "cell_type": "code",
   "execution_count": 136,
   "metadata": {},
   "outputs": [
    {
     "data": {
      "text/plain": [
       "[]"
      ]
     },
     "execution_count": 136,
     "metadata": {},
     "output_type": "execute_result"
    },
    {
     "data": {
      "image/png": "[encoded data removed]",
      "text/plain": [
       "<Figure size 432x288 with 1 Axes>"
      ]
     },
     "metadata": {},
     "output_type": "display_data"
    }
   ],
   "source": [
    "import seaborn as sns\n",
    "import matplotlib.pyplot as plt\n",
    "%matplotlib inline\n",
    "\n",
    "sns.set()\n",
    "acc = hist.history['accuracy']\n",
    "val = hist.history['val_accuracy']\n",
    "epochs = range(1, len(acc) + 1)\n",
    "\n",
    "plt.plot(epochs, acc, '-', label='Training accuracy')\n",
    "plt.plot(epochs, val, ':', label='Validation accuracy')\n",
    "plt.title('Training and Validation Accuracy')\n",
    "plt.xlabel('Epoch')\n",
    "plt.ylabel('Accuracy')\n",
    "plt.legend(loc='upper left')\n",
    "plt.plot()"
   ]
  },
  {
   "cell_type": "code",
   "execution_count": 137,
   "metadata": {},
   "outputs": [
    {
     "data": {
      "text/html": [
       "<div>\n",
       "<style scoped>\n",
       "    .dataframe tbody tr th:only-of-type {\n",
       "        vertical-align: middle;\n",
       "    }\n",
       "\n",
       "    .dataframe tbody tr th {\n",
       "        vertical-align: top;\n",
       "    }\n",
       "\n",
       "    .dataframe thead th {\n",
       "        text-align: right;\n",
       "    }\n",
       "</style>\n",
       "<table border=\"1\" class=\"dataframe\">\n",
       "  <thead>\n",
       "    <tr style=\"text-align: right;\">\n",
       "      <th></th>\n",
       "      <th>AUC</th>\n",
       "      <th>Accuracy</th>\n",
       "      <th>Epoch max reach</th>\n",
       "      <th>total training time</th>\n",
       "      <th>training time to opt</th>\n",
       "    </tr>\n",
       "  </thead>\n",
       "  <tbody>\n",
       "    <tr>\n",
       "      <th>simple NN - raw text</th>\n",
       "      <td>0.814432</td>\n",
       "      <td>0.749333</td>\n",
       "      <td>8.0</td>\n",
       "      <td>12.445643</td>\n",
       "      <td>6.637676</td>\n",
       "    </tr>\n",
       "    <tr>\n",
       "      <th>simple NN - Basic preprocessing</th>\n",
       "      <td>0.817025</td>\n",
       "      <td>0.731667</td>\n",
       "      <td>7.0</td>\n",
       "      <td>11.445507</td>\n",
       "      <td>5.341237</td>\n",
       "    </tr>\n",
       "    <tr>\n",
       "      <th>simple NN - Stemming</th>\n",
       "      <td>0.823142</td>\n",
       "      <td>0.743667</td>\n",
       "      <td>6.0</td>\n",
       "      <td>10.423989</td>\n",
       "      <td>4.169596</td>\n",
       "    </tr>\n",
       "    <tr>\n",
       "      <th>simple NN - Lemmatization</th>\n",
       "      <td>0.823922</td>\n",
       "      <td>0.747333</td>\n",
       "      <td>6.0</td>\n",
       "      <td>11.959692</td>\n",
       "      <td>4.783877</td>\n",
       "    </tr>\n",
       "    <tr>\n",
       "      <th>simple NN - GLoVe embedding</th>\n",
       "      <td>0.788596</td>\n",
       "      <td>0.720000</td>\n",
       "      <td>11.0</td>\n",
       "      <td>7.094175</td>\n",
       "      <td>2.601198</td>\n",
       "    </tr>\n",
       "    <tr>\n",
       "      <th>LSTM - Own embedding</th>\n",
       "      <td>0.827899</td>\n",
       "      <td>0.744333</td>\n",
       "      <td>4.0</td>\n",
       "      <td>116.729051</td>\n",
       "      <td>15.563873</td>\n",
       "    </tr>\n",
       "    <tr>\n",
       "      <th>LSTM - GLoVe embedding</th>\n",
       "      <td>0.849900</td>\n",
       "      <td>0.770000</td>\n",
       "      <td>22.0</td>\n",
       "      <td>96.783377</td>\n",
       "      <td>70.974476</td>\n",
       "    </tr>\n",
       "    <tr>\n",
       "      <th>biLSTM - GLoVe embedding</th>\n",
       "      <td>0.850876</td>\n",
       "      <td>0.774333</td>\n",
       "      <td>22.0</td>\n",
       "      <td>226.873566</td>\n",
       "      <td>166.373948</td>\n",
       "    </tr>\n",
       "  </tbody>\n",
       "</table>\n",
       "</div>"
      ],
      "text/plain": [
       "                                      AUC  Accuracy  Epoch max reach  \\\n",
       "simple NN - raw text             0.814432  0.749333              8.0   \n",
       "simple NN - Basic preprocessing  0.817025  0.731667              7.0   \n",
       "simple NN - Stemming             0.823142  0.743667              6.0   \n",
       "simple NN - Lemmatization        0.823922  0.747333              6.0   \n",
       "simple NN - GLoVe embedding      0.788596  0.720000             11.0   \n",
       "LSTM - Own embedding             0.827899  0.744333              4.0   \n",
       "LSTM - GLoVe embedding           0.849900  0.770000             22.0   \n",
       "biLSTM - GLoVe embedding         0.850876  0.774333             22.0   \n",
       "\n",
       "                                 total training time  training time to opt  \n",
       "simple NN - raw text                       12.445643              6.637676  \n",
       "simple NN - Basic preprocessing            11.445507              5.341237  \n",
       "simple NN - Stemming                       10.423989              4.169596  \n",
       "simple NN - Lemmatization                  11.959692              4.783877  \n",
       "simple NN - GLoVe embedding                 7.094175              2.601198  \n",
       "LSTM - Own embedding                      116.729051             15.563873  \n",
       "LSTM - GLoVe embedding                     96.783377             70.974476  \n",
       "biLSTM - GLoVe embedding                  226.873566            166.373948  "
      ]
     },
     "execution_count": 137,
     "metadata": {},
     "output_type": "execute_result"
    }
   ],
   "source": [
    "models_performances"
   ]
  },
  {
   "cell_type": "markdown",
   "metadata": {},
   "source": [
    "We will whoose LSTM+Glove as our best model based on accuracy and training time"
   ]
  },
  {
   "cell_type": "markdown",
   "metadata": {},
   "source": [
    "# Model Optimization"
   ]
  },
  {
   "cell_type": "markdown",
   "metadata": {},
   "source": [
    "Because of ressource limitation, we'll not perform a cross validation and gridsearch on hyperparameter, insted we'll just try different values and compare performance"
   ]
  },
  {
   "cell_type": "code",
   "execution_count": 138,
   "metadata": {},
   "outputs": [],
   "source": [
    "hyperparamters_performances=pd.DataFrame(columns=['AUC','Accuracy_val','Epoch max reach'])"
   ]
  },
  {
   "cell_type": "markdown",
   "metadata": {},
   "source": [
    "## Learning rate"
   ]
  },
  {
   "cell_type": "code",
   "execution_count": 139,
   "metadata": {},
   "outputs": [],
   "source": [
    "model_name = 'LSTM - GLoVe embedding'\n",
    "dp=0.2\n",
    "lr=0.001\n",
    "lstm_out=64\n",
    "\n",
    "model = Sequential()\n",
    "#model.add(Embedding(len(voc),100 ,input_length = tweet_length))\n",
    "model.add(embedding_layer)\n",
    "model.add(LSTM(lstm_out,dropout=dp))\n",
    "#model.add(Dense(8,activation='relu'))\n",
    "model.add(Dense(1,activation='sigmoid'))\n",
    "\n",
    "opt = keras.optimizers.Adam(learning_rate=lr)\n",
    "model.compile(loss = 'binary_crossentropy', optimizer=opt,metrics = ['accuracy','AUC'])\n",
    "\n",
    "start = time.time()\n",
    "hist = model.fit(X_train_vect, y_train, batch_size=1024, epochs=30, validation_data=(X_test_vect, y_test),verbose=0)\n",
    "stop = time.time()\n",
    "\n",
    "hyperparamters_performances = hyperparamters_performances.append(\n",
    "    pd.Series(data={'total training time': stop-start,\n",
    "                    'dropout':dp,\n",
    "                    'learning_rate':lr,\n",
    "                    'lstm_out': lstm_out,\n",
    "              'AUC': max(hist.history['val_auc']),\n",
    "              'Accuracy_val': max(hist.history['val_accuracy']),\n",
    "              'Accuracy_test': max(hist.history['accuracy']), \n",
    "              'Epoch max reach': hist.history['val_accuracy'].index(max(hist.history['val_accuracy'])),\n",
    "              'training time to opt' : (stop-start)*hist.history['val_accuracy'].index(max(hist.history['val_accuracy']))/len(hist.history['val_accuracy'])},\n",
    "              name=model_name)\n",
    ")"
   ]
  },
  {
   "cell_type": "code",
   "execution_count": 140,
   "metadata": {},
   "outputs": [],
   "source": [
    "model_name = 'LSTM - GLoVe embedding'\n",
    "dp=0.2\n",
    "lr=0.01\n",
    "lstm_out=64\n",
    "\n",
    "model = Sequential()\n",
    "#model.add(Embedding(len(voc),100 ,input_length = tweet_length))\n",
    "model.add(embedding_layer)\n",
    "model.add(LSTM(lstm_out,dropout=dp))\n",
    "#model.add(Dense(8,activation='relu'))\n",
    "model.add(Dense(1,activation='sigmoid'))\n",
    "\n",
    "opt = keras.optimizers.Adam(learning_rate=lr)\n",
    "model.compile(loss = 'binary_crossentropy', optimizer=opt,metrics = ['accuracy','AUC'])\n",
    "\n",
    "start = time.time()\n",
    "hist = model.fit(X_train_vect, y_train, batch_size=1024, epochs=30, validation_data=(X_test_vect, y_test),verbose=0)\n",
    "stop = time.time()\n",
    "\n",
    "hyperparamters_performances = hyperparamters_performances.append(\n",
    "    pd.Series(data={'total training time': stop-start,\n",
    "                    'dropout':dp,\n",
    "                    'learning_rate':lr,\n",
    "                    'lstm_out': lstm_out,\n",
    "              'AUC': max(hist.history['val_auc']),\n",
    "              'Accuracy_val': max(hist.history['val_accuracy']),\n",
    "              'Accuracy_test': max(hist.history['accuracy']),   \n",
    "              'Epoch max reach': hist.history['val_accuracy'].index(max(hist.history['val_accuracy'])),\n",
    "              'training time to opt' : (stop-start)*hist.history['val_accuracy'].index(max(hist.history['val_accuracy']))/len(hist.history['val_accuracy'])},\n",
    "              name=model_name)\n",
    ")"
   ]
  },
  {
   "cell_type": "code",
   "execution_count": 141,
   "metadata": {},
   "outputs": [],
   "source": [
    "model_name = 'LSTM - GLoVe embedding'\n",
    "dp=0.2\n",
    "lr=0.1\n",
    "lstm_out=64\n",
    "\n",
    "model = Sequential()\n",
    "#model.add(Embedding(len(voc),100 ,input_length = tweet_length))\n",
    "model.add(embedding_layer)\n",
    "model.add(LSTM(lstm_out,dropout=dp))\n",
    "#model.add(Dense(8,activation='relu'))\n",
    "model.add(Dense(1,activation='sigmoid'))\n",
    "\n",
    "opt = keras.optimizers.Adam(learning_rate=lr)\n",
    "model.compile(loss = 'binary_crossentropy', optimizer=opt,metrics = ['accuracy','AUC'])\n",
    "\n",
    "start = time.time()\n",
    "hist = model.fit(X_train_vect, y_train, batch_size=1024, epochs=30, validation_data=(X_test_vect, y_test),verbose=0)\n",
    "stop = time.time()\n",
    "\n",
    "hyperparamters_performances = hyperparamters_performances.append(\n",
    "    pd.Series(data={'total training time': stop-start,\n",
    "                    'dropout':dp,\n",
    "                    'learning_rate':lr,\n",
    "                    'lstm_out': lstm_out,\n",
    "              'AUC': max(hist.history['val_auc']),\n",
    "              'Accuracy_val': max(hist.history['val_accuracy']),\n",
    "              'Accuracy_test': max(hist.history['accuracy']),\n",
    "              'Epoch max reach': hist.history['val_accuracy'].index(max(hist.history['val_accuracy'])),\n",
    "              'training time to opt' : (stop-start)*hist.history['val_accuracy'].index(max(hist.history['val_accuracy']))/len(hist.history['val_accuracy'])},\n",
    "              name=model_name)\n",
    ")"
   ]
  },
  {
   "cell_type": "code",
   "execution_count": 142,
   "metadata": {},
   "outputs": [
    {
     "data": {
      "text/html": [
       "<div>\n",
       "<style scoped>\n",
       "    .dataframe tbody tr th:only-of-type {\n",
       "        vertical-align: middle;\n",
       "    }\n",
       "\n",
       "    .dataframe tbody tr th {\n",
       "        vertical-align: top;\n",
       "    }\n",
       "\n",
       "    .dataframe thead th {\n",
       "        text-align: right;\n",
       "    }\n",
       "</style>\n",
       "<table border=\"1\" class=\"dataframe\">\n",
       "  <thead>\n",
       "    <tr style=\"text-align: right;\">\n",
       "      <th></th>\n",
       "      <th>AUC</th>\n",
       "      <th>Accuracy_val</th>\n",
       "      <th>Epoch max reach</th>\n",
       "      <th>Accuracy_test</th>\n",
       "      <th>dropout</th>\n",
       "      <th>learning_rate</th>\n",
       "      <th>lstm_out</th>\n",
       "      <th>total training time</th>\n",
       "      <th>training time to opt</th>\n",
       "    </tr>\n",
       "  </thead>\n",
       "  <tbody>\n",
       "    <tr>\n",
       "      <th>LSTM - GLoVe embedding</th>\n",
       "      <td>0.850971</td>\n",
       "      <td>0.769000</td>\n",
       "      <td>25.0</td>\n",
       "      <td>0.810750</td>\n",
       "      <td>0.2</td>\n",
       "      <td>0.001</td>\n",
       "      <td>64.0</td>\n",
       "      <td>84.270123</td>\n",
       "      <td>70.225103</td>\n",
       "    </tr>\n",
       "    <tr>\n",
       "      <th>LSTM - GLoVe embedding</th>\n",
       "      <td>0.856207</td>\n",
       "      <td>0.774333</td>\n",
       "      <td>6.0</td>\n",
       "      <td>0.911583</td>\n",
       "      <td>0.2</td>\n",
       "      <td>0.010</td>\n",
       "      <td>64.0</td>\n",
       "      <td>85.980738</td>\n",
       "      <td>17.196148</td>\n",
       "    </tr>\n",
       "    <tr>\n",
       "      <th>LSTM - GLoVe embedding</th>\n",
       "      <td>0.831401</td>\n",
       "      <td>0.754000</td>\n",
       "      <td>19.0</td>\n",
       "      <td>0.758833</td>\n",
       "      <td>0.2</td>\n",
       "      <td>0.100</td>\n",
       "      <td>64.0</td>\n",
       "      <td>91.059850</td>\n",
       "      <td>57.671238</td>\n",
       "    </tr>\n",
       "  </tbody>\n",
       "</table>\n",
       "</div>"
      ],
      "text/plain": [
       "                             AUC  Accuracy_val  Epoch max reach  \\\n",
       "LSTM - GLoVe embedding  0.850971      0.769000             25.0   \n",
       "LSTM - GLoVe embedding  0.856207      0.774333              6.0   \n",
       "LSTM - GLoVe embedding  0.831401      0.754000             19.0   \n",
       "\n",
       "                        Accuracy_test  dropout  learning_rate  lstm_out  \\\n",
       "LSTM - GLoVe embedding       0.810750      0.2          0.001      64.0   \n",
       "LSTM - GLoVe embedding       0.911583      0.2          0.010      64.0   \n",
       "LSTM - GLoVe embedding       0.758833      0.2          0.100      64.0   \n",
       "\n",
       "                        total training time  training time to opt  \n",
       "LSTM - GLoVe embedding            84.270123             70.225103  \n",
       "LSTM - GLoVe embedding            85.980738             17.196148  \n",
       "LSTM - GLoVe embedding            91.059850             57.671238  "
      ]
     },
     "execution_count": 142,
     "metadata": {},
     "output_type": "execute_result"
    }
   ],
   "source": [
    "hyperparamters_performances"
   ]
  },
  {
   "cell_type": "markdown",
   "metadata": {},
   "source": [
    "## Drop out"
   ]
  },
  {
   "cell_type": "code",
   "execution_count": 143,
   "metadata": {},
   "outputs": [],
   "source": [
    "model_name = 'LSTM - GLoVe embedding'\n",
    "dp=0\n",
    "lr=0.01\n",
    "lstm_out=64\n",
    "\n",
    "model = Sequential()\n",
    "#model.add(Embedding(len(voc),100 ,input_length = tweet_length))\n",
    "model.add(embedding_layer)\n",
    "model.add(LSTM(lstm_out,dropout=dp))\n",
    "#model.add(Dense(8,activation='relu'))\n",
    "model.add(Dense(1,activation='sigmoid'))\n",
    "\n",
    "opt = keras.optimizers.Adam(learning_rate=lr)\n",
    "model.compile(loss = 'binary_crossentropy', optimizer=opt,metrics = ['accuracy','AUC'])\n",
    "\n",
    "start = time.time()\n",
    "hist = model.fit(X_train_vect, y_train, batch_size=1024, epochs=60, validation_data=(X_test_vect, y_test),verbose=0)\n",
    "stop = time.time()\n",
    "\n",
    "hyperparamters_performances = hyperparamters_performances.append(\n",
    "    pd.Series(data={'total training time': stop-start,\n",
    "                    'dropout':dp,\n",
    "                    'learning_rate':lr,\n",
    "                    'lstm_out': lstm_out,\n",
    "              'AUC': max(hist.history['val_auc']),\n",
    "              'Accuracy_val': max(hist.history['val_accuracy']),\n",
    "              'Accuracy_test': max(hist.history['accuracy']),\n",
    "              'Epoch max reach': hist.history['val_accuracy'].index(max(hist.history['val_accuracy'])),\n",
    "              'training time to opt' : (stop-start)*hist.history['val_accuracy'].index(max(hist.history['val_accuracy']))/len(hist.history['val_accuracy'])},\n",
    "              name=model_name)\n",
    ")"
   ]
  },
  {
   "cell_type": "code",
   "execution_count": 144,
   "metadata": {},
   "outputs": [],
   "source": [
    "model_name = 'LSTM - GLoVe embedding'\n",
    "dp=0.1\n",
    "lr=0.01\n",
    "lstm_out=64\n",
    "\n",
    "model = Sequential()\n",
    "#model.add(Embedding(len(voc),100 ,input_length = tweet_length))\n",
    "model.add(embedding_layer)\n",
    "model.add(LSTM(lstm_out,dropout=dp))\n",
    "#model.add(Dense(8,activation='relu'))\n",
    "model.add(Dense(1,activation='sigmoid'))\n",
    "\n",
    "opt = keras.optimizers.Adam(learning_rate=lr)\n",
    "model.compile(loss = 'binary_crossentropy', optimizer=opt,metrics = ['accuracy','AUC'])\n",
    "\n",
    "start = time.time()\n",
    "hist = model.fit(X_train_vect, y_train, batch_size=1024, epochs=30, validation_data=(X_test_vect, y_test),verbose=0)\n",
    "stop = time.time()\n",
    "\n",
    "hyperparamters_performances = hyperparamters_performances.append(\n",
    "    pd.Series(data={'total training time': stop-start,\n",
    "                    'dropout':dp,\n",
    "                    'learning_rate':lr,\n",
    "                    'lstm_out': lstm_out,\n",
    "              'AUC': max(hist.history['val_auc']),\n",
    "              'Accuracy_val': max(hist.history['val_accuracy']),\n",
    "              'Accuracy_test': max(hist.history['accuracy']),\n",
    "              'Epoch max reach': hist.history['val_accuracy'].index(max(hist.history['val_accuracy'])),\n",
    "              'training time to opt' : (stop-start)*hist.history['val_accuracy'].index(max(hist.history['val_accuracy']))/len(hist.history['val_accuracy'])},\n",
    "              name=model_name)\n",
    ")"
   ]
  },
  {
   "cell_type": "code",
   "execution_count": 145,
   "metadata": {},
   "outputs": [],
   "source": [
    "model_name = 'LSTM - GLoVe embedding'\n",
    "dp=0.4\n",
    "lr=0.01\n",
    "lstm_out=64\n",
    "\n",
    "model = Sequential()\n",
    "#model.add(Embedding(len(voc),100 ,input_length = tweet_length))\n",
    "model.add(embedding_layer)\n",
    "model.add(LSTM(lstm_out,dropout=dp))\n",
    "#model.add(Dense(8,activation='relu'))\n",
    "model.add(Dense(1,activation='sigmoid'))\n",
    "\n",
    "opt = keras.optimizers.Adam(learning_rate=lr)\n",
    "model.compile(loss = 'binary_crossentropy', optimizer=opt,metrics = ['accuracy','AUC'])\n",
    "\n",
    "start = time.time()\n",
    "hist = model.fit(X_train_vect, y_train, batch_size=1024, epochs=30, validation_data=(X_test_vect, y_test),verbose=0)\n",
    "stop = time.time()\n",
    "\n",
    "hyperparamters_performances = hyperparamters_performances.append(\n",
    "    pd.Series(data={'total training time': stop-start,\n",
    "                    'dropout':dp,\n",
    "                    'learning_rate':lr,\n",
    "                    'lstm_out': lstm_out,\n",
    "              'AUC': max(hist.history['val_auc']),\n",
    "              'Accuracy_val': max(hist.history['val_accuracy']),\n",
    "              'Accuracy_test': max(hist.history['accuracy']),\n",
    "              'Epoch max reach': hist.history['val_accuracy'].index(max(hist.history['val_accuracy'])),\n",
    "              'training time to opt' : (stop-start)*hist.history['val_accuracy'].index(max(hist.history['val_accuracy']))/len(hist.history['val_accuracy'])},\n",
    "              name=model_name)\n",
    ")"
   ]
  },
  {
   "cell_type": "code",
   "execution_count": 146,
   "metadata": {},
   "outputs": [],
   "source": [
    "model_name = 'LSTM - GLoVe embedding'\n",
    "dp=0.8\n",
    "lr=0.01\n",
    "lstm_out=64\n",
    "\n",
    "model = Sequential()\n",
    "#model.add(Embedding(len(voc),100 ,input_length = tweet_length))\n",
    "model.add(embedding_layer)\n",
    "model.add(LSTM(lstm_out,dropout=dp))\n",
    "#model.add(Dense(8,activation='relu'))\n",
    "model.add(Dense(1,activation='sigmoid'))\n",
    "\n",
    "opt = keras.optimizers.Adam(learning_rate=lr)\n",
    "model.compile(loss = 'binary_crossentropy', optimizer=opt,metrics = ['accuracy','AUC'])\n",
    "\n",
    "start = time.time()\n",
    "hist = model.fit(X_train_vect, y_train, batch_size=1024, epochs=30, validation_data=(X_test_vect, y_test),verbose=0)\n",
    "stop = time.time()\n",
    "\n",
    "hyperparamters_performances = hyperparamters_performances.append(\n",
    "    pd.Series(data={'total training time': stop-start,\n",
    "                    'dropout':dp,\n",
    "                    'learning_rate':lr,\n",
    "                    'lstm_out': lstm_out,\n",
    "              'AUC': max(hist.history['val_auc']),\n",
    "              'Accuracy_val': max(hist.history['val_accuracy']),\n",
    "              'Accuracy_test': max(hist.history['accuracy']),\n",
    "              'Epoch max reach': hist.history['val_accuracy'].index(max(hist.history['val_accuracy'])),\n",
    "              'training time to opt' : (stop-start)*hist.history['val_accuracy'].index(max(hist.history['val_accuracy']))/len(hist.history['val_accuracy'])},\n",
    "              name=model_name)\n",
    ")"
   ]
  },
  {
   "cell_type": "code",
   "execution_count": 147,
   "metadata": {},
   "outputs": [
    {
     "data": {
      "text/html": [
       "<div>\n",
       "<style scoped>\n",
       "    .dataframe tbody tr th:only-of-type {\n",
       "        vertical-align: middle;\n",
       "    }\n",
       "\n",
       "    .dataframe tbody tr th {\n",
       "        vertical-align: top;\n",
       "    }\n",
       "\n",
       "    .dataframe thead th {\n",
       "        text-align: right;\n",
       "    }\n",
       "</style>\n",
       "<table border=\"1\" class=\"dataframe\">\n",
       "  <thead>\n",
       "    <tr style=\"text-align: right;\">\n",
       "      <th></th>\n",
       "      <th>AUC</th>\n",
       "      <th>Accuracy_val</th>\n",
       "      <th>Epoch max reach</th>\n",
       "      <th>Accuracy_test</th>\n",
       "      <th>dropout</th>\n",
       "      <th>learning_rate</th>\n",
       "      <th>lstm_out</th>\n",
       "      <th>total training time</th>\n",
       "      <th>training time to opt</th>\n",
       "    </tr>\n",
       "  </thead>\n",
       "  <tbody>\n",
       "    <tr>\n",
       "      <th>LSTM - GLoVe embedding</th>\n",
       "      <td>0.850971</td>\n",
       "      <td>0.769000</td>\n",
       "      <td>25.0</td>\n",
       "      <td>0.810750</td>\n",
       "      <td>0.2</td>\n",
       "      <td>0.001</td>\n",
       "      <td>64.0</td>\n",
       "      <td>84.270123</td>\n",
       "      <td>70.225103</td>\n",
       "    </tr>\n",
       "    <tr>\n",
       "      <th>LSTM - GLoVe embedding</th>\n",
       "      <td>0.856207</td>\n",
       "      <td>0.774333</td>\n",
       "      <td>6.0</td>\n",
       "      <td>0.911583</td>\n",
       "      <td>0.2</td>\n",
       "      <td>0.010</td>\n",
       "      <td>64.0</td>\n",
       "      <td>85.980738</td>\n",
       "      <td>17.196148</td>\n",
       "    </tr>\n",
       "    <tr>\n",
       "      <th>LSTM - GLoVe embedding</th>\n",
       "      <td>0.831401</td>\n",
       "      <td>0.754000</td>\n",
       "      <td>19.0</td>\n",
       "      <td>0.758833</td>\n",
       "      <td>0.2</td>\n",
       "      <td>0.100</td>\n",
       "      <td>64.0</td>\n",
       "      <td>91.059850</td>\n",
       "      <td>57.671238</td>\n",
       "    </tr>\n",
       "    <tr>\n",
       "      <th>LSTM - GLoVe embedding</th>\n",
       "      <td>0.857739</td>\n",
       "      <td>0.776333</td>\n",
       "      <td>4.0</td>\n",
       "      <td>0.988583</td>\n",
       "      <td>0.0</td>\n",
       "      <td>0.010</td>\n",
       "      <td>64.0</td>\n",
       "      <td>141.047381</td>\n",
       "      <td>9.403159</td>\n",
       "    </tr>\n",
       "    <tr>\n",
       "      <th>LSTM - GLoVe embedding</th>\n",
       "      <td>0.857067</td>\n",
       "      <td>0.780667</td>\n",
       "      <td>13.0</td>\n",
       "      <td>0.955167</td>\n",
       "      <td>0.1</td>\n",
       "      <td>0.010</td>\n",
       "      <td>64.0</td>\n",
       "      <td>114.911483</td>\n",
       "      <td>49.794976</td>\n",
       "    </tr>\n",
       "    <tr>\n",
       "      <th>LSTM - GLoVe embedding</th>\n",
       "      <td>0.865676</td>\n",
       "      <td>0.788000</td>\n",
       "      <td>18.0</td>\n",
       "      <td>0.838333</td>\n",
       "      <td>0.4</td>\n",
       "      <td>0.010</td>\n",
       "      <td>64.0</td>\n",
       "      <td>111.909359</td>\n",
       "      <td>67.145615</td>\n",
       "    </tr>\n",
       "    <tr>\n",
       "      <th>LSTM - GLoVe embedding</th>\n",
       "      <td>0.835527</td>\n",
       "      <td>0.758333</td>\n",
       "      <td>24.0</td>\n",
       "      <td>0.704250</td>\n",
       "      <td>0.8</td>\n",
       "      <td>0.010</td>\n",
       "      <td>64.0</td>\n",
       "      <td>90.931730</td>\n",
       "      <td>72.745384</td>\n",
       "    </tr>\n",
       "  </tbody>\n",
       "</table>\n",
       "</div>"
      ],
      "text/plain": [
       "                             AUC  Accuracy_val  Epoch max reach  \\\n",
       "LSTM - GLoVe embedding  0.850971      0.769000             25.0   \n",
       "LSTM - GLoVe embedding  0.856207      0.774333              6.0   \n",
       "LSTM - GLoVe embedding  0.831401      0.754000             19.0   \n",
       "LSTM - GLoVe embedding  0.857739      0.776333              4.0   \n",
       "LSTM - GLoVe embedding  0.857067      0.780667             13.0   \n",
       "LSTM - GLoVe embedding  0.865676      0.788000             18.0   \n",
       "LSTM - GLoVe embedding  0.835527      0.758333             24.0   \n",
       "\n",
       "                        Accuracy_test  dropout  learning_rate  lstm_out  \\\n",
       "LSTM - GLoVe embedding       0.810750      0.2          0.001      64.0   \n",
       "LSTM - GLoVe embedding       0.911583      0.2          0.010      64.0   \n",
       "LSTM - GLoVe embedding       0.758833      0.2          0.100      64.0   \n",
       "LSTM - GLoVe embedding       0.988583      0.0          0.010      64.0   \n",
       "LSTM - GLoVe embedding       0.955167      0.1          0.010      64.0   \n",
       "LSTM - GLoVe embedding       0.838333      0.4          0.010      64.0   \n",
       "LSTM - GLoVe embedding       0.704250      0.8          0.010      64.0   \n",
       "\n",
       "                        total training time  training time to opt  \n",
       "LSTM - GLoVe embedding            84.270123             70.225103  \n",
       "LSTM - GLoVe embedding            85.980738             17.196148  \n",
       "LSTM - GLoVe embedding            91.059850             57.671238  \n",
       "LSTM - GLoVe embedding           141.047381              9.403159  \n",
       "LSTM - GLoVe embedding           114.911483             49.794976  \n",
       "LSTM - GLoVe embedding           111.909359             67.145615  \n",
       "LSTM - GLoVe embedding            90.931730             72.745384  "
      ]
     },
     "execution_count": 147,
     "metadata": {},
     "output_type": "execute_result"
    }
   ],
   "source": [
    "hyperparamters_performances"
   ]
  },
  {
   "cell_type": "code",
   "execution_count": 148,
   "metadata": {},
   "outputs": [],
   "source": [
    "hyperparamters_performances.to_excel('data/hyp_perf_15K.xlsx')"
   ]
  }
 ],
 "metadata": {
  "kernelspec": {
   "display_name": "Python 3",
   "language": "python",
   "name": "python3"
  },
  "language_info": {
   "codemirror_mode": {
    "name": "ipython",
    "version": 3
   },
   "file_extension": ".py",
   "mimetype": "text/x-python",
   "name": "python",
   "nbconvert_exporter": "python",
   "pygments_lexer": "ipython3",
   "version": "3.8.10"
  },
  "notify_time": "10",
  "toc": {
   "base_numbering": 1,
   "nav_menu": {},
   "number_sections": true,
   "sideBar": true,
   "skip_h1_title": false,
   "title_cell": "Table of Contents",
   "title_sidebar": "Contents",
   "toc_cell": false,
   "toc_position": {
    "height": "calc(100% - 180px)",
    "left": "10px",
    "top": "150px",
    "width": "285px"
   },
   "toc_section_display": true,
   "toc_window_display": true
  },
  "toc-autonumbering": true,
  "toc-showcode": false,
  "toc-showmarkdowntxt": false,
  "toc-showtags": false,
  "varInspector": {
   "cols": {
    "lenName": 16,
    "lenType": 16,
    "lenVar": 40
   },
   "kernels_config": {
    "python": {
     "delete_cmd_postfix": "",
     "delete_cmd_prefix": "del ",
     "library": "var_list.py",
     "varRefreshCmd": "print(var_dic_list())"
    },
    "r": {
     "delete_cmd_postfix": ") ",
     "delete_cmd_prefix": "rm(",
     "library": "var_list.r",
     "varRefreshCmd": "cat(var_dic_list()) "
    }
   },
   "position": {
    "height": "408.767px",
    "left": "1625px",
    "right": "20px",
    "top": "120px",
    "width": "275px"
   },
   "types_to_exclude": [
    "module",
    "function",
    "builtin_function_or_method",
    "instance",
    "_Feature"
   ],
   "window_display": false
  }
 },
 "nbformat": 4,
 "nbformat_minor": 4
}
