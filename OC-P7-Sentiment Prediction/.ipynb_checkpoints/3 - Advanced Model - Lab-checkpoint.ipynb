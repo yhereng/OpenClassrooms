{
 "cells": [
  {
   "cell_type": "markdown",
   "metadata": {},
   "source": [
    "<font color=\"black\"><font size=\"7\"><br>\n",
    "     Project 7 - Advanced Model\n",
    "</font>"
   ]
  },
  {
   "cell_type": "code",
   "execution_count": 1,
   "metadata": {},
   "outputs": [],
   "source": [
    "import pandas as pd\n",
    "import numpy as np\n",
    "import matplotlib.pyplot as plt\n",
    "import seaborn as sns\n",
    "\n",
    "from sklearn.feature_extraction.text import CountVectorizer\n",
    "\n",
    "from nltk.corpus import wordnet\n",
    "\n",
    "import nltk\n",
    "\n",
    "from nltk.stem.snowball import SnowballStemmer\n",
    "from nltk.stem.porter import PorterStemmer\n",
    "from nltk.stem import WordNetLemmatizer\n",
    "\n",
    "from gensim.models import doc2vec\n",
    "\n",
    "from collections import defaultdict"
   ]
  },
  {
   "cell_type": "markdown",
   "metadata": {},
   "source": [
    "# Loading data"
   ]
  },
  {
   "cell_type": "code",
   "execution_count": 2,
   "metadata": {},
   "outputs": [],
   "source": [
    "data=pd.read_csv(\"D:/Data OC/P7/sentiment140/training.1600000.processed.noemoticon.csv\",header=None,names=['target','text'],usecols=[0,5])"
   ]
  },
  {
   "cell_type": "code",
   "execution_count": 3,
   "metadata": {},
   "outputs": [
    {
     "data": {
      "text/html": [
       "<div>\n",
       "<style scoped>\n",
       "    .dataframe tbody tr th:only-of-type {\n",
       "        vertical-align: middle;\n",
       "    }\n",
       "\n",
       "    .dataframe tbody tr th {\n",
       "        vertical-align: top;\n",
       "    }\n",
       "\n",
       "    .dataframe thead th {\n",
       "        text-align: right;\n",
       "    }\n",
       "</style>\n",
       "<table border=\"1\" class=\"dataframe\">\n",
       "  <thead>\n",
       "    <tr style=\"text-align: right;\">\n",
       "      <th></th>\n",
       "      <th>target</th>\n",
       "      <th>text</th>\n",
       "    </tr>\n",
       "  </thead>\n",
       "  <tbody>\n",
       "    <tr>\n",
       "      <th>0</th>\n",
       "      <td>0</td>\n",
       "      <td>@switchfoot http://twitpic.com/2y1zl - Awww, t...</td>\n",
       "    </tr>\n",
       "    <tr>\n",
       "      <th>1</th>\n",
       "      <td>0</td>\n",
       "      <td>is upset that he can't update his Facebook by ...</td>\n",
       "    </tr>\n",
       "    <tr>\n",
       "      <th>2</th>\n",
       "      <td>0</td>\n",
       "      <td>@Kenichan I dived many times for the ball. Man...</td>\n",
       "    </tr>\n",
       "    <tr>\n",
       "      <th>3</th>\n",
       "      <td>0</td>\n",
       "      <td>my whole body feels itchy and like its on fire</td>\n",
       "    </tr>\n",
       "    <tr>\n",
       "      <th>4</th>\n",
       "      <td>0</td>\n",
       "      <td>@nationwideclass no, it's not behaving at all....</td>\n",
       "    </tr>\n",
       "  </tbody>\n",
       "</table>\n",
       "</div>"
      ],
      "text/plain": [
       "   target                                               text\n",
       "0       0  @switchfoot http://twitpic.com/2y1zl - Awww, t...\n",
       "1       0  is upset that he can't update his Facebook by ...\n",
       "2       0  @Kenichan I dived many times for the ball. Man...\n",
       "3       0    my whole body feels itchy and like its on fire \n",
       "4       0  @nationwideclass no, it's not behaving at all...."
      ]
     },
     "execution_count": 3,
     "metadata": {},
     "output_type": "execute_result"
    }
   ],
   "source": [
    "data.head()"
   ]
  },
  {
   "cell_type": "markdown",
   "metadata": {},
   "source": [
    "We need to noramlize the target, reformat and save for futur use"
   ]
  },
  {
   "cell_type": "code",
   "execution_count": 4,
   "metadata": {},
   "outputs": [],
   "source": [
    "data['target'] = data['target']/4"
   ]
  },
  {
   "cell_type": "code",
   "execution_count": 5,
   "metadata": {},
   "outputs": [],
   "source": [
    "data = data.astype({'target':'int32'},copy=False)"
   ]
  },
  {
   "cell_type": "code",
   "execution_count": 6,
   "metadata": {},
   "outputs": [],
   "source": [
    "data.to_csv('data/data_full.csv')"
   ]
  },
  {
   "cell_type": "code",
   "execution_count": 3,
   "metadata": {},
   "outputs": [],
   "source": [
    "data = pd.read_pickle('data/data_full')"
   ]
  },
  {
   "cell_type": "code",
   "execution_count": 4,
   "metadata": {},
   "outputs": [
    {
     "data": {
      "text/plain": [
       "(1600000, 2)"
      ]
     },
     "execution_count": 4,
     "metadata": {},
     "output_type": "execute_result"
    }
   ],
   "source": [
    "data.shape"
   ]
  },
  {
   "cell_type": "markdown",
   "metadata": {},
   "source": [
    "## Creating a common datasets for comapring performances across the three approachs"
   ]
  },
  {
   "cell_type": "code",
   "execution_count": 5,
   "metadata": {},
   "outputs": [],
   "source": [
    "data_common = data.sample(n=1600,random_state=8)"
   ]
  },
  {
   "cell_type": "code",
   "execution_count": 6,
   "metadata": {},
   "outputs": [],
   "source": [
    "data_common.to_csv('data/data_common.csv')"
   ]
  },
  {
   "cell_type": "code",
   "execution_count": 7,
   "metadata": {},
   "outputs": [
    {
     "data": {
      "text/plain": [
       "(1600, 2)"
      ]
     },
     "execution_count": 7,
     "metadata": {},
     "output_type": "execute_result"
    }
   ],
   "source": [
    "data_common.shape"
   ]
  },
  {
   "cell_type": "code",
   "execution_count": 8,
   "metadata": {},
   "outputs": [
    {
     "data": {
      "text/html": [
       "<div>\n",
       "<style scoped>\n",
       "    .dataframe tbody tr th:only-of-type {\n",
       "        vertical-align: middle;\n",
       "    }\n",
       "\n",
       "    .dataframe tbody tr th {\n",
       "        vertical-align: top;\n",
       "    }\n",
       "\n",
       "    .dataframe thead th {\n",
       "        text-align: right;\n",
       "    }\n",
       "</style>\n",
       "<table border=\"1\" class=\"dataframe\">\n",
       "  <thead>\n",
       "    <tr style=\"text-align: right;\">\n",
       "      <th></th>\n",
       "      <th>target</th>\n",
       "      <th>text</th>\n",
       "    </tr>\n",
       "  </thead>\n",
       "  <tbody>\n",
       "    <tr>\n",
       "      <th>1516037</th>\n",
       "      <td>1</td>\n",
       "      <td>Wow, its later than I feel, better wrap up ano...</td>\n",
       "    </tr>\n",
       "    <tr>\n",
       "      <th>589923</th>\n",
       "      <td>0</td>\n",
       "      <td>@lemonissimo I think the reason I twitted so m...</td>\n",
       "    </tr>\n",
       "    <tr>\n",
       "      <th>213819</th>\n",
       "      <td>0</td>\n",
       "      <td>@GericaQuinn ahhhhh! dude u suck! lmao. jk! bu...</td>\n",
       "    </tr>\n",
       "    <tr>\n",
       "      <th>10047</th>\n",
       "      <td>0</td>\n",
       "      <td>...aaaand there goes that great day  RIP Mrs W...</td>\n",
       "    </tr>\n",
       "    <tr>\n",
       "      <th>1330460</th>\n",
       "      <td>1</td>\n",
       "      <td>another morning joe free morning ahhhh ... sun...</td>\n",
       "    </tr>\n",
       "    <tr>\n",
       "      <th>...</th>\n",
       "      <td>...</td>\n",
       "      <td>...</td>\n",
       "    </tr>\n",
       "    <tr>\n",
       "      <th>622620</th>\n",
       "      <td>0</td>\n",
       "      <td>Damn packing trumps Xsport</td>\n",
       "    </tr>\n",
       "    <tr>\n",
       "      <th>232219</th>\n",
       "      <td>0</td>\n",
       "      <td>bout 2 call it a NIGHT... madd TIRED..gotta he...</td>\n",
       "    </tr>\n",
       "    <tr>\n",
       "      <th>1368574</th>\n",
       "      <td>1</td>\n",
       "      <td>@IneffableNothin I love Pandora, but I am real...</td>\n",
       "    </tr>\n",
       "    <tr>\n",
       "      <th>441029</th>\n",
       "      <td>0</td>\n",
       "      <td>@simoncurtis wish i could</td>\n",
       "    </tr>\n",
       "    <tr>\n",
       "      <th>1393237</th>\n",
       "      <td>1</td>\n",
       "      <td>@GulcinG Hala  in arabic.</td>\n",
       "    </tr>\n",
       "  </tbody>\n",
       "</table>\n",
       "<p>1600 rows × 2 columns</p>\n",
       "</div>"
      ],
      "text/plain": [
       "         target                                               text\n",
       "1516037       1  Wow, its later than I feel, better wrap up ano...\n",
       "589923        0  @lemonissimo I think the reason I twitted so m...\n",
       "213819        0  @GericaQuinn ahhhhh! dude u suck! lmao. jk! bu...\n",
       "10047         0  ...aaaand there goes that great day  RIP Mrs W...\n",
       "1330460       1  another morning joe free morning ahhhh ... sun...\n",
       "...         ...                                                ...\n",
       "622620        0                        Damn packing trumps Xsport \n",
       "232219        0  bout 2 call it a NIGHT... madd TIRED..gotta he...\n",
       "1368574       1  @IneffableNothin I love Pandora, but I am real...\n",
       "441029        0                         @simoncurtis wish i could \n",
       "1393237       1                          @GulcinG Hala  in arabic.\n",
       "\n",
       "[1600 rows x 2 columns]"
      ]
     },
     "execution_count": 8,
     "metadata": {},
     "output_type": "execute_result"
    }
   ],
   "source": [
    "data_common"
   ]
  },
  {
   "cell_type": "markdown",
   "metadata": {},
   "source": [
    "### creating Json file for Azure deployment"
   ]
  },
  {
   "cell_type": "code",
   "execution_count": 9,
   "metadata": {},
   "outputs": [],
   "source": [
    "data_common.to_json('data/data_common.json')"
   ]
  },
  {
   "cell_type": "code",
   "execution_count": 10,
   "metadata": {},
   "outputs": [],
   "source": [
    "import json"
   ]
  },
  {
   "cell_type": "code",
   "execution_count": 56,
   "metadata": {},
   "outputs": [],
   "source": [
    "data_json = pd.read_json('data/data_common.json')"
   ]
  },
  {
   "cell_type": "code",
   "execution_count": 57,
   "metadata": {},
   "outputs": [
    {
     "data": {
      "text/html": [
       "<div>\n",
       "<style scoped>\n",
       "    .dataframe tbody tr th:only-of-type {\n",
       "        vertical-align: middle;\n",
       "    }\n",
       "\n",
       "    .dataframe tbody tr th {\n",
       "        vertical-align: top;\n",
       "    }\n",
       "\n",
       "    .dataframe thead th {\n",
       "        text-align: right;\n",
       "    }\n",
       "</style>\n",
       "<table border=\"1\" class=\"dataframe\">\n",
       "  <thead>\n",
       "    <tr style=\"text-align: right;\">\n",
       "      <th></th>\n",
       "      <th>target</th>\n",
       "      <th>text</th>\n",
       "    </tr>\n",
       "  </thead>\n",
       "  <tbody>\n",
       "    <tr>\n",
       "      <th>1516037</th>\n",
       "      <td>1</td>\n",
       "      <td>Wow, its later than I feel, better wrap up ano...</td>\n",
       "    </tr>\n",
       "    <tr>\n",
       "      <th>589923</th>\n",
       "      <td>0</td>\n",
       "      <td>@lemonissimo I think the reason I twitted so m...</td>\n",
       "    </tr>\n",
       "    <tr>\n",
       "      <th>213819</th>\n",
       "      <td>0</td>\n",
       "      <td>@GericaQuinn ahhhhh! dude u suck! lmao. jk! bu...</td>\n",
       "    </tr>\n",
       "    <tr>\n",
       "      <th>10047</th>\n",
       "      <td>0</td>\n",
       "      <td>...aaaand there goes that great day  RIP Mrs W...</td>\n",
       "    </tr>\n",
       "    <tr>\n",
       "      <th>1330460</th>\n",
       "      <td>1</td>\n",
       "      <td>another morning joe free morning ahhhh ... sun...</td>\n",
       "    </tr>\n",
       "    <tr>\n",
       "      <th>...</th>\n",
       "      <td>...</td>\n",
       "      <td>...</td>\n",
       "    </tr>\n",
       "    <tr>\n",
       "      <th>622620</th>\n",
       "      <td>0</td>\n",
       "      <td>Damn packing trumps Xsport</td>\n",
       "    </tr>\n",
       "    <tr>\n",
       "      <th>232219</th>\n",
       "      <td>0</td>\n",
       "      <td>bout 2 call it a NIGHT... madd TIRED..gotta he...</td>\n",
       "    </tr>\n",
       "    <tr>\n",
       "      <th>1368574</th>\n",
       "      <td>1</td>\n",
       "      <td>@IneffableNothin I love Pandora, but I am real...</td>\n",
       "    </tr>\n",
       "    <tr>\n",
       "      <th>441029</th>\n",
       "      <td>0</td>\n",
       "      <td>@simoncurtis wish i could</td>\n",
       "    </tr>\n",
       "    <tr>\n",
       "      <th>1393237</th>\n",
       "      <td>1</td>\n",
       "      <td>@GulcinG Hala  in arabic.</td>\n",
       "    </tr>\n",
       "  </tbody>\n",
       "</table>\n",
       "<p>1600 rows × 2 columns</p>\n",
       "</div>"
      ],
      "text/plain": [
       "         target                                               text\n",
       "1516037       1  Wow, its later than I feel, better wrap up ano...\n",
       "589923        0  @lemonissimo I think the reason I twitted so m...\n",
       "213819        0  @GericaQuinn ahhhhh! dude u suck! lmao. jk! bu...\n",
       "10047         0  ...aaaand there goes that great day  RIP Mrs W...\n",
       "1330460       1  another morning joe free morning ahhhh ... sun...\n",
       "...         ...                                                ...\n",
       "622620        0                        Damn packing trumps Xsport \n",
       "232219        0  bout 2 call it a NIGHT... madd TIRED..gotta he...\n",
       "1368574       1  @IneffableNothin I love Pandora, but I am real...\n",
       "441029        0                         @simoncurtis wish i could \n",
       "1393237       1                          @GulcinG Hala  in arabic.\n",
       "\n",
       "[1600 rows x 2 columns]"
      ]
     },
     "execution_count": 57,
     "metadata": {},
     "output_type": "execute_result"
    }
   ],
   "source": [
    "data_json"
   ]
  },
  {
   "cell_type": "markdown",
   "metadata": {},
   "source": [
    "## Removing common dataset from data"
   ]
  },
  {
   "cell_type": "code",
   "execution_count": 11,
   "metadata": {},
   "outputs": [],
   "source": [
    "data = data.drop(index=data_common.index)"
   ]
  },
  {
   "cell_type": "code",
   "execution_count": 12,
   "metadata": {},
   "outputs": [
    {
     "data": {
      "text/plain": [
       "(1598400, 2)"
      ]
     },
     "execution_count": 12,
     "metadata": {},
     "output_type": "execute_result"
    }
   ],
   "source": [
    "data.shape"
   ]
  },
  {
   "cell_type": "code",
   "execution_count": 13,
   "metadata": {},
   "outputs": [],
   "source": [
    "data.to_csv('data/data_training.csv')"
   ]
  },
  {
   "cell_type": "markdown",
   "metadata": {},
   "source": [
    "# Exploratory analysis"
   ]
  },
  {
   "cell_type": "markdown",
   "metadata": {},
   "source": [
    "## Target distribution"
   ]
  },
  {
   "cell_type": "code",
   "execution_count": 22,
   "metadata": {},
   "outputs": [
    {
     "data": {
      "image/png": "[encoded data removed]",
      "text/plain": [
       "<Figure size 432x288 with 1 Axes>"
      ]
     },
     "metadata": {
      "needs_background": "light"
     },
     "output_type": "display_data"
    }
   ],
   "source": [
    "sns.histplot(data['target'])\n",
    "plt.title('target distribution')\n",
    "plt.show()"
   ]
  },
  {
   "cell_type": "markdown",
   "metadata": {},
   "source": [
    "Acuuracy is a good metric for measuring a balanced classification"
   ]
  },
  {
   "cell_type": "markdown",
   "metadata": {},
   "source": [
    "## Number of words per tweet"
   ]
  },
  {
   "cell_type": "code",
   "execution_count": 24,
   "metadata": {},
   "outputs": [],
   "source": [
    "splitted_text = data.text.str.split()"
   ]
  },
  {
   "cell_type": "code",
   "execution_count": 25,
   "metadata": {},
   "outputs": [],
   "source": [
    "nb_words =[len(text) for text in splitted_text.values]"
   ]
  },
  {
   "cell_type": "code",
   "execution_count": 26,
   "metadata": {},
   "outputs": [
    {
     "data": {
      "image/png": "[encoded data removed]",
      "text/plain": [
       "<Figure size 432x288 with 1 Axes>"
      ]
     },
     "metadata": {
      "needs_background": "light"
     },
     "output_type": "display_data"
    }
   ],
   "source": [
    "plt.title('Number of words per tweet')\n",
    "sns.histplot(nb_words)\n",
    "plt.show()"
   ]
  },
  {
   "cell_type": "markdown",
   "metadata": {},
   "source": [
    "## Word frequency"
   ]
  },
  {
   "cell_type": "code",
   "execution_count": 27,
   "metadata": {},
   "outputs": [],
   "source": [
    "dictionnary = {}\n",
    "for sentence in splitted_text:\n",
    "    for word in sentence:\n",
    "        if word in dictionnary.keys():\n",
    "            dictionnary[word]+=1\n",
    "        else:\n",
    "            dictionnary[word]=1\n",
    "        "
   ]
  },
  {
   "cell_type": "code",
   "execution_count": 28,
   "metadata": {},
   "outputs": [],
   "source": [
    "vocab = pd.DataFrame.from_dict(dictionnary,orient='index',columns=['nb_occur'])"
   ]
  },
  {
   "cell_type": "code",
   "execution_count": 29,
   "metadata": {},
   "outputs": [
    {
     "data": {
      "text/plain": [
       "(1349319, 1)"
      ]
     },
     "execution_count": 29,
     "metadata": {},
     "output_type": "execute_result"
    }
   ],
   "source": [
    "vocab.shape"
   ]
  },
  {
   "cell_type": "code",
   "execution_count": 30,
   "metadata": {},
   "outputs": [
    {
     "data": {
      "text/plain": [
       "(20193, 1)"
      ]
     },
     "execution_count": 30,
     "metadata": {},
     "output_type": "execute_result"
    }
   ],
   "source": [
    "vocab[vocab['nb_occur']>46].shape"
   ]
  },
  {
   "cell_type": "code",
   "execution_count": 33,
   "metadata": {},
   "outputs": [
    {
     "data": {
      "text/plain": [
       "(65637, 1)"
      ]
     },
     "execution_count": 33,
     "metadata": {},
     "output_type": "execute_result"
    }
   ],
   "source": [
    "vocab[vocab['nb_occur']>10].shape"
   ]
  },
  {
   "cell_type": "markdown",
   "metadata": {},
   "source": [
    "# Preprocessing"
   ]
  },
  {
   "cell_type": "markdown",
   "metadata": {},
   "source": [
    "## Tokenizer"
   ]
  },
  {
   "cell_type": "code",
   "execution_count": 14,
   "metadata": {},
   "outputs": [],
   "source": [
    "def tokenizer(data, y = None):\n",
    "    '''tokenizes input dataframe considering words of 2 and more characters\n",
    "       and lowercase text and remove numbers\n",
    "    \n",
    "       Parameters\n",
    "       ----------\n",
    "       data : Pandas series to tokenize\n",
    "       \n",
    "       Returns\n",
    "       --------\n",
    "       Pandas series list of tokens'''\n",
    "              \n",
    "        \n",
    "    tokenizer = nltk.RegexpTokenizer(r'\\w{2,}')\n",
    "    sentences = data.str.lower()\n",
    "    sentences = sentences.str.replace('\\d+', '',regex=True)\n",
    "    results = sentences.apply(tokenizer.tokenize)\n",
    "  \n",
    "    return results"
   ]
  },
  {
   "cell_type": "markdown",
   "metadata": {},
   "source": [
    "Create a transformer for pipeline integration"
   ]
  },
  {
   "cell_type": "code",
   "execution_count": 15,
   "metadata": {},
   "outputs": [],
   "source": [
    "from sklearn.preprocessing import FunctionTransformer"
   ]
  },
  {
   "cell_type": "code",
   "execution_count": 16,
   "metadata": {},
   "outputs": [],
   "source": [
    "tokenizer_transformer = FunctionTransformer(func=tokenizer)"
   ]
  },
  {
   "cell_type": "markdown",
   "metadata": {},
   "source": [
    "## Stemming"
   ]
  },
  {
   "cell_type": "code",
   "execution_count": 17,
   "metadata": {},
   "outputs": [],
   "source": [
    "from nltk.stem.porter import PorterStemmer"
   ]
  },
  {
   "cell_type": "code",
   "execution_count": 18,
   "metadata": {},
   "outputs": [],
   "source": [
    "def stemmer(data, y = None, stemmer = PorterStemmer()):\n",
    "    ''' Stems data using stemmer returns stems as a list of strings'''\n",
    "\n",
    "\n",
    "    def stem_sentence(tokenized_sentence):\n",
    "        stems = [stemmer.stem(i) for i in tokenized_sentence]\n",
    "        return stems\n",
    "    \n",
    "    return data.apply(stem_sentence)\n"
   ]
  },
  {
   "cell_type": "markdown",
   "metadata": {},
   "source": [
    "Create a transformer for pipeline integration"
   ]
  },
  {
   "cell_type": "code",
   "execution_count": 19,
   "metadata": {},
   "outputs": [],
   "source": [
    "stemmer_transformer = FunctionTransformer(func=stemmer)"
   ]
  },
  {
   "cell_type": "markdown",
   "metadata": {},
   "source": [
    "## Lemmatization"
   ]
  },
  {
   "cell_type": "code",
   "execution_count": 13,
   "metadata": {},
   "outputs": [],
   "source": [
    "def lemmatizer(data, y = None, lemmatizer = WordNetLemmatizer()):\n",
    "    \n",
    "    def get_wordnet_pos(word):\n",
    "    #Map POS tag to first character lemmatize() accepts\n",
    "        tag = nltk.pos_tag([word])[0][1][0].upper()\n",
    "        tag_dict = {\"J\": wordnet.ADJ,\n",
    "                    \"N\": wordnet.NOUN,\n",
    "                    \"V\": wordnet.VERB,\n",
    "                    \"R\": wordnet.ADV}\n",
    "        return tag_dict.get(tag, wordnet.NOUN)\n",
    "\n",
    "\n",
    "    def lem_sentence(tokenized_sentence):\n",
    "        lems = [lemmatizer.lemmatize(i,pos=get_wordnet_pos(i)) for i in tokenized_sentence]\n",
    "        return lems \n",
    "\n",
    "    \n",
    "    return data.apply(lem_sentence)"
   ]
  },
  {
   "cell_type": "markdown",
   "metadata": {},
   "source": [
    "Create a transformer for pipeline integration"
   ]
  },
  {
   "cell_type": "code",
   "execution_count": 14,
   "metadata": {},
   "outputs": [],
   "source": [
    "lemmatizer_transformer = FunctionTransformer(func=lemmatizer)"
   ]
  },
  {
   "cell_type": "markdown",
   "metadata": {},
   "source": [
    "## removing stop words"
   ]
  },
  {
   "cell_type": "code",
   "execution_count": 20,
   "metadata": {},
   "outputs": [],
   "source": [
    "def remove_stopwords(data, stopwords = nltk.corpus.stopwords.words('english')):\n",
    "    '''Remove stopwords from data'''\n",
    "\n",
    "    # remove stopwords from stems and create a new column\n",
    "    results = [[stem for stem in stems if (\n",
    "        not(stem in stopwords))] for stems in data]\n",
    "    \n",
    "    return results"
   ]
  },
  {
   "cell_type": "markdown",
   "metadata": {},
   "source": [
    "Create a transformer for pipeline integration"
   ]
  },
  {
   "cell_type": "code",
   "execution_count": 21,
   "metadata": {},
   "outputs": [],
   "source": [
    "remove_stopwords_transformer = FunctionTransformer(remove_stopwords)"
   ]
  },
  {
   "cell_type": "markdown",
   "metadata": {},
   "source": [
    "# Preprocessing Pipeline"
   ]
  },
  {
   "cell_type": "markdown",
   "metadata": {},
   "source": [
    "## With stemming"
   ]
  },
  {
   "cell_type": "code",
   "execution_count": 22,
   "metadata": {},
   "outputs": [],
   "source": [
    "from sklearn.pipeline import Pipeline"
   ]
  },
  {
   "cell_type": "code",
   "execution_count": 23,
   "metadata": {},
   "outputs": [],
   "source": [
    "pipe_stem = Pipeline([('Tokenizer',tokenizer_transformer),\n",
    "                      ('Stemmer',stemmer_transformer),\n",
    "                      ])"
   ]
  },
  {
   "cell_type": "markdown",
   "metadata": {},
   "source": [
    "## With lemmatization"
   ]
  },
  {
   "cell_type": "code",
   "execution_count": 19,
   "metadata": {},
   "outputs": [],
   "source": [
    "pipe_lem = Pipeline([('Tokenizer',tokenizer_transformer),\n",
    "                      ('lemmatizer',lemmatizer_transformer),\n",
    "                      ])"
   ]
  },
  {
   "cell_type": "markdown",
   "metadata": {},
   "source": [
    "# Word Embedding"
   ]
  },
  {
   "cell_type": "markdown",
   "metadata": {},
   "source": [
    "## Fasttext Transformer"
   ]
  },
  {
   "cell_type": "code",
   "execution_count": 24,
   "metadata": {},
   "outputs": [],
   "source": [
    "from gensim.models.fasttext import FastText as FT_gensim\n",
    "from sklearn.base import BaseEstimator, TransformerMixin\n",
    "import gensim"
   ]
  },
  {
   "cell_type": "code",
   "execution_count": 25,
   "metadata": {},
   "outputs": [],
   "source": [
    "class Fastext_Transformer(BaseEstimator, TransformerMixin):\n",
    "    \n",
    "    def __init__(self):\n",
    "        self.model = FT_gensim(size=50,min_count=10,)     \n",
    "        \n",
    "        \n",
    "    def build_doc2vec_corpus(self,texts):\n",
    "        '''Returns a training corpus in the appropriate gensim Taggeddocument format'''\n",
    "        results = []\n",
    "        for tag,text in enumerate(texts):\n",
    "            results.append(gensim.models.doc2vec.TaggedDocument(text,[tag]))\n",
    "        return results\n",
    "\n",
    "    def fit(self, X, y = None):\n",
    "        self.train_corpus = list(self.build_doc2vec_corpus(X))\n",
    "        self.model.build_vocab(sentences=X.values)\n",
    "        self.model.train(X.values,\n",
    "                         epochs=self.model.epochs,\n",
    "                         total_examples=self.model.corpus_count,\n",
    "                         total_words=self.model.corpus_total_words\n",
    "                        )\n",
    "\n",
    "        return self\n",
    "    \n",
    "    def vectorized_sentence(self,sentence):\n",
    "        wordvecs_sent = [self.model.wv[word] for word in sentence]\n",
    "        meanvec_sent = np.array(wordvecs_sent).mean(axis=0)\n",
    "        return meanvec_sent\n",
    "        \n",
    "    \n",
    "    \n",
    "    def transform(self, X):\n",
    "        return [self.vectorized_sentence(text) for text in X]\n",
    "        "
   ]
  },
  {
   "cell_type": "markdown",
   "metadata": {},
   "source": [
    "## Pre trained Glove Transformer"
   ]
  },
  {
   "cell_type": "code",
   "execution_count": 43,
   "metadata": {},
   "outputs": [],
   "source": [
    "import gensim.downloader"
   ]
  },
  {
   "cell_type": "markdown",
   "metadata": {},
   "source": [
    "we'll use the glove pretrained vector with a dimension of 100"
   ]
  },
  {
   "cell_type": "code",
   "execution_count": 44,
   "metadata": {},
   "outputs": [],
   "source": [
    "glove_vectors = gensim.downloader.load('glove-twitter-100')"
   ]
  },
  {
   "cell_type": "code",
   "execution_count": 45,
   "metadata": {},
   "outputs": [],
   "source": [
    "def vectorize_sentence_pretrained(sentence,Keyedvectors= glove_vectors):\n",
    "    wordvecs_sent = [Keyedvectors[word] for word in sentence if word in Keyedvectors]\n",
    "    if len(wordvecs_sent)>0:\n",
    "        meanvec_sent = np.array(wordvecs_sent).mean(axis=0)\n",
    "    else:\n",
    "        meanvec_sent = np.zeros(Keyedvectors.vector_size)\n",
    "    return meanvec_sent\n",
    "\n",
    "def vectorize_corpus_glove(data):\n",
    "    return [vectorize_sentence_pretrained(text) for text in data]"
   ]
  },
  {
   "cell_type": "code",
   "execution_count": 46,
   "metadata": {},
   "outputs": [],
   "source": [
    "Glove_transformer = FunctionTransformer(func=vectorize_corpus_glove)"
   ]
  },
  {
   "cell_type": "markdown",
   "metadata": {},
   "source": [
    "## Doc2vec transformer"
   ]
  },
  {
   "cell_type": "code",
   "execution_count": 38,
   "metadata": {},
   "outputs": [],
   "source": [
    "class Doc2vec_Transformer(BaseEstimator, TransformerMixin):\n",
    "    \n",
    "    def __init__(self):\n",
    "        self.model = gensim.models.doc2vec.Doc2Vec(vector_size=100, min_count=10, epochs=60)        \n",
    "        self.train_corpus=[]\n",
    "        \n",
    "    def build_doc2vec_corpus(self,texts):\n",
    "        '''Returns a training corpus in the appropriate gensim Taggeddocument format'''\n",
    "        results = []\n",
    "        for tag,text in enumerate(texts):\n",
    "            results.append(gensim.models.doc2vec.TaggedDocument(text,[tag]))\n",
    "        return results\n",
    "\n",
    "    def fit(self, X, y = None):\n",
    "        self.train_corpus = list(self.build_doc2vec_corpus(X))\n",
    "        self.model.build_vocab(self.train_corpus)\n",
    "        self.model.train(self.train_corpus, total_examples=self.model.corpus_count, epochs=self.model.epochs)\n",
    "        return self\n",
    "    \n",
    "    def transform(self, X):\n",
    "        return [self.model.infer_vector(text) for text in X]\n",
    "        \n",
    "        "
   ]
  },
  {
   "cell_type": "markdown",
   "metadata": {},
   "source": [
    "# Comparing preprocessings with Logistic regression"
   ]
  },
  {
   "cell_type": "code",
   "execution_count": 26,
   "metadata": {},
   "outputs": [],
   "source": [
    "import time\n",
    "from sklearn.metrics import accuracy_score,auc"
   ]
  },
  {
   "cell_type": "markdown",
   "metadata": {},
   "source": [
    "## Downsampling dataset for reducing training time"
   ]
  },
  {
   "cell_type": "code",
   "execution_count": 27,
   "metadata": {},
   "outputs": [],
   "source": [
    "#create a sample dataset for testing\n",
    "data_sample = data.sample(n=1000,random_state=10)"
   ]
  },
  {
   "cell_type": "code",
   "execution_count": 28,
   "metadata": {},
   "outputs": [],
   "source": [
    "from sklearn.model_selection import train_test_split\n",
    "X = data_sample['text']\n",
    "y = data_sample['target']\n",
    "X_train, X_test, y_train, y_test = train_test_split(X,y,test_size=0.2,random_state=33,stratify=y)"
   ]
  },
  {
   "cell_type": "code",
   "execution_count": 29,
   "metadata": {},
   "outputs": [
    {
     "data": {
      "text/plain": [
       "(800,)"
      ]
     },
     "execution_count": 29,
     "metadata": {},
     "output_type": "execute_result"
    }
   ],
   "source": [
    "X_train.shape"
   ]
  },
  {
   "cell_type": "code",
   "execution_count": 30,
   "metadata": {},
   "outputs": [],
   "source": [
    "from sklearn.preprocessing import StandardScaler"
   ]
  },
  {
   "cell_type": "code",
   "execution_count": 31,
   "metadata": {},
   "outputs": [],
   "source": [
    "from sklearn.linear_model import LogisticRegression"
   ]
  },
  {
   "cell_type": "markdown",
   "metadata": {},
   "source": [
    "## Dataframe for storing results"
   ]
  },
  {
   "cell_type": "code",
   "execution_count": 32,
   "metadata": {},
   "outputs": [],
   "source": [
    "preprocessing_performances=pd.DataFrame(columns=['training_time (s)','Accuracy'])"
   ]
  },
  {
   "cell_type": "code",
   "execution_count": 33,
   "metadata": {},
   "outputs": [
    {
     "data": {
      "text/html": [
       "<div>\n",
       "<style scoped>\n",
       "    .dataframe tbody tr th:only-of-type {\n",
       "        vertical-align: middle;\n",
       "    }\n",
       "\n",
       "    .dataframe tbody tr th {\n",
       "        vertical-align: top;\n",
       "    }\n",
       "\n",
       "    .dataframe thead th {\n",
       "        text-align: right;\n",
       "    }\n",
       "</style>\n",
       "<table border=\"1\" class=\"dataframe\">\n",
       "  <thead>\n",
       "    <tr style=\"text-align: right;\">\n",
       "      <th></th>\n",
       "      <th>training_time (s)</th>\n",
       "      <th>Accuracy</th>\n",
       "    </tr>\n",
       "  </thead>\n",
       "  <tbody>\n",
       "  </tbody>\n",
       "</table>\n",
       "</div>"
      ],
      "text/plain": [
       "Empty DataFrame\n",
       "Columns: [training_time (s), Accuracy]\n",
       "Index: []"
      ]
     },
     "execution_count": 33,
     "metadata": {},
     "output_type": "execute_result"
    }
   ],
   "source": [
    "preprocessing_performances"
   ]
  },
  {
   "cell_type": "markdown",
   "metadata": {},
   "source": [
    "## Fastext"
   ]
  },
  {
   "cell_type": "markdown",
   "metadata": {},
   "source": [
    "### No preprocess"
   ]
  },
  {
   "cell_type": "code",
   "execution_count": 34,
   "metadata": {},
   "outputs": [],
   "source": [
    "model_name='Fasttext - No preprocess'\n",
    "\n",
    "pipe_fastext = Pipeline([    ('preprocessing',tokenizer_transformer),\n",
    "                             ('embedding',Fastext_Transformer()),\n",
    "                             ('scaler',StandardScaler()),\n",
    "                             ('classifier', LogisticRegression(C=1e-2))])\n",
    "\n",
    "start = time.time()\n",
    "pipe_fastext.fit(X_train,y_train)\n",
    "stop = time.time()\n",
    "\n",
    "y_pred = pipe_fastext.predict(X_test)\n",
    "preprocessing_performances = preprocessing_performances.append(\n",
    "    pd.Series(data={'training_time (s)': stop-start,\n",
    "              'Accuracy': accuracy_score(y_pred,y_test)},\n",
    "              name=model_name)\n",
    ")"
   ]
  },
  {
   "cell_type": "code",
   "execution_count": 35,
   "metadata": {},
   "outputs": [
    {
     "data": {
      "text/html": [
       "<div>\n",
       "<style scoped>\n",
       "    .dataframe tbody tr th:only-of-type {\n",
       "        vertical-align: middle;\n",
       "    }\n",
       "\n",
       "    .dataframe tbody tr th {\n",
       "        vertical-align: top;\n",
       "    }\n",
       "\n",
       "    .dataframe thead th {\n",
       "        text-align: right;\n",
       "    }\n",
       "</style>\n",
       "<table border=\"1\" class=\"dataframe\">\n",
       "  <thead>\n",
       "    <tr style=\"text-align: right;\">\n",
       "      <th></th>\n",
       "      <th>training_time (s)</th>\n",
       "      <th>Accuracy</th>\n",
       "    </tr>\n",
       "  </thead>\n",
       "  <tbody>\n",
       "    <tr>\n",
       "      <th>Fasttext - No preprocess</th>\n",
       "      <td>23.022785</td>\n",
       "      <td>0.51</td>\n",
       "    </tr>\n",
       "  </tbody>\n",
       "</table>\n",
       "</div>"
      ],
      "text/plain": [
       "                          training_time (s)  Accuracy\n",
       "Fasttext - No preprocess          23.022785      0.51"
      ]
     },
     "execution_count": 35,
     "metadata": {},
     "output_type": "execute_result"
    }
   ],
   "source": [
    "preprocessing_performances"
   ]
  },
  {
   "cell_type": "markdown",
   "metadata": {},
   "source": [
    "### With lemmatization"
   ]
  },
  {
   "cell_type": "code",
   "execution_count": 36,
   "metadata": {},
   "outputs": [
    {
     "ename": "NameError",
     "evalue": "name 'pipe_lem' is not defined",
     "output_type": "error",
     "traceback": [
      "\u001b[1;31m---------------------------------------------------------------------------\u001b[0m",
      "\u001b[1;31mNameError\u001b[0m                                 Traceback (most recent call last)",
      "\u001b[1;32m<ipython-input-36-6ad99a62634a>\u001b[0m in \u001b[0;36m<module>\u001b[1;34m\u001b[0m\n\u001b[0;32m      1\u001b[0m \u001b[0mmodel_name\u001b[0m\u001b[1;33m=\u001b[0m\u001b[1;34m'Fasttext - Lemmatization'\u001b[0m\u001b[1;33m\u001b[0m\u001b[1;33m\u001b[0m\u001b[0m\n\u001b[0;32m      2\u001b[0m \u001b[1;33m\u001b[0m\u001b[0m\n\u001b[1;32m----> 3\u001b[1;33m pipe_lem_fastext = Pipeline([('preprocessing',pipe_lem),\n\u001b[0m\u001b[0;32m      4\u001b[0m                              \u001b[1;33m(\u001b[0m\u001b[1;34m'embedding'\u001b[0m\u001b[1;33m,\u001b[0m\u001b[0mFastext_Transformer\u001b[0m\u001b[1;33m(\u001b[0m\u001b[1;33m)\u001b[0m\u001b[1;33m)\u001b[0m\u001b[1;33m,\u001b[0m\u001b[1;33m\u001b[0m\u001b[1;33m\u001b[0m\u001b[0m\n\u001b[0;32m      5\u001b[0m                              \u001b[1;33m(\u001b[0m\u001b[1;34m'scaler'\u001b[0m\u001b[1;33m,\u001b[0m\u001b[0mStandardScaler\u001b[0m\u001b[1;33m(\u001b[0m\u001b[1;33m)\u001b[0m\u001b[1;33m)\u001b[0m\u001b[1;33m,\u001b[0m\u001b[1;33m\u001b[0m\u001b[1;33m\u001b[0m\u001b[0m\n",
      "\u001b[1;31mNameError\u001b[0m: name 'pipe_lem' is not defined"
     ]
    }
   ],
   "source": [
    "model_name='Fasttext - Lemmatization'\n",
    "\n",
    "pipe_lem_fastext = Pipeline([('preprocessing',pipe_lem),\n",
    "                             ('embedding',Fastext_Transformer()),\n",
    "                             ('scaler',StandardScaler()),\n",
    "                             ('classifier', LogisticRegression(C=1e-2))])"
   ]
  },
  {
   "cell_type": "code",
   "execution_count": 223,
   "metadata": {},
   "outputs": [],
   "source": [
    "start = time.time()\n",
    "pipe_lem_fastext.fit(X_train,y_train)\n",
    "stop = time.time()"
   ]
  },
  {
   "cell_type": "code",
   "execution_count": 224,
   "metadata": {},
   "outputs": [],
   "source": [
    "y_pred = pipe_lem_fastext.predict(X_test)\n",
    "preprocessing_performances = preprocessing_performances.append(\n",
    "    pd.Series(data={'training_time (s)': stop-start,\n",
    "              'Accuracy': accuracy_score(y_pred,y_test)},\n",
    "              name=model_name)\n",
    ")"
   ]
  },
  {
   "cell_type": "markdown",
   "metadata": {},
   "source": [
    "### With stemming"
   ]
  },
  {
   "cell_type": "code",
   "execution_count": 37,
   "metadata": {},
   "outputs": [],
   "source": [
    "model_name = 'Fasttext - stemming'\n",
    "\n",
    "pipe_stem_fastext = Pipeline([('preprocessing',pipe_stem),\n",
    "                             ('embedding',Fastext_Transformer()),\n",
    "                             ('scaler',StandardScaler()),\n",
    "                             ('classifier', LogisticRegression(C=1e-2))])"
   ]
  },
  {
   "cell_type": "code",
   "execution_count": 38,
   "metadata": {},
   "outputs": [],
   "source": [
    "start = time.time()\n",
    "pipe_stem_fastext.fit(X_train,y_train)\n",
    "stop = time.time()"
   ]
  },
  {
   "cell_type": "code",
   "execution_count": 39,
   "metadata": {},
   "outputs": [],
   "source": [
    "y_pred = pipe_stem_fastext.predict(X_test)\n",
    "preprocessing_performances = preprocessing_performances.append(\n",
    "    pd.Series(data={'training_time (s)': stop-start,\n",
    "              'Accuracy': accuracy_score(y_pred,y_test)},\n",
    "              name=model_name)\n",
    ")"
   ]
  },
  {
   "cell_type": "code",
   "execution_count": 40,
   "metadata": {},
   "outputs": [
    {
     "data": {
      "text/html": [
       "<div>\n",
       "<style scoped>\n",
       "    .dataframe tbody tr th:only-of-type {\n",
       "        vertical-align: middle;\n",
       "    }\n",
       "\n",
       "    .dataframe tbody tr th {\n",
       "        vertical-align: top;\n",
       "    }\n",
       "\n",
       "    .dataframe thead th {\n",
       "        text-align: right;\n",
       "    }\n",
       "</style>\n",
       "<table border=\"1\" class=\"dataframe\">\n",
       "  <thead>\n",
       "    <tr style=\"text-align: right;\">\n",
       "      <th></th>\n",
       "      <th>training_time (s)</th>\n",
       "      <th>Accuracy</th>\n",
       "    </tr>\n",
       "  </thead>\n",
       "  <tbody>\n",
       "    <tr>\n",
       "      <th>Fasttext - No preprocess</th>\n",
       "      <td>23.022785</td>\n",
       "      <td>0.510</td>\n",
       "    </tr>\n",
       "    <tr>\n",
       "      <th>Fasttext - stemming</th>\n",
       "      <td>7.574217</td>\n",
       "      <td>0.515</td>\n",
       "    </tr>\n",
       "  </tbody>\n",
       "</table>\n",
       "</div>"
      ],
      "text/plain": [
       "                          training_time (s)  Accuracy\n",
       "Fasttext - No preprocess          23.022785     0.510\n",
       "Fasttext - stemming                7.574217     0.515"
      ]
     },
     "execution_count": 40,
     "metadata": {},
     "output_type": "execute_result"
    }
   ],
   "source": [
    "preprocessing_performances"
   ]
  },
  {
   "cell_type": "markdown",
   "metadata": {},
   "source": [
    "## Pre trained Glove"
   ]
  },
  {
   "cell_type": "markdown",
   "metadata": {},
   "source": [
    "### No preprocessing"
   ]
  },
  {
   "cell_type": "code",
   "execution_count": 47,
   "metadata": {},
   "outputs": [],
   "source": [
    "model_name='Glove - No preprocess'\n",
    "\n",
    "pipe_glove = Pipeline([      ('preprocessing',tokenizer_transformer),\n",
    "                             ('embedding',Glove_transformer),\n",
    "                             ('scaler',StandardScaler()),\n",
    "                             ('classifier', LogisticRegression(C=1e-2))])\n",
    "\n",
    "start = time.time()\n",
    "pipe_glove.fit(X_train,y_train)\n",
    "stop = time.time()\n",
    "\n",
    "y_pred = pipe_glove.predict(X_test)\n",
    "preprocessing_performances = preprocessing_performances.append(\n",
    "    pd.Series(data={'training_time (s)': stop-start,\n",
    "              'Accuracy': accuracy_score(y_pred,y_test)},\n",
    "              name=model_name)\n",
    ")"
   ]
  },
  {
   "cell_type": "markdown",
   "metadata": {},
   "source": [
    "### Wtih lemmatization"
   ]
  },
  {
   "cell_type": "code",
   "execution_count": 229,
   "metadata": {},
   "outputs": [],
   "source": [
    "model_name = 'Glove - lemmatization'\n",
    "\n",
    "pipe_lem_glove = Pipeline([('preprocessing',pipe_lem),\n",
    "                             ('embedding',Glove_transformer),\n",
    "                             ('scaler',StandardScaler()),\n",
    "                             ('classifier', LogisticRegression(C=1e-2))])"
   ]
  },
  {
   "cell_type": "code",
   "execution_count": 230,
   "metadata": {},
   "outputs": [],
   "source": [
    "start = time.time()\n",
    "pipe_lem_glove.fit(X_train,y_train)\n",
    "stop = time.time()"
   ]
  },
  {
   "cell_type": "code",
   "execution_count": 231,
   "metadata": {},
   "outputs": [],
   "source": [
    "y_pred = pipe_lem_glove.predict(X_test)\n",
    "preprocessing_performances = preprocessing_performances.append(\n",
    "    pd.Series(data={'training_time (s)': stop-start,\n",
    "              'Accuracy': accuracy_score(y_pred,y_test)},\n",
    "              name=model_name)\n",
    ")"
   ]
  },
  {
   "cell_type": "markdown",
   "metadata": {},
   "source": [
    "### Wtih stemming"
   ]
  },
  {
   "cell_type": "code",
   "execution_count": 232,
   "metadata": {},
   "outputs": [],
   "source": [
    "model_name = 'Glove - stemming'\n",
    "\n",
    "pipe_stem_glove = Pipeline([('preprocessing',pipe_stem),\n",
    "                             ('embedding',Glove_transformer),\n",
    "                             ('scaler',StandardScaler()),\n",
    "                             ('classifier', LogisticRegression(C=1e-2))])"
   ]
  },
  {
   "cell_type": "code",
   "execution_count": 233,
   "metadata": {},
   "outputs": [],
   "source": [
    "start = time.time()\n",
    "pipe_stem_glove.fit(X_train,y_train)\n",
    "stop = time.time()"
   ]
  },
  {
   "cell_type": "code",
   "execution_count": 234,
   "metadata": {},
   "outputs": [],
   "source": [
    "y_pred = pipe_stem_glove.predict(X_test)\n",
    "preprocessing_performances = preprocessing_performances.append(\n",
    "    pd.Series(data={'training_time (s)': stop-start,\n",
    "              'Accuracy': accuracy_score(y_pred,y_test)},\n",
    "              name=model_name)\n",
    ")"
   ]
  },
  {
   "cell_type": "markdown",
   "metadata": {},
   "source": [
    "## Doc2vec"
   ]
  },
  {
   "cell_type": "markdown",
   "metadata": {},
   "source": [
    "## No preprocessing"
   ]
  },
  {
   "cell_type": "code",
   "execution_count": 235,
   "metadata": {},
   "outputs": [],
   "source": [
    "model_name='Doc2vec - No preprocess'\n",
    "\n",
    "pipe_doc2vec = Pipeline([    ('preprocessing',tokenizer_transformer),\n",
    "                             ('embedding',Doc2vec_Transformer()),\n",
    "                             ('scaler',StandardScaler()),\n",
    "                             ('classifier', LogisticRegression(C=1e-2))])\n",
    "\n",
    "start = time.time()\n",
    "pipe_doc2vec.fit(X_train,y_train)\n",
    "stop = time.time()\n",
    "\n",
    "y_pred = pipe_doc2vec.predict(X_test)\n",
    "preprocessing_performances = preprocessing_performances.append(\n",
    "    pd.Series(data={'training_time (s)': stop-start,\n",
    "              'Accuracy': accuracy_score(y_pred,y_test)},\n",
    "              name=model_name)\n",
    ")"
   ]
  },
  {
   "cell_type": "markdown",
   "metadata": {},
   "source": [
    "### Wtih lemmatization"
   ]
  },
  {
   "cell_type": "code",
   "execution_count": 237,
   "metadata": {},
   "outputs": [],
   "source": [
    "model_name = 'Doc2vec - lemmatization'\n",
    "\n",
    "pipe_lem_doc2vec = Pipeline([('preprocessing',pipe_lem),\n",
    "                             ('embedding',Doc2vec_Transformer()),\n",
    "                             ('scaler',StandardScaler()),\n",
    "                             ('classifier', LogisticRegression(C=1e-2))])"
   ]
  },
  {
   "cell_type": "code",
   "execution_count": 238,
   "metadata": {
    "scrolled": false
   },
   "outputs": [],
   "source": [
    "start = time.time()\n",
    "pipe_lem_doc2vec.fit(X_train,y_train)\n",
    "stop = time.time()"
   ]
  },
  {
   "cell_type": "code",
   "execution_count": 239,
   "metadata": {},
   "outputs": [],
   "source": [
    "y_pred = pipe_lem_doc2vec.predict(X_test)\n",
    "preprocessing_performances = preprocessing_performances.append(\n",
    "    pd.Series(data={'training_time (s)': stop-start,\n",
    "              'Accuracy': accuracy_score(y_pred,y_test)},\n",
    "              name=model_name)\n",
    ")"
   ]
  },
  {
   "cell_type": "markdown",
   "metadata": {},
   "source": [
    "### Wtih stemming"
   ]
  },
  {
   "cell_type": "code",
   "execution_count": 240,
   "metadata": {},
   "outputs": [],
   "source": [
    "model_name = 'Doc2vec - stemming'\n",
    "\n",
    "pipe_stem_doc2vec = Pipeline([('preprocessing',pipe_stem),\n",
    "                             ('embedding',Doc2vec_Transformer()),\n",
    "                             ('scaler',StandardScaler()),\n",
    "                             ('classifier', LogisticRegression(C=1e-2))])"
   ]
  },
  {
   "cell_type": "code",
   "execution_count": 241,
   "metadata": {},
   "outputs": [],
   "source": [
    "start = time.time()\n",
    "pipe_stem_doc2vec.fit(X_train,y_train)\n",
    "stop = time.time()"
   ]
  },
  {
   "cell_type": "code",
   "execution_count": 242,
   "metadata": {},
   "outputs": [],
   "source": [
    "y_pred = pipe_stem_doc2vec.predict(X_test)\n",
    "preprocessing_performances = preprocessing_performances.append(\n",
    "    pd.Series(data={'training_time (s)': stop-start,\n",
    "              'Accuracy': accuracy_score(y_pred,y_test)},\n",
    "              name=model_name)\n",
    ")"
   ]
  },
  {
   "cell_type": "markdown",
   "metadata": {},
   "source": [
    "## Results"
   ]
  },
  {
   "cell_type": "code",
   "execution_count": 243,
   "metadata": {},
   "outputs": [
    {
     "data": {
      "text/html": [
       "<div>\n",
       "<style scoped>\n",
       "    .dataframe tbody tr th:only-of-type {\n",
       "        vertical-align: middle;\n",
       "    }\n",
       "\n",
       "    .dataframe tbody tr th {\n",
       "        vertical-align: top;\n",
       "    }\n",
       "\n",
       "    .dataframe thead th {\n",
       "        text-align: right;\n",
       "    }\n",
       "</style>\n",
       "<table border=\"1\" class=\"dataframe\">\n",
       "  <thead>\n",
       "    <tr style=\"text-align: right;\">\n",
       "      <th></th>\n",
       "      <th>training_time (s)</th>\n",
       "      <th>Accuracy</th>\n",
       "    </tr>\n",
       "  </thead>\n",
       "  <tbody>\n",
       "    <tr>\n",
       "      <th>Fasttext - No preprocess</th>\n",
       "      <td>2.917658</td>\n",
       "      <td>0.510</td>\n",
       "    </tr>\n",
       "    <tr>\n",
       "      <th>Fasttext - Lemmatization</th>\n",
       "      <td>8.671020</td>\n",
       "      <td>0.540</td>\n",
       "    </tr>\n",
       "    <tr>\n",
       "      <th>Fasttext - stemming</th>\n",
       "      <td>7.859769</td>\n",
       "      <td>0.515</td>\n",
       "    </tr>\n",
       "    <tr>\n",
       "      <th>Glove - No preprocess</th>\n",
       "      <td>2.781776</td>\n",
       "      <td>0.740</td>\n",
       "    </tr>\n",
       "    <tr>\n",
       "      <th>Glove - lemmatization</th>\n",
       "      <td>6.510423</td>\n",
       "      <td>0.715</td>\n",
       "    </tr>\n",
       "    <tr>\n",
       "      <th>Glove - stemming</th>\n",
       "      <td>1.543808</td>\n",
       "      <td>0.695</td>\n",
       "    </tr>\n",
       "    <tr>\n",
       "      <th>Doc2vec - No preprocess</th>\n",
       "      <td>3.841180</td>\n",
       "      <td>0.595</td>\n",
       "    </tr>\n",
       "    <tr>\n",
       "      <th>Doc2vec - lemmatization</th>\n",
       "      <td>11.377107</td>\n",
       "      <td>0.610</td>\n",
       "    </tr>\n",
       "    <tr>\n",
       "      <th>Doc2vec - stemming</th>\n",
       "      <td>4.476753</td>\n",
       "      <td>0.595</td>\n",
       "    </tr>\n",
       "  </tbody>\n",
       "</table>\n",
       "</div>"
      ],
      "text/plain": [
       "                          training_time (s)  Accuracy\n",
       "Fasttext - No preprocess           2.917658     0.510\n",
       "Fasttext - Lemmatization           8.671020     0.540\n",
       "Fasttext - stemming                7.859769     0.515\n",
       "Glove - No preprocess              2.781776     0.740\n",
       "Glove - lemmatization              6.510423     0.715\n",
       "Glove - stemming                   1.543808     0.695\n",
       "Doc2vec - No preprocess            3.841180     0.595\n",
       "Doc2vec - lemmatization           11.377107     0.610\n",
       "Doc2vec - stemming                 4.476753     0.595"
      ]
     },
     "execution_count": 243,
     "metadata": {},
     "output_type": "execute_result"
    }
   ],
   "source": [
    "preprocessing_performances"
   ]
  },
  {
   "cell_type": "markdown",
   "metadata": {},
   "source": [
    "# Neural Network"
   ]
  },
  {
   "cell_type": "markdown",
   "metadata": {},
   "source": [
    "## Preparing text data to fit Keras requirement"
   ]
  },
  {
   "cell_type": "markdown",
   "metadata": {},
   "source": [
    "the NN needs an input matrix with documents represented as an interger list, each interger is a word. we'll choose sequence length to be tweet_length(based on EDA it makes sense, if less than tweet_length use 0 padding) and vocabulary size max_token (based on preliminary EDA). We'll use Keras' vectorizer"
   ]
  },
  {
   "cell_type": "code",
   "execution_count": 80,
   "metadata": {},
   "outputs": [],
   "source": [
    "tweet_length = 30\n",
    "max_tokens = 60000"
   ]
  },
  {
   "cell_type": "code",
   "execution_count": 81,
   "metadata": {},
   "outputs": [],
   "source": [
    "from tensorflow.keras.layers.experimental.preprocessing import TextVectorization\n",
    "\n",
    "vectorizer = TextVectorization(max_tokens=max_tokens,output_sequence_length=tweet_length)"
   ]
  },
  {
   "cell_type": "markdown",
   "metadata": {},
   "source": [
    "## Creating test and train sets"
   ]
  },
  {
   "cell_type": "code",
   "execution_count": 82,
   "metadata": {},
   "outputs": [],
   "source": [
    "#create a sample dataset for testing\n",
    "data_sample = data.sample(n=15000,random_state=10)"
   ]
  },
  {
   "cell_type": "code",
   "execution_count": 83,
   "metadata": {},
   "outputs": [],
   "source": [
    "from sklearn.model_selection import train_test_split\n",
    "X = data_sample['text']\n",
    "y = data_sample['target']\n",
    "X_train, X_test, y_train, y_test = train_test_split(X,y,test_size=0.2,random_state=33,stratify=y)"
   ]
  },
  {
   "cell_type": "code",
   "execution_count": 84,
   "metadata": {},
   "outputs": [],
   "source": [
    "def vectorize_sets(X_train,X_test,vocab_length=20000,tweet_length=30):\n",
    "    '''Compute and return the vectors of the documents in X_train and X_test with a fixed length'''\n",
    "    vectorizer = TextVectorization(max_tokens=vocab_length,output_sequence_length=tweet_length)\n",
    "    vectorizer.adapt(X_train.values)\n",
    "    voc = vectorizer.get_vocabulary() # vocabulary for futur use\n",
    "    word_index = dict(zip(voc, range(len(voc)))) # word index for futur use\n",
    "    return (vectorizer(X_train.values),vectorizer(X_test.values),voc,word_index)"
   ]
  },
  {
   "cell_type": "markdown",
   "metadata": {},
   "source": [
    "### Raw tweets"
   ]
  },
  {
   "cell_type": "code",
   "execution_count": 85,
   "metadata": {},
   "outputs": [],
   "source": [
    "X_train_raw, X_test_raw, voc_raw, word_index_raw = vectorize_sets(\n",
    "    X_train,\n",
    "    X_test,\n",
    "    vocab_length=max_tokens,\n",
    "    tweet_length=30)"
   ]
  },
  {
   "cell_type": "markdown",
   "metadata": {},
   "source": [
    "### basic preprocessing"
   ]
  },
  {
   "cell_type": "code",
   "execution_count": 86,
   "metadata": {},
   "outputs": [],
   "source": [
    "X_train_vect, X_test_vect, voc, word_index = vectorize_sets(\n",
    "    tokenizer_transformer.transform(X_train).str.join(sep=' '),\n",
    "    tokenizer_transformer.transform(X_test).str.join(sep=' '),\n",
    "    vocab_length=max_tokens,\n",
    "    tweet_length=30)"
   ]
  },
  {
   "cell_type": "markdown",
   "metadata": {},
   "source": [
    "### Stemming"
   ]
  },
  {
   "cell_type": "code",
   "execution_count": 567,
   "metadata": {},
   "outputs": [],
   "source": [
    "X_train_vect_stem, X_test_vect_stem, voc_stem, word_index_stem = vectorize_sets(\n",
    "    stemmer_transformer.transform(tokenizer_transformer.transform(X_train)).str.join(sep=' '),\n",
    "    stemmer_transformer.transform(tokenizer_transformer.transform(X_test)).str.join(sep=' '),\n",
    "    vocab_length=max_tokens,\n",
    "    tweet_length=30)"
   ]
  },
  {
   "cell_type": "markdown",
   "metadata": {},
   "source": [
    "### Lemmatization"
   ]
  },
  {
   "cell_type": "code",
   "execution_count": 568,
   "metadata": {},
   "outputs": [
    {
     "ename": "KeyboardInterrupt",
     "evalue": "",
     "output_type": "error",
     "traceback": [
      "\u001b[1;31m---------------------------------------------------------------------------\u001b[0m",
      "\u001b[1;31mFileNotFoundError\u001b[0m                         Traceback (most recent call last)",
      "\u001b[1;32m~\\Code\\Anaconda\\lib\\genericpath.py\u001b[0m in \u001b[0;36misfile\u001b[1;34m(path)\u001b[0m\n\u001b[0;32m     29\u001b[0m     \u001b[1;32mtry\u001b[0m\u001b[1;33m:\u001b[0m\u001b[1;33m\u001b[0m\u001b[1;33m\u001b[0m\u001b[0m\n\u001b[1;32m---> 30\u001b[1;33m         \u001b[0mst\u001b[0m \u001b[1;33m=\u001b[0m \u001b[0mos\u001b[0m\u001b[1;33m.\u001b[0m\u001b[0mstat\u001b[0m\u001b[1;33m(\u001b[0m\u001b[0mpath\u001b[0m\u001b[1;33m)\u001b[0m\u001b[1;33m\u001b[0m\u001b[1;33m\u001b[0m\u001b[0m\n\u001b[0m\u001b[0;32m     31\u001b[0m     \u001b[1;32mexcept\u001b[0m \u001b[1;33m(\u001b[0m\u001b[0mOSError\u001b[0m\u001b[1;33m,\u001b[0m \u001b[0mValueError\u001b[0m\u001b[1;33m)\u001b[0m\u001b[1;33m:\u001b[0m\u001b[1;33m\u001b[0m\u001b[1;33m\u001b[0m\u001b[0m\n",
      "\u001b[1;31mFileNotFoundError\u001b[0m: [WinError 2] Le fichier spécifié est introuvable: 'C:\\\\Users\\\\Soyann/nltk_data'",
      "\nDuring handling of the above exception, another exception occurred:\n",
      "\u001b[1;31mKeyboardInterrupt\u001b[0m                         Traceback (most recent call last)",
      "\u001b[1;32m<ipython-input-568-8bda6fcceb05>\u001b[0m in \u001b[0;36m<module>\u001b[1;34m\u001b[0m\n\u001b[0;32m      1\u001b[0m X_train_vect_lem, X_test_vect_lem, voc_lem, word_index_lem = vectorize_sets(\n\u001b[1;32m----> 2\u001b[1;33m     \u001b[0mlemmatizer_transformer\u001b[0m\u001b[1;33m.\u001b[0m\u001b[0mtransform\u001b[0m\u001b[1;33m(\u001b[0m\u001b[0mtokenizer_transformer\u001b[0m\u001b[1;33m.\u001b[0m\u001b[0mtransform\u001b[0m\u001b[1;33m(\u001b[0m\u001b[0mX_train\u001b[0m\u001b[1;33m)\u001b[0m\u001b[1;33m)\u001b[0m\u001b[1;33m.\u001b[0m\u001b[0mstr\u001b[0m\u001b[1;33m.\u001b[0m\u001b[0mjoin\u001b[0m\u001b[1;33m(\u001b[0m\u001b[0msep\u001b[0m\u001b[1;33m=\u001b[0m\u001b[1;34m' '\u001b[0m\u001b[1;33m)\u001b[0m\u001b[1;33m,\u001b[0m\u001b[1;33m\u001b[0m\u001b[1;33m\u001b[0m\u001b[0m\n\u001b[0m\u001b[0;32m      3\u001b[0m     \u001b[0mlemmatizer_transformer\u001b[0m\u001b[1;33m.\u001b[0m\u001b[0mtransform\u001b[0m\u001b[1;33m(\u001b[0m\u001b[0mtokenizer_transformer\u001b[0m\u001b[1;33m.\u001b[0m\u001b[0mtransform\u001b[0m\u001b[1;33m(\u001b[0m\u001b[0mX_test\u001b[0m\u001b[1;33m)\u001b[0m\u001b[1;33m)\u001b[0m\u001b[1;33m.\u001b[0m\u001b[0mstr\u001b[0m\u001b[1;33m.\u001b[0m\u001b[0mjoin\u001b[0m\u001b[1;33m(\u001b[0m\u001b[0msep\u001b[0m\u001b[1;33m=\u001b[0m\u001b[1;34m' '\u001b[0m\u001b[1;33m)\u001b[0m\u001b[1;33m,\u001b[0m\u001b[1;33m\u001b[0m\u001b[1;33m\u001b[0m\u001b[0m\n\u001b[0;32m      4\u001b[0m     \u001b[0mvocab_length\u001b[0m\u001b[1;33m=\u001b[0m\u001b[0mmax_tokens\u001b[0m\u001b[1;33m,\u001b[0m\u001b[1;33m\u001b[0m\u001b[1;33m\u001b[0m\u001b[0m\n\u001b[0;32m      5\u001b[0m     tweet_length=30)\n",
      "\u001b[1;32m~\\Code\\Anaconda\\lib\\site-packages\\sklearn\\preprocessing\\_function_transformer.py\u001b[0m in \u001b[0;36mtransform\u001b[1;34m(self, X)\u001b[0m\n\u001b[0;32m    145\u001b[0m             \u001b[0mTransformed\u001b[0m \u001b[0minput\u001b[0m\u001b[1;33m.\u001b[0m\u001b[1;33m\u001b[0m\u001b[1;33m\u001b[0m\u001b[0m\n\u001b[0;32m    146\u001b[0m         \"\"\"\n\u001b[1;32m--> 147\u001b[1;33m         \u001b[1;32mreturn\u001b[0m \u001b[0mself\u001b[0m\u001b[1;33m.\u001b[0m\u001b[0m_transform\u001b[0m\u001b[1;33m(\u001b[0m\u001b[0mX\u001b[0m\u001b[1;33m,\u001b[0m \u001b[0mfunc\u001b[0m\u001b[1;33m=\u001b[0m\u001b[0mself\u001b[0m\u001b[1;33m.\u001b[0m\u001b[0mfunc\u001b[0m\u001b[1;33m,\u001b[0m \u001b[0mkw_args\u001b[0m\u001b[1;33m=\u001b[0m\u001b[0mself\u001b[0m\u001b[1;33m.\u001b[0m\u001b[0mkw_args\u001b[0m\u001b[1;33m)\u001b[0m\u001b[1;33m\u001b[0m\u001b[1;33m\u001b[0m\u001b[0m\n\u001b[0m\u001b[0;32m    148\u001b[0m \u001b[1;33m\u001b[0m\u001b[0m\n\u001b[0;32m    149\u001b[0m     \u001b[1;32mdef\u001b[0m \u001b[0minverse_transform\u001b[0m\u001b[1;33m(\u001b[0m\u001b[0mself\u001b[0m\u001b[1;33m,\u001b[0m \u001b[0mX\u001b[0m\u001b[1;33m)\u001b[0m\u001b[1;33m:\u001b[0m\u001b[1;33m\u001b[0m\u001b[1;33m\u001b[0m\u001b[0m\n",
      "\u001b[1;32m~\\Code\\Anaconda\\lib\\site-packages\\sklearn\\preprocessing\\_function_transformer.py\u001b[0m in \u001b[0;36m_transform\u001b[1;34m(self, X, func, kw_args)\u001b[0m\n\u001b[0;32m    169\u001b[0m             \u001b[0mfunc\u001b[0m \u001b[1;33m=\u001b[0m \u001b[0m_identity\u001b[0m\u001b[1;33m\u001b[0m\u001b[1;33m\u001b[0m\u001b[0m\n\u001b[0;32m    170\u001b[0m \u001b[1;33m\u001b[0m\u001b[0m\n\u001b[1;32m--> 171\u001b[1;33m         \u001b[1;32mreturn\u001b[0m \u001b[0mfunc\u001b[0m\u001b[1;33m(\u001b[0m\u001b[0mX\u001b[0m\u001b[1;33m,\u001b[0m \u001b[1;33m**\u001b[0m\u001b[1;33m(\u001b[0m\u001b[0mkw_args\u001b[0m \u001b[1;32mif\u001b[0m \u001b[0mkw_args\u001b[0m \u001b[1;32melse\u001b[0m \u001b[1;33m{\u001b[0m\u001b[1;33m}\u001b[0m\u001b[1;33m)\u001b[0m\u001b[1;33m)\u001b[0m\u001b[1;33m\u001b[0m\u001b[1;33m\u001b[0m\u001b[0m\n\u001b[0m\u001b[0;32m    172\u001b[0m \u001b[1;33m\u001b[0m\u001b[0m\n\u001b[0;32m    173\u001b[0m     \u001b[1;32mdef\u001b[0m \u001b[0m_more_tags\u001b[0m\u001b[1;33m(\u001b[0m\u001b[0mself\u001b[0m\u001b[1;33m)\u001b[0m\u001b[1;33m:\u001b[0m\u001b[1;33m\u001b[0m\u001b[1;33m\u001b[0m\u001b[0m\n",
      "\u001b[1;32m<ipython-input-13-2c24c69093e1>\u001b[0m in \u001b[0;36mlemmatizer\u001b[1;34m(data, y, lemmatizer)\u001b[0m\n\u001b[0;32m     16\u001b[0m \u001b[1;33m\u001b[0m\u001b[0m\n\u001b[0;32m     17\u001b[0m \u001b[1;33m\u001b[0m\u001b[0m\n\u001b[1;32m---> 18\u001b[1;33m     \u001b[1;32mreturn\u001b[0m \u001b[0mdata\u001b[0m\u001b[1;33m.\u001b[0m\u001b[0mapply\u001b[0m\u001b[1;33m(\u001b[0m\u001b[0mlem_sentence\u001b[0m\u001b[1;33m)\u001b[0m\u001b[1;33m\u001b[0m\u001b[1;33m\u001b[0m\u001b[0m\n\u001b[0m",
      "\u001b[1;32m~\\Code\\Anaconda\\lib\\site-packages\\pandas\\core\\series.py\u001b[0m in \u001b[0;36mapply\u001b[1;34m(self, func, convert_dtype, args, **kwds)\u001b[0m\n\u001b[0;32m   4136\u001b[0m             \u001b[1;32melse\u001b[0m\u001b[1;33m:\u001b[0m\u001b[1;33m\u001b[0m\u001b[1;33m\u001b[0m\u001b[0m\n\u001b[0;32m   4137\u001b[0m                 \u001b[0mvalues\u001b[0m \u001b[1;33m=\u001b[0m \u001b[0mself\u001b[0m\u001b[1;33m.\u001b[0m\u001b[0mastype\u001b[0m\u001b[1;33m(\u001b[0m\u001b[0mobject\u001b[0m\u001b[1;33m)\u001b[0m\u001b[1;33m.\u001b[0m\u001b[0m_values\u001b[0m\u001b[1;33m\u001b[0m\u001b[1;33m\u001b[0m\u001b[0m\n\u001b[1;32m-> 4138\u001b[1;33m                 \u001b[0mmapped\u001b[0m \u001b[1;33m=\u001b[0m \u001b[0mlib\u001b[0m\u001b[1;33m.\u001b[0m\u001b[0mmap_infer\u001b[0m\u001b[1;33m(\u001b[0m\u001b[0mvalues\u001b[0m\u001b[1;33m,\u001b[0m \u001b[0mf\u001b[0m\u001b[1;33m,\u001b[0m \u001b[0mconvert\u001b[0m\u001b[1;33m=\u001b[0m\u001b[0mconvert_dtype\u001b[0m\u001b[1;33m)\u001b[0m\u001b[1;33m\u001b[0m\u001b[1;33m\u001b[0m\u001b[0m\n\u001b[0m\u001b[0;32m   4139\u001b[0m \u001b[1;33m\u001b[0m\u001b[0m\n\u001b[0;32m   4140\u001b[0m         \u001b[1;32mif\u001b[0m \u001b[0mlen\u001b[0m\u001b[1;33m(\u001b[0m\u001b[0mmapped\u001b[0m\u001b[1;33m)\u001b[0m \u001b[1;32mand\u001b[0m \u001b[0misinstance\u001b[0m\u001b[1;33m(\u001b[0m\u001b[0mmapped\u001b[0m\u001b[1;33m[\u001b[0m\u001b[1;36m0\u001b[0m\u001b[1;33m]\u001b[0m\u001b[1;33m,\u001b[0m \u001b[0mSeries\u001b[0m\u001b[1;33m)\u001b[0m\u001b[1;33m:\u001b[0m\u001b[1;33m\u001b[0m\u001b[1;33m\u001b[0m\u001b[0m\n",
      "\u001b[1;32mpandas\\_libs\\lib.pyx\u001b[0m in \u001b[0;36mpandas._libs.lib.map_infer\u001b[1;34m()\u001b[0m\n",
      "\u001b[1;32m<ipython-input-13-2c24c69093e1>\u001b[0m in \u001b[0;36mlem_sentence\u001b[1;34m(tokenized_sentence)\u001b[0m\n\u001b[0;32m     12\u001b[0m \u001b[1;33m\u001b[0m\u001b[0m\n\u001b[0;32m     13\u001b[0m     \u001b[1;32mdef\u001b[0m \u001b[0mlem_sentence\u001b[0m\u001b[1;33m(\u001b[0m\u001b[0mtokenized_sentence\u001b[0m\u001b[1;33m)\u001b[0m\u001b[1;33m:\u001b[0m\u001b[1;33m\u001b[0m\u001b[1;33m\u001b[0m\u001b[0m\n\u001b[1;32m---> 14\u001b[1;33m         \u001b[0mlems\u001b[0m \u001b[1;33m=\u001b[0m \u001b[1;33m[\u001b[0m\u001b[0mlemmatizer\u001b[0m\u001b[1;33m.\u001b[0m\u001b[0mlemmatize\u001b[0m\u001b[1;33m(\u001b[0m\u001b[0mi\u001b[0m\u001b[1;33m,\u001b[0m\u001b[0mpos\u001b[0m\u001b[1;33m=\u001b[0m\u001b[0mget_wordnet_pos\u001b[0m\u001b[1;33m(\u001b[0m\u001b[0mi\u001b[0m\u001b[1;33m)\u001b[0m\u001b[1;33m)\u001b[0m \u001b[1;32mfor\u001b[0m \u001b[0mi\u001b[0m \u001b[1;32min\u001b[0m \u001b[0mtokenized_sentence\u001b[0m\u001b[1;33m]\u001b[0m\u001b[1;33m\u001b[0m\u001b[1;33m\u001b[0m\u001b[0m\n\u001b[0m\u001b[0;32m     15\u001b[0m         \u001b[1;32mreturn\u001b[0m \u001b[0mlems\u001b[0m\u001b[1;33m\u001b[0m\u001b[1;33m\u001b[0m\u001b[0m\n\u001b[0;32m     16\u001b[0m \u001b[1;33m\u001b[0m\u001b[0m\n",
      "\u001b[1;32m<ipython-input-13-2c24c69093e1>\u001b[0m in \u001b[0;36m<listcomp>\u001b[1;34m(.0)\u001b[0m\n\u001b[0;32m     12\u001b[0m \u001b[1;33m\u001b[0m\u001b[0m\n\u001b[0;32m     13\u001b[0m     \u001b[1;32mdef\u001b[0m \u001b[0mlem_sentence\u001b[0m\u001b[1;33m(\u001b[0m\u001b[0mtokenized_sentence\u001b[0m\u001b[1;33m)\u001b[0m\u001b[1;33m:\u001b[0m\u001b[1;33m\u001b[0m\u001b[1;33m\u001b[0m\u001b[0m\n\u001b[1;32m---> 14\u001b[1;33m         \u001b[0mlems\u001b[0m \u001b[1;33m=\u001b[0m \u001b[1;33m[\u001b[0m\u001b[0mlemmatizer\u001b[0m\u001b[1;33m.\u001b[0m\u001b[0mlemmatize\u001b[0m\u001b[1;33m(\u001b[0m\u001b[0mi\u001b[0m\u001b[1;33m,\u001b[0m\u001b[0mpos\u001b[0m\u001b[1;33m=\u001b[0m\u001b[0mget_wordnet_pos\u001b[0m\u001b[1;33m(\u001b[0m\u001b[0mi\u001b[0m\u001b[1;33m)\u001b[0m\u001b[1;33m)\u001b[0m \u001b[1;32mfor\u001b[0m \u001b[0mi\u001b[0m \u001b[1;32min\u001b[0m \u001b[0mtokenized_sentence\u001b[0m\u001b[1;33m]\u001b[0m\u001b[1;33m\u001b[0m\u001b[1;33m\u001b[0m\u001b[0m\n\u001b[0m\u001b[0;32m     15\u001b[0m         \u001b[1;32mreturn\u001b[0m \u001b[0mlems\u001b[0m\u001b[1;33m\u001b[0m\u001b[1;33m\u001b[0m\u001b[0m\n\u001b[0;32m     16\u001b[0m \u001b[1;33m\u001b[0m\u001b[0m\n",
      "\u001b[1;32m<ipython-input-13-2c24c69093e1>\u001b[0m in \u001b[0;36mget_wordnet_pos\u001b[1;34m(word)\u001b[0m\n\u001b[0;32m      3\u001b[0m     \u001b[1;32mdef\u001b[0m \u001b[0mget_wordnet_pos\u001b[0m\u001b[1;33m(\u001b[0m\u001b[0mword\u001b[0m\u001b[1;33m)\u001b[0m\u001b[1;33m:\u001b[0m\u001b[1;33m\u001b[0m\u001b[1;33m\u001b[0m\u001b[0m\n\u001b[0;32m      4\u001b[0m     \u001b[1;31m#Map POS tag to first character lemmatize() accepts\u001b[0m\u001b[1;33m\u001b[0m\u001b[1;33m\u001b[0m\u001b[1;33m\u001b[0m\u001b[0m\n\u001b[1;32m----> 5\u001b[1;33m         \u001b[0mtag\u001b[0m \u001b[1;33m=\u001b[0m \u001b[0mnltk\u001b[0m\u001b[1;33m.\u001b[0m\u001b[0mpos_tag\u001b[0m\u001b[1;33m(\u001b[0m\u001b[1;33m[\u001b[0m\u001b[0mword\u001b[0m\u001b[1;33m]\u001b[0m\u001b[1;33m)\u001b[0m\u001b[1;33m[\u001b[0m\u001b[1;36m0\u001b[0m\u001b[1;33m]\u001b[0m\u001b[1;33m[\u001b[0m\u001b[1;36m1\u001b[0m\u001b[1;33m]\u001b[0m\u001b[1;33m[\u001b[0m\u001b[1;36m0\u001b[0m\u001b[1;33m]\u001b[0m\u001b[1;33m.\u001b[0m\u001b[0mupper\u001b[0m\u001b[1;33m(\u001b[0m\u001b[1;33m)\u001b[0m\u001b[1;33m\u001b[0m\u001b[1;33m\u001b[0m\u001b[0m\n\u001b[0m\u001b[0;32m      6\u001b[0m         tag_dict = {\"J\": wordnet.ADJ,\n\u001b[0;32m      7\u001b[0m                     \u001b[1;34m\"N\"\u001b[0m\u001b[1;33m:\u001b[0m \u001b[0mwordnet\u001b[0m\u001b[1;33m.\u001b[0m\u001b[0mNOUN\u001b[0m\u001b[1;33m,\u001b[0m\u001b[1;33m\u001b[0m\u001b[1;33m\u001b[0m\u001b[0m\n",
      "\u001b[1;32m~\\Code\\Anaconda\\lib\\site-packages\\nltk\\tag\\__init__.py\u001b[0m in \u001b[0;36mpos_tag\u001b[1;34m(tokens, tagset, lang)\u001b[0m\n\u001b[0;32m    162\u001b[0m     \u001b[1;33m:\u001b[0m\u001b[0mrtype\u001b[0m\u001b[1;33m:\u001b[0m \u001b[0mlist\u001b[0m\u001b[1;33m(\u001b[0m\u001b[0mtuple\u001b[0m\u001b[1;33m(\u001b[0m\u001b[0mstr\u001b[0m\u001b[1;33m,\u001b[0m \u001b[0mstr\u001b[0m\u001b[1;33m)\u001b[0m\u001b[1;33m)\u001b[0m\u001b[1;33m\u001b[0m\u001b[1;33m\u001b[0m\u001b[0m\n\u001b[0;32m    163\u001b[0m     \"\"\"\n\u001b[1;32m--> 164\u001b[1;33m     \u001b[0mtagger\u001b[0m \u001b[1;33m=\u001b[0m \u001b[0m_get_tagger\u001b[0m\u001b[1;33m(\u001b[0m\u001b[0mlang\u001b[0m\u001b[1;33m)\u001b[0m\u001b[1;33m\u001b[0m\u001b[1;33m\u001b[0m\u001b[0m\n\u001b[0m\u001b[0;32m    165\u001b[0m     \u001b[1;32mreturn\u001b[0m \u001b[0m_pos_tag\u001b[0m\u001b[1;33m(\u001b[0m\u001b[0mtokens\u001b[0m\u001b[1;33m,\u001b[0m \u001b[0mtagset\u001b[0m\u001b[1;33m,\u001b[0m \u001b[0mtagger\u001b[0m\u001b[1;33m,\u001b[0m \u001b[0mlang\u001b[0m\u001b[1;33m)\u001b[0m\u001b[1;33m\u001b[0m\u001b[1;33m\u001b[0m\u001b[0m\n\u001b[0;32m    166\u001b[0m \u001b[1;33m\u001b[0m\u001b[0m\n",
      "\u001b[1;32m~\\Code\\Anaconda\\lib\\site-packages\\nltk\\tag\\__init__.py\u001b[0m in \u001b[0;36m_get_tagger\u001b[1;34m(lang)\u001b[0m\n\u001b[0;32m    104\u001b[0m         \u001b[0mtagger\u001b[0m\u001b[1;33m.\u001b[0m\u001b[0mload\u001b[0m\u001b[1;33m(\u001b[0m\u001b[0map_russian_model_loc\u001b[0m\u001b[1;33m)\u001b[0m\u001b[1;33m\u001b[0m\u001b[1;33m\u001b[0m\u001b[0m\n\u001b[0;32m    105\u001b[0m     \u001b[1;32melse\u001b[0m\u001b[1;33m:\u001b[0m\u001b[1;33m\u001b[0m\u001b[1;33m\u001b[0m\u001b[0m\n\u001b[1;32m--> 106\u001b[1;33m         \u001b[0mtagger\u001b[0m \u001b[1;33m=\u001b[0m \u001b[0mPerceptronTagger\u001b[0m\u001b[1;33m(\u001b[0m\u001b[1;33m)\u001b[0m\u001b[1;33m\u001b[0m\u001b[1;33m\u001b[0m\u001b[0m\n\u001b[0m\u001b[0;32m    107\u001b[0m     \u001b[1;32mreturn\u001b[0m \u001b[0mtagger\u001b[0m\u001b[1;33m\u001b[0m\u001b[1;33m\u001b[0m\u001b[0m\n\u001b[0;32m    108\u001b[0m \u001b[1;33m\u001b[0m\u001b[0m\n",
      "\u001b[1;32m~\\Code\\Anaconda\\lib\\site-packages\\nltk\\tag\\perceptron.py\u001b[0m in \u001b[0;36m__init__\u001b[1;34m(self, load)\u001b[0m\n\u001b[0;32m    166\u001b[0m         \u001b[1;32mif\u001b[0m \u001b[0mload\u001b[0m\u001b[1;33m:\u001b[0m\u001b[1;33m\u001b[0m\u001b[1;33m\u001b[0m\u001b[0m\n\u001b[0;32m    167\u001b[0m             AP_MODEL_LOC = \"file:\" + str(\n\u001b[1;32m--> 168\u001b[1;33m                 \u001b[0mfind\u001b[0m\u001b[1;33m(\u001b[0m\u001b[1;34m\"taggers/averaged_perceptron_tagger/\"\u001b[0m \u001b[1;33m+\u001b[0m \u001b[0mPICKLE\u001b[0m\u001b[1;33m)\u001b[0m\u001b[1;33m\u001b[0m\u001b[1;33m\u001b[0m\u001b[0m\n\u001b[0m\u001b[0;32m    169\u001b[0m             )\n\u001b[0;32m    170\u001b[0m             \u001b[0mself\u001b[0m\u001b[1;33m.\u001b[0m\u001b[0mload\u001b[0m\u001b[1;33m(\u001b[0m\u001b[0mAP_MODEL_LOC\u001b[0m\u001b[1;33m)\u001b[0m\u001b[1;33m\u001b[0m\u001b[1;33m\u001b[0m\u001b[0m\n",
      "\u001b[1;32m~\\Code\\Anaconda\\lib\\site-packages\\nltk\\data.py\u001b[0m in \u001b[0;36mfind\u001b[1;34m(resource_name, paths)\u001b[0m\n\u001b[0;32m    520\u001b[0m     \u001b[1;32mfor\u001b[0m \u001b[0mpath_\u001b[0m \u001b[1;32min\u001b[0m \u001b[0mpaths\u001b[0m\u001b[1;33m:\u001b[0m\u001b[1;33m\u001b[0m\u001b[1;33m\u001b[0m\u001b[0m\n\u001b[0;32m    521\u001b[0m         \u001b[1;31m# Is the path item a zipfile?\u001b[0m\u001b[1;33m\u001b[0m\u001b[1;33m\u001b[0m\u001b[1;33m\u001b[0m\u001b[0m\n\u001b[1;32m--> 522\u001b[1;33m         \u001b[1;32mif\u001b[0m \u001b[0mpath_\u001b[0m \u001b[1;32mand\u001b[0m \u001b[1;33m(\u001b[0m\u001b[0mos\u001b[0m\u001b[1;33m.\u001b[0m\u001b[0mpath\u001b[0m\u001b[1;33m.\u001b[0m\u001b[0misfile\u001b[0m\u001b[1;33m(\u001b[0m\u001b[0mpath_\u001b[0m\u001b[1;33m)\u001b[0m \u001b[1;32mand\u001b[0m \u001b[0mpath_\u001b[0m\u001b[1;33m.\u001b[0m\u001b[0mendswith\u001b[0m\u001b[1;33m(\u001b[0m\u001b[1;34m\".zip\"\u001b[0m\u001b[1;33m)\u001b[0m\u001b[1;33m)\u001b[0m\u001b[1;33m:\u001b[0m\u001b[1;33m\u001b[0m\u001b[1;33m\u001b[0m\u001b[0m\n\u001b[0m\u001b[0;32m    523\u001b[0m             \u001b[1;32mtry\u001b[0m\u001b[1;33m:\u001b[0m\u001b[1;33m\u001b[0m\u001b[1;33m\u001b[0m\u001b[0m\n\u001b[0;32m    524\u001b[0m                 \u001b[1;32mreturn\u001b[0m \u001b[0mZipFilePathPointer\u001b[0m\u001b[1;33m(\u001b[0m\u001b[0mpath_\u001b[0m\u001b[1;33m,\u001b[0m \u001b[0mresource_name\u001b[0m\u001b[1;33m)\u001b[0m\u001b[1;33m\u001b[0m\u001b[1;33m\u001b[0m\u001b[0m\n",
      "\u001b[1;32m~\\Code\\Anaconda\\lib\\genericpath.py\u001b[0m in \u001b[0;36misfile\u001b[1;34m(path)\u001b[0m\n\u001b[0;32m     28\u001b[0m     \u001b[1;34m\"\"\"Test whether a path is a regular file\"\"\"\u001b[0m\u001b[1;33m\u001b[0m\u001b[1;33m\u001b[0m\u001b[0m\n\u001b[0;32m     29\u001b[0m     \u001b[1;32mtry\u001b[0m\u001b[1;33m:\u001b[0m\u001b[1;33m\u001b[0m\u001b[1;33m\u001b[0m\u001b[0m\n\u001b[1;32m---> 30\u001b[1;33m         \u001b[0mst\u001b[0m \u001b[1;33m=\u001b[0m \u001b[0mos\u001b[0m\u001b[1;33m.\u001b[0m\u001b[0mstat\u001b[0m\u001b[1;33m(\u001b[0m\u001b[0mpath\u001b[0m\u001b[1;33m)\u001b[0m\u001b[1;33m\u001b[0m\u001b[1;33m\u001b[0m\u001b[0m\n\u001b[0m\u001b[0;32m     31\u001b[0m     \u001b[1;32mexcept\u001b[0m \u001b[1;33m(\u001b[0m\u001b[0mOSError\u001b[0m\u001b[1;33m,\u001b[0m \u001b[0mValueError\u001b[0m\u001b[1;33m)\u001b[0m\u001b[1;33m:\u001b[0m\u001b[1;33m\u001b[0m\u001b[1;33m\u001b[0m\u001b[0m\n\u001b[0;32m     32\u001b[0m         \u001b[1;32mreturn\u001b[0m \u001b[1;32mFalse\u001b[0m\u001b[1;33m\u001b[0m\u001b[1;33m\u001b[0m\u001b[0m\n",
      "\u001b[1;31mKeyboardInterrupt\u001b[0m: "
     ]
    }
   ],
   "source": [
    "X_train_vect_lem, X_test_vect_lem, voc_lem, word_index_lem = vectorize_sets(\n",
    "    lemmatizer_transformer.transform(tokenizer_transformer.transform(X_train)).str.join(sep=' '),\n",
    "    lemmatizer_transformer.transform(tokenizer_transformer.transform(X_test)).str.join(sep=' '),\n",
    "    vocab_length=max_tokens,\n",
    "    tweet_length=30)"
   ]
  },
  {
   "cell_type": "code",
   "execution_count": 417,
   "metadata": {},
   "outputs": [
    {
     "name": "stdout",
     "output_type": "stream",
     "text": [
      " raw vocab length 3163 \n",
      " no processing vocab length 3002 \n",
      " stem vocab length 2683 \n",
      " lem vocab length 2717\n"
     ]
    }
   ],
   "source": [
    "print(f' raw vocab length {len(voc_raw)} \\n no processing vocab length {len(voc)} \\n stem vocab length {len(voc_stem)} \\n lem vocab length {len(voc_lem)}')"
   ]
  },
  {
   "cell_type": "code",
   "execution_count": 418,
   "metadata": {},
   "outputs": [],
   "source": [
    "#print(f' raw vocab length {len(voc_raw)} \\n no processing vocab length {len(voc)}  \\n stem vocab length {len(voc_stem)}')"
   ]
  },
  {
   "cell_type": "markdown",
   "metadata": {},
   "source": [
    "## Testing preprocessing on a simple Neural Network"
   ]
  },
  {
   "cell_type": "code",
   "execution_count": 87,
   "metadata": {},
   "outputs": [],
   "source": [
    "import time"
   ]
  },
  {
   "cell_type": "code",
   "execution_count": 88,
   "metadata": {},
   "outputs": [],
   "source": [
    "models_performances=pd.DataFrame(columns=['AUC','Accuracy','Epoch max reach'])"
   ]
  },
  {
   "cell_type": "code",
   "execution_count": 89,
   "metadata": {},
   "outputs": [],
   "source": [
    "from keras.models import Sequential\n",
    "from keras.layers import Dense\n",
    "from keras.layers import Flatten\n",
    "from keras.layers import Embedding"
   ]
  },
  {
   "cell_type": "markdown",
   "metadata": {},
   "source": [
    "### Raw texts"
   ]
  },
  {
   "cell_type": "code",
   "execution_count": 90,
   "metadata": {},
   "outputs": [
    {
     "name": "stdout",
     "output_type": "stream",
     "text": [
      "Model: \"sequential_1\"\n",
      "_________________________________________________________________\n",
      "Layer (type)                 Output Shape              Param #   \n",
      "=================================================================\n",
      "embedding_1 (Embedding)      (None, 30, 100)           2295300   \n",
      "_________________________________________________________________\n",
      "flatten_1 (Flatten)          (None, 3000)              0         \n",
      "_________________________________________________________________\n",
      "dense_2 (Dense)              (None, 8)                 24008     \n",
      "_________________________________________________________________\n",
      "dense_3 (Dense)              (None, 1)                 9         \n",
      "=================================================================\n",
      "Total params: 2,319,317\n",
      "Trainable params: 2,319,317\n",
      "Non-trainable params: 0\n",
      "_________________________________________________________________\n",
      "None\n"
     ]
    }
   ],
   "source": [
    "model_name = 'simple NN - raw text'\n",
    "\n",
    "model = Sequential()\n",
    "\n",
    "model.add(Embedding(len(voc_raw),100 ,input_length = tweet_length))\n",
    "model.add(Flatten())\n",
    "model.add(Dense(8,activation='relu'))\n",
    "model.add(Dense(1,activation='sigmoid'))\n",
    "model.compile(loss = 'binary_crossentropy', optimizer='adam',metrics = ['accuracy','AUC'])\n",
    "print(model.summary())"
   ]
  },
  {
   "cell_type": "code",
   "execution_count": 91,
   "metadata": {},
   "outputs": [
    {
     "name": "stdout",
     "output_type": "stream",
     "text": [
      "Epoch 1/15\n",
      "12/12 [==============================] - 1s 85ms/step - loss: 0.6920 - accuracy: 0.5223 - auc: 0.5310 - val_loss: 0.6885 - val_accuracy: 0.5617 - val_auc: 0.5818\n",
      "Epoch 2/15\n",
      "12/12 [==============================] - 1s 58ms/step - loss: 0.6702 - accuracy: 0.6313 - auc: 0.6976 - val_loss: 0.6737 - val_accuracy: 0.5747 - val_auc: 0.6621\n",
      "Epoch 3/15\n",
      "12/12 [==============================] - 1s 56ms/step - loss: 0.6152 - accuracy: 0.7582 - auc: 0.8456 - val_loss: 0.6369 - val_accuracy: 0.6500 - val_auc: 0.7376\n",
      "Epoch 4/15\n",
      "12/12 [==============================] - 1s 59ms/step - loss: 0.5116 - accuracy: 0.8492 - auc: 0.9248 - val_loss: 0.5906 - val_accuracy: 0.6963 - val_auc: 0.7699\n",
      "Epoch 5/15\n",
      "12/12 [==============================] - 1s 57ms/step - loss: 0.3880 - accuracy: 0.8988 - auc: 0.9604 - val_loss: 0.5580 - val_accuracy: 0.7140 - val_auc: 0.7914\n",
      "Epoch 6/15\n",
      "12/12 [==============================] - 1s 57ms/step - loss: 0.2756 - accuracy: 0.9370 - auc: 0.9820 - val_loss: 0.5391 - val_accuracy: 0.7233 - val_auc: 0.8054\n",
      "Epoch 7/15\n",
      "12/12 [==============================] - 1s 58ms/step - loss: 0.1877 - accuracy: 0.9647 - auc: 0.9936 - val_loss: 0.5306 - val_accuracy: 0.7337 - val_auc: 0.8125\n",
      "Epoch 8/15\n",
      "12/12 [==============================] - 1s 61ms/step - loss: 0.1271 - accuracy: 0.9807 - auc: 0.9979 - val_loss: 0.5330 - val_accuracy: 0.7360 - val_auc: 0.8130\n",
      "Epoch 9/15\n",
      "12/12 [==============================] - 1s 60ms/step - loss: 0.0886 - accuracy: 0.9883 - auc: 0.9992 - val_loss: 0.5434 - val_accuracy: 0.7373 - val_auc: 0.8107\n",
      "Epoch 10/15\n",
      "12/12 [==============================] - 1s 62ms/step - loss: 0.0633 - accuracy: 0.9933 - auc: 0.9997 - val_loss: 0.5556 - val_accuracy: 0.7367 - val_auc: 0.8085\n",
      "Epoch 11/15\n",
      "12/12 [==============================] - 1s 59ms/step - loss: 0.0473 - accuracy: 0.9955 - auc: 0.9999 - val_loss: 0.5673 - val_accuracy: 0.7330 - val_auc: 0.8067\n",
      "Epoch 12/15\n",
      "12/12 [==============================] - 1s 57ms/step - loss: 0.0365 - accuracy: 0.9973 - auc: 0.9999 - val_loss: 0.5800 - val_accuracy: 0.7290 - val_auc: 0.8052\n",
      "Epoch 13/15\n",
      "12/12 [==============================] - 1s 59ms/step - loss: 0.0292 - accuracy: 0.9975 - auc: 1.0000 - val_loss: 0.5926 - val_accuracy: 0.7313 - val_auc: 0.8034\n",
      "Epoch 14/15\n",
      "12/12 [==============================] - 1s 58ms/step - loss: 0.0237 - accuracy: 0.9984 - auc: 1.0000 - val_loss: 0.6050 - val_accuracy: 0.7290 - val_auc: 0.8023\n",
      "Epoch 15/15\n",
      "12/12 [==============================] - 1s 61ms/step - loss: 0.0195 - accuracy: 0.9987 - auc: 1.0000 - val_loss: 0.6184 - val_accuracy: 0.7280 - val_auc: 0.8014\n"
     ]
    }
   ],
   "source": [
    "start = time.time()\n",
    "hist = model.fit(X_train_raw, y_train, batch_size=1024, epochs=15, validation_data=(X_test_raw, y_test))\n",
    "stop = time.time()"
   ]
  },
  {
   "cell_type": "code",
   "execution_count": 92,
   "metadata": {},
   "outputs": [],
   "source": [
    "from tensorflow.keras.layers.experimental.preprocessing import TextVectorization\n",
    "\n",
    "def vectorize_request(X,vocab_length=60000,tweet_length=30):\n",
    "    \n",
    "    '''Compute and return the vectors of the documents in X_train and X_test with a fixed length'''\n",
    "    X_pre=tokenizer_transformer.transform(X).str.join(sep=' ')\n",
    "    vectorizer = TextVectorization(max_tokens=vocab_length,output_sequence_length=tweet_length)\n",
    "    vectorizer.adapt(X_pre.values)     \n",
    "    return (vectorizer(X_pre.values))"
   ]
  },
  {
   "cell_type": "code",
   "execution_count": 117,
   "metadata": {},
   "outputs": [],
   "source": [
    "models_performances = models_performances.append(\n",
    "    pd.Series(data={'total training time': stop-start,\n",
    "              'AUC': max(hist.history['val_auc']),\n",
    "              'Accuracy': max(hist.history['val_accuracy']),\n",
    "              'Epoch max reach': hist.history['val_accuracy'].index(max(hist.history['val_accuracy'])),\n",
    "              'training time to opt' : (stop-start)*hist.history['val_accuracy'].index(max(hist.history['val_accuracy']))/len(hist.history['val_accuracy'])},\n",
    "              name=model_name)\n",
    ")"
   ]
  },
  {
   "cell_type": "code",
   "execution_count": 118,
   "metadata": {},
   "outputs": [
    {
     "data": {
      "text/html": [
       "<div>\n",
       "<style scoped>\n",
       "    .dataframe tbody tr th:only-of-type {\n",
       "        vertical-align: middle;\n",
       "    }\n",
       "\n",
       "    .dataframe tbody tr th {\n",
       "        vertical-align: top;\n",
       "    }\n",
       "\n",
       "    .dataframe thead th {\n",
       "        text-align: right;\n",
       "    }\n",
       "</style>\n",
       "<table border=\"1\" class=\"dataframe\">\n",
       "  <thead>\n",
       "    <tr style=\"text-align: right;\">\n",
       "      <th></th>\n",
       "      <th>AUC</th>\n",
       "      <th>Accuracy</th>\n",
       "      <th>Epoch max reach</th>\n",
       "      <th>total training time</th>\n",
       "      <th>training time to opt</th>\n",
       "    </tr>\n",
       "  </thead>\n",
       "  <tbody>\n",
       "    <tr>\n",
       "      <th>simple NN - raw text</th>\n",
       "      <td>0.812993</td>\n",
       "      <td>0.737333</td>\n",
       "      <td>8.0</td>\n",
       "      <td>12.552917</td>\n",
       "      <td>6.694889</td>\n",
       "    </tr>\n",
       "  </tbody>\n",
       "</table>\n",
       "</div>"
      ],
      "text/plain": [
       "                           AUC  Accuracy  Epoch max reach  \\\n",
       "simple NN - raw text  0.812993  0.737333              8.0   \n",
       "\n",
       "                      total training time  training time to opt  \n",
       "simple NN - raw text            12.552917              6.694889  "
      ]
     },
     "execution_count": 118,
     "metadata": {},
     "output_type": "execute_result"
    }
   ],
   "source": [
    "models_performances"
   ]
  },
  {
   "cell_type": "markdown",
   "metadata": {
    "heading_collapsed": true
   },
   "source": [
    "### Basic preprocessing"
   ]
  },
  {
   "cell_type": "code",
   "execution_count": 425,
   "metadata": {
    "hidden": true
   },
   "outputs": [
    {
     "name": "stdout",
     "output_type": "stream",
     "text": [
      "Model: \"sequential_30\"\n",
      "_________________________________________________________________\n",
      "Layer (type)                 Output Shape              Param #   \n",
      "=================================================================\n",
      "embedding_24 (Embedding)     (None, 30, 100)           300200    \n",
      "_________________________________________________________________\n",
      "flatten_21 (Flatten)         (None, 3000)              0         \n",
      "_________________________________________________________________\n",
      "dense_51 (Dense)             (None, 8)                 24008     \n",
      "_________________________________________________________________\n",
      "dense_52 (Dense)             (None, 1)                 9         \n",
      "=================================================================\n",
      "Total params: 324,217\n",
      "Trainable params: 324,217\n",
      "Non-trainable params: 0\n",
      "_________________________________________________________________\n",
      "None\n"
     ]
    }
   ],
   "source": [
    "model_name = 'simple NN - Basic preprocessing'\n",
    "\n",
    "model = Sequential()\n",
    "\n",
    "model.add(Embedding(len(voc),100 ,input_length = tweet_length))\n",
    "model.add(Flatten())\n",
    "model.add(Dense(8,activation='relu'))\n",
    "model.add(Dense(1,activation='sigmoid'))\n",
    "model.compile(loss = 'binary_crossentropy', optimizer='adam',metrics = ['accuracy','AUC'])\n",
    "print(model.summary())"
   ]
  },
  {
   "cell_type": "code",
   "execution_count": 426,
   "metadata": {
    "hidden": true
   },
   "outputs": [
    {
     "name": "stdout",
     "output_type": "stream",
     "text": [
      "Epoch 1/15\n",
      "1/1 [==============================] - 0s 297ms/step - loss: 0.6934 - accuracy: 0.4762 - auc: 0.4836 - val_loss: 0.6935 - val_accuracy: 0.5200 - val_auc: 0.4852\n",
      "Epoch 2/15\n",
      "1/1 [==============================] - 0s 23ms/step - loss: 0.6908 - accuracy: 0.5312 - auc: 0.6154 - val_loss: 0.6935 - val_accuracy: 0.5150 - val_auc: 0.4672\n",
      "Epoch 3/15\n",
      "1/1 [==============================] - 0s 23ms/step - loss: 0.6869 - accuracy: 0.5575 - auc: 0.7482 - val_loss: 0.6935 - val_accuracy: 0.5050 - val_auc: 0.4965\n",
      "Epoch 4/15\n",
      "1/1 [==============================] - 0s 23ms/step - loss: 0.6816 - accuracy: 0.6087 - auc: 0.8015 - val_loss: 0.6934 - val_accuracy: 0.4700 - val_auc: 0.4957\n",
      "Epoch 5/15\n",
      "1/1 [==============================] - 0s 20ms/step - loss: 0.6762 - accuracy: 0.6575 - auc: 0.8289 - val_loss: 0.6930 - val_accuracy: 0.4800 - val_auc: 0.5100\n",
      "Epoch 6/15\n",
      "1/1 [==============================] - 0s 22ms/step - loss: 0.6704 - accuracy: 0.7125 - auc: 0.8571 - val_loss: 0.6925 - val_accuracy: 0.5150 - val_auc: 0.5235\n",
      "Epoch 7/15\n",
      "1/1 [==============================] - 0s 18ms/step - loss: 0.6639 - accuracy: 0.7600 - auc: 0.8763 - val_loss: 0.6921 - val_accuracy: 0.5350 - val_auc: 0.5200\n",
      "Epoch 8/15\n",
      "1/1 [==============================] - 0s 19ms/step - loss: 0.6568 - accuracy: 0.7800 - auc: 0.8982 - val_loss: 0.6917 - val_accuracy: 0.5500 - val_auc: 0.5286\n",
      "Epoch 9/15\n",
      "1/1 [==============================] - 0s 20ms/step - loss: 0.6490 - accuracy: 0.8012 - auc: 0.9157 - val_loss: 0.6913 - val_accuracy: 0.5550 - val_auc: 0.5320\n",
      "Epoch 10/15\n",
      "1/1 [==============================] - 0s 19ms/step - loss: 0.6404 - accuracy: 0.8150 - auc: 0.9341 - val_loss: 0.6910 - val_accuracy: 0.5650 - val_auc: 0.5390\n",
      "Epoch 11/15\n",
      "1/1 [==============================] - 0s 21ms/step - loss: 0.6311 - accuracy: 0.8400 - auc: 0.9512 - val_loss: 0.6907 - val_accuracy: 0.5700 - val_auc: 0.5427\n",
      "Epoch 12/15\n",
      "1/1 [==============================] - 0s 21ms/step - loss: 0.6210 - accuracy: 0.8725 - auc: 0.9647 - val_loss: 0.6903 - val_accuracy: 0.5750 - val_auc: 0.5464\n",
      "Epoch 13/15\n",
      "1/1 [==============================] - 0s 19ms/step - loss: 0.6101 - accuracy: 0.8925 - auc: 0.9754 - val_loss: 0.6900 - val_accuracy: 0.5700 - val_auc: 0.5463\n",
      "Epoch 14/15\n",
      "1/1 [==============================] - 0s 19ms/step - loss: 0.5984 - accuracy: 0.9250 - auc: 0.9837 - val_loss: 0.6896 - val_accuracy: 0.5750 - val_auc: 0.5508\n",
      "Epoch 15/15\n",
      "1/1 [==============================] - 0s 25ms/step - loss: 0.5859 - accuracy: 0.9388 - auc: 0.9892 - val_loss: 0.6893 - val_accuracy: 0.5800 - val_auc: 0.5522\n"
     ]
    }
   ],
   "source": [
    "start = time.time()\n",
    "hist = model.fit(X_train_vect, y_train, batch_size=1024, epochs=15, validation_data=(X_test_vect, y_test))\n",
    "stop = time.time()"
   ]
  },
  {
   "cell_type": "code",
   "execution_count": 427,
   "metadata": {
    "hidden": true
   },
   "outputs": [],
   "source": [
    "models_performances = models_performances.append(\n",
    "    pd.Series(data={'total training time': stop-start,\n",
    "              'AUC': max(hist.history['val_auc']),\n",
    "              'Accuracy': max(hist.history['val_accuracy']),\n",
    "              'Epoch max reach': hist.history['val_accuracy'].index(max(hist.history['val_accuracy'])),\n",
    "              'training time to opt' : (stop-start)*hist.history['val_accuracy'].index(max(hist.history['val_accuracy']))/len(hist.history['val_accuracy'])},\n",
    "              name=model_name)\n",
    ")"
   ]
  },
  {
   "cell_type": "code",
   "execution_count": 428,
   "metadata": {
    "hidden": true
   },
   "outputs": [
    {
     "data": {
      "text/html": [
       "<div>\n",
       "<style scoped>\n",
       "    .dataframe tbody tr th:only-of-type {\n",
       "        vertical-align: middle;\n",
       "    }\n",
       "\n",
       "    .dataframe tbody tr th {\n",
       "        vertical-align: top;\n",
       "    }\n",
       "\n",
       "    .dataframe thead th {\n",
       "        text-align: right;\n",
       "    }\n",
       "</style>\n",
       "<table border=\"1\" class=\"dataframe\">\n",
       "  <thead>\n",
       "    <tr style=\"text-align: right;\">\n",
       "      <th></th>\n",
       "      <th>AUC</th>\n",
       "      <th>Accuracy</th>\n",
       "      <th>Epoch max reach</th>\n",
       "      <th>total training time</th>\n",
       "      <th>training time to opt</th>\n",
       "    </tr>\n",
       "  </thead>\n",
       "  <tbody>\n",
       "    <tr>\n",
       "      <th>simple NN - raw text</th>\n",
       "      <td>0.565709</td>\n",
       "      <td>0.545</td>\n",
       "      <td>13.0</td>\n",
       "      <td>1.864824</td>\n",
       "      <td>1.616180</td>\n",
       "    </tr>\n",
       "    <tr>\n",
       "      <th>simple NN - Basic preprocessing</th>\n",
       "      <td>0.552197</td>\n",
       "      <td>0.580</td>\n",
       "      <td>14.0</td>\n",
       "      <td>1.833601</td>\n",
       "      <td>1.711361</td>\n",
       "    </tr>\n",
       "  </tbody>\n",
       "</table>\n",
       "</div>"
      ],
      "text/plain": [
       "                                      AUC  Accuracy  Epoch max reach  \\\n",
       "simple NN - raw text             0.565709     0.545             13.0   \n",
       "simple NN - Basic preprocessing  0.552197     0.580             14.0   \n",
       "\n",
       "                                 total training time  training time to opt  \n",
       "simple NN - raw text                        1.864824              1.616180  \n",
       "simple NN - Basic preprocessing             1.833601              1.711361  "
      ]
     },
     "execution_count": 428,
     "metadata": {},
     "output_type": "execute_result"
    }
   ],
   "source": [
    "models_performances"
   ]
  },
  {
   "cell_type": "markdown",
   "metadata": {},
   "source": [
    "### Stemming"
   ]
  },
  {
   "cell_type": "code",
   "execution_count": 429,
   "metadata": {},
   "outputs": [
    {
     "name": "stdout",
     "output_type": "stream",
     "text": [
      "Model: \"sequential_31\"\n",
      "_________________________________________________________________\n",
      "Layer (type)                 Output Shape              Param #   \n",
      "=================================================================\n",
      "embedding_25 (Embedding)     (None, 30, 100)           268300    \n",
      "_________________________________________________________________\n",
      "flatten_22 (Flatten)         (None, 3000)              0         \n",
      "_________________________________________________________________\n",
      "dense_53 (Dense)             (None, 8)                 24008     \n",
      "_________________________________________________________________\n",
      "dense_54 (Dense)             (None, 1)                 9         \n",
      "=================================================================\n",
      "Total params: 292,317\n",
      "Trainable params: 292,317\n",
      "Non-trainable params: 0\n",
      "_________________________________________________________________\n",
      "None\n"
     ]
    }
   ],
   "source": [
    "model_name = 'simple NN - Stemming'\n",
    "\n",
    "model = Sequential()\n",
    "\n",
    "model.add(Embedding(len(voc_stem),100 ,input_length = tweet_length))\n",
    "model.add(Flatten())\n",
    "model.add(Dense(8,activation='relu'))\n",
    "model.add(Dense(1,activation='sigmoid'))\n",
    "model.compile(loss = 'binary_crossentropy', optimizer='adam',metrics = ['accuracy','AUC'])\n",
    "print(model.summary())"
   ]
  },
  {
   "cell_type": "code",
   "execution_count": 430,
   "metadata": {},
   "outputs": [
    {
     "name": "stdout",
     "output_type": "stream",
     "text": [
      "Epoch 1/15\n",
      "1/1 [==============================] - 0s 241ms/step - loss: 0.6945 - accuracy: 0.4975 - auc: 0.4486 - val_loss: 0.6930 - val_accuracy: 0.5100 - val_auc: 0.4861\n",
      "Epoch 2/15\n",
      "1/1 [==============================] - 0s 26ms/step - loss: 0.6889 - accuracy: 0.6037 - auc: 0.6771 - val_loss: 0.6929 - val_accuracy: 0.4850 - val_auc: 0.5033\n",
      "Epoch 3/15\n",
      "1/1 [==============================] - 0s 26ms/step - loss: 0.6824 - accuracy: 0.6938 - auc: 0.7906 - val_loss: 0.6924 - val_accuracy: 0.5000 - val_auc: 0.5158\n",
      "Epoch 4/15\n",
      "1/1 [==============================] - 0s 20ms/step - loss: 0.6752 - accuracy: 0.7262 - auc: 0.8296 - val_loss: 0.6915 - val_accuracy: 0.4950 - val_auc: 0.5172\n",
      "Epoch 5/15\n",
      "1/1 [==============================] - 0s 23ms/step - loss: 0.6673 - accuracy: 0.7188 - auc: 0.8574 - val_loss: 0.6904 - val_accuracy: 0.5050 - val_auc: 0.5339\n",
      "Epoch 6/15\n",
      "1/1 [==============================] - 0s 24ms/step - loss: 0.6586 - accuracy: 0.7362 - auc: 0.8873 - val_loss: 0.6896 - val_accuracy: 0.5150 - val_auc: 0.5462\n",
      "Epoch 7/15\n",
      "1/1 [==============================] - 0s 21ms/step - loss: 0.6489 - accuracy: 0.7775 - auc: 0.9154 - val_loss: 0.6887 - val_accuracy: 0.5400 - val_auc: 0.5532\n",
      "Epoch 8/15\n",
      "1/1 [==============================] - 0s 22ms/step - loss: 0.6385 - accuracy: 0.8350 - auc: 0.9339 - val_loss: 0.6878 - val_accuracy: 0.5700 - val_auc: 0.5561\n",
      "Epoch 9/15\n",
      "1/1 [==============================] - 0s 19ms/step - loss: 0.6269 - accuracy: 0.8737 - auc: 0.9503 - val_loss: 0.6870 - val_accuracy: 0.5600 - val_auc: 0.5627\n",
      "Epoch 10/15\n",
      "1/1 [==============================] - 0s 22ms/step - loss: 0.6144 - accuracy: 0.9038 - auc: 0.9676 - val_loss: 0.6860 - val_accuracy: 0.5650 - val_auc: 0.5696\n",
      "Epoch 11/15\n",
      "1/1 [==============================] - 0s 21ms/step - loss: 0.6007 - accuracy: 0.9212 - auc: 0.9780 - val_loss: 0.6850 - val_accuracy: 0.5700 - val_auc: 0.5774\n",
      "Epoch 12/15\n",
      "1/1 [==============================] - 0s 20ms/step - loss: 0.5861 - accuracy: 0.9225 - auc: 0.9855 - val_loss: 0.6840 - val_accuracy: 0.5800 - val_auc: 0.5782\n",
      "Epoch 13/15\n",
      "1/1 [==============================] - 0s 20ms/step - loss: 0.5704 - accuracy: 0.9312 - auc: 0.9912 - val_loss: 0.6830 - val_accuracy: 0.5750 - val_auc: 0.5865\n",
      "Epoch 14/15\n",
      "1/1 [==============================] - 0s 20ms/step - loss: 0.5536 - accuracy: 0.9538 - auc: 0.9946 - val_loss: 0.6820 - val_accuracy: 0.6050 - val_auc: 0.5894\n",
      "Epoch 15/15\n",
      "1/1 [==============================] - 0s 27ms/step - loss: 0.5357 - accuracy: 0.9675 - auc: 0.9967 - val_loss: 0.6809 - val_accuracy: 0.5950 - val_auc: 0.5954\n"
     ]
    }
   ],
   "source": [
    "start = time.time()\n",
    "hist = model.fit(X_train_vect_stem, y_train, batch_size=1024, epochs=15, validation_data=(X_test_vect_stem, y_test))\n",
    "stop = time.time()"
   ]
  },
  {
   "cell_type": "code",
   "execution_count": 431,
   "metadata": {},
   "outputs": [],
   "source": [
    "models_performances = models_performances.append(\n",
    "    pd.Series(data={'total training time': stop-start,\n",
    "              'AUC': max(hist.history['val_auc']),\n",
    "              'Accuracy': max(hist.history['val_accuracy']),\n",
    "              'Epoch max reach': hist.history['val_accuracy'].index(max(hist.history['val_accuracy'])),\n",
    "              'training time to opt' : (stop-start)*hist.history['val_accuracy'].index(max(hist.history['val_accuracy']))/len(hist.history['val_accuracy'])},\n",
    "              name=model_name)\n",
    ")"
   ]
  },
  {
   "cell_type": "markdown",
   "metadata": {},
   "source": [
    "### Lemmatization"
   ]
  },
  {
   "cell_type": "code",
   "execution_count": 432,
   "metadata": {},
   "outputs": [
    {
     "name": "stdout",
     "output_type": "stream",
     "text": [
      "Model: \"sequential_32\"\n",
      "_________________________________________________________________\n",
      "Layer (type)                 Output Shape              Param #   \n",
      "=================================================================\n",
      "embedding_26 (Embedding)     (None, 30, 100)           271700    \n",
      "_________________________________________________________________\n",
      "flatten_23 (Flatten)         (None, 3000)              0         \n",
      "_________________________________________________________________\n",
      "dense_55 (Dense)             (None, 8)                 24008     \n",
      "_________________________________________________________________\n",
      "dense_56 (Dense)             (None, 1)                 9         \n",
      "=================================================================\n",
      "Total params: 295,717\n",
      "Trainable params: 295,717\n",
      "Non-trainable params: 0\n",
      "_________________________________________________________________\n",
      "None\n"
     ]
    }
   ],
   "source": [
    "model_name = 'simple NN - Lemmatization'\n",
    "\n",
    "model = Sequential()\n",
    "\n",
    "model.add(Embedding(len(voc_lem),100 ,input_length = tweet_length))\n",
    "model.add(Flatten())\n",
    "model.add(Dense(8,activation='relu'))\n",
    "model.add(Dense(1,activation='sigmoid'))\n",
    "model.compile(loss = 'binary_crossentropy', optimizer='adam',metrics = ['accuracy','AUC'])\n",
    "print(model.summary())"
   ]
  },
  {
   "cell_type": "code",
   "execution_count": 433,
   "metadata": {},
   "outputs": [
    {
     "name": "stdout",
     "output_type": "stream",
     "text": [
      "Epoch 1/15\n",
      "1/1 [==============================] - 1s 580ms/step - loss: 0.6923 - accuracy: 0.5288 - auc: 0.5157 - val_loss: 0.6910 - val_accuracy: 0.5500 - val_auc: 0.5585\n",
      "Epoch 2/15\n",
      "1/1 [==============================] - 0s 34ms/step - loss: 0.6863 - accuracy: 0.6325 - auc: 0.6744 - val_loss: 0.6901 - val_accuracy: 0.5250 - val_auc: 0.5569\n",
      "Epoch 3/15\n",
      "1/1 [==============================] - 0s 37ms/step - loss: 0.6799 - accuracy: 0.6538 - auc: 0.7489 - val_loss: 0.6896 - val_accuracy: 0.5350 - val_auc: 0.5627\n",
      "Epoch 4/15\n",
      "1/1 [==============================] - 0s 31ms/step - loss: 0.6727 - accuracy: 0.6700 - auc: 0.8193 - val_loss: 0.6892 - val_accuracy: 0.5400 - val_auc: 0.5629\n",
      "Epoch 5/15\n",
      "1/1 [==============================] - 0s 24ms/step - loss: 0.6651 - accuracy: 0.6750 - auc: 0.8794 - val_loss: 0.6888 - val_accuracy: 0.5350 - val_auc: 0.5576\n",
      "Epoch 6/15\n",
      "1/1 [==============================] - 0s 19ms/step - loss: 0.6573 - accuracy: 0.7050 - auc: 0.9143 - val_loss: 0.6883 - val_accuracy: 0.5300 - val_auc: 0.5569\n",
      "Epoch 7/15\n",
      "1/1 [==============================] - 0s 28ms/step - loss: 0.6486 - accuracy: 0.7663 - auc: 0.9289 - val_loss: 0.6878 - val_accuracy: 0.5450 - val_auc: 0.5628\n",
      "Epoch 8/15\n",
      "1/1 [==============================] - 0s 30ms/step - loss: 0.6391 - accuracy: 0.8250 - auc: 0.9419 - val_loss: 0.6872 - val_accuracy: 0.5500 - val_auc: 0.5605\n",
      "Epoch 9/15\n",
      "1/1 [==============================] - 0s 32ms/step - loss: 0.6287 - accuracy: 0.8562 - auc: 0.9546 - val_loss: 0.6867 - val_accuracy: 0.5450 - val_auc: 0.5633\n",
      "Epoch 10/15\n",
      "1/1 [==============================] - 0s 29ms/step - loss: 0.6176 - accuracy: 0.8725 - auc: 0.9654 - val_loss: 0.6864 - val_accuracy: 0.5450 - val_auc: 0.5672\n",
      "Epoch 11/15\n",
      "1/1 [==============================] - 0s 34ms/step - loss: 0.6055 - accuracy: 0.8988 - auc: 0.9761 - val_loss: 0.6862 - val_accuracy: 0.5500 - val_auc: 0.5668\n",
      "Epoch 12/15\n",
      "1/1 [==============================] - 0s 31ms/step - loss: 0.5925 - accuracy: 0.9137 - auc: 0.9831 - val_loss: 0.6859 - val_accuracy: 0.5650 - val_auc: 0.5679\n",
      "Epoch 13/15\n",
      "1/1 [==============================] - 0s 23ms/step - loss: 0.5786 - accuracy: 0.9312 - auc: 0.9882 - val_loss: 0.6856 - val_accuracy: 0.5600 - val_auc: 0.5712\n",
      "Epoch 14/15\n",
      "1/1 [==============================] - 0s 26ms/step - loss: 0.5640 - accuracy: 0.9463 - auc: 0.9911 - val_loss: 0.6852 - val_accuracy: 0.5600 - val_auc: 0.5746\n",
      "Epoch 15/15\n",
      "1/1 [==============================] - 0s 32ms/step - loss: 0.5485 - accuracy: 0.9563 - auc: 0.9934 - val_loss: 0.6850 - val_accuracy: 0.5650 - val_auc: 0.5756\n"
     ]
    }
   ],
   "source": [
    "start = time.time()\n",
    "hist = model.fit(X_train_vect_lem, y_train, batch_size=1024, epochs=15, validation_data=(X_test_vect_lem, y_test))\n",
    "stop = time.time()"
   ]
  },
  {
   "cell_type": "code",
   "execution_count": 434,
   "metadata": {},
   "outputs": [],
   "source": [
    "models_performances = models_performances.append(\n",
    "    pd.Series(data={'total training time': stop-start,\n",
    "              'AUC': max(hist.history['val_auc']),\n",
    "              'Accuracy': max(hist.history['val_accuracy']),\n",
    "              'Epoch max reach': hist.history['val_accuracy'].index(max(hist.history['val_accuracy'])),\n",
    "              'training time to opt' : (stop-start)*hist.history['val_accuracy'].index(max(hist.history['val_accuracy']))/len(hist.history['val_accuracy'])},\n",
    "              name=model_name)\n",
    ")"
   ]
  },
  {
   "cell_type": "markdown",
   "metadata": {},
   "source": [
    "## Summary of Preprocessing performances"
   ]
  },
  {
   "cell_type": "code",
   "execution_count": 435,
   "metadata": {},
   "outputs": [
    {
     "data": {
      "text/html": [
       "<div>\n",
       "<style scoped>\n",
       "    .dataframe tbody tr th:only-of-type {\n",
       "        vertical-align: middle;\n",
       "    }\n",
       "\n",
       "    .dataframe tbody tr th {\n",
       "        vertical-align: top;\n",
       "    }\n",
       "\n",
       "    .dataframe thead th {\n",
       "        text-align: right;\n",
       "    }\n",
       "</style>\n",
       "<table border=\"1\" class=\"dataframe\">\n",
       "  <thead>\n",
       "    <tr style=\"text-align: right;\">\n",
       "      <th></th>\n",
       "      <th>AUC</th>\n",
       "      <th>Accuracy</th>\n",
       "      <th>Epoch max reach</th>\n",
       "      <th>total training time</th>\n",
       "      <th>training time to opt</th>\n",
       "    </tr>\n",
       "  </thead>\n",
       "  <tbody>\n",
       "    <tr>\n",
       "      <th>simple NN - raw text</th>\n",
       "      <td>0.565709</td>\n",
       "      <td>0.545</td>\n",
       "      <td>13.0</td>\n",
       "      <td>1.864824</td>\n",
       "      <td>1.616180</td>\n",
       "    </tr>\n",
       "    <tr>\n",
       "      <th>simple NN - Basic preprocessing</th>\n",
       "      <td>0.552197</td>\n",
       "      <td>0.580</td>\n",
       "      <td>14.0</td>\n",
       "      <td>1.833601</td>\n",
       "      <td>1.711361</td>\n",
       "    </tr>\n",
       "    <tr>\n",
       "      <th>simple NN - Stemming</th>\n",
       "      <td>0.595386</td>\n",
       "      <td>0.605</td>\n",
       "      <td>13.0</td>\n",
       "      <td>1.769638</td>\n",
       "      <td>1.533687</td>\n",
       "    </tr>\n",
       "    <tr>\n",
       "      <th>simple NN - Lemmatization</th>\n",
       "      <td>0.575568</td>\n",
       "      <td>0.565</td>\n",
       "      <td>11.0</td>\n",
       "      <td>3.058595</td>\n",
       "      <td>2.242970</td>\n",
       "    </tr>\n",
       "  </tbody>\n",
       "</table>\n",
       "</div>"
      ],
      "text/plain": [
       "                                      AUC  Accuracy  Epoch max reach  \\\n",
       "simple NN - raw text             0.565709     0.545             13.0   \n",
       "simple NN - Basic preprocessing  0.552197     0.580             14.0   \n",
       "simple NN - Stemming             0.595386     0.605             13.0   \n",
       "simple NN - Lemmatization        0.575568     0.565             11.0   \n",
       "\n",
       "                                 total training time  training time to opt  \n",
       "simple NN - raw text                        1.864824              1.616180  \n",
       "simple NN - Basic preprocessing             1.833601              1.711361  \n",
       "simple NN - Stemming                        1.769638              1.533687  \n",
       "simple NN - Lemmatization                   3.058595              2.242970  "
      ]
     },
     "execution_count": 435,
     "metadata": {},
     "output_type": "execute_result"
    }
   ],
   "source": [
    "models_performances"
   ]
  },
  {
   "cell_type": "code",
   "execution_count": 436,
   "metadata": {},
   "outputs": [],
   "source": [
    "models_performances.to_pickle('data/models_performances')"
   ]
  },
  {
   "cell_type": "code",
   "execution_count": 437,
   "metadata": {},
   "outputs": [],
   "source": [
    "models_performances = pd.read_pickle('data/models_performances')"
   ]
  },
  {
   "cell_type": "markdown",
   "metadata": {},
   "source": [
    "## Building the embedding matrix ( word / coeff matrix)"
   ]
  },
  {
   "cell_type": "markdown",
   "metadata": {},
   "source": [
    "### Glove embedding"
   ]
  },
  {
   "cell_type": "markdown",
   "metadata": {},
   "source": [
    "Since Glove embedding shows better results, we'll use it from now on"
   ]
  },
  {
   "cell_type": "code",
   "execution_count": 569,
   "metadata": {},
   "outputs": [
    {
     "name": "stdout",
     "output_type": "stream",
     "text": [
      "Found 1193514 word vectors.\n"
     ]
    }
   ],
   "source": [
    "embeddings_index = {}\n",
    "with open(\"D:/Data OC/P7/glove.twitter.27B.100d.txt\",encoding='utf-8') as f:\n",
    "    for line in f:\n",
    "        word, coefs = line.split(maxsplit=1)\n",
    "        coefs = np.fromstring(coefs, \"f\", sep=\" \")\n",
    "        embeddings_index[word] = coefs\n",
    "\n",
    "print(\"Found %s word vectors.\" % len(embeddings_index))"
   ]
  },
  {
   "cell_type": "markdown",
   "metadata": {},
   "source": [
    "Compute the embedding matrix which can be used in a Keras Embedding layer."
   ]
  },
  {
   "cell_type": "code",
   "execution_count": 570,
   "metadata": {},
   "outputs": [
    {
     "name": "stdout",
     "output_type": "stream",
     "text": [
      "Converted 26680 words (21494 misses)\n"
     ]
    }
   ],
   "source": [
    "num_tokens = len(voc) + 2\n",
    "embedding_dim = 100\n",
    "hits = 0\n",
    "misses = 0\n",
    "misses_word=[]\n",
    "\n",
    "# Prepare embedding matrix\n",
    "embedding_matrix = np.zeros((num_tokens, embedding_dim))\n",
    "for word, i in word_index.items():\n",
    "    embedding_vector = embeddings_index.get(word)\n",
    "    if embedding_vector is not None:\n",
    "        # Words not found in embedding index will be all-zeros.\n",
    "        # This includes the representation for \"padding\" and \"OOV\"\n",
    "        embedding_matrix[i] = embedding_vector\n",
    "        hits += 1\n",
    "    else:\n",
    "        misses += 1\n",
    "        misses_word.append(word)\n",
    "print(\"Converted %d words (%d misses)\" % (hits, misses))"
   ]
  },
  {
   "cell_type": "code",
   "execution_count": 571,
   "metadata": {
    "scrolled": true
   },
   "outputs": [
    {
     "data": {
      "text/plain": [
       "['timothyho',\n",
       " 'ticklemejoey',\n",
       " 'thomasfiss',\n",
       " 'thisisrobthomas',\n",
       " 'thewockeez',\n",
       " 'thebrandicyrus',\n",
       " 'silverlines',\n",
       " 'revrunwisdom',\n",
       " 'pmvry',\n",
       " 'pleaseee',\n",
       " 'peterfacinelli',\n",
       " 'owwww',\n",
       " 'nicksantino',\n",
       " 'nickcarter',\n",
       " 'mrskutcher',\n",
       " 'moonfrye',\n",
       " 'mikeyway',\n",
       " 'mattpro',\n",
       " 'krisallenmusic',\n",
       " 'johncmayer',\n",
       " 'jaylastarr',\n",
       " 'itttt',\n",
       " 'inaperfectworld',\n",
       " 'heyyy',\n",
       " 'heartmileycyrus',\n",
       " 'haveyouever',\n",
       " 'goodsex',\n",
       " 'gailporter',\n",
       " 'frankiethesats',\n",
       " 'flylady',\n",
       " 'errr',\n",
       " 'chuckmemondays',\n",
       " 'buckhollywood',\n",
       " 'bkite',\n",
       " 'babygirlparis',\n",
       " 'anoopdoggdesai',\n",
       " 'youuuu',\n",
       " 'yayyyyy',\n",
       " 'woohooo',\n",
       " 'wilw',\n",
       " 'wethetravis',\n",
       " 'wethedan',\n",
       " 'tyresereal',\n",
       " 'twtrcon',\n",
       " 'tsarnick',\n",
       " 'thedebbyryan',\n",
       " 'tdlq',\n",
       " 'symphnysldr',\n",
       " 'shhh',\n",
       " 'schaeferj',\n",
       " 'realhughjackman',\n",
       " 'potface',\n",
       " 'popits',\n",
       " 'petewentz',\n",
       " 'papercakes',\n",
       " 'otalia',\n",
       " 'oliviamunn',\n",
       " 'offf',\n",
       " 'oceanup',\n",
       " 'noelclarke',\n",
       " 'nicolerichie',\n",
       " 'nickybyrneoffic',\n",
       " 'neilhimself',\n",
       " 'necolebitchie',\n",
       " 'nawww',\n",
       " 'nahhh',\n",
       " 'mgiraudofficial',\n",
       " 'mellalicious',\n",
       " 'mcflyharry',\n",
       " 'mannn',\n",
       " 'maddd',\n",
       " 'lvbu',\n",
       " 'longestpoemintheworld',\n",
       " 'lmaoooo',\n",
       " 'lisaveronica',\n",
       " 'lalavazquez',\n",
       " 'knowww',\n",
       " 'kimsherrell',\n",
       " 'kendrawilkinson',\n",
       " 'kathyireland',\n",
       " 'jlsofficial',\n",
       " 'jeweljk',\n",
       " 'itagg',\n",
       " 'isplayer',\n",
       " 'iamjonathancook',\n",
       " 'honorsociety',\n",
       " 'heycassadee',\n",
       " 'hellooo',\n",
       " 'grrrrrr',\n",
       " 'greggarbo',\n",
       " 'garethcliff',\n",
       " 'freddurst',\n",
       " 'dazzlemethis',\n",
       " 'custardcuppcake',\n",
       " 'crystalchappell',\n",
       " 'coollike',\n",
       " 'comedyqueen',\n",
       " 'colorblindfish',\n",
       " 'chriscornell',\n",
       " 'booooo']"
      ]
     },
     "execution_count": 571,
     "metadata": {},
     "output_type": "execute_result"
    }
   ],
   "source": [
    "misses_word[100:200]"
   ]
  },
  {
   "cell_type": "code",
   "execution_count": 572,
   "metadata": {},
   "outputs": [],
   "source": [
    "from keras.layers.embeddings import Embedding\n",
    "import keras\n",
    "\n",
    "embedding_layer = Embedding(\n",
    "    num_tokens,\n",
    "    embedding_dim,\n",
    "    embeddings_initializer=keras.initializers.Constant(embedding_matrix),\n",
    "    input_length=tweet_length,\n",
    "    trainable=False,\n",
    ")"
   ]
  },
  {
   "cell_type": "code",
   "execution_count": 442,
   "metadata": {},
   "outputs": [
    {
     "name": "stdout",
     "output_type": "stream",
     "text": [
      "Model: \"sequential_33\"\n",
      "_________________________________________________________________\n",
      "Layer (type)                 Output Shape              Param #   \n",
      "=================================================================\n",
      "embedding_27 (Embedding)     (None, 30, 100)           300400    \n",
      "_________________________________________________________________\n",
      "flatten_24 (Flatten)         (None, 3000)              0         \n",
      "_________________________________________________________________\n",
      "dense_57 (Dense)             (None, 8)                 24008     \n",
      "_________________________________________________________________\n",
      "dense_58 (Dense)             (None, 1)                 9         \n",
      "=================================================================\n",
      "Total params: 324,417\n",
      "Trainable params: 24,017\n",
      "Non-trainable params: 300,400\n",
      "_________________________________________________________________\n",
      "None\n"
     ]
    }
   ],
   "source": [
    "model_name = 'simple NN - GLoVe embedding'\n",
    "\n",
    "model = Sequential()\n",
    "\n",
    "model.add(embedding_layer)\n",
    "model.add(Flatten())\n",
    "model.add(Dense(8,activation='relu'))\n",
    "model.add(Dense(1,activation='sigmoid'))\n",
    "model.compile(loss = 'binary_crossentropy', optimizer='adam',metrics = ['accuracy','AUC'])\n",
    "print(model.summary())"
   ]
  },
  {
   "cell_type": "code",
   "execution_count": 443,
   "metadata": {},
   "outputs": [
    {
     "name": "stdout",
     "output_type": "stream",
     "text": [
      "Epoch 1/30\n",
      "1/1 [==============================] - 0s 269ms/step - loss: 0.7413 - accuracy: 0.4613 - auc: 0.4289 - val_loss: 0.7007 - val_accuracy: 0.4950 - val_auc: 0.5034\n",
      "Epoch 2/30\n",
      "1/1 [==============================] - 0s 20ms/step - loss: 0.7021 - accuracy: 0.5138 - auc: 0.5186 - val_loss: 0.6925 - val_accuracy: 0.5150 - val_auc: 0.5384\n",
      "Epoch 3/30\n",
      "1/1 [==============================] - 0s 20ms/step - loss: 0.6715 - accuracy: 0.5825 - auc: 0.6201 - val_loss: 0.6859 - val_accuracy: 0.5250 - val_auc: 0.5688\n",
      "Epoch 4/30\n",
      "1/1 [==============================] - 0s 17ms/step - loss: 0.6459 - accuracy: 0.6463 - auc: 0.7031 - val_loss: 0.6803 - val_accuracy: 0.5400 - val_auc: 0.5885\n",
      "Epoch 5/30\n",
      "1/1 [==============================] - 0s 10ms/step - loss: 0.6222 - accuracy: 0.6800 - auc: 0.7619 - val_loss: 0.6750 - val_accuracy: 0.5650 - val_auc: 0.6033\n",
      "Epoch 6/30\n",
      "1/1 [==============================] - 0s 17ms/step - loss: 0.5987 - accuracy: 0.7163 - auc: 0.8059 - val_loss: 0.6694 - val_accuracy: 0.5900 - val_auc: 0.6163\n",
      "Epoch 7/30\n",
      "1/1 [==============================] - 0s 20ms/step - loss: 0.5747 - accuracy: 0.7487 - auc: 0.8402 - val_loss: 0.6645 - val_accuracy: 0.5950 - val_auc: 0.6293\n",
      "Epoch 8/30\n",
      "1/1 [==============================] - 0s 20ms/step - loss: 0.5509 - accuracy: 0.7750 - auc: 0.8666 - val_loss: 0.6605 - val_accuracy: 0.6050 - val_auc: 0.6387\n",
      "Epoch 9/30\n",
      "1/1 [==============================] - 0s 21ms/step - loss: 0.5284 - accuracy: 0.8087 - auc: 0.8871 - val_loss: 0.6575 - val_accuracy: 0.6050 - val_auc: 0.6420\n",
      "Epoch 10/30\n",
      "1/1 [==============================] - 0s 20ms/step - loss: 0.5072 - accuracy: 0.8238 - auc: 0.9010 - val_loss: 0.6553 - val_accuracy: 0.5850 - val_auc: 0.6472\n",
      "Epoch 11/30\n",
      "1/1 [==============================] - 0s 20ms/step - loss: 0.4868 - accuracy: 0.8350 - auc: 0.9131 - val_loss: 0.6529 - val_accuracy: 0.6000 - val_auc: 0.6535\n",
      "Epoch 12/30\n",
      "1/1 [==============================] - 0s 10ms/step - loss: 0.4673 - accuracy: 0.8413 - auc: 0.9226 - val_loss: 0.6513 - val_accuracy: 0.6150 - val_auc: 0.6569\n",
      "Epoch 13/30\n",
      "1/1 [==============================] - 0s 17ms/step - loss: 0.4490 - accuracy: 0.8413 - auc: 0.9310 - val_loss: 0.6502 - val_accuracy: 0.6200 - val_auc: 0.6604\n",
      "Epoch 14/30\n",
      "1/1 [==============================] - 0s 20ms/step - loss: 0.4317 - accuracy: 0.8512 - auc: 0.9381 - val_loss: 0.6495 - val_accuracy: 0.6150 - val_auc: 0.6644\n",
      "Epoch 15/30\n",
      "1/1 [==============================] - 0s 14ms/step - loss: 0.4150 - accuracy: 0.8600 - auc: 0.9453 - val_loss: 0.6491 - val_accuracy: 0.6050 - val_auc: 0.6683\n",
      "Epoch 16/30\n",
      "1/1 [==============================] - 0s 20ms/step - loss: 0.3990 - accuracy: 0.8737 - auc: 0.9520 - val_loss: 0.6489 - val_accuracy: 0.6100 - val_auc: 0.6705\n",
      "Epoch 17/30\n",
      "1/1 [==============================] - 0s 27ms/step - loss: 0.3837 - accuracy: 0.8900 - auc: 0.9579 - val_loss: 0.6489 - val_accuracy: 0.6150 - val_auc: 0.6707\n",
      "Epoch 18/30\n",
      "1/1 [==============================] - 0s 20ms/step - loss: 0.3692 - accuracy: 0.8950 - auc: 0.9629 - val_loss: 0.6487 - val_accuracy: 0.6100 - val_auc: 0.6756\n",
      "Epoch 19/30\n",
      "1/1 [==============================] - 0s 20ms/step - loss: 0.3553 - accuracy: 0.9025 - auc: 0.9674 - val_loss: 0.6484 - val_accuracy: 0.6100 - val_auc: 0.6776\n",
      "Epoch 20/30\n",
      "1/1 [==============================] - 0s 21ms/step - loss: 0.3420 - accuracy: 0.9075 - auc: 0.9712 - val_loss: 0.6482 - val_accuracy: 0.6150 - val_auc: 0.6803\n",
      "Epoch 21/30\n",
      "1/1 [==============================] - 0s 19ms/step - loss: 0.3295 - accuracy: 0.9100 - auc: 0.9745 - val_loss: 0.6483 - val_accuracy: 0.6200 - val_auc: 0.6820\n",
      "Epoch 22/30\n",
      "1/1 [==============================] - 0s 20ms/step - loss: 0.3177 - accuracy: 0.9162 - auc: 0.9774 - val_loss: 0.6489 - val_accuracy: 0.6200 - val_auc: 0.6836\n",
      "Epoch 23/30\n",
      "1/1 [==============================] - 0s 19ms/step - loss: 0.3065 - accuracy: 0.9287 - auc: 0.9800 - val_loss: 0.6498 - val_accuracy: 0.6150 - val_auc: 0.6850\n",
      "Epoch 24/30\n",
      "1/1 [==============================] - 0s 20ms/step - loss: 0.2958 - accuracy: 0.9337 - auc: 0.9821 - val_loss: 0.6512 - val_accuracy: 0.6050 - val_auc: 0.6869\n",
      "Epoch 25/30\n",
      "1/1 [==============================] - 0s 19ms/step - loss: 0.2856 - accuracy: 0.9362 - auc: 0.9842 - val_loss: 0.6529 - val_accuracy: 0.6200 - val_auc: 0.6880\n",
      "Epoch 26/30\n",
      "1/1 [==============================] - 0s 20ms/step - loss: 0.2761 - accuracy: 0.9413 - auc: 0.9859 - val_loss: 0.6549 - val_accuracy: 0.6200 - val_auc: 0.6881\n",
      "Epoch 27/30\n",
      "1/1 [==============================] - 0s 19ms/step - loss: 0.2670 - accuracy: 0.9463 - auc: 0.9872 - val_loss: 0.6571 - val_accuracy: 0.6200 - val_auc: 0.6891\n",
      "Epoch 28/30\n",
      "1/1 [==============================] - 0s 20ms/step - loss: 0.2583 - accuracy: 0.9475 - auc: 0.9885 - val_loss: 0.6597 - val_accuracy: 0.6100 - val_auc: 0.6894\n",
      "Epoch 29/30\n",
      "1/1 [==============================] - 0s 20ms/step - loss: 0.2501 - accuracy: 0.9500 - auc: 0.9895 - val_loss: 0.6626 - val_accuracy: 0.6050 - val_auc: 0.6888\n",
      "Epoch 30/30\n",
      "1/1 [==============================] - 0s 20ms/step - loss: 0.2422 - accuracy: 0.9538 - auc: 0.9906 - val_loss: 0.6658 - val_accuracy: 0.6050 - val_auc: 0.6889\n"
     ]
    }
   ],
   "source": [
    "start = time.time()\n",
    "hist = model.fit(X_train_vect, y_train, batch_size=1024, epochs=30, validation_data=(X_test_vect, y_test))\n",
    "stop = time.time()"
   ]
  },
  {
   "cell_type": "code",
   "execution_count": 444,
   "metadata": {},
   "outputs": [],
   "source": [
    "models_performances = models_performances.append(\n",
    "    pd.Series(data={'total training time': stop-start,\n",
    "              'AUC': max(hist.history['val_auc']),\n",
    "              'Accuracy': max(hist.history['val_accuracy']),\n",
    "              'Epoch max reach': hist.history['val_accuracy'].index(max(hist.history['val_accuracy'])),\n",
    "              'training time to opt' : (stop-start)*hist.history['val_accuracy'].index(max(hist.history['val_accuracy']))/len(hist.history['val_accuracy'])},\n",
    "              name=model_name)\n",
    ")"
   ]
  },
  {
   "cell_type": "code",
   "execution_count": 445,
   "metadata": {},
   "outputs": [
    {
     "data": {
      "text/html": [
       "<div>\n",
       "<style scoped>\n",
       "    .dataframe tbody tr th:only-of-type {\n",
       "        vertical-align: middle;\n",
       "    }\n",
       "\n",
       "    .dataframe tbody tr th {\n",
       "        vertical-align: top;\n",
       "    }\n",
       "\n",
       "    .dataframe thead th {\n",
       "        text-align: right;\n",
       "    }\n",
       "</style>\n",
       "<table border=\"1\" class=\"dataframe\">\n",
       "  <thead>\n",
       "    <tr style=\"text-align: right;\">\n",
       "      <th></th>\n",
       "      <th>AUC</th>\n",
       "      <th>Accuracy</th>\n",
       "      <th>Epoch max reach</th>\n",
       "      <th>total training time</th>\n",
       "      <th>training time to opt</th>\n",
       "    </tr>\n",
       "  </thead>\n",
       "  <tbody>\n",
       "    <tr>\n",
       "      <th>simple NN - raw text</th>\n",
       "      <td>0.565709</td>\n",
       "      <td>0.545</td>\n",
       "      <td>13.0</td>\n",
       "      <td>1.864824</td>\n",
       "      <td>1.616180</td>\n",
       "    </tr>\n",
       "    <tr>\n",
       "      <th>simple NN - Basic preprocessing</th>\n",
       "      <td>0.552197</td>\n",
       "      <td>0.580</td>\n",
       "      <td>14.0</td>\n",
       "      <td>1.833601</td>\n",
       "      <td>1.711361</td>\n",
       "    </tr>\n",
       "    <tr>\n",
       "      <th>simple NN - Stemming</th>\n",
       "      <td>0.595386</td>\n",
       "      <td>0.605</td>\n",
       "      <td>13.0</td>\n",
       "      <td>1.769638</td>\n",
       "      <td>1.533687</td>\n",
       "    </tr>\n",
       "    <tr>\n",
       "      <th>simple NN - Lemmatization</th>\n",
       "      <td>0.575568</td>\n",
       "      <td>0.565</td>\n",
       "      <td>11.0</td>\n",
       "      <td>3.058595</td>\n",
       "      <td>2.242970</td>\n",
       "    </tr>\n",
       "    <tr>\n",
       "      <th>simple NN - GLoVe embedding</th>\n",
       "      <td>0.689370</td>\n",
       "      <td>0.620</td>\n",
       "      <td>12.0</td>\n",
       "      <td>2.257652</td>\n",
       "      <td>0.903061</td>\n",
       "    </tr>\n",
       "  </tbody>\n",
       "</table>\n",
       "</div>"
      ],
      "text/plain": [
       "                                      AUC  Accuracy  Epoch max reach  \\\n",
       "simple NN - raw text             0.565709     0.545             13.0   \n",
       "simple NN - Basic preprocessing  0.552197     0.580             14.0   \n",
       "simple NN - Stemming             0.595386     0.605             13.0   \n",
       "simple NN - Lemmatization        0.575568     0.565             11.0   \n",
       "simple NN - GLoVe embedding      0.689370     0.620             12.0   \n",
       "\n",
       "                                 total training time  training time to opt  \n",
       "simple NN - raw text                        1.864824              1.616180  \n",
       "simple NN - Basic preprocessing             1.833601              1.711361  \n",
       "simple NN - Stemming                        1.769638              1.533687  \n",
       "simple NN - Lemmatization                   3.058595              2.242970  \n",
       "simple NN - GLoVe embedding                 2.257652              0.903061  "
      ]
     },
     "execution_count": 445,
     "metadata": {},
     "output_type": "execute_result"
    }
   ],
   "source": [
    "models_performances"
   ]
  },
  {
   "cell_type": "markdown",
   "metadata": {},
   "source": [
    "## Recurrent Neural Network"
   ]
  },
  {
   "cell_type": "code",
   "execution_count": 446,
   "metadata": {},
   "outputs": [],
   "source": [
    "from keras.layers import LSTM"
   ]
  },
  {
   "cell_type": "code",
   "execution_count": 447,
   "metadata": {},
   "outputs": [
    {
     "name": "stdout",
     "output_type": "stream",
     "text": [
      "Model: \"sequential_34\"\n",
      "_________________________________________________________________\n",
      "Layer (type)                 Output Shape              Param #   \n",
      "=================================================================\n",
      "embedding_28 (Embedding)     (None, 30, 100)           300200    \n",
      "_________________________________________________________________\n",
      "lstm_9 (LSTM)                (None, 64)                42240     \n",
      "_________________________________________________________________\n",
      "dense_59 (Dense)             (None, 1)                 65        \n",
      "=================================================================\n",
      "Total params: 342,505\n",
      "Trainable params: 342,505\n",
      "Non-trainable params: 0\n",
      "_________________________________________________________________\n",
      "None\n"
     ]
    }
   ],
   "source": [
    "model_name = 'LSTM - Own embedding '\n",
    "\n",
    "lstm_out=64\n",
    "\n",
    "model = Sequential()\n",
    "model.add(Embedding(len(voc),100 ,input_length = tweet_length))\n",
    "model.add(LSTM(lstm_out,dropout=0.4))\n",
    "#model.add(Dense(8,activation='relu'))\n",
    "model.add(Dense(1,activation='sigmoid'))\n",
    "model.compile(loss = 'binary_crossentropy', optimizer='adam',metrics = ['accuracy','AUC'])\n",
    "print(model.summary())"
   ]
  },
  {
   "cell_type": "code",
   "execution_count": 448,
   "metadata": {},
   "outputs": [
    {
     "name": "stdout",
     "output_type": "stream",
     "text": [
      "Epoch 1/30\n",
      "1/1 [==============================] - 5s 5s/step - loss: 0.6930 - accuracy: 0.5138 - auc: 0.4902 - val_loss: 0.6929 - val_accuracy: 0.5150 - val_auc: 0.4948\n",
      "Epoch 2/30\n",
      "1/1 [==============================] - 0s 60ms/step - loss: 0.6930 - accuracy: 0.5138 - auc: 0.4969 - val_loss: 0.6927 - val_accuracy: 0.5150 - val_auc: 0.4903\n",
      "Epoch 3/30\n",
      "1/1 [==============================] - 0s 60ms/step - loss: 0.6925 - accuracy: 0.5138 - auc: 0.5386 - val_loss: 0.6926 - val_accuracy: 0.5150 - val_auc: 0.4951\n",
      "Epoch 4/30\n",
      "1/1 [==============================] - 0s 50ms/step - loss: 0.6926 - accuracy: 0.5138 - auc: 0.5075 - val_loss: 0.6925 - val_accuracy: 0.5150 - val_auc: 0.5241\n",
      "Epoch 5/30\n",
      "1/1 [==============================] - 0s 60ms/step - loss: 0.6922 - accuracy: 0.5138 - auc: 0.5671 - val_loss: 0.6923 - val_accuracy: 0.5150 - val_auc: 0.5443\n",
      "Epoch 6/30\n",
      "1/1 [==============================] - 0s 50ms/step - loss: 0.6918 - accuracy: 0.5138 - auc: 0.5465 - val_loss: 0.6921 - val_accuracy: 0.5150 - val_auc: 0.5272\n",
      "Epoch 7/30\n",
      "1/1 [==============================] - 0s 48ms/step - loss: 0.6916 - accuracy: 0.5138 - auc: 0.5749 - val_loss: 0.6918 - val_accuracy: 0.5150 - val_auc: 0.5426\n",
      "Epoch 8/30\n",
      "1/1 [==============================] - 0s 45ms/step - loss: 0.6912 - accuracy: 0.5100 - auc: 0.5618 - val_loss: 0.6915 - val_accuracy: 0.5150 - val_auc: 0.5344\n",
      "Epoch 9/30\n",
      "1/1 [==============================] - 0s 46ms/step - loss: 0.6901 - accuracy: 0.5300 - auc: 0.5877 - val_loss: 0.6911 - val_accuracy: 0.5100 - val_auc: 0.5407\n",
      "Epoch 10/30\n",
      "1/1 [==============================] - 0s 50ms/step - loss: 0.6895 - accuracy: 0.5238 - auc: 0.5770 - val_loss: 0.6905 - val_accuracy: 0.5150 - val_auc: 0.5515\n",
      "Epoch 11/30\n",
      "1/1 [==============================] - 0s 50ms/step - loss: 0.6887 - accuracy: 0.5387 - auc: 0.5696 - val_loss: 0.6899 - val_accuracy: 0.5200 - val_auc: 0.5438\n",
      "Epoch 12/30\n",
      "1/1 [==============================] - 0s 50ms/step - loss: 0.6870 - accuracy: 0.5487 - auc: 0.5812 - val_loss: 0.6890 - val_accuracy: 0.5300 - val_auc: 0.5513\n",
      "Epoch 13/30\n",
      "1/1 [==============================] - 0s 60ms/step - loss: 0.6838 - accuracy: 0.5663 - auc: 0.6029 - val_loss: 0.6880 - val_accuracy: 0.5450 - val_auc: 0.5507\n",
      "Epoch 14/30\n",
      "1/1 [==============================] - 0s 44ms/step - loss: 0.6807 - accuracy: 0.5738 - auc: 0.6146 - val_loss: 0.6868 - val_accuracy: 0.5250 - val_auc: 0.5578\n",
      "Epoch 15/30\n",
      "1/1 [==============================] - 0s 50ms/step - loss: 0.6761 - accuracy: 0.5763 - auc: 0.6237 - val_loss: 0.6854 - val_accuracy: 0.5350 - val_auc: 0.5620\n",
      "Epoch 16/30\n",
      "1/1 [==============================] - 0s 45ms/step - loss: 0.6702 - accuracy: 0.5825 - auc: 0.6330 - val_loss: 0.6838 - val_accuracy: 0.5450 - val_auc: 0.5687\n",
      "Epoch 17/30\n",
      "1/1 [==============================] - 0s 46ms/step - loss: 0.6595 - accuracy: 0.5938 - auc: 0.6589 - val_loss: 0.6821 - val_accuracy: 0.5500 - val_auc: 0.5732\n",
      "Epoch 18/30\n",
      "1/1 [==============================] - 0s 50ms/step - loss: 0.6465 - accuracy: 0.6100 - auc: 0.6829 - val_loss: 0.6801 - val_accuracy: 0.5600 - val_auc: 0.5856\n",
      "Epoch 19/30\n",
      "1/1 [==============================] - 0s 65ms/step - loss: 0.6246 - accuracy: 0.6250 - auc: 0.7192 - val_loss: 0.6780 - val_accuracy: 0.5750 - val_auc: 0.5998\n",
      "Epoch 20/30\n",
      "1/1 [==============================] - 0s 50ms/step - loss: 0.5937 - accuracy: 0.6862 - auc: 0.7609 - val_loss: 0.6763 - val_accuracy: 0.6000 - val_auc: 0.6146\n",
      "Epoch 21/30\n",
      "1/1 [==============================] - 0s 50ms/step - loss: 0.5544 - accuracy: 0.7150 - auc: 0.7994 - val_loss: 0.6769 - val_accuracy: 0.5900 - val_auc: 0.6290\n",
      "Epoch 22/30\n",
      "1/1 [==============================] - 0s 50ms/step - loss: 0.4980 - accuracy: 0.7675 - auc: 0.8530 - val_loss: 0.6826 - val_accuracy: 0.6000 - val_auc: 0.6487\n",
      "Epoch 23/30\n",
      "1/1 [==============================] - 0s 50ms/step - loss: 0.4345 - accuracy: 0.8037 - auc: 0.8964 - val_loss: 0.6949 - val_accuracy: 0.6350 - val_auc: 0.6707\n",
      "Epoch 24/30\n",
      "1/1 [==============================] - 0s 40ms/step - loss: 0.3735 - accuracy: 0.8462 - auc: 0.9308 - val_loss: 0.7145 - val_accuracy: 0.6550 - val_auc: 0.6850\n",
      "Epoch 25/30\n",
      "1/1 [==============================] - 0s 45ms/step - loss: 0.3042 - accuracy: 0.8913 - auc: 0.9566 - val_loss: 0.7528 - val_accuracy: 0.6450 - val_auc: 0.6984\n",
      "Epoch 26/30\n",
      "1/1 [==============================] - 0s 52ms/step - loss: 0.2408 - accuracy: 0.9212 - auc: 0.9734 - val_loss: 0.8036 - val_accuracy: 0.6450 - val_auc: 0.7066\n",
      "Epoch 27/30\n",
      "1/1 [==============================] - 0s 50ms/step - loss: 0.2154 - accuracy: 0.9362 - auc: 0.9775 - val_loss: 0.8574 - val_accuracy: 0.6450 - val_auc: 0.7122\n",
      "Epoch 28/30\n",
      "1/1 [==============================] - 0s 50ms/step - loss: 0.1874 - accuracy: 0.9362 - auc: 0.9832 - val_loss: 0.9117 - val_accuracy: 0.6300 - val_auc: 0.7079\n",
      "Epoch 29/30\n",
      "1/1 [==============================] - 0s 50ms/step - loss: 0.1691 - accuracy: 0.9500 - auc: 0.9883 - val_loss: 0.9759 - val_accuracy: 0.6300 - val_auc: 0.7081\n",
      "Epoch 30/30\n",
      "1/1 [==============================] - 0s 40ms/step - loss: 0.1588 - accuracy: 0.9500 - auc: 0.9883 - val_loss: 1.0302 - val_accuracy: 0.6250 - val_auc: 0.7070\n"
     ]
    }
   ],
   "source": [
    "start = time.time()\n",
    "hist = model.fit(X_train_vect, y_train, batch_size=1024, epochs=30, validation_data=(X_test_vect, y_test))\n",
    "stop = time.time()"
   ]
  },
  {
   "cell_type": "code",
   "execution_count": 449,
   "metadata": {},
   "outputs": [],
   "source": [
    "models_performances = models_performances.append(\n",
    "    pd.Series(data={'total training time': stop-start,\n",
    "              'AUC': max(hist.history['val_auc']),\n",
    "              'Accuracy': max(hist.history['val_accuracy']),\n",
    "              'Epoch max reach': hist.history['val_accuracy'].index(max(hist.history['val_accuracy'])),\n",
    "              'training time to opt' : (stop-start)*hist.history['val_accuracy'].index(max(hist.history['val_accuracy']))/len(hist.history['val_accuracy'])},\n",
    "              name=model_name)\n",
    ")"
   ]
  },
  {
   "cell_type": "code",
   "execution_count": 450,
   "metadata": {},
   "outputs": [
    {
     "data": {
      "text/html": [
       "<div>\n",
       "<style scoped>\n",
       "    .dataframe tbody tr th:only-of-type {\n",
       "        vertical-align: middle;\n",
       "    }\n",
       "\n",
       "    .dataframe tbody tr th {\n",
       "        vertical-align: top;\n",
       "    }\n",
       "\n",
       "    .dataframe thead th {\n",
       "        text-align: right;\n",
       "    }\n",
       "</style>\n",
       "<table border=\"1\" class=\"dataframe\">\n",
       "  <thead>\n",
       "    <tr style=\"text-align: right;\">\n",
       "      <th></th>\n",
       "      <th>AUC</th>\n",
       "      <th>Accuracy</th>\n",
       "      <th>Epoch max reach</th>\n",
       "      <th>total training time</th>\n",
       "      <th>training time to opt</th>\n",
       "    </tr>\n",
       "  </thead>\n",
       "  <tbody>\n",
       "    <tr>\n",
       "      <th>simple NN - raw text</th>\n",
       "      <td>0.565709</td>\n",
       "      <td>0.545</td>\n",
       "      <td>13.0</td>\n",
       "      <td>1.864824</td>\n",
       "      <td>1.616180</td>\n",
       "    </tr>\n",
       "    <tr>\n",
       "      <th>simple NN - Basic preprocessing</th>\n",
       "      <td>0.552197</td>\n",
       "      <td>0.580</td>\n",
       "      <td>14.0</td>\n",
       "      <td>1.833601</td>\n",
       "      <td>1.711361</td>\n",
       "    </tr>\n",
       "    <tr>\n",
       "      <th>simple NN - Stemming</th>\n",
       "      <td>0.595386</td>\n",
       "      <td>0.605</td>\n",
       "      <td>13.0</td>\n",
       "      <td>1.769638</td>\n",
       "      <td>1.533687</td>\n",
       "    </tr>\n",
       "    <tr>\n",
       "      <th>simple NN - Lemmatization</th>\n",
       "      <td>0.575568</td>\n",
       "      <td>0.565</td>\n",
       "      <td>11.0</td>\n",
       "      <td>3.058595</td>\n",
       "      <td>2.242970</td>\n",
       "    </tr>\n",
       "    <tr>\n",
       "      <th>simple NN - GLoVe embedding</th>\n",
       "      <td>0.689370</td>\n",
       "      <td>0.620</td>\n",
       "      <td>12.0</td>\n",
       "      <td>2.257652</td>\n",
       "      <td>0.903061</td>\n",
       "    </tr>\n",
       "    <tr>\n",
       "      <th>LSTM - Own embedding</th>\n",
       "      <td>0.712241</td>\n",
       "      <td>0.655</td>\n",
       "      <td>23.0</td>\n",
       "      <td>21.925077</td>\n",
       "      <td>16.809226</td>\n",
       "    </tr>\n",
       "  </tbody>\n",
       "</table>\n",
       "</div>"
      ],
      "text/plain": [
       "                                      AUC  Accuracy  Epoch max reach  \\\n",
       "simple NN - raw text             0.565709     0.545             13.0   \n",
       "simple NN - Basic preprocessing  0.552197     0.580             14.0   \n",
       "simple NN - Stemming             0.595386     0.605             13.0   \n",
       "simple NN - Lemmatization        0.575568     0.565             11.0   \n",
       "simple NN - GLoVe embedding      0.689370     0.620             12.0   \n",
       "LSTM - Own embedding             0.712241     0.655             23.0   \n",
       "\n",
       "                                 total training time  training time to opt  \n",
       "simple NN - raw text                        1.864824              1.616180  \n",
       "simple NN - Basic preprocessing             1.833601              1.711361  \n",
       "simple NN - Stemming                        1.769638              1.533687  \n",
       "simple NN - Lemmatization                   3.058595              2.242970  \n",
       "simple NN - GLoVe embedding                 2.257652              0.903061  \n",
       "LSTM - Own embedding                       21.925077             16.809226  "
      ]
     },
     "execution_count": 450,
     "metadata": {},
     "output_type": "execute_result"
    }
   ],
   "source": [
    "models_performances"
   ]
  },
  {
   "cell_type": "markdown",
   "metadata": {},
   "source": [
    "### With GLoVe embedding"
   ]
  },
  {
   "cell_type": "code",
   "execution_count": 451,
   "metadata": {},
   "outputs": [
    {
     "name": "stdout",
     "output_type": "stream",
     "text": [
      "Model: \"sequential_35\"\n",
      "_________________________________________________________________\n",
      "Layer (type)                 Output Shape              Param #   \n",
      "=================================================================\n",
      "embedding_27 (Embedding)     (None, 30, 100)           300400    \n",
      "_________________________________________________________________\n",
      "lstm_10 (LSTM)               (None, 64)                42240     \n",
      "_________________________________________________________________\n",
      "dense_60 (Dense)             (None, 1)                 65        \n",
      "=================================================================\n",
      "Total params: 342,705\n",
      "Trainable params: 42,305\n",
      "Non-trainable params: 300,400\n",
      "_________________________________________________________________\n",
      "None\n"
     ]
    }
   ],
   "source": [
    "model_name = 'LSTM - GLoVe embedding'\n",
    "\n",
    "lstm_out=64\n",
    "\n",
    "model = Sequential()\n",
    "#model.add(Embedding(len(voc),100 ,input_length = tweet_length))\n",
    "model.add(embedding_layer)\n",
    "model.add(LSTM(lstm_out,dropout=0.2))\n",
    "#model.add(Dense(8,activation='relu'))\n",
    "model.add(Dense(1,activation='sigmoid'))\n",
    "model.compile(loss = 'binary_crossentropy', optimizer='adam',metrics = ['accuracy','AUC'])\n",
    "print(model.summary())"
   ]
  },
  {
   "cell_type": "code",
   "execution_count": 452,
   "metadata": {},
   "outputs": [
    {
     "name": "stdout",
     "output_type": "stream",
     "text": [
      "Epoch 1/30\n",
      "1/1 [==============================] - 1s 860ms/step - loss: 0.6919 - accuracy: 0.5325 - auc: 0.5297 - val_loss: 0.6887 - val_accuracy: 0.5150 - val_auc: 0.5816\n",
      "Epoch 2/30\n",
      "1/1 [==============================] - 0s 47ms/step - loss: 0.6903 - accuracy: 0.5138 - auc: 0.5592 - val_loss: 0.6869 - val_accuracy: 0.5150 - val_auc: 0.5605\n",
      "Epoch 3/30\n",
      "1/1 [==============================] - 0s 50ms/step - loss: 0.6890 - accuracy: 0.5113 - auc: 0.5526 - val_loss: 0.6855 - val_accuracy: 0.5150 - val_auc: 0.5723\n",
      "Epoch 4/30\n",
      "1/1 [==============================] - 0s 49ms/step - loss: 0.6877 - accuracy: 0.5125 - auc: 0.5646 - val_loss: 0.6844 - val_accuracy: 0.5150 - val_auc: 0.5700\n",
      "Epoch 5/30\n",
      "1/1 [==============================] - 0s 45ms/step - loss: 0.6872 - accuracy: 0.5125 - auc: 0.5732 - val_loss: 0.6831 - val_accuracy: 0.5200 - val_auc: 0.5720\n",
      "Epoch 6/30\n",
      "1/1 [==============================] - 0s 45ms/step - loss: 0.6861 - accuracy: 0.5163 - auc: 0.5747 - val_loss: 0.6816 - val_accuracy: 0.5150 - val_auc: 0.5900\n",
      "Epoch 7/30\n",
      "1/1 [==============================] - 0s 49ms/step - loss: 0.6842 - accuracy: 0.5562 - auc: 0.5839 - val_loss: 0.6797 - val_accuracy: 0.5600 - val_auc: 0.5943\n",
      "Epoch 8/30\n",
      "1/1 [==============================] - 0s 40ms/step - loss: 0.6831 - accuracy: 0.5587 - auc: 0.5930 - val_loss: 0.6774 - val_accuracy: 0.5800 - val_auc: 0.6033\n",
      "Epoch 9/30\n",
      "1/1 [==============================] - 0s 60ms/step - loss: 0.6800 - accuracy: 0.5663 - auc: 0.6171 - val_loss: 0.6747 - val_accuracy: 0.6050 - val_auc: 0.6472\n",
      "Epoch 10/30\n",
      "1/1 [==============================] - 0s 50ms/step - loss: 0.6780 - accuracy: 0.5763 - auc: 0.6346 - val_loss: 0.6714 - val_accuracy: 0.6000 - val_auc: 0.6661\n",
      "Epoch 11/30\n",
      "1/1 [==============================] - 0s 53ms/step - loss: 0.6750 - accuracy: 0.5938 - auc: 0.6628 - val_loss: 0.6673 - val_accuracy: 0.6000 - val_auc: 0.6830\n",
      "Epoch 12/30\n",
      "1/1 [==============================] - 0s 46ms/step - loss: 0.6718 - accuracy: 0.6075 - auc: 0.6848 - val_loss: 0.6616 - val_accuracy: 0.6100 - val_auc: 0.6992\n",
      "Epoch 13/30\n",
      "1/1 [==============================] - 0s 50ms/step - loss: 0.6659 - accuracy: 0.6338 - auc: 0.7007 - val_loss: 0.6537 - val_accuracy: 0.6350 - val_auc: 0.7149\n",
      "Epoch 14/30\n",
      "1/1 [==============================] - 0s 50ms/step - loss: 0.6593 - accuracy: 0.6463 - auc: 0.7137 - val_loss: 0.6437 - val_accuracy: 0.6550 - val_auc: 0.7195\n",
      "Epoch 15/30\n",
      "1/1 [==============================] - 0s 40ms/step - loss: 0.6524 - accuracy: 0.6500 - auc: 0.7130 - val_loss: 0.6317 - val_accuracy: 0.6750 - val_auc: 0.7358\n",
      "Epoch 16/30\n",
      "1/1 [==============================] - 0s 50ms/step - loss: 0.6416 - accuracy: 0.6650 - auc: 0.7304 - val_loss: 0.6174 - val_accuracy: 0.6800 - val_auc: 0.7457\n",
      "Epoch 17/30\n",
      "1/1 [==============================] - 0s 46ms/step - loss: 0.6303 - accuracy: 0.6812 - auc: 0.7434 - val_loss: 0.6010 - val_accuracy: 0.7050 - val_auc: 0.7622\n",
      "Epoch 18/30\n",
      "1/1 [==============================] - 0s 50ms/step - loss: 0.6146 - accuracy: 0.6988 - auc: 0.7589 - val_loss: 0.5879 - val_accuracy: 0.6950 - val_auc: 0.7760\n",
      "Epoch 19/30\n",
      "1/1 [==============================] - 0s 50ms/step - loss: 0.6064 - accuracy: 0.6800 - auc: 0.7549 - val_loss: 0.5796 - val_accuracy: 0.7000 - val_auc: 0.7761\n",
      "Epoch 20/30\n",
      "1/1 [==============================] - 0s 44ms/step - loss: 0.5845 - accuracy: 0.7050 - auc: 0.7710 - val_loss: 0.5747 - val_accuracy: 0.7000 - val_auc: 0.7774\n",
      "Epoch 21/30\n",
      "1/1 [==============================] - 0s 45ms/step - loss: 0.5796 - accuracy: 0.7163 - auc: 0.7698 - val_loss: 0.5705 - val_accuracy: 0.6950 - val_auc: 0.7745\n",
      "Epoch 22/30\n",
      "1/1 [==============================] - 0s 45ms/step - loss: 0.5773 - accuracy: 0.7013 - auc: 0.7783 - val_loss: 0.5908 - val_accuracy: 0.6750 - val_auc: 0.7630\n",
      "Epoch 23/30\n",
      "1/1 [==============================] - 0s 40ms/step - loss: 0.5764 - accuracy: 0.6975 - auc: 0.7741 - val_loss: 0.5879 - val_accuracy: 0.6950 - val_auc: 0.7627\n",
      "Epoch 24/30\n",
      "1/1 [==============================] - 0s 45ms/step - loss: 0.5646 - accuracy: 0.7100 - auc: 0.7848 - val_loss: 0.5801 - val_accuracy: 0.6950 - val_auc: 0.7693\n",
      "Epoch 25/30\n",
      "1/1 [==============================] - 0s 40ms/step - loss: 0.5601 - accuracy: 0.7300 - auc: 0.7929 - val_loss: 0.5735 - val_accuracy: 0.7000 - val_auc: 0.7738\n",
      "Epoch 26/30\n",
      "1/1 [==============================] - 0s 45ms/step - loss: 0.5465 - accuracy: 0.7188 - auc: 0.8073 - val_loss: 0.5831 - val_accuracy: 0.7000 - val_auc: 0.7699\n",
      "Epoch 27/30\n",
      "1/1 [==============================] - 0s 55ms/step - loss: 0.5389 - accuracy: 0.7400 - auc: 0.8046 - val_loss: 0.5912 - val_accuracy: 0.6900 - val_auc: 0.7656\n",
      "Epoch 28/30\n",
      "1/1 [==============================] - 0s 50ms/step - loss: 0.5325 - accuracy: 0.7412 - auc: 0.8226 - val_loss: 0.5763 - val_accuracy: 0.6950 - val_auc: 0.7673\n",
      "Epoch 29/30\n",
      "1/1 [==============================] - 0s 48ms/step - loss: 0.5321 - accuracy: 0.7300 - auc: 0.8142 - val_loss: 0.5756 - val_accuracy: 0.6700 - val_auc: 0.7624\n",
      "Epoch 30/30\n",
      "1/1 [==============================] - 0s 56ms/step - loss: 0.5271 - accuracy: 0.7412 - auc: 0.8196 - val_loss: 0.5764 - val_accuracy: 0.6750 - val_auc: 0.7592\n"
     ]
    }
   ],
   "source": [
    "start = time.time()\n",
    "hist = model.fit(X_train_vect, y_train, batch_size=1024, epochs=30, validation_data=(X_test_vect, y_test))\n",
    "stop = time.time()"
   ]
  },
  {
   "cell_type": "code",
   "execution_count": 453,
   "metadata": {},
   "outputs": [
    {
     "data": {
      "text/plain": [
       "[]"
      ]
     },
     "execution_count": 453,
     "metadata": {},
     "output_type": "execute_result"
    },
    {
     "data": {
      "image/png": "[encoded data removed]",
      "text/plain": [
       "<Figure size 432x288 with 1 Axes>"
      ]
     },
     "metadata": {},
     "output_type": "display_data"
    }
   ],
   "source": [
    "import seaborn as sns\n",
    "import matplotlib.pyplot as plt\n",
    "%matplotlib inline\n",
    "\n",
    "sns.set()\n",
    "acc = hist.history['accuracy']\n",
    "val = hist.history['val_accuracy']\n",
    "epochs = range(1, len(acc) + 1)\n",
    "\n",
    "plt.plot(epochs, acc, '-', label='Training accuracy')\n",
    "plt.plot(epochs, val, ':', label='Validation accuracy')\n",
    "plt.title('Training and Validation Accuracy')\n",
    "plt.xlabel('Epoch')\n",
    "plt.ylabel('Accuracy')\n",
    "plt.legend(loc='upper left')\n",
    "plt.plot()"
   ]
  },
  {
   "cell_type": "code",
   "execution_count": 454,
   "metadata": {},
   "outputs": [],
   "source": [
    "models_performances = models_performances.append(\n",
    "    pd.Series(data={'total training time': stop-start,\n",
    "              'AUC': max(hist.history['val_auc']),\n",
    "              'Accuracy': max(hist.history['val_accuracy']),\n",
    "              'Epoch max reach': hist.history['val_accuracy'].index(max(hist.history['val_accuracy'])),\n",
    "              'training time to opt' : (stop-start)*hist.history['val_accuracy'].index(max(hist.history['val_accuracy']))/len(hist.history['val_accuracy'])},\n",
    "              name=model_name)\n",
    ")"
   ]
  },
  {
   "cell_type": "code",
   "execution_count": 455,
   "metadata": {},
   "outputs": [
    {
     "data": {
      "text/html": [
       "<div>\n",
       "<style scoped>\n",
       "    .dataframe tbody tr th:only-of-type {\n",
       "        vertical-align: middle;\n",
       "    }\n",
       "\n",
       "    .dataframe tbody tr th {\n",
       "        vertical-align: top;\n",
       "    }\n",
       "\n",
       "    .dataframe thead th {\n",
       "        text-align: right;\n",
       "    }\n",
       "</style>\n",
       "<table border=\"1\" class=\"dataframe\">\n",
       "  <thead>\n",
       "    <tr style=\"text-align: right;\">\n",
       "      <th></th>\n",
       "      <th>AUC</th>\n",
       "      <th>Accuracy</th>\n",
       "      <th>Epoch max reach</th>\n",
       "      <th>total training time</th>\n",
       "      <th>training time to opt</th>\n",
       "    </tr>\n",
       "  </thead>\n",
       "  <tbody>\n",
       "    <tr>\n",
       "      <th>simple NN - raw text</th>\n",
       "      <td>0.565709</td>\n",
       "      <td>0.545</td>\n",
       "      <td>13.0</td>\n",
       "      <td>1.864824</td>\n",
       "      <td>1.616180</td>\n",
       "    </tr>\n",
       "    <tr>\n",
       "      <th>simple NN - Basic preprocessing</th>\n",
       "      <td>0.552197</td>\n",
       "      <td>0.580</td>\n",
       "      <td>14.0</td>\n",
       "      <td>1.833601</td>\n",
       "      <td>1.711361</td>\n",
       "    </tr>\n",
       "    <tr>\n",
       "      <th>simple NN - Stemming</th>\n",
       "      <td>0.595386</td>\n",
       "      <td>0.605</td>\n",
       "      <td>13.0</td>\n",
       "      <td>1.769638</td>\n",
       "      <td>1.533687</td>\n",
       "    </tr>\n",
       "    <tr>\n",
       "      <th>simple NN - Lemmatization</th>\n",
       "      <td>0.575568</td>\n",
       "      <td>0.565</td>\n",
       "      <td>11.0</td>\n",
       "      <td>3.058595</td>\n",
       "      <td>2.242970</td>\n",
       "    </tr>\n",
       "    <tr>\n",
       "      <th>simple NN - GLoVe embedding</th>\n",
       "      <td>0.689370</td>\n",
       "      <td>0.620</td>\n",
       "      <td>12.0</td>\n",
       "      <td>2.257652</td>\n",
       "      <td>0.903061</td>\n",
       "    </tr>\n",
       "    <tr>\n",
       "      <th>LSTM - Own embedding</th>\n",
       "      <td>0.712241</td>\n",
       "      <td>0.655</td>\n",
       "      <td>23.0</td>\n",
       "      <td>21.925077</td>\n",
       "      <td>16.809226</td>\n",
       "    </tr>\n",
       "    <tr>\n",
       "      <th>LSTM - GLoVe embedding</th>\n",
       "      <td>0.777450</td>\n",
       "      <td>0.705</td>\n",
       "      <td>16.0</td>\n",
       "      <td>14.750703</td>\n",
       "      <td>7.867042</td>\n",
       "    </tr>\n",
       "  </tbody>\n",
       "</table>\n",
       "</div>"
      ],
      "text/plain": [
       "                                      AUC  Accuracy  Epoch max reach  \\\n",
       "simple NN - raw text             0.565709     0.545             13.0   \n",
       "simple NN - Basic preprocessing  0.552197     0.580             14.0   \n",
       "simple NN - Stemming             0.595386     0.605             13.0   \n",
       "simple NN - Lemmatization        0.575568     0.565             11.0   \n",
       "simple NN - GLoVe embedding      0.689370     0.620             12.0   \n",
       "LSTM - Own embedding             0.712241     0.655             23.0   \n",
       "LSTM - GLoVe embedding           0.777450     0.705             16.0   \n",
       "\n",
       "                                 total training time  training time to opt  \n",
       "simple NN - raw text                        1.864824              1.616180  \n",
       "simple NN - Basic preprocessing             1.833601              1.711361  \n",
       "simple NN - Stemming                        1.769638              1.533687  \n",
       "simple NN - Lemmatization                   3.058595              2.242970  \n",
       "simple NN - GLoVe embedding                 2.257652              0.903061  \n",
       "LSTM - Own embedding                       21.925077             16.809226  \n",
       "LSTM - GLoVe embedding                     14.750703              7.867042  "
      ]
     },
     "execution_count": 455,
     "metadata": {},
     "output_type": "execute_result"
    }
   ],
   "source": [
    "models_performances"
   ]
  },
  {
   "cell_type": "markdown",
   "metadata": {},
   "source": [
    "## Bi directional LSTM"
   ]
  },
  {
   "cell_type": "code",
   "execution_count": 456,
   "metadata": {},
   "outputs": [],
   "source": [
    "from keras.layers import Bidirectional"
   ]
  },
  {
   "cell_type": "code",
   "execution_count": 457,
   "metadata": {},
   "outputs": [
    {
     "name": "stdout",
     "output_type": "stream",
     "text": [
      "Model: \"sequential_36\"\n",
      "_________________________________________________________________\n",
      "Layer (type)                 Output Shape              Param #   \n",
      "=================================================================\n",
      "embedding_27 (Embedding)     (None, 30, 100)           300400    \n",
      "_________________________________________________________________\n",
      "bidirectional_3 (Bidirection (None, 128)               84480     \n",
      "_________________________________________________________________\n",
      "dense_61 (Dense)             (None, 1)                 129       \n",
      "=================================================================\n",
      "Total params: 385,009\n",
      "Trainable params: 84,609\n",
      "Non-trainable params: 300,400\n",
      "_________________________________________________________________\n",
      "None\n"
     ]
    }
   ],
   "source": [
    "model_name = 'biLSTM - GLoVe embedding'\n",
    "\n",
    "lstm_out=64\n",
    "\n",
    "model = Sequential()\n",
    "#model.add(Embedding(len(voc),100 ,input_length = tweet_length))\n",
    "model.add(embedding_layer)\n",
    "model.add(Bidirectional(LSTM(lstm_out,dropout=0.2)))\n",
    "#model.add(Dense(8,activation='relu'))\n",
    "model.add(Dense(1,activation='sigmoid'))\n",
    "model.compile(loss = 'binary_crossentropy', optimizer='adam',metrics = ['accuracy','AUC'])\n",
    "print(model.summary())"
   ]
  },
  {
   "cell_type": "code",
   "execution_count": 458,
   "metadata": {},
   "outputs": [
    {
     "name": "stdout",
     "output_type": "stream",
     "text": [
      "Epoch 1/30\n",
      "1/1 [==============================] - 1s 1s/step - loss: 0.7278 - accuracy: 0.4863 - auc: 0.4318 - val_loss: 0.6932 - val_accuracy: 0.5300 - val_auc: 0.5595\n",
      "Epoch 2/30\n",
      "1/1 [==============================] - 0s 80ms/step - loss: 0.7068 - accuracy: 0.4950 - auc: 0.4686 - val_loss: 0.6844 - val_accuracy: 0.5300 - val_auc: 0.5773\n",
      "Epoch 3/30\n",
      "1/1 [==============================] - 0s 74ms/step - loss: 0.6966 - accuracy: 0.4787 - auc: 0.4968 - val_loss: 0.6812 - val_accuracy: 0.5500 - val_auc: 0.5782\n",
      "Epoch 4/30\n",
      "1/1 [==============================] - 0s 80ms/step - loss: 0.6936 - accuracy: 0.5063 - auc: 0.5157 - val_loss: 0.6807 - val_accuracy: 0.5600 - val_auc: 0.5875\n",
      "Epoch 5/30\n",
      "1/1 [==============================] - 0s 168ms/step - loss: 0.6897 - accuracy: 0.5300 - auc: 0.5569 - val_loss: 0.6803 - val_accuracy: 0.5600 - val_auc: 0.5944\n",
      "Epoch 6/30\n",
      "1/1 [==============================] - 0s 70ms/step - loss: 0.6873 - accuracy: 0.5400 - auc: 0.5773 - val_loss: 0.6787 - val_accuracy: 0.5650 - val_auc: 0.6071\n",
      "Epoch 7/30\n",
      "1/1 [==============================] - 0s 90ms/step - loss: 0.6834 - accuracy: 0.5450 - auc: 0.6057 - val_loss: 0.6759 - val_accuracy: 0.5750 - val_auc: 0.6184\n",
      "Epoch 8/30\n",
      "1/1 [==============================] - 0s 73ms/step - loss: 0.6798 - accuracy: 0.5487 - auc: 0.6210 - val_loss: 0.6724 - val_accuracy: 0.5750 - val_auc: 0.6296\n",
      "Epoch 9/30\n",
      "1/1 [==============================] - 0s 70ms/step - loss: 0.6759 - accuracy: 0.5487 - auc: 0.6398 - val_loss: 0.6690 - val_accuracy: 0.5700 - val_auc: 0.6476\n",
      "Epoch 10/30\n",
      "1/1 [==============================] - 0s 70ms/step - loss: 0.6698 - accuracy: 0.5838 - auc: 0.6635 - val_loss: 0.6660 - val_accuracy: 0.5800 - val_auc: 0.6662\n",
      "Epoch 11/30\n",
      "1/1 [==============================] - 0s 73ms/step - loss: 0.6658 - accuracy: 0.6062 - auc: 0.6868 - val_loss: 0.6636 - val_accuracy: 0.6000 - val_auc: 0.6769\n",
      "Epoch 12/30\n",
      "1/1 [==============================] - 0s 70ms/step - loss: 0.6591 - accuracy: 0.6275 - auc: 0.7083 - val_loss: 0.6617 - val_accuracy: 0.6650 - val_auc: 0.6867\n",
      "Epoch 13/30\n",
      "1/1 [==============================] - 0s 76ms/step - loss: 0.6567 - accuracy: 0.6562 - auc: 0.7180 - val_loss: 0.6601 - val_accuracy: 0.6600 - val_auc: 0.6928\n",
      "Epoch 14/30\n",
      "1/1 [==============================] - 0s 70ms/step - loss: 0.6505 - accuracy: 0.6762 - auc: 0.7394 - val_loss: 0.6583 - val_accuracy: 0.6350 - val_auc: 0.6956\n",
      "Epoch 15/30\n",
      "1/1 [==============================] - 0s 66ms/step - loss: 0.6501 - accuracy: 0.6612 - auc: 0.7368 - val_loss: 0.6560 - val_accuracy: 0.6350 - val_auc: 0.7003\n",
      "Epoch 16/30\n",
      "1/1 [==============================] - 0s 70ms/step - loss: 0.6441 - accuracy: 0.6812 - auc: 0.7509 - val_loss: 0.6528 - val_accuracy: 0.6300 - val_auc: 0.7037\n",
      "Epoch 17/30\n",
      "1/1 [==============================] - 0s 75ms/step - loss: 0.6431 - accuracy: 0.6612 - auc: 0.7415 - val_loss: 0.6488 - val_accuracy: 0.6450 - val_auc: 0.7026\n",
      "Epoch 18/30\n",
      "1/1 [==============================] - 0s 80ms/step - loss: 0.6351 - accuracy: 0.6862 - auc: 0.7582 - val_loss: 0.6440 - val_accuracy: 0.6450 - val_auc: 0.7075\n",
      "Epoch 19/30\n",
      "1/1 [==============================] - 0s 78ms/step - loss: 0.6287 - accuracy: 0.6963 - auc: 0.7607 - val_loss: 0.6391 - val_accuracy: 0.6600 - val_auc: 0.7078\n",
      "Epoch 20/30\n",
      "1/1 [==============================] - 0s 70ms/step - loss: 0.6243 - accuracy: 0.6888 - auc: 0.7598 - val_loss: 0.6341 - val_accuracy: 0.6500 - val_auc: 0.7099\n",
      "Epoch 21/30\n",
      "1/1 [==============================] - 0s 78ms/step - loss: 0.6151 - accuracy: 0.6875 - auc: 0.7697 - val_loss: 0.6288 - val_accuracy: 0.6600 - val_auc: 0.7136\n",
      "Epoch 22/30\n",
      "1/1 [==============================] - 0s 80ms/step - loss: 0.6097 - accuracy: 0.6975 - auc: 0.7701 - val_loss: 0.6218 - val_accuracy: 0.6700 - val_auc: 0.7206\n",
      "Epoch 23/30\n",
      "1/1 [==============================] - 0s 69ms/step - loss: 0.5999 - accuracy: 0.6975 - auc: 0.7822 - val_loss: 0.6125 - val_accuracy: 0.6650 - val_auc: 0.7311\n",
      "Epoch 24/30\n",
      "1/1 [==============================] - 0s 70ms/step - loss: 0.5895 - accuracy: 0.7113 - auc: 0.7899 - val_loss: 0.6022 - val_accuracy: 0.6850 - val_auc: 0.7439\n",
      "Epoch 25/30\n",
      "1/1 [==============================] - 0s 76ms/step - loss: 0.5780 - accuracy: 0.7237 - auc: 0.7981 - val_loss: 0.5934 - val_accuracy: 0.6850 - val_auc: 0.7542\n",
      "Epoch 26/30\n",
      "1/1 [==============================] - 0s 72ms/step - loss: 0.5664 - accuracy: 0.7262 - auc: 0.7995 - val_loss: 0.5857 - val_accuracy: 0.6800 - val_auc: 0.7611\n",
      "Epoch 27/30\n",
      "1/1 [==============================] - 0s 73ms/step - loss: 0.5578 - accuracy: 0.7163 - auc: 0.7967 - val_loss: 0.5780 - val_accuracy: 0.6900 - val_auc: 0.7631\n",
      "Epoch 28/30\n",
      "1/1 [==============================] - 0s 65ms/step - loss: 0.5554 - accuracy: 0.7125 - auc: 0.7907 - val_loss: 0.5785 - val_accuracy: 0.6900 - val_auc: 0.7633\n",
      "Epoch 29/30\n",
      "1/1 [==============================] - 0s 80ms/step - loss: 0.5508 - accuracy: 0.7113 - auc: 0.7932 - val_loss: 0.5828 - val_accuracy: 0.6850 - val_auc: 0.7646\n",
      "Epoch 30/30\n",
      "1/1 [==============================] - 0s 70ms/step - loss: 0.5461 - accuracy: 0.7175 - auc: 0.7978 - val_loss: 0.5856 - val_accuracy: 0.6800 - val_auc: 0.7654\n"
     ]
    }
   ],
   "source": [
    "start = time.time()\n",
    "hist = model.fit(X_train_vect, y_train, batch_size=1024, epochs=30, validation_data=(X_test_vect, y_test))\n",
    "stop = time.time()"
   ]
  },
  {
   "cell_type": "code",
   "execution_count": 459,
   "metadata": {},
   "outputs": [],
   "source": [
    "models_performances = models_performances.append(\n",
    "    pd.Series(data={'total training time': stop-start,\n",
    "              'AUC': max(hist.history['val_auc']),\n",
    "              'Accuracy': max(hist.history['val_accuracy']),\n",
    "              'Epoch max reach': hist.history['val_accuracy'].index(max(hist.history['val_accuracy'])),\n",
    "              'training time to opt' : (stop-start)*hist.history['val_accuracy'].index(max(hist.history['val_accuracy']))/len(hist.history['val_accuracy'])},\n",
    "              name=model_name)\n",
    ")"
   ]
  },
  {
   "cell_type": "code",
   "execution_count": 461,
   "metadata": {},
   "outputs": [],
   "source": [
    "models_performances.to_excel('data/perf_1K.xlsx')"
   ]
  },
  {
   "cell_type": "code",
   "execution_count": 462,
   "metadata": {},
   "outputs": [
    {
     "data": {
      "text/plain": [
       "[]"
      ]
     },
     "execution_count": 462,
     "metadata": {},
     "output_type": "execute_result"
    },
    {
     "data": {
      "image/png": "[encoded data removed]",
      "text/plain": [
       "<Figure size 432x288 with 1 Axes>"
      ]
     },
     "metadata": {},
     "output_type": "display_data"
    }
   ],
   "source": [
    "import seaborn as sns\n",
    "import matplotlib.pyplot as plt\n",
    "%matplotlib inline\n",
    "\n",
    "sns.set()\n",
    "acc = hist.history['accuracy']\n",
    "val = hist.history['val_accuracy']\n",
    "epochs = range(1, len(acc) + 1)\n",
    "\n",
    "plt.plot(epochs, acc, '-', label='Training accuracy')\n",
    "plt.plot(epochs, val, ':', label='Validation accuracy')\n",
    "plt.title('Training and Validation Accuracy')\n",
    "plt.xlabel('Epoch')\n",
    "plt.ylabel('Accuracy')\n",
    "plt.legend(loc='upper left')\n",
    "plt.plot()"
   ]
  },
  {
   "cell_type": "code",
   "execution_count": 465,
   "metadata": {},
   "outputs": [
    {
     "data": {
      "text/html": [
       "<div>\n",
       "<style scoped>\n",
       "    .dataframe tbody tr th:only-of-type {\n",
       "        vertical-align: middle;\n",
       "    }\n",
       "\n",
       "    .dataframe tbody tr th {\n",
       "        vertical-align: top;\n",
       "    }\n",
       "\n",
       "    .dataframe thead th {\n",
       "        text-align: right;\n",
       "    }\n",
       "</style>\n",
       "<table border=\"1\" class=\"dataframe\">\n",
       "  <thead>\n",
       "    <tr style=\"text-align: right;\">\n",
       "      <th></th>\n",
       "      <th>AUC</th>\n",
       "      <th>Accuracy</th>\n",
       "      <th>Epoch max reach</th>\n",
       "      <th>total training time</th>\n",
       "      <th>training time to opt</th>\n",
       "    </tr>\n",
       "  </thead>\n",
       "  <tbody>\n",
       "    <tr>\n",
       "      <th>simple NN - raw text</th>\n",
       "      <td>0.565709</td>\n",
       "      <td>0.545</td>\n",
       "      <td>13.0</td>\n",
       "      <td>1.864824</td>\n",
       "      <td>1.616180</td>\n",
       "    </tr>\n",
       "    <tr>\n",
       "      <th>simple NN - Basic preprocessing</th>\n",
       "      <td>0.552197</td>\n",
       "      <td>0.580</td>\n",
       "      <td>14.0</td>\n",
       "      <td>1.833601</td>\n",
       "      <td>1.711361</td>\n",
       "    </tr>\n",
       "    <tr>\n",
       "      <th>simple NN - Stemming</th>\n",
       "      <td>0.595386</td>\n",
       "      <td>0.605</td>\n",
       "      <td>13.0</td>\n",
       "      <td>1.769638</td>\n",
       "      <td>1.533687</td>\n",
       "    </tr>\n",
       "    <tr>\n",
       "      <th>simple NN - Lemmatization</th>\n",
       "      <td>0.575568</td>\n",
       "      <td>0.565</td>\n",
       "      <td>11.0</td>\n",
       "      <td>3.058595</td>\n",
       "      <td>2.242970</td>\n",
       "    </tr>\n",
       "    <tr>\n",
       "      <th>simple NN - GLoVe embedding</th>\n",
       "      <td>0.689370</td>\n",
       "      <td>0.620</td>\n",
       "      <td>12.0</td>\n",
       "      <td>2.257652</td>\n",
       "      <td>0.903061</td>\n",
       "    </tr>\n",
       "    <tr>\n",
       "      <th>LSTM - Own embedding</th>\n",
       "      <td>0.712241</td>\n",
       "      <td>0.655</td>\n",
       "      <td>23.0</td>\n",
       "      <td>21.925077</td>\n",
       "      <td>16.809226</td>\n",
       "    </tr>\n",
       "    <tr>\n",
       "      <th>LSTM - GLoVe embedding</th>\n",
       "      <td>0.777450</td>\n",
       "      <td>0.705</td>\n",
       "      <td>16.0</td>\n",
       "      <td>14.750703</td>\n",
       "      <td>7.867042</td>\n",
       "    </tr>\n",
       "    <tr>\n",
       "      <th>biLSTM - GLoVe embedding</th>\n",
       "      <td>0.765389</td>\n",
       "      <td>0.690</td>\n",
       "      <td>26.0</td>\n",
       "      <td>27.761546</td>\n",
       "      <td>24.060006</td>\n",
       "    </tr>\n",
       "  </tbody>\n",
       "</table>\n",
       "</div>"
      ],
      "text/plain": [
       "                                      AUC  Accuracy  Epoch max reach  \\\n",
       "simple NN - raw text             0.565709     0.545             13.0   \n",
       "simple NN - Basic preprocessing  0.552197     0.580             14.0   \n",
       "simple NN - Stemming             0.595386     0.605             13.0   \n",
       "simple NN - Lemmatization        0.575568     0.565             11.0   \n",
       "simple NN - GLoVe embedding      0.689370     0.620             12.0   \n",
       "LSTM - Own embedding             0.712241     0.655             23.0   \n",
       "LSTM - GLoVe embedding           0.777450     0.705             16.0   \n",
       "biLSTM - GLoVe embedding         0.765389     0.690             26.0   \n",
       "\n",
       "                                 total training time  training time to opt  \n",
       "simple NN - raw text                        1.864824              1.616180  \n",
       "simple NN - Basic preprocessing             1.833601              1.711361  \n",
       "simple NN - Stemming                        1.769638              1.533687  \n",
       "simple NN - Lemmatization                   3.058595              2.242970  \n",
       "simple NN - GLoVe embedding                 2.257652              0.903061  \n",
       "LSTM - Own embedding                       21.925077             16.809226  \n",
       "LSTM - GLoVe embedding                     14.750703              7.867042  \n",
       "biLSTM - GLoVe embedding                   27.761546             24.060006  "
      ]
     },
     "execution_count": 465,
     "metadata": {},
     "output_type": "execute_result"
    }
   ],
   "source": [
    "models_performances"
   ]
  },
  {
   "cell_type": "markdown",
   "metadata": {},
   "source": [
    "We will whoose LSTM+Glove as our best model based on accuracy and training time"
   ]
  },
  {
   "cell_type": "markdown",
   "metadata": {},
   "source": [
    "# Model Optimization"
   ]
  },
  {
   "cell_type": "markdown",
   "metadata": {},
   "source": [
    "Because of ressource limitation, we'll not perform a cross validation and gridsearch on hyperparameter, insted we'll just try different values and compare performance"
   ]
  },
  {
   "cell_type": "code",
   "execution_count": 573,
   "metadata": {},
   "outputs": [],
   "source": [
    "hyperparamters_performances=pd.DataFrame(columns=['AUC','Accuracy_val','Epoch max reach'])"
   ]
  },
  {
   "cell_type": "markdown",
   "metadata": {},
   "source": [
    "## Learning rate"
   ]
  },
  {
   "cell_type": "code",
   "execution_count": 574,
   "metadata": {},
   "outputs": [],
   "source": [
    "model_name = 'LSTM - GLoVe embedding'\n",
    "dp=0.2\n",
    "lr=0.01\n",
    "lstm_out=64\n",
    "\n",
    "model = Sequential()\n",
    "#model.add(Embedding(len(voc),100 ,input_length = tweet_length))\n",
    "model.add(embedding_layer)\n",
    "model.add(LSTM(lstm_out,dropout=dp))\n",
    "#model.add(Dense(8,activation='relu'))\n",
    "model.add(Dense(1,activation='sigmoid'))\n",
    "\n",
    "opt = keras.optimizers.Adam(learning_rate=lr)\n",
    "model.compile(loss = 'binary_crossentropy', optimizer=opt,metrics = ['accuracy','AUC'])\n",
    "\n",
    "start = time.time()\n",
    "hist = model.fit(X_train_vect, y_train, batch_size=1024, epochs=30, validation_data=(X_test_vect, y_test),verbose=0)\n",
    "stop = time.time()\n",
    "\n",
    "hyperparamters_performances = hyperparamters_performances.append(\n",
    "    pd.Series(data={'total training time': stop-start,\n",
    "                    'dropout':dp,\n",
    "                    'learning_rate':lr,\n",
    "                    'lstm_out': lstm_out,\n",
    "              'AUC': max(hist.history['val_auc']),\n",
    "              'Accuracy_val': max(hist.history['val_accuracy']),\n",
    "              'Accuracy_test': max(hist.history['accuracy']), \n",
    "              'Epoch max reach': hist.history['val_accuracy'].index(max(hist.history['val_accuracy'])),\n",
    "              'training time to opt' : (stop-start)*hist.history['val_accuracy'].index(max(hist.history['val_accuracy']))/len(hist.history['val_accuracy'])},\n",
    "              name=model_name)\n",
    ")"
   ]
  },
  {
   "cell_type": "code",
   "execution_count": 575,
   "metadata": {},
   "outputs": [],
   "source": [
    "model_name = 'LSTM - GLoVe embedding'\n",
    "dp=0.2\n",
    "lr=0.1\n",
    "lstm_out=64\n",
    "\n",
    "model = Sequential()\n",
    "#model.add(Embedding(len(voc),100 ,input_length = tweet_length))\n",
    "model.add(embedding_layer)\n",
    "model.add(LSTM(lstm_out,dropout=dp))\n",
    "#model.add(Dense(8,activation='relu'))\n",
    "model.add(Dense(1,activation='sigmoid'))\n",
    "\n",
    "opt = keras.optimizers.Adam(learning_rate=lr)\n",
    "model.compile(loss = 'binary_crossentropy', optimizer=opt,metrics = ['accuracy','AUC'])\n",
    "\n",
    "start = time.time()\n",
    "hist = model.fit(X_train_vect, y_train, batch_size=1024, epochs=30, validation_data=(X_test_vect, y_test),verbose=0)\n",
    "stop = time.time()\n",
    "\n",
    "hyperparamters_performances = hyperparamters_performances.append(\n",
    "    pd.Series(data={'total training time': stop-start,\n",
    "                    'dropout':dp,\n",
    "                    'learning_rate':lr,\n",
    "                    'lstm_out': lstm_out,\n",
    "              'AUC': max(hist.history['val_auc']),\n",
    "              'Accuracy_val': max(hist.history['val_accuracy']),\n",
    "              'Accuracy_test': max(hist.history['accuracy']),   \n",
    "              'Epoch max reach': hist.history['val_accuracy'].index(max(hist.history['val_accuracy'])),\n",
    "              'training time to opt' : (stop-start)*hist.history['val_accuracy'].index(max(hist.history['val_accuracy']))/len(hist.history['val_accuracy'])},\n",
    "              name=model_name)\n",
    ")"
   ]
  },
  {
   "cell_type": "code",
   "execution_count": 576,
   "metadata": {},
   "outputs": [],
   "source": [
    "model_name = 'LSTM - GLoVe embedding'\n",
    "dp=0.2\n",
    "lr=0.001\n",
    "lstm_out=64\n",
    "\n",
    "model = Sequential()\n",
    "#model.add(Embedding(len(voc),100 ,input_length = tweet_length))\n",
    "model.add(embedding_layer)\n",
    "model.add(LSTM(lstm_out,dropout=dp))\n",
    "#model.add(Dense(8,activation='relu'))\n",
    "model.add(Dense(1,activation='sigmoid'))\n",
    "\n",
    "opt = keras.optimizers.Adam(learning_rate=lr)\n",
    "model.compile(loss = 'binary_crossentropy', optimizer=opt,metrics = ['accuracy','AUC'])\n",
    "\n",
    "start = time.time()\n",
    "hist = model.fit(X_train_vect, y_train, batch_size=1024, epochs=30, validation_data=(X_test_vect, y_test),verbose=0)\n",
    "stop = time.time()\n",
    "\n",
    "hyperparamters_performances = hyperparamters_performances.append(\n",
    "    pd.Series(data={'total training time': stop-start,\n",
    "                    'dropout':dp,\n",
    "                    'learning_rate':lr,\n",
    "                    'lstm_out': lstm_out,\n",
    "              'AUC': max(hist.history['val_auc']),\n",
    "              'Accuracy_val': max(hist.history['val_accuracy']),\n",
    "              'Accuracy_test': max(hist.history['accuracy']),\n",
    "              'Epoch max reach': hist.history['val_accuracy'].index(max(hist.history['val_accuracy'])),\n",
    "              'training time to opt' : (stop-start)*hist.history['val_accuracy'].index(max(hist.history['val_accuracy']))/len(hist.history['val_accuracy'])},\n",
    "              name=model_name)\n",
    ")"
   ]
  },
  {
   "cell_type": "code",
   "execution_count": 577,
   "metadata": {},
   "outputs": [
    {
     "data": {
      "text/html": [
       "<div>\n",
       "<style scoped>\n",
       "    .dataframe tbody tr th:only-of-type {\n",
       "        vertical-align: middle;\n",
       "    }\n",
       "\n",
       "    .dataframe tbody tr th {\n",
       "        vertical-align: top;\n",
       "    }\n",
       "\n",
       "    .dataframe thead th {\n",
       "        text-align: right;\n",
       "    }\n",
       "</style>\n",
       "<table border=\"1\" class=\"dataframe\">\n",
       "  <thead>\n",
       "    <tr style=\"text-align: right;\">\n",
       "      <th></th>\n",
       "      <th>AUC</th>\n",
       "      <th>Accuracy_val</th>\n",
       "      <th>Epoch max reach</th>\n",
       "      <th>Accuracy_test</th>\n",
       "      <th>dropout</th>\n",
       "      <th>learning_rate</th>\n",
       "      <th>lstm_out</th>\n",
       "      <th>total training time</th>\n",
       "      <th>training time to opt</th>\n",
       "    </tr>\n",
       "  </thead>\n",
       "  <tbody>\n",
       "    <tr>\n",
       "      <th>LSTM - GLoVe embedding</th>\n",
       "      <td>0.882902</td>\n",
       "      <td>0.8012</td>\n",
       "      <td>8.0</td>\n",
       "      <td>0.861425</td>\n",
       "      <td>0.2</td>\n",
       "      <td>0.010</td>\n",
       "      <td>64.0</td>\n",
       "      <td>674.858426</td>\n",
       "      <td>179.962247</td>\n",
       "    </tr>\n",
       "    <tr>\n",
       "      <th>LSTM - GLoVe embedding</th>\n",
       "      <td>0.854841</td>\n",
       "      <td>0.7724</td>\n",
       "      <td>9.0</td>\n",
       "      <td>0.765700</td>\n",
       "      <td>0.2</td>\n",
       "      <td>0.100</td>\n",
       "      <td>64.0</td>\n",
       "      <td>788.314442</td>\n",
       "      <td>236.494333</td>\n",
       "    </tr>\n",
       "    <tr>\n",
       "      <th>LSTM - GLoVe embedding</th>\n",
       "      <td>0.875561</td>\n",
       "      <td>0.7943</td>\n",
       "      <td>26.0</td>\n",
       "      <td>0.808200</td>\n",
       "      <td>0.2</td>\n",
       "      <td>0.001</td>\n",
       "      <td>64.0</td>\n",
       "      <td>704.098147</td>\n",
       "      <td>610.218394</td>\n",
       "    </tr>\n",
       "  </tbody>\n",
       "</table>\n",
       "</div>"
      ],
      "text/plain": [
       "                             AUC  Accuracy_val  Epoch max reach  \\\n",
       "LSTM - GLoVe embedding  0.882902        0.8012              8.0   \n",
       "LSTM - GLoVe embedding  0.854841        0.7724              9.0   \n",
       "LSTM - GLoVe embedding  0.875561        0.7943             26.0   \n",
       "\n",
       "                        Accuracy_test  dropout  learning_rate  lstm_out  \\\n",
       "LSTM - GLoVe embedding       0.861425      0.2          0.010      64.0   \n",
       "LSTM - GLoVe embedding       0.765700      0.2          0.100      64.0   \n",
       "LSTM - GLoVe embedding       0.808200      0.2          0.001      64.0   \n",
       "\n",
       "                        total training time  training time to opt  \n",
       "LSTM - GLoVe embedding           674.858426            179.962247  \n",
       "LSTM - GLoVe embedding           788.314442            236.494333  \n",
       "LSTM - GLoVe embedding           704.098147            610.218394  "
      ]
     },
     "execution_count": 577,
     "metadata": {},
     "output_type": "execute_result"
    }
   ],
   "source": [
    "hyperparamters_performances"
   ]
  },
  {
   "cell_type": "markdown",
   "metadata": {},
   "source": [
    "## Drop out"
   ]
  },
  {
   "cell_type": "code",
   "execution_count": 578,
   "metadata": {},
   "outputs": [],
   "source": [
    "model_name = 'LSTM - GLoVe embedding'\n",
    "dp=0\n",
    "lr=0.01\n",
    "lstm_out=64\n",
    "\n",
    "model = Sequential()\n",
    "#model.add(Embedding(len(voc),100 ,input_length = tweet_length))\n",
    "model.add(embedding_layer)\n",
    "model.add(LSTM(lstm_out,dropout=dp))\n",
    "#model.add(Dense(8,activation='relu'))\n",
    "model.add(Dense(1,activation='sigmoid'))\n",
    "\n",
    "opt = keras.optimizers.Adam(learning_rate=lr)\n",
    "model.compile(loss = 'binary_crossentropy', optimizer=opt,metrics = ['accuracy','AUC'])\n",
    "\n",
    "start = time.time()\n",
    "hist = model.fit(X_train_vect, y_train, batch_size=1024, epochs=60, validation_data=(X_test_vect, y_test),verbose=0)\n",
    "stop = time.time()\n",
    "\n",
    "hyperparamters_performances = hyperparamters_performances.append(\n",
    "    pd.Series(data={'total training time': stop-start,\n",
    "                    'dropout':dp,\n",
    "                    'learning_rate':lr,\n",
    "                    'lstm_out': lstm_out,\n",
    "              'AUC': max(hist.history['val_auc']),\n",
    "              'Accuracy_val': max(hist.history['val_accuracy']),\n",
    "              'Accuracy_test': max(hist.history['accuracy']),\n",
    "              'Epoch max reach': hist.history['val_accuracy'].index(max(hist.history['val_accuracy'])),\n",
    "              'training time to opt' : (stop-start)*hist.history['val_accuracy'].index(max(hist.history['val_accuracy']))/len(hist.history['val_accuracy'])},\n",
    "              name=model_name)\n",
    ")"
   ]
  },
  {
   "cell_type": "code",
   "execution_count": 579,
   "metadata": {},
   "outputs": [],
   "source": [
    "model_name = 'LSTM - GLoVe embedding'\n",
    "dp=0.1\n",
    "lr=0.01\n",
    "lstm_out=64\n",
    "\n",
    "model = Sequential()\n",
    "#model.add(Embedding(len(voc),100 ,input_length = tweet_length))\n",
    "model.add(embedding_layer)\n",
    "model.add(LSTM(lstm_out,dropout=dp))\n",
    "#model.add(Dense(8,activation='relu'))\n",
    "model.add(Dense(1,activation='sigmoid'))\n",
    "\n",
    "opt = keras.optimizers.Adam(learning_rate=lr)\n",
    "model.compile(loss = 'binary_crossentropy', optimizer=opt,metrics = ['accuracy','AUC'])\n",
    "\n",
    "start = time.time()\n",
    "hist = model.fit(X_train_vect, y_train, batch_size=1024, epochs=30, validation_data=(X_test_vect, y_test),verbose=0)\n",
    "stop = time.time()\n",
    "\n",
    "hyperparamters_performances = hyperparamters_performances.append(\n",
    "    pd.Series(data={'total training time': stop-start,\n",
    "                    'dropout':dp,\n",
    "                    'learning_rate':lr,\n",
    "                    'lstm_out': lstm_out,\n",
    "              'AUC': max(hist.history['val_auc']),\n",
    "              'Accuracy_val': max(hist.history['val_accuracy']),\n",
    "              'Accuracy_test': max(hist.history['accuracy']),\n",
    "              'Epoch max reach': hist.history['val_accuracy'].index(max(hist.history['val_accuracy'])),\n",
    "              'training time to opt' : (stop-start)*hist.history['val_accuracy'].index(max(hist.history['val_accuracy']))/len(hist.history['val_accuracy'])},\n",
    "              name=model_name)\n",
    ")"
   ]
  },
  {
   "cell_type": "code",
   "execution_count": 580,
   "metadata": {},
   "outputs": [],
   "source": [
    "model_name = 'LSTM - GLoVe embedding'\n",
    "dp=0.4\n",
    "lr=0.01\n",
    "lstm_out=64\n",
    "\n",
    "model = Sequential()\n",
    "#model.add(Embedding(len(voc),100 ,input_length = tweet_length))\n",
    "model.add(embedding_layer)\n",
    "model.add(LSTM(lstm_out,dropout=dp))\n",
    "#model.add(Dense(8,activation='relu'))\n",
    "model.add(Dense(1,activation='sigmoid'))\n",
    "\n",
    "opt = keras.optimizers.Adam(learning_rate=lr)\n",
    "model.compile(loss = 'binary_crossentropy', optimizer=opt,metrics = ['accuracy','AUC'])\n",
    "\n",
    "start = time.time()\n",
    "hist = model.fit(X_train_vect, y_train, batch_size=1024, epochs=30, validation_data=(X_test_vect, y_test),verbose=0)\n",
    "stop = time.time()\n",
    "\n",
    "hyperparamters_performances = hyperparamters_performances.append(\n",
    "    pd.Series(data={'total training time': stop-start,\n",
    "                    'dropout':dp,\n",
    "                    'learning_rate':lr,\n",
    "                    'lstm_out': lstm_out,\n",
    "              'AUC': max(hist.history['val_auc']),\n",
    "              'Accuracy_val': max(hist.history['val_accuracy']),\n",
    "              'Accuracy_test': max(hist.history['accuracy']),\n",
    "              'Epoch max reach': hist.history['val_accuracy'].index(max(hist.history['val_accuracy'])),\n",
    "              'training time to opt' : (stop-start)*hist.history['val_accuracy'].index(max(hist.history['val_accuracy']))/len(hist.history['val_accuracy'])},\n",
    "              name=model_name)\n",
    ")"
   ]
  },
  {
   "cell_type": "code",
   "execution_count": 581,
   "metadata": {},
   "outputs": [],
   "source": [
    "model_name = 'LSTM - GLoVe embedding'\n",
    "dp=0.8\n",
    "lr=0.01\n",
    "lstm_out=64\n",
    "\n",
    "model = Sequential()\n",
    "#model.add(Embedding(len(voc),100 ,input_length = tweet_length))\n",
    "model.add(embedding_layer)\n",
    "model.add(LSTM(lstm_out,dropout=dp))\n",
    "#model.add(Dense(8,activation='relu'))\n",
    "model.add(Dense(1,activation='sigmoid'))\n",
    "\n",
    "opt = keras.optimizers.Adam(learning_rate=lr)\n",
    "model.compile(loss = 'binary_crossentropy', optimizer=opt,metrics = ['accuracy','AUC'])\n",
    "\n",
    "start = time.time()\n",
    "hist = model.fit(X_train_vect, y_train, batch_size=1024, epochs=30, validation_data=(X_test_vect, y_test),verbose=0)\n",
    "stop = time.time()\n",
    "\n",
    "hyperparamters_performances = hyperparamters_performances.append(\n",
    "    pd.Series(data={'total training time': stop-start,\n",
    "                    'dropout':dp,\n",
    "                    'learning_rate':lr,\n",
    "                    'lstm_out': lstm_out,\n",
    "              'AUC': max(hist.history['val_auc']),\n",
    "              'Accuracy_val': max(hist.history['val_accuracy']),\n",
    "              'Accuracy_test': max(hist.history['accuracy']),\n",
    "              'Epoch max reach': hist.history['val_accuracy'].index(max(hist.history['val_accuracy'])),\n",
    "              'training time to opt' : (stop-start)*hist.history['val_accuracy'].index(max(hist.history['val_accuracy']))/len(hist.history['val_accuracy'])},\n",
    "              name=model_name)\n",
    ")"
   ]
  },
  {
   "cell_type": "code",
   "execution_count": 582,
   "metadata": {},
   "outputs": [
    {
     "data": {
      "text/html": [
       "<div>\n",
       "<style scoped>\n",
       "    .dataframe tbody tr th:only-of-type {\n",
       "        vertical-align: middle;\n",
       "    }\n",
       "\n",
       "    .dataframe tbody tr th {\n",
       "        vertical-align: top;\n",
       "    }\n",
       "\n",
       "    .dataframe thead th {\n",
       "        text-align: right;\n",
       "    }\n",
       "</style>\n",
       "<table border=\"1\" class=\"dataframe\">\n",
       "  <thead>\n",
       "    <tr style=\"text-align: right;\">\n",
       "      <th></th>\n",
       "      <th>AUC</th>\n",
       "      <th>Accuracy_val</th>\n",
       "      <th>Epoch max reach</th>\n",
       "      <th>Accuracy_test</th>\n",
       "      <th>dropout</th>\n",
       "      <th>learning_rate</th>\n",
       "      <th>lstm_out</th>\n",
       "      <th>total training time</th>\n",
       "      <th>training time to opt</th>\n",
       "    </tr>\n",
       "  </thead>\n",
       "  <tbody>\n",
       "    <tr>\n",
       "      <th>LSTM - GLoVe embedding</th>\n",
       "      <td>0.882902</td>\n",
       "      <td>0.8012</td>\n",
       "      <td>8.0</td>\n",
       "      <td>0.861425</td>\n",
       "      <td>0.2</td>\n",
       "      <td>0.010</td>\n",
       "      <td>64.0</td>\n",
       "      <td>674.858426</td>\n",
       "      <td>179.962247</td>\n",
       "    </tr>\n",
       "    <tr>\n",
       "      <th>LSTM - GLoVe embedding</th>\n",
       "      <td>0.854841</td>\n",
       "      <td>0.7724</td>\n",
       "      <td>9.0</td>\n",
       "      <td>0.765700</td>\n",
       "      <td>0.2</td>\n",
       "      <td>0.100</td>\n",
       "      <td>64.0</td>\n",
       "      <td>788.314442</td>\n",
       "      <td>236.494333</td>\n",
       "    </tr>\n",
       "    <tr>\n",
       "      <th>LSTM - GLoVe embedding</th>\n",
       "      <td>0.875561</td>\n",
       "      <td>0.7943</td>\n",
       "      <td>26.0</td>\n",
       "      <td>0.808200</td>\n",
       "      <td>0.2</td>\n",
       "      <td>0.001</td>\n",
       "      <td>64.0</td>\n",
       "      <td>704.098147</td>\n",
       "      <td>610.218394</td>\n",
       "    </tr>\n",
       "    <tr>\n",
       "      <th>LSTM - GLoVe embedding</th>\n",
       "      <td>0.875369</td>\n",
       "      <td>0.7991</td>\n",
       "      <td>6.0</td>\n",
       "      <td>0.980425</td>\n",
       "      <td>0.0</td>\n",
       "      <td>0.010</td>\n",
       "      <td>64.0</td>\n",
       "      <td>1312.815621</td>\n",
       "      <td>131.281562</td>\n",
       "    </tr>\n",
       "    <tr>\n",
       "      <th>LSTM - GLoVe embedding</th>\n",
       "      <td>0.881005</td>\n",
       "      <td>0.7987</td>\n",
       "      <td>9.0</td>\n",
       "      <td>0.898550</td>\n",
       "      <td>0.1</td>\n",
       "      <td>0.010</td>\n",
       "      <td>64.0</td>\n",
       "      <td>692.509710</td>\n",
       "      <td>207.752913</td>\n",
       "    </tr>\n",
       "    <tr>\n",
       "      <th>LSTM - GLoVe embedding</th>\n",
       "      <td>0.883288</td>\n",
       "      <td>0.8061</td>\n",
       "      <td>28.0</td>\n",
       "      <td>0.810675</td>\n",
       "      <td>0.4</td>\n",
       "      <td>0.010</td>\n",
       "      <td>64.0</td>\n",
       "      <td>675.575953</td>\n",
       "      <td>630.537556</td>\n",
       "    </tr>\n",
       "    <tr>\n",
       "      <th>LSTM - GLoVe embedding</th>\n",
       "      <td>0.850047</td>\n",
       "      <td>0.7701</td>\n",
       "      <td>28.0</td>\n",
       "      <td>0.708050</td>\n",
       "      <td>0.8</td>\n",
       "      <td>0.010</td>\n",
       "      <td>64.0</td>\n",
       "      <td>792.381678</td>\n",
       "      <td>739.556232</td>\n",
       "    </tr>\n",
       "  </tbody>\n",
       "</table>\n",
       "</div>"
      ],
      "text/plain": [
       "                             AUC  Accuracy_val  Epoch max reach  \\\n",
       "LSTM - GLoVe embedding  0.882902        0.8012              8.0   \n",
       "LSTM - GLoVe embedding  0.854841        0.7724              9.0   \n",
       "LSTM - GLoVe embedding  0.875561        0.7943             26.0   \n",
       "LSTM - GLoVe embedding  0.875369        0.7991              6.0   \n",
       "LSTM - GLoVe embedding  0.881005        0.7987              9.0   \n",
       "LSTM - GLoVe embedding  0.883288        0.8061             28.0   \n",
       "LSTM - GLoVe embedding  0.850047        0.7701             28.0   \n",
       "\n",
       "                        Accuracy_test  dropout  learning_rate  lstm_out  \\\n",
       "LSTM - GLoVe embedding       0.861425      0.2          0.010      64.0   \n",
       "LSTM - GLoVe embedding       0.765700      0.2          0.100      64.0   \n",
       "LSTM - GLoVe embedding       0.808200      0.2          0.001      64.0   \n",
       "LSTM - GLoVe embedding       0.980425      0.0          0.010      64.0   \n",
       "LSTM - GLoVe embedding       0.898550      0.1          0.010      64.0   \n",
       "LSTM - GLoVe embedding       0.810675      0.4          0.010      64.0   \n",
       "LSTM - GLoVe embedding       0.708050      0.8          0.010      64.0   \n",
       "\n",
       "                        total training time  training time to opt  \n",
       "LSTM - GLoVe embedding           674.858426            179.962247  \n",
       "LSTM - GLoVe embedding           788.314442            236.494333  \n",
       "LSTM - GLoVe embedding           704.098147            610.218394  \n",
       "LSTM - GLoVe embedding          1312.815621            131.281562  \n",
       "LSTM - GLoVe embedding           692.509710            207.752913  \n",
       "LSTM - GLoVe embedding           675.575953            630.537556  \n",
       "LSTM - GLoVe embedding           792.381678            739.556232  "
      ]
     },
     "execution_count": 582,
     "metadata": {},
     "output_type": "execute_result"
    }
   ],
   "source": [
    "hyperparamters_performances"
   ]
  },
  {
   "cell_type": "code",
   "execution_count": null,
   "metadata": {},
   "outputs": [],
   "source": [
    "hyperparamters_performances.to_excel('data/hyp_perf_50K.xlsx')"
   ]
  }
 ],
 "metadata": {
  "kernelspec": {
   "display_name": "Python 3",
   "language": "python",
   "name": "python3"
  },
  "language_info": {
   "codemirror_mode": {
    "name": "ipython",
    "version": 3
   },
   "file_extension": ".py",
   "mimetype": "text/x-python",
   "name": "python",
   "nbconvert_exporter": "python",
   "pygments_lexer": "ipython3",
   "version": "3.8.8"
  },
  "notify_time": "10",
  "toc": {
   "base_numbering": 1,
   "nav_menu": {},
   "number_sections": true,
   "sideBar": true,
   "skip_h1_title": false,
   "title_cell": "Table of Contents",
   "title_sidebar": "Contents",
   "toc_cell": false,
   "toc_position": {
    "height": "calc(100% - 180px)",
    "left": "10px",
    "top": "150px",
    "width": "285px"
   },
   "toc_section_display": true,
   "toc_window_display": true
  },
  "varInspector": {
   "cols": {
    "lenName": 16,
    "lenType": 16,
    "lenVar": 40
   },
   "kernels_config": {
    "python": {
     "delete_cmd_postfix": "",
     "delete_cmd_prefix": "del ",
     "library": "var_list.py",
     "varRefreshCmd": "print(var_dic_list())"
    },
    "r": {
     "delete_cmd_postfix": ") ",
     "delete_cmd_prefix": "rm(",
     "library": "var_list.r",
     "varRefreshCmd": "cat(var_dic_list()) "
    }
   },
   "position": {
    "height": "408.767px",
    "left": "1625px",
    "right": "20px",
    "top": "120px",
    "width": "275px"
   },
   "types_to_exclude": [
    "module",
    "function",
    "builtin_function_or_method",
    "instance",
    "_Feature"
   ],
   "window_display": false
  }
 },
 "nbformat": 4,
 "nbformat_minor": 4
}
