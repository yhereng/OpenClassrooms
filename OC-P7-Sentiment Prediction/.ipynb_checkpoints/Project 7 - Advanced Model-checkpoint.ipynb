{
 "cells": [
  {
   "cell_type": "markdown",
   "metadata": {},
   "source": [
    "<font color=\"black\"><font size=\"7\"><br>\n",
    "     Project 7 - Advanced Model\n",
    "</font>"
   ]
  },
  {
   "cell_type": "code",
   "execution_count": 1,
   "metadata": {},
   "outputs": [],
   "source": [
    "import pandas as pd\n",
    "import numpy as np\n",
    "import matplotlib.pyplot as plt\n",
    "import seaborn as sns\n",
    "\n",
    "import math\n",
    "\n",
    "from sklearn.feature_extraction.text import CountVectorizer\n",
    "\n",
    "from nltk.corpus import wordnet\n",
    "\n",
    "import nltk\n",
    "\n",
    "from nltk.stem.snowball import SnowballStemmer\n",
    "from nltk.stem.porter import PorterStemmer\n",
    "from nltk.stem import WordNetLemmatizer\n",
    "\n",
    "from gensim.models import doc2vec\n",
    "\n",
    "from collections import defaultdict"
   ]
  },
  {
   "cell_type": "markdown",
   "metadata": {},
   "source": [
    "# Loading data"
   ]
  },
  {
   "cell_type": "code",
   "execution_count": null,
   "metadata": {},
   "outputs": [],
   "source": [
    "data=pd.read_csv(\"D:/Data OC/P7/sentiment140/training.1600000.processed.noemoticon.csv\",header=None,names=['target','text'],usecols=[0,5])"
   ]
  },
  {
   "cell_type": "code",
   "execution_count": null,
   "metadata": {},
   "outputs": [],
   "source": [
    "data.head()"
   ]
  },
  {
   "cell_type": "code",
   "execution_count": null,
   "metadata": {},
   "outputs": [],
   "source": [
    "data['target'] = data['target']/4"
   ]
  },
  {
   "cell_type": "code",
   "execution_count": null,
   "metadata": {},
   "outputs": [],
   "source": [
    "data = data.astype({'target':'int32'},copy=False)"
   ]
  },
  {
   "cell_type": "code",
   "execution_count": 1,
   "metadata": {},
   "outputs": [
    {
     "ename": "NameError",
     "evalue": "name 'data' is not defined",
     "output_type": "error",
     "traceback": [
      "\u001b[1;31m---------------------------------------------------------------------------\u001b[0m",
      "\u001b[1;31mNameError\u001b[0m                                 Traceback (most recent call last)",
      "\u001b[1;32m<ipython-input-1-1fefe5df47d9>\u001b[0m in \u001b[0;36m<module>\u001b[1;34m\u001b[0m\n\u001b[1;32m----> 1\u001b[1;33m \u001b[0mdata\u001b[0m\u001b[1;33m.\u001b[0m\u001b[0mto_pickle\u001b[0m\u001b[1;33m(\u001b[0m\u001b[1;34m'data/data'\u001b[0m\u001b[1;33m)\u001b[0m\u001b[1;33m\u001b[0m\u001b[1;33m\u001b[0m\u001b[0m\n\u001b[0m",
      "\u001b[1;31mNameError\u001b[0m: name 'data' is not defined"
     ]
    }
   ],
   "source": [
    "data.to_pickle('data/data')"
   ]
  },
  {
   "cell_type": "code",
   "execution_count": 2,
   "metadata": {},
   "outputs": [],
   "source": [
    "data = pd.read_pickle('data/data')"
   ]
  },
  {
   "cell_type": "markdown",
   "metadata": {},
   "source": [
    "# Exploratory analysis"
   ]
  },
  {
   "cell_type": "markdown",
   "metadata": {},
   "source": [
    "## Target distribution"
   ]
  },
  {
   "cell_type": "code",
   "execution_count": 5,
   "metadata": {},
   "outputs": [
    {
     "data": {
      "image/png": "[encoded data removed]",
      "text/plain": [
       "<Figure size 432x288 with 1 Axes>"
      ]
     },
     "metadata": {
      "needs_background": "light"
     },
     "output_type": "display_data"
    }
   ],
   "source": [
    "sns.histplot(data['target'])\n",
    "plt.title('target distribution')\n",
    "plt.show()"
   ]
  },
  {
   "cell_type": "code",
   "execution_count": 6,
   "metadata": {},
   "outputs": [
    {
     "data": {
      "text/plain": [
       "(1600000, 2)"
      ]
     },
     "execution_count": 6,
     "metadata": {},
     "output_type": "execute_result"
    }
   ],
   "source": [
    "data.shape"
   ]
  },
  {
   "cell_type": "markdown",
   "metadata": {},
   "source": [
    "Acuuracy is a good metric for measuring a balanced classification"
   ]
  },
  {
   "cell_type": "markdown",
   "metadata": {},
   "source": [
    "## Number of words per tweet"
   ]
  },
  {
   "cell_type": "code",
   "execution_count": 293,
   "metadata": {},
   "outputs": [],
   "source": [
    "splitted_text = data.text.str.split()"
   ]
  },
  {
   "cell_type": "code",
   "execution_count": 8,
   "metadata": {},
   "outputs": [],
   "source": [
    "nb_words =[len(text) for text in splitted_text.values]"
   ]
  },
  {
   "cell_type": "code",
   "execution_count": 10,
   "metadata": {},
   "outputs": [
    {
     "data": {
      "image/png": "[encoded data removed]",
      "text/plain": [
       "<Figure size 432x288 with 1 Axes>"
      ]
     },
     "metadata": {
      "needs_background": "light"
     },
     "output_type": "display_data"
    }
   ],
   "source": [
    "plt.title('Number of words per tweet')\n",
    "sns.histplot(nb_words)\n",
    "plt.show()"
   ]
  },
  {
   "cell_type": "markdown",
   "metadata": {},
   "source": [
    "## Word frequency"
   ]
  },
  {
   "cell_type": "code",
   "execution_count": 294,
   "metadata": {},
   "outputs": [],
   "source": [
    "dictionnary = {}\n",
    "for sentence in splitted_text:\n",
    "    for word in sentence:\n",
    "        if word in dictionnary.keys():\n",
    "            dictionnary[word]+=1\n",
    "        else:\n",
    "            dictionnary[word]=1\n",
    "        "
   ]
  },
  {
   "cell_type": "code",
   "execution_count": 295,
   "metadata": {},
   "outputs": [],
   "source": [
    "vocab = pd.DataFrame.from_dict(dictionnary,orient='index',columns=['nb_occur'])"
   ]
  },
  {
   "cell_type": "code",
   "execution_count": 296,
   "metadata": {},
   "outputs": [
    {
     "data": {
      "text/plain": [
       "(1350277, 1)"
      ]
     },
     "execution_count": 296,
     "metadata": {},
     "output_type": "execute_result"
    }
   ],
   "source": [
    "vocab.shape"
   ]
  },
  {
   "cell_type": "code",
   "execution_count": 310,
   "metadata": {},
   "outputs": [
    {
     "data": {
      "text/plain": [
       "(20209, 1)"
      ]
     },
     "execution_count": 310,
     "metadata": {},
     "output_type": "execute_result"
    }
   ],
   "source": [
    "vocab[vocab['nb_occur']>46].shape"
   ]
  },
  {
   "cell_type": "code",
   "execution_count": 298,
   "metadata": {},
   "outputs": [
    {
     "data": {
      "text/plain": [
       "(113823, 1)"
      ]
     },
     "execution_count": 298,
     "metadata": {},
     "output_type": "execute_result"
    }
   ],
   "source": [
    "vocab[vocab['nb_occur']>5].shape"
   ]
  },
  {
   "cell_type": "markdown",
   "metadata": {},
   "source": [
    "# Preprocessing"
   ]
  },
  {
   "cell_type": "markdown",
   "metadata": {},
   "source": [
    "## Tokenizer"
   ]
  },
  {
   "cell_type": "code",
   "execution_count": 18,
   "metadata": {},
   "outputs": [],
   "source": [
    "def tokenizer(data, y = None):\n",
    "    '''tokenizes input dataframe considering words of 2 and more characters\n",
    "       and lowercase text and remove numbers\n",
    "    \n",
    "       Parameters\n",
    "       ----------\n",
    "       data : Pandas series to tokenize\n",
    "       \n",
    "       Returns\n",
    "       --------\n",
    "       Pandas series list of tokens'''\n",
    "              \n",
    "        \n",
    "    tokenizer = nltk.RegexpTokenizer(r'\\w{2,}')\n",
    "    sentences = data.str.lower()\n",
    "    sentences = sentences.str.replace('\\d+', '',regex=True)\n",
    "    results = sentences.apply(tokenizer.tokenize)\n",
    "  \n",
    "    return results"
   ]
  },
  {
   "cell_type": "markdown",
   "metadata": {},
   "source": [
    "Create a transformer for pipeline integration"
   ]
  },
  {
   "cell_type": "code",
   "execution_count": 19,
   "metadata": {},
   "outputs": [],
   "source": [
    "from sklearn.preprocessing import FunctionTransformer"
   ]
  },
  {
   "cell_type": "code",
   "execution_count": 20,
   "metadata": {},
   "outputs": [],
   "source": [
    "tokenizer_transformer = FunctionTransformer(func=tokenizer)"
   ]
  },
  {
   "cell_type": "markdown",
   "metadata": {},
   "source": [
    "## Stemming"
   ]
  },
  {
   "cell_type": "code",
   "execution_count": 21,
   "metadata": {},
   "outputs": [],
   "source": [
    "from nltk.stem.porter import PorterStemmer"
   ]
  },
  {
   "cell_type": "code",
   "execution_count": 22,
   "metadata": {},
   "outputs": [],
   "source": [
    "def stemmer(data, y = None, stemmer = PorterStemmer()):\n",
    "    ''' Stems data using stemmer returns stems as a list of strings'''\n",
    "\n",
    "\n",
    "    def stem_sentence(tokenized_sentence):\n",
    "        stems = [stemmer.stem(i) for i in tokenized_sentence]\n",
    "        return stems\n",
    "    \n",
    "    return data.apply(stem_sentence)\n"
   ]
  },
  {
   "cell_type": "markdown",
   "metadata": {},
   "source": [
    "Create a transformer for pipeline integration"
   ]
  },
  {
   "cell_type": "code",
   "execution_count": 23,
   "metadata": {},
   "outputs": [],
   "source": [
    "stemmer_transformer = FunctionTransformer(func=stemmer)"
   ]
  },
  {
   "cell_type": "code",
   "execution_count": 24,
   "metadata": {},
   "outputs": [
    {
     "data": {
      "text/plain": [
       "542872     @TomFelton Given the state of the Australian c...\n",
       "515784     Eurgh, trying to get free Xfactor tickets but ...\n",
       "627433     Stuck in rush hour traffic being forced to enh...\n",
       "1373960                             got new eyebrows!! yay! \n",
       "1298704    @deniseneil Sorry to dash your daydreams, but ...\n",
       "                                 ...                        \n",
       "108505     At the plaza  bout to head home gotta clean al...\n",
       "786857     @birriepie i wanted to go late night but no on...\n",
       "1587469                  @gigsandtours did i win tickets :| \n",
       "460257                                   where's  my fro yo \n",
       "660488                       @YellowHail oh i see  pahaa xxx\n",
       "Name: text, Length: 40000, dtype: object"
      ]
     },
     "execution_count": 24,
     "metadata": {},
     "output_type": "execute_result"
    }
   ],
   "source": [
    "X_train"
   ]
  },
  {
   "cell_type": "code",
   "execution_count": 25,
   "metadata": {},
   "outputs": [],
   "source": [
    "A = stemmer_transformer.transform(tokenizer_transformer.transform(X_train))"
   ]
  },
  {
   "cell_type": "code",
   "execution_count": 26,
   "metadata": {},
   "outputs": [
    {
     "data": {
      "text/plain": [
       "542872     tomfelton given the state of the australian cr...\n",
       "515784     eurgh tri to get free xfactor ticket but it se...\n",
       "627433     stuck in rush hour traffic be forc to enhal th...\n",
       "1373960                                  got new eyebrow yay\n",
       "1298704    deniseneil sorri to dash your daydream but she...\n",
       "                                 ...                        \n",
       "108505     at the plaza bout to head home gotta clean all...\n",
       "786857     birriepi want to go late night but no one woul...\n",
       "1587469                           gigsandtour did win ticket\n",
       "460257                                       where my fro yo\n",
       "660488                           yellowhail oh see pahaa xxx\n",
       "Name: text, Length: 40000, dtype: object"
      ]
     },
     "execution_count": 26,
     "metadata": {},
     "output_type": "execute_result"
    }
   ],
   "source": [
    "A.str.join(sep=' ')"
   ]
  },
  {
   "cell_type": "markdown",
   "metadata": {},
   "source": [
    "## Lemmatization"
   ]
  },
  {
   "cell_type": "code",
   "execution_count": 27,
   "metadata": {},
   "outputs": [],
   "source": [
    "def lemmatizer(data, y = None, lemmatizer = WordNetLemmatizer()):\n",
    "    \n",
    "    def get_wordnet_pos(word):\n",
    "    #Map POS tag to first character lemmatize() accepts\n",
    "        tag = nltk.pos_tag([word])[0][1][0].upper()\n",
    "        tag_dict = {\"J\": wordnet.ADJ,\n",
    "                    \"N\": wordnet.NOUN,\n",
    "                    \"V\": wordnet.VERB,\n",
    "                    \"R\": wordnet.ADV}\n",
    "        return tag_dict.get(tag, wordnet.NOUN)\n",
    "\n",
    "\n",
    "    def lem_sentence(tokenized_sentence):\n",
    "        lems = [lemmatizer.lemmatize(i,pos=get_wordnet_pos(i)) for i in tokenized_sentence]\n",
    "        return lems \n",
    "\n",
    "    \n",
    "    return data.apply(lem_sentence)"
   ]
  },
  {
   "cell_type": "markdown",
   "metadata": {},
   "source": [
    "Create a transformer for pipeline integration"
   ]
  },
  {
   "cell_type": "code",
   "execution_count": 28,
   "metadata": {},
   "outputs": [],
   "source": [
    "lemmatizer_transformer = FunctionTransformer(func=lemmatizer)"
   ]
  },
  {
   "cell_type": "markdown",
   "metadata": {},
   "source": [
    "## removing stop words"
   ]
  },
  {
   "cell_type": "code",
   "execution_count": 29,
   "metadata": {},
   "outputs": [],
   "source": [
    "def remove_stopwords(data, stopwords = nltk.corpus.stopwords.words('english')):\n",
    "    '''Remove stopwords from data'''\n",
    "\n",
    "    # remove stopwords from stems and create a new column\n",
    "    results = [[stem for stem in stems if (\n",
    "        not(stem in stopwords))] for stems in data]\n",
    "    \n",
    "    return results"
   ]
  },
  {
   "cell_type": "markdown",
   "metadata": {},
   "source": [
    "Create a transformer for pipeline integration"
   ]
  },
  {
   "cell_type": "code",
   "execution_count": 30,
   "metadata": {},
   "outputs": [],
   "source": [
    "remove_stopwords_transformer = FunctionTransformer(remove_stopwords)"
   ]
  },
  {
   "cell_type": "markdown",
   "metadata": {},
   "source": [
    "# Preprocessing Pipeline"
   ]
  },
  {
   "cell_type": "markdown",
   "metadata": {},
   "source": [
    "## With stemming"
   ]
  },
  {
   "cell_type": "code",
   "execution_count": 23,
   "metadata": {},
   "outputs": [],
   "source": [
    "from sklearn.pipeline import Pipeline"
   ]
  },
  {
   "cell_type": "code",
   "execution_count": 24,
   "metadata": {},
   "outputs": [],
   "source": [
    "pipe_stem = Pipeline([('Tokenizer',tokenizer_transformer),\n",
    "                      ('Stemmer',stemmer_transformer),\n",
    "                      ])"
   ]
  },
  {
   "cell_type": "markdown",
   "metadata": {},
   "source": [
    "## With lemmatization"
   ]
  },
  {
   "cell_type": "code",
   "execution_count": 25,
   "metadata": {},
   "outputs": [],
   "source": [
    "pipe_lem = Pipeline([('Tokenizer',tokenizer_transformer),\n",
    "                      ('lemmatizer',lemmatizer_transformer),\n",
    "                      ])"
   ]
  },
  {
   "cell_type": "markdown",
   "metadata": {},
   "source": [
    "# Word Embedding"
   ]
  },
  {
   "cell_type": "markdown",
   "metadata": {},
   "source": [
    "## Fasttext Transformer"
   ]
  },
  {
   "cell_type": "code",
   "execution_count": 26,
   "metadata": {},
   "outputs": [],
   "source": [
    "from gensim.models.fasttext import FastText as FT_gensim\n",
    "from sklearn.base import BaseEstimator, TransformerMixin\n",
    "import gensim"
   ]
  },
  {
   "cell_type": "code",
   "execution_count": 27,
   "metadata": {},
   "outputs": [],
   "source": [
    "class Fastext_Transformer(BaseEstimator, TransformerMixin):\n",
    "    \n",
    "    def __init__(self):\n",
    "        self.model = FT_gensim(size=50,min_count=10,)     \n",
    "        \n",
    "        \n",
    "    def build_doc2vec_corpus(self,texts):\n",
    "        '''Returns a training corpus in the appropriate gensim Taggeddocument format'''\n",
    "        results = []\n",
    "        for tag,text in enumerate(texts):\n",
    "            results.append(gensim.models.doc2vec.TaggedDocument(text,[tag]))\n",
    "        return results\n",
    "\n",
    "    def fit(self, X, y = None):\n",
    "        self.train_corpus = list(self.build_doc2vec_corpus(X))\n",
    "        self.model.build_vocab(sentences=X.values)\n",
    "        self.model.train(X.values,\n",
    "                         epochs=self.model.epochs,\n",
    "                         total_examples=self.model.corpus_count,\n",
    "                         total_words=self.model.corpus_total_words\n",
    "                        )\n",
    "\n",
    "        return self\n",
    "    \n",
    "    def vectorized_sentence(self,sentence):\n",
    "        wordvecs_sent = [self.model.wv[word] for word in sentence]\n",
    "        meanvec_sent = np.array(wordvecs_sent).mean(axis=0)\n",
    "        return meanvec_sent\n",
    "        \n",
    "    \n",
    "    \n",
    "    def transform(self, X):\n",
    "        return [self.vectorized_sentence(text) for text in X]\n",
    "        "
   ]
  },
  {
   "cell_type": "markdown",
   "metadata": {},
   "source": [
    "## Pre trained Glove Transformer"
   ]
  },
  {
   "cell_type": "code",
   "execution_count": 28,
   "metadata": {},
   "outputs": [],
   "source": [
    "import gensim.downloader"
   ]
  },
  {
   "cell_type": "markdown",
   "metadata": {},
   "source": [
    "we'll use the glove pretrained vector with a dimension of 50"
   ]
  },
  {
   "cell_type": "code",
   "execution_count": 29,
   "metadata": {},
   "outputs": [],
   "source": [
    "glove_vectors = gensim.downloader.load('glove-twitter-50')"
   ]
  },
  {
   "cell_type": "code",
   "execution_count": 30,
   "metadata": {},
   "outputs": [],
   "source": [
    "def vectorize_sentence_pretrained(sentence,Keyedvectors= glove_vectors):\n",
    "    wordvecs_sent = [Keyedvectors[word] for word in sentence if word in Keyedvectors]\n",
    "    if len(wordvecs_sent)>0:\n",
    "        meanvec_sent = np.array(wordvecs_sent).mean(axis=0)\n",
    "    else:\n",
    "        meanvec_sent = np.zeros(Keyedvectors.vector_size)\n",
    "    return meanvec_sent\n",
    "\n",
    "def vectorize_corpus_glove(data):\n",
    "    return [vectorize_sentence_pretrained(text) for text in data]"
   ]
  },
  {
   "cell_type": "code",
   "execution_count": 31,
   "metadata": {},
   "outputs": [],
   "source": [
    "Glove_transformer = FunctionTransformer(func=vectorize_corpus_glove)"
   ]
  },
  {
   "cell_type": "markdown",
   "metadata": {},
   "source": [
    "## Doc2vec transformer"
   ]
  },
  {
   "cell_type": "code",
   "execution_count": 32,
   "metadata": {},
   "outputs": [],
   "source": [
    "class Doc2vec_Transformer(BaseEstimator, TransformerMixin):\n",
    "    \n",
    "    def __init__(self):\n",
    "        self.model = gensim.models.doc2vec.Doc2Vec(vector_size=50, min_count=10, epochs=60)        \n",
    "        self.train_corpus=[]\n",
    "        \n",
    "    def build_doc2vec_corpus(self,texts):\n",
    "        '''Returns a training corpus in the appropriate gensim Taggeddocument format'''\n",
    "        results = []\n",
    "        for tag,text in enumerate(texts):\n",
    "            results.append(gensim.models.doc2vec.TaggedDocument(text,[tag]))\n",
    "        return results\n",
    "\n",
    "    def fit(self, X, y = None):\n",
    "        self.train_corpus = list(self.build_doc2vec_corpus(X))\n",
    "        self.model.build_vocab(self.train_corpus)\n",
    "        self.model.train(self.train_corpus, total_examples=self.model.corpus_count, epochs=self.model.epochs)\n",
    "        return self\n",
    "    \n",
    "    def transform(self, X):\n",
    "        return [self.model.infer_vector(text) for text in X]\n",
    "        \n",
    "        "
   ]
  },
  {
   "cell_type": "markdown",
   "metadata": {},
   "source": [
    "# Comparing preprocessings with Logistic regression"
   ]
  },
  {
   "cell_type": "code",
   "execution_count": 5,
   "metadata": {},
   "outputs": [],
   "source": [
    "import time"
   ]
  },
  {
   "cell_type": "code",
   "execution_count": 133,
   "metadata": {},
   "outputs": [],
   "source": [
    "#create a sample dataset for testing\n",
    "data_sample = data.sample(n=50000,random_state=10)"
   ]
  },
  {
   "cell_type": "code",
   "execution_count": 134,
   "metadata": {},
   "outputs": [],
   "source": [
    "from sklearn.model_selection import train_test_split\n",
    "X = data_sample['text']\n",
    "y = data_sample['target']\n",
    "X_train, X_test, y_train, y_test = train_test_split(X,y,test_size=0.2,random_state=33,stratify=y)"
   ]
  },
  {
   "cell_type": "code",
   "execution_count": 215,
   "metadata": {},
   "outputs": [],
   "source": [
    "from sklearn.preprocessing import StandardScaler"
   ]
  },
  {
   "cell_type": "code",
   "execution_count": 216,
   "metadata": {},
   "outputs": [],
   "source": [
    "from sklearn.linear_model import LogisticRegression"
   ]
  },
  {
   "cell_type": "markdown",
   "metadata": {},
   "source": [
    "## Fastext"
   ]
  },
  {
   "cell_type": "markdown",
   "metadata": {},
   "source": [
    "### With lemmatization"
   ]
  },
  {
   "cell_type": "code",
   "execution_count": 217,
   "metadata": {},
   "outputs": [
    {
     "ename": "NameError",
     "evalue": "name 'Pipeline' is not defined",
     "output_type": "error",
     "traceback": [
      "\u001b[1;31m---------------------------------------------------------------------------\u001b[0m",
      "\u001b[1;31mNameError\u001b[0m                                 Traceback (most recent call last)",
      "\u001b[1;32m<ipython-input-217-474fb22fa155>\u001b[0m in \u001b[0;36m<module>\u001b[1;34m\u001b[0m\n\u001b[1;32m----> 1\u001b[1;33m pipe_lem_fastext = Pipeline([('preprocessing',pipe_lem),\n\u001b[0m\u001b[0;32m      2\u001b[0m                              \u001b[1;33m(\u001b[0m\u001b[1;34m'embedding'\u001b[0m\u001b[1;33m,\u001b[0m\u001b[0mFastext_Transformer\u001b[0m\u001b[1;33m(\u001b[0m\u001b[1;33m)\u001b[0m\u001b[1;33m)\u001b[0m\u001b[1;33m,\u001b[0m\u001b[1;33m\u001b[0m\u001b[1;33m\u001b[0m\u001b[0m\n\u001b[0;32m      3\u001b[0m                              \u001b[1;33m(\u001b[0m\u001b[1;34m'scaler'\u001b[0m\u001b[1;33m,\u001b[0m\u001b[0mStandardScaler\u001b[0m\u001b[1;33m(\u001b[0m\u001b[1;33m)\u001b[0m\u001b[1;33m)\u001b[0m\u001b[1;33m,\u001b[0m\u001b[1;33m\u001b[0m\u001b[1;33m\u001b[0m\u001b[0m\n\u001b[0;32m      4\u001b[0m                              ('classifier', LogisticRegression(C=1e-2))])\n",
      "\u001b[1;31mNameError\u001b[0m: name 'Pipeline' is not defined"
     ]
    }
   ],
   "source": [
    "pipe_lem_fastext = Pipeline([('preprocessing',pipe_lem),\n",
    "                             ('embedding',Fastext_Transformer()),\n",
    "                             ('scaler',StandardScaler()),\n",
    "                             ('classifier', LogisticRegression(C=1e-2))])"
   ]
  },
  {
   "cell_type": "code",
   "execution_count": 218,
   "metadata": {},
   "outputs": [
    {
     "ename": "NameError",
     "evalue": "name 'pipe_lem_fastext' is not defined",
     "output_type": "error",
     "traceback": [
      "\u001b[1;31m---------------------------------------------------------------------------\u001b[0m",
      "\u001b[1;31mNameError\u001b[0m                                 Traceback (most recent call last)",
      "\u001b[1;32m<ipython-input-218-c6cb8b291c1f>\u001b[0m in \u001b[0;36m<module>\u001b[1;34m\u001b[0m\n\u001b[0;32m      1\u001b[0m \u001b[0mstart\u001b[0m \u001b[1;33m=\u001b[0m \u001b[0mtime\u001b[0m\u001b[1;33m.\u001b[0m\u001b[0mtime\u001b[0m\u001b[1;33m(\u001b[0m\u001b[1;33m)\u001b[0m\u001b[1;33m\u001b[0m\u001b[1;33m\u001b[0m\u001b[0m\n\u001b[1;32m----> 2\u001b[1;33m \u001b[0mpipe_lem_fastext\u001b[0m\u001b[1;33m.\u001b[0m\u001b[0mfit\u001b[0m\u001b[1;33m(\u001b[0m\u001b[0mX_train\u001b[0m\u001b[1;33m,\u001b[0m\u001b[0my_train\u001b[0m\u001b[1;33m)\u001b[0m\u001b[1;33m\u001b[0m\u001b[1;33m\u001b[0m\u001b[0m\n\u001b[0m\u001b[0;32m      3\u001b[0m \u001b[0mstop\u001b[0m \u001b[1;33m=\u001b[0m \u001b[0mtime\u001b[0m\u001b[1;33m.\u001b[0m\u001b[0mtime\u001b[0m\u001b[1;33m(\u001b[0m\u001b[1;33m)\u001b[0m\u001b[1;33m\u001b[0m\u001b[1;33m\u001b[0m\u001b[0m\n\u001b[0;32m      4\u001b[0m \u001b[0mprint\u001b[0m\u001b[1;33m(\u001b[0m\u001b[1;34mf\"Training time: {stop - start}s\"\u001b[0m\u001b[1;33m)\u001b[0m\u001b[1;33m\u001b[0m\u001b[1;33m\u001b[0m\u001b[0m\n",
      "\u001b[1;31mNameError\u001b[0m: name 'pipe_lem_fastext' is not defined"
     ]
    }
   ],
   "source": [
    "start = time.time()\n",
    "pipe_lem_fastext.fit(X_train,y_train)\n",
    "stop = time.time()\n",
    "print(f\"Training time: {stop - start}s\")"
   ]
  },
  {
   "cell_type": "code",
   "execution_count": 56,
   "metadata": {},
   "outputs": [
    {
     "data": {
      "text/plain": [
       "0.5985"
      ]
     },
     "execution_count": 56,
     "metadata": {},
     "output_type": "execute_result"
    }
   ],
   "source": [
    "pipe_lem_fastext.score(X_test,y_test)"
   ]
  },
  {
   "cell_type": "markdown",
   "metadata": {},
   "source": [
    "### With stemming"
   ]
  },
  {
   "cell_type": "code",
   "execution_count": 61,
   "metadata": {},
   "outputs": [],
   "source": [
    "pipe_stem_fastext = Pipeline([('preprocessing',pipe_stem),\n",
    "                             ('embedding',Fastext_Transformer()),\n",
    "                             ('scaler',StandardScaler()),\n",
    "                             ('classifier', LogisticRegression(C=1e-2))])"
   ]
  },
  {
   "cell_type": "code",
   "execution_count": 62,
   "metadata": {},
   "outputs": [
    {
     "name": "stdout",
     "output_type": "stream",
     "text": [
      "Training time: 8.224512815475464s\n"
     ]
    }
   ],
   "source": [
    "start = time.time()\n",
    "pipe_stem_fastext.fit(X_train,y_train)\n",
    "stop = time.time()\n",
    "print(f\"Training time: {stop - start}s\")"
   ]
  },
  {
   "cell_type": "code",
   "execution_count": 63,
   "metadata": {},
   "outputs": [
    {
     "data": {
      "text/plain": [
       "0.628"
      ]
     },
     "execution_count": 63,
     "metadata": {},
     "output_type": "execute_result"
    }
   ],
   "source": [
    "pipe_stem_fastext.score(X_test,y_test)"
   ]
  },
  {
   "cell_type": "markdown",
   "metadata": {},
   "source": [
    "## Pre trained Glove"
   ]
  },
  {
   "cell_type": "markdown",
   "metadata": {},
   "source": [
    "### Wtih lemmatization"
   ]
  },
  {
   "cell_type": "code",
   "execution_count": 64,
   "metadata": {},
   "outputs": [],
   "source": [
    "pipe_lem_glove = Pipeline([('preprocessing',pipe_lem),\n",
    "                             ('embedding',Glove_transformer),\n",
    "                             ('scaler',StandardScaler()),\n",
    "                             ('classifier', LogisticRegression(C=1e-2))])"
   ]
  },
  {
   "cell_type": "code",
   "execution_count": 65,
   "metadata": {},
   "outputs": [
    {
     "name": "stdout",
     "output_type": "stream",
     "text": [
      "Training time: 59.26274061203003s\n"
     ]
    }
   ],
   "source": [
    "start = time.time()\n",
    "pipe_lem_glove.fit(X_train,y_train)\n",
    "stop = time.time()\n",
    "print(f\"Training time: {stop - start}s\")"
   ]
  },
  {
   "cell_type": "code",
   "execution_count": 66,
   "metadata": {},
   "outputs": [
    {
     "data": {
      "text/plain": [
       "0.7095"
      ]
     },
     "execution_count": 66,
     "metadata": {},
     "output_type": "execute_result"
    }
   ],
   "source": [
    "pipe_lem_glove.score(X_test,y_test)"
   ]
  },
  {
   "cell_type": "markdown",
   "metadata": {},
   "source": [
    "### Wtih stemming"
   ]
  },
  {
   "cell_type": "code",
   "execution_count": 67,
   "metadata": {},
   "outputs": [],
   "source": [
    "pipe_stem_glove = Pipeline([('preprocessing',pipe_stem),\n",
    "                             ('embedding',Glove_transformer),\n",
    "                             ('scaler',StandardScaler()),\n",
    "                             ('classifier', LogisticRegression(C=1e-2))])"
   ]
  },
  {
   "cell_type": "code",
   "execution_count": 68,
   "metadata": {},
   "outputs": [
    {
     "name": "stdout",
     "output_type": "stream",
     "text": [
      "Training time: 2.961422920227051s\n"
     ]
    }
   ],
   "source": [
    "start = time.time()\n",
    "pipe_stem_glove.fit(X_train,y_train)\n",
    "stop = time.time()\n",
    "print(f\"Training time: {stop - start}s\")"
   ]
  },
  {
   "cell_type": "code",
   "execution_count": 69,
   "metadata": {},
   "outputs": [
    {
     "data": {
      "text/plain": [
       "0.6775"
      ]
     },
     "execution_count": 69,
     "metadata": {},
     "output_type": "execute_result"
    }
   ],
   "source": [
    "pipe_stem_glove.score(X_test,y_test)"
   ]
  },
  {
   "cell_type": "markdown",
   "metadata": {},
   "source": [
    "## Doc2vec"
   ]
  },
  {
   "cell_type": "markdown",
   "metadata": {},
   "source": [
    "### Wtih lemmatization"
   ]
  },
  {
   "cell_type": "code",
   "execution_count": 70,
   "metadata": {},
   "outputs": [],
   "source": [
    "pipe_lem_doc2vec = Pipeline([('preprocessing',pipe_lem),\n",
    "                             ('embedding',Doc2vec_Transformer()),\n",
    "                             ('scaler',StandardScaler()),\n",
    "                             ('classifier', LogisticRegression(C=1e-2))])"
   ]
  },
  {
   "cell_type": "code",
   "execution_count": 71,
   "metadata": {
    "scrolled": false
   },
   "outputs": [
    {
     "name": "stdout",
     "output_type": "stream",
     "text": [
      "Training time: 114.40022587776184s\n"
     ]
    }
   ],
   "source": [
    "start = time.time()\n",
    "pipe_lem_doc2vec.fit(X_train,y_train)\n",
    "stop = time.time()\n",
    "print(f\"Training time: {stop - start}s\")"
   ]
  },
  {
   "cell_type": "code",
   "execution_count": 72,
   "metadata": {},
   "outputs": [
    {
     "data": {
      "text/plain": [
       "0.673"
      ]
     },
     "execution_count": 72,
     "metadata": {},
     "output_type": "execute_result"
    }
   ],
   "source": [
    "pipe_lem_doc2vec.score(X_test,y_test)"
   ]
  },
  {
   "cell_type": "markdown",
   "metadata": {},
   "source": [
    "### Wtih stemming"
   ]
  },
  {
   "cell_type": "code",
   "execution_count": 73,
   "metadata": {},
   "outputs": [],
   "source": [
    "pipe_stem_doc2vec = Pipeline([('preprocessing',pipe_stem),\n",
    "                             ('embedding',Doc2vec_Transformer()),\n",
    "                             ('scaler',StandardScaler()),\n",
    "                             ('classifier', LogisticRegression(C=1e-2))])"
   ]
  },
  {
   "cell_type": "code",
   "execution_count": 74,
   "metadata": {},
   "outputs": [
    {
     "name": "stdout",
     "output_type": "stream",
     "text": [
      "Training time: 58.13902759552002s\n"
     ]
    }
   ],
   "source": [
    "start = time.time()\n",
    "pipe_stem_doc2vec.fit(X_train,y_train)\n",
    "stop = time.time()\n",
    "print(f\"Training time: {stop - start}s\")"
   ]
  },
  {
   "cell_type": "code",
   "execution_count": 75,
   "metadata": {},
   "outputs": [
    {
     "data": {
      "text/plain": [
       "0.667"
      ]
     },
     "execution_count": 75,
     "metadata": {},
     "output_type": "execute_result"
    }
   ],
   "source": [
    "pipe_stem_doc2vec.score(X_test,y_test)"
   ]
  },
  {
   "cell_type": "markdown",
   "metadata": {},
   "source": [
    "# Neural Network"
   ]
  },
  {
   "cell_type": "markdown",
   "metadata": {},
   "source": [
    "## Preparing text data to fit Keras requirement"
   ]
  },
  {
   "cell_type": "markdown",
   "metadata": {},
   "source": [
    "the NN needs an input matrix with documents represented as an interger list, each interger is a word. we'll choose sequence length to be tweet_length(based on EDA it makes sense, if less than tweet_length use 0 padding) and vocabulary size max_token (based on preliminary EDA). We'll use Keras' vectorizer"
   ]
  },
  {
   "cell_type": "code",
   "execution_count": 207,
   "metadata": {},
   "outputs": [],
   "source": [
    "tweet_length = 30\n",
    "max_tokens = 40000"
   ]
  },
  {
   "cell_type": "code",
   "execution_count": 208,
   "metadata": {},
   "outputs": [],
   "source": [
    "from tensorflow.keras.layers.experimental.preprocessing import TextVectorization\n",
    "\n",
    "vectorizer = TextVectorization(max_tokens=max_tokens,output_sequence_length=tweet_length)"
   ]
  },
  {
   "cell_type": "code",
   "execution_count": 209,
   "metadata": {},
   "outputs": [],
   "source": [
    "vectorizer.adapt(X_train.values)"
   ]
  },
  {
   "cell_type": "markdown",
   "metadata": {},
   "source": [
    "to get the word corresponding to the integer"
   ]
  },
  {
   "cell_type": "code",
   "execution_count": 210,
   "metadata": {},
   "outputs": [
    {
     "data": {
      "text/plain": [
       "'retrorewind'"
      ]
     },
     "execution_count": 210,
     "metadata": {},
     "output_type": "execute_result"
    }
   ],
   "source": [
    "vectorizer.get_vocabulary()[7837]"
   ]
  },
  {
   "cell_type": "markdown",
   "metadata": {},
   "source": [
    "to vectorize a sentence"
   ]
  },
  {
   "cell_type": "code",
   "execution_count": 211,
   "metadata": {},
   "outputs": [
    {
     "data": {
      "text/plain": [
       "array([[  4, 772, 826,  15,   4, 149,   0,   0,   0,   0,   0,   0,   0,\n",
       "          0,   0,   0,   0,   0,   0,   0,   0,   0,   0,   0,   0,   0,\n",
       "          0,   0,   0,   0]], dtype=int64)"
      ]
     },
     "execution_count": 211,
     "metadata": {},
     "output_type": "execute_result"
    }
   ],
   "source": [
    "output = vectorizer([[\"the cat sat on the school\"]])\n",
    "output.numpy()"
   ]
  },
  {
   "cell_type": "markdown",
   "metadata": {},
   "source": [
    "## Creating test and train sets"
   ]
  },
  {
   "cell_type": "code",
   "execution_count": 254,
   "metadata": {},
   "outputs": [],
   "source": [
    "def vectorize_sets(X_train,X_test,vocab_length=20000,tweet_length=30):\n",
    "    '''Compute and return the vectors of the documents in X_train and X_test with a fixed length'''\n",
    "    vectorizer = TextVectorization(max_tokens=vocab_length,output_sequence_length=tweet_length)\n",
    "    vectorizer.adapt(X_train.values)\n",
    "    voc = vectorizer.get_vocabulary() # vocabulary for futur use\n",
    "    word_index = dict(zip(voc, range(len(voc)))) # word index for futur use\n",
    "    return (vectorizer(X_train.values),vectorizer (X_test.values),voc,word_index)"
   ]
  },
  {
   "cell_type": "code",
   "execution_count": 255,
   "metadata": {},
   "outputs": [
    {
     "data": {
      "text/plain": [
       "183058     I can lose a lover but i cant lose a friend.  ...\n",
       "951667     @tayswift http://twitpic.com/2xtsl - Trace is ...\n",
       "886358     @andyclemmensen i have to agree with you on th...\n",
       "1171979    @mekster The BBQ part of it failed, we ended u...\n",
       "532978       @krisps  my awesome parade has been stormed on.\n",
       "                                 ...                        \n",
       "155641     @easymak caribou's a coffee chain up here. it'...\n",
       "263360           @playgrounds lmao you're breaking my heart \n",
       "648876              These gym sessions are killing my arms. \n",
       "933122     @Avery_Brandon thx 4 hitting me back! We have ...\n",
       "454143     @selenagomez i'm cryin' right outside!!!   but...\n",
       "Name: text, Length: 40000, dtype: object"
      ]
     },
     "execution_count": 255,
     "metadata": {},
     "output_type": "execute_result"
    }
   ],
   "source": [
    "X_train"
   ]
  },
  {
   "cell_type": "markdown",
   "metadata": {},
   "source": [
    "### Raw tweets"
   ]
  },
  {
   "cell_type": "code",
   "execution_count": 256,
   "metadata": {},
   "outputs": [],
   "source": [
    "X_train_raw, X_test_raw, voc_raw, word_index_raw = vectorize_sets(\n",
    "    X_train,\n",
    "    X_test,\n",
    "    vocab_length=max_tokens,\n",
    "    tweet_length=30)"
   ]
  },
  {
   "cell_type": "code",
   "execution_count": 257,
   "metadata": {},
   "outputs": [
    {
     "data": {
      "text/plain": [
       "<tf.Tensor: shape=(40000, 30), dtype=int64, numpy=\n",
       "array([[    2,    65,   974, ...,     0,     0,     0],\n",
       "       [19946, 39323,  4582, ...,     0,     0,     0],\n",
       "       [ 2599,     2,    18, ...,     0,     0,     0],\n",
       "       ...,\n",
       "       [  398,   642,  5276, ...,     0,     0,     0],\n",
       "       [14029,   897,   188, ...,     0,     0,     0],\n",
       "       [ 1925,    14,  6976, ...,     0,     0,     0]], dtype=int64)>"
      ]
     },
     "execution_count": 257,
     "metadata": {},
     "output_type": "execute_result"
    }
   ],
   "source": [
    "X_train_raw"
   ]
  },
  {
   "cell_type": "markdown",
   "metadata": {},
   "source": [
    "### basic preprocessing"
   ]
  },
  {
   "cell_type": "code",
   "execution_count": 258,
   "metadata": {},
   "outputs": [],
   "source": [
    "X_train_vect, X_test_vect, voc, word_index = vectorize_sets(\n",
    "    tokenizer_transformer.transform(X_train).str.join(sep=' '),\n",
    "    tokenizer_transformer.transform(X_test).str.join(sep=' '),\n",
    "    vocab_length=max_tokens,\n",
    "    tweet_length=30)"
   ]
  },
  {
   "cell_type": "markdown",
   "metadata": {},
   "source": [
    "### Stemming"
   ]
  },
  {
   "cell_type": "code",
   "execution_count": 259,
   "metadata": {},
   "outputs": [],
   "source": [
    "X_train_vect_stem, X_test_vect_stem, voc_stem, word_index_stem = vectorize_sets(\n",
    "    stemmer_transformer.transform(tokenizer_transformer.transform(X_train)).str.join(sep=' '),\n",
    "    stemmer_transformer.transform(tokenizer_transformer.transform(X_test)).str.join(sep=' '),\n",
    "    vocab_length=max_tokens,\n",
    "    tweet_length=30)"
   ]
  },
  {
   "cell_type": "markdown",
   "metadata": {},
   "source": [
    "### Lemmatization"
   ]
  },
  {
   "cell_type": "code",
   "execution_count": 260,
   "metadata": {},
   "outputs": [],
   "source": [
    "#X_train_vect_lem, X_test_vect_lem, voc_lem, word_index_lem = vectorize_sets(\n",
    "#    lemmatizer_transformer.transform(tokenizer_transformer.transform(X_train)).str.join(sep=' '),\n",
    "#    lemmatizer_transformer.transform(tokenizer_transformer.transform(X_test)).str.join(sep=' '),\n",
    "#    vocab_length=max_tokens,\n",
    "#    tweet_length=30)"
   ]
  },
  {
   "cell_type": "code",
   "execution_count": 261,
   "metadata": {},
   "outputs": [
    {
     "name": "stdout",
     "output_type": "stream",
     "text": [
      " raw vocab length 40000 \n",
      " no processing vocab length 40000 \n",
      " stem vocab length 40000 \n",
      " lem vocab length 20000\n"
     ]
    }
   ],
   "source": [
    "print(f' raw vocab length {len(voc_raw)} \\n no processing vocab length {len(voc)} \\n stem vocab length {len(voc_stem)} \\n lem vocab length {len(voc_lem)}')"
   ]
  },
  {
   "cell_type": "markdown",
   "metadata": {},
   "source": [
    "## Testing preprocessing on a simple Neural Network"
   ]
  },
  {
   "cell_type": "code",
   "execution_count": 262,
   "metadata": {},
   "outputs": [],
   "source": [
    "import time"
   ]
  },
  {
   "cell_type": "code",
   "execution_count": 263,
   "metadata": {},
   "outputs": [],
   "source": [
    "models_performances=pd.DataFrame(columns=[ 'training_time','predict_time','AUC','Accuracy'])"
   ]
  },
  {
   "cell_type": "code",
   "execution_count": 264,
   "metadata": {},
   "outputs": [],
   "source": [
    "from keras.models import Sequential\n",
    "from keras.layers import Dense\n",
    "from keras.layers import Flatten\n",
    "from keras.layers import Embedding"
   ]
  },
  {
   "cell_type": "markdown",
   "metadata": {},
   "source": [
    "### Raw texts"
   ]
  },
  {
   "cell_type": "code",
   "execution_count": 265,
   "metadata": {},
   "outputs": [
    {
     "name": "stdout",
     "output_type": "stream",
     "text": [
      "Model: \"sequential_29\"\n",
      "_________________________________________________________________\n",
      "Layer (type)                 Output Shape              Param #   \n",
      "=================================================================\n",
      "embedding_26 (Embedding)     (None, 30, 50)            2000000   \n",
      "_________________________________________________________________\n",
      "flatten_20 (Flatten)         (None, 1500)              0         \n",
      "_________________________________________________________________\n",
      "dense_54 (Dense)             (None, 8)                 12008     \n",
      "_________________________________________________________________\n",
      "dense_55 (Dense)             (None, 1)                 9         \n",
      "=================================================================\n",
      "Total params: 2,012,017\n",
      "Trainable params: 2,012,017\n",
      "Non-trainable params: 0\n",
      "_________________________________________________________________\n",
      "None\n"
     ]
    }
   ],
   "source": [
    "model_name = 'simple NN - raw text'\n",
    "\n",
    "model = Sequential()\n",
    "\n",
    "model.add(Embedding(len(voc_raw),50 ,input_length = tweet_length))\n",
    "model.add(Flatten())\n",
    "model.add(Dense(8,activation='relu'))\n",
    "model.add(Dense(1,activation='sigmoid'))\n",
    "model.compile(loss = 'binary_crossentropy', optimizer='adam',metrics = ['accuracy','AUC'])\n",
    "print(model.summary())"
   ]
  },
  {
   "cell_type": "code",
   "execution_count": 266,
   "metadata": {},
   "outputs": [
    {
     "name": "stdout",
     "output_type": "stream",
     "text": [
      "Epoch 1/15\n",
      "40/40 [==============================] - 2s 53ms/step - loss: 0.6823 - accuracy: 0.5681 - auc: 0.6111 - val_loss: 0.6523 - val_accuracy: 0.6590 - val_auc: 0.7219\n",
      "Epoch 2/15\n",
      "40/40 [==============================] - 2s 43ms/step - loss: 0.5802 - accuracy: 0.7323 - auc: 0.8014 - val_loss: 0.5480 - val_accuracy: 0.7227 - val_auc: 0.8075\n",
      "Epoch 3/15\n",
      "40/40 [==============================] - 2s 46ms/step - loss: 0.4328 - accuracy: 0.8195 - auc: 0.8949 - val_loss: 0.5024 - val_accuracy: 0.7540 - val_auc: 0.8340\n",
      "Epoch 4/15\n",
      "40/40 [==============================] - 2s 43ms/step - loss: 0.3196 - accuracy: 0.8821 - auc: 0.9478 - val_loss: 0.5045 - val_accuracy: 0.7539 - val_auc: 0.8362\n",
      "Epoch 5/15\n",
      "40/40 [==============================] - 2s 42ms/step - loss: 0.2320 - accuracy: 0.9230 - auc: 0.9749 - val_loss: 0.5250 - val_accuracy: 0.7509 - val_auc: 0.8284\n",
      "Epoch 6/15\n",
      "40/40 [==============================] - 2s 47ms/step - loss: 0.1685 - accuracy: 0.9489 - auc: 0.9876 - val_loss: 0.5430 - val_accuracy: 0.7465 - val_auc: 0.8253\n",
      "Epoch 7/15\n",
      "40/40 [==============================] - 2s 46ms/step - loss: 0.1256 - accuracy: 0.9645 - auc: 0.9935 - val_loss: 0.5734 - val_accuracy: 0.7411 - val_auc: 0.8207\n",
      "Epoch 8/15\n",
      "40/40 [==============================] - 2s 46ms/step - loss: 0.0973 - accuracy: 0.9739 - auc: 0.9962 - val_loss: 0.5998 - val_accuracy: 0.7418 - val_auc: 0.8160\n",
      "Epoch 9/15\n",
      "40/40 [==============================] - 2s 47ms/step - loss: 0.0765 - accuracy: 0.9811 - auc: 0.9977 - val_loss: 0.6337 - val_accuracy: 0.7384 - val_auc: 0.8115\n",
      "Epoch 10/15\n",
      "40/40 [==============================] - 2s 45ms/step - loss: 0.0622 - accuracy: 0.9848 - auc: 0.9985 - val_loss: 0.6622 - val_accuracy: 0.7367 - val_auc: 0.8089\n",
      "Epoch 11/15\n",
      "40/40 [==============================] - 2s 41ms/step - loss: 0.0513 - accuracy: 0.9878 - auc: 0.9990 - val_loss: 0.6921 - val_accuracy: 0.7337 - val_auc: 0.8066\n",
      "Epoch 12/15\n",
      "40/40 [==============================] - 2s 45ms/step - loss: 0.0432 - accuracy: 0.9902 - auc: 0.9993 - val_loss: 0.7246 - val_accuracy: 0.7309 - val_auc: 0.8037\n",
      "Epoch 13/15\n",
      "40/40 [==============================] - 2s 44ms/step - loss: 0.0370 - accuracy: 0.9913 - auc: 0.9995 - val_loss: 0.7514 - val_accuracy: 0.7312 - val_auc: 0.8012\n",
      "Epoch 14/15\n",
      "40/40 [==============================] - 2s 43ms/step - loss: 0.0330 - accuracy: 0.9923 - auc: 0.9995 - val_loss: 0.7825 - val_accuracy: 0.7276 - val_auc: 0.7990\n",
      "Epoch 15/15\n",
      "40/40 [==============================] - 2s 43ms/step - loss: 0.0277 - accuracy: 0.9943 - auc: 0.9997 - val_loss: 0.8105 - val_accuracy: 0.7267 - val_auc: 0.7977\n"
     ]
    }
   ],
   "source": [
    "start = time.time()\n",
    "hist = model.fit(X_train_raw, y_train, batch_size=1024, epochs=15, validation_data=(X_test_raw, y_test))\n",
    "stop = time.time()"
   ]
  },
  {
   "cell_type": "code",
   "execution_count": 267,
   "metadata": {},
   "outputs": [
    {
     "data": {
      "text/plain": [
       "0.8362065553665161"
      ]
     },
     "execution_count": 267,
     "metadata": {},
     "output_type": "execute_result"
    }
   ],
   "source": [
    "max(hist.history['val_auc'])"
   ]
  },
  {
   "cell_type": "code",
   "execution_count": 268,
   "metadata": {},
   "outputs": [],
   "source": [
    "models_performances = models_performances.append(\n",
    "    pd.Series(data={'training_time': stop-start,\n",
    "              'AUC': max(hist.history['val_auc']),\n",
    "                    'Accuracy': max(hist.history['val_accuracy'])},\n",
    "              name=model_name)\n",
    ")"
   ]
  },
  {
   "cell_type": "markdown",
   "metadata": {},
   "source": [
    "### Basic preprocessing"
   ]
  },
  {
   "cell_type": "code",
   "execution_count": 269,
   "metadata": {},
   "outputs": [
    {
     "name": "stdout",
     "output_type": "stream",
     "text": [
      "Model: \"sequential_30\"\n",
      "_________________________________________________________________\n",
      "Layer (type)                 Output Shape              Param #   \n",
      "=================================================================\n",
      "embedding_27 (Embedding)     (None, 30, 50)            2000000   \n",
      "_________________________________________________________________\n",
      "flatten_21 (Flatten)         (None, 1500)              0         \n",
      "_________________________________________________________________\n",
      "dense_56 (Dense)             (None, 8)                 12008     \n",
      "_________________________________________________________________\n",
      "dense_57 (Dense)             (None, 1)                 9         \n",
      "=================================================================\n",
      "Total params: 2,012,017\n",
      "Trainable params: 2,012,017\n",
      "Non-trainable params: 0\n",
      "_________________________________________________________________\n",
      "None\n"
     ]
    }
   ],
   "source": [
    "model_name = 'simple NN - Basic preprocessing'\n",
    "\n",
    "model = Sequential()\n",
    "\n",
    "model.add(Embedding(len(voc),50 ,input_length = tweet_length))\n",
    "model.add(Flatten())\n",
    "model.add(Dense(8,activation='relu'))\n",
    "model.add(Dense(1,activation='sigmoid'))\n",
    "model.compile(loss = 'binary_crossentropy', optimizer='adam',metrics = ['accuracy','AUC'])\n",
    "print(model.summary())"
   ]
  },
  {
   "cell_type": "code",
   "execution_count": 270,
   "metadata": {},
   "outputs": [
    {
     "name": "stdout",
     "output_type": "stream",
     "text": [
      "Epoch 1/15\n",
      "40/40 [==============================] - 2s 48ms/step - loss: 0.6851 - accuracy: 0.5638 - auc: 0.5964 - val_loss: 0.6607 - val_accuracy: 0.6579 - val_auc: 0.7298\n",
      "Epoch 2/15\n",
      "40/40 [==============================] - 2s 43ms/step - loss: 0.5918 - accuracy: 0.7493 - auc: 0.8162 - val_loss: 0.5506 - val_accuracy: 0.7341 - val_auc: 0.8059\n",
      "Epoch 3/15\n",
      "40/40 [==============================] - 2s 47ms/step - loss: 0.4454 - accuracy: 0.8127 - auc: 0.8887 - val_loss: 0.5061 - val_accuracy: 0.7571 - val_auc: 0.8333\n",
      "Epoch 4/15\n",
      "40/40 [==============================] - 2s 45ms/step - loss: 0.3359 - accuracy: 0.8740 - auc: 0.9415 - val_loss: 0.5027 - val_accuracy: 0.7551 - val_auc: 0.8370\n",
      "Epoch 5/15\n",
      "40/40 [==============================] - 2s 45ms/step - loss: 0.2450 - accuracy: 0.9185 - auc: 0.9716 - val_loss: 0.5151 - val_accuracy: 0.7545 - val_auc: 0.8323\n",
      "Epoch 6/15\n",
      "40/40 [==============================] - 2s 43ms/step - loss: 0.1797 - accuracy: 0.9463 - auc: 0.9855 - val_loss: 0.5398 - val_accuracy: 0.7499 - val_auc: 0.8274\n",
      "Epoch 7/15\n",
      "40/40 [==============================] - 2s 46ms/step - loss: 0.1344 - accuracy: 0.9622 - auc: 0.9921 - val_loss: 0.5678 - val_accuracy: 0.7447 - val_auc: 0.8216\n",
      "Epoch 8/15\n",
      "40/40 [==============================] - 2s 41ms/step - loss: 0.1034 - accuracy: 0.9724 - auc: 0.9955 - val_loss: 0.5942 - val_accuracy: 0.7448 - val_auc: 0.8172\n",
      "Epoch 9/15\n",
      "40/40 [==============================] - 2s 44ms/step - loss: 0.0817 - accuracy: 0.9793 - auc: 0.9972 - val_loss: 0.6348 - val_accuracy: 0.7365 - val_auc: 0.8139\n",
      "Epoch 10/15\n",
      "40/40 [==============================] - 2s 45ms/step - loss: 0.0655 - accuracy: 0.9846 - auc: 0.9982 - val_loss: 0.6625 - val_accuracy: 0.7373 - val_auc: 0.8081\n",
      "Epoch 11/15\n",
      "40/40 [==============================] - 2s 42ms/step - loss: 0.0545 - accuracy: 0.9866 - auc: 0.9987 - val_loss: 0.7010 - val_accuracy: 0.7330 - val_auc: 0.8076\n",
      "Epoch 12/15\n",
      "40/40 [==============================] - 2s 49ms/step - loss: 0.0455 - accuracy: 0.9895 - auc: 0.9991 - val_loss: 0.7241 - val_accuracy: 0.7359 - val_auc: 0.8041\n",
      "Epoch 13/15\n",
      "40/40 [==============================] - 2s 48ms/step - loss: 0.0382 - accuracy: 0.9913 - auc: 0.9994 - val_loss: 0.7570 - val_accuracy: 0.7365 - val_auc: 0.8024\n",
      "Epoch 14/15\n",
      "40/40 [==============================] - 2s 49ms/step - loss: 0.0329 - accuracy: 0.9930 - auc: 0.9995 - val_loss: 0.7794 - val_accuracy: 0.7334 - val_auc: 0.8008\n",
      "Epoch 15/15\n",
      "40/40 [==============================] - 2s 47ms/step - loss: 0.0287 - accuracy: 0.9941 - auc: 0.9996 - val_loss: 0.8241 - val_accuracy: 0.7291 - val_auc: 0.7997\n"
     ]
    }
   ],
   "source": [
    "start = time.time()\n",
    "hist = model.fit(X_train_vect, y_train, batch_size=1024, epochs=15, validation_data=(X_test_vect, y_test))\n",
    "stop = time.time()"
   ]
  },
  {
   "cell_type": "code",
   "execution_count": 271,
   "metadata": {},
   "outputs": [],
   "source": [
    "models_performances = models_performances.append(\n",
    "    pd.Series(data={'training_time': stop-start,\n",
    "                    'AUC': max(hist.history['val_auc']),\n",
    "                    'Accuracy': max(hist.history['val_accuracy'])},\n",
    "              name=model_name)\n",
    ")"
   ]
  },
  {
   "cell_type": "code",
   "execution_count": 272,
   "metadata": {},
   "outputs": [
    {
     "data": {
      "text/html": [
       "<div>\n",
       "<style scoped>\n",
       "    .dataframe tbody tr th:only-of-type {\n",
       "        vertical-align: middle;\n",
       "    }\n",
       "\n",
       "    .dataframe tbody tr th {\n",
       "        vertical-align: top;\n",
       "    }\n",
       "\n",
       "    .dataframe thead th {\n",
       "        text-align: right;\n",
       "    }\n",
       "</style>\n",
       "<table border=\"1\" class=\"dataframe\">\n",
       "  <thead>\n",
       "    <tr style=\"text-align: right;\">\n",
       "      <th></th>\n",
       "      <th>training_time</th>\n",
       "      <th>predict_time</th>\n",
       "      <th>AUC</th>\n",
       "      <th>Accuracy</th>\n",
       "    </tr>\n",
       "  </thead>\n",
       "  <tbody>\n",
       "    <tr>\n",
       "      <th>simple NN - raw text</th>\n",
       "      <td>28.199898</td>\n",
       "      <td>NaN</td>\n",
       "      <td>0.836207</td>\n",
       "      <td>0.7540</td>\n",
       "    </tr>\n",
       "    <tr>\n",
       "      <th>simple NN - Basic preprocessing</th>\n",
       "      <td>29.217246</td>\n",
       "      <td>NaN</td>\n",
       "      <td>0.836986</td>\n",
       "      <td>0.7571</td>\n",
       "    </tr>\n",
       "  </tbody>\n",
       "</table>\n",
       "</div>"
      ],
      "text/plain": [
       "                                 training_time  predict_time       AUC  \\\n",
       "simple NN - raw text                 28.199898           NaN  0.836207   \n",
       "simple NN - Basic preprocessing      29.217246           NaN  0.836986   \n",
       "\n",
       "                                 Accuracy  \n",
       "simple NN - raw text               0.7540  \n",
       "simple NN - Basic preprocessing    0.7571  "
      ]
     },
     "execution_count": 272,
     "metadata": {},
     "output_type": "execute_result"
    }
   ],
   "source": [
    "models_performances"
   ]
  },
  {
   "cell_type": "markdown",
   "metadata": {},
   "source": [
    "### Stemming"
   ]
  },
  {
   "cell_type": "code",
   "execution_count": 273,
   "metadata": {},
   "outputs": [
    {
     "name": "stdout",
     "output_type": "stream",
     "text": [
      "Model: \"sequential_31\"\n",
      "_________________________________________________________________\n",
      "Layer (type)                 Output Shape              Param #   \n",
      "=================================================================\n",
      "embedding_28 (Embedding)     (None, 30, 50)            2000000   \n",
      "_________________________________________________________________\n",
      "flatten_22 (Flatten)         (None, 1500)              0         \n",
      "_________________________________________________________________\n",
      "dense_58 (Dense)             (None, 8)                 12008     \n",
      "_________________________________________________________________\n",
      "dense_59 (Dense)             (None, 1)                 9         \n",
      "=================================================================\n",
      "Total params: 2,012,017\n",
      "Trainable params: 2,012,017\n",
      "Non-trainable params: 0\n",
      "_________________________________________________________________\n",
      "None\n"
     ]
    }
   ],
   "source": [
    "model_name = 'simple NN - Stemming'\n",
    "\n",
    "model = Sequential()\n",
    "\n",
    "model.add(Embedding(len(voc_stem),50 ,input_length = tweet_length))\n",
    "model.add(Flatten())\n",
    "model.add(Dense(8,activation='relu'))\n",
    "model.add(Dense(1,activation='sigmoid'))\n",
    "model.compile(loss = 'binary_crossentropy', optimizer='adam',metrics = ['accuracy','AUC'])\n",
    "print(model.summary())"
   ]
  },
  {
   "cell_type": "code",
   "execution_count": 274,
   "metadata": {},
   "outputs": [
    {
     "name": "stdout",
     "output_type": "stream",
     "text": [
      "Epoch 1/15\n",
      "40/40 [==============================] - 2s 51ms/step - loss: 0.6856 - accuracy: 0.5656 - auc: 0.6051 - val_loss: 0.6608 - val_accuracy: 0.6564 - val_auc: 0.7201\n",
      "Epoch 2/15\n",
      "40/40 [==============================] - 2s 45ms/step - loss: 0.5845 - accuracy: 0.7398 - auc: 0.8106 - val_loss: 0.5414 - val_accuracy: 0.7322 - val_auc: 0.8134\n",
      "Epoch 3/15\n",
      "40/40 [==============================] - 2s 46ms/step - loss: 0.4362 - accuracy: 0.8184 - auc: 0.8922 - val_loss: 0.5016 - val_accuracy: 0.7561 - val_auc: 0.8360\n",
      "Epoch 4/15\n",
      "40/40 [==============================] - 2s 45ms/step - loss: 0.3294 - accuracy: 0.8777 - auc: 0.9438 - val_loss: 0.5041 - val_accuracy: 0.7576 - val_auc: 0.8363\n",
      "Epoch 5/15\n",
      "40/40 [==============================] - 2s 47ms/step - loss: 0.2427 - accuracy: 0.9192 - auc: 0.9720 - val_loss: 0.5182 - val_accuracy: 0.7580 - val_auc: 0.8308\n",
      "Epoch 6/15\n",
      "40/40 [==============================] - 2s 45ms/step - loss: 0.1782 - accuracy: 0.9452 - auc: 0.9860 - val_loss: 0.5447 - val_accuracy: 0.7513 - val_auc: 0.8225\n",
      "Epoch 7/15\n",
      "40/40 [==============================] - 2s 45ms/step - loss: 0.1347 - accuracy: 0.9607 - auc: 0.9922 - val_loss: 0.5868 - val_accuracy: 0.7414 - val_auc: 0.8175\n",
      "Epoch 8/15\n",
      "40/40 [==============================] - 2s 43ms/step - loss: 0.1058 - accuracy: 0.9707 - auc: 0.9955 - val_loss: 0.6085 - val_accuracy: 0.7412 - val_auc: 0.8118\n",
      "Epoch 9/15\n",
      "40/40 [==============================] - 2s 44ms/step - loss: 0.0833 - accuracy: 0.9778 - auc: 0.9974 - val_loss: 0.6343 - val_accuracy: 0.7374 - val_auc: 0.8080\n",
      "Epoch 10/15\n",
      "40/40 [==============================] - 2s 42ms/step - loss: 0.0677 - accuracy: 0.9834 - auc: 0.9983 - val_loss: 0.6685 - val_accuracy: 0.7329 - val_auc: 0.8041\n",
      "Epoch 11/15\n",
      "40/40 [==============================] - 2s 43ms/step - loss: 0.0563 - accuracy: 0.9866 - auc: 0.9989 - val_loss: 0.6983 - val_accuracy: 0.7307 - val_auc: 0.8008\n",
      "Epoch 12/15\n",
      "40/40 [==============================] - 2s 45ms/step - loss: 0.0467 - accuracy: 0.9894 - auc: 0.9993 - val_loss: 0.7357 - val_accuracy: 0.7286 - val_auc: 0.7988\n",
      "Epoch 13/15\n",
      "40/40 [==============================] - 2s 46ms/step - loss: 0.0401 - accuracy: 0.9906 - auc: 0.9995 - val_loss: 0.7659 - val_accuracy: 0.7286 - val_auc: 0.7963\n",
      "Epoch 14/15\n",
      "40/40 [==============================] - 2s 45ms/step - loss: 0.0341 - accuracy: 0.9923 - auc: 0.9996 - val_loss: 0.8009 - val_accuracy: 0.7245 - val_auc: 0.7945\n",
      "Epoch 15/15\n",
      "40/40 [==============================] - 2s 43ms/step - loss: 0.0296 - accuracy: 0.9934 - auc: 0.9997 - val_loss: 0.8280 - val_accuracy: 0.7230 - val_auc: 0.7931\n"
     ]
    }
   ],
   "source": [
    "start = time.time()\n",
    "hist = model.fit(X_train_vect_stem, y_train, batch_size=1024, epochs=15, validation_data=(X_test_vect_stem, y_test))\n",
    "stop = time.time()"
   ]
  },
  {
   "cell_type": "code",
   "execution_count": 275,
   "metadata": {},
   "outputs": [],
   "source": [
    "models_performances = models_performances.append(\n",
    "    pd.Series(data={'training_time': stop-start,\n",
    "                    'AUC': max(hist.history['val_auc']),\n",
    "                    'Accuracy': max(hist.history['val_accuracy'])},\n",
    "              name=model_name)\n",
    ")"
   ]
  },
  {
   "cell_type": "markdown",
   "metadata": {},
   "source": [
    "### Lemmatization"
   ]
  },
  {
   "cell_type": "code",
   "execution_count": 276,
   "metadata": {},
   "outputs": [],
   "source": [
    "# model_name = 'simple NN - Lemmatization'\n",
    "\n",
    "# model = Sequential()\n",
    "\n",
    "# model.add(Embedding(len(voc_lem),50 ,input_length = tweet_length))\n",
    "# model.add(Flatten())\n",
    "# model.add(Dense(8,activation='relu'))\n",
    "# model.add(Dense(1,activation='sigmoid'))\n",
    "# model.compile(loss = 'binary_crossentropy', optimizer='adam',metrics = ['accuracy','AUC'])\n",
    "# print(model.summary())"
   ]
  },
  {
   "cell_type": "code",
   "execution_count": 277,
   "metadata": {},
   "outputs": [],
   "source": [
    "# start = time.time()\n",
    "# hist = model.fit(X_train_vect_lem, y_train, batch_size=1024, epochs=15, validation_data=(X_test_vect_lem, y_test))\n",
    "# stop = time.time()"
   ]
  },
  {
   "cell_type": "code",
   "execution_count": 278,
   "metadata": {},
   "outputs": [],
   "source": [
    "\n",
    "# models_performances = models_performances.append(\n",
    "#     pd.Series(data={'training_time': stop-start,\n",
    "#                     'AUC': max(hist.history['val_auc']),\n",
    "#                     'Accuracy': max(hist.history['val_accuracy'])},\n",
    "#               name=model_name)\n",
    "# )\n"
   ]
  },
  {
   "cell_type": "markdown",
   "metadata": {},
   "source": [
    "## Summary of Preprocessing performances"
   ]
  },
  {
   "cell_type": "code",
   "execution_count": 279,
   "metadata": {},
   "outputs": [
    {
     "data": {
      "text/html": [
       "<div>\n",
       "<style scoped>\n",
       "    .dataframe tbody tr th:only-of-type {\n",
       "        vertical-align: middle;\n",
       "    }\n",
       "\n",
       "    .dataframe tbody tr th {\n",
       "        vertical-align: top;\n",
       "    }\n",
       "\n",
       "    .dataframe thead th {\n",
       "        text-align: right;\n",
       "    }\n",
       "</style>\n",
       "<table border=\"1\" class=\"dataframe\">\n",
       "  <thead>\n",
       "    <tr style=\"text-align: right;\">\n",
       "      <th></th>\n",
       "      <th>training_time</th>\n",
       "      <th>predict_time</th>\n",
       "      <th>AUC</th>\n",
       "      <th>Accuracy</th>\n",
       "    </tr>\n",
       "  </thead>\n",
       "  <tbody>\n",
       "    <tr>\n",
       "      <th>simple NN - raw text</th>\n",
       "      <td>28.199898</td>\n",
       "      <td>NaN</td>\n",
       "      <td>0.836207</td>\n",
       "      <td>0.7540</td>\n",
       "    </tr>\n",
       "    <tr>\n",
       "      <th>simple NN - Basic preprocessing</th>\n",
       "      <td>29.217246</td>\n",
       "      <td>NaN</td>\n",
       "      <td>0.836986</td>\n",
       "      <td>0.7571</td>\n",
       "    </tr>\n",
       "    <tr>\n",
       "      <th>simple NN - Stemming</th>\n",
       "      <td>28.503772</td>\n",
       "      <td>NaN</td>\n",
       "      <td>0.836302</td>\n",
       "      <td>0.7580</td>\n",
       "    </tr>\n",
       "  </tbody>\n",
       "</table>\n",
       "</div>"
      ],
      "text/plain": [
       "                                 training_time  predict_time       AUC  \\\n",
       "simple NN - raw text                 28.199898           NaN  0.836207   \n",
       "simple NN - Basic preprocessing      29.217246           NaN  0.836986   \n",
       "simple NN - Stemming                 28.503772           NaN  0.836302   \n",
       "\n",
       "                                 Accuracy  \n",
       "simple NN - raw text               0.7540  \n",
       "simple NN - Basic preprocessing    0.7571  \n",
       "simple NN - Stemming               0.7580  "
      ]
     },
     "execution_count": 279,
     "metadata": {},
     "output_type": "execute_result"
    }
   ],
   "source": [
    "models_performances"
   ]
  },
  {
   "cell_type": "code",
   "execution_count": 280,
   "metadata": {},
   "outputs": [],
   "source": [
    "models_performances.to_pickle('data/models_performances')"
   ]
  },
  {
   "cell_type": "code",
   "execution_count": 281,
   "metadata": {},
   "outputs": [],
   "source": [
    "models_performances = pd.read_pickle('data/models_performances')"
   ]
  },
  {
   "cell_type": "markdown",
   "metadata": {},
   "source": [
    "## Building the embedding matrix ( word / coeff matrix)"
   ]
  },
  {
   "cell_type": "markdown",
   "metadata": {},
   "source": [
    "### Glove embedding"
   ]
  },
  {
   "cell_type": "markdown",
   "metadata": {},
   "source": [
    "Since Glove embedding shows better results, we'll use it from now on"
   ]
  },
  {
   "cell_type": "code",
   "execution_count": 282,
   "metadata": {},
   "outputs": [
    {
     "name": "stdout",
     "output_type": "stream",
     "text": [
      "Found 1193514 word vectors.\n"
     ]
    }
   ],
   "source": [
    "embeddings_index = {}\n",
    "with open(\"D:/Data OC/P7/glove.twitter.27B.50d.txt\",encoding='utf-8') as f:\n",
    "    for line in f:\n",
    "        word, coefs = line.split(maxsplit=1)\n",
    "        coefs = np.fromstring(coefs, \"f\", sep=\" \")\n",
    "        embeddings_index[word] = coefs\n",
    "\n",
    "print(\"Found %s word vectors.\" % len(embeddings_index))"
   ]
  },
  {
   "cell_type": "code",
   "execution_count": 283,
   "metadata": {},
   "outputs": [
    {
     "data": {
      "text/plain": [
       "array([ 3.4952e-01,  6.3531e-01, -2.7482e-01, -5.6774e-01,  2.3838e-01,\n",
       "        4.6456e-01,  4.9520e-01,  1.2078e+00,  6.8083e-01,  1.2944e+00,\n",
       "       -3.1729e-01,  9.3355e-01, -3.6110e+00, -4.2190e-01,  1.3131e-01,\n",
       "        3.1559e-01,  3.1746e-01, -5.9327e-01, -1.0953e+00,  1.2101e-01,\n",
       "       -6.5495e-01,  5.6309e-01, -8.1480e-01,  3.1958e-01, -1.7309e-01,\n",
       "       -3.6612e-01,  2.4165e-01, -9.3716e-01,  7.4686e-02, -4.9986e-01,\n",
       "       -6.8015e-01,  1.0903e+00, -5.8925e-02,  6.2869e-01,  3.2314e-01,\n",
       "        1.8576e-01,  2.3479e-01,  7.7135e-01, -2.5224e-01,  7.4506e-01,\n",
       "       -1.3210e+00,  2.9938e-01,  8.3398e-01,  2.4541e-01, -5.4673e-01,\n",
       "       -8.6595e-06, -2.7880e-01,  2.5472e-02,  4.1780e-01,  2.7636e-02],\n",
       "      dtype=float32)"
      ]
     },
     "execution_count": 283,
     "metadata": {},
     "output_type": "execute_result"
    }
   ],
   "source": [
    "embeddings_index.get('bro')"
   ]
  },
  {
   "cell_type": "markdown",
   "metadata": {},
   "source": [
    "Compute the embedding matrix which can be used in a Keras Embedding layer."
   ]
  },
  {
   "cell_type": "code",
   "execution_count": 284,
   "metadata": {},
   "outputs": [
    {
     "name": "stdout",
     "output_type": "stream",
     "text": [
      "Converted 23138 words (16862 misses)\n"
     ]
    }
   ],
   "source": [
    "num_tokens = len(voc) + 2\n",
    "embedding_dim = 50\n",
    "hits = 0\n",
    "misses = 0\n",
    "misses_word=[]\n",
    "\n",
    "# Prepare embedding matrix\n",
    "embedding_matrix = np.zeros((num_tokens, embedding_dim))\n",
    "for word, i in word_index.items():\n",
    "    embedding_vector = embeddings_index.get(word)\n",
    "    if embedding_vector is not None:\n",
    "        # Words not found in embedding index will be all-zeros.\n",
    "        # This includes the representation for \"padding\" and \"OOV\"\n",
    "        embedding_matrix[i] = embedding_vector\n",
    "        hits += 1\n",
    "    else:\n",
    "        misses += 1\n",
    "        misses_word.append(word)\n",
    "print(\"Converted %d words (%d misses)\" % (hits, misses))"
   ]
  },
  {
   "cell_type": "code",
   "execution_count": 285,
   "metadata": {
    "scrolled": true
   },
   "outputs": [
    {
     "data": {
      "text/plain": [
       "['whyyy',\n",
       " 'wayyy',\n",
       " 'tyresereal',\n",
       " 'twitgoo',\n",
       " 'tireddd',\n",
       " 'thomasfiss',\n",
       " 'thisisrobthomas',\n",
       " 'thedebbyryan',\n",
       " 'shhh',\n",
       " 'rustyrockets',\n",
       " 'rubyrose',\n",
       " 'ohhhhh',\n",
       " 'officialcharice',\n",
       " 'nicksantino',\n",
       " 'nickkkjonasss',\n",
       " 'mrskutcher',\n",
       " 'moonfrye',\n",
       " 'misstattoo',\n",
       " 'mellalicious',\n",
       " 'matthardybrand',\n",
       " 'lucascruikshank',\n",
       " 'lolll',\n",
       " 'lisahopecyrus',\n",
       " 'kimsherrell',\n",
       " 'kevinspacey',\n",
       " 'kalebnation',\n",
       " 'johncmayer',\n",
       " 'jennamadison',\n",
       " 'jasonmanford',\n",
       " 'hummm',\n",
       " 'guykawasaki',\n",
       " 'greggarbo',\n",
       " 'gokey',\n",
       " 'ginoandfran',\n",
       " 'gahhh',\n",
       " 'enamoredsoul',\n",
       " 'davidhenrie',\n",
       " 'collectivesoul',\n",
       " 'chrisdjmoyles',\n",
       " 'buzzedition',\n",
       " 'buckhollywood',\n",
       " 'brodyjenner',\n",
       " 'blahhh',\n",
       " 'babygirlparis',\n",
       " 'arghhh',\n",
       " 'amandapalmer',\n",
       " 'alll',\n",
       " 'zenjar',\n",
       " 'yummmm',\n",
       " 'yummm',\n",
       " 'youuuuu',\n",
       " 'yesssss',\n",
       " 'yessss',\n",
       " 'yayyy',\n",
       " 'wellll',\n",
       " 'veryyy',\n",
       " 'twitteriffic',\n",
       " 'twilightfairy',\n",
       " 'tumblrity',\n",
       " 'trentreznor',\n",
       " 'tonfue',\n",
       " 'ticklemejoey',\n",
       " 'thesupergirl',\n",
       " 'thepistol',\n",
       " 'sooooooooooo',\n",
       " 'snipeyhead',\n",
       " 'simx',\n",
       " 'shaunjumpnow',\n",
       " 'shandrab',\n",
       " 'sethsimonds',\n",
       " 'secondpower',\n",
       " 'sandimon',\n",
       " 'rhettroberts',\n",
       " 'realhughjackman',\n",
       " 'rachmurrayx',\n",
       " 'princesammie',\n",
       " 'pleaseee',\n",
       " 'pcdmelodyt',\n",
       " 'omgggg',\n",
       " 'omggg',\n",
       " 'mussomitchel',\n",
       " 'mrpaulevans',\n",
       " 'missmelbourne',\n",
       " 'meeeee',\n",
       " 'mcflyharry',\n",
       " 'lofnotc',\n",
       " 'littlefletcher',\n",
       " 'ktbeeper',\n",
       " 'krisallenmusic',\n",
       " 'kchenoweth',\n",
       " 'jessicaveronica',\n",
       " 'jessemccartney',\n",
       " 'jellicle',\n",
       " 'jantunstill',\n",
       " 'itxiitx',\n",
       " 'iamjonathancook',\n",
       " 'hooo',\n",
       " 'homeee',\n",
       " 'hiiii',\n",
       " 'heyyyyy']"
      ]
     },
     "execution_count": 285,
     "metadata": {},
     "output_type": "execute_result"
    }
   ],
   "source": [
    "misses_word[100:200]"
   ]
  },
  {
   "cell_type": "code",
   "execution_count": 286,
   "metadata": {},
   "outputs": [],
   "source": [
    "from keras.layers.embeddings import Embedding\n",
    "import keras\n",
    "\n",
    "embedding_layer = Embedding(\n",
    "    num_tokens,\n",
    "    embedding_dim,\n",
    "    embeddings_initializer=keras.initializers.Constant(embedding_matrix),\n",
    "    input_length=tweet_length,\n",
    "    trainable=False,\n",
    ")"
   ]
  },
  {
   "cell_type": "code",
   "execution_count": 287,
   "metadata": {},
   "outputs": [
    {
     "name": "stdout",
     "output_type": "stream",
     "text": [
      "Model: \"sequential_32\"\n",
      "_________________________________________________________________\n",
      "Layer (type)                 Output Shape              Param #   \n",
      "=================================================================\n",
      "embedding_29 (Embedding)     (None, 30, 50)            2000100   \n",
      "_________________________________________________________________\n",
      "flatten_23 (Flatten)         (None, 1500)              0         \n",
      "_________________________________________________________________\n",
      "dense_60 (Dense)             (None, 8)                 12008     \n",
      "_________________________________________________________________\n",
      "dense_61 (Dense)             (None, 1)                 9         \n",
      "=================================================================\n",
      "Total params: 2,012,117\n",
      "Trainable params: 12,017\n",
      "Non-trainable params: 2,000,100\n",
      "_________________________________________________________________\n",
      "None\n"
     ]
    }
   ],
   "source": [
    "model_name = 'simple NN - GLoVe embedding'\n",
    "\n",
    "model = Sequential()\n",
    "\n",
    "model.add(embedding_layer)\n",
    "model.add(Flatten())\n",
    "model.add(Dense(8,activation='relu'))\n",
    "model.add(Dense(1,activation='sigmoid'))\n",
    "model.compile(loss = 'binary_crossentropy', optimizer='adam',metrics = ['accuracy','AUC'])\n",
    "print(model.summary())"
   ]
  },
  {
   "cell_type": "code",
   "execution_count": 288,
   "metadata": {},
   "outputs": [
    {
     "name": "stdout",
     "output_type": "stream",
     "text": [
      "Epoch 1/15\n",
      "40/40 [==============================] - 1s 19ms/step - loss: 0.6721 - accuracy: 0.5944 - auc: 0.6202 - val_loss: 0.6220 - val_accuracy: 0.6609 - val_auc: 0.7175\n",
      "Epoch 2/15\n",
      "40/40 [==============================] - 0s 10ms/step - loss: 0.5961 - accuracy: 0.6813 - auc: 0.7451 - val_loss: 0.5844 - val_accuracy: 0.6914 - val_auc: 0.7587\n",
      "Epoch 3/15\n",
      "40/40 [==============================] - 0s 11ms/step - loss: 0.5648 - accuracy: 0.7089 - auc: 0.7788 - val_loss: 0.5682 - val_accuracy: 0.7036 - val_auc: 0.7761\n",
      "Epoch 4/15\n",
      "40/40 [==============================] - 0s 10ms/step - loss: 0.5481 - accuracy: 0.7206 - auc: 0.7944 - val_loss: 0.5596 - val_accuracy: 0.7102 - val_auc: 0.7838\n",
      "Epoch 5/15\n",
      "40/40 [==============================] - 0s 11ms/step - loss: 0.5379 - accuracy: 0.7289 - auc: 0.8039 - val_loss: 0.5566 - val_accuracy: 0.7125 - val_auc: 0.7868\n",
      "Epoch 6/15\n",
      "40/40 [==============================] - 0s 10ms/step - loss: 0.5298 - accuracy: 0.7327 - auc: 0.8106 - val_loss: 0.5543 - val_accuracy: 0.7166 - val_auc: 0.7890\n",
      "Epoch 7/15\n",
      "40/40 [==============================] - 0s 10ms/step - loss: 0.5244 - accuracy: 0.7366 - auc: 0.8153 - val_loss: 0.5592 - val_accuracy: 0.7126 - val_auc: 0.7889\n",
      "Epoch 8/15\n",
      "40/40 [==============================] - 0s 10ms/step - loss: 0.5204 - accuracy: 0.7394 - auc: 0.8184 - val_loss: 0.5541 - val_accuracy: 0.7170 - val_auc: 0.7896\n",
      "Epoch 9/15\n",
      "40/40 [==============================] - 0s 10ms/step - loss: 0.5148 - accuracy: 0.7429 - auc: 0.8230 - val_loss: 0.5547 - val_accuracy: 0.7164 - val_auc: 0.7895\n",
      "Epoch 10/15\n",
      "40/40 [==============================] - 0s 11ms/step - loss: 0.5108 - accuracy: 0.7459 - auc: 0.8262 - val_loss: 0.5551 - val_accuracy: 0.7159 - val_auc: 0.7892\n",
      "Epoch 11/15\n",
      "40/40 [==============================] - 0s 10ms/step - loss: 0.5080 - accuracy: 0.7474 - auc: 0.8286 - val_loss: 0.5560 - val_accuracy: 0.7134 - val_auc: 0.7888\n",
      "Epoch 12/15\n",
      "40/40 [==============================] - 0s 11ms/step - loss: 0.5053 - accuracy: 0.7488 - auc: 0.8304 - val_loss: 0.5570 - val_accuracy: 0.7141 - val_auc: 0.7890\n",
      "Epoch 13/15\n",
      "40/40 [==============================] - 0s 10ms/step - loss: 0.5018 - accuracy: 0.7531 - auc: 0.8332 - val_loss: 0.5569 - val_accuracy: 0.7126 - val_auc: 0.7882\n",
      "Epoch 14/15\n",
      "40/40 [==============================] - 0s 11ms/step - loss: 0.4989 - accuracy: 0.7519 - auc: 0.8352 - val_loss: 0.5586 - val_accuracy: 0.7130 - val_auc: 0.7879\n",
      "Epoch 15/15\n",
      "40/40 [==============================] - 0s 10ms/step - loss: 0.4959 - accuracy: 0.7548 - auc: 0.8377 - val_loss: 0.5602 - val_accuracy: 0.7104 - val_auc: 0.7876\n"
     ]
    }
   ],
   "source": [
    "start = time.time()\n",
    "hist = model.fit(X_train_vect, y_train, batch_size=1024, epochs=15, validation_data=(X_test_vect, y_test))\n",
    "stop = time.time()"
   ]
  },
  {
   "cell_type": "code",
   "execution_count": 289,
   "metadata": {},
   "outputs": [],
   "source": [
    "models_performances = models_performances.append(\n",
    "    pd.Series(data={'training_time': stop-start,\n",
    "              'AUC': max(hist.history['val_auc']),\n",
    "                    'Accuracy': max(hist.history['val_accuracy'])},\n",
    "              name=model_name)\n",
    ")"
   ]
  },
  {
   "cell_type": "code",
   "execution_count": 290,
   "metadata": {},
   "outputs": [
    {
     "data": {
      "text/html": [
       "<div>\n",
       "<style scoped>\n",
       "    .dataframe tbody tr th:only-of-type {\n",
       "        vertical-align: middle;\n",
       "    }\n",
       "\n",
       "    .dataframe tbody tr th {\n",
       "        vertical-align: top;\n",
       "    }\n",
       "\n",
       "    .dataframe thead th {\n",
       "        text-align: right;\n",
       "    }\n",
       "</style>\n",
       "<table border=\"1\" class=\"dataframe\">\n",
       "  <thead>\n",
       "    <tr style=\"text-align: right;\">\n",
       "      <th></th>\n",
       "      <th>training_time</th>\n",
       "      <th>predict_time</th>\n",
       "      <th>AUC</th>\n",
       "      <th>Accuracy</th>\n",
       "    </tr>\n",
       "  </thead>\n",
       "  <tbody>\n",
       "    <tr>\n",
       "      <th>simple NN - raw text</th>\n",
       "      <td>28.199898</td>\n",
       "      <td>NaN</td>\n",
       "      <td>0.836207</td>\n",
       "      <td>0.7540</td>\n",
       "    </tr>\n",
       "    <tr>\n",
       "      <th>simple NN - Basic preprocessing</th>\n",
       "      <td>29.217246</td>\n",
       "      <td>NaN</td>\n",
       "      <td>0.836986</td>\n",
       "      <td>0.7571</td>\n",
       "    </tr>\n",
       "    <tr>\n",
       "      <th>simple NN - Stemming</th>\n",
       "      <td>28.503772</td>\n",
       "      <td>NaN</td>\n",
       "      <td>0.836302</td>\n",
       "      <td>0.7580</td>\n",
       "    </tr>\n",
       "    <tr>\n",
       "      <th>simple NN - GLoVe embedding</th>\n",
       "      <td>7.534557</td>\n",
       "      <td>NaN</td>\n",
       "      <td>0.789571</td>\n",
       "      <td>0.7170</td>\n",
       "    </tr>\n",
       "  </tbody>\n",
       "</table>\n",
       "</div>"
      ],
      "text/plain": [
       "                                 training_time  predict_time       AUC  \\\n",
       "simple NN - raw text                 28.199898           NaN  0.836207   \n",
       "simple NN - Basic preprocessing      29.217246           NaN  0.836986   \n",
       "simple NN - Stemming                 28.503772           NaN  0.836302   \n",
       "simple NN - GLoVe embedding           7.534557           NaN  0.789571   \n",
       "\n",
       "                                 Accuracy  \n",
       "simple NN - raw text               0.7540  \n",
       "simple NN - Basic preprocessing    0.7571  \n",
       "simple NN - Stemming               0.7580  \n",
       "simple NN - GLoVe embedding        0.7170  "
      ]
     },
     "execution_count": 290,
     "metadata": {},
     "output_type": "execute_result"
    }
   ],
   "source": [
    "models_performances"
   ]
  },
  {
   "cell_type": "markdown",
   "metadata": {},
   "source": [
    "## Recurrent Neural Network"
   ]
  },
  {
   "cell_type": "code",
   "execution_count": 291,
   "metadata": {},
   "outputs": [],
   "source": [
    "from keras.layers import LSTM"
   ]
  },
  {
   "cell_type": "code",
   "execution_count": 292,
   "metadata": {},
   "outputs": [
    {
     "name": "stdout",
     "output_type": "stream",
     "text": [
      "Model: \"sequential_33\"\n",
      "_________________________________________________________________\n",
      "Layer (type)                 Output Shape              Param #   \n",
      "=================================================================\n",
      "embedding_30 (Embedding)     (None, 30, 50)            2000000   \n",
      "_________________________________________________________________\n",
      "lstm_9 (LSTM)                (None, 128)               91648     \n",
      "_________________________________________________________________\n",
      "dense_62 (Dense)             (None, 1)                 129       \n",
      "=================================================================\n",
      "Total params: 2,091,777\n",
      "Trainable params: 2,091,777\n",
      "Non-trainable params: 0\n",
      "_________________________________________________________________\n",
      "None\n"
     ]
    }
   ],
   "source": [
    "model_name = 'LSTM - Own embedding and stem -dp=0.5'\n",
    "\n",
    "lstm_out=128\n",
    "\n",
    "model = Sequential()\n",
    "model.add(Embedding(len(voc),50 ,input_length = tweet_length))\n",
    "model.add(LSTM(lstm_out,dropout=0.5))\n",
    "#model.add(Dense(8,activation='relu'))\n",
    "model.add(Dense(1,activation='sigmoid'))\n",
    "model.compile(loss = 'binary_crossentropy', optimizer='adam',metrics = ['accuracy','AUC'])\n",
    "print(model.summary())"
   ]
  },
  {
   "cell_type": "code",
   "execution_count": 293,
   "metadata": {},
   "outputs": [
    {
     "name": "stdout",
     "output_type": "stream",
     "text": [
      "Epoch 1/15\n",
      "40/40 [==============================] - 23s 566ms/step - loss: 0.6717 - accuracy: 0.5545 - auc: 0.5949 - val_loss: 0.5797 - val_accuracy: 0.7053 - val_auc: 0.7787\n",
      "Epoch 2/15\n",
      "40/40 [==============================] - 23s 564ms/step - loss: 0.5219 - accuracy: 0.7483 - auc: 0.8196 - val_loss: 0.5057 - val_accuracy: 0.7580 - val_auc: 0.8427\n",
      "Epoch 3/15\n",
      "40/40 [==============================] - 23s 571ms/step - loss: 0.4256 - accuracy: 0.8094 - auc: 0.8856 - val_loss: 0.4953 - val_accuracy: 0.7511 - val_auc: 0.8479\n",
      "Epoch 4/15\n",
      "40/40 [==============================] - 23s 578ms/step - loss: 0.3703 - accuracy: 0.8398 - auc: 0.9148 - val_loss: 0.5232 - val_accuracy: 0.7475 - val_auc: 0.8384\n",
      "Epoch 5/15\n",
      "40/40 [==============================] - 23s 577ms/step - loss: 0.3148 - accuracy: 0.8692 - auc: 0.9385 - val_loss: 0.5156 - val_accuracy: 0.7489 - val_auc: 0.8317\n",
      "Epoch 6/15\n",
      "40/40 [==============================] - 22s 558ms/step - loss: 0.2770 - accuracy: 0.8890 - auc: 0.9521 - val_loss: 0.5536 - val_accuracy: 0.7358 - val_auc: 0.8188\n",
      "Epoch 7/15\n",
      "40/40 [==============================] - 22s 562ms/step - loss: 0.2444 - accuracy: 0.9018 - auc: 0.9627 - val_loss: 0.6198 - val_accuracy: 0.7339 - val_auc: 0.8109\n",
      "Epoch 8/15\n",
      "40/40 [==============================] - 22s 561ms/step - loss: 0.2200 - accuracy: 0.9129 - auc: 0.9699 - val_loss: 0.6666 - val_accuracy: 0.7335 - val_auc: 0.8075\n",
      "Epoch 9/15\n",
      "40/40 [==============================] - 23s 566ms/step - loss: 0.2018 - accuracy: 0.9197 - auc: 0.9743 - val_loss: 0.6587 - val_accuracy: 0.7297 - val_auc: 0.8038\n",
      "Epoch 10/15\n",
      "40/40 [==============================] - 23s 569ms/step - loss: 0.1891 - accuracy: 0.9254 - auc: 0.9774 - val_loss: 0.6750 - val_accuracy: 0.7245 - val_auc: 0.7988\n",
      "Epoch 11/15\n",
      "40/40 [==============================] - 22s 561ms/step - loss: 0.1742 - accuracy: 0.9328 - auc: 0.9808 - val_loss: 0.7660 - val_accuracy: 0.7244 - val_auc: 0.7934\n",
      "Epoch 12/15\n",
      "40/40 [==============================] - 23s 573ms/step - loss: 0.1666 - accuracy: 0.9358 - auc: 0.9824 - val_loss: 0.7738 - val_accuracy: 0.7248 - val_auc: 0.7948\n",
      "Epoch 13/15\n",
      "40/40 [==============================] - 23s 579ms/step - loss: 0.1606 - accuracy: 0.9377 - auc: 0.9833 - val_loss: 0.7701 - val_accuracy: 0.7187 - val_auc: 0.7914\n",
      "Epoch 14/15\n",
      "40/40 [==============================] - 23s 567ms/step - loss: 0.1571 - accuracy: 0.9396 - auc: 0.9841 - val_loss: 0.8352 - val_accuracy: 0.7198 - val_auc: 0.7861\n",
      "Epoch 15/15\n",
      "40/40 [==============================] - 23s 564ms/step - loss: 0.1450 - accuracy: 0.9428 - auc: 0.9865 - val_loss: 0.8235 - val_accuracy: 0.7141 - val_auc: 0.7845\n"
     ]
    }
   ],
   "source": [
    "start = time.time()\n",
    "hist = model.fit(X_train_vect, y_train, batch_size=1024, epochs=15, validation_data=(X_test_vect, y_test))\n",
    "stop = time.time()"
   ]
  },
  {
   "cell_type": "code",
   "execution_count": 294,
   "metadata": {},
   "outputs": [],
   "source": [
    "models_performances = models_performances.append(\n",
    "    pd.Series(data={'training_time': stop-start,\n",
    "              'AUC': max(hist.history['val_auc']),\n",
    "                    'Accuracy': max(hist.history['val_accuracy'])},\n",
    "              name=model_name)\n",
    ")"
   ]
  },
  {
   "cell_type": "code",
   "execution_count": 295,
   "metadata": {},
   "outputs": [
    {
     "data": {
      "text/html": [
       "<div>\n",
       "<style scoped>\n",
       "    .dataframe tbody tr th:only-of-type {\n",
       "        vertical-align: middle;\n",
       "    }\n",
       "\n",
       "    .dataframe tbody tr th {\n",
       "        vertical-align: top;\n",
       "    }\n",
       "\n",
       "    .dataframe thead th {\n",
       "        text-align: right;\n",
       "    }\n",
       "</style>\n",
       "<table border=\"1\" class=\"dataframe\">\n",
       "  <thead>\n",
       "    <tr style=\"text-align: right;\">\n",
       "      <th></th>\n",
       "      <th>training_time</th>\n",
       "      <th>predict_time</th>\n",
       "      <th>AUC</th>\n",
       "      <th>Accuracy</th>\n",
       "    </tr>\n",
       "  </thead>\n",
       "  <tbody>\n",
       "    <tr>\n",
       "      <th>simple NN - raw text</th>\n",
       "      <td>28.199898</td>\n",
       "      <td>NaN</td>\n",
       "      <td>0.836207</td>\n",
       "      <td>0.7540</td>\n",
       "    </tr>\n",
       "    <tr>\n",
       "      <th>simple NN - Basic preprocessing</th>\n",
       "      <td>29.217246</td>\n",
       "      <td>NaN</td>\n",
       "      <td>0.836986</td>\n",
       "      <td>0.7571</td>\n",
       "    </tr>\n",
       "    <tr>\n",
       "      <th>simple NN - Stemming</th>\n",
       "      <td>28.503772</td>\n",
       "      <td>NaN</td>\n",
       "      <td>0.836302</td>\n",
       "      <td>0.7580</td>\n",
       "    </tr>\n",
       "    <tr>\n",
       "      <th>simple NN - GLoVe embedding</th>\n",
       "      <td>7.534557</td>\n",
       "      <td>NaN</td>\n",
       "      <td>0.789571</td>\n",
       "      <td>0.7170</td>\n",
       "    </tr>\n",
       "    <tr>\n",
       "      <th>LSTM - Own embedding and stem -dp=0.5</th>\n",
       "      <td>351.181513</td>\n",
       "      <td>NaN</td>\n",
       "      <td>0.847916</td>\n",
       "      <td>0.7580</td>\n",
       "    </tr>\n",
       "  </tbody>\n",
       "</table>\n",
       "</div>"
      ],
      "text/plain": [
       "                                       training_time  predict_time       AUC  \\\n",
       "simple NN - raw text                       28.199898           NaN  0.836207   \n",
       "simple NN - Basic preprocessing            29.217246           NaN  0.836986   \n",
       "simple NN - Stemming                       28.503772           NaN  0.836302   \n",
       "simple NN - GLoVe embedding                 7.534557           NaN  0.789571   \n",
       "LSTM - Own embedding and stem -dp=0.5     351.181513           NaN  0.847916   \n",
       "\n",
       "                                       Accuracy  \n",
       "simple NN - raw text                     0.7540  \n",
       "simple NN - Basic preprocessing          0.7571  \n",
       "simple NN - Stemming                     0.7580  \n",
       "simple NN - GLoVe embedding              0.7170  \n",
       "LSTM - Own embedding and stem -dp=0.5    0.7580  "
      ]
     },
     "execution_count": 295,
     "metadata": {},
     "output_type": "execute_result"
    }
   ],
   "source": [
    "models_performances"
   ]
  },
  {
   "cell_type": "markdown",
   "metadata": {},
   "source": [
    "### With GLoVe embedding"
   ]
  },
  {
   "cell_type": "code",
   "execution_count": 305,
   "metadata": {},
   "outputs": [
    {
     "name": "stdout",
     "output_type": "stream",
     "text": [
      "Model: \"sequential_36\"\n",
      "_________________________________________________________________\n",
      "Layer (type)                 Output Shape              Param #   \n",
      "=================================================================\n",
      "embedding_29 (Embedding)     (None, 30, 50)            2000100   \n",
      "_________________________________________________________________\n",
      "lstm_12 (LSTM)               (None, 128)               91648     \n",
      "_________________________________________________________________\n",
      "dense_65 (Dense)             (None, 1)                 129       \n",
      "=================================================================\n",
      "Total params: 2,091,877\n",
      "Trainable params: 91,777\n",
      "Non-trainable params: 2,000,100\n",
      "_________________________________________________________________\n",
      "None\n"
     ]
    }
   ],
   "source": [
    "model_name = 'LSTM - GLoVe embedding'\n",
    "\n",
    "lstm_out=128\n",
    "\n",
    "model = Sequential()\n",
    "#model.add(Embedding(len(voc),50 ,input_length = tweet_length))\n",
    "model.add(embedding_layer)\n",
    "model.add(LSTM(lstm_out,dropout=0.5))\n",
    "#model.add(Dense(8,activation='relu'))\n",
    "model.add(Dense(1,activation='sigmoid'))\n",
    "model.compile(loss = 'binary_crossentropy', optimizer='adam',metrics = ['accuracy','AUC'])\n",
    "print(model.summary())"
   ]
  },
  {
   "cell_type": "code",
   "execution_count": 306,
   "metadata": {},
   "outputs": [
    {
     "name": "stdout",
     "output_type": "stream",
     "text": [
      "Epoch 1/30\n",
      "40/40 [==============================] - 18s 446ms/step - loss: 0.6406 - accuracy: 0.6206 - auc: 0.6793 - val_loss: 0.5664 - val_accuracy: 0.7085 - val_auc: 0.7799\n",
      "Epoch 2/30\n",
      "40/40 [==============================] - 17s 425ms/step - loss: 0.5972 - accuracy: 0.6757 - auc: 0.7426 - val_loss: 0.5596 - val_accuracy: 0.7096 - val_auc: 0.7886\n",
      "Epoch 3/30\n",
      "40/40 [==============================] - 18s 456ms/step - loss: 0.5927 - accuracy: 0.6787 - auc: 0.7475 - val_loss: 0.5523 - val_accuracy: 0.7153 - val_auc: 0.7941\n",
      "Epoch 4/30\n",
      "40/40 [==============================] - 18s 446ms/step - loss: 0.5814 - accuracy: 0.6919 - auc: 0.7593 - val_loss: 0.5536 - val_accuracy: 0.7223 - val_auc: 0.8003\n",
      "Epoch 5/30\n",
      "40/40 [==============================] - 18s 445ms/step - loss: 0.5804 - accuracy: 0.6921 - auc: 0.7614 - val_loss: 0.5376 - val_accuracy: 0.7286 - val_auc: 0.8061\n",
      "Epoch 6/30\n",
      "40/40 [==============================] - 18s 444ms/step - loss: 0.5767 - accuracy: 0.6950 - auc: 0.7646 - val_loss: 0.5651 - val_accuracy: 0.7060 - val_auc: 0.8077\n",
      "Epoch 7/30\n",
      "40/40 [==============================] - 18s 444ms/step - loss: 0.5728 - accuracy: 0.6963 - auc: 0.7687 - val_loss: 0.5277 - val_accuracy: 0.7385 - val_auc: 0.8146\n",
      "Epoch 8/30\n",
      "40/40 [==============================] - 18s 445ms/step - loss: 0.5608 - accuracy: 0.7062 - auc: 0.7802 - val_loss: 0.5250 - val_accuracy: 0.7399 - val_auc: 0.8226\n",
      "Epoch 9/30\n",
      "40/40 [==============================] - 18s 454ms/step - loss: 0.5598 - accuracy: 0.7052 - auc: 0.7810 - val_loss: 0.5645 - val_accuracy: 0.6930 - val_auc: 0.8197\n",
      "Epoch 10/30\n",
      "40/40 [==============================] - 18s 461ms/step - loss: 0.5618 - accuracy: 0.7036 - auc: 0.7794 - val_loss: 0.5230 - val_accuracy: 0.7417 - val_auc: 0.8200\n",
      "Epoch 11/30\n",
      "40/40 [==============================] - 18s 458ms/step - loss: 0.5624 - accuracy: 0.7096 - auc: 0.7808 - val_loss: 0.5110 - val_accuracy: 0.7469 - val_auc: 0.8267\n",
      "Epoch 12/30\n",
      "40/40 [==============================] - 18s 458ms/step - loss: 0.5548 - accuracy: 0.7107 - auc: 0.7864 - val_loss: 0.5178 - val_accuracy: 0.7423 - val_auc: 0.8274\n",
      "Epoch 13/30\n",
      "40/40 [==============================] - 18s 462ms/step - loss: 0.5506 - accuracy: 0.7151 - auc: 0.7903 - val_loss: 0.5153 - val_accuracy: 0.7411 - val_auc: 0.8318\n",
      "Epoch 14/30\n",
      "40/40 [==============================] - 19s 471ms/step - loss: 0.5502 - accuracy: 0.7153 - auc: 0.7905 - val_loss: 0.5098 - val_accuracy: 0.7452 - val_auc: 0.8300\n",
      "Epoch 15/30\n",
      "40/40 [==============================] - 19s 476ms/step - loss: 0.5506 - accuracy: 0.7171 - auc: 0.7916 - val_loss: 0.5064 - val_accuracy: 0.7524 - val_auc: 0.8344\n",
      "Epoch 16/30\n",
      "40/40 [==============================] - 19s 469ms/step - loss: 0.5485 - accuracy: 0.7179 - auc: 0.7937 - val_loss: 0.5020 - val_accuracy: 0.7514 - val_auc: 0.8360\n",
      "Epoch 17/30\n",
      "40/40 [==============================] - 21s 527ms/step - loss: 0.5451 - accuracy: 0.7184 - auc: 0.7961 - val_loss: 0.5082 - val_accuracy: 0.7549 - val_auc: 0.8366\n",
      "Epoch 18/30\n",
      "40/40 [==============================] - 20s 503ms/step - loss: 0.5489 - accuracy: 0.7163 - auc: 0.7926 - val_loss: 0.4982 - val_accuracy: 0.7576 - val_auc: 0.8379\n",
      "Epoch 19/30\n",
      "40/40 [==============================] - 20s 495ms/step - loss: 0.5406 - accuracy: 0.7206 - auc: 0.7994 - val_loss: 0.5263 - val_accuracy: 0.7295 - val_auc: 0.8360\n",
      "Epoch 20/30\n",
      "40/40 [==============================] - 20s 498ms/step - loss: 0.5374 - accuracy: 0.7232 - auc: 0.8025 - val_loss: 0.4999 - val_accuracy: 0.7547 - val_auc: 0.8387\n",
      "Epoch 21/30\n",
      "40/40 [==============================] - 19s 487ms/step - loss: 0.5400 - accuracy: 0.7222 - auc: 0.8003 - val_loss: 0.5047 - val_accuracy: 0.7467 - val_auc: 0.8387\n",
      "Epoch 22/30\n",
      "40/40 [==============================] - 20s 507ms/step - loss: 0.5390 - accuracy: 0.7223 - auc: 0.8013 - val_loss: 0.4968 - val_accuracy: 0.7587 - val_auc: 0.8402\n",
      "Epoch 23/30\n",
      "40/40 [==============================] - 19s 487ms/step - loss: 0.5373 - accuracy: 0.7242 - auc: 0.8032 - val_loss: 0.5098 - val_accuracy: 0.7499 - val_auc: 0.8407\n",
      "Epoch 24/30\n",
      "40/40 [==============================] - 19s 470ms/step - loss: 0.5337 - accuracy: 0.7246 - auc: 0.8055 - val_loss: 0.4891 - val_accuracy: 0.7641 - val_auc: 0.8449\n",
      "Epoch 25/30\n",
      "40/40 [==============================] - 19s 473ms/step - loss: 0.5344 - accuracy: 0.7267 - auc: 0.8053 - val_loss: 0.4977 - val_accuracy: 0.7632 - val_auc: 0.8414\n",
      "Epoch 26/30\n",
      "40/40 [==============================] - 19s 486ms/step - loss: 0.5318 - accuracy: 0.7291 - auc: 0.8080 - val_loss: 0.4881 - val_accuracy: 0.7635 - val_auc: 0.8442\n",
      "Epoch 27/30\n",
      "40/40 [==============================] - 22s 555ms/step - loss: 0.5335 - accuracy: 0.7289 - auc: 0.8065 - val_loss: 0.4895 - val_accuracy: 0.7642 - val_auc: 0.8442\n",
      "Epoch 28/30\n",
      "40/40 [==============================] - 19s 487ms/step - loss: 0.5304 - accuracy: 0.7285 - auc: 0.8087 - val_loss: 0.4993 - val_accuracy: 0.7561 - val_auc: 0.8427\n",
      "Epoch 29/30\n",
      "40/40 [==============================] - 21s 514ms/step - loss: 0.5337 - accuracy: 0.7275 - auc: 0.8063 - val_loss: 0.4988 - val_accuracy: 0.7581 - val_auc: 0.8476\n",
      "Epoch 30/30\n",
      "40/40 [==============================] - 21s 527ms/step - loss: 0.5332 - accuracy: 0.7263 - auc: 0.8062 - val_loss: 0.4870 - val_accuracy: 0.7631 - val_auc: 0.8451\n"
     ]
    }
   ],
   "source": [
    "start = time.time()\n",
    "hist = model.fit(X_train_vect, y_train, batch_size=1024, epochs=30, validation_data=(X_test_vect, y_test))\n",
    "stop = time.time()"
   ]
  },
  {
   "cell_type": "code",
   "execution_count": 298,
   "metadata": {},
   "outputs": [],
   "source": [
    "models_performances = models_performances.append(\n",
    "    pd.Series(data={'training_time': stop-start,\n",
    "              'AUC': max(hist.history['val_auc']),\n",
    "                    'Accuracy': max(hist.history['val_accuracy'])},\n",
    "              name=model_name)\n",
    ")"
   ]
  },
  {
   "cell_type": "markdown",
   "metadata": {},
   "source": [
    "## Bi directional LSTM"
   ]
  },
  {
   "cell_type": "code",
   "execution_count": 299,
   "metadata": {},
   "outputs": [],
   "source": [
    "from keras.layers import Bidirectional"
   ]
  },
  {
   "cell_type": "code",
   "execution_count": 300,
   "metadata": {},
   "outputs": [
    {
     "name": "stdout",
     "output_type": "stream",
     "text": [
      "Model: \"sequential_35\"\n",
      "_________________________________________________________________\n",
      "Layer (type)                 Output Shape              Param #   \n",
      "=================================================================\n",
      "embedding_29 (Embedding)     (None, 30, 50)            2000100   \n",
      "_________________________________________________________________\n",
      "bidirectional_1 (Bidirection (None, 256)               183296    \n",
      "_________________________________________________________________\n",
      "dense_64 (Dense)             (None, 1)                 257       \n",
      "=================================================================\n",
      "Total params: 2,183,653\n",
      "Trainable params: 183,553\n",
      "Non-trainable params: 2,000,100\n",
      "_________________________________________________________________\n",
      "None\n"
     ]
    }
   ],
   "source": [
    "model_name = 'biLSTM - GLoVe embedding'\n",
    "\n",
    "lstm_out=128\n",
    "\n",
    "model = Sequential()\n",
    "#model.add(Embedding(len(voc),50 ,input_length = tweet_length))\n",
    "model.add(embedding_layer)\n",
    "model.add(Bidirectional(LSTM(lstm_out,dropout=0.5)))\n",
    "#model.add(Dense(8,activation='relu'))\n",
    "model.add(Dense(1,activation='sigmoid'))\n",
    "model.compile(loss = 'binary_crossentropy', optimizer='adam',metrics = ['accuracy','AUC'])\n",
    "print(model.summary())"
   ]
  },
  {
   "cell_type": "code",
   "execution_count": 301,
   "metadata": {},
   "outputs": [
    {
     "name": "stdout",
     "output_type": "stream",
     "text": [
      "Epoch 1/15\n",
      "40/40 [==============================] - 39s 984ms/step - loss: 0.6251 - accuracy: 0.6465 - auc: 0.7048 - val_loss: 0.5914 - val_accuracy: 0.6881 - val_auc: 0.7816\n",
      "Epoch 2/15\n",
      "40/40 [==============================] - 39s 978ms/step - loss: 0.5791 - accuracy: 0.6941 - auc: 0.7629 - val_loss: 0.5520 - val_accuracy: 0.7195 - val_auc: 0.7975\n",
      "Epoch 3/15\n",
      "40/40 [==============================] - 39s 986ms/step - loss: 0.5739 - accuracy: 0.6991 - auc: 0.7681 - val_loss: 0.5428 - val_accuracy: 0.7266 - val_auc: 0.8035\n",
      "Epoch 4/15\n",
      "40/40 [==============================] - 40s 993ms/step - loss: 0.5653 - accuracy: 0.7028 - auc: 0.7771 - val_loss: 0.5527 - val_accuracy: 0.7169 - val_auc: 0.8039\n",
      "Epoch 5/15\n",
      "40/40 [==============================] - 41s 1s/step - loss: 0.5624 - accuracy: 0.7065 - auc: 0.7792 - val_loss: 0.5357 - val_accuracy: 0.7251 - val_auc: 0.8110\n",
      "Epoch 6/15\n",
      "40/40 [==============================] - 40s 1s/step - loss: 0.5574 - accuracy: 0.7093 - auc: 0.7840 - val_loss: 0.5572 - val_accuracy: 0.7065 - val_auc: 0.8157\n",
      "Epoch 7/15\n",
      "40/40 [==============================] - 40s 1s/step - loss: 0.5590 - accuracy: 0.7070 - auc: 0.7827 - val_loss: 0.5267 - val_accuracy: 0.7369 - val_auc: 0.8174\n",
      "Epoch 8/15\n",
      "40/40 [==============================] - 40s 1s/step - loss: 0.5442 - accuracy: 0.7185 - auc: 0.7959 - val_loss: 0.5190 - val_accuracy: 0.7403 - val_auc: 0.8221\n",
      "Epoch 9/15\n",
      "40/40 [==============================] - 41s 1s/step - loss: 0.5441 - accuracy: 0.7191 - auc: 0.7963 - val_loss: 0.5076 - val_accuracy: 0.7456 - val_auc: 0.8295\n",
      "Epoch 10/15\n",
      "40/40 [==============================] - 43s 1s/step - loss: 0.5409 - accuracy: 0.7206 - auc: 0.7990 - val_loss: 0.5064 - val_accuracy: 0.7491 - val_auc: 0.8299\n",
      "Epoch 11/15\n",
      "40/40 [==============================] - 43s 1s/step - loss: 0.5347 - accuracy: 0.7271 - auc: 0.8056 - val_loss: 0.5010 - val_accuracy: 0.7527 - val_auc: 0.8340\n",
      "Epoch 12/15\n",
      "40/40 [==============================] - 43s 1s/step - loss: 0.5330 - accuracy: 0.7275 - auc: 0.8065 - val_loss: 0.5027 - val_accuracy: 0.7539 - val_auc: 0.8359\n",
      "Epoch 13/15\n",
      "40/40 [==============================] - 41s 1s/step - loss: 0.5269 - accuracy: 0.7308 - auc: 0.8118 - val_loss: 0.4945 - val_accuracy: 0.7605 - val_auc: 0.8392\n",
      "Epoch 14/15\n",
      "40/40 [==============================] - 40s 1s/step - loss: 0.5239 - accuracy: 0.7351 - auc: 0.8146 - val_loss: 0.5160 - val_accuracy: 0.7384 - val_auc: 0.8371\n",
      "Epoch 15/15\n",
      "40/40 [==============================] - 41s 1s/step - loss: 0.5242 - accuracy: 0.7330 - auc: 0.8139 - val_loss: 0.5177 - val_accuracy: 0.7363 - val_auc: 0.8407\n"
     ]
    }
   ],
   "source": [
    "start = time.time()\n",
    "hist = model.fit(X_train_vect, y_train, batch_size=1024, epochs=15, validation_data=(X_test_vect, y_test))\n",
    "stop = time.time()"
   ]
  },
  {
   "cell_type": "code",
   "execution_count": 302,
   "metadata": {},
   "outputs": [],
   "source": [
    "models_performances = models_performances.append(\n",
    "    pd.Series(data={'training_time': stop-start,\n",
    "              'AUC': max(hist.history['val_auc']),\n",
    "                    'Accuracy': max(hist.history['val_accuracy'])},\n",
    "              name=model_name)\n",
    ")"
   ]
  },
  {
   "cell_type": "code",
   "execution_count": 303,
   "metadata": {},
   "outputs": [
    {
     "data": {
      "text/html": [
       "<div>\n",
       "<style scoped>\n",
       "    .dataframe tbody tr th:only-of-type {\n",
       "        vertical-align: middle;\n",
       "    }\n",
       "\n",
       "    .dataframe tbody tr th {\n",
       "        vertical-align: top;\n",
       "    }\n",
       "\n",
       "    .dataframe thead th {\n",
       "        text-align: right;\n",
       "    }\n",
       "</style>\n",
       "<table border=\"1\" class=\"dataframe\">\n",
       "  <thead>\n",
       "    <tr style=\"text-align: right;\">\n",
       "      <th></th>\n",
       "      <th>training_time</th>\n",
       "      <th>predict_time</th>\n",
       "      <th>AUC</th>\n",
       "      <th>Accuracy</th>\n",
       "    </tr>\n",
       "  </thead>\n",
       "  <tbody>\n",
       "    <tr>\n",
       "      <th>simple NN - raw text</th>\n",
       "      <td>28.199898</td>\n",
       "      <td>NaN</td>\n",
       "      <td>0.836207</td>\n",
       "      <td>0.7540</td>\n",
       "    </tr>\n",
       "    <tr>\n",
       "      <th>simple NN - Basic preprocessing</th>\n",
       "      <td>29.217246</td>\n",
       "      <td>NaN</td>\n",
       "      <td>0.836986</td>\n",
       "      <td>0.7571</td>\n",
       "    </tr>\n",
       "    <tr>\n",
       "      <th>simple NN - Stemming</th>\n",
       "      <td>28.503772</td>\n",
       "      <td>NaN</td>\n",
       "      <td>0.836302</td>\n",
       "      <td>0.7580</td>\n",
       "    </tr>\n",
       "    <tr>\n",
       "      <th>simple NN - GLoVe embedding</th>\n",
       "      <td>7.534557</td>\n",
       "      <td>NaN</td>\n",
       "      <td>0.789571</td>\n",
       "      <td>0.7170</td>\n",
       "    </tr>\n",
       "    <tr>\n",
       "      <th>LSTM - Own embedding and stem -dp=0.5</th>\n",
       "      <td>351.181513</td>\n",
       "      <td>NaN</td>\n",
       "      <td>0.847916</td>\n",
       "      <td>0.7580</td>\n",
       "    </tr>\n",
       "    <tr>\n",
       "      <th>LSTM - GLoVe embedding</th>\n",
       "      <td>315.666649</td>\n",
       "      <td>NaN</td>\n",
       "      <td>0.830517</td>\n",
       "      <td>0.7467</td>\n",
       "    </tr>\n",
       "    <tr>\n",
       "      <th>biLSTM - GLoVe embedding</th>\n",
       "      <td>628.626900</td>\n",
       "      <td>NaN</td>\n",
       "      <td>0.840677</td>\n",
       "      <td>0.7605</td>\n",
       "    </tr>\n",
       "  </tbody>\n",
       "</table>\n",
       "</div>"
      ],
      "text/plain": [
       "                                       training_time  predict_time       AUC  \\\n",
       "simple NN - raw text                       28.199898           NaN  0.836207   \n",
       "simple NN - Basic preprocessing            29.217246           NaN  0.836986   \n",
       "simple NN - Stemming                       28.503772           NaN  0.836302   \n",
       "simple NN - GLoVe embedding                 7.534557           NaN  0.789571   \n",
       "LSTM - Own embedding and stem -dp=0.5     351.181513           NaN  0.847916   \n",
       "LSTM - GLoVe embedding                    315.666649           NaN  0.830517   \n",
       "biLSTM - GLoVe embedding                  628.626900           NaN  0.840677   \n",
       "\n",
       "                                       Accuracy  \n",
       "simple NN - raw text                     0.7540  \n",
       "simple NN - Basic preprocessing          0.7571  \n",
       "simple NN - Stemming                     0.7580  \n",
       "simple NN - GLoVe embedding              0.7170  \n",
       "LSTM - Own embedding and stem -dp=0.5    0.7580  \n",
       "LSTM - GLoVe embedding                   0.7467  \n",
       "biLSTM - GLoVe embedding                 0.7605  "
      ]
     },
     "execution_count": 303,
     "metadata": {},
     "output_type": "execute_result"
    }
   ],
   "source": [
    "models_performances"
   ]
  },
  {
   "cell_type": "code",
   "execution_count": 304,
   "metadata": {},
   "outputs": [
    {
     "data": {
      "text/plain": [
       "[]"
      ]
     },
     "execution_count": 304,
     "metadata": {},
     "output_type": "execute_result"
    },
    {
     "data": {
      "image/png": "[encoded data removed]",
      "text/plain": [
       "<Figure size 432x288 with 1 Axes>"
      ]
     },
     "metadata": {},
     "output_type": "display_data"
    }
   ],
   "source": [
    "import seaborn as sns\n",
    "import matplotlib.pyplot as plt\n",
    "%matplotlib inline\n",
    "\n",
    "sns.set()\n",
    "acc = hist.history['accuracy']\n",
    "val = hist.history['val_accuracy']\n",
    "epochs = range(1, len(acc) + 1)\n",
    "\n",
    "plt.plot(epochs, acc, '-', label='Training accuracy')\n",
    "plt.plot(epochs, val, ':', label='Validation accuracy')\n",
    "plt.title('Training and Validation Accuracy')\n",
    "plt.xlabel('Epoch')\n",
    "plt.ylabel('Accuracy')\n",
    "plt.legend(loc='upper left')\n",
    "plt.plot()"
   ]
  },
  {
   "cell_type": "code",
   "execution_count": null,
   "metadata": {},
   "outputs": [],
   "source": []
  }
 ],
 "metadata": {
  "kernelspec": {
   "display_name": "Python 3",
   "language": "python",
   "name": "python3"
  },
  "language_info": {
   "codemirror_mode": {
    "name": "ipython",
    "version": 3
   },
   "file_extension": ".py",
   "mimetype": "text/x-python",
   "name": "python",
   "nbconvert_exporter": "python",
   "pygments_lexer": "ipython3",
   "version": "3.8.8"
  },
  "notify_time": "10",
  "toc": {
   "base_numbering": 1,
   "nav_menu": {},
   "number_sections": true,
   "sideBar": true,
   "skip_h1_title": false,
   "title_cell": "Table of Contents",
   "title_sidebar": "Contents",
   "toc_cell": false,
   "toc_position": {
    "height": "calc(100% - 180px)",
    "left": "10px",
    "top": "150px",
    "width": "285px"
   },
   "toc_section_display": true,
   "toc_window_display": true
  },
  "varInspector": {
   "cols": {
    "lenName": 16,
    "lenType": 16,
    "lenVar": 40
   },
   "kernels_config": {
    "python": {
     "delete_cmd_postfix": "",
     "delete_cmd_prefix": "del ",
     "library": "var_list.py",
     "varRefreshCmd": "print(var_dic_list())"
    },
    "r": {
     "delete_cmd_postfix": ") ",
     "delete_cmd_prefix": "rm(",
     "library": "var_list.r",
     "varRefreshCmd": "cat(var_dic_list()) "
    }
   },
   "position": {
    "height": "408.767px",
    "left": "1625px",
    "right": "20px",
    "top": "120px",
    "width": "275px"
   },
   "types_to_exclude": [
    "module",
    "function",
    "builtin_function_or_method",
    "instance",
    "_Feature"
   ],
   "window_display": false
  }
 },
 "nbformat": 4,
 "nbformat_minor": 4
}
