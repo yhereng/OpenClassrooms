{
 "cells": [
  {
   "cell_type": "code",
   "execution_count": 2,
   "id": "e3c619d4",
   "metadata": {},
   "outputs": [],
   "source": [
    "import requests"
   ]
  },
  {
   "cell_type": "code",
   "execution_count": 3,
   "id": "1dc2d516",
   "metadata": {},
   "outputs": [],
   "source": [
    "from dotenv import load_dotenv\n",
    "import os"
   ]
  },
  {
   "cell_type": "markdown",
   "id": "854610c3",
   "metadata": {},
   "source": [
    "# Load environment variable"
   ]
  },
  {
   "cell_type": "code",
   "execution_count": 4,
   "id": "e5962494",
   "metadata": {},
   "outputs": [],
   "source": [
    "load_dotenv()\n",
    "\n",
    "key_var_name = \"MODEL_ENDPOINT\"\n",
    "if not key_var_name in os.environ:\n",
    "  raise Exception('Could not find your endpoint in .env file')\n",
    "uri=os.getenv(key_var_name)\n"
   ]
  },
  {
   "cell_type": "markdown",
   "id": "5bc5e042",
   "metadata": {},
   "source": [
    "# Functions"
   ]
  },
  {
   "cell_type": "code",
   "execution_count": 5,
   "id": "bd5ae15d",
   "metadata": {},
   "outputs": [],
   "source": [
    "def get_response(texts,uri):\n",
    "    #make the texts as json\n",
    "    request=build_json(texts)\n",
    "    headers = {'Content-Type': 'application/json'}\n",
    "    response = requests.post(uri, request,headers=headers)\n",
    "    return response"
   ]
  },
  {
   "cell_type": "code",
   "execution_count": 6,
   "id": "2ab4428e",
   "metadata": {},
   "outputs": [],
   "source": [
    "def build_json(texts):\n",
    "    '''texts mut be of format [string]'''\n",
    "    i=1\n",
    "    dict_text={}\n",
    "    for text in texts:\n",
    "        dict_text[i]=text\n",
    "        i+=1\n",
    "    return json.dumps({\"text\":dict_text})"
   ]
  },
  {
   "cell_type": "code",
   "execution_count": 7,
   "id": "258f9eba",
   "metadata": {},
   "outputs": [],
   "source": [
    "def show_response(texts,uri):\n",
    "    response=get_response(texts,uri)\n",
    "    for text,pred in zip(texts,get_response(texts,uri).json()):        \n",
    "        print(f'{text}--->{pred}')\n",
    "    "
   ]
  },
  {
   "cell_type": "code",
   "execution_count": 8,
   "id": "5c55eebb",
   "metadata": {},
   "outputs": [],
   "source": [
    "texts=[\"lot of love\",\"love you mom\",\"I hate you guys\"]"
   ]
  },
  {
   "cell_type": "code",
   "execution_count": 9,
   "id": "e8805efe",
   "metadata": {},
   "outputs": [
    {
     "name": "stdout",
     "output_type": "stream",
     "text": [
      "lot of love--->[0.8921286463737488]\n",
      "love you mom--->[0.9433186054229736]\n",
      "I hate you guys--->[0.02920299768447876]\n"
     ]
    }
   ],
   "source": [
    "show_response(texts,uri)"
   ]
  },
  {
   "cell_type": "markdown",
   "id": "ec468082",
   "metadata": {},
   "source": [
    "# Web interface"
   ]
  },
  {
   "cell_type": "code",
   "execution_count": null,
   "id": "02db702c",
   "metadata": {},
   "outputs": [],
   "source": [
    "!streamlit run web_interface_st.py"
   ]
  },
  {
   "cell_type": "code",
   "execution_count": 11,
   "id": "2a597121",
   "metadata": {},
   "outputs": [],
   "source": [
    "from azureml.core import Workspace, Dataset\n",
    "\n",
    "subscription_id = 'your_subscription_ID'\n",
    "resource_group = 'OC-P7'\n",
    "workspace_name = 'P7_ML'\n",
    "\n",
    "workspace = Workspace(subscription_id, resource_group, workspace_name)\n",
    "\n",
    "dataset = Dataset.get_by_name(workspace, name='tweets_common')\n",
    "data = dataset.to_pandas_dataframe()"
   ]
  },
  {
   "cell_type": "markdown",
   "id": "ff09119e",
   "metadata": {},
   "source": [
    "# performance on common dataset\n"
   ]
  },
  {
   "cell_type": "code",
   "execution_count": 12,
   "id": "368cc0fe",
   "metadata": {},
   "outputs": [],
   "source": [
    "def multiple_response(texts,uri):\n",
    "    preds=[]\n",
    "    for text in texts:\n",
    "        try:\n",
    "            pred = get_response([text],uri).json()\n",
    "            \n",
    "        except ValueError:\n",
    "            pred=[[np.nan]]\n",
    "            \n",
    "        preds.append(pred)\n",
    "    \n",
    "    return preds\n",
    "        \n",
    "        "
   ]
  },
  {
   "cell_type": "code",
   "execution_count": 16,
   "id": "64a19828",
   "metadata": {},
   "outputs": [],
   "source": [
    "import numpy as np"
   ]
  },
  {
   "cell_type": "code",
   "execution_count": 17,
   "id": "857ccf84",
   "metadata": {},
   "outputs": [],
   "source": [
    "preds = multiple_response(data['text'].values,uri)"
   ]
  },
  {
   "cell_type": "code",
   "execution_count": 18,
   "id": "89a46d97",
   "metadata": {},
   "outputs": [],
   "source": [
    "data['pred'] = list(np.array(preds).squeeze())"
   ]
  },
  {
   "cell_type": "code",
   "execution_count": 19,
   "id": "83abbeaf",
   "metadata": {},
   "outputs": [],
   "source": [
    "data['pred_bin']=[1 if data.loc[i,'pred']>=0.5 else 0 for i in data.index]"
   ]
  },
  {
   "cell_type": "code",
   "execution_count": 21,
   "id": "c68df961",
   "metadata": {},
   "outputs": [],
   "source": [
    "data_clean = data.dropna()"
   ]
  },
  {
   "cell_type": "code",
   "execution_count": 23,
   "id": "f876bb29",
   "metadata": {},
   "outputs": [
    {
     "data": {
      "text/html": [
       "<div>\n",
       "<style scoped>\n",
       "    .dataframe tbody tr th:only-of-type {\n",
       "        vertical-align: middle;\n",
       "    }\n",
       "\n",
       "    .dataframe tbody tr th {\n",
       "        vertical-align: top;\n",
       "    }\n",
       "\n",
       "    .dataframe thead th {\n",
       "        text-align: right;\n",
       "    }\n",
       "</style>\n",
       "<table border=\"1\" class=\"dataframe\">\n",
       "  <thead>\n",
       "    <tr style=\"text-align: right;\">\n",
       "      <th></th>\n",
       "      <th>Column1</th>\n",
       "      <th>target</th>\n",
       "      <th>text</th>\n",
       "      <th>pred</th>\n",
       "      <th>pred_bin</th>\n",
       "    </tr>\n",
       "  </thead>\n",
       "  <tbody>\n",
       "    <tr>\n",
       "      <th>0</th>\n",
       "      <td>1516037</td>\n",
       "      <td>1</td>\n",
       "      <td>Wow, its later than I feel, better wrap up ano...</td>\n",
       "      <td>0.698310</td>\n",
       "      <td>1</td>\n",
       "    </tr>\n",
       "    <tr>\n",
       "      <th>1</th>\n",
       "      <td>589923</td>\n",
       "      <td>0</td>\n",
       "      <td>@lemonissimo I think the reason I twitted so m...</td>\n",
       "      <td>0.423505</td>\n",
       "      <td>0</td>\n",
       "    </tr>\n",
       "    <tr>\n",
       "      <th>2</th>\n",
       "      <td>213819</td>\n",
       "      <td>0</td>\n",
       "      <td>@GericaQuinn ahhhhh! dude u suck! lmao. jk! bu...</td>\n",
       "      <td>0.618300</td>\n",
       "      <td>1</td>\n",
       "    </tr>\n",
       "    <tr>\n",
       "      <th>3</th>\n",
       "      <td>10047</td>\n",
       "      <td>0</td>\n",
       "      <td>...aaaand there goes that great day  RIP Mrs W...</td>\n",
       "      <td>0.221471</td>\n",
       "      <td>0</td>\n",
       "    </tr>\n",
       "    <tr>\n",
       "      <th>4</th>\n",
       "      <td>1330460</td>\n",
       "      <td>1</td>\n",
       "      <td>another morning joe free morning ahhhh ... sun...</td>\n",
       "      <td>0.913709</td>\n",
       "      <td>1</td>\n",
       "    </tr>\n",
       "    <tr>\n",
       "      <th>...</th>\n",
       "      <td>...</td>\n",
       "      <td>...</td>\n",
       "      <td>...</td>\n",
       "      <td>...</td>\n",
       "      <td>...</td>\n",
       "    </tr>\n",
       "    <tr>\n",
       "      <th>1595</th>\n",
       "      <td>622620</td>\n",
       "      <td>0</td>\n",
       "      <td>Damn packing trumps Xsport</td>\n",
       "      <td>0.041511</td>\n",
       "      <td>0</td>\n",
       "    </tr>\n",
       "    <tr>\n",
       "      <th>1596</th>\n",
       "      <td>232219</td>\n",
       "      <td>0</td>\n",
       "      <td>bout 2 call it a NIGHT... madd TIRED..gotta he...</td>\n",
       "      <td>0.196376</td>\n",
       "      <td>0</td>\n",
       "    </tr>\n",
       "    <tr>\n",
       "      <th>1597</th>\n",
       "      <td>1368574</td>\n",
       "      <td>1</td>\n",
       "      <td>@IneffableNothin I love Pandora, but I am real...</td>\n",
       "      <td>0.553902</td>\n",
       "      <td>1</td>\n",
       "    </tr>\n",
       "    <tr>\n",
       "      <th>1598</th>\n",
       "      <td>441029</td>\n",
       "      <td>0</td>\n",
       "      <td>@simoncurtis wish i could</td>\n",
       "      <td>0.034489</td>\n",
       "      <td>0</td>\n",
       "    </tr>\n",
       "    <tr>\n",
       "      <th>1599</th>\n",
       "      <td>1393237</td>\n",
       "      <td>1</td>\n",
       "      <td>@GulcinG Hala  in arabic.</td>\n",
       "      <td>0.527766</td>\n",
       "      <td>1</td>\n",
       "    </tr>\n",
       "  </tbody>\n",
       "</table>\n",
       "<p>1529 rows × 5 columns</p>\n",
       "</div>"
      ],
      "text/plain": [
       "      Column1  target                                               text  \\\n",
       "0     1516037       1  Wow, its later than I feel, better wrap up ano...   \n",
       "1      589923       0  @lemonissimo I think the reason I twitted so m...   \n",
       "2      213819       0  @GericaQuinn ahhhhh! dude u suck! lmao. jk! bu...   \n",
       "3       10047       0  ...aaaand there goes that great day  RIP Mrs W...   \n",
       "4     1330460       1  another morning joe free morning ahhhh ... sun...   \n",
       "...       ...     ...                                                ...   \n",
       "1595   622620       0                        Damn packing trumps Xsport    \n",
       "1596   232219       0  bout 2 call it a NIGHT... madd TIRED..gotta he...   \n",
       "1597  1368574       1  @IneffableNothin I love Pandora, but I am real...   \n",
       "1598   441029       0                         @simoncurtis wish i could    \n",
       "1599  1393237       1                          @GulcinG Hala  in arabic.   \n",
       "\n",
       "          pred  pred_bin  \n",
       "0     0.698310         1  \n",
       "1     0.423505         0  \n",
       "2     0.618300         1  \n",
       "3     0.221471         0  \n",
       "4     0.913709         1  \n",
       "...        ...       ...  \n",
       "1595  0.041511         0  \n",
       "1596  0.196376         0  \n",
       "1597  0.553902         1  \n",
       "1598  0.034489         0  \n",
       "1599  0.527766         1  \n",
       "\n",
       "[1529 rows x 5 columns]"
      ]
     },
     "execution_count": 23,
     "metadata": {},
     "output_type": "execute_result"
    }
   ],
   "source": [
    "data_clean"
   ]
  },
  {
   "cell_type": "markdown",
   "id": "c1ec6bb0",
   "metadata": {},
   "source": [
    "## Confusion matrix"
   ]
  },
  {
   "cell_type": "code",
   "execution_count": 24,
   "id": "2d111f39",
   "metadata": {},
   "outputs": [],
   "source": [
    "from sklearn.metrics import confusion_matrix"
   ]
  },
  {
   "cell_type": "code",
   "execution_count": 25,
   "id": "95627f8c",
   "metadata": {},
   "outputs": [
    {
     "data": {
      "text/plain": [
       "array([[608, 172],\n",
       "       [151, 598]], dtype=int64)"
      ]
     },
     "execution_count": 25,
     "metadata": {},
     "output_type": "execute_result"
    }
   ],
   "source": [
    "confusion_matrix(data_clean['target'],data_clean['pred_bin'])"
   ]
  },
  {
   "cell_type": "markdown",
   "id": "f42ef0e3",
   "metadata": {},
   "source": [
    "## Error analysis (False Positive)"
   ]
  },
  {
   "cell_type": "code",
   "execution_count": 27,
   "id": "c387a037",
   "metadata": {},
   "outputs": [],
   "source": [
    "data_fp = data_clean[(data_clean.target==0) & (data_clean.pred_bin==1)]"
   ]
  },
  {
   "cell_type": "code",
   "execution_count": 210,
   "id": "c3a54618",
   "metadata": {},
   "outputs": [
    {
     "data": {
      "text/html": [
       "<div>\n",
       "<style scoped>\n",
       "    .dataframe tbody tr th:only-of-type {\n",
       "        vertical-align: middle;\n",
       "    }\n",
       "\n",
       "    .dataframe tbody tr th {\n",
       "        vertical-align: top;\n",
       "    }\n",
       "\n",
       "    .dataframe thead th {\n",
       "        text-align: right;\n",
       "    }\n",
       "</style>\n",
       "<table border=\"1\" class=\"dataframe\">\n",
       "  <thead>\n",
       "    <tr style=\"text-align: right;\">\n",
       "      <th></th>\n",
       "      <th>Column1</th>\n",
       "      <th>target</th>\n",
       "      <th>pred</th>\n",
       "      <th>pred_bin</th>\n",
       "    </tr>\n",
       "  </thead>\n",
       "  <tbody>\n",
       "    <tr>\n",
       "      <th>count</th>\n",
       "      <td>143.000000</td>\n",
       "      <td>143.0</td>\n",
       "      <td>143.000000</td>\n",
       "      <td>143.0</td>\n",
       "    </tr>\n",
       "    <tr>\n",
       "      <th>mean</th>\n",
       "      <td>380886.132867</td>\n",
       "      <td>0.0</td>\n",
       "      <td>0.702013</td>\n",
       "      <td>1.0</td>\n",
       "    </tr>\n",
       "    <tr>\n",
       "      <th>std</th>\n",
       "      <td>223907.752977</td>\n",
       "      <td>0.0</td>\n",
       "      <td>0.128907</td>\n",
       "      <td>0.0</td>\n",
       "    </tr>\n",
       "    <tr>\n",
       "      <th>min</th>\n",
       "      <td>7767.000000</td>\n",
       "      <td>0.0</td>\n",
       "      <td>0.504429</td>\n",
       "      <td>1.0</td>\n",
       "    </tr>\n",
       "    <tr>\n",
       "      <th>25%</th>\n",
       "      <td>197434.500000</td>\n",
       "      <td>0.0</td>\n",
       "      <td>0.598127</td>\n",
       "      <td>1.0</td>\n",
       "    </tr>\n",
       "    <tr>\n",
       "      <th>50%</th>\n",
       "      <td>404004.000000</td>\n",
       "      <td>0.0</td>\n",
       "      <td>0.687112</td>\n",
       "      <td>1.0</td>\n",
       "    </tr>\n",
       "    <tr>\n",
       "      <th>75%</th>\n",
       "      <td>566146.000000</td>\n",
       "      <td>0.0</td>\n",
       "      <td>0.798584</td>\n",
       "      <td>1.0</td>\n",
       "    </tr>\n",
       "    <tr>\n",
       "      <th>max</th>\n",
       "      <td>797757.000000</td>\n",
       "      <td>0.0</td>\n",
       "      <td>0.979371</td>\n",
       "      <td>1.0</td>\n",
       "    </tr>\n",
       "  </tbody>\n",
       "</table>\n",
       "</div>"
      ],
      "text/plain": [
       "             Column1  target        pred  pred_bin\n",
       "count     143.000000   143.0  143.000000     143.0\n",
       "mean   380886.132867     0.0    0.702013       1.0\n",
       "std    223907.752977     0.0    0.128907       0.0\n",
       "min      7767.000000     0.0    0.504429       1.0\n",
       "25%    197434.500000     0.0    0.598127       1.0\n",
       "50%    404004.000000     0.0    0.687112       1.0\n",
       "75%    566146.000000     0.0    0.798584       1.0\n",
       "max    797757.000000     0.0    0.979371       1.0"
      ]
     },
     "execution_count": 210,
     "metadata": {},
     "output_type": "execute_result"
    }
   ],
   "source": [
    "data_fp.describe()"
   ]
  },
  {
   "cell_type": "code",
   "execution_count": 215,
   "id": "6dde069e",
   "metadata": {},
   "outputs": [],
   "source": [
    "data_fp['text'].to_csv('false_positive.csv')"
   ]
  },
  {
   "cell_type": "code",
   "execution_count": 26,
   "id": "bad8b4d3",
   "metadata": {},
   "outputs": [
    {
     "ename": "NameError",
     "evalue": "name 'data_fp' is not defined",
     "output_type": "error",
     "traceback": [
      "\u001b[1;31m---------------------------------------------------------------------------\u001b[0m",
      "\u001b[1;31mNameError\u001b[0m                                 Traceback (most recent call last)",
      "\u001b[1;32m<ipython-input-26-c1046193f7f3>\u001b[0m in \u001b[0;36m<module>\u001b[1;34m\u001b[0m\n\u001b[1;32m----> 1\u001b[1;33m \u001b[0mdata_fp\u001b[0m\u001b[1;33m[\u001b[0m\u001b[1;34m'text'\u001b[0m\u001b[1;33m]\u001b[0m\u001b[1;33m.\u001b[0m\u001b[0miloc\u001b[0m\u001b[1;33m[\u001b[0m\u001b[1;36m0\u001b[0m\u001b[1;33m]\u001b[0m\u001b[1;33m\u001b[0m\u001b[1;33m\u001b[0m\u001b[0m\n\u001b[0m",
      "\u001b[1;31mNameError\u001b[0m: name 'data_fp' is not defined"
     ]
    }
   ],
   "source": [
    "data_fp['text'].iloc[0]"
   ]
  },
  {
   "cell_type": "code",
   "execution_count": 28,
   "id": "8c180f30",
   "metadata": {},
   "outputs": [
    {
     "data": {
      "text/plain": [
       "\" that's all i have to say\""
      ]
     },
     "execution_count": 28,
     "metadata": {},
     "output_type": "execute_result"
    }
   ],
   "source": [
    "data_fp['text'].iloc[1]"
   ]
  },
  {
   "cell_type": "code",
   "execution_count": 29,
   "id": "9fb3f64a",
   "metadata": {},
   "outputs": [
    {
     "data": {
      "text/plain": [
       "'@shell2323 Be on my recent @replies and me know you, *laughs* I would have put you, but I forgotted. '"
      ]
     },
     "execution_count": 29,
     "metadata": {},
     "output_type": "execute_result"
    }
   ],
   "source": [
    "data_fp['text'].iloc[2]"
   ]
  },
  {
   "cell_type": "code",
   "execution_count": 30,
   "id": "4c946533",
   "metadata": {},
   "outputs": [
    {
     "data": {
      "text/plain": [
       "\"it`s all just a short dream. never see that comimg. it turned my smile  :'(\""
      ]
     },
     "execution_count": 30,
     "metadata": {},
     "output_type": "execute_result"
    }
   ],
   "source": [
    "data_fp['text'].iloc[3]"
   ]
  },
  {
   "cell_type": "code",
   "execution_count": 31,
   "id": "b63d7985",
   "metadata": {},
   "outputs": [
    {
     "data": {
      "text/plain": [
       "\"@lindslou10  Yeah I'm special sometimes. AND I agree, it is way to early to be up on a Saturday morning.  \""
      ]
     },
     "execution_count": 31,
     "metadata": {},
     "output_type": "execute_result"
    }
   ],
   "source": [
    "data_fp['text'].iloc[4]"
   ]
  },
  {
   "cell_type": "code",
   "execution_count": 32,
   "id": "9de6590e",
   "metadata": {},
   "outputs": [
    {
     "data": {
      "text/plain": [
       "'Ayoo my tooth is hurtin twitter!!!!  need liqz 2 make it better ;)'"
      ]
     },
     "execution_count": 32,
     "metadata": {},
     "output_type": "execute_result"
    }
   ],
   "source": [
    "data_fp['text'].iloc[5]"
   ]
  },
  {
   "cell_type": "code",
   "execution_count": 33,
   "id": "87e6b469",
   "metadata": {},
   "outputs": [
    {
     "data": {
      "text/plain": [
       "'I think dinner might be nearly ready '"
      ]
     },
     "execution_count": 33,
     "metadata": {},
     "output_type": "execute_result"
    }
   ],
   "source": [
    "data_fp['text'].iloc[6]"
   ]
  },
  {
   "cell_type": "code",
   "execution_count": 34,
   "id": "6c49d05e",
   "metadata": {},
   "outputs": [
    {
     "data": {
      "text/plain": [
       "'@taebunny In like 2 weeks  All of it is coming from China'"
      ]
     },
     "execution_count": 34,
     "metadata": {},
     "output_type": "execute_result"
    }
   ],
   "source": [
    "data_fp['text'].iloc[7]"
   ]
  },
  {
   "cell_type": "code",
   "execution_count": 35,
   "id": "031b2473",
   "metadata": {},
   "outputs": [
    {
     "data": {
      "text/plain": [
       "\"@Galvinatwindows Thanks Fred but I won't be able to make it today. Too much work on  Have fun!\""
      ]
     },
     "execution_count": 35,
     "metadata": {},
     "output_type": "execute_result"
    }
   ],
   "source": [
    "data_fp['text'].iloc[8]"
   ]
  },
  {
   "cell_type": "code",
   "execution_count": 36,
   "id": "fcee3d0f",
   "metadata": {},
   "outputs": [
    {
     "data": {
      "text/plain": [
       "'@stolenrain I thought I did reply though   Your birthday message?'"
      ]
     },
     "execution_count": 36,
     "metadata": {},
     "output_type": "execute_result"
    }
   ],
   "source": [
    "data_fp['text'].iloc[9]"
   ]
  },
  {
   "cell_type": "code",
   "execution_count": 37,
   "id": "37620d25",
   "metadata": {},
   "outputs": [
    {
     "data": {
      "text/plain": [
       "'Bout to deck my orientee. '"
      ]
     },
     "execution_count": 37,
     "metadata": {},
     "output_type": "execute_result"
    }
   ],
   "source": [
    "data_fp['text'].iloc[10]"
   ]
  },
  {
   "cell_type": "code",
   "execution_count": 38,
   "id": "d19cd4c0",
   "metadata": {},
   "outputs": [
    {
     "data": {
      "text/plain": [
       "'miley and demi please reply '"
      ]
     },
     "execution_count": 38,
     "metadata": {},
     "output_type": "execute_result"
    }
   ],
   "source": [
    "data_fp['text'].iloc[11]"
   ]
  },
  {
   "cell_type": "code",
   "execution_count": 39,
   "id": "28944e27",
   "metadata": {},
   "outputs": [
    {
     "data": {
      "text/plain": [
       "'Finds twitter really wierd, nowhere near as good as facebook '"
      ]
     },
     "execution_count": 39,
     "metadata": {},
     "output_type": "execute_result"
    }
   ],
   "source": [
    "data_fp['text'].iloc[12]"
   ]
  },
  {
   "cell_type": "code",
   "execution_count": 40,
   "id": "ed98d53c",
   "metadata": {},
   "outputs": [
    {
     "data": {
      "text/plain": [
       "'@zyber17 yeah '"
      ]
     },
     "execution_count": 40,
     "metadata": {},
     "output_type": "execute_result"
    }
   ],
   "source": [
    "data_fp['text'].iloc[13]"
   ]
  }
 ],
 "metadata": {
  "kernelspec": {
   "display_name": "Python 3",
   "language": "python",
   "name": "python3"
  },
  "language_info": {
   "codemirror_mode": {
    "name": "ipython",
    "version": 3
   },
   "file_extension": ".py",
   "mimetype": "text/x-python",
   "name": "python",
   "nbconvert_exporter": "python",
   "pygments_lexer": "ipython3",
   "version": "3.8.8"
  },
  "toc": {
   "base_numbering": 1,
   "nav_menu": {},
   "number_sections": true,
   "sideBar": true,
   "skip_h1_title": false,
   "title_cell": "Table of Contents",
   "title_sidebar": "Contents",
   "toc_cell": false,
   "toc_position": {},
   "toc_section_display": true,
   "toc_window_display": false
  }
 },
 "nbformat": 4,
 "nbformat_minor": 5
}
