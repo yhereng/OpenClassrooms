{
 "cells": [
  {
   "cell_type": "code",
   "execution_count": 1,
   "id": "internal-activation",
   "metadata": {},
   "outputs": [],
   "source": [
    "import os, requests, uuid, json\n",
    "from azure.ai.textanalytics import TextAnalyticsClient\n",
    "from azure.core.credentials import AzureKeyCredential\n",
    "from dotenv import load_dotenv\n",
    "import pandas as pd\n",
    "from sklearn.metrics import accuracy_score"
   ]
  },
  {
   "cell_type": "markdown",
   "id": "f11a2f1a",
   "metadata": {},
   "source": [
    "# Environement variables"
   ]
  },
  {
   "cell_type": "code",
   "execution_count": 2,
   "id": "endangered-marina",
   "metadata": {},
   "outputs": [],
   "source": [
    "# load Variable from .env file to local environment\n",
    "load_dotenv() \n",
    "\n",
    "# Check if the environment variables exist\n",
    "key_var_name = \"CS_KEY\"\n",
    "if not key_var_name in os.environ:\n",
    "  raise Exception('Could not find your API key in the .env file')\n",
    "secret_key=os.getenv(key_var_name)\n",
    "\n",
    "endpoint_var_name ='CS_ENDPOINT'\n",
    "if not endpoint_var_name in os.environ:\n",
    "    raise Exception('Could not find the endpoint API address in the .env file')\n",
    "endpoint = os.getenv(endpoint_var_name)\n"
   ]
  },
  {
   "cell_type": "markdown",
   "id": "16ced56f",
   "metadata": {},
   "source": [
    "# Authenticate"
   ]
  },
  {
   "cell_type": "code",
   "execution_count": 3,
   "id": "affiliated-spencer",
   "metadata": {},
   "outputs": [],
   "source": [
    "def authenticate_client():\n",
    "    ta_credential = AzureKeyCredential(secret_key)\n",
    "    text_analytics_client = TextAnalyticsClient(\n",
    "            endpoint=endpoint, \n",
    "            credential=ta_credential)\n",
    "    return text_analytics_client\n",
    "\n",
    "client = authenticate_client()"
   ]
  },
  {
   "cell_type": "markdown",
   "id": "d07970e9",
   "metadata": {},
   "source": [
    "# Query prediction"
   ]
  },
  {
   "cell_type": "code",
   "execution_count": 27,
   "id": "49c5f749",
   "metadata": {},
   "outputs": [],
   "source": [
    "def sentiment_analysis(client,documents):\n",
    "   \n",
    "    response = client.analyze_sentiment(documents=documents)[0]\n",
    "    pos = response.confidence_scores.positive\n",
    "    neut = response.confidence_scores.neutral\n",
    "    neg = response.confidence_scores.negative\n",
    "    \n",
    "    return [pos,neut,neg]\n",
    "   "
   ]
  },
  {
   "cell_type": "markdown",
   "id": "49ceb157",
   "metadata": {},
   "source": [
    "# Apply to common dataset"
   ]
  },
  {
   "cell_type": "code",
   "execution_count": 1,
   "id": "f8df8993",
   "metadata": {},
   "outputs": [
    {
     "ename": "NameError",
     "evalue": "name 'pd' is not defined",
     "output_type": "error",
     "traceback": [
      "\u001b[1;31m---------------------------------------------------------------------------\u001b[0m",
      "\u001b[1;31mNameError\u001b[0m                                 Traceback (most recent call last)",
      "\u001b[1;32m<ipython-input-1-43284db2aa64>\u001b[0m in \u001b[0;36m<module>\u001b[1;34m\u001b[0m\n\u001b[0;32m      1\u001b[0m \u001b[1;31m# Load Dataset\u001b[0m\u001b[1;33m\u001b[0m\u001b[1;33m\u001b[0m\u001b[1;33m\u001b[0m\u001b[0m\n\u001b[1;32m----> 2\u001b[1;33m \u001b[0mdata\u001b[0m\u001b[1;33m=\u001b[0m\u001b[0mpd\u001b[0m\u001b[1;33m.\u001b[0m\u001b[0mread_csv\u001b[0m\u001b[1;33m(\u001b[0m\u001b[1;34m'data/data_common.csv'\u001b[0m\u001b[1;33m,\u001b[0m\u001b[0mheader\u001b[0m\u001b[1;33m=\u001b[0m\u001b[1;32mNone\u001b[0m\u001b[1;33m,\u001b[0m\u001b[0mnames\u001b[0m\u001b[1;33m=\u001b[0m\u001b[1;33m[\u001b[0m\u001b[1;34m'target'\u001b[0m\u001b[1;33m,\u001b[0m\u001b[1;34m'text'\u001b[0m\u001b[1;33m]\u001b[0m\u001b[1;33m)\u001b[0m\u001b[1;33m\u001b[0m\u001b[1;33m\u001b[0m\u001b[0m\n\u001b[0m",
      "\u001b[1;31mNameError\u001b[0m: name 'pd' is not defined"
     ]
    }
   ],
   "source": [
    "# Load Dataset\n",
    "data=pd.read_csv('data/data_common.csv',header=None,names=['target','text'])"
   ]
  },
  {
   "cell_type": "code",
   "execution_count": 59,
   "id": "947c508f",
   "metadata": {},
   "outputs": [],
   "source": [
    "# Query prediction\n",
    "data['pred']=[sentiment_analysis(client,[sentence]) for sentence in data['text']]"
   ]
  },
  {
   "cell_type": "code",
   "execution_count": 61,
   "id": "ea856999",
   "metadata": {},
   "outputs": [],
   "source": [
    "\n",
    "data.loc[:,'pos'] = data.pred.map(lambda x: x[0])\n",
    "data.loc[:,'neut'] = data.pred.map(lambda x: x[1])\n",
    "data.loc[:,'neg'] = data.pred.map(lambda x: x[2])"
   ]
  },
  {
   "cell_type": "code",
   "execution_count": 62,
   "id": "2c3f437b",
   "metadata": {},
   "outputs": [],
   "source": [
    "# Make prediction binary\n",
    "data['pred_bin']=[1 if data.loc[i,'pos']>data.loc[i,'neg'] else 0 for i in data.index]"
   ]
  },
  {
   "cell_type": "code",
   "execution_count": 65,
   "id": "c6130f27",
   "metadata": {},
   "outputs": [],
   "source": [
    "data.to_pickle('data/data_API')"
   ]
  },
  {
   "cell_type": "code",
   "execution_count": 4,
   "id": "410411bc",
   "metadata": {},
   "outputs": [
    {
     "data": {
      "text/plain": [
       "0.716875"
      ]
     },
     "execution_count": 4,
     "metadata": {},
     "output_type": "execute_result"
    }
   ],
   "source": [
    "accuracy_score(data['target'],data['pred_bin'])"
   ]
  },
  {
   "cell_type": "code",
   "execution_count": 2,
   "id": "e2363acb",
   "metadata": {},
   "outputs": [],
   "source": [
    "data=pd.read_pickle('data/data_API')"
   ]
  },
  {
   "cell_type": "code",
   "execution_count": 3,
   "id": "cadbc571",
   "metadata": {},
   "outputs": [
    {
     "data": {
      "text/html": [
       "<div>\n",
       "<style scoped>\n",
       "    .dataframe tbody tr th:only-of-type {\n",
       "        vertical-align: middle;\n",
       "    }\n",
       "\n",
       "    .dataframe tbody tr th {\n",
       "        vertical-align: top;\n",
       "    }\n",
       "\n",
       "    .dataframe thead th {\n",
       "        text-align: right;\n",
       "    }\n",
       "</style>\n",
       "<table border=\"1\" class=\"dataframe\">\n",
       "  <thead>\n",
       "    <tr style=\"text-align: right;\">\n",
       "      <th></th>\n",
       "      <th>target</th>\n",
       "      <th>text</th>\n",
       "      <th>pred</th>\n",
       "      <th>pos</th>\n",
       "      <th>neut</th>\n",
       "      <th>neg</th>\n",
       "      <th>pred_bin</th>\n",
       "    </tr>\n",
       "  </thead>\n",
       "  <tbody>\n",
       "    <tr>\n",
       "      <th>0</th>\n",
       "      <td>1</td>\n",
       "      <td>Wow, its later than I feel, better wrap up ano...</td>\n",
       "      <td>[1.0, 0.0, 0.0]</td>\n",
       "      <td>1.00</td>\n",
       "      <td>0.00</td>\n",
       "      <td>0.00</td>\n",
       "      <td>1</td>\n",
       "    </tr>\n",
       "    <tr>\n",
       "      <th>1</th>\n",
       "      <td>0</td>\n",
       "      <td>@lemonissimo I think the reason I twitted so m...</td>\n",
       "      <td>[0.03, 0.95, 0.02]</td>\n",
       "      <td>0.03</td>\n",
       "      <td>0.95</td>\n",
       "      <td>0.02</td>\n",
       "      <td>1</td>\n",
       "    </tr>\n",
       "    <tr>\n",
       "      <th>2</th>\n",
       "      <td>0</td>\n",
       "      <td>@GericaQuinn ahhhhh! dude u suck! lmao. jk! bu...</td>\n",
       "      <td>[0.63, 0.14, 0.23]</td>\n",
       "      <td>0.63</td>\n",
       "      <td>0.14</td>\n",
       "      <td>0.23</td>\n",
       "      <td>1</td>\n",
       "    </tr>\n",
       "    <tr>\n",
       "      <th>3</th>\n",
       "      <td>0</td>\n",
       "      <td>...aaaand there goes that great day  RIP Mrs W...</td>\n",
       "      <td>[0.96, 0.01, 0.03]</td>\n",
       "      <td>0.96</td>\n",
       "      <td>0.01</td>\n",
       "      <td>0.03</td>\n",
       "      <td>1</td>\n",
       "    </tr>\n",
       "    <tr>\n",
       "      <th>4</th>\n",
       "      <td>1</td>\n",
       "      <td>another morning joe free morning ahhhh ... sun...</td>\n",
       "      <td>[1.0, 0.0, 0.0]</td>\n",
       "      <td>1.00</td>\n",
       "      <td>0.00</td>\n",
       "      <td>0.00</td>\n",
       "      <td>1</td>\n",
       "    </tr>\n",
       "    <tr>\n",
       "      <th>...</th>\n",
       "      <td>...</td>\n",
       "      <td>...</td>\n",
       "      <td>...</td>\n",
       "      <td>...</td>\n",
       "      <td>...</td>\n",
       "      <td>...</td>\n",
       "      <td>...</td>\n",
       "    </tr>\n",
       "    <tr>\n",
       "      <th>1595</th>\n",
       "      <td>0</td>\n",
       "      <td>Damn packing trumps Xsport</td>\n",
       "      <td>[0.03, 0.08, 0.89]</td>\n",
       "      <td>0.03</td>\n",
       "      <td>0.08</td>\n",
       "      <td>0.89</td>\n",
       "      <td>0</td>\n",
       "    </tr>\n",
       "    <tr>\n",
       "      <th>1596</th>\n",
       "      <td>0</td>\n",
       "      <td>bout 2 call it a NIGHT... madd TIRED..gotta he...</td>\n",
       "      <td>[0.01, 0.01, 0.98]</td>\n",
       "      <td>0.01</td>\n",
       "      <td>0.01</td>\n",
       "      <td>0.98</td>\n",
       "      <td>0</td>\n",
       "    </tr>\n",
       "    <tr>\n",
       "      <th>1597</th>\n",
       "      <td>1</td>\n",
       "      <td>@IneffableNothin I love Pandora, but I am real...</td>\n",
       "      <td>[0.88, 0.0, 0.12]</td>\n",
       "      <td>0.88</td>\n",
       "      <td>0.00</td>\n",
       "      <td>0.12</td>\n",
       "      <td>1</td>\n",
       "    </tr>\n",
       "    <tr>\n",
       "      <th>1598</th>\n",
       "      <td>0</td>\n",
       "      <td>@simoncurtis wish i could</td>\n",
       "      <td>[0.33, 0.63, 0.04]</td>\n",
       "      <td>0.33</td>\n",
       "      <td>0.63</td>\n",
       "      <td>0.04</td>\n",
       "      <td>1</td>\n",
       "    </tr>\n",
       "    <tr>\n",
       "      <th>1599</th>\n",
       "      <td>1</td>\n",
       "      <td>@GulcinG Hala  in arabic.</td>\n",
       "      <td>[0.01, 0.98, 0.01]</td>\n",
       "      <td>0.01</td>\n",
       "      <td>0.98</td>\n",
       "      <td>0.01</td>\n",
       "      <td>0</td>\n",
       "    </tr>\n",
       "  </tbody>\n",
       "</table>\n",
       "<p>1600 rows × 7 columns</p>\n",
       "</div>"
      ],
      "text/plain": [
       "      target                                               text  \\\n",
       "0          1  Wow, its later than I feel, better wrap up ano...   \n",
       "1          0  @lemonissimo I think the reason I twitted so m...   \n",
       "2          0  @GericaQuinn ahhhhh! dude u suck! lmao. jk! bu...   \n",
       "3          0  ...aaaand there goes that great day  RIP Mrs W...   \n",
       "4          1  another morning joe free morning ahhhh ... sun...   \n",
       "...      ...                                                ...   \n",
       "1595       0                        Damn packing trumps Xsport    \n",
       "1596       0  bout 2 call it a NIGHT... madd TIRED..gotta he...   \n",
       "1597       1  @IneffableNothin I love Pandora, but I am real...   \n",
       "1598       0                         @simoncurtis wish i could    \n",
       "1599       1                          @GulcinG Hala  in arabic.   \n",
       "\n",
       "                    pred   pos  neut   neg  pred_bin  \n",
       "0        [1.0, 0.0, 0.0]  1.00  0.00  0.00         1  \n",
       "1     [0.03, 0.95, 0.02]  0.03  0.95  0.02         1  \n",
       "2     [0.63, 0.14, 0.23]  0.63  0.14  0.23         1  \n",
       "3     [0.96, 0.01, 0.03]  0.96  0.01  0.03         1  \n",
       "4        [1.0, 0.0, 0.0]  1.00  0.00  0.00         1  \n",
       "...                  ...   ...   ...   ...       ...  \n",
       "1595  [0.03, 0.08, 0.89]  0.03  0.08  0.89         0  \n",
       "1596  [0.01, 0.01, 0.98]  0.01  0.01  0.98         0  \n",
       "1597   [0.88, 0.0, 0.12]  0.88  0.00  0.12         1  \n",
       "1598  [0.33, 0.63, 0.04]  0.33  0.63  0.04         1  \n",
       "1599  [0.01, 0.98, 0.01]  0.01  0.98  0.01         0  \n",
       "\n",
       "[1600 rows x 7 columns]"
      ]
     },
     "execution_count": 3,
     "metadata": {},
     "output_type": "execute_result"
    }
   ],
   "source": [
    "data"
   ]
  },
  {
   "cell_type": "code",
   "execution_count": null,
   "id": "f66996b7",
   "metadata": {},
   "outputs": [],
   "source": []
  }
 ],
 "metadata": {
  "kernelspec": {
   "display_name": "Python 3",
   "language": "python",
   "name": "python3"
  },
  "language_info": {
   "codemirror_mode": {
    "name": "ipython",
    "version": 3
   },
   "file_extension": ".py",
   "mimetype": "text/x-python",
   "name": "python",
   "nbconvert_exporter": "python",
   "pygments_lexer": "ipython3",
   "version": "3.8.8"
  },
  "toc": {
   "base_numbering": 1,
   "nav_menu": {},
   "number_sections": true,
   "sideBar": true,
   "skip_h1_title": false,
   "title_cell": "Table of Contents",
   "title_sidebar": "Contents",
   "toc_cell": false,
   "toc_position": {},
   "toc_section_display": true,
   "toc_window_display": false
  }
 },
 "nbformat": 4,
 "nbformat_minor": 5
}
